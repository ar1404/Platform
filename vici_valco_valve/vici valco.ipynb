{
 "cells": [
  {
   "cell_type": "code",
   "execution_count": 1,
   "id": "9172c80a-ab97-4870-af29-bddfa60864ff",
   "metadata": {},
   "outputs": [],
   "source": [
    "import serial"
   ]
  },
  {
   "cell_type": "code",
   "execution_count": 2,
   "id": "6d6941e8-cb7d-48b8-86ab-c2f7ca3131b4",
   "metadata": {},
   "outputs": [],
   "source": [
    "from equip_class import ViciValco"
   ]
  },
  {
   "cell_type": "code",
   "execution_count": 3,
   "id": "73f5663e-539d-4c86-aa13-8b2fce8cba00",
   "metadata": {},
   "outputs": [],
   "source": [
    "#Defining ser\n",
    "ser_1 = serial.Serial()"
   ]
  },
  {
   "cell_type": "code",
   "execution_count": 4,
   "id": "a920e936-8116-43bc-87c0-07945d867260",
   "metadata": {},
   "outputs": [],
   "source": [
    "# Create an instance of the gsioc_Protocol class\n",
    "pump = ViciValco(ser_1)"
   ]
  },
  {
   "cell_type": "code",
   "execution_count": 5,
   "id": "33136c5b-00a2-472f-acbd-c4e5c8edb2f9",
   "metadata": {},
   "outputs": [
    {
     "name": "stdout",
     "output_type": "stream",
     "text": [
      "Device is connected\n"
     ]
    }
   ],
   "source": [
    "pump.connect()"
   ]
  },
  {
   "cell_type": "code",
   "execution_count": 6,
   "id": "2c7edfb9-c75c-44d1-9c77-2d8f24b660f3",
   "metadata": {},
   "outputs": [
    {
     "name": "stdout",
     "output_type": "stream",
     "text": [
      "Valve already at that position\n"
     ]
    }
   ],
   "source": [
    "pump.go_to_pos('A')"
   ]
  },
  {
   "cell_type": "code",
   "execution_count": null,
   "id": "3d3fe8d8-2986-46a6-acf6-1998ff061f15",
   "metadata": {},
   "outputs": [],
   "source": []
  }
 ],
 "metadata": {
  "kernelspec": {
   "display_name": "Python 3 (ipykernel)",
   "language": "python",
   "name": "python3"
  },
  "language_info": {
   "codemirror_mode": {
    "name": "ipython",
    "version": 3
   },
   "file_extension": ".py",
   "mimetype": "text/x-python",
   "name": "python",
   "nbconvert_exporter": "python",
   "pygments_lexer": "ipython3",
   "version": "3.11.7"
  }
 },
 "nbformat": 4,
 "nbformat_minor": 5
}
