{
 "cells": [
  {
   "cell_type": "code",
   "execution_count": 1,
   "id": "9172c80a-ab97-4870-af29-bddfa60864ff",
   "metadata": {},
   "outputs": [],
   "source": [
    "import serial\n",
    "import time"
   ]
  },
  {
   "cell_type": "code",
   "execution_count": 2,
   "id": "6d6941e8-cb7d-48b8-86ab-c2f7ca3131b4",
   "metadata": {},
   "outputs": [],
   "source": [
    "from vici_valco import ViciValco"
   ]
  },
  {
   "cell_type": "code",
   "execution_count": 3,
   "id": "73f5663e-539d-4c86-aa13-8b2fce8cba00",
   "metadata": {},
   "outputs": [],
   "source": [
    "#Defining ser\n",
    "ser_1 = serial.Serial()"
   ]
  },
  {
   "cell_type": "code",
   "execution_count": 4,
   "id": "a920e936-8116-43bc-87c0-07945d867260",
   "metadata": {},
   "outputs": [],
   "source": [
    "# Create an instance of the gsioc_Protocol class\n",
    "valve = ViciValco(ser_1)"
   ]
  },
  {
   "cell_type": "code",
   "execution_count": 5,
   "id": "33136c5b-00a2-472f-acbd-c4e5c8edb2f9",
   "metadata": {},
   "outputs": [
    {
     "name": "stdout",
     "output_type": "stream",
     "text": [
      "Device is connected\n"
     ]
    }
   ],
   "source": [
    "valve.connect()"
   ]
  },
  {
   "cell_type": "code",
   "execution_count": 6,
   "id": "b39dba3d-d09f-4cbe-9c7b-4fb15d514764",
   "metadata": {},
   "outputs": [
    {
     "data": {
      "text/plain": [
       "'B'"
      ]
     },
     "execution_count": 6,
     "metadata": {},
     "output_type": "execute_result"
    }
   ],
   "source": [
    "valve.read_pos()"
   ]
  },
  {
   "cell_type": "code",
   "execution_count": 7,
   "id": "2c7edfb9-c75c-44d1-9c77-2d8f24b660f3",
   "metadata": {},
   "outputs": [
    {
     "name": "stdout",
     "output_type": "stream",
     "text": [
      "Valve already at that position\n"
     ]
    }
   ],
   "source": [
    "valve.go_to_pos('B')"
   ]
  },
  {
   "cell_type": "markdown",
   "id": "929a35db-f150-4a92-94d3-eb2649cff574",
   "metadata": {},
   "source": [
    "### MULTIPLE CUTS"
   ]
  },
  {
   "cell_type": "code",
   "execution_count": 6,
   "id": "8014e4ce-0b11-4189-a238-5cbb18e1c9df",
   "metadata": {},
   "outputs": [
    {
     "name": "stdout",
     "output_type": "stream",
     "text": [
      "Valve moved to position B\n",
      "Valve moved to position A\n",
      "Valve moved to position B\n",
      "Valve moved to position A\n",
      "Valve moved to position B\n",
      "Valve moved to position A\n",
      "Valve moved to position B\n",
      "Valve moved to position A\n",
      "Valve moved to position B\n",
      "Valve moved to position A\n",
      "Valve moved to position B\n",
      "Valve moved to position A\n",
      "Valve moved to position B\n",
      "Valve moved to position A\n",
      "Valve moved to position B\n",
      "Valve moved to position A\n",
      "Valve moved to position B\n",
      "Valve moved to position A\n",
      "Valve moved to position B\n",
      "Valve moved to position A\n",
      "Valve moved to position B\n",
      "Valve moved to position A\n",
      "Valve moved to position B\n",
      "Valve moved to position A\n",
      "Valve moved to position B\n",
      "Valve moved to position A\n",
      "Valve moved to position B\n",
      "Valve moved to position A\n",
      "Valve moved to position B\n",
      "Valve moved to position A\n"
     ]
    }
   ],
   "source": [
    "# Run for 30 minutes (15 cycles of 2 minutes each)\n",
    "for _ in range(15):\n",
    "    \n",
    "    valve.change_pos()\n",
    "    time.sleep(2)\n",
    "    valve.change_pos()\n",
    "    time.sleep(120)  # wait for 2 minutes"
   ]
  },
  {
   "cell_type": "code",
   "execution_count": null,
   "id": "011720c3-2232-4046-b493-4344d18f7846",
   "metadata": {},
   "outputs": [],
   "source": []
  },
  {
   "cell_type": "code",
   "execution_count": null,
   "id": "79e89b79-c03c-495d-a0b9-4cac9022f3ad",
   "metadata": {},
   "outputs": [],
   "source": []
  },
  {
   "cell_type": "code",
   "execution_count": null,
   "id": "6314849b-e762-4be4-9481-d304a8d376d9",
   "metadata": {},
   "outputs": [],
   "source": []
  }
 ],
 "metadata": {
  "kernelspec": {
   "display_name": "Python 3 (ipykernel)",
   "language": "python",
   "name": "python3"
  },
  "language_info": {
   "codemirror_mode": {
    "name": "ipython",
    "version": 3
   },
   "file_extension": ".py",
   "mimetype": "text/x-python",
   "name": "python",
   "nbconvert_exporter": "python",
   "pygments_lexer": "ipython3",
   "version": "3.11.7"
  }
 },
 "nbformat": 4,
 "nbformat_minor": 5
}
