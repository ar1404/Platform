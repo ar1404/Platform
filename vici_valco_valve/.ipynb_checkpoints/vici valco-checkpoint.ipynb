{
 "cells": [
  {
   "cell_type": "code",
   "execution_count": 1,
   "id": "cf3950e5-fc77-460d-a7f1-c74aa1df7262",
   "metadata": {},
   "outputs": [],
   "source": [
    "%load_ext autoreload\n",
    "\n",
    "%autoreload 2"
   ]
  },
  {
   "cell_type": "code",
   "execution_count": 2,
   "id": "9172c80a-ab97-4870-af29-bddfa60864ff",
   "metadata": {},
   "outputs": [],
   "source": [
    "import serial\n",
    "import time"
   ]
  },
  {
   "cell_type": "code",
   "execution_count": 3,
   "id": "6d6941e8-cb7d-48b8-86ab-c2f7ca3131b4",
   "metadata": {},
   "outputs": [],
   "source": [
    "from vici_valco import ViciValco"
   ]
  },
  {
   "cell_type": "code",
   "execution_count": 4,
   "id": "73f5663e-539d-4c86-aa13-8b2fce8cba00",
   "metadata": {},
   "outputs": [],
   "source": [
    "#Defining ser\n",
    "ser_1 = serial.Serial()"
   ]
  },
  {
   "cell_type": "code",
   "execution_count": 5,
   "id": "a920e936-8116-43bc-87c0-07945d867260",
   "metadata": {},
   "outputs": [],
   "source": [
    "# Create an instance of the gsioc_Protocol class\n",
    "valve = ViciValco(ser_1)"
   ]
  },
  {
   "cell_type": "code",
   "execution_count": 6,
   "id": "33136c5b-00a2-472f-acbd-c4e5c8edb2f9",
   "metadata": {},
   "outputs": [
    {
     "name": "stdout",
     "output_type": "stream",
     "text": [
      "Device is connected\n"
     ]
    }
   ],
   "source": [
    "valve.connect()"
   ]
  },
  {
   "cell_type": "code",
   "execution_count": 26,
   "id": "caa24819-0e62-4486-a4fa-0f3f7d0c8854",
   "metadata": {},
   "outputs": [
    {
     "data": {
      "text/plain": [
       "''"
      ]
     },
     "execution_count": 26,
     "metadata": {},
     "output_type": "execute_result"
    }
   ],
   "source": [
    "valve.command('GO1')"
   ]
  },
  {
   "cell_type": "code",
   "execution_count": 9,
   "id": "b39dba3d-d09f-4cbe-9c7b-4fb15d514764",
   "metadata": {},
   "outputs": [
    {
     "data": {
      "text/plain": [
       "'d'"
      ]
     },
     "execution_count": 9,
     "metadata": {},
     "output_type": "execute_result"
    }
   ],
   "source": [
    "valve.read_pos()"
   ]
  },
  {
   "cell_type": "code",
   "execution_count": 8,
   "id": "2c7edfb9-c75c-44d1-9c77-2d8f24b660f3",
   "metadata": {},
   "outputs": [
    {
     "name": "stdout",
     "output_type": "stream",
     "text": [
      "Valve moved to position B\n"
     ]
    }
   ],
   "source": [
    "valve.change_pos()"
   ]
  },
  {
   "cell_type": "code",
   "execution_count": 9,
   "id": "bb6077ad-d08a-4053-83c4-d2439f4dd46f",
   "metadata": {},
   "outputs": [],
   "source": [
    "ser = serial.Serial('COM12', 9600, timeout=1)  # Adjust COM port\n",
    "time.sleep(2)  # Wait for Arduino to initialize"
   ]
  },
  {
   "cell_type": "code",
   "execution_count": 16,
   "id": "86c67201-4eec-40f9-a2fc-e1b0fca7e579",
   "metadata": {},
   "outputs": [
    {
     "name": "stdout",
     "output_type": "stream",
     "text": [
      "Received: 8LÆºI)\u0014Ã\u000e;M8wý\u001a-$´DJL´ÆºY\u001aLÒF¨Y8#M:wýMJB¸Y\u0018L8vý\f",
      "ÆºYÔ\u0014Á\u000e9\u001a¾y6³ÿ\n",
      "Executing command!\n",
      "Valve moved to position A\n",
      "Valve moved to position B\n",
      "Received: \u0018LÆºY\u0018\u000f1=±8\u0013ÆºI\n",
      "Executing command!\n",
      "Valve moved to position A\n",
      "Valve moved to position B\n",
      "Received: Ô§M#Â)\u0014Ê\u0005\u001a|\u001aÄxâ²\u0019\u001a-´DÈ\u001aÄyò3ÐF¸YLJ)&\n",
      "Executing command!\n",
      "Valve moved to position A\n",
      "Valve moved to position B\n",
      "Received: Ô§M#ÂÔ\u0014Á\u000e;)\u0014ÀXTD#Â\u001aÂÙ3²\u0019)\u0014êX\n",
      "Executing command!\n",
      "Valve moved to position A\n",
      "Valve moved to position B\n",
      "Received: \u001aÌx¢²\u0019\u001aM8öÊÿ\n",
      "Executing command!\n",
      "Valve moved to position A\n",
      "Valve moved to position B\n",
      "Received: 8L#Â\u001a-Q³Éÿ\n",
      "Executing command!\n",
      "Valve moved to position A\n",
      "Valve moved to position B\n",
      "Received: 8º#Û\u001aÅyò2\u000b",
      "br\u001a|\u001aÅyâ²\u0019\n",
      "Executing command!\n",
      "Valve moved to position A\n",
      "Valve moved to position B\n",
      "Received: ÔDº#ÂTD\"#Â\n",
      "Executing command!\n",
      "Valve moved to position A\n",
      "Valve moved to position B\n",
      "Received: \u001aÅyò2\u001aM8öÊÿ\n",
      "Executing command!\n",
      "Valve moved to position A\n",
      "Valve moved to position B\n",
      "Received:\u000fb\u001at\u001a\u001aM8vý\n",
      "Executing command!\n",
      "Valve moved to position A\n",
      "Valve moved to position B\n",
      "Received:\u000b",
      "1S2X\u000fb\u001aô\u001a\n",
      "Executing command!\n",
      "Valve moved to position A\n",
      "Valve moved to position B\n",
      "Received: 8#Â\u001a-Q³Áÿ\u0018\u000fS³X\u001bÔ\u0014Á\u000e9\u000b",
      "1Si1Èÿ\f",
      "J)\u000b",
      "1S2X\u001a\t\u000b",
      "1¹nL:sþ\n",
      "Executing command!\n",
      "Valve moved to position A\n",
      "Valve moved to position B\n",
      "Received: TDº#ÂÔ\u0014ªÁ\u000e98#M8wý\u001a",
      "y63TD\"#Â\n",
      "Executing command!\n",
      "Valve moved to position A\n",
      "Valve moved to position B\n",
      "S³X\u000b",
      "\u001aÄyò2Ô§M#Â\n",
      "Executing command!\n",
      "Valve moved to position A\n",
      "Valve moved to position B\n",
      "Received: \u001aL8öÊÿTD\u0011#M:wý\n",
      "Executing command!\n",
      "Valve moved to position A\n",
      "Valve moved to position B\n",
      "&J\u0016Ü\u001a-NÜ\n",
      "Executing command!\n",
      "Valve moved to position A\n",
      "Valve moved to position B\n",
      "Received: \u0018LÆºL:wý\u0018L8wý\n",
      "Executing command!\n",
      "Valve moved to position A\n",
      "Valve moved to position B\n",
      "Received: ÔDº#Â\n",
      "Executing command!\n",
      "Valve moved to position A\n",
      "Valve moved to position B\n",
      "Received: \u001a-Òy³³ÿ\u001a-Q³Éÿ\u0018\u000fS³X\u001b8º#Â\n",
      "Executing command!\n",
      "Valve moved to position A\n",
      "Valve moved to position B\n",
      "S³Xived:M:wý\u001a9â²\u0019\u0018\n",
      "Executing command!\n",
      "Valve moved to position A\n",
      "Valve moved to position B\n",
      "Received: JB¸Y8ºÆºIÔ\u0014Á\u000e;)\u0014À\u0014iÙL:wý\n",
      "Executing command!\n",
      "Valve moved to position A\n",
      "Valve moved to position B\n",
      "Received: )\u00148\u0014n\u000f9S2X\u001a\u0018LÆºY\n",
      "Executing command!\n",
      "Valve moved to position A\n",
      "Valve moved to position B\n",
      "Received: \u0018ºÆºY\u001a-Q³Éÿ8ºÆºI\n",
      "Executing command!\n",
      "Valve moved to position A\n",
      "Valve moved to position B\n",
      "Received: \u001a-Q³Éÿ\u0018ºÆºY\n",
      "Executing command!\n",
      "Valve moved to position A\n",
      "Valve moved to position B\n",
      "Received: ÆºY\u001a-Òy³³ÿ\u001a\f",
      "ÒF¨Y)\u0014À\u0014iÙÿ\u001a",
      "yò2\n",
      "Executing command!\n",
      "Valve moved to position A\n",
      "Valve moved to position B\n",
      "S³X\u000b",
      "\t\u00148\u0005\u001a|\u001a\f",
      "ÒF¨Y\u001aÂÒF¨Y\t\u0015(\u0005\u001a|\u001aÄyò2\u001a-þ,\u001a-Q³Éÿ\u001ayò2\n",
      "Executing command!\n",
      "Valve moved to position A\n",
      "Valve moved to position B\n",
      "Received: Ô\u000b",
      "1Ã\u000e;\u001ayò3\n",
      "Executing command!\n",
      "Valve moved to position A\n",
      "Valve moved to position B\n",
      "Received: J)&\u0018\u000fS³X\u000f9S2X\u001a\n",
      "Executing command!\n",
      "Valve moved to position A\n",
      "Valve moved to position B\n",
      "Received:ÐF¸Y\u001ayò2\n",
      "Executing command!\n",
      "Valve moved to position A\n",
      "Valve moved to position B\n",
      "Received: \u001a-$~,8&\u001b\u0019­ÿ\n",
      "Executing command!\n",
      "Valve moved to position A\n",
      "Valve moved to position B\n",
      "Received:M:wý\t\u0015(\u0005\u001a|\u000f1\u001aô\u001a\n",
      "Executing command!\n",
      "Valve moved to position A\n",
      "Valve moved to position B\n",
      "Received:ÐF¸Y\n",
      "Executing command!\n",
      "Valve moved to position A\n",
      "Valve moved to position B\n",
      "Received: \u001a\f",
      "<s²Y)\u00148\u0005\u001a|\n",
      "Executing command!\n",
      "Valve moved to position A\n",
      "Valve moved to position B\n",
      "S³Xived: \u001a\n",
      "Executing command!\n",
      "Valve moved to position A\n",
      "Valve moved to position B\n",
      "S³X\u000b",
      "Ô§M#Â\u0006\u0018\u000fS³XL:w\u000f9S²X\u001a\u001a\n",
      "Executing command!\n",
      "Valve moved to position A\n",
      "Valve moved to position B\n",
      "S³X\u000b",
      "\u001a-Q³Éÿ\u0018\u000fS³X\u001b8#Â\n",
      "Executing command!\n",
      "Valve moved to position A\n",
      "Valve moved to position B\n",
      "Received: \u001ay63\n",
      "Executing command!\n",
      "Valve moved to position A\n",
      "Valve moved to position B\n",
      "Received: \u001a-Q³Áÿ\u0018ºÆºYÔ¦M\u000e9\n",
      "Executing command!\n",
      "Valve moved to position A\n",
      "Valve moved to position B\n",
      "Received: TDº#Â\n",
      "Executing command!\n",
      "Valve moved to position A\n",
      "Valve moved to position B\n",
      "Received: 8º#Â\u001a-Q³ÉÿÔ\u0014Á\u000e9\u000b",
      "1¹\u0002\u001a\n",
      "Executing command!\n",
      "Valve moved to position A\n",
      "Valve moved to position B\n",
      "Received: TDº#Jb¸Y\u0018\u000fS³XM:sþ\n",
      "Executing command!\n",
      "Valve moved to position A\n",
      "Valve moved to position B\n",
      "1<±TD#Â\u001aÒÒF¸Y6³ÿ\u0018\n",
      "Executing command!\n",
      "Valve moved to position A\n",
      "Valve moved to position B\n",
      "Received:\u000b",
      "1¹\u0002\u001a´Æº\u000f9S²X\u001a8ºÆºIÔ§M#ÂÔ\u0014Á\u000e9\t\u000b",
      "1¹n\u000b",
      "1\u0012\u001at\u001a\u001a-Q³Áÿ\u0018ºÆºYJ)&\u0018\u000f£S³X\u001b\t\u000b",
      "1¹\u0006TDº#Â\u001a-Q³Éÿ\u0018ºÆºMÆºY\n",
      "Executing command!\n",
      "Valve moved to position A\n",
      "Valve moved to position B\n",
      "Received: \u001aLÒF¨Y\n",
      "Executing command!\n",
      "Valve moved to position A\n",
      "Valve moved to position B\n"
     ]
    },
    {
     "ename": "KeyboardInterrupt",
     "evalue": "",
     "output_type": "error",
     "traceback": [
      "\u001b[1;31m---------------------------------------------------------------------------\u001b[0m",
      "\u001b[1;31mKeyboardInterrupt\u001b[0m                         Traceback (most recent call last)",
      "Cell \u001b[1;32mIn[16], line 2\u001b[0m\n\u001b[0;32m      1\u001b[0m \u001b[38;5;28;01mwhile\u001b[39;00m \u001b[38;5;28;01mTrue\u001b[39;00m:\n\u001b[1;32m----> 2\u001b[0m     \u001b[38;5;28;01mif\u001b[39;00m ser\u001b[38;5;241m.\u001b[39min_waiting \u001b[38;5;241m>\u001b[39m \u001b[38;5;241m0\u001b[39m:\n\u001b[0;32m      3\u001b[0m         line \u001b[38;5;241m=\u001b[39m ser\u001b[38;5;241m.\u001b[39mreadline()\u001b[38;5;241m.\u001b[39mdecode(\u001b[38;5;124m'\u001b[39m\u001b[38;5;124mlatin1\u001b[39m\u001b[38;5;124m'\u001b[39m)\u001b[38;5;241m.\u001b[39mstrip()\n\u001b[0;32m      4\u001b[0m         \u001b[38;5;28mprint\u001b[39m(\u001b[38;5;124mf\u001b[39m\u001b[38;5;124m\"\u001b[39m\u001b[38;5;124mReceived: \u001b[39m\u001b[38;5;132;01m{\u001b[39;00mline\u001b[38;5;132;01m}\u001b[39;00m\u001b[38;5;124m\"\u001b[39m)\n",
      "File \u001b[1;32m~\\anaconda3\\Lib\\site-packages\\serial\\serialwin32.py:258\u001b[0m, in \u001b[0;36mSerial.in_waiting\u001b[1;34m(self)\u001b[0m\n\u001b[0;32m    256\u001b[0m flags \u001b[38;5;241m=\u001b[39m win32\u001b[38;5;241m.\u001b[39mDWORD()\n\u001b[0;32m    257\u001b[0m comstat \u001b[38;5;241m=\u001b[39m win32\u001b[38;5;241m.\u001b[39mCOMSTAT()\n\u001b[1;32m--> 258\u001b[0m \u001b[38;5;28;01mif\u001b[39;00m \u001b[38;5;129;01mnot\u001b[39;00m win32\u001b[38;5;241m.\u001b[39mClearCommError(\u001b[38;5;28mself\u001b[39m\u001b[38;5;241m.\u001b[39m_port_handle, ctypes\u001b[38;5;241m.\u001b[39mbyref(flags), ctypes\u001b[38;5;241m.\u001b[39mbyref(comstat)):\n\u001b[0;32m    259\u001b[0m     \u001b[38;5;28;01mraise\u001b[39;00m SerialException(\u001b[38;5;124m\"\u001b[39m\u001b[38;5;124mClearCommError failed (\u001b[39m\u001b[38;5;132;01m{!r}\u001b[39;00m\u001b[38;5;124m)\u001b[39m\u001b[38;5;124m\"\u001b[39m\u001b[38;5;241m.\u001b[39mformat(ctypes\u001b[38;5;241m.\u001b[39mWinError()))\n\u001b[0;32m    260\u001b[0m \u001b[38;5;28;01mreturn\u001b[39;00m comstat\u001b[38;5;241m.\u001b[39mcbInQue\n",
      "\u001b[1;31mKeyboardInterrupt\u001b[0m: "
     ]
    }
   ],
   "source": [
    "while True:\n",
    "    if ser.in_waiting > 0:\n",
    "        line = ser.readline().decode('latin1').strip()\n",
    "        print(f\"Received: {line}\")\n",
    "        if line:\n",
    "            print(\"Executing command!\")\n",
    "            time.sleep(2)\n",
    "            valve.change_pos()\n",
    "            time.sleep(0.1)\n",
    "            valve.change_pos()\n",
    "            # Example: call function or run command"
   ]
  },
  {
   "cell_type": "markdown",
   "id": "929a35db-f150-4a92-94d3-eb2649cff574",
   "metadata": {},
   "source": [
    "### MULTIPLE CUTS"
   ]
  },
  {
   "cell_type": "code",
   "execution_count": 13,
   "id": "8014e4ce-0b11-4189-a238-5cbb18e1c9df",
   "metadata": {},
   "outputs": [
    {
     "name": "stdout",
     "output_type": "stream",
     "text": [
      "Valve moved to position B\n",
      "Valve moved to position A\n",
      "Valve moved to position B\n",
      "Valve moved to position A\n",
      "Valve moved to position B\n",
      "Valve moved to position A\n",
      "Valve moved to position B\n",
      "Valve moved to position A\n",
      "Valve moved to position B\n",
      "Valve moved to position A\n",
      "Valve moved to position B\n",
      "Valve moved to position A\n",
      "Valve moved to position B\n",
      "Valve moved to position A\n",
      "Valve moved to position B\n",
      "Valve moved to position A\n",
      "Valve moved to position B\n",
      "Valve moved to position A\n",
      "Valve moved to position B\n",
      "Valve moved to position A\n",
      "Valve moved to position B\n",
      "Valve moved to position A\n",
      "Valve moved to position B\n",
      "Valve moved to position A\n",
      "Valve moved to position B\n",
      "Valve moved to position A\n",
      "Valve moved to position B\n",
      "Valve moved to position A\n",
      "Valve moved to position B\n",
      "Valve moved to position A\n"
     ]
    }
   ],
   "source": [
    "# Run for 30 minutes (15 cycles of 2 minutes each)\n",
    "for _ in range(15):\n",
    "    \n",
    "    valve.change_pos()\n",
    "    time.sleep(2)\n",
    "    valve.change_pos()\n",
    "    time.sleep(120)  # wait for 2 minutes"
   ]
  },
  {
   "cell_type": "code",
   "execution_count": null,
   "id": "011720c3-2232-4046-b493-4344d18f7846",
   "metadata": {},
   "outputs": [],
   "source": []
  },
  {
   "cell_type": "code",
   "execution_count": null,
   "id": "79e89b79-c03c-495d-a0b9-4cac9022f3ad",
   "metadata": {},
   "outputs": [],
   "source": []
  },
  {
   "cell_type": "code",
   "execution_count": null,
   "id": "6314849b-e762-4be4-9481-d304a8d376d9",
   "metadata": {},
   "outputs": [],
   "source": []
  }
 ],
 "metadata": {
  "kernelspec": {
   "display_name": "Python 3 (ipykernel)",
   "language": "python",
   "name": "python3"
  },
  "language_info": {
   "codemirror_mode": {
    "name": "ipython",
    "version": 3
   },
   "file_extension": ".py",
   "mimetype": "text/x-python",
   "name": "python",
   "nbconvert_exporter": "python",
   "pygments_lexer": "ipython3",
   "version": "3.11.7"
  }
 },
 "nbformat": 4,
 "nbformat_minor": 5
}
