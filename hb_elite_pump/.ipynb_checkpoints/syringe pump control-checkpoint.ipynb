{
 "cells": [
  {
   "cell_type": "code",
   "execution_count": 1,
   "id": "5f879f5f-4c09-4e73-8d34-40a542cfeefb",
   "metadata": {},
   "outputs": [],
   "source": [
    "from hb_elite import HBElite"
   ]
  },
  {
   "cell_type": "code",
   "execution_count": 69,
   "id": "5798da4b-dc07-4b53-b00d-9676119acb6e",
   "metadata": {},
   "outputs": [],
   "source": [
    "import serial\n",
    "import time\n",
    "import datetime\n",
    "import re\n",
    "\n",
    "def log_action(filename, data):\n",
    "    timestamp = datetime.datetime.now().strftime(\"%d/%m/%y %H:%M:%S\")\n",
    "    with open('test_log.txt', 'a') as file:\n",
    "        file.write(f'[{timestamp}] {data}\\n')"
   ]
  },
  {
   "cell_type": "code",
   "execution_count": 70,
   "id": "f21f4642-316f-414b-8f45-7b2bac1f8236",
   "metadata": {},
   "outputs": [],
   "source": [
    "#Defining ser\n",
    "ser_1 = serial.Serial()"
   ]
  },
  {
   "cell_type": "code",
   "execution_count": 71,
   "id": "920b4828-baa2-420a-a305-4d7d3535aaea",
   "metadata": {},
   "outputs": [],
   "source": [
    "# Create an instance of the gsioc_Protocol class\n",
    "pump = SyrPump(ser_1)"
   ]
  },
  {
   "cell_type": "code",
   "execution_count": 72,
   "id": "61287c17-6432-4fd8-90cc-34babcc14737",
   "metadata": {},
   "outputs": [
    {
     "name": "stdout",
     "output_type": "stream",
     "text": [
      "Device is connected\n"
     ]
    }
   ],
   "source": [
    "#Connecting to pump\n",
    "pump.connect()"
   ]
  },
  {
   "cell_type": "code",
   "execution_count": 73,
   "id": "aa4ffb33-e057-47e0-a478-632da9f89c7e",
   "metadata": {},
   "outputs": [
    {
     "name": "stdout",
     "output_type": "stream",
     "text": [
      "\n",
      "Firmware:      v3.0.8\n",
      "Pump address:  0\n",
      "Serial number: 1109676\n",
      ":\n"
     ]
    }
   ],
   "source": [
    "pump.command('vers')"
   ]
  },
  {
   "cell_type": "code",
   "execution_count": 74,
   "id": "8d171727-fac0-43d5-838d-7904c264bb45",
   "metadata": {},
   "outputs": [
    {
     "name": "stdout",
     "output_type": "stream",
     "text": [
      "\n",
      "02/13/25 11:37:29 AM\n",
      ":\n"
     ]
    }
   ],
   "source": [
    "pump.command('time')"
   ]
  },
  {
   "cell_type": "code",
   "execution_count": 76,
   "id": "7aaf20f7-f6d3-43ed-809f-6c9649ea9e32",
   "metadata": {},
   "outputs": [
    {
     "name": "stdout",
     "output_type": "stream",
     "text": [
      "\n",
      "1 ml/min\n",
      ":\n"
     ]
    }
   ],
   "source": [
    "pump.command('wrate')"
   ]
  },
  {
   "cell_type": "code",
   "execution_count": 38,
   "id": "eab5bc1e-dca3-41f1-9400-8585a2aa0215",
   "metadata": {},
   "outputs": [
    {
     "name": "stdout",
     "output_type": "stream",
     "text": [
      "\n",
      ">\n"
     ]
    }
   ],
   "source": [
    "pump.command('irun')"
   ]
  },
  {
   "cell_type": "code",
   "execution_count": 39,
   "id": "0aa03853-3a00-4f6c-8d8a-e2df76a8ea6e",
   "metadata": {},
   "outputs": [
    {
     "name": "stdout",
     "output_type": "stream",
     "text": [
      "\n",
      ":\n"
     ]
    }
   ],
   "source": [
    "pump.command('stop')"
   ]
  },
  {
   "cell_type": "code",
   "execution_count": null,
   "id": "afda62cb-1ae1-4c6f-a4df-ecda49556408",
   "metadata": {},
   "outputs": [],
   "source": [
    "pump.command('wrun')"
   ]
  },
  {
   "cell_type": "code",
   "execution_count": 38,
   "id": "bed8465a-a3f9-47d7-aafc-55ebc62c7fc4",
   "metadata": {},
   "outputs": [
    {
     "data": {
      "text/plain": [
       "':'"
      ]
     },
     "execution_count": 38,
     "metadata": {},
     "output_type": "execute_result"
    }
   ],
   "source": [
    "pump.command('ctvolume')"
   ]
  }
 ],
 "metadata": {
  "kernelspec": {
   "display_name": "Python 3 (ipykernel)",
   "language": "python",
   "name": "python3"
  },
  "language_info": {
   "codemirror_mode": {
    "name": "ipython",
    "version": 3
   },
   "file_extension": ".py",
   "mimetype": "text/x-python",
   "name": "python",
   "nbconvert_exporter": "python",
   "pygments_lexer": "ipython3",
   "version": "3.11.7"
  }
 },
 "nbformat": 4,
 "nbformat_minor": 5
}
