{
 "cells": [
  {
   "cell_type": "code",
   "execution_count": 12,
   "id": "5e31dba5-1153-4c9c-9a52-8c2d2e50506e",
   "metadata": {},
   "outputs": [],
   "source": [
    "import time\n",
    "import serial\n",
    "import numpy as np\n",
    "import sys\n",
    "import os\n",
    "import asyncio\n",
    "from multiprocessing import Process\n",
    "import threading\n",
    "from scipy import constants\n",
    "import itertools\n",
    "\n",
    "import binascii\n",
    "import datetime\n",
    "import logging"
   ]
  },
  {
   "cell_type": "markdown",
   "id": "40d77d4f-77b6-4ccd-9f0b-adba6e188336",
   "metadata": {},
   "source": [
    "Rack, Rackcommands, and Vial are originally from platform_setup.py"
   ]
  },
  {
   "cell_type": "code",
   "execution_count": 13,
   "id": "079926f9-471b-4241-af42-dd3b0c527726",
   "metadata": {},
   "outputs": [],
   "source": [
    "class Rack():\n",
    "    \"\"\"Representation for a Rack within the flow setup.\"\"\"\n",
    "    def __init__(self, array_dimensions, offset_x, offset_y, vial2vial_x, vial2vial_y, groundlevel_height):\n",
    "        self.array_dimensions=array_dimensions\n",
    "        self.offset_x=offset_x\n",
    "        self.offset_y=offset_y\n",
    "        self.vial2vial_x=vial2vial_x\n",
    "        self.vial2vial_y=vial2vial_y\n",
    "        self.groundlevel_height=groundlevel_height    \n",
    "    \n",
    "    def get_vial_indices(self, vial_position, array_order, tolerance):\n",
    "        \"\"\"get indices of a specific vial in a rack with a certain order of the vials\n",
    "        :returns: a tuple of (i,j) with i=vial-position along x-axis, and j=vial-position along y-axis\n",
    "        TODO: verify that input is valid type, array dimensions and validation of the inputted values\n",
    "        \"\"\"\n",
    "        indices=np.where(array_order==vial_position)\n",
    "        # print(str(f'indices are: {indices}'))\n",
    "        if len(indices)==2 and len(indices[0])==1:\n",
    "            logger.debug(f'a unique vial number was chosen: {vial_position}, with indices i={indices[0]}, j={indices[1]}')\n",
    "            return indices\n",
    "        elif len(indices)==2 and len(indices[0])==0 and tolerance.lower()=='no':                #tolerance settings\n",
    "            #REMOVE THIS STATEMENT!!!\n",
    "            sys.exit(f'fatal error: zero vials with position number {vial_position}')                        #REMOVE THIS STATEMENT!!!\n",
    "        else:\n",
    "            logger.warning(f'warning: multiple vials with position number {vial_position}')\n",
    "            return indices"
   ]
  },
  {
   "cell_type": "code",
   "execution_count": 14,
   "id": "a342258e-03a4-47a9-a949-f17515909459",
   "metadata": {},
   "outputs": [],
   "source": [
    "# Configure the logger - added to work in the Jupyter Notebook\n",
    "logging.basicConfig(level=logging.DEBUG, format='%(asctime)s - %(levelname)s - %(message)s')\n",
    "logger = logging.getLogger(__name__)\n",
    "\n",
    "class Rackcommands(): \n",
    "    \"\"\"Representation for Commands connected to the Rack of the flow setup.\"\"\"\n",
    "\n",
    "    def __init__(self,rack,rack_order,rack_position,rack_position_offset_x,rack_position_offset_y):\n",
    "        self.rack=rack\n",
    "        self.rack_order=rack_order\n",
    "        self.rack_position=rack_position\n",
    "        self.rack_position_offset_x=rack_position_offset_x\n",
    "        self.rack_position_offset_y=rack_position_offset_y\n",
    "        \n",
    "    def get_xy_command(self, vial_pos: int, tolerance: str = 'no') -> str: #speed 125mm/s, force 100%\n",
    "        \"\"\"returns a str object command suitable for the liquid handler gx-241\"\"\"\n",
    "        \n",
    "        index_y, index_x = self.rack.get_vial_indices(vial_pos, self.rack_order, tolerance)\n",
    "        \n",
    "        if len(index_x)==len(index_y):\n",
    "            command=[]\n",
    "            for i in range(len(index_x)):\n",
    "                i_x=index_x[i]\n",
    "                i_y=index_y[i]\n",
    "                distance_x=self.rack.offset_x + self.rack.vial2vial_x * i_x + (self.rack_position-1)*self.rack_position_offset_x    \n",
    "                distance_y=self.rack.offset_y + self.rack.vial2vial_y * i_y + (self.rack_position-1)*self.rack_position_offset_y    \n",
    "                command.append(str(f'X{distance_x}/{distance_y}'))\n",
    "            return command\n",
    "        else:\n",
    "            logger.error(\"error: len(index_x) != len(index_y) \")"
   ]
  },
  {
   "cell_type": "code",
   "execution_count": 15,
   "id": "4d9f9b7b-21fb-4491-b697-68999a6dbe15",
   "metadata": {},
   "outputs": [],
   "source": [
    "class Vial():\n",
    "    \"\"\"Representation for a Vial within the flow setup.\"\"\"\n",
    "    def __init__(self,vial_volume_max,vial_usedvolume_max,vial_height,vial_free_depth):\n",
    "        self.vial_volume_max=vial_volume_max                #volume in mL\n",
    "        self.vial_usedvolume_max=vial_usedvolume_max        #volume in mL\n",
    "        self.vial_height=vial_height                        #height in mm\n",
    "        self.vial_free_depth=vial_free_depth                #depth in mm\n",
    "        self.sum_liquid_level = 0"
   ]
  },
  {
   "cell_type": "markdown",
   "id": "7a3a4990-31dd-4a4e-83cc-5afb4fb98c8d",
   "metadata": {},
   "source": [
    "This code is originally from run.py - the function get_automation_setup"
   ]
  },
  {
   "cell_type": "code",
   "execution_count": 16,
   "id": "5e2f34fe-29e9-4859-8786-c7d6e953bbbe",
   "metadata": {},
   "outputs": [],
   "source": [
    "rack_position_offset_x=92       #distance in mm between rack_position=1 and =2 on x-axis\n",
    "rack_position_offset_y=0        #distance in mm between rack_position=1 and =2 on y-axis\n",
    "\n",
    "############################# RACK 1 DEFINITION #################################\n",
    "\n",
    "# From platform_setup.py \n",
    "rack1 = Rack([4,16], 7, 39.25, 18, 13.75, 82) # groundlevel_height assumed the minimum Z \n",
    "\n",
    "#  array_dimensions, offset_x, offset_y, vial2vial_x, vial2vial_y, groundlevel_height\n",
    "\n",
    "# Previous vial2vialx = (2.11+15.6)\n",
    "# Previous vial2vial7 = (2.72+15.6+0.35)\n",
    "\n",
    "array_order1 = np.array([      #user is obliged to define a integer number i>=1 for each vial in the rack in ascending order \n",
    "    [1, 2, 3, 4],\n",
    "    [5, 6, 7, 8],\n",
    "    [9, 10,11,12],\n",
    "    [13,14,15,16],\n",
    "    [17,18,19,20],\n",
    "    [21,22,23,24],     \n",
    "    [25,26,27,28],     \n",
    "    [29,30,31,32],\n",
    "    [33,34,35,36],\n",
    "    [37,38,39,40],\n",
    "    [41,42,43,44],\n",
    "    [45,46,47,48],\n",
    "    [49,50,51,52],\n",
    "    [53,54,55,56],\n",
    "    [57,58,59,60],\n",
    "    [61,62,63,64]        \n",
    "    ])\n",
    "    \n",
    "rack_pos1=1\n",
    "\n",
    "global rack1_commands\n",
    "\n",
    "# Not sure what rack_position_offset_x/y are for x=92 and y=0\n",
    "\n",
    "rack1_commands = Rackcommands(rack1, array_order1, rack_pos1, rack_position_offset_x, rack_position_offset_y)\n",
    "\n",
    "global vial_selfmade\n",
    "\n",
    "vial_selfmade = Vial(1.5, 1, 33, 31.08)"
   ]
  },
  {
   "cell_type": "code",
   "execution_count": 17,
   "id": "54e015df-8cf7-416d-a23e-ab38759b4ad1",
   "metadata": {},
   "outputs": [
    {
     "name": "stderr",
     "output_type": "stream",
     "text": [
      "2024-10-16 14:48:57,599 - DEBUG - a unique vial number was chosen: 36, with indices i=[8], j=[3]\n"
     ]
    },
    {
     "data": {
      "text/plain": [
       "['X61/149.25']"
      ]
     },
     "execution_count": 17,
     "metadata": {},
     "output_type": "execute_result"
    }
   ],
   "source": [
    "# It works!\n",
    "rack1_commands.get_xy_command(36)"
   ]
  },
  {
   "cell_type": "markdown",
   "id": "b98011e4-ddd7-46d9-8950-6eeca3331c67",
   "metadata": {},
   "source": [
    "## Method for collecting SPKA profiles"
   ]
  },
  {
   "cell_type": "markdown",
   "id": "972b05b1-5bb7-4a37-9c85-52d357e92383",
   "metadata": {},
   "source": [
    "Take this code over to the gx-241 control v1 sheet to see if it works"
   ]
  },
  {
   "cell_type": "code",
   "execution_count": 16,
   "id": "4ff6bf61-bfd0-4198-8372-1eea4d4cabf1",
   "metadata": {},
   "outputs": [],
   "source": [
    "# Define kinetic screen\n",
    "no_sub_A = 2      # First Column\n",
    "no_sub_B = 2      # Second Column\n",
    "no_cat = 1        # Third Column\n",
    "\n",
    "# Create lists for each\n",
    "sub_A_list = [1 + 4 * i for i in range(no_sub_A)]\n",
    "sub_B_list = [2 + 4 * i for i in range(no_sub_B)]\n",
    "cat_list = [3 + 4 * i for i in range(no_cat)]\n",
    "\n",
    "#print(sub_A_array, sub_B_array, cat_array)"
   ]
  },
  {
   "cell_type": "code",
   "execution_count": 17,
   "id": "ade9f797-c1af-433d-b04c-1b43628d5207",
   "metadata": {},
   "outputs": [
    {
     "data": {
      "text/plain": [
       "[(1, 2, 3), (5, 2, 3), (1, 6, 3), (5, 6, 3)]"
      ]
     },
     "execution_count": 17,
     "metadata": {},
     "output_type": "execute_result"
    }
   ],
   "source": [
    "# Generate all possible combinations\n",
    "all_combinations = list(itertools.product(sub_A_list, sub_B_list, cat_list))\n",
    "\n",
    "# Reorder combinations so that all combinations with the same elements\n",
    "# in sub_B_array and cat_array are grouped together\n",
    "spka_combinations = []\n",
    "\n",
    "# Iterate through all unique combinations of sub_B_array and cat_array\n",
    "# This will go through all sub_A first, then sub_B, then cat\n",
    "for c in cat_list:\n",
    "    for b in sub_B_list:\n",
    "        for a in sub_A_list:\n",
    "            spka_combinations.append((a, b, c))\n",
    "            \n",
    "spka_combinations"
   ]
  },
  {
   "cell_type": "code",
   "execution_count": 20,
   "id": "0da6415a-bf7c-4b7c-b8bc-ad0cbe7a6078",
   "metadata": {},
   "outputs": [
    {
     "name": "stderr",
     "output_type": "stream",
     "text": [
      "2024-06-25 21:15:37,304 - DEBUG - a unique vial number was chosen: 1, with indices i=[0], j=[0]\n",
      "2024-06-25 21:15:37,305 - DEBUG - a unique vial number was chosen: 2, with indices i=[0], j=[1]\n",
      "2024-06-25 21:15:37,306 - DEBUG - a unique vial number was chosen: 3, with indices i=[0], j=[2]\n",
      "2024-06-25 21:15:37,307 - DEBUG - a unique vial number was chosen: 5, with indices i=[1], j=[0]\n",
      "2024-06-25 21:15:37,308 - DEBUG - a unique vial number was chosen: 2, with indices i=[0], j=[1]\n",
      "2024-06-25 21:15:37,309 - DEBUG - a unique vial number was chosen: 3, with indices i=[0], j=[2]\n",
      "2024-06-25 21:15:37,310 - DEBUG - a unique vial number was chosen: 1, with indices i=[0], j=[0]\n",
      "2024-06-25 21:15:37,311 - DEBUG - a unique vial number was chosen: 6, with indices i=[1], j=[1]\n",
      "2024-06-25 21:15:37,312 - DEBUG - a unique vial number was chosen: 3, with indices i=[0], j=[2]\n",
      "2024-06-25 21:15:37,312 - DEBUG - a unique vial number was chosen: 5, with indices i=[1], j=[0]\n",
      "2024-06-25 21:15:37,313 - DEBUG - a unique vial number was chosen: 6, with indices i=[1], j=[1]\n",
      "2024-06-25 21:15:37,314 - DEBUG - a unique vial number was chosen: 3, with indices i=[0], j=[2]\n"
     ]
    },
    {
     "name": "stdout",
     "output_type": "stream",
     "text": [
      "['X8.3/36.0']\n",
      "['X26.3/36.0']\n",
      "['X44.3/36.0']\n",
      "['X8.3/49.75']\n",
      "['X26.3/36.0']\n",
      "['X44.3/36.0']\n",
      "['X8.3/36.0']\n",
      "['X26.3/49.75']\n",
      "['X44.3/36.0']\n",
      "['X8.3/49.75']\n",
      "['X26.3/49.75']\n",
      "['X44.3/36.0']\n"
     ]
    }
   ],
   "source": [
    "# Iterate over each tuple in the list (each separate kinetic profile)\n",
    "for tuple in spka_combinations:\n",
    "    \n",
    "    # Iterate over each number in the tuple (each reagent in an experiment)\n",
    "    for element in tuple:\n",
    "        \n",
    "        # Find the xy position of the vial        \n",
    "        vial_xy_pos = rack1_commands.get_xy_command(element)\n",
    "        \n",
    "        ##### TO DO #####\n",
    "        \n",
    "        # Display vial number - must be a two digit integer\n",
    "        # g.bCommand(f\"W{element:02}\")\n",
    "        \n",
    "        # Go to Vial\n",
    "        # g.bCommand(vial_xy_pos)\n",
    "\n",
    "        # Needle Down - define this distance somewhere above!\n",
    "        # g.bCommand(needle_down)\n",
    "\n",
    "        # Run the pump\n",
    "        # This will be a while away...\n",
    "        # How to make the autosampler idle while this is happening?\n",
    "\n",
    "        # Needle Up\n",
    "        #g.bCommand(Z0)\n",
    "\n",
    "        # Log the vial and the amount taken\n",
    "        # Add a logger...\n",
    "\n",
    "        # Create air gap\n",
    "        # Create a tiny airgap with the pump, will this be necessary?\n",
    "\n",
    "        print(vial_xy_pos)\n",
    "        \n",
    "    # Go to the DIM and inject\n",
    "    # Blank the display\n",
    "    #g.bCommand('WBB')\n",
    "    \n",
    "    # For now, let's just go to Home\n",
    "    #g.bConnect('H')"
   ]
  },
  {
   "cell_type": "code",
   "execution_count": null,
   "id": "6ccf260e-d7bb-43d1-85e3-c2b54e3c8fb4",
   "metadata": {},
   "outputs": [],
   "source": []
  }
 ],
 "metadata": {
  "kernelspec": {
   "display_name": "Python 3 (ipykernel)",
   "language": "python",
   "name": "python3"
  },
  "language_info": {
   "codemirror_mode": {
    "name": "ipython",
    "version": 3
   },
   "file_extension": ".py",
   "mimetype": "text/x-python",
   "name": "python",
   "nbconvert_exporter": "python",
   "pygments_lexer": "ipython3",
   "version": "3.12.4"
  }
 },
 "nbformat": 4,
 "nbformat_minor": 5
}
