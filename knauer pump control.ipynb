{
 "cells": [
  {
   "cell_type": "code",
   "execution_count": 6,
   "id": "5798da4b-dc07-4b53-b00d-9676119acb6e",
   "metadata": {},
   "outputs": [],
   "source": [
    "import serial"
   ]
  },
  {
   "cell_type": "code",
   "execution_count": 128,
   "id": "5f879f5f-4c09-4e73-8d34-40a542cfeefb",
   "metadata": {},
   "outputs": [],
   "source": [
    "class K100Pump :\n",
    "    def __init__(self, serial, device_name, ID):\n",
    "        \n",
    "        self.serial = serial\n",
    "        self.device_name = device_name\n",
    "        self.ID = ID\n",
    "        self.connection_repeats = 5 # was 100...\n",
    "\n",
    "    def connect(self): \n",
    "        \"\"\"\"\" Connection of the valve to the computer via serial port \"\"\"\n",
    "        COMPORT = 'COM7'\n",
    "        global ser\n",
    "        ser = serial.Serial()\n",
    "        ser.baudrate = 9600\n",
    "        ser.port = COMPORT #counter for port name starts at 0\n",
    "        parity=serial.PARITY_NONE\n",
    "        stopbits=serial.STOPBITS_ONE\n",
    "        bytesize=serial.EIGHTBITS\n",
    "  \n",
    "        if (ser.isOpen() == False):\n",
    "            ser.timeout = 1\n",
    "            ser.open()\n",
    "            print(\"Device is connected\")\n",
    "\n",
    "        else:\n",
    "            print ('The Port is closed: ' + ser1.portstr)\n",
    "        \n",
    "    def command(self, code):\n",
    "        ser.write(f'{code}\\r'.encode())\n",
    "        byteData = ser.readline().decode().strip()\n",
    "        return byteData\n",
    "\n",
    "    def set_flow(self, flow_rate):\n",
    "        byteData = pump.command(f\"F{flow_rate}\")\n",
    "        return byteData\n",
    "\n",
    "    def get_flow(self):\n",
    "        byteData = pump.command(f\"F?\")\n",
    "        return byteData\n",
    "\n",
    "    def start_flow(self):\n",
    "        byteData = pump.command(f\"M1\")\n",
    "        return byteData\n",
    "\n",
    "    def stop_flow(self):\n",
    "        byteData = pump.command(f\"M0\")\n",
    "        return byteData"
   ]
  },
  {
   "cell_type": "code",
   "execution_count": 129,
   "id": "f21f4642-316f-414b-8f45-7b2bac1f8236",
   "metadata": {},
   "outputs": [],
   "source": [
    "#Defining ser\n",
    "ser = serial.Serial()"
   ]
  },
  {
   "cell_type": "code",
   "execution_count": 130,
   "id": "920b4828-baa2-420a-a305-4d7d3535aaea",
   "metadata": {},
   "outputs": [],
   "source": [
    "# Create an instance of the gsioc_Protocol class\n",
    "pump = K100Pump(ser, 'K100 V01.30', 1)"
   ]
  },
  {
   "cell_type": "code",
   "execution_count": 131,
   "id": "61287c17-6432-4fd8-90cc-34babcc14737",
   "metadata": {},
   "outputs": [
    {
     "name": "stdout",
     "output_type": "stream",
     "text": [
      "Device is connected\n"
     ]
    }
   ],
   "source": [
    "#Connecting to pump\n",
    "pump.connect()"
   ]
  },
  {
   "cell_type": "code",
   "execution_count": 132,
   "id": "72066619-9d49-4d8a-a5cb-674b689273c7",
   "metadata": {},
   "outputs": [
    {
     "data": {
      "text/plain": [
       "'OK'"
      ]
     },
     "execution_count": 132,
     "metadata": {},
     "output_type": "execute_result"
    }
   ],
   "source": [
    "#Setting flow rate\n",
    "pump.set_flow(\"1.0\")"
   ]
  },
  {
   "cell_type": "code",
   "execution_count": 133,
   "id": "d780cb94-23cf-478a-9464-4e4a763c5dc0",
   "metadata": {},
   "outputs": [
    {
     "data": {
      "text/plain": [
       "'F01.000'"
      ]
     },
     "execution_count": 133,
     "metadata": {},
     "output_type": "execute_result"
    }
   ],
   "source": [
    "#Requesting the flow rate from pump\n",
    "pump.get_flow()"
   ]
  },
  {
   "cell_type": "code",
   "execution_count": 134,
   "id": "9685d50c-c5af-4ce3-8b0d-207cbc6c67cf",
   "metadata": {},
   "outputs": [
    {
     "data": {
      "text/plain": [
       "'OK'"
      ]
     },
     "execution_count": 134,
     "metadata": {},
     "output_type": "execute_result"
    }
   ],
   "source": [
    "#Start flow\n",
    "pump.start_flow()"
   ]
  },
  {
   "cell_type": "code",
   "execution_count": 135,
   "id": "4e062f71-9852-4e1e-b3ad-061776df564a",
   "metadata": {},
   "outputs": [
    {
     "data": {
      "text/plain": [
       "'OK'"
      ]
     },
     "execution_count": 135,
     "metadata": {},
     "output_type": "execute_result"
    }
   ],
   "source": [
    "#Stop flow\n",
    "pump.stop_flow()"
   ]
  }
 ],
 "metadata": {
  "kernelspec": {
   "display_name": "Python 3 (ipykernel)",
   "language": "python",
   "name": "python3"
  },
  "language_info": {
   "codemirror_mode": {
    "name": "ipython",
    "version": 3
   },
   "file_extension": ".py",
   "mimetype": "text/x-python",
   "name": "python",
   "nbconvert_exporter": "python",
   "pygments_lexer": "ipython3",
   "version": "3.12.4"
  }
 },
 "nbformat": 4,
 "nbformat_minor": 5
}
