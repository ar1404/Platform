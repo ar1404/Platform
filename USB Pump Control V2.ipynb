{
 "cells": [
  {
   "cell_type": "code",
   "execution_count": 2,
   "id": "4deb0257-2bcf-4e99-a175-ffb917779bfb",
   "metadata": {},
   "outputs": [],
   "source": [
    "import usb.core\n",
    "import usb.util\n",
    "import usb\n",
    "import usb.backend.libusb1"
   ]
  },
  {
   "cell_type": "code",
   "execution_count": 3,
   "id": "dc1cf43e-9630-4560-b8b6-1cdd03f04543",
   "metadata": {},
   "outputs": [
    {
     "name": "stdout",
     "output_type": "stream",
     "text": [
      "Device: 16700:12314\n",
      "Device: 8144:1028\n",
      "Device: 4358:12344\n",
      "Device: 4358:12344\n",
      "Device: 3034:33107\n",
      "Device: 16700:8467\n",
      "Device: 2385:5734\n",
      "Device: 4358:12548\n",
      "Device: 32902:41837\n",
      "Device: 1659:9123\n"
     ]
    }
   ],
   "source": [
    "devices = usb.core.find(find_all=True)\n",
    "for device in devices:\n",
    "    print(f\"Device: {device.idVendor}:{device.idProduct}\")"
   ]
  },
  {
   "cell_type": "code",
   "execution_count": 9,
   "id": "953fac98-0c03-495e-b1de-c069540552b0",
   "metadata": {},
   "outputs": [],
   "source": [
    "dev = usb.core.find(idVendor=0x1FD0, idProduct=0x0404)"
   ]
  },
  {
   "cell_type": "code",
   "execution_count": 11,
   "id": "a8613bc4-ad66-48f2-86ef-46a761f66f54",
   "metadata": {},
   "outputs": [
    {
     "name": "stdout",
     "output_type": "stream",
     "text": [
      "Error: Operation not supported or unimplemented on this platform\n"
     ]
    }
   ],
   "source": [
    "backend = usb.backend.libusb1.get_backend()\n",
    "dev = usb.core.find(idVendor=0x1FD0, idProduct=0x0404)\n",
    "\n",
    "if dev is None:\n",
    "    raise ValueError(\"Device not found\")\n",
    "\n",
    "# Attempt to set the configuration\n",
    "try:\n",
    "    dev.set_configuration()\n",
    "except NotImplementedError as e:\n",
    "    print(f\"Error: {e}\")"
   ]
  },
  {
   "cell_type": "code",
   "execution_count": null,
   "id": "7cfadb14-dd49-4a54-af2d-4006886d0ddb",
   "metadata": {},
   "outputs": [],
   "source": []
  }
 ],
 "metadata": {
  "kernelspec": {
   "display_name": "Python 3 (ipykernel)",
   "language": "python",
   "name": "python3"
  },
  "language_info": {
   "codemirror_mode": {
    "name": "ipython",
    "version": 3
   },
   "file_extension": ".py",
   "mimetype": "text/x-python",
   "name": "python",
   "nbconvert_exporter": "python",
   "pygments_lexer": "ipython3",
   "version": "3.11.7"
  }
 },
 "nbformat": 4,
 "nbformat_minor": 5
}
