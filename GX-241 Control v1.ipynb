{
 "cells": [
  {
   "cell_type": "markdown",
   "id": "94e6f2a6-9a8c-4676-864c-9c1dd30ea6b7",
   "metadata": {},
   "source": [
    "# To Do"
   ]
  },
  {
   "cell_type": "markdown",
   "id": "f64165da-c730-4619-be56-4fdf7648f0e6",
   "metadata": {},
   "source": [
    "1) Check each function in: gsioc.py, commands.py, platform_setup.p. run.py\n",
    "2) Apply black formatting to each file?\n",
    "3) Set up virtual rack: measurements, move the arm\n",
    "4) Set up virtual vials"
   ]
  },
  {
   "cell_type": "code",
   "execution_count": 1,
   "id": "38def2b4-4cd7-4e1f-834f-6db4e1f7c1c8",
   "metadata": {},
   "outputs": [],
   "source": [
    "import time\n",
    "import serial\n",
    "import numpy as np\n",
    "import sys\n",
    "import os\n",
    "import asyncio\n",
    "from multiprocessing import Process\n",
    "import threading\n",
    "from scipy import constants\n",
    "import itertools\n",
    "\n",
    "import binascii\n",
    "import datetime\n",
    "import logging\n",
    "\n",
    "#from gsioc import gsioc_Protocol, ensure_xy_position_will_be_reached"
   ]
  },
  {
   "cell_type": "markdown",
   "id": "1d0db269-dbab-424a-99a5-188148d0555a",
   "metadata": {},
   "source": [
    "## Get started with GSIOC"
   ]
  },
  {
   "cell_type": "markdown",
   "id": "379f0e49-c3c5-4544-949e-1c1e0e4dd23c",
   "metadata": {},
   "source": [
    "To reset the COM port:\n",
    "1) Open device manager and disable COM1\n",
    "2) Turn machine off and on\n",
    "3) Enable COM1 in device manager\n",
    "\n",
    "Use ser.close() here to close the serial port\n",
    "\n",
    "NOTE: Python seems to have problems when the GX-241 is in COM1 (motherboard), it will connect but cannot send or recieve. This is easily fixed by using a USB to serial adapter instead."
   ]
  },
  {
   "cell_type": "code",
   "execution_count": 2,
   "id": "717428bb-de6b-4104-81ec-88619fc29f2b",
   "metadata": {},
   "outputs": [],
   "source": [
    "from gsioc import *"
   ]
  },
  {
   "cell_type": "code",
   "execution_count": 3,
   "id": "8b0fc3ba-00c6-4f08-a1c3-537890108fe0",
   "metadata": {},
   "outputs": [],
   "source": [
    "# Set up the serial connection\n",
    "PORT1 = 'COM6'\n",
    "ser = serial.Serial(PORT1, 19200, 8, \"N\", 1, 0.1)"
   ]
  },
  {
   "cell_type": "code",
   "execution_count": 4,
   "id": "0c566769-2d01-442e-8826-ead57c1cd8c4",
   "metadata": {},
   "outputs": [],
   "source": [
    "# Create an instance of the gsioc_Protocol class\n",
    "g = gsioc_Protocol(ser, 'GX-241 II', 30)"
   ]
  },
  {
   "cell_type": "code",
   "execution_count": 5,
   "id": "f71f4fef-48d5-48d0-bdb9-87c99af2c23c",
   "metadata": {},
   "outputs": [],
   "source": [
    "#g.create_logger()"
   ]
  },
  {
   "cell_type": "code",
   "execution_count": 16,
   "id": "7e8cdea3-e354-47b2-8e1c-ae7d5305387c",
   "metadata": {
    "scrolled": true
   },
   "outputs": [
    {
     "name": "stderr",
     "output_type": "stream",
     "text": [
      "\u001b[32m2024-11-19 10:28:56.557\u001b[0m | \u001b[34m\u001b[1mDEBUG   \u001b[0m | \u001b[36mgsioc\u001b[0m:\u001b[36mverify_open\u001b[0m:\u001b[36m60\u001b[0m - \u001b[34m\u001b[1mCheck if port is open.\u001b[0m\n",
      "\u001b[32m2024-11-19 10:28:57.073\u001b[0m | \u001b[34m\u001b[1mDEBUG   \u001b[0m | \u001b[36mgsioc\u001b[0m:\u001b[36miCommand\u001b[0m:\u001b[36m126\u001b[0m - \u001b[34m\u001b[1mSending immediate command % to device.\u001b[0m\n",
      "\u001b[32m2024-11-19 10:28:59.011\u001b[0m | \u001b[34m\u001b[1mDEBUG   \u001b[0m | \u001b[36mgsioc\u001b[0m:\u001b[36miCommand\u001b[0m:\u001b[36m155\u001b[0m - \u001b[34m\u001b[1mSending immediate command complete.\u001b[0m\n",
      "\u001b[32m2024-11-19 10:28:59.011\u001b[0m | \u001b[34m\u001b[1mDEBUG   \u001b[0m | \u001b[36mgsioc\u001b[0m:\u001b[36miCommand\u001b[0m:\u001b[36m164\u001b[0m - \u001b[34m\u001b[1mreceived bytearray(b'GX-241 II v2.0.2.5') as response.\u001b[0m\n",
      "\u001b[32m2024-11-19 10:28:59.217\u001b[0m | \u001b[34m\u001b[1mDEBUG   \u001b[0m | \u001b[36mgsioc\u001b[0m:\u001b[36mconnect\u001b[0m:\u001b[36m111\u001b[0m - \u001b[34m\u001b[1mConnected to device 30\u001b[0m\n"
     ]
    }
   ],
   "source": [
    "g.connect()"
   ]
  },
  {
   "cell_type": "code",
   "execution_count": 15,
   "id": "a0f08880-c573-4ee4-af7b-17d16ed937c2",
   "metadata": {},
   "outputs": [
    {
     "name": "stderr",
     "output_type": "stream",
     "text": [
      "\u001b[32m2024-11-19 10:28:48.166\u001b[0m | \u001b[34m\u001b[1mDEBUG   \u001b[0m | \u001b[36mgsioc\u001b[0m:\u001b[36miCommand\u001b[0m:\u001b[36m126\u001b[0m - \u001b[34m\u001b[1mSending immediate command % to device.\u001b[0m\n",
      "\u001b[32m2024-11-19 10:28:50.086\u001b[0m | \u001b[34m\u001b[1mDEBUG   \u001b[0m | \u001b[36mgsioc\u001b[0m:\u001b[36miCommand\u001b[0m:\u001b[36m155\u001b[0m - \u001b[34m\u001b[1mSending immediate command complete.\u001b[0m\n",
      "\u001b[32m2024-11-19 10:28:50.086\u001b[0m | \u001b[34m\u001b[1mDEBUG   \u001b[0m | \u001b[36mgsioc\u001b[0m:\u001b[36miCommand\u001b[0m:\u001b[36m164\u001b[0m - \u001b[34m\u001b[1mreceived bytearray(b'GX D Inject v1.2.0') as response.\u001b[0m\n"
     ]
    },
    {
     "data": {
      "text/plain": [
       "'GX D Inject v1.2.0'"
      ]
     },
     "execution_count": 15,
     "metadata": {},
     "output_type": "execute_result"
    }
   ],
   "source": [
    "g.iCommand('%')"
   ]
  },
  {
   "cell_type": "markdown",
   "id": "0ac98150-1e4d-431c-bb65-621a58e873f9",
   "metadata": {},
   "source": [
    "# hide for now"
   ]
  },
  {
   "cell_type": "code",
   "execution_count": 7,
   "id": "991b4a46-ea6b-459a-8376-0fe9943bc847",
   "metadata": {},
   "outputs": [
    {
     "name": "stderr",
     "output_type": "stream",
     "text": [
      "\u001b[32m2024-11-19 10:16:27.635\u001b[0m | \u001b[34m\u001b[1mDEBUG   \u001b[0m | \u001b[36mgsioc\u001b[0m:\u001b[36mbCommand\u001b[0m:\u001b[36m171\u001b[0m - \u001b[34m\u001b[1mSending buffered command \"H\" to device.\u001b[0m\n",
      "\u001b[32m2024-11-19 10:16:27.635\u001b[0m | \u001b[1mINFO    \u001b[0m | \u001b[36mgsioc\u001b[0m:\u001b[36mbCommand\u001b[0m:\u001b[36m176\u001b[0m - \u001b[1mGSIOC <<< H\u001b[0m\n",
      "\u001b[32m2024-11-19 10:16:27.735\u001b[0m | \u001b[34m\u001b[1mDEBUG   \u001b[0m | \u001b[36mgsioc\u001b[0m:\u001b[36mbCommand\u001b[0m:\u001b[36m195\u001b[0m - \u001b[34m\u001b[1mready signal: b'\\n'\u001b[0m\n",
      "\u001b[32m2024-11-19 10:16:27.735\u001b[0m | \u001b[34m\u001b[1mDEBUG   \u001b[0m | \u001b[36mgsioc\u001b[0m:\u001b[36mbCommand\u001b[0m:\u001b[36m204\u001b[0m - \u001b[34m\u001b[1mStarting to send buffered command.\u001b[0m\n",
      "\u001b[32m2024-11-19 10:16:27.735\u001b[0m | \u001b[34m\u001b[1mDEBUG   \u001b[0m | \u001b[36mgsioc\u001b[0m:\u001b[36mbCommand\u001b[0m:\u001b[36m215\u001b[0m - \u001b[34m\u001b[1m10\u001b[0m\n",
      "\u001b[32m2024-11-19 10:16:27.735\u001b[0m | \u001b[34m\u001b[1mDEBUG   \u001b[0m | \u001b[36mgsioc\u001b[0m:\u001b[36mbCommand\u001b[0m:\u001b[36m220\u001b[0m - \u001b[34m\u001b[1mWrites buffered Command character b'H' to the device GX-241 II.\u001b[0m\n",
      "\u001b[32m2024-11-19 10:16:27.735\u001b[0m | \u001b[34m\u001b[1mDEBUG   \u001b[0m | \u001b[36mgsioc\u001b[0m:\u001b[36mbCommand\u001b[0m:\u001b[36m222\u001b[0m - \u001b[34m\u001b[1mStarts reading character from the device GX-241 II.\u001b[0m\n",
      "\u001b[32m2024-11-19 10:16:27.852\u001b[0m | \u001b[34m\u001b[1mDEBUG   \u001b[0m | \u001b[36mgsioc\u001b[0m:\u001b[36mbCommand\u001b[0m:\u001b[36m224\u001b[0m - \u001b[34m\u001b[1mgot back b'H' from the device GX-241 II.\u001b[0m\n",
      "\u001b[32m2024-11-19 10:16:27.852\u001b[0m | \u001b[34m\u001b[1mDEBUG   \u001b[0m | \u001b[36mgsioc\u001b[0m:\u001b[36mbCommand\u001b[0m:\u001b[36m228\u001b[0m - \u001b[34m\u001b[1mresp_raw: b'H'\u001b[0m\n",
      "\u001b[32m2024-11-19 10:16:27.852\u001b[0m | \u001b[34m\u001b[1mDEBUG   \u001b[0m | \u001b[36mgsioc\u001b[0m:\u001b[36mbCommand\u001b[0m:\u001b[36m246\u001b[0m - \u001b[34m\u001b[1mresp_raw 2: 72\u001b[0m\n",
      "\u001b[32m2024-11-19 10:16:27.854\u001b[0m | \u001b[34m\u001b[1mDEBUG   \u001b[0m | \u001b[36mgsioc\u001b[0m:\u001b[36mbCommand\u001b[0m:\u001b[36m220\u001b[0m - \u001b[34m\u001b[1mWrites buffered Command character b'\\r' to the device GX-241 II.\u001b[0m\n",
      "\u001b[32m2024-11-19 10:16:27.855\u001b[0m | \u001b[34m\u001b[1mDEBUG   \u001b[0m | \u001b[36mgsioc\u001b[0m:\u001b[36mbCommand\u001b[0m:\u001b[36m222\u001b[0m - \u001b[34m\u001b[1mStarts reading character from the device GX-241 II.\u001b[0m\n",
      "\u001b[32m2024-11-19 10:16:27.969\u001b[0m | \u001b[34m\u001b[1mDEBUG   \u001b[0m | \u001b[36mgsioc\u001b[0m:\u001b[36mbCommand\u001b[0m:\u001b[36m224\u001b[0m - \u001b[34m\u001b[1mgot back b'\\r' from the device GX-241 II.\u001b[0m\n",
      "\u001b[32m2024-11-19 10:16:27.969\u001b[0m | \u001b[34m\u001b[1mDEBUG   \u001b[0m | \u001b[36mgsioc\u001b[0m:\u001b[36mbCommand\u001b[0m:\u001b[36m228\u001b[0m - \u001b[34m\u001b[1mresp_raw: b'\\r'\u001b[0m\n",
      "\u001b[32m2024-11-19 10:16:27.969\u001b[0m | \u001b[34m\u001b[1mDEBUG   \u001b[0m | \u001b[36mgsioc\u001b[0m:\u001b[36mbCommand\u001b[0m:\u001b[36m246\u001b[0m - \u001b[34m\u001b[1mresp_raw 2: 13\u001b[0m\n",
      "\u001b[32m2024-11-19 10:16:27.972\u001b[0m | \u001b[34m\u001b[1mDEBUG   \u001b[0m | \u001b[36mgsioc\u001b[0m:\u001b[36mbCommand\u001b[0m:\u001b[36m261\u001b[0m - \u001b[34m\u001b[1mBuffered command complete.\u001b[0m\n",
      "\u001b[32m2024-11-19 10:16:27.972\u001b[0m | \u001b[34m\u001b[1mDEBUG   \u001b[0m | \u001b[36mgsioc\u001b[0m:\u001b[36mbCommand\u001b[0m:\u001b[36m262\u001b[0m - \u001b[34m\u001b[1mReceived bytearray(b'\\nH\\r') from device.\u001b[0m\n",
      "\u001b[32m2024-11-19 10:16:27.973\u001b[0m | \u001b[1mINFO    \u001b[0m | \u001b[36mgsioc\u001b[0m:\u001b[36mbCommand\u001b[0m:\u001b[36m263\u001b[0m - \u001b[1mGSIOC >>> bytearray(b'\\nH\\r')\u001b[0m\n"
     ]
    },
    {
     "data": {
      "text/plain": [
       "bytearray(b'\\nH\\r')"
      ]
     },
     "execution_count": 7,
     "metadata": {},
     "output_type": "execute_result"
    }
   ],
   "source": [
    "g.bCommand('H')"
   ]
  },
  {
   "cell_type": "code",
   "execution_count": 9,
   "id": "0a47ac15-22bc-4960-a89d-d67a19f27b26",
   "metadata": {},
   "outputs": [
    {
     "name": "stderr",
     "output_type": "stream",
     "text": [
      "\u001b[32m2024-11-19 10:11:30.231\u001b[0m | \u001b[34m\u001b[1mDEBUG   \u001b[0m | \u001b[36mgsioc\u001b[0m:\u001b[36miCommand\u001b[0m:\u001b[36m126\u001b[0m - \u001b[34m\u001b[1mSending immediate command e to device.\u001b[0m\n",
      "\u001b[32m2024-11-19 10:11:31.295\u001b[0m | \u001b[34m\u001b[1mDEBUG   \u001b[0m | \u001b[36mgsioc\u001b[0m:\u001b[36miCommand\u001b[0m:\u001b[36m155\u001b[0m - \u001b[34m\u001b[1mSending immediate command complete.\u001b[0m\n",
      "\u001b[32m2024-11-19 10:11:31.297\u001b[0m | \u001b[34m\u001b[1mDEBUG   \u001b[0m | \u001b[36mgsioc\u001b[0m:\u001b[36miCommand\u001b[0m:\u001b[36m164\u001b[0m - \u001b[34m\u001b[1mreceived bytearray(b'0 No Error') as response.\u001b[0m\n"
     ]
    },
    {
     "data": {
      "text/plain": [
       "'0 No Error'"
      ]
     },
     "execution_count": 9,
     "metadata": {},
     "output_type": "execute_result"
    }
   ],
   "source": [
    "g.iCommand('e')"
   ]
  },
  {
   "cell_type": "code",
   "execution_count": 20,
   "id": "44c7faf3-cbd8-4c7a-a54b-f57327e4f023",
   "metadata": {},
   "outputs": [
    {
     "name": "stderr",
     "output_type": "stream",
     "text": [
      "\u001b[32m2024-11-19 10:29:54.365\u001b[0m | \u001b[34m\u001b[1mDEBUG   \u001b[0m | \u001b[36mgsioc\u001b[0m:\u001b[36miCommand\u001b[0m:\u001b[36m126\u001b[0m - \u001b[34m\u001b[1mSending immediate command P to device.\u001b[0m\n",
      "\u001b[32m2024-11-19 10:29:55.653\u001b[0m | \u001b[34m\u001b[1mDEBUG   \u001b[0m | \u001b[36mgsioc\u001b[0m:\u001b[36miCommand\u001b[0m:\u001b[36m155\u001b[0m - \u001b[34m\u001b[1mSending immediate command complete.\u001b[0m\n",
      "\u001b[32m2024-11-19 10:29:55.653\u001b[0m | \u001b[34m\u001b[1mDEBUG   \u001b[0m | \u001b[36mgsioc\u001b[0m:\u001b[36miCommand\u001b[0m:\u001b[36m164\u001b[0m - \u001b[34m\u001b[1mreceived bytearray(b'62.3/146/125') as response.\u001b[0m\n"
     ]
    },
    {
     "data": {
      "text/plain": [
       "'62.3/146/125'"
      ]
     },
     "execution_count": 20,
     "metadata": {},
     "output_type": "execute_result"
    }
   ],
   "source": [
    "g.iCommand('P')"
   ]
  },
  {
   "cell_type": "code",
   "execution_count": null,
   "id": "70e1e346-6410-4131-9c6c-d6199a4cd2c6",
   "metadata": {},
   "outputs": [],
   "source": [
    "g.iCommand('X')"
   ]
  },
  {
   "cell_type": "code",
   "execution_count": 18,
   "id": "123ebf01-7354-4686-b0b8-327ffe4c6008",
   "metadata": {},
   "outputs": [
    {
     "name": "stderr",
     "output_type": "stream",
     "text": [
      "\u001b[32m2024-11-19 10:29:23.964\u001b[0m | \u001b[34m\u001b[1mDEBUG   \u001b[0m | \u001b[36mgsioc\u001b[0m:\u001b[36mbCommand\u001b[0m:\u001b[36m171\u001b[0m - \u001b[34m\u001b[1mSending buffered command \"H\" to device.\u001b[0m\n",
      "\u001b[32m2024-11-19 10:29:23.965\u001b[0m | \u001b[1mINFO    \u001b[0m | \u001b[36mgsioc\u001b[0m:\u001b[36mbCommand\u001b[0m:\u001b[36m176\u001b[0m - \u001b[1mGSIOC <<< H\u001b[0m\n",
      "\u001b[32m2024-11-19 10:29:24.078\u001b[0m | \u001b[34m\u001b[1mDEBUG   \u001b[0m | \u001b[36mgsioc\u001b[0m:\u001b[36mbCommand\u001b[0m:\u001b[36m195\u001b[0m - \u001b[34m\u001b[1mready signal: b'\\n'\u001b[0m\n",
      "\u001b[32m2024-11-19 10:29:24.079\u001b[0m | \u001b[34m\u001b[1mDEBUG   \u001b[0m | \u001b[36mgsioc\u001b[0m:\u001b[36mbCommand\u001b[0m:\u001b[36m204\u001b[0m - \u001b[34m\u001b[1mStarting to send buffered command.\u001b[0m\n",
      "\u001b[32m2024-11-19 10:29:24.080\u001b[0m | \u001b[34m\u001b[1mDEBUG   \u001b[0m | \u001b[36mgsioc\u001b[0m:\u001b[36mbCommand\u001b[0m:\u001b[36m215\u001b[0m - \u001b[34m\u001b[1m10\u001b[0m\n",
      "\u001b[32m2024-11-19 10:29:24.080\u001b[0m | \u001b[34m\u001b[1mDEBUG   \u001b[0m | \u001b[36mgsioc\u001b[0m:\u001b[36mbCommand\u001b[0m:\u001b[36m220\u001b[0m - \u001b[34m\u001b[1mWrites buffered Command character b'H' to the device GX-241 II.\u001b[0m\n",
      "\u001b[32m2024-11-19 10:29:24.081\u001b[0m | \u001b[34m\u001b[1mDEBUG   \u001b[0m | \u001b[36mgsioc\u001b[0m:\u001b[36mbCommand\u001b[0m:\u001b[36m222\u001b[0m - \u001b[34m\u001b[1mStarts reading character from the device GX-241 II.\u001b[0m\n",
      "\u001b[32m2024-11-19 10:29:24.191\u001b[0m | \u001b[34m\u001b[1mDEBUG   \u001b[0m | \u001b[36mgsioc\u001b[0m:\u001b[36mbCommand\u001b[0m:\u001b[36m224\u001b[0m - \u001b[34m\u001b[1mgot back b'H' from the device GX-241 II.\u001b[0m\n",
      "\u001b[32m2024-11-19 10:29:24.191\u001b[0m | \u001b[34m\u001b[1mDEBUG   \u001b[0m | \u001b[36mgsioc\u001b[0m:\u001b[36mbCommand\u001b[0m:\u001b[36m228\u001b[0m - \u001b[34m\u001b[1mresp_raw: b'H'\u001b[0m\n",
      "\u001b[32m2024-11-19 10:29:24.191\u001b[0m | \u001b[34m\u001b[1mDEBUG   \u001b[0m | \u001b[36mgsioc\u001b[0m:\u001b[36mbCommand\u001b[0m:\u001b[36m246\u001b[0m - \u001b[34m\u001b[1mresp_raw 2: 72\u001b[0m\n",
      "\u001b[32m2024-11-19 10:29:24.191\u001b[0m | \u001b[34m\u001b[1mDEBUG   \u001b[0m | \u001b[36mgsioc\u001b[0m:\u001b[36mbCommand\u001b[0m:\u001b[36m220\u001b[0m - \u001b[34m\u001b[1mWrites buffered Command character b'\\r' to the device GX-241 II.\u001b[0m\n",
      "\u001b[32m2024-11-19 10:29:24.194\u001b[0m | \u001b[34m\u001b[1mDEBUG   \u001b[0m | \u001b[36mgsioc\u001b[0m:\u001b[36mbCommand\u001b[0m:\u001b[36m222\u001b[0m - \u001b[34m\u001b[1mStarts reading character from the device GX-241 II.\u001b[0m\n",
      "\u001b[32m2024-11-19 10:29:24.308\u001b[0m | \u001b[34m\u001b[1mDEBUG   \u001b[0m | \u001b[36mgsioc\u001b[0m:\u001b[36mbCommand\u001b[0m:\u001b[36m224\u001b[0m - \u001b[34m\u001b[1mgot back b'\\r' from the device GX-241 II.\u001b[0m\n",
      "\u001b[32m2024-11-19 10:29:24.308\u001b[0m | \u001b[34m\u001b[1mDEBUG   \u001b[0m | \u001b[36mgsioc\u001b[0m:\u001b[36mbCommand\u001b[0m:\u001b[36m228\u001b[0m - \u001b[34m\u001b[1mresp_raw: b'\\r'\u001b[0m\n",
      "\u001b[32m2024-11-19 10:29:24.308\u001b[0m | \u001b[34m\u001b[1mDEBUG   \u001b[0m | \u001b[36mgsioc\u001b[0m:\u001b[36mbCommand\u001b[0m:\u001b[36m246\u001b[0m - \u001b[34m\u001b[1mresp_raw 2: 13\u001b[0m\n",
      "\u001b[32m2024-11-19 10:29:24.308\u001b[0m | \u001b[34m\u001b[1mDEBUG   \u001b[0m | \u001b[36mgsioc\u001b[0m:\u001b[36mbCommand\u001b[0m:\u001b[36m261\u001b[0m - \u001b[34m\u001b[1mBuffered command complete.\u001b[0m\n",
      "\u001b[32m2024-11-19 10:29:24.312\u001b[0m | \u001b[34m\u001b[1mDEBUG   \u001b[0m | \u001b[36mgsioc\u001b[0m:\u001b[36mbCommand\u001b[0m:\u001b[36m262\u001b[0m - \u001b[34m\u001b[1mReceived bytearray(b'\\nH\\r') from device.\u001b[0m\n",
      "\u001b[32m2024-11-19 10:29:24.312\u001b[0m | \u001b[1mINFO    \u001b[0m | \u001b[36mgsioc\u001b[0m:\u001b[36mbCommand\u001b[0m:\u001b[36m263\u001b[0m - \u001b[1mGSIOC >>> bytearray(b'\\nH\\r')\u001b[0m\n"
     ]
    },
    {
     "data": {
      "text/plain": [
       "bytearray(b'\\nH\\r')"
      ]
     },
     "execution_count": 18,
     "metadata": {},
     "output_type": "execute_result"
    }
   ],
   "source": [
    "g.bCommand('H')"
   ]
  },
  {
   "cell_type": "code",
   "execution_count": 19,
   "id": "82d54c41-464e-438c-aba9-79c86aaf0c6e",
   "metadata": {},
   "outputs": [
    {
     "name": "stderr",
     "output_type": "stream",
     "text": [
      "\u001b[32m2024-11-19 10:29:28.686\u001b[0m | \u001b[34m\u001b[1mDEBUG   \u001b[0m | \u001b[36mgsioc\u001b[0m:\u001b[36mbCommand\u001b[0m:\u001b[36m171\u001b[0m - \u001b[34m\u001b[1mSending buffered command \"X62.3/146\" to device.\u001b[0m\n",
      "\u001b[32m2024-11-19 10:29:28.687\u001b[0m | \u001b[1mINFO    \u001b[0m | \u001b[36mgsioc\u001b[0m:\u001b[36mbCommand\u001b[0m:\u001b[36m176\u001b[0m - \u001b[1mGSIOC <<< X62.3/146\u001b[0m\n",
      "\u001b[32m2024-11-19 10:29:28.796\u001b[0m | \u001b[34m\u001b[1mDEBUG   \u001b[0m | \u001b[36mgsioc\u001b[0m:\u001b[36mbCommand\u001b[0m:\u001b[36m195\u001b[0m - \u001b[34m\u001b[1mready signal: b'\\n'\u001b[0m\n",
      "\u001b[32m2024-11-19 10:29:28.796\u001b[0m | \u001b[34m\u001b[1mDEBUG   \u001b[0m | \u001b[36mgsioc\u001b[0m:\u001b[36mbCommand\u001b[0m:\u001b[36m204\u001b[0m - \u001b[34m\u001b[1mStarting to send buffered command.\u001b[0m\n",
      "\u001b[32m2024-11-19 10:29:28.796\u001b[0m | \u001b[34m\u001b[1mDEBUG   \u001b[0m | \u001b[36mgsioc\u001b[0m:\u001b[36mbCommand\u001b[0m:\u001b[36m215\u001b[0m - \u001b[34m\u001b[1m10\u001b[0m\n",
      "\u001b[32m2024-11-19 10:29:28.796\u001b[0m | \u001b[34m\u001b[1mDEBUG   \u001b[0m | \u001b[36mgsioc\u001b[0m:\u001b[36mbCommand\u001b[0m:\u001b[36m220\u001b[0m - \u001b[34m\u001b[1mWrites buffered Command character b'X' to the device GX-241 II.\u001b[0m\n",
      "\u001b[32m2024-11-19 10:29:28.799\u001b[0m | \u001b[34m\u001b[1mDEBUG   \u001b[0m | \u001b[36mgsioc\u001b[0m:\u001b[36mbCommand\u001b[0m:\u001b[36m222\u001b[0m - \u001b[34m\u001b[1mStarts reading character from the device GX-241 II.\u001b[0m\n",
      "\u001b[32m2024-11-19 10:29:28.913\u001b[0m | \u001b[34m\u001b[1mDEBUG   \u001b[0m | \u001b[36mgsioc\u001b[0m:\u001b[36mbCommand\u001b[0m:\u001b[36m224\u001b[0m - \u001b[34m\u001b[1mgot back b'X' from the device GX-241 II.\u001b[0m\n",
      "\u001b[32m2024-11-19 10:29:28.913\u001b[0m | \u001b[34m\u001b[1mDEBUG   \u001b[0m | \u001b[36mgsioc\u001b[0m:\u001b[36mbCommand\u001b[0m:\u001b[36m228\u001b[0m - \u001b[34m\u001b[1mresp_raw: b'X'\u001b[0m\n",
      "\u001b[32m2024-11-19 10:29:28.914\u001b[0m | \u001b[34m\u001b[1mDEBUG   \u001b[0m | \u001b[36mgsioc\u001b[0m:\u001b[36mbCommand\u001b[0m:\u001b[36m246\u001b[0m - \u001b[34m\u001b[1mresp_raw 2: 88\u001b[0m\n",
      "\u001b[32m2024-11-19 10:29:28.916\u001b[0m | \u001b[34m\u001b[1mDEBUG   \u001b[0m | \u001b[36mgsioc\u001b[0m:\u001b[36mbCommand\u001b[0m:\u001b[36m220\u001b[0m - \u001b[34m\u001b[1mWrites buffered Command character b'6' to the device GX-241 II.\u001b[0m\n",
      "\u001b[32m2024-11-19 10:29:28.917\u001b[0m | \u001b[34m\u001b[1mDEBUG   \u001b[0m | \u001b[36mgsioc\u001b[0m:\u001b[36mbCommand\u001b[0m:\u001b[36m222\u001b[0m - \u001b[34m\u001b[1mStarts reading character from the device GX-241 II.\u001b[0m\n",
      "\u001b[32m2024-11-19 10:29:29.030\u001b[0m | \u001b[34m\u001b[1mDEBUG   \u001b[0m | \u001b[36mgsioc\u001b[0m:\u001b[36mbCommand\u001b[0m:\u001b[36m224\u001b[0m - \u001b[34m\u001b[1mgot back b'6' from the device GX-241 II.\u001b[0m\n",
      "\u001b[32m2024-11-19 10:29:29.030\u001b[0m | \u001b[34m\u001b[1mDEBUG   \u001b[0m | \u001b[36mgsioc\u001b[0m:\u001b[36mbCommand\u001b[0m:\u001b[36m228\u001b[0m - \u001b[34m\u001b[1mresp_raw: b'6'\u001b[0m\n",
      "\u001b[32m2024-11-19 10:29:29.030\u001b[0m | \u001b[34m\u001b[1mDEBUG   \u001b[0m | \u001b[36mgsioc\u001b[0m:\u001b[36mbCommand\u001b[0m:\u001b[36m246\u001b[0m - \u001b[34m\u001b[1mresp_raw 2: 54\u001b[0m\n",
      "\u001b[32m2024-11-19 10:29:29.030\u001b[0m | \u001b[34m\u001b[1mDEBUG   \u001b[0m | \u001b[36mgsioc\u001b[0m:\u001b[36mbCommand\u001b[0m:\u001b[36m220\u001b[0m - \u001b[34m\u001b[1mWrites buffered Command character b'2' to the device GX-241 II.\u001b[0m\n",
      "\u001b[32m2024-11-19 10:29:29.034\u001b[0m | \u001b[34m\u001b[1mDEBUG   \u001b[0m | \u001b[36mgsioc\u001b[0m:\u001b[36mbCommand\u001b[0m:\u001b[36m222\u001b[0m - \u001b[34m\u001b[1mStarts reading character from the device GX-241 II.\u001b[0m\n",
      "\u001b[32m2024-11-19 10:29:29.147\u001b[0m | \u001b[34m\u001b[1mDEBUG   \u001b[0m | \u001b[36mgsioc\u001b[0m:\u001b[36mbCommand\u001b[0m:\u001b[36m224\u001b[0m - \u001b[34m\u001b[1mgot back b'2' from the device GX-241 II.\u001b[0m\n",
      "\u001b[32m2024-11-19 10:29:29.147\u001b[0m | \u001b[34m\u001b[1mDEBUG   \u001b[0m | \u001b[36mgsioc\u001b[0m:\u001b[36mbCommand\u001b[0m:\u001b[36m228\u001b[0m - \u001b[34m\u001b[1mresp_raw: b'2'\u001b[0m\n",
      "\u001b[32m2024-11-19 10:29:29.147\u001b[0m | \u001b[34m\u001b[1mDEBUG   \u001b[0m | \u001b[36mgsioc\u001b[0m:\u001b[36mbCommand\u001b[0m:\u001b[36m246\u001b[0m - \u001b[34m\u001b[1mresp_raw 2: 50\u001b[0m\n",
      "\u001b[32m2024-11-19 10:29:29.147\u001b[0m | \u001b[34m\u001b[1mDEBUG   \u001b[0m | \u001b[36mgsioc\u001b[0m:\u001b[36mbCommand\u001b[0m:\u001b[36m220\u001b[0m - \u001b[34m\u001b[1mWrites buffered Command character b'.' to the device GX-241 II.\u001b[0m\n",
      "\u001b[32m2024-11-19 10:29:29.147\u001b[0m | \u001b[34m\u001b[1mDEBUG   \u001b[0m | \u001b[36mgsioc\u001b[0m:\u001b[36mbCommand\u001b[0m:\u001b[36m222\u001b[0m - \u001b[34m\u001b[1mStarts reading character from the device GX-241 II.\u001b[0m\n",
      "\u001b[32m2024-11-19 10:29:29.264\u001b[0m | \u001b[34m\u001b[1mDEBUG   \u001b[0m | \u001b[36mgsioc\u001b[0m:\u001b[36mbCommand\u001b[0m:\u001b[36m224\u001b[0m - \u001b[34m\u001b[1mgot back b'.' from the device GX-241 II.\u001b[0m\n",
      "\u001b[32m2024-11-19 10:29:29.264\u001b[0m | \u001b[34m\u001b[1mDEBUG   \u001b[0m | \u001b[36mgsioc\u001b[0m:\u001b[36mbCommand\u001b[0m:\u001b[36m228\u001b[0m - \u001b[34m\u001b[1mresp_raw: b'.'\u001b[0m\n",
      "\u001b[32m2024-11-19 10:29:29.264\u001b[0m | \u001b[34m\u001b[1mDEBUG   \u001b[0m | \u001b[36mgsioc\u001b[0m:\u001b[36mbCommand\u001b[0m:\u001b[36m246\u001b[0m - \u001b[34m\u001b[1mresp_raw 2: 46\u001b[0m\n",
      "\u001b[32m2024-11-19 10:29:29.264\u001b[0m | \u001b[34m\u001b[1mDEBUG   \u001b[0m | \u001b[36mgsioc\u001b[0m:\u001b[36mbCommand\u001b[0m:\u001b[36m220\u001b[0m - \u001b[34m\u001b[1mWrites buffered Command character b'3' to the device GX-241 II.\u001b[0m\n",
      "\u001b[32m2024-11-19 10:29:29.264\u001b[0m | \u001b[34m\u001b[1mDEBUG   \u001b[0m | \u001b[36mgsioc\u001b[0m:\u001b[36mbCommand\u001b[0m:\u001b[36m222\u001b[0m - \u001b[34m\u001b[1mStarts reading character from the device GX-241 II.\u001b[0m\n",
      "\u001b[32m2024-11-19 10:29:29.381\u001b[0m | \u001b[34m\u001b[1mDEBUG   \u001b[0m | \u001b[36mgsioc\u001b[0m:\u001b[36mbCommand\u001b[0m:\u001b[36m224\u001b[0m - \u001b[34m\u001b[1mgot back b'3' from the device GX-241 II.\u001b[0m\n",
      "\u001b[32m2024-11-19 10:29:29.381\u001b[0m | \u001b[34m\u001b[1mDEBUG   \u001b[0m | \u001b[36mgsioc\u001b[0m:\u001b[36mbCommand\u001b[0m:\u001b[36m228\u001b[0m - \u001b[34m\u001b[1mresp_raw: b'3'\u001b[0m\n",
      "\u001b[32m2024-11-19 10:29:29.381\u001b[0m | \u001b[34m\u001b[1mDEBUG   \u001b[0m | \u001b[36mgsioc\u001b[0m:\u001b[36mbCommand\u001b[0m:\u001b[36m246\u001b[0m - \u001b[34m\u001b[1mresp_raw 2: 51\u001b[0m\n",
      "\u001b[32m2024-11-19 10:29:29.381\u001b[0m | \u001b[34m\u001b[1mDEBUG   \u001b[0m | \u001b[36mgsioc\u001b[0m:\u001b[36mbCommand\u001b[0m:\u001b[36m220\u001b[0m - \u001b[34m\u001b[1mWrites buffered Command character b'/' to the device GX-241 II.\u001b[0m\n",
      "\u001b[32m2024-11-19 10:29:29.381\u001b[0m | \u001b[34m\u001b[1mDEBUG   \u001b[0m | \u001b[36mgsioc\u001b[0m:\u001b[36mbCommand\u001b[0m:\u001b[36m222\u001b[0m - \u001b[34m\u001b[1mStarts reading character from the device GX-241 II.\u001b[0m\n",
      "\u001b[32m2024-11-19 10:29:29.482\u001b[0m | \u001b[34m\u001b[1mDEBUG   \u001b[0m | \u001b[36mgsioc\u001b[0m:\u001b[36mbCommand\u001b[0m:\u001b[36m224\u001b[0m - \u001b[34m\u001b[1mgot back b'/' from the device GX-241 II.\u001b[0m\n",
      "\u001b[32m2024-11-19 10:29:29.482\u001b[0m | \u001b[34m\u001b[1mDEBUG   \u001b[0m | \u001b[36mgsioc\u001b[0m:\u001b[36mbCommand\u001b[0m:\u001b[36m228\u001b[0m - \u001b[34m\u001b[1mresp_raw: b'/'\u001b[0m\n",
      "\u001b[32m2024-11-19 10:29:29.482\u001b[0m | \u001b[34m\u001b[1mDEBUG   \u001b[0m | \u001b[36mgsioc\u001b[0m:\u001b[36mbCommand\u001b[0m:\u001b[36m246\u001b[0m - \u001b[34m\u001b[1mresp_raw 2: 47\u001b[0m\n",
      "\u001b[32m2024-11-19 10:29:29.482\u001b[0m | \u001b[34m\u001b[1mDEBUG   \u001b[0m | \u001b[36mgsioc\u001b[0m:\u001b[36mbCommand\u001b[0m:\u001b[36m220\u001b[0m - \u001b[34m\u001b[1mWrites buffered Command character b'1' to the device GX-241 II.\u001b[0m\n",
      "\u001b[32m2024-11-19 10:29:29.484\u001b[0m | \u001b[34m\u001b[1mDEBUG   \u001b[0m | \u001b[36mgsioc\u001b[0m:\u001b[36mbCommand\u001b[0m:\u001b[36m222\u001b[0m - \u001b[34m\u001b[1mStarts reading character from the device GX-241 II.\u001b[0m\n",
      "\u001b[32m2024-11-19 10:29:29.596\u001b[0m | \u001b[34m\u001b[1mDEBUG   \u001b[0m | \u001b[36mgsioc\u001b[0m:\u001b[36mbCommand\u001b[0m:\u001b[36m224\u001b[0m - \u001b[34m\u001b[1mgot back b'1' from the device GX-241 II.\u001b[0m\n",
      "\u001b[32m2024-11-19 10:29:29.596\u001b[0m | \u001b[34m\u001b[1mDEBUG   \u001b[0m | \u001b[36mgsioc\u001b[0m:\u001b[36mbCommand\u001b[0m:\u001b[36m228\u001b[0m - \u001b[34m\u001b[1mresp_raw: b'1'\u001b[0m\n",
      "\u001b[32m2024-11-19 10:29:29.596\u001b[0m | \u001b[34m\u001b[1mDEBUG   \u001b[0m | \u001b[36mgsioc\u001b[0m:\u001b[36mbCommand\u001b[0m:\u001b[36m246\u001b[0m - \u001b[34m\u001b[1mresp_raw 2: 49\u001b[0m\n",
      "\u001b[32m2024-11-19 10:29:29.596\u001b[0m | \u001b[34m\u001b[1mDEBUG   \u001b[0m | \u001b[36mgsioc\u001b[0m:\u001b[36mbCommand\u001b[0m:\u001b[36m220\u001b[0m - \u001b[34m\u001b[1mWrites buffered Command character b'4' to the device GX-241 II.\u001b[0m\n",
      "\u001b[32m2024-11-19 10:29:29.599\u001b[0m | \u001b[34m\u001b[1mDEBUG   \u001b[0m | \u001b[36mgsioc\u001b[0m:\u001b[36mbCommand\u001b[0m:\u001b[36m222\u001b[0m - \u001b[34m\u001b[1mStarts reading character from the device GX-241 II.\u001b[0m\n",
      "\u001b[32m2024-11-19 10:29:29.715\u001b[0m | \u001b[34m\u001b[1mDEBUG   \u001b[0m | \u001b[36mgsioc\u001b[0m:\u001b[36mbCommand\u001b[0m:\u001b[36m224\u001b[0m - \u001b[34m\u001b[1mgot back b'4' from the device GX-241 II.\u001b[0m\n",
      "\u001b[32m2024-11-19 10:29:29.716\u001b[0m | \u001b[34m\u001b[1mDEBUG   \u001b[0m | \u001b[36mgsioc\u001b[0m:\u001b[36mbCommand\u001b[0m:\u001b[36m228\u001b[0m - \u001b[34m\u001b[1mresp_raw: b'4'\u001b[0m\n",
      "\u001b[32m2024-11-19 10:29:29.717\u001b[0m | \u001b[34m\u001b[1mDEBUG   \u001b[0m | \u001b[36mgsioc\u001b[0m:\u001b[36mbCommand\u001b[0m:\u001b[36m246\u001b[0m - \u001b[34m\u001b[1mresp_raw 2: 52\u001b[0m\n",
      "\u001b[32m2024-11-19 10:29:29.718\u001b[0m | \u001b[34m\u001b[1mDEBUG   \u001b[0m | \u001b[36mgsioc\u001b[0m:\u001b[36mbCommand\u001b[0m:\u001b[36m220\u001b[0m - \u001b[34m\u001b[1mWrites buffered Command character b'6' to the device GX-241 II.\u001b[0m\n",
      "\u001b[32m2024-11-19 10:29:29.719\u001b[0m | \u001b[34m\u001b[1mDEBUG   \u001b[0m | \u001b[36mgsioc\u001b[0m:\u001b[36mbCommand\u001b[0m:\u001b[36m222\u001b[0m - \u001b[34m\u001b[1mStarts reading character from the device GX-241 II.\u001b[0m\n",
      "\u001b[32m2024-11-19 10:29:29.831\u001b[0m | \u001b[34m\u001b[1mDEBUG   \u001b[0m | \u001b[36mgsioc\u001b[0m:\u001b[36mbCommand\u001b[0m:\u001b[36m224\u001b[0m - \u001b[34m\u001b[1mgot back b'6' from the device GX-241 II.\u001b[0m\n",
      "\u001b[32m2024-11-19 10:29:29.831\u001b[0m | \u001b[34m\u001b[1mDEBUG   \u001b[0m | \u001b[36mgsioc\u001b[0m:\u001b[36mbCommand\u001b[0m:\u001b[36m228\u001b[0m - \u001b[34m\u001b[1mresp_raw: b'6'\u001b[0m\n",
      "\u001b[32m2024-11-19 10:29:29.831\u001b[0m | \u001b[34m\u001b[1mDEBUG   \u001b[0m | \u001b[36mgsioc\u001b[0m:\u001b[36mbCommand\u001b[0m:\u001b[36m246\u001b[0m - \u001b[34m\u001b[1mresp_raw 2: 54\u001b[0m\n",
      "\u001b[32m2024-11-19 10:29:29.831\u001b[0m | \u001b[34m\u001b[1mDEBUG   \u001b[0m | \u001b[36mgsioc\u001b[0m:\u001b[36mbCommand\u001b[0m:\u001b[36m220\u001b[0m - \u001b[34m\u001b[1mWrites buffered Command character b'\\r' to the device GX-241 II.\u001b[0m\n",
      "\u001b[32m2024-11-19 10:29:29.834\u001b[0m | \u001b[34m\u001b[1mDEBUG   \u001b[0m | \u001b[36mgsioc\u001b[0m:\u001b[36mbCommand\u001b[0m:\u001b[36m222\u001b[0m - \u001b[34m\u001b[1mStarts reading character from the device GX-241 II.\u001b[0m\n",
      "\u001b[32m2024-11-19 10:29:29.948\u001b[0m | \u001b[34m\u001b[1mDEBUG   \u001b[0m | \u001b[36mgsioc\u001b[0m:\u001b[36mbCommand\u001b[0m:\u001b[36m224\u001b[0m - \u001b[34m\u001b[1mgot back b'\\r' from the device GX-241 II.\u001b[0m\n",
      "\u001b[32m2024-11-19 10:29:29.948\u001b[0m | \u001b[34m\u001b[1mDEBUG   \u001b[0m | \u001b[36mgsioc\u001b[0m:\u001b[36mbCommand\u001b[0m:\u001b[36m228\u001b[0m - \u001b[34m\u001b[1mresp_raw: b'\\r'\u001b[0m\n",
      "\u001b[32m2024-11-19 10:29:29.948\u001b[0m | \u001b[34m\u001b[1mDEBUG   \u001b[0m | \u001b[36mgsioc\u001b[0m:\u001b[36mbCommand\u001b[0m:\u001b[36m246\u001b[0m - \u001b[34m\u001b[1mresp_raw 2: 13\u001b[0m\n",
      "\u001b[32m2024-11-19 10:29:29.948\u001b[0m | \u001b[34m\u001b[1mDEBUG   \u001b[0m | \u001b[36mgsioc\u001b[0m:\u001b[36mbCommand\u001b[0m:\u001b[36m261\u001b[0m - \u001b[34m\u001b[1mBuffered command complete.\u001b[0m\n",
      "\u001b[32m2024-11-19 10:29:29.948\u001b[0m | \u001b[34m\u001b[1mDEBUG   \u001b[0m | \u001b[36mgsioc\u001b[0m:\u001b[36mbCommand\u001b[0m:\u001b[36m262\u001b[0m - \u001b[34m\u001b[1mReceived bytearray(b'\\nX62.3/146\\r') from device.\u001b[0m\n",
      "\u001b[32m2024-11-19 10:29:29.951\u001b[0m | \u001b[1mINFO    \u001b[0m | \u001b[36mgsioc\u001b[0m:\u001b[36mbCommand\u001b[0m:\u001b[36m263\u001b[0m - \u001b[1mGSIOC >>> bytearray(b'\\nX62.3/146\\r')\u001b[0m\n"
     ]
    },
    {
     "data": {
      "text/plain": [
       "bytearray(b'\\nX62.3/146\\r')"
      ]
     },
     "execution_count": 19,
     "metadata": {},
     "output_type": "execute_result"
    }
   ],
   "source": [
    "g.bCommand('X62.3/146')"
   ]
  },
  {
   "cell_type": "markdown",
   "id": "e0c61251-2784-4993-b3ac-b6864f124c31",
   "metadata": {},
   "source": [
    "To find the correct Z depth max!"
   ]
  },
  {
   "cell_type": "code",
   "execution_count": 18,
   "id": "b12f592c-bc05-4774-b3f3-9b80c5516955",
   "metadata": {},
   "outputs": [
    {
     "name": "stderr",
     "output_type": "stream",
     "text": [
      "\u001b[32m2024-11-19 10:13:42.470\u001b[0m | \u001b[34m\u001b[1mDEBUG   \u001b[0m | \u001b[36mgsioc\u001b[0m:\u001b[36mbCommand\u001b[0m:\u001b[36m171\u001b[0m - \u001b[34m\u001b[1mSending buffered command \"X61/245.5\" to device.\u001b[0m\n",
      "\u001b[32m2024-11-19 10:13:42.470\u001b[0m | \u001b[1mINFO    \u001b[0m | \u001b[36mgsioc\u001b[0m:\u001b[36mbCommand\u001b[0m:\u001b[36m176\u001b[0m - \u001b[1mGSIOC <<< X61/245.5\u001b[0m\n",
      "\u001b[32m2024-11-19 10:13:42.575\u001b[0m | \u001b[31m\u001b[1mERROR   \u001b[0m | \u001b[36mgsioc\u001b[0m:\u001b[36mbCommand\u001b[0m:\u001b[36m190\u001b[0m - \u001b[31m\u001b[1mAttempt 1/100: sent buffered Command X61/245.5, in binascii: b'\\nX61/245.5\\r'\u001b[0m\n",
      "\u001b[32m2024-11-19 10:13:42.575\u001b[0m | \u001b[34m\u001b[1mDEBUG   \u001b[0m | \u001b[36mgsioc\u001b[0m:\u001b[36mbCommand\u001b[0m:\u001b[36m171\u001b[0m - \u001b[34m\u001b[1mSending buffered command \"X61/245.5\" to device.\u001b[0m\n",
      "\u001b[32m2024-11-19 10:13:42.575\u001b[0m | \u001b[1mINFO    \u001b[0m | \u001b[36mgsioc\u001b[0m:\u001b[36mbCommand\u001b[0m:\u001b[36m176\u001b[0m - \u001b[1mGSIOC <<< X61/245.5\u001b[0m\n",
      "\u001b[32m2024-11-19 10:13:42.676\u001b[0m | \u001b[31m\u001b[1mERROR   \u001b[0m | \u001b[36mgsioc\u001b[0m:\u001b[36mbCommand\u001b[0m:\u001b[36m190\u001b[0m - \u001b[31m\u001b[1mAttempt 2/100: sent buffered Command X61/245.5, in binascii: b'\\nX61/245.5\\r'\u001b[0m\n",
      "\u001b[32m2024-11-19 10:13:42.676\u001b[0m | \u001b[34m\u001b[1mDEBUG   \u001b[0m | \u001b[36mgsioc\u001b[0m:\u001b[36mbCommand\u001b[0m:\u001b[36m171\u001b[0m - \u001b[34m\u001b[1mSending buffered command \"X61/245.5\" to device.\u001b[0m\n",
      "\u001b[32m2024-11-19 10:13:42.676\u001b[0m | \u001b[1mINFO    \u001b[0m | \u001b[36mgsioc\u001b[0m:\u001b[36mbCommand\u001b[0m:\u001b[36m176\u001b[0m - \u001b[1mGSIOC <<< X61/245.5\u001b[0m\n",
      "\u001b[32m2024-11-19 10:13:42.777\u001b[0m | \u001b[31m\u001b[1mERROR   \u001b[0m | \u001b[36mgsioc\u001b[0m:\u001b[36mbCommand\u001b[0m:\u001b[36m190\u001b[0m - \u001b[31m\u001b[1mAttempt 3/100: sent buffered Command X61/245.5, in binascii: b'\\nX61/245.5\\r'\u001b[0m\n",
      "\u001b[32m2024-11-19 10:13:42.777\u001b[0m | \u001b[34m\u001b[1mDEBUG   \u001b[0m | \u001b[36mgsioc\u001b[0m:\u001b[36mbCommand\u001b[0m:\u001b[36m171\u001b[0m - \u001b[34m\u001b[1mSending buffered command \"X61/245.5\" to device.\u001b[0m\n",
      "\u001b[32m2024-11-19 10:13:42.777\u001b[0m | \u001b[1mINFO    \u001b[0m | \u001b[36mgsioc\u001b[0m:\u001b[36mbCommand\u001b[0m:\u001b[36m176\u001b[0m - \u001b[1mGSIOC <<< X61/245.5\u001b[0m\n",
      "\u001b[32m2024-11-19 10:13:42.892\u001b[0m | \u001b[31m\u001b[1mERROR   \u001b[0m | \u001b[36mgsioc\u001b[0m:\u001b[36mbCommand\u001b[0m:\u001b[36m190\u001b[0m - \u001b[31m\u001b[1mAttempt 4/100: sent buffered Command X61/245.5, in binascii: b'\\nX61/245.5\\r'\u001b[0m\n",
      "\u001b[32m2024-11-19 10:13:42.892\u001b[0m | \u001b[34m\u001b[1mDEBUG   \u001b[0m | \u001b[36mgsioc\u001b[0m:\u001b[36mbCommand\u001b[0m:\u001b[36m171\u001b[0m - \u001b[34m\u001b[1mSending buffered command \"X61/245.5\" to device.\u001b[0m\n",
      "\u001b[32m2024-11-19 10:13:42.892\u001b[0m | \u001b[1mINFO    \u001b[0m | \u001b[36mgsioc\u001b[0m:\u001b[36mbCommand\u001b[0m:\u001b[36m176\u001b[0m - \u001b[1mGSIOC <<< X61/245.5\u001b[0m\n",
      "\u001b[32m2024-11-19 10:13:42.993\u001b[0m | \u001b[31m\u001b[1mERROR   \u001b[0m | \u001b[36mgsioc\u001b[0m:\u001b[36mbCommand\u001b[0m:\u001b[36m190\u001b[0m - \u001b[31m\u001b[1mAttempt 5/100: sent buffered Command X61/245.5, in binascii: b'\\nX61/245.5\\r'\u001b[0m\n",
      "\u001b[32m2024-11-19 10:13:42.993\u001b[0m | \u001b[34m\u001b[1mDEBUG   \u001b[0m | \u001b[36mgsioc\u001b[0m:\u001b[36mbCommand\u001b[0m:\u001b[36m171\u001b[0m - \u001b[34m\u001b[1mSending buffered command \"X61/245.5\" to device.\u001b[0m\n",
      "\u001b[32m2024-11-19 10:13:42.993\u001b[0m | \u001b[1mINFO    \u001b[0m | \u001b[36mgsioc\u001b[0m:\u001b[36mbCommand\u001b[0m:\u001b[36m176\u001b[0m - \u001b[1mGSIOC <<< X61/245.5\u001b[0m\n",
      "\u001b[32m2024-11-19 10:13:43.109\u001b[0m | \u001b[31m\u001b[1mERROR   \u001b[0m | \u001b[36mgsioc\u001b[0m:\u001b[36mbCommand\u001b[0m:\u001b[36m190\u001b[0m - \u001b[31m\u001b[1mAttempt 6/100: sent buffered Command X61/245.5, in binascii: b'\\nX61/245.5\\r'\u001b[0m\n",
      "\u001b[32m2024-11-19 10:13:43.109\u001b[0m | \u001b[34m\u001b[1mDEBUG   \u001b[0m | \u001b[36mgsioc\u001b[0m:\u001b[36mbCommand\u001b[0m:\u001b[36m171\u001b[0m - \u001b[34m\u001b[1mSending buffered command \"X61/245.5\" to device.\u001b[0m\n",
      "\u001b[32m2024-11-19 10:13:43.109\u001b[0m | \u001b[1mINFO    \u001b[0m | \u001b[36mgsioc\u001b[0m:\u001b[36mbCommand\u001b[0m:\u001b[36m176\u001b[0m - \u001b[1mGSIOC <<< X61/245.5\u001b[0m\n",
      "\u001b[32m2024-11-19 10:13:43.209\u001b[0m | \u001b[31m\u001b[1mERROR   \u001b[0m | \u001b[36mgsioc\u001b[0m:\u001b[36mbCommand\u001b[0m:\u001b[36m190\u001b[0m - \u001b[31m\u001b[1mAttempt 7/100: sent buffered Command X61/245.5, in binascii: b'\\nX61/245.5\\r'\u001b[0m\n",
      "\u001b[32m2024-11-19 10:13:43.209\u001b[0m | \u001b[34m\u001b[1mDEBUG   \u001b[0m | \u001b[36mgsioc\u001b[0m:\u001b[36mbCommand\u001b[0m:\u001b[36m171\u001b[0m - \u001b[34m\u001b[1mSending buffered command \"X61/245.5\" to device.\u001b[0m\n",
      "\u001b[32m2024-11-19 10:13:43.209\u001b[0m | \u001b[1mINFO    \u001b[0m | \u001b[36mgsioc\u001b[0m:\u001b[36mbCommand\u001b[0m:\u001b[36m176\u001b[0m - \u001b[1mGSIOC <<< X61/245.5\u001b[0m\n",
      "\u001b[32m2024-11-19 10:13:43.325\u001b[0m | \u001b[31m\u001b[1mERROR   \u001b[0m | \u001b[36mgsioc\u001b[0m:\u001b[36mbCommand\u001b[0m:\u001b[36m190\u001b[0m - \u001b[31m\u001b[1mAttempt 8/100: sent buffered Command X61/245.5, in binascii: b'\\nX61/245.5\\r'\u001b[0m\n",
      "\u001b[32m2024-11-19 10:13:43.326\u001b[0m | \u001b[34m\u001b[1mDEBUG   \u001b[0m | \u001b[36mgsioc\u001b[0m:\u001b[36mbCommand\u001b[0m:\u001b[36m171\u001b[0m - \u001b[34m\u001b[1mSending buffered command \"X61/245.5\" to device.\u001b[0m\n",
      "\u001b[32m2024-11-19 10:13:43.327\u001b[0m | \u001b[1mINFO    \u001b[0m | \u001b[36mgsioc\u001b[0m:\u001b[36mbCommand\u001b[0m:\u001b[36m176\u001b[0m - \u001b[1mGSIOC <<< X61/245.5\u001b[0m\n",
      "\u001b[32m2024-11-19 10:13:43.443\u001b[0m | \u001b[31m\u001b[1mERROR   \u001b[0m | \u001b[36mgsioc\u001b[0m:\u001b[36mbCommand\u001b[0m:\u001b[36m190\u001b[0m - \u001b[31m\u001b[1mAttempt 9/100: sent buffered Command X61/245.5, in binascii: b'\\nX61/245.5\\r'\u001b[0m\n",
      "\u001b[32m2024-11-19 10:13:43.443\u001b[0m | \u001b[34m\u001b[1mDEBUG   \u001b[0m | \u001b[36mgsioc\u001b[0m:\u001b[36mbCommand\u001b[0m:\u001b[36m171\u001b[0m - \u001b[34m\u001b[1mSending buffered command \"X61/245.5\" to device.\u001b[0m\n",
      "\u001b[32m2024-11-19 10:13:43.443\u001b[0m | \u001b[1mINFO    \u001b[0m | \u001b[36mgsioc\u001b[0m:\u001b[36mbCommand\u001b[0m:\u001b[36m176\u001b[0m - \u001b[1mGSIOC <<< X61/245.5\u001b[0m\n",
      "\u001b[32m2024-11-19 10:13:43.543\u001b[0m | \u001b[31m\u001b[1mERROR   \u001b[0m | \u001b[36mgsioc\u001b[0m:\u001b[36mbCommand\u001b[0m:\u001b[36m190\u001b[0m - \u001b[31m\u001b[1mAttempt 10/100: sent buffered Command X61/245.5, in binascii: b'\\nX61/245.5\\r'\u001b[0m\n",
      "\u001b[32m2024-11-19 10:13:43.543\u001b[0m | \u001b[34m\u001b[1mDEBUG   \u001b[0m | \u001b[36mgsioc\u001b[0m:\u001b[36mbCommand\u001b[0m:\u001b[36m171\u001b[0m - \u001b[34m\u001b[1mSending buffered command \"X61/245.5\" to device.\u001b[0m\n",
      "\u001b[32m2024-11-19 10:13:43.543\u001b[0m | \u001b[1mINFO    \u001b[0m | \u001b[36mgsioc\u001b[0m:\u001b[36mbCommand\u001b[0m:\u001b[36m176\u001b[0m - \u001b[1mGSIOC <<< X61/245.5\u001b[0m\n",
      "\u001b[32m2024-11-19 10:13:43.645\u001b[0m | \u001b[31m\u001b[1mERROR   \u001b[0m | \u001b[36mgsioc\u001b[0m:\u001b[36mbCommand\u001b[0m:\u001b[36m190\u001b[0m - \u001b[31m\u001b[1mAttempt 11/100: sent buffered Command X61/245.5, in binascii: b'\\nX61/245.5\\r'\u001b[0m\n",
      "\u001b[32m2024-11-19 10:13:43.645\u001b[0m | \u001b[34m\u001b[1mDEBUG   \u001b[0m | \u001b[36mgsioc\u001b[0m:\u001b[36mbCommand\u001b[0m:\u001b[36m171\u001b[0m - \u001b[34m\u001b[1mSending buffered command \"X61/245.5\" to device.\u001b[0m\n",
      "\u001b[32m2024-11-19 10:13:43.645\u001b[0m | \u001b[1mINFO    \u001b[0m | \u001b[36mgsioc\u001b[0m:\u001b[36mbCommand\u001b[0m:\u001b[36m176\u001b[0m - \u001b[1mGSIOC <<< X61/245.5\u001b[0m\n",
      "\u001b[32m2024-11-19 10:13:43.760\u001b[0m | \u001b[31m\u001b[1mERROR   \u001b[0m | \u001b[36mgsioc\u001b[0m:\u001b[36mbCommand\u001b[0m:\u001b[36m190\u001b[0m - \u001b[31m\u001b[1mAttempt 12/100: sent buffered Command X61/245.5, in binascii: b'\\nX61/245.5\\r'\u001b[0m\n",
      "\u001b[32m2024-11-19 10:13:43.760\u001b[0m | \u001b[34m\u001b[1mDEBUG   \u001b[0m | \u001b[36mgsioc\u001b[0m:\u001b[36mbCommand\u001b[0m:\u001b[36m171\u001b[0m - \u001b[34m\u001b[1mSending buffered command \"X61/245.5\" to device.\u001b[0m\n",
      "\u001b[32m2024-11-19 10:13:43.760\u001b[0m | \u001b[1mINFO    \u001b[0m | \u001b[36mgsioc\u001b[0m:\u001b[36mbCommand\u001b[0m:\u001b[36m176\u001b[0m - \u001b[1mGSIOC <<< X61/245.5\u001b[0m\n",
      "\u001b[32m2024-11-19 10:13:43.861\u001b[0m | \u001b[31m\u001b[1mERROR   \u001b[0m | \u001b[36mgsioc\u001b[0m:\u001b[36mbCommand\u001b[0m:\u001b[36m190\u001b[0m - \u001b[31m\u001b[1mAttempt 13/100: sent buffered Command X61/245.5, in binascii: b'\\nX61/245.5\\r'\u001b[0m\n",
      "\u001b[32m2024-11-19 10:13:43.861\u001b[0m | \u001b[34m\u001b[1mDEBUG   \u001b[0m | \u001b[36mgsioc\u001b[0m:\u001b[36mbCommand\u001b[0m:\u001b[36m171\u001b[0m - \u001b[34m\u001b[1mSending buffered command \"X61/245.5\" to device.\u001b[0m\n",
      "\u001b[32m2024-11-19 10:13:43.861\u001b[0m | \u001b[1mINFO    \u001b[0m | \u001b[36mgsioc\u001b[0m:\u001b[36mbCommand\u001b[0m:\u001b[36m176\u001b[0m - \u001b[1mGSIOC <<< X61/245.5\u001b[0m\n",
      "\u001b[32m2024-11-19 10:13:43.961\u001b[0m | \u001b[31m\u001b[1mERROR   \u001b[0m | \u001b[36mgsioc\u001b[0m:\u001b[36mbCommand\u001b[0m:\u001b[36m190\u001b[0m - \u001b[31m\u001b[1mAttempt 14/100: sent buffered Command X61/245.5, in binascii: b'\\nX61/245.5\\r'\u001b[0m\n",
      "\u001b[32m2024-11-19 10:13:43.961\u001b[0m | \u001b[34m\u001b[1mDEBUG   \u001b[0m | \u001b[36mgsioc\u001b[0m:\u001b[36mbCommand\u001b[0m:\u001b[36m171\u001b[0m - \u001b[34m\u001b[1mSending buffered command \"X61/245.5\" to device.\u001b[0m\n",
      "\u001b[32m2024-11-19 10:13:43.961\u001b[0m | \u001b[1mINFO    \u001b[0m | \u001b[36mgsioc\u001b[0m:\u001b[36mbCommand\u001b[0m:\u001b[36m176\u001b[0m - \u001b[1mGSIOC <<< X61/245.5\u001b[0m\n",
      "\u001b[32m2024-11-19 10:13:44.077\u001b[0m | \u001b[31m\u001b[1mERROR   \u001b[0m | \u001b[36mgsioc\u001b[0m:\u001b[36mbCommand\u001b[0m:\u001b[36m190\u001b[0m - \u001b[31m\u001b[1mAttempt 15/100: sent buffered Command X61/245.5, in binascii: b'\\nX61/245.5\\r'\u001b[0m\n",
      "\u001b[32m2024-11-19 10:13:44.077\u001b[0m | \u001b[34m\u001b[1mDEBUG   \u001b[0m | \u001b[36mgsioc\u001b[0m:\u001b[36mbCommand\u001b[0m:\u001b[36m171\u001b[0m - \u001b[34m\u001b[1mSending buffered command \"X61/245.5\" to device.\u001b[0m\n",
      "\u001b[32m2024-11-19 10:13:44.077\u001b[0m | \u001b[1mINFO    \u001b[0m | \u001b[36mgsioc\u001b[0m:\u001b[36mbCommand\u001b[0m:\u001b[36m176\u001b[0m - \u001b[1mGSIOC <<< X61/245.5\u001b[0m\n",
      "\u001b[32m2024-11-19 10:13:44.178\u001b[0m | \u001b[31m\u001b[1mERROR   \u001b[0m | \u001b[36mgsioc\u001b[0m:\u001b[36mbCommand\u001b[0m:\u001b[36m190\u001b[0m - \u001b[31m\u001b[1mAttempt 16/100: sent buffered Command X61/245.5, in binascii: b'\\nX61/245.5\\r'\u001b[0m\n",
      "\u001b[32m2024-11-19 10:13:44.178\u001b[0m | \u001b[34m\u001b[1mDEBUG   \u001b[0m | \u001b[36mgsioc\u001b[0m:\u001b[36mbCommand\u001b[0m:\u001b[36m171\u001b[0m - \u001b[34m\u001b[1mSending buffered command \"X61/245.5\" to device.\u001b[0m\n",
      "\u001b[32m2024-11-19 10:13:44.178\u001b[0m | \u001b[1mINFO    \u001b[0m | \u001b[36mgsioc\u001b[0m:\u001b[36mbCommand\u001b[0m:\u001b[36m176\u001b[0m - \u001b[1mGSIOC <<< X61/245.5\u001b[0m\n",
      "\u001b[32m2024-11-19 10:13:44.295\u001b[0m | \u001b[31m\u001b[1mERROR   \u001b[0m | \u001b[36mgsioc\u001b[0m:\u001b[36mbCommand\u001b[0m:\u001b[36m190\u001b[0m - \u001b[31m\u001b[1mAttempt 17/100: sent buffered Command X61/245.5, in binascii: b'\\nX61/245.5\\r'\u001b[0m\n",
      "\u001b[32m2024-11-19 10:13:44.295\u001b[0m | \u001b[34m\u001b[1mDEBUG   \u001b[0m | \u001b[36mgsioc\u001b[0m:\u001b[36mbCommand\u001b[0m:\u001b[36m171\u001b[0m - \u001b[34m\u001b[1mSending buffered command \"X61/245.5\" to device.\u001b[0m\n",
      "\u001b[32m2024-11-19 10:13:44.295\u001b[0m | \u001b[1mINFO    \u001b[0m | \u001b[36mgsioc\u001b[0m:\u001b[36mbCommand\u001b[0m:\u001b[36m176\u001b[0m - \u001b[1mGSIOC <<< X61/245.5\u001b[0m\n",
      "\u001b[32m2024-11-19 10:13:44.412\u001b[0m | \u001b[31m\u001b[1mERROR   \u001b[0m | \u001b[36mgsioc\u001b[0m:\u001b[36mbCommand\u001b[0m:\u001b[36m190\u001b[0m - \u001b[31m\u001b[1mAttempt 18/100: sent buffered Command X61/245.5, in binascii: b'\\nX61/245.5\\r'\u001b[0m\n",
      "\u001b[32m2024-11-19 10:13:44.412\u001b[0m | \u001b[34m\u001b[1mDEBUG   \u001b[0m | \u001b[36mgsioc\u001b[0m:\u001b[36mbCommand\u001b[0m:\u001b[36m171\u001b[0m - \u001b[34m\u001b[1mSending buffered command \"X61/245.5\" to device.\u001b[0m\n",
      "\u001b[32m2024-11-19 10:13:44.412\u001b[0m | \u001b[1mINFO    \u001b[0m | \u001b[36mgsioc\u001b[0m:\u001b[36mbCommand\u001b[0m:\u001b[36m176\u001b[0m - \u001b[1mGSIOC <<< X61/245.5\u001b[0m\n",
      "\u001b[32m2024-11-19 10:13:44.527\u001b[0m | \u001b[31m\u001b[1mERROR   \u001b[0m | \u001b[36mgsioc\u001b[0m:\u001b[36mbCommand\u001b[0m:\u001b[36m190\u001b[0m - \u001b[31m\u001b[1mAttempt 19/100: sent buffered Command X61/245.5, in binascii: b'\\nX61/245.5\\r'\u001b[0m\n",
      "\u001b[32m2024-11-19 10:13:44.527\u001b[0m | \u001b[34m\u001b[1mDEBUG   \u001b[0m | \u001b[36mgsioc\u001b[0m:\u001b[36mbCommand\u001b[0m:\u001b[36m171\u001b[0m - \u001b[34m\u001b[1mSending buffered command \"X61/245.5\" to device.\u001b[0m\n",
      "\u001b[32m2024-11-19 10:13:44.528\u001b[0m | \u001b[1mINFO    \u001b[0m | \u001b[36mgsioc\u001b[0m:\u001b[36mbCommand\u001b[0m:\u001b[36m176\u001b[0m - \u001b[1mGSIOC <<< X61/245.5\u001b[0m\n",
      "\u001b[32m2024-11-19 10:13:44.644\u001b[0m | \u001b[31m\u001b[1mERROR   \u001b[0m | \u001b[36mgsioc\u001b[0m:\u001b[36mbCommand\u001b[0m:\u001b[36m190\u001b[0m - \u001b[31m\u001b[1mAttempt 20/100: sent buffered Command X61/245.5, in binascii: b'\\nX61/245.5\\r'\u001b[0m\n",
      "\u001b[32m2024-11-19 10:13:44.644\u001b[0m | \u001b[34m\u001b[1mDEBUG   \u001b[0m | \u001b[36mgsioc\u001b[0m:\u001b[36mbCommand\u001b[0m:\u001b[36m171\u001b[0m - \u001b[34m\u001b[1mSending buffered command \"X61/245.5\" to device.\u001b[0m\n",
      "\u001b[32m2024-11-19 10:13:44.644\u001b[0m | \u001b[1mINFO    \u001b[0m | \u001b[36mgsioc\u001b[0m:\u001b[36mbCommand\u001b[0m:\u001b[36m176\u001b[0m - \u001b[1mGSIOC <<< X61/245.5\u001b[0m\n",
      "\u001b[32m2024-11-19 10:13:44.745\u001b[0m | \u001b[31m\u001b[1mERROR   \u001b[0m | \u001b[36mgsioc\u001b[0m:\u001b[36mbCommand\u001b[0m:\u001b[36m190\u001b[0m - \u001b[31m\u001b[1mAttempt 21/100: sent buffered Command X61/245.5, in binascii: b'\\nX61/245.5\\r'\u001b[0m\n",
      "\u001b[32m2024-11-19 10:13:44.745\u001b[0m | \u001b[34m\u001b[1mDEBUG   \u001b[0m | \u001b[36mgsioc\u001b[0m:\u001b[36mbCommand\u001b[0m:\u001b[36m171\u001b[0m - \u001b[34m\u001b[1mSending buffered command \"X61/245.5\" to device.\u001b[0m\n",
      "\u001b[32m2024-11-19 10:13:44.745\u001b[0m | \u001b[1mINFO    \u001b[0m | \u001b[36mgsioc\u001b[0m:\u001b[36mbCommand\u001b[0m:\u001b[36m176\u001b[0m - \u001b[1mGSIOC <<< X61/245.5\u001b[0m\n",
      "\u001b[32m2024-11-19 10:13:44.862\u001b[0m | \u001b[31m\u001b[1mERROR   \u001b[0m | \u001b[36mgsioc\u001b[0m:\u001b[36mbCommand\u001b[0m:\u001b[36m190\u001b[0m - \u001b[31m\u001b[1mAttempt 22/100: sent buffered Command X61/245.5, in binascii: b'\\nX61/245.5\\r'\u001b[0m\n",
      "\u001b[32m2024-11-19 10:13:44.862\u001b[0m | \u001b[34m\u001b[1mDEBUG   \u001b[0m | \u001b[36mgsioc\u001b[0m:\u001b[36mbCommand\u001b[0m:\u001b[36m171\u001b[0m - \u001b[34m\u001b[1mSending buffered command \"X61/245.5\" to device.\u001b[0m\n",
      "\u001b[32m2024-11-19 10:13:44.862\u001b[0m | \u001b[1mINFO    \u001b[0m | \u001b[36mgsioc\u001b[0m:\u001b[36mbCommand\u001b[0m:\u001b[36m176\u001b[0m - \u001b[1mGSIOC <<< X61/245.5\u001b[0m\n",
      "\u001b[32m2024-11-19 10:13:44.977\u001b[0m | \u001b[31m\u001b[1mERROR   \u001b[0m | \u001b[36mgsioc\u001b[0m:\u001b[36mbCommand\u001b[0m:\u001b[36m190\u001b[0m - \u001b[31m\u001b[1mAttempt 23/100: sent buffered Command X61/245.5, in binascii: b'\\nX61/245.5\\r'\u001b[0m\n",
      "\u001b[32m2024-11-19 10:13:44.977\u001b[0m | \u001b[34m\u001b[1mDEBUG   \u001b[0m | \u001b[36mgsioc\u001b[0m:\u001b[36mbCommand\u001b[0m:\u001b[36m171\u001b[0m - \u001b[34m\u001b[1mSending buffered command \"X61/245.5\" to device.\u001b[0m\n",
      "\u001b[32m2024-11-19 10:13:44.977\u001b[0m | \u001b[1mINFO    \u001b[0m | \u001b[36mgsioc\u001b[0m:\u001b[36mbCommand\u001b[0m:\u001b[36m176\u001b[0m - \u001b[1mGSIOC <<< X61/245.5\u001b[0m\n",
      "\u001b[32m2024-11-19 10:13:45.095\u001b[0m | \u001b[31m\u001b[1mERROR   \u001b[0m | \u001b[36mgsioc\u001b[0m:\u001b[36mbCommand\u001b[0m:\u001b[36m190\u001b[0m - \u001b[31m\u001b[1mAttempt 24/100: sent buffered Command X61/245.5, in binascii: b'\\nX61/245.5\\r'\u001b[0m\n",
      "\u001b[32m2024-11-19 10:13:45.095\u001b[0m | \u001b[34m\u001b[1mDEBUG   \u001b[0m | \u001b[36mgsioc\u001b[0m:\u001b[36mbCommand\u001b[0m:\u001b[36m171\u001b[0m - \u001b[34m\u001b[1mSending buffered command \"X61/245.5\" to device.\u001b[0m\n",
      "\u001b[32m2024-11-19 10:13:45.095\u001b[0m | \u001b[1mINFO    \u001b[0m | \u001b[36mgsioc\u001b[0m:\u001b[36mbCommand\u001b[0m:\u001b[36m176\u001b[0m - \u001b[1mGSIOC <<< X61/245.5\u001b[0m\n",
      "\u001b[32m2024-11-19 10:13:45.210\u001b[0m | \u001b[31m\u001b[1mERROR   \u001b[0m | \u001b[36mgsioc\u001b[0m:\u001b[36mbCommand\u001b[0m:\u001b[36m190\u001b[0m - \u001b[31m\u001b[1mAttempt 25/100: sent buffered Command X61/245.5, in binascii: b'\\nX61/245.5\\r'\u001b[0m\n",
      "\u001b[32m2024-11-19 10:13:45.210\u001b[0m | \u001b[34m\u001b[1mDEBUG   \u001b[0m | \u001b[36mgsioc\u001b[0m:\u001b[36mbCommand\u001b[0m:\u001b[36m171\u001b[0m - \u001b[34m\u001b[1mSending buffered command \"X61/245.5\" to device.\u001b[0m\n",
      "\u001b[32m2024-11-19 10:13:45.210\u001b[0m | \u001b[1mINFO    \u001b[0m | \u001b[36mgsioc\u001b[0m:\u001b[36mbCommand\u001b[0m:\u001b[36m176\u001b[0m - \u001b[1mGSIOC <<< X61/245.5\u001b[0m\n",
      "\u001b[32m2024-11-19 10:13:45.327\u001b[0m | \u001b[31m\u001b[1mERROR   \u001b[0m | \u001b[36mgsioc\u001b[0m:\u001b[36mbCommand\u001b[0m:\u001b[36m190\u001b[0m - \u001b[31m\u001b[1mAttempt 26/100: sent buffered Command X61/245.5, in binascii: b'\\nX61/245.5\\r'\u001b[0m\n",
      "\u001b[32m2024-11-19 10:13:45.327\u001b[0m | \u001b[34m\u001b[1mDEBUG   \u001b[0m | \u001b[36mgsioc\u001b[0m:\u001b[36mbCommand\u001b[0m:\u001b[36m171\u001b[0m - \u001b[34m\u001b[1mSending buffered command \"X61/245.5\" to device.\u001b[0m\n",
      "\u001b[32m2024-11-19 10:13:45.327\u001b[0m | \u001b[1mINFO    \u001b[0m | \u001b[36mgsioc\u001b[0m:\u001b[36mbCommand\u001b[0m:\u001b[36m176\u001b[0m - \u001b[1mGSIOC <<< X61/245.5\u001b[0m\n",
      "\u001b[32m2024-11-19 10:13:45.428\u001b[0m | \u001b[31m\u001b[1mERROR   \u001b[0m | \u001b[36mgsioc\u001b[0m:\u001b[36mbCommand\u001b[0m:\u001b[36m190\u001b[0m - \u001b[31m\u001b[1mAttempt 27/100: sent buffered Command X61/245.5, in binascii: b'\\nX61/245.5\\r'\u001b[0m\n",
      "\u001b[32m2024-11-19 10:13:45.429\u001b[0m | \u001b[34m\u001b[1mDEBUG   \u001b[0m | \u001b[36mgsioc\u001b[0m:\u001b[36mbCommand\u001b[0m:\u001b[36m171\u001b[0m - \u001b[34m\u001b[1mSending buffered command \"X61/245.5\" to device.\u001b[0m\n",
      "\u001b[32m2024-11-19 10:13:45.429\u001b[0m | \u001b[1mINFO    \u001b[0m | \u001b[36mgsioc\u001b[0m:\u001b[36mbCommand\u001b[0m:\u001b[36m176\u001b[0m - \u001b[1mGSIOC <<< X61/245.5\u001b[0m\n",
      "\u001b[32m2024-11-19 10:13:45.546\u001b[0m | \u001b[31m\u001b[1mERROR   \u001b[0m | \u001b[36mgsioc\u001b[0m:\u001b[36mbCommand\u001b[0m:\u001b[36m190\u001b[0m - \u001b[31m\u001b[1mAttempt 28/100: sent buffered Command X61/245.5, in binascii: b'\\nX61/245.5\\r'\u001b[0m\n",
      "\u001b[32m2024-11-19 10:13:45.546\u001b[0m | \u001b[34m\u001b[1mDEBUG   \u001b[0m | \u001b[36mgsioc\u001b[0m:\u001b[36mbCommand\u001b[0m:\u001b[36m171\u001b[0m - \u001b[34m\u001b[1mSending buffered command \"X61/245.5\" to device.\u001b[0m\n",
      "\u001b[32m2024-11-19 10:13:45.546\u001b[0m | \u001b[1mINFO    \u001b[0m | \u001b[36mgsioc\u001b[0m:\u001b[36mbCommand\u001b[0m:\u001b[36m176\u001b[0m - \u001b[1mGSIOC <<< X61/245.5\u001b[0m\n",
      "\u001b[32m2024-11-19 10:13:45.663\u001b[0m | \u001b[31m\u001b[1mERROR   \u001b[0m | \u001b[36mgsioc\u001b[0m:\u001b[36mbCommand\u001b[0m:\u001b[36m190\u001b[0m - \u001b[31m\u001b[1mAttempt 29/100: sent buffered Command X61/245.5, in binascii: b'\\nX61/245.5\\r'\u001b[0m\n",
      "\u001b[32m2024-11-19 10:13:45.663\u001b[0m | \u001b[34m\u001b[1mDEBUG   \u001b[0m | \u001b[36mgsioc\u001b[0m:\u001b[36mbCommand\u001b[0m:\u001b[36m171\u001b[0m - \u001b[34m\u001b[1mSending buffered command \"X61/245.5\" to device.\u001b[0m\n",
      "\u001b[32m2024-11-19 10:13:45.663\u001b[0m | \u001b[1mINFO    \u001b[0m | \u001b[36mgsioc\u001b[0m:\u001b[36mbCommand\u001b[0m:\u001b[36m176\u001b[0m - \u001b[1mGSIOC <<< X61/245.5\u001b[0m\n",
      "\u001b[32m2024-11-19 10:13:45.778\u001b[0m | \u001b[31m\u001b[1mERROR   \u001b[0m | \u001b[36mgsioc\u001b[0m:\u001b[36mbCommand\u001b[0m:\u001b[36m190\u001b[0m - \u001b[31m\u001b[1mAttempt 30/100: sent buffered Command X61/245.5, in binascii: b'\\nX61/245.5\\r'\u001b[0m\n",
      "\u001b[32m2024-11-19 10:13:45.778\u001b[0m | \u001b[34m\u001b[1mDEBUG   \u001b[0m | \u001b[36mgsioc\u001b[0m:\u001b[36mbCommand\u001b[0m:\u001b[36m171\u001b[0m - \u001b[34m\u001b[1mSending buffered command \"X61/245.5\" to device.\u001b[0m\n",
      "\u001b[32m2024-11-19 10:13:45.778\u001b[0m | \u001b[1mINFO    \u001b[0m | \u001b[36mgsioc\u001b[0m:\u001b[36mbCommand\u001b[0m:\u001b[36m176\u001b[0m - \u001b[1mGSIOC <<< X61/245.5\u001b[0m\n",
      "\u001b[32m2024-11-19 10:13:45.883\u001b[0m | \u001b[31m\u001b[1mERROR   \u001b[0m | \u001b[36mgsioc\u001b[0m:\u001b[36mbCommand\u001b[0m:\u001b[36m190\u001b[0m - \u001b[31m\u001b[1mAttempt 31/100: sent buffered Command X61/245.5, in binascii: b'\\nX61/245.5\\r'\u001b[0m\n",
      "\u001b[32m2024-11-19 10:13:45.885\u001b[0m | \u001b[34m\u001b[1mDEBUG   \u001b[0m | \u001b[36mgsioc\u001b[0m:\u001b[36mbCommand\u001b[0m:\u001b[36m171\u001b[0m - \u001b[34m\u001b[1mSending buffered command \"X61/245.5\" to device.\u001b[0m\n",
      "\u001b[32m2024-11-19 10:13:45.886\u001b[0m | \u001b[1mINFO    \u001b[0m | \u001b[36mgsioc\u001b[0m:\u001b[36mbCommand\u001b[0m:\u001b[36m176\u001b[0m - \u001b[1mGSIOC <<< X61/245.5\u001b[0m\n",
      "\u001b[32m2024-11-19 10:13:45.995\u001b[0m | \u001b[31m\u001b[1mERROR   \u001b[0m | \u001b[36mgsioc\u001b[0m:\u001b[36mbCommand\u001b[0m:\u001b[36m190\u001b[0m - \u001b[31m\u001b[1mAttempt 32/100: sent buffered Command X61/245.5, in binascii: b'\\nX61/245.5\\r'\u001b[0m\n",
      "\u001b[32m2024-11-19 10:13:45.995\u001b[0m | \u001b[34m\u001b[1mDEBUG   \u001b[0m | \u001b[36mgsioc\u001b[0m:\u001b[36mbCommand\u001b[0m:\u001b[36m171\u001b[0m - \u001b[34m\u001b[1mSending buffered command \"X61/245.5\" to device.\u001b[0m\n",
      "\u001b[32m2024-11-19 10:13:45.996\u001b[0m | \u001b[1mINFO    \u001b[0m | \u001b[36mgsioc\u001b[0m:\u001b[36mbCommand\u001b[0m:\u001b[36m176\u001b[0m - \u001b[1mGSIOC <<< X61/245.5\u001b[0m\n",
      "\u001b[32m2024-11-19 10:13:46.112\u001b[0m | \u001b[31m\u001b[1mERROR   \u001b[0m | \u001b[36mgsioc\u001b[0m:\u001b[36mbCommand\u001b[0m:\u001b[36m190\u001b[0m - \u001b[31m\u001b[1mAttempt 33/100: sent buffered Command X61/245.5, in binascii: b'\\nX61/245.5\\r'\u001b[0m\n",
      "\u001b[32m2024-11-19 10:13:46.112\u001b[0m | \u001b[34m\u001b[1mDEBUG   \u001b[0m | \u001b[36mgsioc\u001b[0m:\u001b[36mbCommand\u001b[0m:\u001b[36m171\u001b[0m - \u001b[34m\u001b[1mSending buffered command \"X61/245.5\" to device.\u001b[0m\n",
      "\u001b[32m2024-11-19 10:13:46.112\u001b[0m | \u001b[1mINFO    \u001b[0m | \u001b[36mgsioc\u001b[0m:\u001b[36mbCommand\u001b[0m:\u001b[36m176\u001b[0m - \u001b[1mGSIOC <<< X61/245.5\u001b[0m\n",
      "\u001b[32m2024-11-19 10:13:46.229\u001b[0m | \u001b[31m\u001b[1mERROR   \u001b[0m | \u001b[36mgsioc\u001b[0m:\u001b[36mbCommand\u001b[0m:\u001b[36m190\u001b[0m - \u001b[31m\u001b[1mAttempt 34/100: sent buffered Command X61/245.5, in binascii: b'\\nX61/245.5\\r'\u001b[0m\n",
      "\u001b[32m2024-11-19 10:13:46.229\u001b[0m | \u001b[34m\u001b[1mDEBUG   \u001b[0m | \u001b[36mgsioc\u001b[0m:\u001b[36mbCommand\u001b[0m:\u001b[36m171\u001b[0m - \u001b[34m\u001b[1mSending buffered command \"X61/245.5\" to device.\u001b[0m\n",
      "\u001b[32m2024-11-19 10:13:46.229\u001b[0m | \u001b[1mINFO    \u001b[0m | \u001b[36mgsioc\u001b[0m:\u001b[36mbCommand\u001b[0m:\u001b[36m176\u001b[0m - \u001b[1mGSIOC <<< X61/245.5\u001b[0m\n",
      "\u001b[32m2024-11-19 10:13:46.345\u001b[0m | \u001b[31m\u001b[1mERROR   \u001b[0m | \u001b[36mgsioc\u001b[0m:\u001b[36mbCommand\u001b[0m:\u001b[36m190\u001b[0m - \u001b[31m\u001b[1mAttempt 35/100: sent buffered Command X61/245.5, in binascii: b'\\nX61/245.5\\r'\u001b[0m\n",
      "\u001b[32m2024-11-19 10:13:46.345\u001b[0m | \u001b[34m\u001b[1mDEBUG   \u001b[0m | \u001b[36mgsioc\u001b[0m:\u001b[36mbCommand\u001b[0m:\u001b[36m171\u001b[0m - \u001b[34m\u001b[1mSending buffered command \"X61/245.5\" to device.\u001b[0m\n",
      "\u001b[32m2024-11-19 10:13:46.345\u001b[0m | \u001b[1mINFO    \u001b[0m | \u001b[36mgsioc\u001b[0m:\u001b[36mbCommand\u001b[0m:\u001b[36m176\u001b[0m - \u001b[1mGSIOC <<< X61/245.5\u001b[0m\n",
      "\u001b[32m2024-11-19 10:13:46.446\u001b[0m | \u001b[31m\u001b[1mERROR   \u001b[0m | \u001b[36mgsioc\u001b[0m:\u001b[36mbCommand\u001b[0m:\u001b[36m190\u001b[0m - \u001b[31m\u001b[1mAttempt 36/100: sent buffered Command X61/245.5, in binascii: b'\\nX61/245.5\\r'\u001b[0m\n",
      "\u001b[32m2024-11-19 10:13:46.446\u001b[0m | \u001b[34m\u001b[1mDEBUG   \u001b[0m | \u001b[36mgsioc\u001b[0m:\u001b[36mbCommand\u001b[0m:\u001b[36m171\u001b[0m - \u001b[34m\u001b[1mSending buffered command \"X61/245.5\" to device.\u001b[0m\n",
      "\u001b[32m2024-11-19 10:13:46.446\u001b[0m | \u001b[1mINFO    \u001b[0m | \u001b[36mgsioc\u001b[0m:\u001b[36mbCommand\u001b[0m:\u001b[36m176\u001b[0m - \u001b[1mGSIOC <<< X61/245.5\u001b[0m\n",
      "\u001b[32m2024-11-19 10:13:46.563\u001b[0m | \u001b[31m\u001b[1mERROR   \u001b[0m | \u001b[36mgsioc\u001b[0m:\u001b[36mbCommand\u001b[0m:\u001b[36m190\u001b[0m - \u001b[31m\u001b[1mAttempt 37/100: sent buffered Command X61/245.5, in binascii: b'\\nX61/245.5\\r'\u001b[0m\n",
      "\u001b[32m2024-11-19 10:13:46.563\u001b[0m | \u001b[34m\u001b[1mDEBUG   \u001b[0m | \u001b[36mgsioc\u001b[0m:\u001b[36mbCommand\u001b[0m:\u001b[36m171\u001b[0m - \u001b[34m\u001b[1mSending buffered command \"X61/245.5\" to device.\u001b[0m\n",
      "\u001b[32m2024-11-19 10:13:46.563\u001b[0m | \u001b[1mINFO    \u001b[0m | \u001b[36mgsioc\u001b[0m:\u001b[36mbCommand\u001b[0m:\u001b[36m176\u001b[0m - \u001b[1mGSIOC <<< X61/245.5\u001b[0m\n",
      "\u001b[32m2024-11-19 10:13:46.675\u001b[0m | \u001b[31m\u001b[1mERROR   \u001b[0m | \u001b[36mgsioc\u001b[0m:\u001b[36mbCommand\u001b[0m:\u001b[36m190\u001b[0m - \u001b[31m\u001b[1mAttempt 38/100: sent buffered Command X61/245.5, in binascii: b'\\nX61/245.5\\r'\u001b[0m\n",
      "\u001b[32m2024-11-19 10:13:46.675\u001b[0m | \u001b[34m\u001b[1mDEBUG   \u001b[0m | \u001b[36mgsioc\u001b[0m:\u001b[36mbCommand\u001b[0m:\u001b[36m171\u001b[0m - \u001b[34m\u001b[1mSending buffered command \"X61/245.5\" to device.\u001b[0m\n",
      "\u001b[32m2024-11-19 10:13:46.676\u001b[0m | \u001b[1mINFO    \u001b[0m | \u001b[36mgsioc\u001b[0m:\u001b[36mbCommand\u001b[0m:\u001b[36m176\u001b[0m - \u001b[1mGSIOC <<< X61/245.5\u001b[0m\n",
      "\u001b[32m2024-11-19 10:13:46.777\u001b[0m | \u001b[31m\u001b[1mERROR   \u001b[0m | \u001b[36mgsioc\u001b[0m:\u001b[36mbCommand\u001b[0m:\u001b[36m190\u001b[0m - \u001b[31m\u001b[1mAttempt 39/100: sent buffered Command X61/245.5, in binascii: b'\\nX61/245.5\\r'\u001b[0m\n",
      "\u001b[32m2024-11-19 10:13:46.778\u001b[0m | \u001b[34m\u001b[1mDEBUG   \u001b[0m | \u001b[36mgsioc\u001b[0m:\u001b[36mbCommand\u001b[0m:\u001b[36m171\u001b[0m - \u001b[34m\u001b[1mSending buffered command \"X61/245.5\" to device.\u001b[0m\n",
      "\u001b[32m2024-11-19 10:13:46.778\u001b[0m | \u001b[1mINFO    \u001b[0m | \u001b[36mgsioc\u001b[0m:\u001b[36mbCommand\u001b[0m:\u001b[36m176\u001b[0m - \u001b[1mGSIOC <<< X61/245.5\u001b[0m\n",
      "\u001b[32m2024-11-19 10:13:46.881\u001b[0m | \u001b[31m\u001b[1mERROR   \u001b[0m | \u001b[36mgsioc\u001b[0m:\u001b[36mbCommand\u001b[0m:\u001b[36m190\u001b[0m - \u001b[31m\u001b[1mAttempt 40/100: sent buffered Command X61/245.5, in binascii: b'\\nX61/245.5\\r'\u001b[0m\n",
      "\u001b[32m2024-11-19 10:13:46.881\u001b[0m | \u001b[34m\u001b[1mDEBUG   \u001b[0m | \u001b[36mgsioc\u001b[0m:\u001b[36mbCommand\u001b[0m:\u001b[36m171\u001b[0m - \u001b[34m\u001b[1mSending buffered command \"X61/245.5\" to device.\u001b[0m\n",
      "\u001b[32m2024-11-19 10:13:46.882\u001b[0m | \u001b[1mINFO    \u001b[0m | \u001b[36mgsioc\u001b[0m:\u001b[36mbCommand\u001b[0m:\u001b[36m176\u001b[0m - \u001b[1mGSIOC <<< X61/245.5\u001b[0m\n",
      "\u001b[32m2024-11-19 10:13:46.994\u001b[0m | \u001b[31m\u001b[1mERROR   \u001b[0m | \u001b[36mgsioc\u001b[0m:\u001b[36mbCommand\u001b[0m:\u001b[36m190\u001b[0m - \u001b[31m\u001b[1mAttempt 41/100: sent buffered Command X61/245.5, in binascii: b'\\nX61/245.5\\r'\u001b[0m\n",
      "\u001b[32m2024-11-19 10:13:46.994\u001b[0m | \u001b[34m\u001b[1mDEBUG   \u001b[0m | \u001b[36mgsioc\u001b[0m:\u001b[36mbCommand\u001b[0m:\u001b[36m171\u001b[0m - \u001b[34m\u001b[1mSending buffered command \"X61/245.5\" to device.\u001b[0m\n",
      "\u001b[32m2024-11-19 10:13:46.995\u001b[0m | \u001b[1mINFO    \u001b[0m | \u001b[36mgsioc\u001b[0m:\u001b[36mbCommand\u001b[0m:\u001b[36m176\u001b[0m - \u001b[1mGSIOC <<< X61/245.5\u001b[0m\n",
      "\u001b[32m2024-11-19 10:13:47.113\u001b[0m | \u001b[31m\u001b[1mERROR   \u001b[0m | \u001b[36mgsioc\u001b[0m:\u001b[36mbCommand\u001b[0m:\u001b[36m190\u001b[0m - \u001b[31m\u001b[1mAttempt 42/100: sent buffered Command X61/245.5, in binascii: b'\\nX61/245.5\\r'\u001b[0m\n",
      "\u001b[32m2024-11-19 10:13:47.113\u001b[0m | \u001b[34m\u001b[1mDEBUG   \u001b[0m | \u001b[36mgsioc\u001b[0m:\u001b[36mbCommand\u001b[0m:\u001b[36m171\u001b[0m - \u001b[34m\u001b[1mSending buffered command \"X61/245.5\" to device.\u001b[0m\n",
      "\u001b[32m2024-11-19 10:13:47.113\u001b[0m | \u001b[1mINFO    \u001b[0m | \u001b[36mgsioc\u001b[0m:\u001b[36mbCommand\u001b[0m:\u001b[36m176\u001b[0m - \u001b[1mGSIOC <<< X61/245.5\u001b[0m\n",
      "\u001b[32m2024-11-19 10:13:47.219\u001b[0m | \u001b[31m\u001b[1mERROR   \u001b[0m | \u001b[36mgsioc\u001b[0m:\u001b[36mbCommand\u001b[0m:\u001b[36m190\u001b[0m - \u001b[31m\u001b[1mAttempt 43/100: sent buffered Command X61/245.5, in binascii: b'\\nX61/245.5\\r'\u001b[0m\n",
      "\u001b[32m2024-11-19 10:13:47.219\u001b[0m | \u001b[34m\u001b[1mDEBUG   \u001b[0m | \u001b[36mgsioc\u001b[0m:\u001b[36mbCommand\u001b[0m:\u001b[36m171\u001b[0m - \u001b[34m\u001b[1mSending buffered command \"X61/245.5\" to device.\u001b[0m\n",
      "\u001b[32m2024-11-19 10:13:47.219\u001b[0m | \u001b[1mINFO    \u001b[0m | \u001b[36mgsioc\u001b[0m:\u001b[36mbCommand\u001b[0m:\u001b[36m176\u001b[0m - \u001b[1mGSIOC <<< X61/245.5\u001b[0m\n",
      "\u001b[32m2024-11-19 10:13:47.329\u001b[0m | \u001b[31m\u001b[1mERROR   \u001b[0m | \u001b[36mgsioc\u001b[0m:\u001b[36mbCommand\u001b[0m:\u001b[36m190\u001b[0m - \u001b[31m\u001b[1mAttempt 44/100: sent buffered Command X61/245.5, in binascii: b'\\nX61/245.5\\r'\u001b[0m\n",
      "\u001b[32m2024-11-19 10:13:47.329\u001b[0m | \u001b[34m\u001b[1mDEBUG   \u001b[0m | \u001b[36mgsioc\u001b[0m:\u001b[36mbCommand\u001b[0m:\u001b[36m171\u001b[0m - \u001b[34m\u001b[1mSending buffered command \"X61/245.5\" to device.\u001b[0m\n",
      "\u001b[32m2024-11-19 10:13:47.330\u001b[0m | \u001b[1mINFO    \u001b[0m | \u001b[36mgsioc\u001b[0m:\u001b[36mbCommand\u001b[0m:\u001b[36m176\u001b[0m - \u001b[1mGSIOC <<< X61/245.5\u001b[0m\n",
      "\u001b[32m2024-11-19 10:13:47.447\u001b[0m | \u001b[31m\u001b[1mERROR   \u001b[0m | \u001b[36mgsioc\u001b[0m:\u001b[36mbCommand\u001b[0m:\u001b[36m190\u001b[0m - \u001b[31m\u001b[1mAttempt 45/100: sent buffered Command X61/245.5, in binascii: b'\\nX61/245.5\\r'\u001b[0m\n",
      "\u001b[32m2024-11-19 10:13:47.448\u001b[0m | \u001b[34m\u001b[1mDEBUG   \u001b[0m | \u001b[36mgsioc\u001b[0m:\u001b[36mbCommand\u001b[0m:\u001b[36m171\u001b[0m - \u001b[34m\u001b[1mSending buffered command \"X61/245.5\" to device.\u001b[0m\n",
      "\u001b[32m2024-11-19 10:13:47.448\u001b[0m | \u001b[1mINFO    \u001b[0m | \u001b[36mgsioc\u001b[0m:\u001b[36mbCommand\u001b[0m:\u001b[36m176\u001b[0m - \u001b[1mGSIOC <<< X61/245.5\u001b[0m\n",
      "\u001b[32m2024-11-19 10:13:47.564\u001b[0m | \u001b[31m\u001b[1mERROR   \u001b[0m | \u001b[36mgsioc\u001b[0m:\u001b[36mbCommand\u001b[0m:\u001b[36m190\u001b[0m - \u001b[31m\u001b[1mAttempt 46/100: sent buffered Command X61/245.5, in binascii: b'\\nX61/245.5\\r'\u001b[0m\n",
      "\u001b[32m2024-11-19 10:13:47.565\u001b[0m | \u001b[34m\u001b[1mDEBUG   \u001b[0m | \u001b[36mgsioc\u001b[0m:\u001b[36mbCommand\u001b[0m:\u001b[36m171\u001b[0m - \u001b[34m\u001b[1mSending buffered command \"X61/245.5\" to device.\u001b[0m\n",
      "\u001b[32m2024-11-19 10:13:47.565\u001b[0m | \u001b[1mINFO    \u001b[0m | \u001b[36mgsioc\u001b[0m:\u001b[36mbCommand\u001b[0m:\u001b[36m176\u001b[0m - \u001b[1mGSIOC <<< X61/245.5\u001b[0m\n",
      "\u001b[32m2024-11-19 10:13:47.679\u001b[0m | \u001b[31m\u001b[1mERROR   \u001b[0m | \u001b[36mgsioc\u001b[0m:\u001b[36mbCommand\u001b[0m:\u001b[36m190\u001b[0m - \u001b[31m\u001b[1mAttempt 47/100: sent buffered Command X61/245.5, in binascii: b'\\nX61/245.5\\r'\u001b[0m\n",
      "\u001b[32m2024-11-19 10:13:47.681\u001b[0m | \u001b[34m\u001b[1mDEBUG   \u001b[0m | \u001b[36mgsioc\u001b[0m:\u001b[36mbCommand\u001b[0m:\u001b[36m171\u001b[0m - \u001b[34m\u001b[1mSending buffered command \"X61/245.5\" to device.\u001b[0m\n",
      "\u001b[32m2024-11-19 10:13:47.681\u001b[0m | \u001b[1mINFO    \u001b[0m | \u001b[36mgsioc\u001b[0m:\u001b[36mbCommand\u001b[0m:\u001b[36m176\u001b[0m - \u001b[1mGSIOC <<< X61/245.5\u001b[0m\n",
      "\u001b[32m2024-11-19 10:13:47.797\u001b[0m | \u001b[31m\u001b[1mERROR   \u001b[0m | \u001b[36mgsioc\u001b[0m:\u001b[36mbCommand\u001b[0m:\u001b[36m190\u001b[0m - \u001b[31m\u001b[1mAttempt 48/100: sent buffered Command X61/245.5, in binascii: b'\\nX61/245.5\\r'\u001b[0m\n",
      "\u001b[32m2024-11-19 10:13:47.798\u001b[0m | \u001b[34m\u001b[1mDEBUG   \u001b[0m | \u001b[36mgsioc\u001b[0m:\u001b[36mbCommand\u001b[0m:\u001b[36m171\u001b[0m - \u001b[34m\u001b[1mSending buffered command \"X61/245.5\" to device.\u001b[0m\n",
      "\u001b[32m2024-11-19 10:13:47.798\u001b[0m | \u001b[1mINFO    \u001b[0m | \u001b[36mgsioc\u001b[0m:\u001b[36mbCommand\u001b[0m:\u001b[36m176\u001b[0m - \u001b[1mGSIOC <<< X61/245.5\u001b[0m\n",
      "\u001b[32m2024-11-19 10:13:47.914\u001b[0m | \u001b[31m\u001b[1mERROR   \u001b[0m | \u001b[36mgsioc\u001b[0m:\u001b[36mbCommand\u001b[0m:\u001b[36m190\u001b[0m - \u001b[31m\u001b[1mAttempt 49/100: sent buffered Command X61/245.5, in binascii: b'\\nX61/245.5\\r'\u001b[0m\n",
      "\u001b[32m2024-11-19 10:13:47.914\u001b[0m | \u001b[34m\u001b[1mDEBUG   \u001b[0m | \u001b[36mgsioc\u001b[0m:\u001b[36mbCommand\u001b[0m:\u001b[36m171\u001b[0m - \u001b[34m\u001b[1mSending buffered command \"X61/245.5\" to device.\u001b[0m\n",
      "\u001b[32m2024-11-19 10:13:47.915\u001b[0m | \u001b[1mINFO    \u001b[0m | \u001b[36mgsioc\u001b[0m:\u001b[36mbCommand\u001b[0m:\u001b[36m176\u001b[0m - \u001b[1mGSIOC <<< X61/245.5\u001b[0m\n",
      "\u001b[32m2024-11-19 10:13:48.030\u001b[0m | \u001b[31m\u001b[1mERROR   \u001b[0m | \u001b[36mgsioc\u001b[0m:\u001b[36mbCommand\u001b[0m:\u001b[36m190\u001b[0m - \u001b[31m\u001b[1mAttempt 50/100: sent buffered Command X61/245.5, in binascii: b'\\nX61/245.5\\r'\u001b[0m\n",
      "\u001b[32m2024-11-19 10:13:48.030\u001b[0m | \u001b[34m\u001b[1mDEBUG   \u001b[0m | \u001b[36mgsioc\u001b[0m:\u001b[36mbCommand\u001b[0m:\u001b[36m171\u001b[0m - \u001b[34m\u001b[1mSending buffered command \"X61/245.5\" to device.\u001b[0m\n",
      "\u001b[32m2024-11-19 10:13:48.030\u001b[0m | \u001b[1mINFO    \u001b[0m | \u001b[36mgsioc\u001b[0m:\u001b[36mbCommand\u001b[0m:\u001b[36m176\u001b[0m - \u001b[1mGSIOC <<< X61/245.5\u001b[0m\n",
      "\u001b[32m2024-11-19 10:13:48.130\u001b[0m | \u001b[31m\u001b[1mERROR   \u001b[0m | \u001b[36mgsioc\u001b[0m:\u001b[36mbCommand\u001b[0m:\u001b[36m190\u001b[0m - \u001b[31m\u001b[1mAttempt 51/100: sent buffered Command X61/245.5, in binascii: b'\\nX61/245.5\\r'\u001b[0m\n",
      "\u001b[32m2024-11-19 10:13:48.132\u001b[0m | \u001b[34m\u001b[1mDEBUG   \u001b[0m | \u001b[36mgsioc\u001b[0m:\u001b[36mbCommand\u001b[0m:\u001b[36m171\u001b[0m - \u001b[34m\u001b[1mSending buffered command \"X61/245.5\" to device.\u001b[0m\n",
      "\u001b[32m2024-11-19 10:13:48.132\u001b[0m | \u001b[1mINFO    \u001b[0m | \u001b[36mgsioc\u001b[0m:\u001b[36mbCommand\u001b[0m:\u001b[36m176\u001b[0m - \u001b[1mGSIOC <<< X61/245.5\u001b[0m\n",
      "\u001b[32m2024-11-19 10:13:48.248\u001b[0m | \u001b[31m\u001b[1mERROR   \u001b[0m | \u001b[36mgsioc\u001b[0m:\u001b[36mbCommand\u001b[0m:\u001b[36m190\u001b[0m - \u001b[31m\u001b[1mAttempt 52/100: sent buffered Command X61/245.5, in binascii: b'\\nX61/245.5\\r'\u001b[0m\n",
      "\u001b[32m2024-11-19 10:13:48.250\u001b[0m | \u001b[34m\u001b[1mDEBUG   \u001b[0m | \u001b[36mgsioc\u001b[0m:\u001b[36mbCommand\u001b[0m:\u001b[36m171\u001b[0m - \u001b[34m\u001b[1mSending buffered command \"X61/245.5\" to device.\u001b[0m\n",
      "\u001b[32m2024-11-19 10:13:48.252\u001b[0m | \u001b[1mINFO    \u001b[0m | \u001b[36mgsioc\u001b[0m:\u001b[36mbCommand\u001b[0m:\u001b[36m176\u001b[0m - \u001b[1mGSIOC <<< X61/245.5\u001b[0m\n",
      "\u001b[32m2024-11-19 10:13:48.362\u001b[0m | \u001b[31m\u001b[1mERROR   \u001b[0m | \u001b[36mgsioc\u001b[0m:\u001b[36mbCommand\u001b[0m:\u001b[36m190\u001b[0m - \u001b[31m\u001b[1mAttempt 53/100: sent buffered Command X61/245.5, in binascii: b'\\nX61/245.5\\r'\u001b[0m\n",
      "\u001b[32m2024-11-19 10:13:48.362\u001b[0m | \u001b[34m\u001b[1mDEBUG   \u001b[0m | \u001b[36mgsioc\u001b[0m:\u001b[36mbCommand\u001b[0m:\u001b[36m171\u001b[0m - \u001b[34m\u001b[1mSending buffered command \"X61/245.5\" to device.\u001b[0m\n",
      "\u001b[32m2024-11-19 10:13:48.363\u001b[0m | \u001b[1mINFO    \u001b[0m | \u001b[36mgsioc\u001b[0m:\u001b[36mbCommand\u001b[0m:\u001b[36m176\u001b[0m - \u001b[1mGSIOC <<< X61/245.5\u001b[0m\n",
      "\u001b[32m2024-11-19 10:13:48.464\u001b[0m | \u001b[31m\u001b[1mERROR   \u001b[0m | \u001b[36mgsioc\u001b[0m:\u001b[36mbCommand\u001b[0m:\u001b[36m190\u001b[0m - \u001b[31m\u001b[1mAttempt 54/100: sent buffered Command X61/245.5, in binascii: b'\\nX61/245.5\\r'\u001b[0m\n",
      "\u001b[32m2024-11-19 10:13:48.465\u001b[0m | \u001b[34m\u001b[1mDEBUG   \u001b[0m | \u001b[36mgsioc\u001b[0m:\u001b[36mbCommand\u001b[0m:\u001b[36m171\u001b[0m - \u001b[34m\u001b[1mSending buffered command \"X61/245.5\" to device.\u001b[0m\n",
      "\u001b[32m2024-11-19 10:13:48.465\u001b[0m | \u001b[1mINFO    \u001b[0m | \u001b[36mgsioc\u001b[0m:\u001b[36mbCommand\u001b[0m:\u001b[36m176\u001b[0m - \u001b[1mGSIOC <<< X61/245.5\u001b[0m\n",
      "\u001b[32m2024-11-19 10:13:48.579\u001b[0m | \u001b[31m\u001b[1mERROR   \u001b[0m | \u001b[36mgsioc\u001b[0m:\u001b[36mbCommand\u001b[0m:\u001b[36m190\u001b[0m - \u001b[31m\u001b[1mAttempt 55/100: sent buffered Command X61/245.5, in binascii: b'\\nX61/245.5\\r'\u001b[0m\n",
      "\u001b[32m2024-11-19 10:13:48.579\u001b[0m | \u001b[34m\u001b[1mDEBUG   \u001b[0m | \u001b[36mgsioc\u001b[0m:\u001b[36mbCommand\u001b[0m:\u001b[36m171\u001b[0m - \u001b[34m\u001b[1mSending buffered command \"X61/245.5\" to device.\u001b[0m\n",
      "\u001b[32m2024-11-19 10:13:48.580\u001b[0m | \u001b[1mINFO    \u001b[0m | \u001b[36mgsioc\u001b[0m:\u001b[36mbCommand\u001b[0m:\u001b[36m176\u001b[0m - \u001b[1mGSIOC <<< X61/245.5\u001b[0m\n",
      "\u001b[32m2024-11-19 10:13:48.681\u001b[0m | \u001b[31m\u001b[1mERROR   \u001b[0m | \u001b[36mgsioc\u001b[0m:\u001b[36mbCommand\u001b[0m:\u001b[36m190\u001b[0m - \u001b[31m\u001b[1mAttempt 56/100: sent buffered Command X61/245.5, in binascii: b'\\nX61/245.5\\r'\u001b[0m\n",
      "\u001b[32m2024-11-19 10:13:48.682\u001b[0m | \u001b[34m\u001b[1mDEBUG   \u001b[0m | \u001b[36mgsioc\u001b[0m:\u001b[36mbCommand\u001b[0m:\u001b[36m171\u001b[0m - \u001b[34m\u001b[1mSending buffered command \"X61/245.5\" to device.\u001b[0m\n",
      "\u001b[32m2024-11-19 10:13:48.682\u001b[0m | \u001b[1mINFO    \u001b[0m | \u001b[36mgsioc\u001b[0m:\u001b[36mbCommand\u001b[0m:\u001b[36m176\u001b[0m - \u001b[1mGSIOC <<< X61/245.5\u001b[0m\n",
      "\u001b[32m2024-11-19 10:13:48.798\u001b[0m | \u001b[31m\u001b[1mERROR   \u001b[0m | \u001b[36mgsioc\u001b[0m:\u001b[36mbCommand\u001b[0m:\u001b[36m190\u001b[0m - \u001b[31m\u001b[1mAttempt 57/100: sent buffered Command X61/245.5, in binascii: b'\\nX61/245.5\\r'\u001b[0m\n",
      "\u001b[32m2024-11-19 10:13:48.801\u001b[0m | \u001b[34m\u001b[1mDEBUG   \u001b[0m | \u001b[36mgsioc\u001b[0m:\u001b[36mbCommand\u001b[0m:\u001b[36m171\u001b[0m - \u001b[34m\u001b[1mSending buffered command \"X61/245.5\" to device.\u001b[0m\n",
      "\u001b[32m2024-11-19 10:13:48.804\u001b[0m | \u001b[1mINFO    \u001b[0m | \u001b[36mgsioc\u001b[0m:\u001b[36mbCommand\u001b[0m:\u001b[36m176\u001b[0m - \u001b[1mGSIOC <<< X61/245.5\u001b[0m\n",
      "\u001b[32m2024-11-19 10:13:48.909\u001b[0m | \u001b[31m\u001b[1mERROR   \u001b[0m | \u001b[36mgsioc\u001b[0m:\u001b[36mbCommand\u001b[0m:\u001b[36m190\u001b[0m - \u001b[31m\u001b[1mAttempt 58/100: sent buffered Command X61/245.5, in binascii: b'\\nX61/245.5\\r'\u001b[0m\n",
      "\u001b[32m2024-11-19 10:13:48.910\u001b[0m | \u001b[34m\u001b[1mDEBUG   \u001b[0m | \u001b[36mgsioc\u001b[0m:\u001b[36mbCommand\u001b[0m:\u001b[36m171\u001b[0m - \u001b[34m\u001b[1mSending buffered command \"X61/245.5\" to device.\u001b[0m\n",
      "\u001b[32m2024-11-19 10:13:48.910\u001b[0m | \u001b[1mINFO    \u001b[0m | \u001b[36mgsioc\u001b[0m:\u001b[36mbCommand\u001b[0m:\u001b[36m176\u001b[0m - \u001b[1mGSIOC <<< X61/245.5\u001b[0m\n",
      "\u001b[32m2024-11-19 10:13:49.013\u001b[0m | \u001b[31m\u001b[1mERROR   \u001b[0m | \u001b[36mgsioc\u001b[0m:\u001b[36mbCommand\u001b[0m:\u001b[36m190\u001b[0m - \u001b[31m\u001b[1mAttempt 59/100: sent buffered Command X61/245.5, in binascii: b'\\nX61/245.5\\r'\u001b[0m\n",
      "\u001b[32m2024-11-19 10:13:49.016\u001b[0m | \u001b[34m\u001b[1mDEBUG   \u001b[0m | \u001b[36mgsioc\u001b[0m:\u001b[36mbCommand\u001b[0m:\u001b[36m171\u001b[0m - \u001b[34m\u001b[1mSending buffered command \"X61/245.5\" to device.\u001b[0m\n",
      "\u001b[32m2024-11-19 10:13:49.017\u001b[0m | \u001b[1mINFO    \u001b[0m | \u001b[36mgsioc\u001b[0m:\u001b[36mbCommand\u001b[0m:\u001b[36m176\u001b[0m - \u001b[1mGSIOC <<< X61/245.5\u001b[0m\n",
      "\u001b[32m2024-11-19 10:13:49.119\u001b[0m | \u001b[31m\u001b[1mERROR   \u001b[0m | \u001b[36mgsioc\u001b[0m:\u001b[36mbCommand\u001b[0m:\u001b[36m190\u001b[0m - \u001b[31m\u001b[1mAttempt 60/100: sent buffered Command X61/245.5, in binascii: b'\\nX61/245.5\\r'\u001b[0m\n",
      "\u001b[32m2024-11-19 10:13:49.120\u001b[0m | \u001b[34m\u001b[1mDEBUG   \u001b[0m | \u001b[36mgsioc\u001b[0m:\u001b[36mbCommand\u001b[0m:\u001b[36m171\u001b[0m - \u001b[34m\u001b[1mSending buffered command \"X61/245.5\" to device.\u001b[0m\n",
      "\u001b[32m2024-11-19 10:13:49.121\u001b[0m | \u001b[1mINFO    \u001b[0m | \u001b[36mgsioc\u001b[0m:\u001b[36mbCommand\u001b[0m:\u001b[36m176\u001b[0m - \u001b[1mGSIOC <<< X61/245.5\u001b[0m\n",
      "\u001b[32m2024-11-19 10:13:49.232\u001b[0m | \u001b[31m\u001b[1mERROR   \u001b[0m | \u001b[36mgsioc\u001b[0m:\u001b[36mbCommand\u001b[0m:\u001b[36m190\u001b[0m - \u001b[31m\u001b[1mAttempt 61/100: sent buffered Command X61/245.5, in binascii: b'\\nX61/245.5\\r'\u001b[0m\n",
      "\u001b[32m2024-11-19 10:13:49.232\u001b[0m | \u001b[34m\u001b[1mDEBUG   \u001b[0m | \u001b[36mgsioc\u001b[0m:\u001b[36mbCommand\u001b[0m:\u001b[36m171\u001b[0m - \u001b[34m\u001b[1mSending buffered command \"X61/245.5\" to device.\u001b[0m\n",
      "\u001b[32m2024-11-19 10:13:49.232\u001b[0m | \u001b[1mINFO    \u001b[0m | \u001b[36mgsioc\u001b[0m:\u001b[36mbCommand\u001b[0m:\u001b[36m176\u001b[0m - \u001b[1mGSIOC <<< X61/245.5\u001b[0m\n",
      "\u001b[32m2024-11-19 10:13:49.348\u001b[0m | \u001b[31m\u001b[1mERROR   \u001b[0m | \u001b[36mgsioc\u001b[0m:\u001b[36mbCommand\u001b[0m:\u001b[36m190\u001b[0m - \u001b[31m\u001b[1mAttempt 62/100: sent buffered Command X61/245.5, in binascii: b'\\nX61/245.5\\r'\u001b[0m\n",
      "\u001b[32m2024-11-19 10:13:49.349\u001b[0m | \u001b[34m\u001b[1mDEBUG   \u001b[0m | \u001b[36mgsioc\u001b[0m:\u001b[36mbCommand\u001b[0m:\u001b[36m171\u001b[0m - \u001b[34m\u001b[1mSending buffered command \"X61/245.5\" to device.\u001b[0m\n",
      "\u001b[32m2024-11-19 10:13:49.349\u001b[0m | \u001b[1mINFO    \u001b[0m | \u001b[36mgsioc\u001b[0m:\u001b[36mbCommand\u001b[0m:\u001b[36m176\u001b[0m - \u001b[1mGSIOC <<< X61/245.5\u001b[0m\n",
      "\u001b[32m2024-11-19 10:13:49.452\u001b[0m | \u001b[31m\u001b[1mERROR   \u001b[0m | \u001b[36mgsioc\u001b[0m:\u001b[36mbCommand\u001b[0m:\u001b[36m190\u001b[0m - \u001b[31m\u001b[1mAttempt 63/100: sent buffered Command X61/245.5, in binascii: b'\\nX61/245.5\\r'\u001b[0m\n",
      "\u001b[32m2024-11-19 10:13:49.453\u001b[0m | \u001b[34m\u001b[1mDEBUG   \u001b[0m | \u001b[36mgsioc\u001b[0m:\u001b[36mbCommand\u001b[0m:\u001b[36m171\u001b[0m - \u001b[34m\u001b[1mSending buffered command \"X61/245.5\" to device.\u001b[0m\n",
      "\u001b[32m2024-11-19 10:13:49.455\u001b[0m | \u001b[1mINFO    \u001b[0m | \u001b[36mgsioc\u001b[0m:\u001b[36mbCommand\u001b[0m:\u001b[36m176\u001b[0m - \u001b[1mGSIOC <<< X61/245.5\u001b[0m\n",
      "\u001b[32m2024-11-19 10:13:49.565\u001b[0m | \u001b[31m\u001b[1mERROR   \u001b[0m | \u001b[36mgsioc\u001b[0m:\u001b[36mbCommand\u001b[0m:\u001b[36m190\u001b[0m - \u001b[31m\u001b[1mAttempt 64/100: sent buffered Command X61/245.5, in binascii: b'\\nX61/245.5\\r'\u001b[0m\n",
      "\u001b[32m2024-11-19 10:13:49.567\u001b[0m | \u001b[34m\u001b[1mDEBUG   \u001b[0m | \u001b[36mgsioc\u001b[0m:\u001b[36mbCommand\u001b[0m:\u001b[36m171\u001b[0m - \u001b[34m\u001b[1mSending buffered command \"X61/245.5\" to device.\u001b[0m\n",
      "\u001b[32m2024-11-19 10:13:49.569\u001b[0m | \u001b[1mINFO    \u001b[0m | \u001b[36mgsioc\u001b[0m:\u001b[36mbCommand\u001b[0m:\u001b[36m176\u001b[0m - \u001b[1mGSIOC <<< X61/245.5\u001b[0m\n",
      "\u001b[32m2024-11-19 10:13:49.674\u001b[0m | \u001b[31m\u001b[1mERROR   \u001b[0m | \u001b[36mgsioc\u001b[0m:\u001b[36mbCommand\u001b[0m:\u001b[36m190\u001b[0m - \u001b[31m\u001b[1mAttempt 65/100: sent buffered Command X61/245.5, in binascii: b'\\nX61/245.5\\r'\u001b[0m\n",
      "\u001b[32m2024-11-19 10:13:49.674\u001b[0m | \u001b[34m\u001b[1mDEBUG   \u001b[0m | \u001b[36mgsioc\u001b[0m:\u001b[36mbCommand\u001b[0m:\u001b[36m171\u001b[0m - \u001b[34m\u001b[1mSending buffered command \"X61/245.5\" to device.\u001b[0m\n",
      "\u001b[32m2024-11-19 10:13:49.675\u001b[0m | \u001b[1mINFO    \u001b[0m | \u001b[36mgsioc\u001b[0m:\u001b[36mbCommand\u001b[0m:\u001b[36m176\u001b[0m - \u001b[1mGSIOC <<< X61/245.5\u001b[0m\n",
      "\u001b[32m2024-11-19 10:13:49.787\u001b[0m | \u001b[31m\u001b[1mERROR   \u001b[0m | \u001b[36mgsioc\u001b[0m:\u001b[36mbCommand\u001b[0m:\u001b[36m190\u001b[0m - \u001b[31m\u001b[1mAttempt 66/100: sent buffered Command X61/245.5, in binascii: b'\\nX61/245.5\\r'\u001b[0m\n",
      "\u001b[32m2024-11-19 10:13:49.788\u001b[0m | \u001b[34m\u001b[1mDEBUG   \u001b[0m | \u001b[36mgsioc\u001b[0m:\u001b[36mbCommand\u001b[0m:\u001b[36m171\u001b[0m - \u001b[34m\u001b[1mSending buffered command \"X61/245.5\" to device.\u001b[0m\n",
      "\u001b[32m2024-11-19 10:13:49.790\u001b[0m | \u001b[1mINFO    \u001b[0m | \u001b[36mgsioc\u001b[0m:\u001b[36mbCommand\u001b[0m:\u001b[36m176\u001b[0m - \u001b[1mGSIOC <<< X61/245.5\u001b[0m\n",
      "\u001b[32m2024-11-19 10:13:49.899\u001b[0m | \u001b[31m\u001b[1mERROR   \u001b[0m | \u001b[36mgsioc\u001b[0m:\u001b[36mbCommand\u001b[0m:\u001b[36m190\u001b[0m - \u001b[31m\u001b[1mAttempt 67/100: sent buffered Command X61/245.5, in binascii: b'\\nX61/245.5\\r'\u001b[0m\n",
      "\u001b[32m2024-11-19 10:13:49.900\u001b[0m | \u001b[34m\u001b[1mDEBUG   \u001b[0m | \u001b[36mgsioc\u001b[0m:\u001b[36mbCommand\u001b[0m:\u001b[36m171\u001b[0m - \u001b[34m\u001b[1mSending buffered command \"X61/245.5\" to device.\u001b[0m\n",
      "\u001b[32m2024-11-19 10:13:49.901\u001b[0m | \u001b[1mINFO    \u001b[0m | \u001b[36mgsioc\u001b[0m:\u001b[36mbCommand\u001b[0m:\u001b[36m176\u001b[0m - \u001b[1mGSIOC <<< X61/245.5\u001b[0m\n",
      "\u001b[32m2024-11-19 10:13:50.016\u001b[0m | \u001b[31m\u001b[1mERROR   \u001b[0m | \u001b[36mgsioc\u001b[0m:\u001b[36mbCommand\u001b[0m:\u001b[36m190\u001b[0m - \u001b[31m\u001b[1mAttempt 68/100: sent buffered Command X61/245.5, in binascii: b'\\nX61/245.5\\r'\u001b[0m\n",
      "\u001b[32m2024-11-19 10:13:50.017\u001b[0m | \u001b[34m\u001b[1mDEBUG   \u001b[0m | \u001b[36mgsioc\u001b[0m:\u001b[36mbCommand\u001b[0m:\u001b[36m171\u001b[0m - \u001b[34m\u001b[1mSending buffered command \"X61/245.5\" to device.\u001b[0m\n",
      "\u001b[32m2024-11-19 10:13:50.018\u001b[0m | \u001b[1mINFO    \u001b[0m | \u001b[36mgsioc\u001b[0m:\u001b[36mbCommand\u001b[0m:\u001b[36m176\u001b[0m - \u001b[1mGSIOC <<< X61/245.5\u001b[0m\n",
      "\u001b[32m2024-11-19 10:13:50.124\u001b[0m | \u001b[31m\u001b[1mERROR   \u001b[0m | \u001b[36mgsioc\u001b[0m:\u001b[36mbCommand\u001b[0m:\u001b[36m190\u001b[0m - \u001b[31m\u001b[1mAttempt 69/100: sent buffered Command X61/245.5, in binascii: b'\\nX61/245.5\\r'\u001b[0m\n",
      "\u001b[32m2024-11-19 10:13:50.124\u001b[0m | \u001b[34m\u001b[1mDEBUG   \u001b[0m | \u001b[36mgsioc\u001b[0m:\u001b[36mbCommand\u001b[0m:\u001b[36m171\u001b[0m - \u001b[34m\u001b[1mSending buffered command \"X61/245.5\" to device.\u001b[0m\n",
      "\u001b[32m2024-11-19 10:13:50.125\u001b[0m | \u001b[1mINFO    \u001b[0m | \u001b[36mgsioc\u001b[0m:\u001b[36mbCommand\u001b[0m:\u001b[36m176\u001b[0m - \u001b[1mGSIOC <<< X61/245.5\u001b[0m\n",
      "\u001b[32m2024-11-19 10:13:50.232\u001b[0m | \u001b[31m\u001b[1mERROR   \u001b[0m | \u001b[36mgsioc\u001b[0m:\u001b[36mbCommand\u001b[0m:\u001b[36m190\u001b[0m - \u001b[31m\u001b[1mAttempt 70/100: sent buffered Command X61/245.5, in binascii: b'\\nX61/245.5\\r'\u001b[0m\n",
      "\u001b[32m2024-11-19 10:13:50.234\u001b[0m | \u001b[34m\u001b[1mDEBUG   \u001b[0m | \u001b[36mgsioc\u001b[0m:\u001b[36mbCommand\u001b[0m:\u001b[36m171\u001b[0m - \u001b[34m\u001b[1mSending buffered command \"X61/245.5\" to device.\u001b[0m\n",
      "\u001b[32m2024-11-19 10:13:50.236\u001b[0m | \u001b[1mINFO    \u001b[0m | \u001b[36mgsioc\u001b[0m:\u001b[36mbCommand\u001b[0m:\u001b[36m176\u001b[0m - \u001b[1mGSIOC <<< X61/245.5\u001b[0m\n",
      "\u001b[32m2024-11-19 10:13:50.345\u001b[0m | \u001b[31m\u001b[1mERROR   \u001b[0m | \u001b[36mgsioc\u001b[0m:\u001b[36mbCommand\u001b[0m:\u001b[36m190\u001b[0m - \u001b[31m\u001b[1mAttempt 71/100: sent buffered Command X61/245.5, in binascii: b'\\nX61/245.5\\r'\u001b[0m\n",
      "\u001b[32m2024-11-19 10:13:50.345\u001b[0m | \u001b[34m\u001b[1mDEBUG   \u001b[0m | \u001b[36mgsioc\u001b[0m:\u001b[36mbCommand\u001b[0m:\u001b[36m171\u001b[0m - \u001b[34m\u001b[1mSending buffered command \"X61/245.5\" to device.\u001b[0m\n",
      "\u001b[32m2024-11-19 10:13:50.346\u001b[0m | \u001b[1mINFO    \u001b[0m | \u001b[36mgsioc\u001b[0m:\u001b[36mbCommand\u001b[0m:\u001b[36m176\u001b[0m - \u001b[1mGSIOC <<< X61/245.5\u001b[0m\n",
      "\u001b[32m2024-11-19 10:13:50.449\u001b[0m | \u001b[31m\u001b[1mERROR   \u001b[0m | \u001b[36mgsioc\u001b[0m:\u001b[36mbCommand\u001b[0m:\u001b[36m190\u001b[0m - \u001b[31m\u001b[1mAttempt 72/100: sent buffered Command X61/245.5, in binascii: b'\\nX61/245.5\\r'\u001b[0m\n",
      "\u001b[32m2024-11-19 10:13:50.449\u001b[0m | \u001b[34m\u001b[1mDEBUG   \u001b[0m | \u001b[36mgsioc\u001b[0m:\u001b[36mbCommand\u001b[0m:\u001b[36m171\u001b[0m - \u001b[34m\u001b[1mSending buffered command \"X61/245.5\" to device.\u001b[0m\n",
      "\u001b[32m2024-11-19 10:13:50.450\u001b[0m | \u001b[1mINFO    \u001b[0m | \u001b[36mgsioc\u001b[0m:\u001b[36mbCommand\u001b[0m:\u001b[36m176\u001b[0m - \u001b[1mGSIOC <<< X61/245.5\u001b[0m\n",
      "\u001b[32m2024-11-19 10:13:50.552\u001b[0m | \u001b[31m\u001b[1mERROR   \u001b[0m | \u001b[36mgsioc\u001b[0m:\u001b[36mbCommand\u001b[0m:\u001b[36m190\u001b[0m - \u001b[31m\u001b[1mAttempt 73/100: sent buffered Command X61/245.5, in binascii: b'\\nX61/245.5\\r'\u001b[0m\n",
      "\u001b[32m2024-11-19 10:13:50.553\u001b[0m | \u001b[34m\u001b[1mDEBUG   \u001b[0m | \u001b[36mgsioc\u001b[0m:\u001b[36mbCommand\u001b[0m:\u001b[36m171\u001b[0m - \u001b[34m\u001b[1mSending buffered command \"X61/245.5\" to device.\u001b[0m\n",
      "\u001b[32m2024-11-19 10:13:50.553\u001b[0m | \u001b[1mINFO    \u001b[0m | \u001b[36mgsioc\u001b[0m:\u001b[36mbCommand\u001b[0m:\u001b[36m176\u001b[0m - \u001b[1mGSIOC <<< X61/245.5\u001b[0m\n",
      "\u001b[32m2024-11-19 10:13:50.666\u001b[0m | \u001b[31m\u001b[1mERROR   \u001b[0m | \u001b[36mgsioc\u001b[0m:\u001b[36mbCommand\u001b[0m:\u001b[36m190\u001b[0m - \u001b[31m\u001b[1mAttempt 74/100: sent buffered Command X61/245.5, in binascii: b'\\nX61/245.5\\r'\u001b[0m\n",
      "\u001b[32m2024-11-19 10:13:50.666\u001b[0m | \u001b[34m\u001b[1mDEBUG   \u001b[0m | \u001b[36mgsioc\u001b[0m:\u001b[36mbCommand\u001b[0m:\u001b[36m171\u001b[0m - \u001b[34m\u001b[1mSending buffered command \"X61/245.5\" to device.\u001b[0m\n",
      "\u001b[32m2024-11-19 10:13:50.667\u001b[0m | \u001b[1mINFO    \u001b[0m | \u001b[36mgsioc\u001b[0m:\u001b[36mbCommand\u001b[0m:\u001b[36m176\u001b[0m - \u001b[1mGSIOC <<< X61/245.5\u001b[0m\n",
      "\u001b[32m2024-11-19 10:13:50.769\u001b[0m | \u001b[31m\u001b[1mERROR   \u001b[0m | \u001b[36mgsioc\u001b[0m:\u001b[36mbCommand\u001b[0m:\u001b[36m190\u001b[0m - \u001b[31m\u001b[1mAttempt 75/100: sent buffered Command X61/245.5, in binascii: b'\\nX61/245.5\\r'\u001b[0m\n",
      "\u001b[32m2024-11-19 10:13:50.769\u001b[0m | \u001b[34m\u001b[1mDEBUG   \u001b[0m | \u001b[36mgsioc\u001b[0m:\u001b[36mbCommand\u001b[0m:\u001b[36m171\u001b[0m - \u001b[34m\u001b[1mSending buffered command \"X61/245.5\" to device.\u001b[0m\n",
      "\u001b[32m2024-11-19 10:13:50.770\u001b[0m | \u001b[1mINFO    \u001b[0m | \u001b[36mgsioc\u001b[0m:\u001b[36mbCommand\u001b[0m:\u001b[36m176\u001b[0m - \u001b[1mGSIOC <<< X61/245.5\u001b[0m\n",
      "\u001b[32m2024-11-19 10:13:50.873\u001b[0m | \u001b[31m\u001b[1mERROR   \u001b[0m | \u001b[36mgsioc\u001b[0m:\u001b[36mbCommand\u001b[0m:\u001b[36m190\u001b[0m - \u001b[31m\u001b[1mAttempt 76/100: sent buffered Command X61/245.5, in binascii: b'\\nX61/245.5\\r'\u001b[0m\n",
      "\u001b[32m2024-11-19 10:13:50.873\u001b[0m | \u001b[34m\u001b[1mDEBUG   \u001b[0m | \u001b[36mgsioc\u001b[0m:\u001b[36mbCommand\u001b[0m:\u001b[36m171\u001b[0m - \u001b[34m\u001b[1mSending buffered command \"X61/245.5\" to device.\u001b[0m\n",
      "\u001b[32m2024-11-19 10:13:50.874\u001b[0m | \u001b[1mINFO    \u001b[0m | \u001b[36mgsioc\u001b[0m:\u001b[36mbCommand\u001b[0m:\u001b[36m176\u001b[0m - \u001b[1mGSIOC <<< X61/245.5\u001b[0m\n",
      "\u001b[32m2024-11-19 10:13:50.976\u001b[0m | \u001b[31m\u001b[1mERROR   \u001b[0m | \u001b[36mgsioc\u001b[0m:\u001b[36mbCommand\u001b[0m:\u001b[36m190\u001b[0m - \u001b[31m\u001b[1mAttempt 77/100: sent buffered Command X61/245.5, in binascii: b'\\nX61/245.5\\r'\u001b[0m\n",
      "\u001b[32m2024-11-19 10:13:50.976\u001b[0m | \u001b[34m\u001b[1mDEBUG   \u001b[0m | \u001b[36mgsioc\u001b[0m:\u001b[36mbCommand\u001b[0m:\u001b[36m171\u001b[0m - \u001b[34m\u001b[1mSending buffered command \"X61/245.5\" to device.\u001b[0m\n",
      "\u001b[32m2024-11-19 10:13:50.976\u001b[0m | \u001b[1mINFO    \u001b[0m | \u001b[36mgsioc\u001b[0m:\u001b[36mbCommand\u001b[0m:\u001b[36m176\u001b[0m - \u001b[1mGSIOC <<< X61/245.5\u001b[0m\n",
      "\u001b[32m2024-11-19 10:13:51.081\u001b[0m | \u001b[31m\u001b[1mERROR   \u001b[0m | \u001b[36mgsioc\u001b[0m:\u001b[36mbCommand\u001b[0m:\u001b[36m190\u001b[0m - \u001b[31m\u001b[1mAttempt 78/100: sent buffered Command X61/245.5, in binascii: b'\\nX61/245.5\\r'\u001b[0m\n",
      "\u001b[32m2024-11-19 10:13:51.081\u001b[0m | \u001b[34m\u001b[1mDEBUG   \u001b[0m | \u001b[36mgsioc\u001b[0m:\u001b[36mbCommand\u001b[0m:\u001b[36m171\u001b[0m - \u001b[34m\u001b[1mSending buffered command \"X61/245.5\" to device.\u001b[0m\n",
      "\u001b[32m2024-11-19 10:13:51.081\u001b[0m | \u001b[1mINFO    \u001b[0m | \u001b[36mgsioc\u001b[0m:\u001b[36mbCommand\u001b[0m:\u001b[36m176\u001b[0m - \u001b[1mGSIOC <<< X61/245.5\u001b[0m\n",
      "\u001b[32m2024-11-19 10:13:51.183\u001b[0m | \u001b[31m\u001b[1mERROR   \u001b[0m | \u001b[36mgsioc\u001b[0m:\u001b[36mbCommand\u001b[0m:\u001b[36m190\u001b[0m - \u001b[31m\u001b[1mAttempt 79/100: sent buffered Command X61/245.5, in binascii: b'\\nX61/245.5\\r'\u001b[0m\n",
      "\u001b[32m2024-11-19 10:13:51.183\u001b[0m | \u001b[34m\u001b[1mDEBUG   \u001b[0m | \u001b[36mgsioc\u001b[0m:\u001b[36mbCommand\u001b[0m:\u001b[36m171\u001b[0m - \u001b[34m\u001b[1mSending buffered command \"X61/245.5\" to device.\u001b[0m\n",
      "\u001b[32m2024-11-19 10:13:51.184\u001b[0m | \u001b[1mINFO    \u001b[0m | \u001b[36mgsioc\u001b[0m:\u001b[36mbCommand\u001b[0m:\u001b[36m176\u001b[0m - \u001b[1mGSIOC <<< X61/245.5\u001b[0m\n",
      "\u001b[32m2024-11-19 10:13:51.298\u001b[0m | \u001b[31m\u001b[1mERROR   \u001b[0m | \u001b[36mgsioc\u001b[0m:\u001b[36mbCommand\u001b[0m:\u001b[36m190\u001b[0m - \u001b[31m\u001b[1mAttempt 80/100: sent buffered Command X61/245.5, in binascii: b'\\nX61/245.5\\r'\u001b[0m\n",
      "\u001b[32m2024-11-19 10:13:51.305\u001b[0m | \u001b[34m\u001b[1mDEBUG   \u001b[0m | \u001b[36mgsioc\u001b[0m:\u001b[36mbCommand\u001b[0m:\u001b[36m171\u001b[0m - \u001b[34m\u001b[1mSending buffered command \"X61/245.5\" to device.\u001b[0m\n",
      "\u001b[32m2024-11-19 10:13:51.309\u001b[0m | \u001b[1mINFO    \u001b[0m | \u001b[36mgsioc\u001b[0m:\u001b[36mbCommand\u001b[0m:\u001b[36m176\u001b[0m - \u001b[1mGSIOC <<< X61/245.5\u001b[0m\n",
      "\u001b[32m2024-11-19 10:13:51.417\u001b[0m | \u001b[31m\u001b[1mERROR   \u001b[0m | \u001b[36mgsioc\u001b[0m:\u001b[36mbCommand\u001b[0m:\u001b[36m190\u001b[0m - \u001b[31m\u001b[1mAttempt 81/100: sent buffered Command X61/245.5, in binascii: b'\\nX61/245.5\\r'\u001b[0m\n",
      "\u001b[32m2024-11-19 10:13:51.417\u001b[0m | \u001b[34m\u001b[1mDEBUG   \u001b[0m | \u001b[36mgsioc\u001b[0m:\u001b[36mbCommand\u001b[0m:\u001b[36m171\u001b[0m - \u001b[34m\u001b[1mSending buffered command \"X61/245.5\" to device.\u001b[0m\n",
      "\u001b[32m2024-11-19 10:13:51.418\u001b[0m | \u001b[1mINFO    \u001b[0m | \u001b[36mgsioc\u001b[0m:\u001b[36mbCommand\u001b[0m:\u001b[36m176\u001b[0m - \u001b[1mGSIOC <<< X61/245.5\u001b[0m\n",
      "\u001b[32m2024-11-19 10:13:51.521\u001b[0m | \u001b[31m\u001b[1mERROR   \u001b[0m | \u001b[36mgsioc\u001b[0m:\u001b[36mbCommand\u001b[0m:\u001b[36m190\u001b[0m - \u001b[31m\u001b[1mAttempt 82/100: sent buffered Command X61/245.5, in binascii: b'\\nX61/245.5\\r'\u001b[0m\n",
      "\u001b[32m2024-11-19 10:13:51.521\u001b[0m | \u001b[34m\u001b[1mDEBUG   \u001b[0m | \u001b[36mgsioc\u001b[0m:\u001b[36mbCommand\u001b[0m:\u001b[36m171\u001b[0m - \u001b[34m\u001b[1mSending buffered command \"X61/245.5\" to device.\u001b[0m\n",
      "\u001b[32m2024-11-19 10:13:51.522\u001b[0m | \u001b[1mINFO    \u001b[0m | \u001b[36mgsioc\u001b[0m:\u001b[36mbCommand\u001b[0m:\u001b[36m176\u001b[0m - \u001b[1mGSIOC <<< X61/245.5\u001b[0m\n",
      "\u001b[32m2024-11-19 10:13:51.625\u001b[0m | \u001b[31m\u001b[1mERROR   \u001b[0m | \u001b[36mgsioc\u001b[0m:\u001b[36mbCommand\u001b[0m:\u001b[36m190\u001b[0m - \u001b[31m\u001b[1mAttempt 83/100: sent buffered Command X61/245.5, in binascii: b'\\nX61/245.5\\r'\u001b[0m\n",
      "\u001b[32m2024-11-19 10:13:51.625\u001b[0m | \u001b[34m\u001b[1mDEBUG   \u001b[0m | \u001b[36mgsioc\u001b[0m:\u001b[36mbCommand\u001b[0m:\u001b[36m171\u001b[0m - \u001b[34m\u001b[1mSending buffered command \"X61/245.5\" to device.\u001b[0m\n",
      "\u001b[32m2024-11-19 10:13:51.626\u001b[0m | \u001b[1mINFO    \u001b[0m | \u001b[36mgsioc\u001b[0m:\u001b[36mbCommand\u001b[0m:\u001b[36m176\u001b[0m - \u001b[1mGSIOC <<< X61/245.5\u001b[0m\n",
      "\u001b[32m2024-11-19 10:13:51.729\u001b[0m | \u001b[31m\u001b[1mERROR   \u001b[0m | \u001b[36mgsioc\u001b[0m:\u001b[36mbCommand\u001b[0m:\u001b[36m190\u001b[0m - \u001b[31m\u001b[1mAttempt 84/100: sent buffered Command X61/245.5, in binascii: b'\\nX61/245.5\\r'\u001b[0m\n",
      "\u001b[32m2024-11-19 10:13:51.729\u001b[0m | \u001b[34m\u001b[1mDEBUG   \u001b[0m | \u001b[36mgsioc\u001b[0m:\u001b[36mbCommand\u001b[0m:\u001b[36m171\u001b[0m - \u001b[34m\u001b[1mSending buffered command \"X61/245.5\" to device.\u001b[0m\n",
      "\u001b[32m2024-11-19 10:13:51.730\u001b[0m | \u001b[1mINFO    \u001b[0m | \u001b[36mgsioc\u001b[0m:\u001b[36mbCommand\u001b[0m:\u001b[36m176\u001b[0m - \u001b[1mGSIOC <<< X61/245.5\u001b[0m\n",
      "\u001b[32m2024-11-19 10:13:51.833\u001b[0m | \u001b[31m\u001b[1mERROR   \u001b[0m | \u001b[36mgsioc\u001b[0m:\u001b[36mbCommand\u001b[0m:\u001b[36m190\u001b[0m - \u001b[31m\u001b[1mAttempt 85/100: sent buffered Command X61/245.5, in binascii: b'\\nX61/245.5\\r'\u001b[0m\n",
      "\u001b[32m2024-11-19 10:13:51.834\u001b[0m | \u001b[34m\u001b[1mDEBUG   \u001b[0m | \u001b[36mgsioc\u001b[0m:\u001b[36mbCommand\u001b[0m:\u001b[36m171\u001b[0m - \u001b[34m\u001b[1mSending buffered command \"X61/245.5\" to device.\u001b[0m\n",
      "\u001b[32m2024-11-19 10:13:51.834\u001b[0m | \u001b[1mINFO    \u001b[0m | \u001b[36mgsioc\u001b[0m:\u001b[36mbCommand\u001b[0m:\u001b[36m176\u001b[0m - \u001b[1mGSIOC <<< X61/245.5\u001b[0m\n",
      "\u001b[32m2024-11-19 10:13:51.937\u001b[0m | \u001b[31m\u001b[1mERROR   \u001b[0m | \u001b[36mgsioc\u001b[0m:\u001b[36mbCommand\u001b[0m:\u001b[36m190\u001b[0m - \u001b[31m\u001b[1mAttempt 86/100: sent buffered Command X61/245.5, in binascii: b'\\nX61/245.5\\r'\u001b[0m\n",
      "\u001b[32m2024-11-19 10:13:51.937\u001b[0m | \u001b[34m\u001b[1mDEBUG   \u001b[0m | \u001b[36mgsioc\u001b[0m:\u001b[36mbCommand\u001b[0m:\u001b[36m171\u001b[0m - \u001b[34m\u001b[1mSending buffered command \"X61/245.5\" to device.\u001b[0m\n",
      "\u001b[32m2024-11-19 10:13:51.938\u001b[0m | \u001b[1mINFO    \u001b[0m | \u001b[36mgsioc\u001b[0m:\u001b[36mbCommand\u001b[0m:\u001b[36m176\u001b[0m - \u001b[1mGSIOC <<< X61/245.5\u001b[0m\n",
      "\u001b[32m2024-11-19 10:13:52.041\u001b[0m | \u001b[31m\u001b[1mERROR   \u001b[0m | \u001b[36mgsioc\u001b[0m:\u001b[36mbCommand\u001b[0m:\u001b[36m190\u001b[0m - \u001b[31m\u001b[1mAttempt 87/100: sent buffered Command X61/245.5, in binascii: b'\\nX61/245.5\\r'\u001b[0m\n",
      "\u001b[32m2024-11-19 10:13:52.041\u001b[0m | \u001b[34m\u001b[1mDEBUG   \u001b[0m | \u001b[36mgsioc\u001b[0m:\u001b[36mbCommand\u001b[0m:\u001b[36m171\u001b[0m - \u001b[34m\u001b[1mSending buffered command \"X61/245.5\" to device.\u001b[0m\n",
      "\u001b[32m2024-11-19 10:13:52.042\u001b[0m | \u001b[1mINFO    \u001b[0m | \u001b[36mgsioc\u001b[0m:\u001b[36mbCommand\u001b[0m:\u001b[36m176\u001b[0m - \u001b[1mGSIOC <<< X61/245.5\u001b[0m\n",
      "\u001b[32m2024-11-19 10:13:52.145\u001b[0m | \u001b[31m\u001b[1mERROR   \u001b[0m | \u001b[36mgsioc\u001b[0m:\u001b[36mbCommand\u001b[0m:\u001b[36m190\u001b[0m - \u001b[31m\u001b[1mAttempt 88/100: sent buffered Command X61/245.5, in binascii: b'\\nX61/245.5\\r'\u001b[0m\n",
      "\u001b[32m2024-11-19 10:13:52.145\u001b[0m | \u001b[34m\u001b[1mDEBUG   \u001b[0m | \u001b[36mgsioc\u001b[0m:\u001b[36mbCommand\u001b[0m:\u001b[36m171\u001b[0m - \u001b[34m\u001b[1mSending buffered command \"X61/245.5\" to device.\u001b[0m\n",
      "\u001b[32m2024-11-19 10:13:52.146\u001b[0m | \u001b[1mINFO    \u001b[0m | \u001b[36mgsioc\u001b[0m:\u001b[36mbCommand\u001b[0m:\u001b[36m176\u001b[0m - \u001b[1mGSIOC <<< X61/245.5\u001b[0m\n",
      "\u001b[32m2024-11-19 10:13:52.248\u001b[0m | \u001b[31m\u001b[1mERROR   \u001b[0m | \u001b[36mgsioc\u001b[0m:\u001b[36mbCommand\u001b[0m:\u001b[36m190\u001b[0m - \u001b[31m\u001b[1mAttempt 89/100: sent buffered Command X61/245.5, in binascii: b'\\nX61/245.5\\r'\u001b[0m\n",
      "\u001b[32m2024-11-19 10:13:52.249\u001b[0m | \u001b[34m\u001b[1mDEBUG   \u001b[0m | \u001b[36mgsioc\u001b[0m:\u001b[36mbCommand\u001b[0m:\u001b[36m171\u001b[0m - \u001b[34m\u001b[1mSending buffered command \"X61/245.5\" to device.\u001b[0m\n",
      "\u001b[32m2024-11-19 10:13:52.249\u001b[0m | \u001b[1mINFO    \u001b[0m | \u001b[36mgsioc\u001b[0m:\u001b[36mbCommand\u001b[0m:\u001b[36m176\u001b[0m - \u001b[1mGSIOC <<< X61/245.5\u001b[0m\n",
      "\u001b[32m2024-11-19 10:13:52.351\u001b[0m | \u001b[31m\u001b[1mERROR   \u001b[0m | \u001b[36mgsioc\u001b[0m:\u001b[36mbCommand\u001b[0m:\u001b[36m190\u001b[0m - \u001b[31m\u001b[1mAttempt 90/100: sent buffered Command X61/245.5, in binascii: b'\\nX61/245.5\\r'\u001b[0m\n",
      "\u001b[32m2024-11-19 10:13:52.351\u001b[0m | \u001b[34m\u001b[1mDEBUG   \u001b[0m | \u001b[36mgsioc\u001b[0m:\u001b[36mbCommand\u001b[0m:\u001b[36m171\u001b[0m - \u001b[34m\u001b[1mSending buffered command \"X61/245.5\" to device.\u001b[0m\n",
      "\u001b[32m2024-11-19 10:13:52.352\u001b[0m | \u001b[1mINFO    \u001b[0m | \u001b[36mgsioc\u001b[0m:\u001b[36mbCommand\u001b[0m:\u001b[36m176\u001b[0m - \u001b[1mGSIOC <<< X61/245.5\u001b[0m\n",
      "\u001b[32m2024-11-19 10:13:52.457\u001b[0m | \u001b[31m\u001b[1mERROR   \u001b[0m | \u001b[36mgsioc\u001b[0m:\u001b[36mbCommand\u001b[0m:\u001b[36m190\u001b[0m - \u001b[31m\u001b[1mAttempt 91/100: sent buffered Command X61/245.5, in binascii: b'\\nX61/245.5\\r'\u001b[0m\n",
      "\u001b[32m2024-11-19 10:13:52.457\u001b[0m | \u001b[34m\u001b[1mDEBUG   \u001b[0m | \u001b[36mgsioc\u001b[0m:\u001b[36mbCommand\u001b[0m:\u001b[36m171\u001b[0m - \u001b[34m\u001b[1mSending buffered command \"X61/245.5\" to device.\u001b[0m\n",
      "\u001b[32m2024-11-19 10:13:52.458\u001b[0m | \u001b[1mINFO    \u001b[0m | \u001b[36mgsioc\u001b[0m:\u001b[36mbCommand\u001b[0m:\u001b[36m176\u001b[0m - \u001b[1mGSIOC <<< X61/245.5\u001b[0m\n",
      "\u001b[32m2024-11-19 10:13:52.567\u001b[0m | \u001b[31m\u001b[1mERROR   \u001b[0m | \u001b[36mgsioc\u001b[0m:\u001b[36mbCommand\u001b[0m:\u001b[36m190\u001b[0m - \u001b[31m\u001b[1mAttempt 92/100: sent buffered Command X61/245.5, in binascii: b'\\nX61/245.5\\r'\u001b[0m\n",
      "\u001b[32m2024-11-19 10:13:52.568\u001b[0m | \u001b[34m\u001b[1mDEBUG   \u001b[0m | \u001b[36mgsioc\u001b[0m:\u001b[36mbCommand\u001b[0m:\u001b[36m171\u001b[0m - \u001b[34m\u001b[1mSending buffered command \"X61/245.5\" to device.\u001b[0m\n",
      "\u001b[32m2024-11-19 10:13:52.569\u001b[0m | \u001b[1mINFO    \u001b[0m | \u001b[36mgsioc\u001b[0m:\u001b[36mbCommand\u001b[0m:\u001b[36m176\u001b[0m - \u001b[1mGSIOC <<< X61/245.5\u001b[0m\n",
      "\u001b[32m2024-11-19 10:13:52.681\u001b[0m | \u001b[31m\u001b[1mERROR   \u001b[0m | \u001b[36mgsioc\u001b[0m:\u001b[36mbCommand\u001b[0m:\u001b[36m190\u001b[0m - \u001b[31m\u001b[1mAttempt 93/100: sent buffered Command X61/245.5, in binascii: b'\\nX61/245.5\\r'\u001b[0m\n",
      "\u001b[32m2024-11-19 10:13:52.681\u001b[0m | \u001b[34m\u001b[1mDEBUG   \u001b[0m | \u001b[36mgsioc\u001b[0m:\u001b[36mbCommand\u001b[0m:\u001b[36m171\u001b[0m - \u001b[34m\u001b[1mSending buffered command \"X61/245.5\" to device.\u001b[0m\n",
      "\u001b[32m2024-11-19 10:13:52.682\u001b[0m | \u001b[1mINFO    \u001b[0m | \u001b[36mgsioc\u001b[0m:\u001b[36mbCommand\u001b[0m:\u001b[36m176\u001b[0m - \u001b[1mGSIOC <<< X61/245.5\u001b[0m\n",
      "\u001b[32m2024-11-19 10:13:52.785\u001b[0m | \u001b[31m\u001b[1mERROR   \u001b[0m | \u001b[36mgsioc\u001b[0m:\u001b[36mbCommand\u001b[0m:\u001b[36m190\u001b[0m - \u001b[31m\u001b[1mAttempt 94/100: sent buffered Command X61/245.5, in binascii: b'\\nX61/245.5\\r'\u001b[0m\n",
      "\u001b[32m2024-11-19 10:13:52.785\u001b[0m | \u001b[34m\u001b[1mDEBUG   \u001b[0m | \u001b[36mgsioc\u001b[0m:\u001b[36mbCommand\u001b[0m:\u001b[36m171\u001b[0m - \u001b[34m\u001b[1mSending buffered command \"X61/245.5\" to device.\u001b[0m\n",
      "\u001b[32m2024-11-19 10:13:52.786\u001b[0m | \u001b[1mINFO    \u001b[0m | \u001b[36mgsioc\u001b[0m:\u001b[36mbCommand\u001b[0m:\u001b[36m176\u001b[0m - \u001b[1mGSIOC <<< X61/245.5\u001b[0m\n",
      "\u001b[32m2024-11-19 10:13:52.889\u001b[0m | \u001b[31m\u001b[1mERROR   \u001b[0m | \u001b[36mgsioc\u001b[0m:\u001b[36mbCommand\u001b[0m:\u001b[36m190\u001b[0m - \u001b[31m\u001b[1mAttempt 95/100: sent buffered Command X61/245.5, in binascii: b'\\nX61/245.5\\r'\u001b[0m\n",
      "\u001b[32m2024-11-19 10:13:52.889\u001b[0m | \u001b[34m\u001b[1mDEBUG   \u001b[0m | \u001b[36mgsioc\u001b[0m:\u001b[36mbCommand\u001b[0m:\u001b[36m171\u001b[0m - \u001b[34m\u001b[1mSending buffered command \"X61/245.5\" to device.\u001b[0m\n",
      "\u001b[32m2024-11-19 10:13:52.890\u001b[0m | \u001b[1mINFO    \u001b[0m | \u001b[36mgsioc\u001b[0m:\u001b[36mbCommand\u001b[0m:\u001b[36m176\u001b[0m - \u001b[1mGSIOC <<< X61/245.5\u001b[0m\n",
      "\u001b[32m2024-11-19 10:13:53.000\u001b[0m | \u001b[31m\u001b[1mERROR   \u001b[0m | \u001b[36mgsioc\u001b[0m:\u001b[36mbCommand\u001b[0m:\u001b[36m190\u001b[0m - \u001b[31m\u001b[1mAttempt 96/100: sent buffered Command X61/245.5, in binascii: b'\\nX61/245.5\\r'\u001b[0m\n",
      "\u001b[32m2024-11-19 10:13:53.000\u001b[0m | \u001b[34m\u001b[1mDEBUG   \u001b[0m | \u001b[36mgsioc\u001b[0m:\u001b[36mbCommand\u001b[0m:\u001b[36m171\u001b[0m - \u001b[34m\u001b[1mSending buffered command \"X61/245.5\" to device.\u001b[0m\n",
      "\u001b[32m2024-11-19 10:13:53.001\u001b[0m | \u001b[1mINFO    \u001b[0m | \u001b[36mgsioc\u001b[0m:\u001b[36mbCommand\u001b[0m:\u001b[36m176\u001b[0m - \u001b[1mGSIOC <<< X61/245.5\u001b[0m\n",
      "\u001b[32m2024-11-19 10:13:53.104\u001b[0m | \u001b[31m\u001b[1mERROR   \u001b[0m | \u001b[36mgsioc\u001b[0m:\u001b[36mbCommand\u001b[0m:\u001b[36m190\u001b[0m - \u001b[31m\u001b[1mAttempt 97/100: sent buffered Command X61/245.5, in binascii: b'\\nX61/245.5\\r'\u001b[0m\n",
      "\u001b[32m2024-11-19 10:13:53.105\u001b[0m | \u001b[34m\u001b[1mDEBUG   \u001b[0m | \u001b[36mgsioc\u001b[0m:\u001b[36mbCommand\u001b[0m:\u001b[36m171\u001b[0m - \u001b[34m\u001b[1mSending buffered command \"X61/245.5\" to device.\u001b[0m\n",
      "\u001b[32m2024-11-19 10:13:53.105\u001b[0m | \u001b[1mINFO    \u001b[0m | \u001b[36mgsioc\u001b[0m:\u001b[36mbCommand\u001b[0m:\u001b[36m176\u001b[0m - \u001b[1mGSIOC <<< X61/245.5\u001b[0m\n",
      "\u001b[32m2024-11-19 10:13:53.216\u001b[0m | \u001b[31m\u001b[1mERROR   \u001b[0m | \u001b[36mgsioc\u001b[0m:\u001b[36mbCommand\u001b[0m:\u001b[36m190\u001b[0m - \u001b[31m\u001b[1mAttempt 98/100: sent buffered Command X61/245.5, in binascii: b'\\nX61/245.5\\r'\u001b[0m\n",
      "\u001b[32m2024-11-19 10:13:53.217\u001b[0m | \u001b[34m\u001b[1mDEBUG   \u001b[0m | \u001b[36mgsioc\u001b[0m:\u001b[36mbCommand\u001b[0m:\u001b[36m171\u001b[0m - \u001b[34m\u001b[1mSending buffered command \"X61/245.5\" to device.\u001b[0m\n",
      "\u001b[32m2024-11-19 10:13:53.217\u001b[0m | \u001b[1mINFO    \u001b[0m | \u001b[36mgsioc\u001b[0m:\u001b[36mbCommand\u001b[0m:\u001b[36m176\u001b[0m - \u001b[1mGSIOC <<< X61/245.5\u001b[0m\n",
      "\u001b[32m2024-11-19 10:13:53.318\u001b[0m | \u001b[31m\u001b[1mERROR   \u001b[0m | \u001b[36mgsioc\u001b[0m:\u001b[36mbCommand\u001b[0m:\u001b[36m190\u001b[0m - \u001b[31m\u001b[1mAttempt 99/100: sent buffered Command X61/245.5, in binascii: b'\\nX61/245.5\\r'\u001b[0m\n",
      "\u001b[32m2024-11-19 10:13:53.318\u001b[0m | \u001b[34m\u001b[1mDEBUG   \u001b[0m | \u001b[36mgsioc\u001b[0m:\u001b[36mbCommand\u001b[0m:\u001b[36m171\u001b[0m - \u001b[34m\u001b[1mSending buffered command \"X61/245.5\" to device.\u001b[0m\n",
      "\u001b[32m2024-11-19 10:13:53.319\u001b[0m | \u001b[1mINFO    \u001b[0m | \u001b[36mgsioc\u001b[0m:\u001b[36mbCommand\u001b[0m:\u001b[36m176\u001b[0m - \u001b[1mGSIOC <<< X61/245.5\u001b[0m\n",
      "\u001b[32m2024-11-19 10:13:53.425\u001b[0m | \u001b[31m\u001b[1mERROR   \u001b[0m | \u001b[36mgsioc\u001b[0m:\u001b[36mbCommand\u001b[0m:\u001b[36m190\u001b[0m - \u001b[31m\u001b[1mAttempt 100/100: sent buffered Command X61/245.5, in binascii: b'\\nX61/245.5\\r'\u001b[0m\n",
      "\u001b[32m2024-11-19 10:13:53.425\u001b[0m | \u001b[34m\u001b[1mDEBUG   \u001b[0m | \u001b[36mgsioc\u001b[0m:\u001b[36mbCommand\u001b[0m:\u001b[36m171\u001b[0m - \u001b[34m\u001b[1mSending buffered command \"X61/245.5\" to device.\u001b[0m\n",
      "\u001b[32m2024-11-19 10:13:53.426\u001b[0m | \u001b[1mINFO    \u001b[0m | \u001b[36mgsioc\u001b[0m:\u001b[36mbCommand\u001b[0m:\u001b[36m176\u001b[0m - \u001b[1mGSIOC <<< X61/245.5\u001b[0m\n",
      "\u001b[32m2024-11-19 10:13:53.529\u001b[0m | \u001b[41m\u001b[1mCRITICAL\u001b[0m | \u001b[36mgsioc\u001b[0m:\u001b[36mbCommand\u001b[0m:\u001b[36m193\u001b[0m - \u001b[41m\u001b[1mNo response from device\u001b[0m\n"
     ]
    },
    {
     "ename": "Exception",
     "evalue": "2024-11-19 10:13:53.529571No response from device",
     "output_type": "error",
     "traceback": [
      "\u001b[1;31m---------------------------------------------------------------------------\u001b[0m",
      "\u001b[1;31mException\u001b[0m                                 Traceback (most recent call last)",
      "Cell \u001b[1;32mIn[18], line 1\u001b[0m\n\u001b[1;32m----> 1\u001b[0m g\u001b[38;5;241m.\u001b[39mbCommand(\u001b[38;5;124m'\u001b[39m\u001b[38;5;124mX61/245.5\u001b[39m\u001b[38;5;124m'\u001b[39m)\n",
      "File \u001b[1;32m~\\Documents\\HTKE-Platform-Control\\gsioc.py:191\u001b[0m, in \u001b[0;36mgsioc_Protocol.bCommand\u001b[1;34m(self, commandstring)\u001b[0m\n\u001b[0;32m    189\u001b[0m     \u001b[38;5;28mself\u001b[39m\u001b[38;5;241m.\u001b[39mconnection_repeats \u001b[38;5;241m=\u001b[39m (\u001b[38;5;28mself\u001b[39m\u001b[38;5;241m.\u001b[39mconnection_repeats \u001b[38;5;241m-\u001b[39m \u001b[38;5;241m1\u001b[39m)\n\u001b[0;32m    190\u001b[0m     logger\u001b[38;5;241m.\u001b[39merror(\u001b[38;5;124mf\u001b[39m\u001b[38;5;124m'\u001b[39m\u001b[38;5;124mAttempt \u001b[39m\u001b[38;5;132;01m{\u001b[39;00m\u001b[38;5;241m100\u001b[39m\u001b[38;5;241m-\u001b[39m\u001b[38;5;28mself\u001b[39m\u001b[38;5;241m.\u001b[39mconnection_repeats\u001b[38;5;132;01m}\u001b[39;00m\u001b[38;5;124m/100: sent buffered Command \u001b[39m\u001b[38;5;132;01m{\u001b[39;00mcommandstring\u001b[38;5;132;01m}\u001b[39;00m\u001b[38;5;124m, in binascii: \u001b[39m\u001b[38;5;132;01m{\u001b[39;00mdata\u001b[38;5;132;01m}\u001b[39;00m\u001b[38;5;124m'\u001b[39m)\n\u001b[1;32m--> 191\u001b[0m     \u001b[38;5;28mself\u001b[39m\u001b[38;5;241m.\u001b[39mbCommand(commandstring)\n\u001b[0;32m    192\u001b[0m \u001b[38;5;28;01melse\u001b[39;00m:\n\u001b[0;32m    193\u001b[0m     logger\u001b[38;5;241m.\u001b[39mcritical(\u001b[38;5;124m'\u001b[39m\u001b[38;5;124mNo response from device\u001b[39m\u001b[38;5;124m'\u001b[39m)\n",
      "File \u001b[1;32m~\\Documents\\HTKE-Platform-Control\\gsioc.py:191\u001b[0m, in \u001b[0;36mgsioc_Protocol.bCommand\u001b[1;34m(self, commandstring)\u001b[0m\n\u001b[0;32m    189\u001b[0m     \u001b[38;5;28mself\u001b[39m\u001b[38;5;241m.\u001b[39mconnection_repeats \u001b[38;5;241m=\u001b[39m (\u001b[38;5;28mself\u001b[39m\u001b[38;5;241m.\u001b[39mconnection_repeats \u001b[38;5;241m-\u001b[39m \u001b[38;5;241m1\u001b[39m)\n\u001b[0;32m    190\u001b[0m     logger\u001b[38;5;241m.\u001b[39merror(\u001b[38;5;124mf\u001b[39m\u001b[38;5;124m'\u001b[39m\u001b[38;5;124mAttempt \u001b[39m\u001b[38;5;132;01m{\u001b[39;00m\u001b[38;5;241m100\u001b[39m\u001b[38;5;241m-\u001b[39m\u001b[38;5;28mself\u001b[39m\u001b[38;5;241m.\u001b[39mconnection_repeats\u001b[38;5;132;01m}\u001b[39;00m\u001b[38;5;124m/100: sent buffered Command \u001b[39m\u001b[38;5;132;01m{\u001b[39;00mcommandstring\u001b[38;5;132;01m}\u001b[39;00m\u001b[38;5;124m, in binascii: \u001b[39m\u001b[38;5;132;01m{\u001b[39;00mdata\u001b[38;5;132;01m}\u001b[39;00m\u001b[38;5;124m'\u001b[39m)\n\u001b[1;32m--> 191\u001b[0m     \u001b[38;5;28mself\u001b[39m\u001b[38;5;241m.\u001b[39mbCommand(commandstring)\n\u001b[0;32m    192\u001b[0m \u001b[38;5;28;01melse\u001b[39;00m:\n\u001b[0;32m    193\u001b[0m     logger\u001b[38;5;241m.\u001b[39mcritical(\u001b[38;5;124m'\u001b[39m\u001b[38;5;124mNo response from device\u001b[39m\u001b[38;5;124m'\u001b[39m)\n",
      "    \u001b[1;31m[... skipping similar frames: gsioc_Protocol.bCommand at line 191 (97 times)]\u001b[0m\n",
      "File \u001b[1;32m~\\Documents\\HTKE-Platform-Control\\gsioc.py:191\u001b[0m, in \u001b[0;36mgsioc_Protocol.bCommand\u001b[1;34m(self, commandstring)\u001b[0m\n\u001b[0;32m    189\u001b[0m     \u001b[38;5;28mself\u001b[39m\u001b[38;5;241m.\u001b[39mconnection_repeats \u001b[38;5;241m=\u001b[39m (\u001b[38;5;28mself\u001b[39m\u001b[38;5;241m.\u001b[39mconnection_repeats \u001b[38;5;241m-\u001b[39m \u001b[38;5;241m1\u001b[39m)\n\u001b[0;32m    190\u001b[0m     logger\u001b[38;5;241m.\u001b[39merror(\u001b[38;5;124mf\u001b[39m\u001b[38;5;124m'\u001b[39m\u001b[38;5;124mAttempt \u001b[39m\u001b[38;5;132;01m{\u001b[39;00m\u001b[38;5;241m100\u001b[39m\u001b[38;5;241m-\u001b[39m\u001b[38;5;28mself\u001b[39m\u001b[38;5;241m.\u001b[39mconnection_repeats\u001b[38;5;132;01m}\u001b[39;00m\u001b[38;5;124m/100: sent buffered Command \u001b[39m\u001b[38;5;132;01m{\u001b[39;00mcommandstring\u001b[38;5;132;01m}\u001b[39;00m\u001b[38;5;124m, in binascii: \u001b[39m\u001b[38;5;132;01m{\u001b[39;00mdata\u001b[38;5;132;01m}\u001b[39;00m\u001b[38;5;124m'\u001b[39m)\n\u001b[1;32m--> 191\u001b[0m     \u001b[38;5;28mself\u001b[39m\u001b[38;5;241m.\u001b[39mbCommand(commandstring)\n\u001b[0;32m    192\u001b[0m \u001b[38;5;28;01melse\u001b[39;00m:\n\u001b[0;32m    193\u001b[0m     logger\u001b[38;5;241m.\u001b[39mcritical(\u001b[38;5;124m'\u001b[39m\u001b[38;5;124mNo response from device\u001b[39m\u001b[38;5;124m'\u001b[39m)\n",
      "File \u001b[1;32m~\\Documents\\HTKE-Platform-Control\\gsioc.py:194\u001b[0m, in \u001b[0;36mgsioc_Protocol.bCommand\u001b[1;34m(self, commandstring)\u001b[0m\n\u001b[0;32m    192\u001b[0m     \u001b[38;5;28;01melse\u001b[39;00m:\n\u001b[0;32m    193\u001b[0m         logger\u001b[38;5;241m.\u001b[39mcritical(\u001b[38;5;124m'\u001b[39m\u001b[38;5;124mNo response from device\u001b[39m\u001b[38;5;124m'\u001b[39m)\n\u001b[1;32m--> 194\u001b[0m         \u001b[38;5;28;01mraise\u001b[39;00m \u001b[38;5;167;01mException\u001b[39;00m(\u001b[38;5;28mstr\u001b[39m(datetime\u001b[38;5;241m.\u001b[39mdatetime\u001b[38;5;241m.\u001b[39mnow()) \u001b[38;5;241m+\u001b[39m \u001b[38;5;124m\"\u001b[39m\u001b[38;5;124mNo response from device\u001b[39m\u001b[38;5;124m\"\u001b[39m)\n\u001b[0;32m    195\u001b[0m logger\u001b[38;5;241m.\u001b[39mdebug(\u001b[38;5;124mf\u001b[39m\u001b[38;5;124m'\u001b[39m\u001b[38;5;124mready signal: \u001b[39m\u001b[38;5;132;01m{\u001b[39;00mresp_raw\u001b[38;5;132;01m}\u001b[39;00m\u001b[38;5;124m'\u001b[39m)\n\u001b[0;32m    196\u001b[0m \u001b[38;5;66;03m################################################################################################################\u001b[39;00m\n\u001b[0;32m    197\u001b[0m \u001b[38;5;66;03m# TODO CHECK IF THE FOLLOWING CONIDTION RAISES MORE PROBLEMS!!! IT IS MEANT TO FIX THE INDEX OUT OF RANGE ERROR!\u001b[39;00m\n",
      "\u001b[1;31mException\u001b[0m: 2024-11-19 10:13:53.529571No response from device"
     ]
    }
   ],
   "source": [
    "g.bCommand('X61/245.5')"
   ]
  },
  {
   "cell_type": "code",
   "execution_count": null,
   "id": "f6fb9196-c9a9-4982-a5e4-a77badae27a2",
   "metadata": {},
   "outputs": [],
   "source": [
    "g.bCommand('Z20')"
   ]
  },
  {
   "cell_type": "markdown",
   "id": "521ec456-2b90-49b2-a94f-e575e11205ec",
   "metadata": {},
   "source": [
    "# dim"
   ]
  },
  {
   "cell_type": "code",
   "execution_count": 8,
   "id": "895124e1-bdca-4d3c-9334-1e42b441b641",
   "metadata": {},
   "outputs": [],
   "source": [
    "# Create an instance of the gsioc_Protocol class\n",
    "g_dim = gsioc_Protocol(ser, 'GX D Inject', 3)"
   ]
  },
  {
   "cell_type": "code",
   "execution_count": 9,
   "id": "5e2a9a01-01bd-407f-a301-faf1c56e4baa",
   "metadata": {},
   "outputs": [
    {
     "name": "stderr",
     "output_type": "stream",
     "text": [
      "\u001b[32m2024-11-19 10:27:50.716\u001b[0m | \u001b[34m\u001b[1mDEBUG   \u001b[0m | \u001b[36mgsioc\u001b[0m:\u001b[36mverify_open\u001b[0m:\u001b[36m60\u001b[0m - \u001b[34m\u001b[1mCheck if port is open.\u001b[0m\n",
      "\u001b[32m2024-11-19 10:27:51.234\u001b[0m | \u001b[34m\u001b[1mDEBUG   \u001b[0m | \u001b[36mgsioc\u001b[0m:\u001b[36miCommand\u001b[0m:\u001b[36m126\u001b[0m - \u001b[34m\u001b[1mSending immediate command % to device.\u001b[0m\n",
      "\u001b[32m2024-11-19 10:27:53.165\u001b[0m | \u001b[34m\u001b[1mDEBUG   \u001b[0m | \u001b[36mgsioc\u001b[0m:\u001b[36miCommand\u001b[0m:\u001b[36m155\u001b[0m - \u001b[34m\u001b[1mSending immediate command complete.\u001b[0m\n",
      "\u001b[32m2024-11-19 10:27:53.165\u001b[0m | \u001b[34m\u001b[1mDEBUG   \u001b[0m | \u001b[36mgsioc\u001b[0m:\u001b[36miCommand\u001b[0m:\u001b[36m164\u001b[0m - \u001b[34m\u001b[1mreceived bytearray(b'GX D Inject v1.2.0') as response.\u001b[0m\n",
      "\u001b[32m2024-11-19 10:27:53.368\u001b[0m | \u001b[34m\u001b[1mDEBUG   \u001b[0m | \u001b[36mgsioc\u001b[0m:\u001b[36mconnect\u001b[0m:\u001b[36m111\u001b[0m - \u001b[34m\u001b[1mConnected to device 3\u001b[0m\n"
     ]
    }
   ],
   "source": [
    "g_dim.connect()"
   ]
  },
  {
   "cell_type": "code",
   "execution_count": 10,
   "id": "706371d5-2bfc-473e-b605-b4b2dd07ba3f",
   "metadata": {},
   "outputs": [
    {
     "name": "stderr",
     "output_type": "stream",
     "text": [
      "\u001b[32m2024-11-19 10:27:55.188\u001b[0m | \u001b[34m\u001b[1mDEBUG   \u001b[0m | \u001b[36mgsioc\u001b[0m:\u001b[36miCommand\u001b[0m:\u001b[36m126\u001b[0m - \u001b[34m\u001b[1mSending immediate command % to device.\u001b[0m\n",
      "\u001b[32m2024-11-19 10:27:57.079\u001b[0m | \u001b[34m\u001b[1mDEBUG   \u001b[0m | \u001b[36mgsioc\u001b[0m:\u001b[36miCommand\u001b[0m:\u001b[36m155\u001b[0m - \u001b[34m\u001b[1mSending immediate command complete.\u001b[0m\n",
      "\u001b[32m2024-11-19 10:27:57.082\u001b[0m | \u001b[34m\u001b[1mDEBUG   \u001b[0m | \u001b[36mgsioc\u001b[0m:\u001b[36miCommand\u001b[0m:\u001b[36m164\u001b[0m - \u001b[34m\u001b[1mreceived bytearray(b'GX D Inject v1.2.0') as response.\u001b[0m\n"
     ]
    },
    {
     "data": {
      "text/plain": [
       "'GX D Inject v1.2.0'"
      ]
     },
     "execution_count": 10,
     "metadata": {},
     "output_type": "execute_result"
    }
   ],
   "source": [
    "g_dim.iCommand('%')"
   ]
  },
  {
   "cell_type": "code",
   "execution_count": 12,
   "id": "fa6efd6b-2bb4-48e9-96c7-ea7ebadc2cbe",
   "metadata": {},
   "outputs": [
    {
     "name": "stderr",
     "output_type": "stream",
     "text": [
      "\u001b[32m2024-11-19 10:28:05.533\u001b[0m | \u001b[34m\u001b[1mDEBUG   \u001b[0m | \u001b[36mgsioc\u001b[0m:\u001b[36mbCommand\u001b[0m:\u001b[36m171\u001b[0m - \u001b[34m\u001b[1mSending buffered command \"VL\" to device.\u001b[0m\n",
      "\u001b[32m2024-11-19 10:28:05.533\u001b[0m | \u001b[1mINFO    \u001b[0m | \u001b[36mgsioc\u001b[0m:\u001b[36mbCommand\u001b[0m:\u001b[36m176\u001b[0m - \u001b[1mGSIOC <<< VL\u001b[0m\n",
      "\u001b[32m2024-11-19 10:28:05.633\u001b[0m | \u001b[34m\u001b[1mDEBUG   \u001b[0m | \u001b[36mgsioc\u001b[0m:\u001b[36mbCommand\u001b[0m:\u001b[36m195\u001b[0m - \u001b[34m\u001b[1mready signal: b'\\n'\u001b[0m\n",
      "\u001b[32m2024-11-19 10:28:05.633\u001b[0m | \u001b[34m\u001b[1mDEBUG   \u001b[0m | \u001b[36mgsioc\u001b[0m:\u001b[36mbCommand\u001b[0m:\u001b[36m204\u001b[0m - \u001b[34m\u001b[1mStarting to send buffered command.\u001b[0m\n",
      "\u001b[32m2024-11-19 10:28:05.633\u001b[0m | \u001b[34m\u001b[1mDEBUG   \u001b[0m | \u001b[36mgsioc\u001b[0m:\u001b[36mbCommand\u001b[0m:\u001b[36m215\u001b[0m - \u001b[34m\u001b[1m10\u001b[0m\n",
      "\u001b[32m2024-11-19 10:28:05.633\u001b[0m | \u001b[34m\u001b[1mDEBUG   \u001b[0m | \u001b[36mgsioc\u001b[0m:\u001b[36mbCommand\u001b[0m:\u001b[36m220\u001b[0m - \u001b[34m\u001b[1mWrites buffered Command character b'V' to the device GX D Inject.\u001b[0m\n",
      "\u001b[32m2024-11-19 10:28:05.636\u001b[0m | \u001b[34m\u001b[1mDEBUG   \u001b[0m | \u001b[36mgsioc\u001b[0m:\u001b[36mbCommand\u001b[0m:\u001b[36m222\u001b[0m - \u001b[34m\u001b[1mStarts reading character from the device GX D Inject.\u001b[0m\n",
      "\u001b[32m2024-11-19 10:28:05.749\u001b[0m | \u001b[34m\u001b[1mDEBUG   \u001b[0m | \u001b[36mgsioc\u001b[0m:\u001b[36mbCommand\u001b[0m:\u001b[36m224\u001b[0m - \u001b[34m\u001b[1mgot back b'V' from the device GX D Inject.\u001b[0m\n",
      "\u001b[32m2024-11-19 10:28:05.749\u001b[0m | \u001b[34m\u001b[1mDEBUG   \u001b[0m | \u001b[36mgsioc\u001b[0m:\u001b[36mbCommand\u001b[0m:\u001b[36m228\u001b[0m - \u001b[34m\u001b[1mresp_raw: b'V'\u001b[0m\n",
      "\u001b[32m2024-11-19 10:28:05.749\u001b[0m | \u001b[34m\u001b[1mDEBUG   \u001b[0m | \u001b[36mgsioc\u001b[0m:\u001b[36mbCommand\u001b[0m:\u001b[36m246\u001b[0m - \u001b[34m\u001b[1mresp_raw 2: 86\u001b[0m\n",
      "\u001b[32m2024-11-19 10:28:05.749\u001b[0m | \u001b[34m\u001b[1mDEBUG   \u001b[0m | \u001b[36mgsioc\u001b[0m:\u001b[36mbCommand\u001b[0m:\u001b[36m220\u001b[0m - \u001b[34m\u001b[1mWrites buffered Command character b'L' to the device GX D Inject.\u001b[0m\n",
      "\u001b[32m2024-11-19 10:28:05.753\u001b[0m | \u001b[34m\u001b[1mDEBUG   \u001b[0m | \u001b[36mgsioc\u001b[0m:\u001b[36mbCommand\u001b[0m:\u001b[36m222\u001b[0m - \u001b[34m\u001b[1mStarts reading character from the device GX D Inject.\u001b[0m\n",
      "\u001b[32m2024-11-19 10:28:05.867\u001b[0m | \u001b[34m\u001b[1mDEBUG   \u001b[0m | \u001b[36mgsioc\u001b[0m:\u001b[36mbCommand\u001b[0m:\u001b[36m224\u001b[0m - \u001b[34m\u001b[1mgot back b'L' from the device GX D Inject.\u001b[0m\n",
      "\u001b[32m2024-11-19 10:28:05.867\u001b[0m | \u001b[34m\u001b[1mDEBUG   \u001b[0m | \u001b[36mgsioc\u001b[0m:\u001b[36mbCommand\u001b[0m:\u001b[36m228\u001b[0m - \u001b[34m\u001b[1mresp_raw: b'L'\u001b[0m\n",
      "\u001b[32m2024-11-19 10:28:05.867\u001b[0m | \u001b[34m\u001b[1mDEBUG   \u001b[0m | \u001b[36mgsioc\u001b[0m:\u001b[36mbCommand\u001b[0m:\u001b[36m246\u001b[0m - \u001b[34m\u001b[1mresp_raw 2: 76\u001b[0m\n",
      "\u001b[32m2024-11-19 10:28:05.867\u001b[0m | \u001b[34m\u001b[1mDEBUG   \u001b[0m | \u001b[36mgsioc\u001b[0m:\u001b[36mbCommand\u001b[0m:\u001b[36m220\u001b[0m - \u001b[34m\u001b[1mWrites buffered Command character b'\\r' to the device GX D Inject.\u001b[0m\n",
      "\u001b[32m2024-11-19 10:28:05.871\u001b[0m | \u001b[34m\u001b[1mDEBUG   \u001b[0m | \u001b[36mgsioc\u001b[0m:\u001b[36mbCommand\u001b[0m:\u001b[36m222\u001b[0m - \u001b[34m\u001b[1mStarts reading character from the device GX D Inject.\u001b[0m\n",
      "\u001b[32m2024-11-19 10:28:05.984\u001b[0m | \u001b[34m\u001b[1mDEBUG   \u001b[0m | \u001b[36mgsioc\u001b[0m:\u001b[36mbCommand\u001b[0m:\u001b[36m224\u001b[0m - \u001b[34m\u001b[1mgot back b'\\r' from the device GX D Inject.\u001b[0m\n",
      "\u001b[32m2024-11-19 10:28:05.984\u001b[0m | \u001b[34m\u001b[1mDEBUG   \u001b[0m | \u001b[36mgsioc\u001b[0m:\u001b[36mbCommand\u001b[0m:\u001b[36m228\u001b[0m - \u001b[34m\u001b[1mresp_raw: b'\\r'\u001b[0m\n",
      "\u001b[32m2024-11-19 10:28:05.984\u001b[0m | \u001b[34m\u001b[1mDEBUG   \u001b[0m | \u001b[36mgsioc\u001b[0m:\u001b[36mbCommand\u001b[0m:\u001b[36m246\u001b[0m - \u001b[34m\u001b[1mresp_raw 2: 13\u001b[0m\n",
      "\u001b[32m2024-11-19 10:28:05.984\u001b[0m | \u001b[34m\u001b[1mDEBUG   \u001b[0m | \u001b[36mgsioc\u001b[0m:\u001b[36mbCommand\u001b[0m:\u001b[36m261\u001b[0m - \u001b[34m\u001b[1mBuffered command complete.\u001b[0m\n",
      "\u001b[32m2024-11-19 10:28:05.988\u001b[0m | \u001b[34m\u001b[1mDEBUG   \u001b[0m | \u001b[36mgsioc\u001b[0m:\u001b[36mbCommand\u001b[0m:\u001b[36m262\u001b[0m - \u001b[34m\u001b[1mReceived bytearray(b'\\nVL\\r') from device.\u001b[0m\n",
      "\u001b[32m2024-11-19 10:28:05.988\u001b[0m | \u001b[1mINFO    \u001b[0m | \u001b[36mgsioc\u001b[0m:\u001b[36mbCommand\u001b[0m:\u001b[36m263\u001b[0m - \u001b[1mGSIOC >>> bytearray(b'\\nVL\\r')\u001b[0m\n"
     ]
    },
    {
     "data": {
      "text/plain": [
       "bytearray(b'\\nVL\\r')"
      ]
     },
     "execution_count": 12,
     "metadata": {},
     "output_type": "execute_result"
    }
   ],
   "source": [
    "g_dim.bCommand('VL')"
   ]
  },
  {
   "cell_type": "markdown",
   "id": "56b5082c-d767-40c9-9779-4f978138e383",
   "metadata": {
    "jp-MarkdownHeadingCollapsed": true
   },
   "source": [
    "## Basic method byte by byte"
   ]
  },
  {
   "cell_type": "code",
   "execution_count": null,
   "id": "00abd5b6-f673-4342-b69c-64ffc5f98b55",
   "metadata": {},
   "outputs": [],
   "source": [
    "# Set up the serial connection\n",
    "PORT1 = 'COM4'\n",
    "ser = serial.Serial(PORT1, 19200, 8, \"N\", 1, 0.1) "
   ]
  },
  {
   "cell_type": "code",
   "execution_count": null,
   "id": "a4719981-94c6-41da-bbd2-eb93d95b78eb",
   "metadata": {
    "scrolled": true
   },
   "outputs": [],
   "source": [
    "ser.isOpen()"
   ]
  },
  {
   "cell_type": "code",
   "execution_count": null,
   "id": "5a9ad3b5-dd32-4a00-b22a-97ce079f38ee",
   "metadata": {},
   "outputs": [],
   "source": [
    "# 1. Imports and Initial Setup\n",
    "# Done above\n",
    "\n",
    "# Set up logging\n",
    "logging.basicConfig(level=logging.DEBUG)\n",
    "logger = logging.getLogger()"
   ]
  },
  {
   "cell_type": "code",
   "execution_count": null,
   "id": "b4334ed9-df43-4d7b-91b6-f81cc465760e",
   "metadata": {},
   "outputs": [],
   "source": [
    "# 2. Class Definition\n",
    "class DeviceController:\n",
    "    def __init__(self, serial_connection, max_repeats=100):\n",
    "        self.serial = serial_connection\n",
    "        self.max_repeats = max_repeats\n",
    "        self.connection_repeats = max_repeats\n",
    "\n",
    "    # 3. Method Definition\n",
    "    def iCommand(self, commandstring):\n",
    "        logger.debug(f'Sending immediate command {commandstring} to device.')\n",
    "        \n",
    "        # Convert to binary\n",
    "        command = binascii.a2b_qp(commandstring)\n",
    "        logger.debug(f'Converted command to binary: {command}')\n",
    "\n",
    "        # Write command\n",
    "        self.serial.flushInput()\n",
    "        self.serial.write(command)\n",
    "        logger.debug('Command written to serial port.')\n",
    "\n",
    "        # Retrieve Response\n",
    "        resp = bytearray()\n",
    "        while True:\n",
    "            resp_raw = self.serial.read(10)    # Will return empty array after timeout\n",
    "            logger.debug(f'Received raw response: {resp_raw}')\n",
    "\n",
    "            if len(resp_raw) == 0:\n",
    "                logger.debug(f'No response received. Connection repeats left: {self.connection_repeats}')\n",
    "                if self.connection_repeats > 0:\n",
    "                    self.connection_repeats -= 1\n",
    "                    logger.error(f'Attempt {self.max_repeats - self.connection_repeats}/{self.max_repeats}: sent Immediate Command {commandstring}, in binascii: {command}')\n",
    "                    return self.iCommand(commandstring)  # Safe recursion\n",
    "                else:\n",
    "                    logger.critical('No response from device after maximum retries.')\n",
    "                    raise Exception(str(datetime.datetime.now()) + \" No response from device\")\n",
    "\n",
    "            resp.extend(resp_raw)\n",
    "            logger.debug(f'Current response buffer: {resp}')\n",
    "\n",
    "            # Extended ASCII represents end of message\n",
    "            if resp[-1] > 127:\n",
    "                resp[-1] -= 128\n",
    "                logger.debug(f'End of message detected, adjusted last byte: {resp[-1]}')\n",
    "                logger.debug('Sending immediate command complete.')\n",
    "                break\n",
    "\n",
    "            # Write Acknowledge to Device to signal next byte can be retrieved\n",
    "            else:\n",
    "                self.serial.flushInput()\n",
    "                self.serial.write(bytes.fromhex(\"06\"))\n",
    "                logger.debug('Acknowledgement sent to device.')\n",
    "\n",
    "        logger.debug(f'Received full response: {resp}')\n",
    "        return resp.decode(\"ascii\")"
   ]
  },
  {
   "cell_type": "code",
   "execution_count": null,
   "id": "905a9047-7771-4623-bb14-32199c0cc342",
   "metadata": {},
   "outputs": [],
   "source": [
    "# 4. Testing and Debugging\n",
    "# Create an instance of DeviceController\n",
    "device = DeviceController(ser)\n",
    "\n",
    "# Example command to send (replace with actual command for your device)\n",
    "command_string = '%'\n",
    "\n",
    "# Call the iCommand method\n",
    "try:\n",
    "    response = device.iCommand(command_string)\n",
    "    print(f'Response from device: {response}')\n",
    "except Exception as e:\n",
    "    print(f'Error: {e}')"
   ]
  },
  {
   "cell_type": "code",
   "execution_count": null,
   "id": "0afcb479-24c8-4859-afe0-c63965a93cda",
   "metadata": {},
   "outputs": [],
   "source": [
    "ser.close()"
   ]
  },
  {
   "cell_type": "markdown",
   "id": "3313c5dc-8b44-429e-8ebe-892a6557cef9",
   "metadata": {},
   "source": [
    "## Try Run and Platform Setup"
   ]
  },
  {
   "cell_type": "markdown",
   "id": "b0772902-86a1-474c-9995-74aafb5c48b0",
   "metadata": {},
   "source": [
    "This seems a little complex as is, too many unneeded things bundled in run.py. Try to extract the relevant functions and start again."
   ]
  },
  {
   "cell_type": "code",
   "execution_count": null,
   "id": "4a0a595f-d311-4f12-b16f-1b28f0013b57",
   "metadata": {},
   "outputs": [],
   "source": [
    "#from platform_setup import Rack, Rackcommands, Vial\n",
    "#from run import get_automation_setup"
   ]
  },
  {
   "cell_type": "code",
   "execution_count": null,
   "id": "d83195e6-5d68-4e8f-8389-69b47c21d271",
   "metadata": {},
   "outputs": [],
   "source": [
    "#exp = get_automation_setup(\"COM4\")"
   ]
  },
  {
   "cell_type": "code",
   "execution_count": 11,
   "id": "c53586e6-0107-4cdc-9fd7-e18336994021",
   "metadata": {},
   "outputs": [],
   "source": [
    "class Rack():\n",
    "    \"\"\"Representation for a Rack within the flow setup.\"\"\"\n",
    "    def __init__(self, array_dimensions, offset_x, offset_y, vial2vial_x, vial2vial_y, groundlevel_height):\n",
    "        self.array_dimensions=array_dimensions\n",
    "        self.offset_x=offset_x\n",
    "        self.offset_y=offset_y\n",
    "        self.vial2vial_x=vial2vial_x\n",
    "        self.vial2vial_y=vial2vial_y\n",
    "        self.groundlevel_height=groundlevel_height    \n",
    "    \n",
    "    def get_vial_indices(self, vial_position, array_order, tolerance):\n",
    "        \"\"\"get indices of a specific vial in a rack with a certain order of the vials\n",
    "        :returns: a tuple of (i,j) with i=vial-position along x-axis, and j=vial-position along y-axis\n",
    "        TODO: verify that input is valid type, array dimensions and validation of the inputted values\n",
    "        \"\"\"\n",
    "        indices=np.where(array_order==vial_position)\n",
    "        # print(str(f'indices are: {indices}'))\n",
    "        if len(indices)==2 and len(indices[0])==1:\n",
    "            logger.debug(f'a unique vial number was chosen: {vial_position}, with indices i={indices[0]}, j={indices[1]}')\n",
    "            return indices\n",
    "        elif len(indices)==2 and len(indices[0])==0 and tolerance.lower()=='no':                #tolerance settings\n",
    "            #REMOVE THIS STATEMENT!!!\n",
    "            sys.exit(f'fatal error: zero vials with position number {vial_position}')                        #REMOVE THIS STATEMENT!!!\n",
    "        else:\n",
    "            logger.warning(f'warning: multiple vials with position number {vial_position}')\n",
    "            return indices"
   ]
  },
  {
   "cell_type": "code",
   "execution_count": 12,
   "id": "ba8de9eb-a46d-4766-b149-b9de4ee33838",
   "metadata": {},
   "outputs": [],
   "source": [
    "# Configure the logger - added to work in the Jupyter Notebook\n",
    "logging.basicConfig(level=logging.DEBUG, format='%(asctime)s - %(levelname)s - %(message)s')\n",
    "logger = logging.getLogger(__name__)\n",
    "\n",
    "class Rackcommands(): \n",
    "    \"\"\"Representation for Commands connected to the Rack of the flow setup.\"\"\"\n",
    "\n",
    "    def __init__(self,rack,rack_order,rack_position,rack_position_offset_x,rack_position_offset_y):\n",
    "        self.rack=rack\n",
    "        self.rack_order=rack_order\n",
    "        self.rack_position=rack_position\n",
    "        self.rack_position_offset_x=rack_position_offset_x\n",
    "        self.rack_position_offset_y=rack_position_offset_y\n",
    "        \n",
    "    def get_xy_command(self, vial_pos: int, tolerance: str = 'no') -> str: #speed 125mm/s, force 100%\n",
    "        \"\"\"returns a str object command suitable for the liquid handler gx-241\"\"\"\n",
    "        \n",
    "        index_y, index_x = self.rack.get_vial_indices(vial_pos, self.rack_order, tolerance)\n",
    "        \n",
    "        if len(index_x)==len(index_y):\n",
    "            command=[]\n",
    "            for i in range(len(index_x)):\n",
    "                i_x=index_x[i]\n",
    "                i_y=index_y[i]\n",
    "                distance_x=self.rack.offset_x + self.rack.vial2vial_x * i_x + (self.rack_position-1)*self.rack_position_offset_x    \n",
    "                distance_y=self.rack.offset_y + self.rack.vial2vial_y * i_y + (self.rack_position-1)*self.rack_position_offset_y    \n",
    "                command.append(str(f'X{distance_x}/{distance_y}'))\n",
    "            return command\n",
    "        else:\n",
    "            logger.error(\"error: len(index_x) != len(index_y) \")"
   ]
  },
  {
   "cell_type": "code",
   "execution_count": 13,
   "id": "a308d06d-1bee-44d5-b78e-8c0a1bd8f32b",
   "metadata": {},
   "outputs": [],
   "source": [
    "class Vial():\n",
    "    \"\"\"Representation for a Vial within the flow setup.\"\"\"\n",
    "    def __init__(self,vial_volume_max,vial_usedvolume_max,vial_height,vial_free_depth):\n",
    "        self.vial_volume_max=vial_volume_max                #volume in mL\n",
    "        self.vial_usedvolume_max=vial_usedvolume_max        #volume in mL\n",
    "        self.vial_height=vial_height                        #height in mm\n",
    "        self.vial_free_depth=vial_free_depth                #depth in mm\n",
    "        self.sum_liquid_level = 0"
   ]
  },
  {
   "cell_type": "code",
   "execution_count": 14,
   "id": "df454243-fea1-4610-a02a-1d4ca0c6ea8f",
   "metadata": {},
   "outputs": [],
   "source": [
    "rack_position_offset_x=92       #distance in mm between rack_position=1 and =2 on x-axis\n",
    "rack_position_offset_y=0        #distance in mm between rack_position=1 and =2 on y-axis\n",
    "\n",
    "############################# RACK 1 DEFINITION #################################\n",
    "\n",
    "# From platform_setup.py \n",
    "rack1 = Rack([4,16], 7, 39.25, 18, 13.75, 65) # groundlevel_height assumed the minimum Z\n",
    "\n",
    "#  array_dimensions, offset_x, offset_y=offset_y, vial2vial_x, vial2vial_y, groundlevel_height\n",
    "\n",
    "# Previous vial2vialx = (2.11+15.6)\n",
    "# Previous vial2vial7 = (2.72+15.6+0.35)\n",
    "\n",
    "array_order1 = np.array([      #user is obliged to define a integer number i>=1 for each vial in the rack in ascending order \n",
    "    [1, 2, 3, 4],\n",
    "    [5, 6, 7, 8],\n",
    "    [9, 10,11,12],\n",
    "    [13,14,15,16],\n",
    "    [17,18,19,20],\n",
    "    [21,22,23,24],     \n",
    "    [25,26,27,28],     \n",
    "    [29,30,31,32],\n",
    "    [33,34,35,36],\n",
    "    [37,38,39,40],\n",
    "    [41,42,43,44],\n",
    "    [45,46,47,48],\n",
    "    [49,50,51,52],\n",
    "    [53,54,55,56],\n",
    "    [57,58,59,60],\n",
    "    [61,62,63,64]        \n",
    "    ])\n",
    "    \n",
    "rack_pos1=1\n",
    "\n",
    "global rack1_commands\n",
    "\n",
    "# Not sure what rack_position_offset_x/y are for x=92 and y=0\n",
    "\n",
    "rack1_commands = Rackcommands(rack1, array_order1, rack_pos1, rack_position_offset_x, rack_position_offset_y)\n",
    "\n",
    "global vial_selfmade\n",
    "\n",
    "vial_selfmade = Vial(1.5, 1, 33, 31.08)"
   ]
  },
  {
   "cell_type": "code",
   "execution_count": 18,
   "id": "91729a43-a1fc-42c6-a7bc-d599b4e682c4",
   "metadata": {},
   "outputs": [
    {
     "name": "stderr",
     "output_type": "stream",
     "text": [
      "2024-11-18 11:42:21,286 - DEBUG - a unique vial number was chosen: 15, with indices i=[3], j=[2]\n"
     ]
    },
    {
     "data": {
      "text/plain": [
       "['X43/80.5']"
      ]
     },
     "execution_count": 18,
     "metadata": {},
     "output_type": "execute_result"
    }
   ],
   "source": [
    "# It works!\n",
    "thing = rack1_commands.get_xy_command(15)\n",
    "thing"
   ]
  },
  {
   "cell_type": "code",
   "execution_count": 43,
   "id": "c85bdc82-a20d-4fe3-84df-76ddddddf501",
   "metadata": {},
   "outputs": [
    {
     "name": "stderr",
     "output_type": "stream",
     "text": [
      "\u001b[32m2024-11-18 11:44:34.654\u001b[0m | \u001b[34m\u001b[1mDEBUG   \u001b[0m | \u001b[36mgsioc\u001b[0m:\u001b[36mbCommand\u001b[0m:\u001b[36m171\u001b[0m - \u001b[34m\u001b[1mSending buffered command \"X43/80.5\" to device.\u001b[0m\n",
      "\u001b[32m2024-11-18 11:44:34.654\u001b[0m | \u001b[1mINFO    \u001b[0m | \u001b[36mgsioc\u001b[0m:\u001b[36mbCommand\u001b[0m:\u001b[36m176\u001b[0m - \u001b[1mGSIOC <<< X43/80.5\u001b[0m\n",
      "\u001b[32m2024-11-18 11:44:34.765\u001b[0m | \u001b[34m\u001b[1mDEBUG   \u001b[0m | \u001b[36mgsioc\u001b[0m:\u001b[36mbCommand\u001b[0m:\u001b[36m195\u001b[0m - \u001b[34m\u001b[1mready signal: b'\\n'\u001b[0m\n",
      "\u001b[32m2024-11-18 11:44:34.765\u001b[0m | \u001b[34m\u001b[1mDEBUG   \u001b[0m | \u001b[36mgsioc\u001b[0m:\u001b[36mbCommand\u001b[0m:\u001b[36m204\u001b[0m - \u001b[34m\u001b[1mStarting to send buffered command.\u001b[0m\n",
      "\u001b[32m2024-11-18 11:44:34.765\u001b[0m | \u001b[34m\u001b[1mDEBUG   \u001b[0m | \u001b[36mgsioc\u001b[0m:\u001b[36mbCommand\u001b[0m:\u001b[36m215\u001b[0m - \u001b[34m\u001b[1m10\u001b[0m\n",
      "\u001b[32m2024-11-18 11:44:34.765\u001b[0m | \u001b[34m\u001b[1mDEBUG   \u001b[0m | \u001b[36mgsioc\u001b[0m:\u001b[36mbCommand\u001b[0m:\u001b[36m220\u001b[0m - \u001b[34m\u001b[1mWrites buffered Command character b'X' to the device GX-241 II.\u001b[0m\n",
      "\u001b[32m2024-11-18 11:44:34.769\u001b[0m | \u001b[34m\u001b[1mDEBUG   \u001b[0m | \u001b[36mgsioc\u001b[0m:\u001b[36mbCommand\u001b[0m:\u001b[36m222\u001b[0m - \u001b[34m\u001b[1mStarts reading character from the device GX-241 II.\u001b[0m\n",
      "\u001b[32m2024-11-18 11:44:34.882\u001b[0m | \u001b[34m\u001b[1mDEBUG   \u001b[0m | \u001b[36mgsioc\u001b[0m:\u001b[36mbCommand\u001b[0m:\u001b[36m224\u001b[0m - \u001b[34m\u001b[1mgot back b'X' from the device GX-241 II.\u001b[0m\n",
      "\u001b[32m2024-11-18 11:44:34.882\u001b[0m | \u001b[34m\u001b[1mDEBUG   \u001b[0m | \u001b[36mgsioc\u001b[0m:\u001b[36mbCommand\u001b[0m:\u001b[36m228\u001b[0m - \u001b[34m\u001b[1mresp_raw: b'X'\u001b[0m\n",
      "\u001b[32m2024-11-18 11:44:34.882\u001b[0m | \u001b[34m\u001b[1mDEBUG   \u001b[0m | \u001b[36mgsioc\u001b[0m:\u001b[36mbCommand\u001b[0m:\u001b[36m246\u001b[0m - \u001b[34m\u001b[1mresp_raw 2: 88\u001b[0m\n",
      "\u001b[32m2024-11-18 11:44:34.882\u001b[0m | \u001b[34m\u001b[1mDEBUG   \u001b[0m | \u001b[36mgsioc\u001b[0m:\u001b[36mbCommand\u001b[0m:\u001b[36m220\u001b[0m - \u001b[34m\u001b[1mWrites buffered Command character b'4' to the device GX-241 II.\u001b[0m\n",
      "\u001b[32m2024-11-18 11:44:34.882\u001b[0m | \u001b[34m\u001b[1mDEBUG   \u001b[0m | \u001b[36mgsioc\u001b[0m:\u001b[36mbCommand\u001b[0m:\u001b[36m222\u001b[0m - \u001b[34m\u001b[1mStarts reading character from the device GX-241 II.\u001b[0m\n",
      "\u001b[32m2024-11-18 11:44:35.000\u001b[0m | \u001b[34m\u001b[1mDEBUG   \u001b[0m | \u001b[36mgsioc\u001b[0m:\u001b[36mbCommand\u001b[0m:\u001b[36m224\u001b[0m - \u001b[34m\u001b[1mgot back b'4' from the device GX-241 II.\u001b[0m\n",
      "\u001b[32m2024-11-18 11:44:35.000\u001b[0m | \u001b[34m\u001b[1mDEBUG   \u001b[0m | \u001b[36mgsioc\u001b[0m:\u001b[36mbCommand\u001b[0m:\u001b[36m228\u001b[0m - \u001b[34m\u001b[1mresp_raw: b'4'\u001b[0m\n",
      "\u001b[32m2024-11-18 11:44:35.000\u001b[0m | \u001b[34m\u001b[1mDEBUG   \u001b[0m | \u001b[36mgsioc\u001b[0m:\u001b[36mbCommand\u001b[0m:\u001b[36m246\u001b[0m - \u001b[34m\u001b[1mresp_raw 2: 52\u001b[0m\n",
      "\u001b[32m2024-11-18 11:44:35.000\u001b[0m | \u001b[34m\u001b[1mDEBUG   \u001b[0m | \u001b[36mgsioc\u001b[0m:\u001b[36mbCommand\u001b[0m:\u001b[36m220\u001b[0m - \u001b[34m\u001b[1mWrites buffered Command character b'3' to the device GX-241 II.\u001b[0m\n",
      "\u001b[32m2024-11-18 11:44:35.005\u001b[0m | \u001b[34m\u001b[1mDEBUG   \u001b[0m | \u001b[36mgsioc\u001b[0m:\u001b[36mbCommand\u001b[0m:\u001b[36m222\u001b[0m - \u001b[34m\u001b[1mStarts reading character from the device GX-241 II.\u001b[0m\n",
      "\u001b[32m2024-11-18 11:44:35.117\u001b[0m | \u001b[34m\u001b[1mDEBUG   \u001b[0m | \u001b[36mgsioc\u001b[0m:\u001b[36mbCommand\u001b[0m:\u001b[36m224\u001b[0m - \u001b[34m\u001b[1mgot back b'3' from the device GX-241 II.\u001b[0m\n",
      "\u001b[32m2024-11-18 11:44:35.117\u001b[0m | \u001b[34m\u001b[1mDEBUG   \u001b[0m | \u001b[36mgsioc\u001b[0m:\u001b[36mbCommand\u001b[0m:\u001b[36m228\u001b[0m - \u001b[34m\u001b[1mresp_raw: b'3'\u001b[0m\n",
      "\u001b[32m2024-11-18 11:44:35.117\u001b[0m | \u001b[34m\u001b[1mDEBUG   \u001b[0m | \u001b[36mgsioc\u001b[0m:\u001b[36mbCommand\u001b[0m:\u001b[36m246\u001b[0m - \u001b[34m\u001b[1mresp_raw 2: 51\u001b[0m\n",
      "\u001b[32m2024-11-18 11:44:35.120\u001b[0m | \u001b[34m\u001b[1mDEBUG   \u001b[0m | \u001b[36mgsioc\u001b[0m:\u001b[36mbCommand\u001b[0m:\u001b[36m220\u001b[0m - \u001b[34m\u001b[1mWrites buffered Command character b'/' to the device GX-241 II.\u001b[0m\n",
      "\u001b[32m2024-11-18 11:44:35.121\u001b[0m | \u001b[34m\u001b[1mDEBUG   \u001b[0m | \u001b[36mgsioc\u001b[0m:\u001b[36mbCommand\u001b[0m:\u001b[36m222\u001b[0m - \u001b[34m\u001b[1mStarts reading character from the device GX-241 II.\u001b[0m\n",
      "\u001b[32m2024-11-18 11:44:35.233\u001b[0m | \u001b[34m\u001b[1mDEBUG   \u001b[0m | \u001b[36mgsioc\u001b[0m:\u001b[36mbCommand\u001b[0m:\u001b[36m224\u001b[0m - \u001b[34m\u001b[1mgot back b'/' from the device GX-241 II.\u001b[0m\n",
      "\u001b[32m2024-11-18 11:44:35.233\u001b[0m | \u001b[34m\u001b[1mDEBUG   \u001b[0m | \u001b[36mgsioc\u001b[0m:\u001b[36mbCommand\u001b[0m:\u001b[36m228\u001b[0m - \u001b[34m\u001b[1mresp_raw: b'/'\u001b[0m\n",
      "\u001b[32m2024-11-18 11:44:35.233\u001b[0m | \u001b[34m\u001b[1mDEBUG   \u001b[0m | \u001b[36mgsioc\u001b[0m:\u001b[36mbCommand\u001b[0m:\u001b[36m246\u001b[0m - \u001b[34m\u001b[1mresp_raw 2: 47\u001b[0m\n",
      "\u001b[32m2024-11-18 11:44:35.233\u001b[0m | \u001b[34m\u001b[1mDEBUG   \u001b[0m | \u001b[36mgsioc\u001b[0m:\u001b[36mbCommand\u001b[0m:\u001b[36m220\u001b[0m - \u001b[34m\u001b[1mWrites buffered Command character b'8' to the device GX-241 II.\u001b[0m\n",
      "\u001b[32m2024-11-18 11:44:35.236\u001b[0m | \u001b[34m\u001b[1mDEBUG   \u001b[0m | \u001b[36mgsioc\u001b[0m:\u001b[36mbCommand\u001b[0m:\u001b[36m222\u001b[0m - \u001b[34m\u001b[1mStarts reading character from the device GX-241 II.\u001b[0m\n",
      "\u001b[32m2024-11-18 11:44:35.350\u001b[0m | \u001b[34m\u001b[1mDEBUG   \u001b[0m | \u001b[36mgsioc\u001b[0m:\u001b[36mbCommand\u001b[0m:\u001b[36m224\u001b[0m - \u001b[34m\u001b[1mgot back b'8' from the device GX-241 II.\u001b[0m\n",
      "\u001b[32m2024-11-18 11:44:35.350\u001b[0m | \u001b[34m\u001b[1mDEBUG   \u001b[0m | \u001b[36mgsioc\u001b[0m:\u001b[36mbCommand\u001b[0m:\u001b[36m228\u001b[0m - \u001b[34m\u001b[1mresp_raw: b'8'\u001b[0m\n",
      "\u001b[32m2024-11-18 11:44:35.350\u001b[0m | \u001b[34m\u001b[1mDEBUG   \u001b[0m | \u001b[36mgsioc\u001b[0m:\u001b[36mbCommand\u001b[0m:\u001b[36m246\u001b[0m - \u001b[34m\u001b[1mresp_raw 2: 56\u001b[0m\n",
      "\u001b[32m2024-11-18 11:44:35.350\u001b[0m | \u001b[34m\u001b[1mDEBUG   \u001b[0m | \u001b[36mgsioc\u001b[0m:\u001b[36mbCommand\u001b[0m:\u001b[36m220\u001b[0m - \u001b[34m\u001b[1mWrites buffered Command character b'0' to the device GX-241 II.\u001b[0m\n",
      "\u001b[32m2024-11-18 11:44:35.350\u001b[0m | \u001b[34m\u001b[1mDEBUG   \u001b[0m | \u001b[36mgsioc\u001b[0m:\u001b[36mbCommand\u001b[0m:\u001b[36m222\u001b[0m - \u001b[34m\u001b[1mStarts reading character from the device GX-241 II.\u001b[0m\n",
      "\u001b[32m2024-11-18 11:44:35.467\u001b[0m | \u001b[34m\u001b[1mDEBUG   \u001b[0m | \u001b[36mgsioc\u001b[0m:\u001b[36mbCommand\u001b[0m:\u001b[36m224\u001b[0m - \u001b[34m\u001b[1mgot back b'0' from the device GX-241 II.\u001b[0m\n",
      "\u001b[32m2024-11-18 11:44:35.467\u001b[0m | \u001b[34m\u001b[1mDEBUG   \u001b[0m | \u001b[36mgsioc\u001b[0m:\u001b[36mbCommand\u001b[0m:\u001b[36m228\u001b[0m - \u001b[34m\u001b[1mresp_raw: b'0'\u001b[0m\n",
      "\u001b[32m2024-11-18 11:44:35.467\u001b[0m | \u001b[34m\u001b[1mDEBUG   \u001b[0m | \u001b[36mgsioc\u001b[0m:\u001b[36mbCommand\u001b[0m:\u001b[36m246\u001b[0m - \u001b[34m\u001b[1mresp_raw 2: 48\u001b[0m\n",
      "\u001b[32m2024-11-18 11:44:35.467\u001b[0m | \u001b[34m\u001b[1mDEBUG   \u001b[0m | \u001b[36mgsioc\u001b[0m:\u001b[36mbCommand\u001b[0m:\u001b[36m220\u001b[0m - \u001b[34m\u001b[1mWrites buffered Command character b'.' to the device GX-241 II.\u001b[0m\n",
      "\u001b[32m2024-11-18 11:44:35.470\u001b[0m | \u001b[34m\u001b[1mDEBUG   \u001b[0m | \u001b[36mgsioc\u001b[0m:\u001b[36mbCommand\u001b[0m:\u001b[36m222\u001b[0m - \u001b[34m\u001b[1mStarts reading character from the device GX-241 II.\u001b[0m\n",
      "\u001b[32m2024-11-18 11:44:35.583\u001b[0m | \u001b[34m\u001b[1mDEBUG   \u001b[0m | \u001b[36mgsioc\u001b[0m:\u001b[36mbCommand\u001b[0m:\u001b[36m224\u001b[0m - \u001b[34m\u001b[1mgot back b'.' from the device GX-241 II.\u001b[0m\n",
      "\u001b[32m2024-11-18 11:44:35.583\u001b[0m | \u001b[34m\u001b[1mDEBUG   \u001b[0m | \u001b[36mgsioc\u001b[0m:\u001b[36mbCommand\u001b[0m:\u001b[36m228\u001b[0m - \u001b[34m\u001b[1mresp_raw: b'.'\u001b[0m\n",
      "\u001b[32m2024-11-18 11:44:35.583\u001b[0m | \u001b[34m\u001b[1mDEBUG   \u001b[0m | \u001b[36mgsioc\u001b[0m:\u001b[36mbCommand\u001b[0m:\u001b[36m246\u001b[0m - \u001b[34m\u001b[1mresp_raw 2: 46\u001b[0m\n",
      "\u001b[32m2024-11-18 11:44:35.586\u001b[0m | \u001b[34m\u001b[1mDEBUG   \u001b[0m | \u001b[36mgsioc\u001b[0m:\u001b[36mbCommand\u001b[0m:\u001b[36m220\u001b[0m - \u001b[34m\u001b[1mWrites buffered Command character b'5' to the device GX-241 II.\u001b[0m\n",
      "\u001b[32m2024-11-18 11:44:35.588\u001b[0m | \u001b[34m\u001b[1mDEBUG   \u001b[0m | \u001b[36mgsioc\u001b[0m:\u001b[36mbCommand\u001b[0m:\u001b[36m222\u001b[0m - \u001b[34m\u001b[1mStarts reading character from the device GX-241 II.\u001b[0m\n",
      "\u001b[32m2024-11-18 11:44:35.701\u001b[0m | \u001b[34m\u001b[1mDEBUG   \u001b[0m | \u001b[36mgsioc\u001b[0m:\u001b[36mbCommand\u001b[0m:\u001b[36m224\u001b[0m - \u001b[34m\u001b[1mgot back b'5' from the device GX-241 II.\u001b[0m\n",
      "\u001b[32m2024-11-18 11:44:35.702\u001b[0m | \u001b[34m\u001b[1mDEBUG   \u001b[0m | \u001b[36mgsioc\u001b[0m:\u001b[36mbCommand\u001b[0m:\u001b[36m228\u001b[0m - \u001b[34m\u001b[1mresp_raw: b'5'\u001b[0m\n",
      "\u001b[32m2024-11-18 11:44:35.704\u001b[0m | \u001b[34m\u001b[1mDEBUG   \u001b[0m | \u001b[36mgsioc\u001b[0m:\u001b[36mbCommand\u001b[0m:\u001b[36m246\u001b[0m - \u001b[34m\u001b[1mresp_raw 2: 53\u001b[0m\n",
      "\u001b[32m2024-11-18 11:44:35.705\u001b[0m | \u001b[34m\u001b[1mDEBUG   \u001b[0m | \u001b[36mgsioc\u001b[0m:\u001b[36mbCommand\u001b[0m:\u001b[36m220\u001b[0m - \u001b[34m\u001b[1mWrites buffered Command character b'\\r' to the device GX-241 II.\u001b[0m\n",
      "\u001b[32m2024-11-18 11:44:35.705\u001b[0m | \u001b[34m\u001b[1mDEBUG   \u001b[0m | \u001b[36mgsioc\u001b[0m:\u001b[36mbCommand\u001b[0m:\u001b[36m222\u001b[0m - \u001b[34m\u001b[1mStarts reading character from the device GX-241 II.\u001b[0m\n",
      "\u001b[32m2024-11-18 11:44:35.816\u001b[0m | \u001b[34m\u001b[1mDEBUG   \u001b[0m | \u001b[36mgsioc\u001b[0m:\u001b[36mbCommand\u001b[0m:\u001b[36m224\u001b[0m - \u001b[34m\u001b[1mgot back b'\\r' from the device GX-241 II.\u001b[0m\n",
      "\u001b[32m2024-11-18 11:44:35.816\u001b[0m | \u001b[34m\u001b[1mDEBUG   \u001b[0m | \u001b[36mgsioc\u001b[0m:\u001b[36mbCommand\u001b[0m:\u001b[36m228\u001b[0m - \u001b[34m\u001b[1mresp_raw: b'\\r'\u001b[0m\n",
      "\u001b[32m2024-11-18 11:44:35.816\u001b[0m | \u001b[34m\u001b[1mDEBUG   \u001b[0m | \u001b[36mgsioc\u001b[0m:\u001b[36mbCommand\u001b[0m:\u001b[36m246\u001b[0m - \u001b[34m\u001b[1mresp_raw 2: 13\u001b[0m\n",
      "\u001b[32m2024-11-18 11:44:35.816\u001b[0m | \u001b[34m\u001b[1mDEBUG   \u001b[0m | \u001b[36mgsioc\u001b[0m:\u001b[36mbCommand\u001b[0m:\u001b[36m261\u001b[0m - \u001b[34m\u001b[1mBuffered command complete.\u001b[0m\n",
      "\u001b[32m2024-11-18 11:44:35.819\u001b[0m | \u001b[34m\u001b[1mDEBUG   \u001b[0m | \u001b[36mgsioc\u001b[0m:\u001b[36mbCommand\u001b[0m:\u001b[36m262\u001b[0m - \u001b[34m\u001b[1mReceived bytearray(b'\\nX43/80.5\\r') from device.\u001b[0m\n",
      "\u001b[32m2024-11-18 11:44:35.820\u001b[0m | \u001b[1mINFO    \u001b[0m | \u001b[36mgsioc\u001b[0m:\u001b[36mbCommand\u001b[0m:\u001b[36m263\u001b[0m - \u001b[1mGSIOC >>> bytearray(b'\\nX43/80.5\\r')\u001b[0m\n"
     ]
    },
    {
     "data": {
      "text/plain": [
       "bytearray(b'\\nX43/80.5\\r')"
      ]
     },
     "execution_count": 43,
     "metadata": {},
     "output_type": "execute_result"
    }
   ],
   "source": [
    "g.bCommand(thing[0])"
   ]
  },
  {
   "cell_type": "code",
   "execution_count": 17,
   "id": "49df7c33-7676-4266-b83d-ff3fdf1093c0",
   "metadata": {},
   "outputs": [
    {
     "name": "stderr",
     "output_type": "stream",
     "text": [
      "\u001b[32m2024-11-18 11:42:05.020\u001b[0m | \u001b[34m\u001b[1mDEBUG   \u001b[0m | \u001b[36mgsioc\u001b[0m:\u001b[36mbCommand\u001b[0m:\u001b[36m171\u001b[0m - \u001b[34m\u001b[1mSending buffered command \"H\" to device.\u001b[0m\n",
      "\u001b[32m2024-11-18 11:42:05.021\u001b[0m | \u001b[1mINFO    \u001b[0m | \u001b[36mgsioc\u001b[0m:\u001b[36mbCommand\u001b[0m:\u001b[36m176\u001b[0m - \u001b[1mGSIOC <<< H\u001b[0m\n",
      "\u001b[32m2024-11-18 11:42:05.135\u001b[0m | \u001b[34m\u001b[1mDEBUG   \u001b[0m | \u001b[36mgsioc\u001b[0m:\u001b[36mbCommand\u001b[0m:\u001b[36m195\u001b[0m - \u001b[34m\u001b[1mready signal: b'\\n'\u001b[0m\n",
      "\u001b[32m2024-11-18 11:42:05.135\u001b[0m | \u001b[34m\u001b[1mDEBUG   \u001b[0m | \u001b[36mgsioc\u001b[0m:\u001b[36mbCommand\u001b[0m:\u001b[36m204\u001b[0m - \u001b[34m\u001b[1mStarting to send buffered command.\u001b[0m\n",
      "\u001b[32m2024-11-18 11:42:05.135\u001b[0m | \u001b[34m\u001b[1mDEBUG   \u001b[0m | \u001b[36mgsioc\u001b[0m:\u001b[36mbCommand\u001b[0m:\u001b[36m215\u001b[0m - \u001b[34m\u001b[1m10\u001b[0m\n",
      "\u001b[32m2024-11-18 11:42:05.138\u001b[0m | \u001b[34m\u001b[1mDEBUG   \u001b[0m | \u001b[36mgsioc\u001b[0m:\u001b[36mbCommand\u001b[0m:\u001b[36m220\u001b[0m - \u001b[34m\u001b[1mWrites buffered Command character b'H' to the device GX-241 II.\u001b[0m\n",
      "\u001b[32m2024-11-18 11:42:05.140\u001b[0m | \u001b[34m\u001b[1mDEBUG   \u001b[0m | \u001b[36mgsioc\u001b[0m:\u001b[36mbCommand\u001b[0m:\u001b[36m222\u001b[0m - \u001b[34m\u001b[1mStarts reading character from the device GX-241 II.\u001b[0m\n",
      "\u001b[32m2024-11-18 11:42:05.251\u001b[0m | \u001b[34m\u001b[1mDEBUG   \u001b[0m | \u001b[36mgsioc\u001b[0m:\u001b[36mbCommand\u001b[0m:\u001b[36m224\u001b[0m - \u001b[34m\u001b[1mgot back b'H' from the device GX-241 II.\u001b[0m\n",
      "\u001b[32m2024-11-18 11:42:05.252\u001b[0m | \u001b[34m\u001b[1mDEBUG   \u001b[0m | \u001b[36mgsioc\u001b[0m:\u001b[36mbCommand\u001b[0m:\u001b[36m228\u001b[0m - \u001b[34m\u001b[1mresp_raw: b'H'\u001b[0m\n",
      "\u001b[32m2024-11-18 11:42:05.253\u001b[0m | \u001b[34m\u001b[1mDEBUG   \u001b[0m | \u001b[36mgsioc\u001b[0m:\u001b[36mbCommand\u001b[0m:\u001b[36m246\u001b[0m - \u001b[34m\u001b[1mresp_raw 2: 72\u001b[0m\n",
      "\u001b[32m2024-11-18 11:42:05.254\u001b[0m | \u001b[34m\u001b[1mDEBUG   \u001b[0m | \u001b[36mgsioc\u001b[0m:\u001b[36mbCommand\u001b[0m:\u001b[36m220\u001b[0m - \u001b[34m\u001b[1mWrites buffered Command character b'\\r' to the device GX-241 II.\u001b[0m\n",
      "\u001b[32m2024-11-18 11:42:05.256\u001b[0m | \u001b[34m\u001b[1mDEBUG   \u001b[0m | \u001b[36mgsioc\u001b[0m:\u001b[36mbCommand\u001b[0m:\u001b[36m222\u001b[0m - \u001b[34m\u001b[1mStarts reading character from the device GX-241 II.\u001b[0m\n",
      "\u001b[32m2024-11-18 11:42:05.368\u001b[0m | \u001b[34m\u001b[1mDEBUG   \u001b[0m | \u001b[36mgsioc\u001b[0m:\u001b[36mbCommand\u001b[0m:\u001b[36m224\u001b[0m - \u001b[34m\u001b[1mgot back b'\\r' from the device GX-241 II.\u001b[0m\n",
      "\u001b[32m2024-11-18 11:42:05.368\u001b[0m | \u001b[34m\u001b[1mDEBUG   \u001b[0m | \u001b[36mgsioc\u001b[0m:\u001b[36mbCommand\u001b[0m:\u001b[36m228\u001b[0m - \u001b[34m\u001b[1mresp_raw: b'\\r'\u001b[0m\n",
      "\u001b[32m2024-11-18 11:42:05.368\u001b[0m | \u001b[34m\u001b[1mDEBUG   \u001b[0m | \u001b[36mgsioc\u001b[0m:\u001b[36mbCommand\u001b[0m:\u001b[36m246\u001b[0m - \u001b[34m\u001b[1mresp_raw 2: 13\u001b[0m\n",
      "\u001b[32m2024-11-18 11:42:05.368\u001b[0m | \u001b[34m\u001b[1mDEBUG   \u001b[0m | \u001b[36mgsioc\u001b[0m:\u001b[36mbCommand\u001b[0m:\u001b[36m261\u001b[0m - \u001b[34m\u001b[1mBuffered command complete.\u001b[0m\n",
      "\u001b[32m2024-11-18 11:42:05.373\u001b[0m | \u001b[34m\u001b[1mDEBUG   \u001b[0m | \u001b[36mgsioc\u001b[0m:\u001b[36mbCommand\u001b[0m:\u001b[36m262\u001b[0m - \u001b[34m\u001b[1mReceived bytearray(b'\\nH\\r') from device.\u001b[0m\n",
      "\u001b[32m2024-11-18 11:42:05.374\u001b[0m | \u001b[1mINFO    \u001b[0m | \u001b[36mgsioc\u001b[0m:\u001b[36mbCommand\u001b[0m:\u001b[36m263\u001b[0m - \u001b[1mGSIOC >>> bytearray(b'\\nH\\r')\u001b[0m\n"
     ]
    },
    {
     "data": {
      "text/plain": [
       "bytearray(b'\\nH\\r')"
      ]
     },
     "execution_count": 17,
     "metadata": {},
     "output_type": "execute_result"
    }
   ],
   "source": [
    "g.bCommand('H')"
   ]
  },
  {
   "cell_type": "markdown",
   "id": "b8525864-f269-45fb-b331-fd4f2ea0fe2b",
   "metadata": {},
   "source": [
    "SPKA code - to put in a function"
   ]
  },
  {
   "cell_type": "code",
   "execution_count": null,
   "id": "0ba5cbe1-7cd1-4b4d-8509-3c32d678d4c9",
   "metadata": {},
   "outputs": [],
   "source": [
    "# Define kinetic screen\n",
    "no_sub_A = 3      # First Column\n",
    "no_sub_B = 2      # Second Column\n",
    "no_cat = 2        # Third Column\n",
    "\n",
    "# Create lists for each\n",
    "sub_A_list = [1 + 4 * i for i in range(no_sub_A)]\n",
    "sub_B_list = [2 + 4 * i for i in range(no_sub_B)]\n",
    "cat_list = [3 + 4 * i for i in range(no_cat)]\n",
    "\n",
    "#print(sub_A_array, sub_B_array, cat_array)"
   ]
  },
  {
   "cell_type": "code",
   "execution_count": null,
   "id": "481ec238-41cd-48d4-afce-26f30b23cd6a",
   "metadata": {},
   "outputs": [],
   "source": [
    "# Generate all possible combinations\n",
    "all_combinations = list(itertools.product(sub_A_list, sub_B_list, cat_list))\n",
    "\n",
    "# Reorder combinations so that all combinations with the same elements\n",
    "# in sub_B_array and cat_array are grouped together\n",
    "spka_combinations = []\n",
    "\n",
    "# Iterate through all unique combinations of sub_B_array and cat_array\n",
    "# This will go through all sub_A first, then sub_B, then cat\n",
    "for c in cat_list:\n",
    "    for b in sub_B_list:\n",
    "        for a in sub_A_list:\n",
    "            spka_combinations.append((a, b, c))\n",
    "            \n",
    "spka_combinations"
   ]
  },
  {
   "cell_type": "code",
   "execution_count": null,
   "id": "2b4c872e-9362-4ed0-9492-0abb68ac4a55",
   "metadata": {},
   "outputs": [],
   "source": [
    "# Iterate over each tuple in the list (each separate kinetic profile)\n",
    "for tuple in spka_combinations:\n",
    "    \n",
    "    # Iterate over each number in the tuple (each reagent in an experiment)\n",
    "    for element in tuple:\n",
    "        \n",
    "        # Find the xy position of the vial        \n",
    "        vial_xy_pos = rack1_commands.get_xy_command(element)\n",
    "        \n",
    "        ##### TO DO #####\n",
    "        \n",
    "        # Display vial number - must be a two digit integer\n",
    "        g.bCommand(f\"W{element:02}\")\n",
    "        \n",
    "        # Go to Vial\n",
    "        g.bCommand(vial_xy_pos[0])\n",
    "\n",
    "        # Needle Down - define this distance somewhere above!\n",
    "        g.bCommand('Z85')\n",
    "\n",
    "        # Run the pump\n",
    "        # This will be a while away...\n",
    "        # How to make the autosampler idle while this is happening?\n",
    "\n",
    "        # Needle Up\n",
    "        g.bCommand('Z120')\n",
    "\n",
    "        # Log the vial and the amount taken\n",
    "        # Add a logger...\n",
    "        print(vial_xy_pos)\n",
    "\n",
    "        # Create air gap\n",
    "        # Create a tiny airgap with the pump, will this be necessary?\n",
    "        \n",
    "    # Go to the DIM and inject\n",
    "    # Blank the display\n",
    "    g.bCommand('WBB')\n",
    "    \n",
    "    # For now, let's just go to Home instead of the DIM\n",
    "    g.bCommand('H')"
   ]
  },
  {
   "cell_type": "code",
   "execution_count": null,
   "id": "481fc977-3755-4268-9c9a-2006e78c34a4",
   "metadata": {},
   "outputs": [],
   "source": [
    "g.bCommand('H')"
   ]
  },
  {
   "cell_type": "code",
   "execution_count": null,
   "id": "f22d02b7-d131-4f27-a798-5ecdb39212c7",
   "metadata": {},
   "outputs": [],
   "source": []
  }
 ],
 "metadata": {
  "kernelspec": {
   "display_name": "Python 3 (ipykernel)",
   "language": "python",
   "name": "python3"
  },
  "language_info": {
   "codemirror_mode": {
    "name": "ipython",
    "version": 3
   },
   "file_extension": ".py",
   "mimetype": "text/x-python",
   "name": "python",
   "nbconvert_exporter": "python",
   "pygments_lexer": "ipython3",
   "version": "3.11.7"
  }
 },
 "nbformat": 4,
 "nbformat_minor": 5
}
