{
 "cells": [
  {
   "cell_type": "code",
   "execution_count": 1,
   "id": "4284c699-a47b-4d86-87f7-d0ceb0aafa5d",
   "metadata": {},
   "outputs": [],
   "source": [
    "import serial"
   ]
  },
  {
   "cell_type": "code",
   "execution_count": 2,
   "id": "ff096ca5-069f-4900-b284-360f800f761d",
   "metadata": {},
   "outputs": [],
   "source": [
    "from equip_class import ViciValco"
   ]
  },
  {
   "cell_type": "code",
   "execution_count": 3,
   "id": "46185c4e-ee5c-4c14-b938-b618ed8df690",
   "metadata": {},
   "outputs": [],
   "source": [
    "#Defining ser\n",
    "ser = serial.Serial()"
   ]
  },
  {
   "cell_type": "code",
   "execution_count": 4,
   "id": "0d9a8991-1bc0-447a-8632-0b024e77a7cb",
   "metadata": {},
   "outputs": [],
   "source": [
    "# Create an instance of the gsioc_Protocol class\n",
    "valve = ViciValco(ser, 'K100 V01.30', 1)"
   ]
  },
  {
   "cell_type": "code",
   "execution_count": 5,
   "id": "bf17acb0-33a5-4101-8740-0d097369efb2",
   "metadata": {},
   "outputs": [
    {
     "name": "stdout",
     "output_type": "stream",
     "text": [
      "Device is connected\n"
     ]
    }
   ],
   "source": [
    "valve.connect()"
   ]
  },
  {
   "cell_type": "code",
   "execution_count": 6,
   "id": "793dfec7-ef69-4d6e-bac8-4a213de6a16b",
   "metadata": {},
   "outputs": [
    {
     "data": {
      "text/plain": [
       "'A'"
      ]
     },
     "execution_count": 6,
     "metadata": {},
     "output_type": "execute_result"
    }
   ],
   "source": [
    "valve.read_pos()"
   ]
  },
  {
   "cell_type": "code",
   "execution_count": 10,
   "id": "9e526b60-2742-4fc4-8eb1-16d9a8dc4a9c",
   "metadata": {},
   "outputs": [
    {
     "name": "stdout",
     "output_type": "stream",
     "text": [
      "Valve already at that position\n"
     ]
    }
   ],
   "source": [
    "valve.go_to_pos('A')"
   ]
  },
  {
   "cell_type": "code",
   "execution_count": null,
   "id": "6d7b15e8-a7f4-4338-83ae-28b83f0565de",
   "metadata": {},
   "outputs": [],
   "source": []
  }
 ],
 "metadata": {
  "kernelspec": {
   "display_name": "Python 3 (ipykernel)",
   "language": "python",
   "name": "python3"
  },
  "language_info": {
   "codemirror_mode": {
    "name": "ipython",
    "version": 3
   },
   "file_extension": ".py",
   "mimetype": "text/x-python",
   "name": "python",
   "nbconvert_exporter": "python",
   "pygments_lexer": "ipython3",
   "version": "3.11.7"
  }
 },
 "nbformat": 4,
 "nbformat_minor": 5
}
