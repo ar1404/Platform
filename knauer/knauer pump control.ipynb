{
 "cells": [
  {
   "cell_type": "code",
   "execution_count": 1,
   "id": "5f879f5f-4c09-4e73-8d34-40a542cfeefb",
   "metadata": {},
   "outputs": [],
   "source": [
    "from knauer import K100Pump"
   ]
  },
  {
   "cell_type": "code",
   "execution_count": 2,
   "id": "5798da4b-dc07-4b53-b00d-9676119acb6e",
   "metadata": {},
   "outputs": [],
   "source": [
    "import serial\n",
    "import time\n",
    "from datetime import datetime\n",
    "import re\n",
    "\n",
    "def log_action(filename, data):\n",
    "    timestamp = datetime.datetime.now().strftime(\"%d/%m/%y %H:%M:%S\")\n",
    "    with open('test_log.txt', 'a') as file:\n",
    "        file.write(f'[{timestamp}] {data}\\n')"
   ]
  },
  {
   "cell_type": "code",
   "execution_count": 3,
   "id": "f21f4642-316f-414b-8f45-7b2bac1f8236",
   "metadata": {},
   "outputs": [],
   "source": [
    "#Defining ser_2\n",
    "PORT3 = 'COM7'\n",
    "ser = serial.Serial(PORT3, 9600, 8, \"N\", 1, 0.1)"
   ]
  },
  {
   "cell_type": "code",
   "execution_count": 4,
   "id": "920b4828-baa2-420a-a305-4d7d3535aaea",
   "metadata": {},
   "outputs": [],
   "source": [
    "# Create an instance of the gsioc_Protocol class\n",
    "pump = K100Pump(ser)"
   ]
  },
  {
   "cell_type": "code",
   "execution_count": 5,
   "id": "61287c17-6432-4fd8-90cc-34babcc14737",
   "metadata": {},
   "outputs": [
    {
     "name": "stdout",
     "output_type": "stream",
     "text": [
      "Device is connected\n"
     ]
    }
   ],
   "source": [
    "#Connecting to pump\n",
    "pump.connect()"
   ]
  },
  {
   "cell_type": "code",
   "execution_count": 15,
   "id": "aa4ffb33-e057-47e0-a478-632da9f89c7e",
   "metadata": {},
   "outputs": [
    {
     "data": {
      "text/plain": [
       "'FLOW:OK'"
      ]
     },
     "execution_count": 15,
     "metadata": {},
     "output_type": "execute_result"
    }
   ],
   "source": [
    "pump.command('FLOW:0200')"
   ]
  },
  {
   "cell_type": "code",
   "execution_count": 7,
   "id": "ce8dd79c-c37d-4a77-bbbb-2cb5933f49bb",
   "metadata": {},
   "outputs": [
    {
     "data": {
      "text/plain": [
       "'ON:OK'"
      ]
     },
     "execution_count": 7,
     "metadata": {},
     "output_type": "execute_result"
    }
   ],
   "source": [
    "pump.start_flow()"
   ]
  },
  {
   "cell_type": "code",
   "execution_count": 6,
   "id": "88c2c2a2-8b5e-4647-8ee6-d9b5599ae7f7",
   "metadata": {},
   "outputs": [
    {
     "data": {
      "text/plain": [
       "'OFF:OK'"
      ]
     },
     "execution_count": 6,
     "metadata": {},
     "output_type": "execute_result"
    }
   ],
   "source": [
    "pump.stop_flow()"
   ]
  },
  {
   "cell_type": "code",
   "execution_count": 9,
   "id": "d0a1fb6d-0700-4b9f-a0a5-25d9447cb868",
   "metadata": {},
   "outputs": [
    {
     "data": {
      "text/plain": [
       "'SERNUM:FAW250900017'"
      ]
     },
     "execution_count": 9,
     "metadata": {},
     "output_type": "execute_result"
    }
   ],
   "source": [
    "pump.get_sernum()"
   ]
  },
  {
   "cell_type": "code",
   "execution_count": null,
   "id": "8e4edb6f-1d60-4aff-ba83-697461fb255e",
   "metadata": {},
   "outputs": [],
   "source": []
  }
 ],
 "metadata": {
  "kernelspec": {
   "display_name": "Python 3 (ipykernel)",
   "language": "python",
   "name": "python3"
  },
  "language_info": {
   "codemirror_mode": {
    "name": "ipython",
    "version": 3
   },
   "file_extension": ".py",
   "mimetype": "text/x-python",
   "name": "python",
   "nbconvert_exporter": "python",
   "pygments_lexer": "ipython3",
   "version": "3.11.7"
  }
 },
 "nbformat": 4,
 "nbformat_minor": 5
}
