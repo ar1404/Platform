{
 "cells": [
  {
   "cell_type": "code",
   "execution_count": 1,
   "id": "38def2b4-4cd7-4e1f-834f-6db4e1f7c1c8",
   "metadata": {},
   "outputs": [],
   "source": [
    "import time\n",
    "import serial\n",
    "import numpy as np\n",
    "import sys\n",
    "import os\n",
    "import asyncio\n",
    "from multiprocessing import Process\n",
    "import threading\n",
    "from scipy import constants\n",
    "import itertools\n",
    "\n",
    "import binascii\n",
    "from datetime import datetime\n",
    "import logging\n",
    "\n",
    "#from gsioc import gsioc_Protocol, ensure_xy_position_will_be_reached"
   ]
  },
  {
   "cell_type": "code",
   "execution_count": 2,
   "id": "9c217afa-11be-449a-ab68-e48951d5082b",
   "metadata": {},
   "outputs": [],
   "source": [
    "from gilson import *"
   ]
  },
  {
   "cell_type": "code",
   "execution_count": 3,
   "id": "afc3cec3-aa8a-450f-bb3a-2083027a3444",
   "metadata": {},
   "outputs": [],
   "source": [
    "from platform_setup_new import *"
   ]
  },
  {
   "cell_type": "code",
   "execution_count": 4,
   "id": "09e110fc-5d3e-477b-b25a-c319951da4ab",
   "metadata": {},
   "outputs": [],
   "source": [
    "from hb_elite_pump.hb_elite import *"
   ]
  },
  {
   "cell_type": "markdown",
   "id": "94e6f2a6-9a8c-4676-864c-9c1dd30ea6b7",
   "metadata": {},
   "source": [
    "# Connecting to Equipment"
   ]
  },
  {
   "cell_type": "markdown",
   "id": "379f0e49-c3c5-4544-949e-1c1e0e4dd23c",
   "metadata": {},
   "source": [
    "To reset the COM port:\n",
    "1) Open device manager and disable COM1\n",
    "2) Turn machine off and on\n",
    "3) Enable COM1 in device manager\n",
    "\n",
    "Use ser.close() here to close the serial port\n",
    "\n",
    "NOTE: Python seems to have problems when the GX-241 is in COM1 (motherboard), it will connect but cannot send or recieve. This is easily fixed by using a USB to serial adapter instead."
   ]
  },
  {
   "cell_type": "markdown",
   "id": "10458855-3abd-4edd-9d09-c156c3a6428d",
   "metadata": {
    "jp-MarkdownHeadingCollapsed": true
   },
   "source": [
    "### Autosampler"
   ]
  },
  {
   "cell_type": "code",
   "execution_count": 5,
   "id": "8b0fc3ba-00c6-4f08-a1c3-537890108fe0",
   "metadata": {},
   "outputs": [],
   "source": [
    "# Set up the serial connection\n",
    "PORT1 = 'COM6'\n",
    "ser = serial.Serial(PORT1, 19200, 8, \"N\", 1, 0.1)"
   ]
  },
  {
   "cell_type": "code",
   "execution_count": 6,
   "id": "0c566769-2d01-442e-8826-ead57c1cd8c4",
   "metadata": {},
   "outputs": [],
   "source": [
    "# Create an instance of the gsioc_Protocol class\n",
    "g = gsioc_Protocol(ser, 'GX-241 II', 30)"
   ]
  },
  {
   "cell_type": "code",
   "execution_count": 7,
   "id": "22a10c6f-98e8-4471-ae8b-98e52279d143",
   "metadata": {},
   "outputs": [
    {
     "name": "stdout",
     "output_type": "stream",
     "text": [
      "Logging enabled.\n"
     ]
    }
   ],
   "source": [
    "g.enable_logging()"
   ]
  },
  {
   "cell_type": "code",
   "execution_count": 8,
   "id": "994113a2-96d4-40b7-8fe7-7807fc760961",
   "metadata": {},
   "outputs": [],
   "source": [
    "g.log_info('Test log.')"
   ]
  },
  {
   "cell_type": "code",
   "execution_count": 9,
   "id": "7e8cdea3-e354-47b2-8e1c-ae7d5305387c",
   "metadata": {
    "scrolled": true
   },
   "outputs": [
    {
     "name": "stdout",
     "output_type": "stream",
     "text": [
      "Connected to autosampler\n"
     ]
    }
   ],
   "source": [
    "g.connect()"
   ]
  },
  {
   "cell_type": "code",
   "execution_count": 10,
   "id": "0695d642-a3a3-4067-a92b-1f829bef3a74",
   "metadata": {},
   "outputs": [
    {
     "data": {
      "text/plain": [
       "'GX-241 II v2.0.2.5'"
      ]
     },
     "execution_count": 10,
     "metadata": {},
     "output_type": "execute_result"
    }
   ],
   "source": [
    "g.get_device_name()"
   ]
  },
  {
   "cell_type": "code",
   "execution_count": 11,
   "id": "a3571719-ce09-4cc0-b477-74828c469b73",
   "metadata": {},
   "outputs": [
    {
     "data": {
      "text/plain": [
       "bytearray(b'\\nH\\r')"
      ]
     },
     "execution_count": 11,
     "metadata": {},
     "output_type": "execute_result"
    }
   ],
   "source": [
    "g.bCommand('H')"
   ]
  },
  {
   "cell_type": "code",
   "execution_count": 18,
   "id": "7a19aea5-3502-45ec-a518-47a789989b62",
   "metadata": {},
   "outputs": [],
   "source": [
    "g.go_to_vial(3)"
   ]
  },
  {
   "cell_type": "code",
   "execution_count": null,
   "id": "5bd0a70c-8ea3-4d18-ae4c-fcd1c91d5e64",
   "metadata": {},
   "outputs": [],
   "source": [
    "# Create an instance of the gsioc_Protocol class\n",
    "g_dim = gsioc_Protocol(ser, 'GX D Inject', 3)"
   ]
  },
  {
   "cell_type": "code",
   "execution_count": null,
   "id": "83f2f71c-2a06-4037-b9df-211bbf742c57",
   "metadata": {},
   "outputs": [],
   "source": [
    "g_dim.connect()"
   ]
  },
  {
   "cell_type": "code",
   "execution_count": null,
   "id": "87ee6c1e-6a20-4f68-a18d-6262373d12af",
   "metadata": {},
   "outputs": [],
   "source": [
    "g_dim.get_device_name()"
   ]
  },
  {
   "cell_type": "markdown",
   "id": "c711e6a9-b19e-445b-a41e-dcc6b210a6cb",
   "metadata": {},
   "source": [
    "### SyrPump"
   ]
  },
  {
   "cell_type": "code",
   "execution_count": 5,
   "id": "20c4cf87-6263-4605-84ef-71bd5b651505",
   "metadata": {},
   "outputs": [],
   "source": [
    "#Defining ser_1\n",
    "PORT2 = 'COM4'\n",
    "ser_1 = serial.Serial(PORT2, 9600, 8, \"N\", 1, 0.1)"
   ]
  },
  {
   "cell_type": "code",
   "execution_count": 6,
   "id": "7f65084f-312f-4a5d-982a-6fa4a992839a",
   "metadata": {},
   "outputs": [],
   "source": [
    "# Create an instance of the gsioc_Protocol class\n",
    "hbpump = HBElite(ser_1)"
   ]
  },
  {
   "cell_type": "code",
   "execution_count": 7,
   "id": "cc50680f-a1a2-4011-99c6-81902a30d191",
   "metadata": {},
   "outputs": [
    {
     "name": "stdout",
     "output_type": "stream",
     "text": [
      "Device is connected\n"
     ]
    }
   ],
   "source": [
    "#Connecting to pump\n",
    "hbpump.connect()"
   ]
  },
  {
   "cell_type": "markdown",
   "id": "1f4dbe99-37d5-446e-8ec7-28f34dce41f0",
   "metadata": {
    "jp-MarkdownHeadingCollapsed": true
   },
   "source": [
    "### Knauer Pump"
   ]
  },
  {
   "cell_type": "code",
   "execution_count": null,
   "id": "c6363fb6-eeda-45c7-b632-27f1ba7ce8d5",
   "metadata": {},
   "outputs": [],
   "source": [
    "#Defining ser_2\n",
    "PORT3 = 'COM7'\n",
    "ser_2 = serial.Serial(PORT3, 9600, 8, \"N\", 1, 0.1)"
   ]
  },
  {
   "cell_type": "code",
   "execution_count": null,
   "id": "396c0eb2-cab1-402e-b6f0-698a3a13e110",
   "metadata": {},
   "outputs": [],
   "source": [
    "# Create an instance of the gsioc_Protocol class\n",
    "kpump = K100Pump(ser_1)"
   ]
  },
  {
   "cell_type": "code",
   "execution_count": null,
   "id": "c13a0e94-bf1a-409b-9eea-93ef1d443367",
   "metadata": {},
   "outputs": [],
   "source": [
    "kpump.connect()"
   ]
  },
  {
   "cell_type": "markdown",
   "id": "3313c5dc-8b44-429e-8ebe-892a6557cef9",
   "metadata": {
    "jp-MarkdownHeadingCollapsed": true
   },
   "source": [
    "## Try Run and Platform Setup"
   ]
  },
  {
   "cell_type": "markdown",
   "id": "b0772902-86a1-474c-9995-74aafb5c48b0",
   "metadata": {},
   "source": [
    "This seems a little complex as is, too many unneeded things bundled in run.py. Try to extract the relevant functions and start again."
   ]
  },
  {
   "cell_type": "code",
   "execution_count": 16,
   "id": "df454243-fea1-4610-a02a-1d4ca0c6ea8f",
   "metadata": {},
   "outputs": [],
   "source": [
    "rack_position_offset_x=92       #distance in mm between rack_position=1 and =2 on x-axis\n",
    "rack_position_offset_y=0        #distance in mm between rack_position=1 and =2 on y-axis\n",
    "\n",
    "############################# RACK 1 DEFINITION #################################\n",
    "\n",
    "# From platform_setup.py \n",
    "rack1 = Rack([4,16], 7.5, 39.5, 18.5, 13.75, 65) # groundlevel_height assumed the minimum Z\n",
    "\n",
    "#  array_dimensions, offset_x, offset_y=offset_y, vial2vial_x, vial2vial_y, groundlevel_height\n",
    "\n",
    "# Previous vial2vialx = (2.11+15.6)\n",
    "# Previous vial2vial7 = (2.72+15.6+0.35)\n",
    "\n",
    "array_order1 = np.array([      #user is obliged to define a integer number i>=1 for each vial in the rack in ascending order \n",
    "    [1, 2, 3, 4],\n",
    "    [5, 6, 7, 8],\n",
    "    [9, 10,11,12],\n",
    "    [13,14,15,16],\n",
    "    [17,18,19,20],\n",
    "    [21,22,23,24],     \n",
    "    [25,26,27,28],     \n",
    "    [29,30,31,32],\n",
    "    [33,34,35,36],\n",
    "    [37,38,39,40],\n",
    "    [41,42,43,44],\n",
    "    [45,46,47,48],\n",
    "    [49,50,51,52],\n",
    "    [53,54,55,56],\n",
    "    [57,58,59,60],\n",
    "    [61,62,63,64]        \n",
    "    ])\n",
    "    \n",
    "rack_pos1=1\n",
    "\n",
    "global rack1_commands\n",
    "\n",
    "# Not sure what rack_position_offset_x/y are for x=92 and y=0\n",
    "\n",
    "rack1_commands = Rackcommands(rack1, array_order1, rack_pos1, rack_position_offset_x, rack_position_offset_y)\n",
    "\n",
    "global vial_selfmade\n",
    "\n",
    "vial_selfmade = Vial(1.5, 1, 33, 31.08)"
   ]
  },
  {
   "cell_type": "code",
   "execution_count": 17,
   "id": "91729a43-a1fc-42c6-a7bc-d599b4e682c4",
   "metadata": {},
   "outputs": [
    {
     "data": {
      "text/plain": [
       "bytearray(b'\\nX44.5/39.5\\r')"
      ]
     },
     "execution_count": 17,
     "metadata": {},
     "output_type": "execute_result"
    }
   ],
   "source": [
    "# It works!\n",
    "thing = rack1_commands.get_xy_command(3)\n",
    "thing\n",
    "g.bCommand(thing[0])"
   ]
  },
  {
   "cell_type": "code",
   "execution_count": 8,
   "id": "49df7c33-7676-4266-b83d-ff3fdf1093c0",
   "metadata": {},
   "outputs": [
    {
     "data": {
      "text/plain": [
       "bytearray(b'\\nH\\r')"
      ]
     },
     "execution_count": 8,
     "metadata": {},
     "output_type": "execute_result"
    }
   ],
   "source": [
    "g.bCommand('H')"
   ]
  },
  {
   "cell_type": "markdown",
   "id": "f0a41a3e-5dd5-4dca-a40a-79a05b4f383c",
   "metadata": {},
   "source": [
    "## With syr pump"
   ]
  },
  {
   "cell_type": "code",
   "execution_count": 52,
   "id": "fbf533a2-fff5-496b-9637-7b93e15b6610",
   "metadata": {},
   "outputs": [
    {
     "data": {
      "text/plain": [
       "['', ':']"
      ]
     },
     "execution_count": 52,
     "metadata": {},
     "output_type": "execute_result"
    }
   ],
   "source": [
    "#clearing recorded volumes\n",
    "hbpump.command('cvolume')\n",
    "hbpump.command('ctvolume')"
   ]
  },
  {
   "cell_type": "code",
   "execution_count": 48,
   "id": "6b26b5a6-9160-4f22-ac6e-cdd5f0886e00",
   "metadata": {},
   "outputs": [
    {
     "data": {
      "text/plain": [
       "['', ':']"
      ]
     },
     "execution_count": 48,
     "metadata": {},
     "output_type": "execute_result"
    }
   ],
   "source": [
    "#setting target vol\n",
    "hbpump.command('tvolume 1 ml')"
   ]
  },
  {
   "cell_type": "code",
   "execution_count": 17,
   "id": "24578eb6-8a63-4e04-bd51-476a9bc754b3",
   "metadata": {},
   "outputs": [
    {
     "data": {
      "text/plain": [
       "bytearray(b'\\nX7.5/39.5\\r')"
      ]
     },
     "execution_count": 17,
     "metadata": {},
     "output_type": "execute_result"
    }
   ],
   "source": [
    "# It works!\n",
    "thing = rack1_commands.get_xy_command(1)\n",
    "thing\n",
    "g.bCommand(thing[0])"
   ]
  },
  {
   "cell_type": "code",
   "execution_count": 22,
   "id": "dd6e77c3-3b74-494d-9d87-2c3a65a583db",
   "metadata": {},
   "outputs": [
    {
     "data": {
      "text/plain": [
       "bytearray(b'\\nZ125\\r')"
      ]
     },
     "execution_count": 22,
     "metadata": {},
     "output_type": "execute_result"
    }
   ],
   "source": [
    "g.bCommand('Z125')"
   ]
  },
  {
   "cell_type": "code",
   "execution_count": 8,
   "id": "db0ace26-3bd3-448c-bc1a-5bda2fd824a8",
   "metadata": {},
   "outputs": [
    {
     "data": {
      "text/plain": [
       "['', '125 ul/min', ':']"
      ]
     },
     "execution_count": 8,
     "metadata": {},
     "output_type": "execute_result"
    }
   ],
   "source": [
    "hbpump.command('wrate')"
   ]
  },
  {
   "cell_type": "code",
   "execution_count": null,
   "id": "2637dc69-0416-4c64-85df-031f7d66b61f",
   "metadata": {},
   "outputs": [],
   "source": [
    "# It works!\n",
    "thing = rack1_commands.get_xy_command(4)\n",
    "thing\n",
    "g.bCommand(thing[0])"
   ]
  },
  {
   "cell_type": "code",
   "execution_count": null,
   "id": "6c387673-63e0-4a92-9bb5-c3915ddaadd3",
   "metadata": {},
   "outputs": [],
   "source": [
    "g.bCommand('Z85')\n",
    "sleep(5)"
   ]
  },
  {
   "cell_type": "code",
   "execution_count": 49,
   "id": "4341fb3d-1d92-4d21-bed4-2418fdc30b24",
   "metadata": {},
   "outputs": [
    {
     "name": "stdout",
     "output_type": "stream",
     "text": [
      "Pump infusing\n"
     ]
    },
    {
     "data": {
      "text/plain": [
       "['', '>']"
      ]
     },
     "execution_count": 49,
     "metadata": {},
     "output_type": "execute_result"
    }
   ],
   "source": [
    "hbpump.command('irate 1 ml/min')\n",
    "hbpump.command('irun')"
   ]
  },
  {
   "cell_type": "code",
   "execution_count": 51,
   "id": "d73f5d55-922c-4662-aaa0-482b7ec054cf",
   "metadata": {},
   "outputs": [
    {
     "data": {
      "text/plain": [
       "bytearray(b'\\nH\\r')"
      ]
     },
     "execution_count": 51,
     "metadata": {},
     "output_type": "execute_result"
    }
   ],
   "source": [
    "g.bCommand('H')"
   ]
  },
  {
   "cell_type": "code",
   "execution_count": 50,
   "id": "5e050a27-fc04-4172-ab57-8f6c2d1598e3",
   "metadata": {},
   "outputs": [
    {
     "data": {
      "text/plain": [
       "['', ':']"
      ]
     },
     "execution_count": 50,
     "metadata": {},
     "output_type": "execute_result"
    }
   ],
   "source": [
    "hbpump.command('stop')"
   ]
  },
  {
   "cell_type": "markdown",
   "id": "4fc98a09-2d8c-45ef-a73f-22efa90d99f2",
   "metadata": {
    "jp-MarkdownHeadingCollapsed": true
   },
   "source": [
    "# Preparing Reaction Plugs"
   ]
  },
  {
   "cell_type": "code",
   "execution_count": null,
   "id": "a3f0644e-9932-4a31-947f-4cb603135ddb",
   "metadata": {},
   "outputs": [],
   "source": [
    "# Define kinetic screen\n",
    "no_sub_A = 1      # First Column\n",
    "no_sub_B = 1      # Second Column\n",
    "no_cat = 1        # Third Column\n",
    "no_add = 1        # Fourth Column\n",
    "\n",
    "# Create lists for each\n",
    "sub_A_list = [1 + 4 * i for i in range(no_sub_A)]\n",
    "sub_B_list = [2 + 4 * i for i in range(no_sub_B)] if no_sub_B > 0 else []\n",
    "cat_list = [3 + 4 * i for i in range(no_cat)] if no_cat > 0 else []\n",
    "add_list = [4 + 4 * i for i in range(no_add)] if no_add > 0 else []\n",
    "\n",
    "#print(sub_A_array, sub_B_array, cat_array)"
   ]
  },
  {
   "cell_type": "code",
   "execution_count": null,
   "id": "481ec238-41cd-48d4-afce-26f30b23cd6a",
   "metadata": {},
   "outputs": [],
   "source": [
    "# Generate all possible combinations\n",
    "all_combinations = list(itertools.product(sub_A_list, sub_B_list, cat_list, add_list))\n",
    "\n",
    "# Reorder combinations so that all combinations with the same elements\n",
    "# in sub_B_array and cat_array are grouped together\n",
    "spka_combinations = []\n",
    "\n",
    "# Iterate through all unique combinations of sub_B_array and cat_array\n",
    "# This will go through all sub_A first, then sub_B, then cat\n",
    "for a in sub_A_list:\n",
    "    if sub_B_list:\n",
    "        for b in sub_B_list:\n",
    "            if cat_list:  # Check if cat_list is not empty\n",
    "                for c in cat_list:\n",
    "                    if add_list:  # Only include d if add_list is not empty\n",
    "                        for d in add_list:\n",
    "                            spka_combinations.append((a, b, c, d))\n",
    "                    else:\n",
    "                        spka_combinations.append((a, b, c))  # Append without d\n",
    "            else:  # If cat_list is empty\n",
    "                if add_list:\n",
    "                    for d in add_list:\n",
    "                        spka_combinations.append((a, b, d))  # Append without c\n",
    "                else:\n",
    "                    spka_combinations.append((a, b))  # Append only a and b\n",
    "    else:  # If sub_B_list is empty\n",
    "        if cat_list:\n",
    "            for c in cat_list:\n",
    "                if add_list:\n",
    "                    for d in add_list:\n",
    "                        spka_combinations.append((a, c, d))  # Append without b\n",
    "                else:\n",
    "                    spka_combinations.append((a, c))  # Append only a and c\n",
    "        else:  # If both sub_B_list and cat_list are empty\n",
    "            if add_list:\n",
    "                for d in add_list:\n",
    "                    spka_combinations.append((a, d))  # Append only a and d\n",
    "            else:\n",
    "                spka_combinations.append((a,))  # Append only a\n",
    "\n",
    "# Display the combinations\n",
    "spka_combinations"
   ]
  },
  {
   "cell_type": "code",
   "execution_count": 17,
   "id": "2b4c872e-9362-4ed0-9492-0abb68ac4a55",
   "metadata": {},
   "outputs": [
    {
     "ename": "NameError",
     "evalue": "name 'spka_combinations' is not defined",
     "output_type": "error",
     "traceback": [
      "\u001b[1;31m---------------------------------------------------------------------------\u001b[0m",
      "\u001b[1;31mNameError\u001b[0m                                 Traceback (most recent call last)",
      "Cell \u001b[1;32mIn[17], line 2\u001b[0m\n\u001b[0;32m      1\u001b[0m \u001b[38;5;66;03m# Iterate over each tuple in the list (each separate kinetic profile)\u001b[39;00m\n\u001b[1;32m----> 2\u001b[0m \u001b[38;5;28;01mfor\u001b[39;00m profile \u001b[38;5;129;01min\u001b[39;00m spka_combinations:\n\u001b[0;32m      3\u001b[0m     \n\u001b[0;32m      4\u001b[0m     \u001b[38;5;66;03m# Iterate over each number in the tuple (each reagent in an experiment)\u001b[39;00m\n\u001b[0;32m      5\u001b[0m     \u001b[38;5;28;01mfor\u001b[39;00m vial \u001b[38;5;129;01min\u001b[39;00m profile:\n\u001b[0;32m      6\u001b[0m         \n\u001b[0;32m      7\u001b[0m         \u001b[38;5;66;03m# Display vial number - must be a two digit integer\u001b[39;00m\n\u001b[0;32m      8\u001b[0m         g\u001b[38;5;241m.\u001b[39mbCommand(\u001b[38;5;124mf\u001b[39m\u001b[38;5;124m\"\u001b[39m\u001b[38;5;124mW\u001b[39m\u001b[38;5;132;01m{\u001b[39;00mvial\u001b[38;5;132;01m:\u001b[39;00m\u001b[38;5;124m02\u001b[39m\u001b[38;5;132;01m}\u001b[39;00m\u001b[38;5;124m\"\u001b[39m)\n",
      "\u001b[1;31mNameError\u001b[0m: name 'spka_combinations' is not defined"
     ]
    }
   ],
   "source": [
    "# Iterate over each tuple in the list (each separate kinetic profile)\n",
    "for profile in spka_combinations:\n",
    "    \n",
    "    # Iterate over each number in the tuple (each reagent in an experiment)\n",
    "    for vial in profile:\n",
    "        \n",
    "        # Display vial number - must be a two digit integer\n",
    "        g.bCommand(f\"W{vial:02}\")\n",
    "        \n",
    "        # Go to Vial\n",
    "        g.go_to_vial(vial)\n",
    "        log_action('device_log.txt', f\"Autosampler sent to position {vial:02}\")\n",
    "        \n",
    "        # Needle Down - define this distance somewhere above!\n",
    "        g.bCommand('Z85')\n",
    "\n",
    "        #HBElite to withdraw\n",
    "        pump.command('cvolume')\n",
    "        pump.command('ctvolume')\n",
    "        pump.command(f'tvolume {vol} ul') # need to work out somewhere a set volume\n",
    "        pump.command('wrate 100 ul/min')\n",
    "        pump.command('wrun')\n",
    "        time.sleep(vol / 100)\n",
    "        #need to put a sleep to make code wait for withdrawal before next step\n",
    "        pump.command('stop')\n",
    "\n",
    "        \n",
    "        # Run the pump\n",
    "        # This will be a while away...\n",
    "        # How to make the autosampler idle while this is happening?\n",
    "\n",
    "        # Needle Up\n",
    "        g.bCommand('Z120')\n",
    "\n",
    "        # Log the vial and the amount taken\n",
    "        log_action('device_log.txt', f\"{vol} taken from position {vial:02}\")\n",
    "\n",
    "        # Create air gap\n",
    "        pump.command('cvolume')\n",
    "        pump.command('ctvolume')\n",
    "        pump.command('tvolume 2 ul') # need to work out somewhere a set volume\n",
    "        pump.command('wrate 40 ul/min')\n",
    "        pump.command('wrun')\n",
    "        time.sleep(3)\n",
    "        \n",
    "        # Create a tiny airgap with the pump, will this be necessary?\n",
    "\n",
    "    \n",
    "    # Go to the DIM and inject\n",
    "    g_inject()\n",
    "    log_action('device_log.txt', \"Autosampler sent to DIM to inject\")\n",
    "    \n",
    "    # Blank the display\n",
    "    g.bCommand('WBB')\n",
    "\n",
    "log_action('device_log.txt', \"Reaction plug preparation complete\")\n",
    "\n",
    "g.bCommand('H')\n",
    "log_action('device_log.txt', \"Autosampler sent to home position\")"
   ]
  },
  {
   "cell_type": "markdown",
   "id": "9b4690f2-5adf-4474-9c45-e740f90cce21",
   "metadata": {},
   "source": [
    "# Syringe Pump Validation"
   ]
  },
  {
   "cell_type": "code",
   "execution_count": 1,
   "id": "69d77155-ccb2-419a-8597-9c18a0ef861b",
   "metadata": {},
   "outputs": [],
   "source": [
    "#need to make up solution of x concentration of BnOH in MeCN"
   ]
  },
  {
   "cell_type": "code",
   "execution_count": 53,
   "id": "4e5ba4c7-1c2a-4c65-b176-98a3893e56b8",
   "metadata": {},
   "outputs": [
    {
     "name": "stdout",
     "output_type": "stream",
     "text": [
      "At stock solution vial.\n",
      "Pump withdrawing\n",
      "Withdrawing...\n",
      "Withdraw complete.\n",
      "Target volume reached\n",
      "At vial 1.\n",
      "Pump infusing\n",
      "Infusing 20 uL\n",
      "Infusion complete.\n",
      "Target volume reached\n",
      "At stock solution vial.\n",
      "Pump withdrawing\n",
      "Withdrawing...\n",
      "Withdraw complete.\n",
      "Target volume reached\n",
      "At vial 2.\n",
      "Pump infusing\n",
      "Infusing 25 uL\n",
      "Infusion complete.\n",
      "Target volume reached\n",
      "At stock solution vial.\n",
      "Pump withdrawing\n",
      "Withdrawing...\n",
      "Withdraw complete.\n",
      "Target volume reached\n",
      "At vial 3.\n",
      "Pump infusing\n",
      "Infusing 30 uL\n",
      "Infusion complete.\n",
      "Target volume reached\n",
      "At stock solution vial.\n",
      "Pump withdrawing\n",
      "Withdrawing...\n",
      "Withdraw complete.\n",
      "Target volume reached\n",
      "At vial 4.\n",
      "Pump infusing\n",
      "Infusing 35 uL\n",
      "Infusion complete.\n",
      "Target volume reached\n",
      "At stock solution vial.\n",
      "Pump withdrawing\n",
      "Withdrawing...\n",
      "Withdraw complete.\n",
      "Target volume reached\n",
      "At vial 5.\n",
      "Pump infusing\n",
      "Infusing 40 uL\n",
      "Infusion complete.\n",
      "Target volume reached\n",
      "At stock solution vial.\n",
      "Pump withdrawing\n",
      "Withdrawing...\n",
      "Withdraw complete.\n",
      "Target volume reached\n",
      "At vial 6.\n",
      "Pump infusing\n",
      "Infusing 45 uL\n",
      "Infusion complete.\n",
      "Target volume reached\n",
      "At stock solution vial.\n",
      "Pump withdrawing\n",
      "Withdrawing...\n",
      "Withdraw complete.\n",
      "Target volume reached\n",
      "At vial 7.\n",
      "Pump infusing\n",
      "Infusing 50 uL\n",
      "Infusion complete.\n",
      "Target volume reached\n"
     ]
    },
    {
     "data": {
      "text/plain": [
       "bytearray(b'\\nH\\r')"
      ]
     },
     "execution_count": 53,
     "metadata": {},
     "output_type": "execute_result"
    }
   ],
   "source": [
    "#for loop probably the ebst way to go\n",
    "volumes = {20:1, 25:2, 30:3, 35:4, 40:5, 45:6, 50:7}\n",
    "hbpump.command('wrate 125 ul/min') #max flow rate is 132.6\n",
    "hbpump.command('irate 125 ul/min')\n",
    "\n",
    "for volume, vial in volumes.items():\n",
    "    #go to the stock sol vial\n",
    "    g.go_to_vial(8)\n",
    "    print('At stock solution vial.')\n",
    "    g.bCommand('Z85')\n",
    "    \n",
    "    #syr pump withdraw\n",
    "    hbpump.command(f'tvolume {volume} ul') # need to work out somewhere a set volume\n",
    "    hbpump.command('wrun')\n",
    "    time.sleep(60 * (volume / 125))\n",
    "    print('Withdrawing...')\n",
    "    #need to put a sleep to make code wait for withdrawal before next step\n",
    "    print('Withdraw complete.')\n",
    "    hbpump.command('cvolume')\n",
    "    hbpump.command('ctvolume')\n",
    "\n",
    "    #for needle to go up\n",
    "    g.bCommand('Z125')\n",
    "    \n",
    "    #go to vial\n",
    "    g.go_to_vial(vial)\n",
    "    g.bCommand('Z85')\n",
    "    print(f'At vial {vial}.')\n",
    "\n",
    "    #syr pump infuse\n",
    "    hbpump.command(f'tvolume {volume} ul') # need to work out somewhere a set volume\n",
    "    hbpump.command('irun')\n",
    "    print(f'Infusing {volume} uL')\n",
    "    time.sleep(60 * (volume / 125))\n",
    "    #need to put a sleep to make code wait for withdrawal before next step\n",
    "    print('Infusion complete.')\n",
    "    hbpump.command('cvolume')\n",
    "    hbpump.command('ctvolume')\n",
    "\n",
    "    #for needle to go up\n",
    "    g.bCommand('Z125')\n",
    "\n",
    "g.bCommand('H')"
   ]
  },
  {
   "cell_type": "code",
   "execution_count": 27,
   "id": "0adb07fd-f005-414a-bf3c-a53b2d57fbc4",
   "metadata": {},
   "outputs": [
    {
     "name": "stdout",
     "output_type": "stream",
     "text": [
      "Pump stationary\n",
      "Pump stationary\n",
      "Pump infusing\n"
     ]
    },
    {
     "data": {
      "text/plain": [
       "['', '>']"
      ]
     },
     "execution_count": 27,
     "metadata": {},
     "output_type": "execute_result"
    }
   ],
   "source": [
    "hbpump.command('ctvolume')\n",
    "hbpump.command('cvolume')\n",
    "hbpump.command('irun')"
   ]
  },
  {
   "cell_type": "code",
   "execution_count": 28,
   "id": "34d6054f-41f6-40b9-ae3e-6c626a411ba3",
   "metadata": {},
   "outputs": [
    {
     "name": "stdout",
     "output_type": "stream",
     "text": [
      "Pump stationary\n"
     ]
    },
    {
     "data": {
      "text/plain": [
       "['', ':']"
      ]
     },
     "execution_count": 28,
     "metadata": {},
     "output_type": "execute_result"
    }
   ],
   "source": [
    "hbpump.command('stop')"
   ]
  },
  {
   "cell_type": "code",
   "execution_count": 76,
   "id": "c9d78a37-74ed-4a1e-acda-3dcc6b009986",
   "metadata": {},
   "outputs": [
    {
     "data": {
      "text/plain": [
       "bytearray(b'\\nH\\r')"
      ]
     },
     "execution_count": 76,
     "metadata": {},
     "output_type": "execute_result"
    }
   ],
   "source": [
    "g.bCommand('H')"
   ]
  },
  {
   "cell_type": "code",
   "execution_count": 73,
   "id": "d523d24b-8fa8-4fc0-b956-63ea361ee5bc",
   "metadata": {},
   "outputs": [
    {
     "data": {
      "text/plain": [
       "'0/-1/125'"
      ]
     },
     "execution_count": 73,
     "metadata": {},
     "output_type": "execute_result"
    }
   ],
   "source": [
    "g.iCommand('P')"
   ]
  },
  {
   "cell_type": "code",
   "execution_count": null,
   "id": "5b8499bc-360e-47ec-a4d1-9cea422302fe",
   "metadata": {},
   "outputs": [],
   "source": []
  }
 ],
 "metadata": {
  "kernelspec": {
   "display_name": "Python 3 (ipykernel)",
   "language": "python",
   "name": "python3"
  },
  "language_info": {
   "codemirror_mode": {
    "name": "ipython",
    "version": 3
   },
   "file_extension": ".py",
   "mimetype": "text/x-python",
   "name": "python",
   "nbconvert_exporter": "python",
   "pygments_lexer": "ipython3",
   "version": "3.11.7"
  }
 },
 "nbformat": 4,
 "nbformat_minor": 5
}
