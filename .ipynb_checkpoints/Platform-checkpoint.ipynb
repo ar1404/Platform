{
 "cells": [
  {
   "cell_type": "code",
   "execution_count": 1,
   "id": "38def2b4-4cd7-4e1f-834f-6db4e1f7c1c8",
   "metadata": {},
   "outputs": [],
   "source": [
    "import time\n",
    "import serial\n",
    "import numpy as np\n",
    "import sys\n",
    "import os\n",
    "import asyncio\n",
    "from multiprocessing import Process\n",
    "import threading\n",
    "from scipy import constants\n",
    "import itertools\n",
    "\n",
    "import binascii\n",
    "from datetime import datetime\n",
    "import logging\n",
    "import random\n",
    "#from gsioc import gsioc_Protocol, ensure_xy_position_will_be_reached"
   ]
  },
  {
   "cell_type": "code",
   "execution_count": 2,
   "id": "9c217afa-11be-449a-ab68-e48951d5082b",
   "metadata": {},
   "outputs": [],
   "source": [
    "from gilson import *"
   ]
  },
  {
   "cell_type": "code",
   "execution_count": 3,
   "id": "afc3cec3-aa8a-450f-bb3a-2083027a3444",
   "metadata": {},
   "outputs": [],
   "source": [
    "from platform_setup_new import *"
   ]
  },
  {
   "cell_type": "code",
   "execution_count": 4,
   "id": "09e110fc-5d3e-477b-b25a-c319951da4ab",
   "metadata": {},
   "outputs": [],
   "source": [
    "from hb_elite_pump.hb_elite import *"
   ]
  },
  {
   "cell_type": "markdown",
   "id": "94e6f2a6-9a8c-4676-864c-9c1dd30ea6b7",
   "metadata": {},
   "source": [
    "# Connecting to Equipment"
   ]
  },
  {
   "cell_type": "markdown",
   "id": "379f0e49-c3c5-4544-949e-1c1e0e4dd23c",
   "metadata": {},
   "source": [
    "To reset the COM port:\n",
    "1) Open device manager and disable COM1\n",
    "2) Turn machine off and on\n",
    "3) Enable COM1 in device manager\n",
    "\n",
    "Use ser.close() here to close the serial port\n",
    "\n",
    "NOTE: Python seems to have problems when the GX-241 is in COM1 (motherboard), it will connect but cannot send or recieve. This is easily fixed by using a USB to serial adapter instead."
   ]
  },
  {
   "cell_type": "markdown",
   "id": "10458855-3abd-4edd-9d09-c156c3a6428d",
   "metadata": {},
   "source": [
    "### Autosampler"
   ]
  },
  {
   "cell_type": "code",
   "execution_count": 5,
   "id": "8b0fc3ba-00c6-4f08-a1c3-537890108fe0",
   "metadata": {},
   "outputs": [],
   "source": [
    "# Set up the serial connection\n",
    "PORT1 = 'COM6'\n",
    "ser = serial.Serial(PORT1, 19200, 8, \"N\", 1, 0.1)"
   ]
  },
  {
   "cell_type": "code",
   "execution_count": 6,
   "id": "0c566769-2d01-442e-8826-ead57c1cd8c4",
   "metadata": {},
   "outputs": [],
   "source": [
    "# Create an instance of the gsioc_Protocol class\n",
    "g = gsioc_Protocol(ser, 'GX-241 II', 30)"
   ]
  },
  {
   "cell_type": "code",
   "execution_count": 10,
   "id": "7e8cdea3-e354-47b2-8e1c-ae7d5305387c",
   "metadata": {
    "scrolled": true
   },
   "outputs": [
    {
     "name": "stdout",
     "output_type": "stream",
     "text": [
      "Connected to autosampler\n"
     ]
    }
   ],
   "source": [
    "g.connect()"
   ]
  },
  {
   "cell_type": "code",
   "execution_count": null,
   "id": "0695d642-a3a3-4067-a92b-1f829bef3a74",
   "metadata": {},
   "outputs": [],
   "source": [
    "g.get_device_name()"
   ]
  },
  {
   "cell_type": "code",
   "execution_count": null,
   "id": "c10def09-e177-4256-88dd-484dba5bc86b",
   "metadata": {},
   "outputs": [],
   "source": [
    "g.iCommand('e')"
   ]
  },
  {
   "cell_type": "code",
   "execution_count": null,
   "id": "f52418a3-a8e7-4864-b1c1-c7d0e88010bc",
   "metadata": {},
   "outputs": [],
   "source": [
    "g.bCommand('e[n]')"
   ]
  },
  {
   "cell_type": "code",
   "execution_count": 11,
   "id": "a3571719-ce09-4cc0-b477-74828c469b73",
   "metadata": {},
   "outputs": [
    {
     "data": {
      "text/plain": [
       "bytearray(b'\\nH\\r')"
      ]
     },
     "execution_count": 11,
     "metadata": {},
     "output_type": "execute_result"
    }
   ],
   "source": [
    "g.bCommand('H')"
   ]
  },
  {
   "cell_type": "code",
   "execution_count": null,
   "id": "0357ffd6-b187-4825-93ab-d5d4a8082266",
   "metadata": {},
   "outputs": [],
   "source": [
    "g.go_to_solvent()"
   ]
  },
  {
   "cell_type": "code",
   "execution_count": null,
   "id": "61e007ef-82ed-4670-9cc5-257f19212182",
   "metadata": {},
   "outputs": [],
   "source": [
    "g.bCommand('Z125')"
   ]
  },
  {
   "cell_type": "code",
   "execution_count": null,
   "id": "7a19aea5-3502-45ec-a518-47a789989b62",
   "metadata": {},
   "outputs": [],
   "source": [
    "g.go_to_vial(1)\n",
    "g.bCommand('Z85')"
   ]
  },
  {
   "cell_type": "code",
   "execution_count": 12,
   "id": "5bd0a70c-8ea3-4d18-ae4c-fcd1c91d5e64",
   "metadata": {},
   "outputs": [],
   "source": [
    "# Create an instance of the gsioc_Protocol class\n",
    "g_dim = gsioc_Protocol(ser, 'GX D Inject', 3)"
   ]
  },
  {
   "cell_type": "code",
   "execution_count": 13,
   "id": "83f2f71c-2a06-4037-b9df-211bbf742c57",
   "metadata": {},
   "outputs": [
    {
     "name": "stdout",
     "output_type": "stream",
     "text": [
      "Connected to autosampler\n"
     ]
    }
   ],
   "source": [
    "g_dim.connect()"
   ]
  },
  {
   "cell_type": "code",
   "execution_count": null,
   "id": "87ee6c1e-6a20-4f68-a18d-6262373d12af",
   "metadata": {},
   "outputs": [],
   "source": [
    "g_dim.get_device_name()"
   ]
  },
  {
   "cell_type": "code",
   "execution_count": 14,
   "id": "9f36121f-06fa-4dbd-b292-a1d96371961a",
   "metadata": {},
   "outputs": [
    {
     "data": {
      "text/plain": [
       "bytearray(b'\\nVL\\r')"
      ]
     },
     "execution_count": 14,
     "metadata": {},
     "output_type": "execute_result"
    }
   ],
   "source": [
    "g_dim.bCommand('VL')"
   ]
  },
  {
   "cell_type": "code",
   "execution_count": null,
   "id": "e0622aca-bc67-487b-a8f2-f3643c6adeba",
   "metadata": {},
   "outputs": [],
   "source": [
    "hbpump.command('cvolume')\n",
    "hbpump.command('ctvolume')\n",
    "hbpump.command('stop')"
   ]
  },
  {
   "cell_type": "code",
   "execution_count": null,
   "id": "918ae306-9a0d-4d6c-865f-c5b5babc0f3f",
   "metadata": {},
   "outputs": [],
   "source": [
    "hbpump.command('wrate 500 ul/min')"
   ]
  },
  {
   "cell_type": "markdown",
   "id": "c711e6a9-b19e-445b-a41e-dcc6b210a6cb",
   "metadata": {},
   "source": [
    "### SyrPump"
   ]
  },
  {
   "cell_type": "code",
   "execution_count": 15,
   "id": "20c4cf87-6263-4605-84ef-71bd5b651505",
   "metadata": {},
   "outputs": [],
   "source": [
    "#Defining ser_1\n",
    "PORT2 = 'COM4'\n",
    "ser_1 = serial.Serial(PORT2, 9600, 8, \"N\", 1, 0.1)"
   ]
  },
  {
   "cell_type": "code",
   "execution_count": 16,
   "id": "7f65084f-312f-4a5d-982a-6fa4a992839a",
   "metadata": {},
   "outputs": [],
   "source": [
    "# Create an instance of the gsioc_Protocol class\n",
    "hbpump = HBElite(ser_1)"
   ]
  },
  {
   "cell_type": "code",
   "execution_count": 17,
   "id": "cc50680f-a1a2-4011-99c6-81902a30d191",
   "metadata": {},
   "outputs": [
    {
     "name": "stdout",
     "output_type": "stream",
     "text": [
      "Device is connected\n"
     ]
    }
   ],
   "source": [
    "#Connecting to pump\n",
    "hbpump.connect()"
   ]
  },
  {
   "cell_type": "markdown",
   "id": "1f4dbe99-37d5-446e-8ec7-28f34dce41f0",
   "metadata": {
    "jp-MarkdownHeadingCollapsed": true
   },
   "source": [
    "### Knauer Pump"
   ]
  },
  {
   "cell_type": "code",
   "execution_count": null,
   "id": "c6363fb6-eeda-45c7-b632-27f1ba7ce8d5",
   "metadata": {},
   "outputs": [],
   "source": [
    "#Defining ser_2\n",
    "PORT3 = 'COM7'\n",
    "ser_2 = serial.Serial(PORT3, 9600, 8, \"N\", 1, 0.1)"
   ]
  },
  {
   "cell_type": "code",
   "execution_count": null,
   "id": "396c0eb2-cab1-402e-b6f0-698a3a13e110",
   "metadata": {},
   "outputs": [],
   "source": [
    "# Create an instance of the gsioc_Protocol class\n",
    "kpump = K100Pump(ser_1)"
   ]
  },
  {
   "cell_type": "code",
   "execution_count": null,
   "id": "c13a0e94-bf1a-409b-9eea-93ef1d443367",
   "metadata": {},
   "outputs": [],
   "source": [
    "kpump.connect()"
   ]
  },
  {
   "cell_type": "markdown",
   "id": "3313c5dc-8b44-429e-8ebe-892a6557cef9",
   "metadata": {
    "jp-MarkdownHeadingCollapsed": true
   },
   "source": [
    "## Try Run and Platform Setup"
   ]
  },
  {
   "cell_type": "markdown",
   "id": "b0772902-86a1-474c-9995-74aafb5c48b0",
   "metadata": {},
   "source": [
    "This seems a little complex as is, too many unneeded things bundled in run.py. Try to extract the relevant functions and start again."
   ]
  },
  {
   "cell_type": "code",
   "execution_count": null,
   "id": "df454243-fea1-4610-a02a-1d4ca0c6ea8f",
   "metadata": {},
   "outputs": [],
   "source": [
    "rack_position_offset_x=92       #distance in mm between rack_position=1 and =2 on x-axis\n",
    "rack_position_offset_y=0        #distance in mm between rack_position=1 and =2 on y-axis\n",
    "\n",
    "############################# RACK 1 DEFINITION #################################\n",
    "\n",
    "# From platform_setup.py \n",
    "rack1 = Rack([4,16], 7.5, 39.5, 18.5, 13.75, 65) # groundlevel_height assumed the minimum Z\n",
    "\n",
    "#  array_dimensions, offset_x, offset_y=offset_y, vial2vial_x, vial2vial_y, groundlevel_height\n",
    "\n",
    "# Previous vial2vialx = (2.11+15.6)\n",
    "# Previous vial2vial7 = (2.72+15.6+0.35)\n",
    "\n",
    "array_order1 = np.array([      #user is obliged to define a integer number i>=1 for each vial in the rack in ascending order \n",
    "    [1, 2, 3, 4],\n",
    "    [5, 6, 7, 8],\n",
    "    [9, 10,11,12],\n",
    "    [13,14,15,16],\n",
    "    [17,18,19,20],\n",
    "    [21,22,23,24],     \n",
    "    [25,26,27,28],     \n",
    "    [29,30,31,32],\n",
    "    [33,34,35,36],\n",
    "    [37,38,39,40],\n",
    "    [41,42,43,44],\n",
    "    [45,46,47,48],\n",
    "    [49,50,51,52],\n",
    "    [53,54,55,56],\n",
    "    [57,58,59,60],\n",
    "    [61,62,63,64]        \n",
    "    ])\n",
    "    \n",
    "rack_pos1=1\n",
    "\n",
    "global rack1_commands\n",
    "\n",
    "# Not sure what rack_position_offset_x/y are for x=92 and y=0\n",
    "\n",
    "rack1_commands = Rackcommands(rack1, array_order1, rack_pos1, rack_position_offset_x, rack_position_offset_y)\n",
    "\n",
    "global vial_selfmade\n",
    "\n",
    "vial_selfmade = Vial(1.5, 1, 33, 31.08)"
   ]
  },
  {
   "cell_type": "code",
   "execution_count": null,
   "id": "91729a43-a1fc-42c6-a7bc-d599b4e682c4",
   "metadata": {},
   "outputs": [],
   "source": [
    "# It works!\n",
    "thing = rack1_commands.get_xy_command(3)\n",
    "thing\n",
    "g.bCommand(thing[0])"
   ]
  },
  {
   "cell_type": "code",
   "execution_count": null,
   "id": "49df7c33-7676-4266-b83d-ff3fdf1093c0",
   "metadata": {},
   "outputs": [],
   "source": [
    "g.bCommand('H')"
   ]
  },
  {
   "cell_type": "markdown",
   "id": "f0a41a3e-5dd5-4dca-a40a-79a05b4f383c",
   "metadata": {},
   "source": [
    "## With syr pump"
   ]
  },
  {
   "cell_type": "markdown",
   "id": "8ae81e64-7e8e-42b3-935a-d99e5a30806e",
   "metadata": {},
   "source": [
    "#### practicing segmentation"
   ]
  },
  {
   "cell_type": "code",
   "execution_count": 24,
   "id": "94d593a9-a782-4bd2-a064-f362919fd826",
   "metadata": {},
   "outputs": [
    {
     "name": "stdout",
     "output_type": "stream",
     "text": [
      "Connected to autosampler\n",
      "Target volume reached\n",
      "Target volume reached\n",
      "Target volume set to 100 uL.\n",
      "Pump withdrawing\n",
      "Connected to autosampler\n",
      "Target volume reached\n",
      "Target volume set to 100 uL.\n",
      "Pump infusing\n",
      "Connected to autosampler\n",
      "Connected to autosampler\n"
     ]
    },
    {
     "data": {
      "text/plain": [
       "bytearray(b'\\nVL\\r')"
      ]
     },
     "execution_count": 24,
     "metadata": {},
     "output_type": "execute_result"
    }
   ],
   "source": [
    "#making plugs\n",
    "g.connect()\n",
    "g.go_to_vial(1)\n",
    "hbpump.command('wrate 500 uL/min')\n",
    "hbpump.command('ctvolume')\n",
    "hbpump.command('cvolume')\n",
    "hbpump.set_tvolume('100 uL')\n",
    "hbpump.withdraw()\n",
    "time.sleep(60 * (100 / 500))\n",
    "g.go_to_dim()\n",
    "g_dim.connect()\n",
    "hbpump.command('ctvolume')\n",
    "hbpump.command('cvolume')\n",
    "hbpump.set_tvolume('100 uL')\n",
    "hbpump.infuse()\n",
    "time.sleep(60 * (100 / 500))\n",
    "g_dim.bCommand('VI')\n",
    "g.connect()\n",
    "g.go_to_home()\n",
    "time.sleep(60)\n",
    "g_dim.connect()\n",
    "g_dim.bCommand('VL')"
   ]
  },
  {
   "cell_type": "code",
   "execution_count": null,
   "id": "fe6849cd-8195-4137-907f-b76c5e2d56f9",
   "metadata": {},
   "outputs": [
    {
     "name": "stdout",
     "output_type": "stream",
     "text": [
      "Target volume reached\n",
      "Target volume reached\n",
      "Target volume reached\n",
      "on run 1\n",
      "Connected to autosampler\n",
      "Target volume set to 100 uL.\n",
      "Pump withdrawing\n",
      "Connected to autosampler\n",
      "Target volume reached\n",
      "Target volume set to 100 uL.\n",
      "Pump infusing\n",
      "Connected to autosampler\n",
      "Connected to autosampler\n",
      "on run 2\n",
      "Connected to autosampler\n",
      "Target volume reached\n",
      "Target volume set to 100 uL.\n",
      "Pump withdrawing\n",
      "Connected to autosampler\n",
      "Target volume reached\n",
      "Target volume set to 100 uL.\n",
      "Pump infusing\n",
      "Connected to autosampler\n",
      "Connected to autosampler\n",
      "on run 3\n",
      "Connected to autosampler\n",
      "Target volume reached\n",
      "Target volume set to 100 uL.\n",
      "Pump withdrawing\n",
      "Connected to autosampler\n",
      "Target volume reached\n",
      "Target volume set to 100 uL.\n",
      "Pump infusing\n",
      "Connected to autosampler\n",
      "Connected to autosampler\n",
      "on run 4\n",
      "Connected to autosampler\n",
      "Target volume reached\n",
      "Target volume set to 100 uL.\n",
      "Pump withdrawing\n",
      "Connected to autosampler\n",
      "Target volume reached\n",
      "Target volume set to 100 uL.\n",
      "Pump infusing\n",
      "Connected to autosampler\n",
      "Connected to autosampler\n",
      "on run 5\n",
      "Connected to autosampler\n",
      "Target volume reached\n",
      "Target volume set to 100 uL.\n",
      "Pump withdrawing\n",
      "Connected to autosampler\n",
      "Target volume reached\n",
      "Target volume set to 100 uL.\n",
      "Pump infusing\n",
      "Connected to autosampler\n",
      "Connected to autosampler\n",
      "on run 6\n",
      "Connected to autosampler\n",
      "Target volume reached\n",
      "Target volume set to 100 uL.\n",
      "Pump withdrawing\n",
      "Connected to autosampler\n",
      "Target volume reached\n",
      "Target volume set to 100 uL.\n",
      "Pump infusing\n",
      "Connected to autosampler\n",
      "Connected to autosampler\n",
      "on run 7\n",
      "Connected to autosampler\n",
      "Target volume reached\n",
      "Target volume set to 100 uL.\n",
      "Pump withdrawing\n",
      "Connected to autosampler\n",
      "Target volume reached\n",
      "Target volume set to 100 uL.\n",
      "Pump infusing\n",
      "Connected to autosampler\n",
      "Connected to autosampler\n",
      "on run 8\n",
      "Connected to autosampler\n",
      "Target volume reached\n",
      "Target volume set to 100 uL.\n",
      "Pump withdrawing\n",
      "Connected to autosampler\n",
      "Target volume reached\n",
      "Target volume set to 100 uL.\n",
      "Pump infusing\n",
      "Connected to autosampler\n",
      "Connected to autosampler\n",
      "on run 9\n",
      "Connected to autosampler\n",
      "Target volume reached\n",
      "Target volume set to 100 uL.\n",
      "Pump withdrawing\n",
      "Connected to autosampler\n",
      "Target volume reached\n",
      "Target volume set to 100 uL.\n",
      "Pump infusing\n",
      "Connected to autosampler\n",
      "Connected to autosampler\n",
      "on run 10\n",
      "Connected to autosampler\n",
      "Target volume reached\n",
      "Target volume set to 100 uL.\n",
      "Pump withdrawing\n",
      "Connected to autosampler\n",
      "Target volume reached\n",
      "Target volume set to 100 uL.\n",
      "Pump infusing\n",
      "Connected to autosampler\n",
      "Connected to autosampler\n",
      "on run 11\n",
      "Connected to autosampler\n",
      "Target volume reached\n",
      "Target volume set to 100 uL.\n",
      "Pump withdrawing\n",
      "Connected to autosampler\n",
      "Target volume reached\n",
      "Target volume set to 100 uL.\n",
      "Pump infusing\n",
      "Connected to autosampler\n",
      "Connected to autosampler\n",
      "on run 12\n",
      "Connected to autosampler\n",
      "Target volume reached\n",
      "Target volume set to 100 uL.\n",
      "Pump withdrawing\n",
      "Connected to autosampler\n",
      "Target volume reached\n",
      "Target volume set to 100 uL.\n",
      "Pump infusing\n",
      "Connected to autosampler\n",
      "Connected to autosampler\n",
      "on run 13\n",
      "Connected to autosampler\n",
      "Target volume reached\n",
      "Target volume set to 100 uL.\n",
      "Pump withdrawing\n",
      "Connected to autosampler\n",
      "Target volume reached\n",
      "Target volume set to 100 uL.\n",
      "Pump infusing\n",
      "Connected to autosampler\n",
      "Connected to autosampler\n",
      "on run 14\n",
      "Connected to autosampler\n",
      "Target volume reached\n",
      "Target volume set to 100 uL.\n",
      "Pump withdrawing\n",
      "Connected to autosampler\n",
      "Target volume reached\n",
      "Target volume set to 100 uL.\n",
      "Pump infusing\n",
      "Connected to autosampler\n",
      "Connected to autosampler\n",
      "on run 15\n",
      "Connected to autosampler\n",
      "Target volume reached\n",
      "Target volume set to 100 uL.\n",
      "Pump withdrawing\n",
      "Connected to autosampler\n",
      "Target volume reached\n",
      "Target volume set to 100 uL.\n",
      "Pump infusing\n",
      "Connected to autosampler\n",
      "Connected to autosampler\n",
      "on run 16\n",
      "Connected to autosampler\n",
      "Target volume reached\n",
      "Target volume set to 100 uL.\n",
      "Pump withdrawing\n",
      "Connected to autosampler\n",
      "Target volume reached\n",
      "Target volume set to 100 uL.\n",
      "Pump infusing\n",
      "Connected to autosampler\n",
      "Connected to autosampler\n",
      "on run 17\n",
      "Connected to autosampler\n",
      "Target volume reached\n",
      "Target volume set to 100 uL.\n",
      "Pump withdrawing\n",
      "Connected to autosampler\n",
      "Target volume reached\n",
      "Target volume set to 100 uL.\n",
      "Pump infusing\n",
      "Connected to autosampler\n",
      "Connected to autosampler\n",
      "on run 18\n",
      "Connected to autosampler\n",
      "Target volume reached\n",
      "Target volume set to 100 uL.\n",
      "Pump withdrawing\n",
      "Connected to autosampler\n",
      "Target volume reached\n",
      "Target volume set to 100 uL.\n",
      "Pump infusing\n",
      "Connected to autosampler\n",
      "Connected to autosampler\n",
      "on run 21\n",
      "Connected to autosampler\n",
      "Target volume reached\n",
      "Target volume set to 100 uL.\n",
      "Pump withdrawing\n",
      "Connected to autosampler\n",
      "Target volume reached\n",
      "Target volume set to 100 uL.\n",
      "Pump infusing\n",
      "Connected to autosampler\n",
      "Connected to autosampler\n",
      "on run 22\n",
      "Connected to autosampler\n",
      "Target volume reached\n",
      "Target volume set to 100 uL.\n",
      "Pump withdrawing\n",
      "Connected to autosampler\n",
      "Target volume reached\n",
      "Target volume set to 100 uL.\n",
      "Pump infusing\n",
      "Connected to autosampler\n",
      "Connected to autosampler\n",
      "on run 23\n",
      "Connected to autosampler\n",
      "Target volume reached\n",
      "Target volume set to 100 uL.\n",
      "Pump withdrawing\n",
      "Connected to autosampler\n",
      "Target volume reached\n",
      "Target volume set to 100 uL.\n",
      "Pump infusing\n",
      "Connected to autosampler\n",
      "Connected to autosampler\n",
      "on run 24\n",
      "Connected to autosampler\n",
      "Target volume reached\n",
      "Target volume set to 100 uL.\n",
      "Pump withdrawing\n",
      "Connected to autosampler\n",
      "Target volume reached\n",
      "Target volume set to 100 uL.\n",
      "Pump infusing\n",
      "Connected to autosampler\n",
      "Connected to autosampler\n",
      "on run 25\n",
      "Connected to autosampler\n",
      "Target volume reached\n",
      "Target volume set to 100 uL.\n",
      "Pump withdrawing\n",
      "Connected to autosampler\n",
      "Target volume reached\n",
      "Target volume set to 100 uL.\n",
      "Pump infusing\n",
      "Connected to autosampler\n",
      "Connected to autosampler\n",
      "on run 26\n",
      "Connected to autosampler\n",
      "Target volume reached\n",
      "Target volume set to 100 uL.\n",
      "Pump withdrawing\n",
      "Connected to autosampler\n",
      "Target volume reached\n",
      "Target volume set to 100 uL.\n",
      "Pump infusing\n",
      "Connected to autosampler\n",
      "Connected to autosampler\n",
      "on run 27\n",
      "Connected to autosampler\n",
      "Target volume reached\n",
      "Target volume set to 100 uL.\n",
      "Pump withdrawing\n",
      "Connected to autosampler\n",
      "Target volume reached\n",
      "Target volume set to 100 uL.\n",
      "Pump infusing\n",
      "Connected to autosampler\n",
      "Connected to autosampler\n",
      "on run 28\n",
      "Connected to autosampler\n",
      "Target volume reached\n",
      "Target volume set to 100 uL.\n",
      "Pump withdrawing\n",
      "Connected to autosampler\n",
      "Target volume reached\n",
      "Target volume set to 100 uL.\n",
      "Pump infusing\n",
      "Connected to autosampler\n",
      "Connected to autosampler\n",
      "on run 29\n",
      "Connected to autosampler\n",
      "Target volume reached\n",
      "Target volume set to 100 uL.\n",
      "Pump withdrawing\n",
      "Connected to autosampler\n",
      "Target volume reached\n",
      "Target volume set to 100 uL.\n",
      "Pump infusing\n",
      "Connected to autosampler\n",
      "Connected to autosampler\n",
      "on run 30\n",
      "Connected to autosampler\n",
      "Target volume reached\n",
      "Target volume set to 100 uL.\n",
      "Pump withdrawing\n",
      "Connected to autosampler\n",
      "Target volume reached\n",
      "Target volume set to 100 uL.\n",
      "Pump infusing\n",
      "Connected to autosampler\n"
     ]
    }
   ],
   "source": [
    "hbpump.command('wrate 50 uL/min')\n",
    "hbpump.command('irate 1000 uL/min')\n",
    "\n",
    "for _ in range(5):\n",
    "    print(f\"on run {_+1}\")\n",
    "    g.connect()\n",
    "    g.go_to_vial(1)\n",
    "    hbpump.command('ctvolume')\n",
    "    hbpump.command('cvolume')\n",
    "    hbpump.set_tvolume('100 uL')\n",
    "    hbpump.withdraw()\n",
    "    time.sleep(60 * (115 / 50))\n",
    "    g.go_to_dim()\n",
    "    g_dim.connect()\n",
    "    hbpump.command('ctvolume')\n",
    "    hbpump.command('cvolume')\n",
    "    hbpump.set_tvolume('100 uL')\n",
    "    hbpump.infuse()\n",
    "    time.sleep(60 * (300 / 1000))\n",
    "    g_dim.bCommand('VI')\n",
    "    g.connect()\n",
    "    g.go_to_home()\n",
    "    time.sleep(30)\n",
    "    g_dim.connect()\n",
    "    g_dim.bCommand('VL')\n",
    "\n",
    "for _ in range(5):\n",
    "    print(f\"on run {_+6}\")\n",
    "    g.connect()\n",
    "    g.go_to_vial(2)\n",
    "    hbpump.command('ctvolume')\n",
    "    hbpump.command('cvolume')\n",
    "    hbpump.set_tvolume('100 uL')\n",
    "    hbpump.withdraw()\n",
    "    time.sleep(60 * (115 / 50))\n",
    "    g.go_to_dim()\n",
    "    g_dim.connect()\n",
    "    hbpump.command('ctvolume')\n",
    "    hbpump.command('cvolume')\n",
    "    hbpump.set_tvolume('100 uL')\n",
    "    hbpump.infuse()\n",
    "    time.sleep(60 * (300 / 1000))\n",
    "    g_dim.bCommand('VI')\n",
    "    g.connect()\n",
    "    g.go_to_home()\n",
    "    time.sleep(30)\n",
    "    g_dim.connect()\n",
    "    g_dim.bCommand('VL')\n",
    "\n",
    "for _ in range(5):\n",
    "    print(f\"on run {_+11}\")\n",
    "    g.connect()\n",
    "    g.go_to_vial(3)\n",
    "    hbpump.command('ctvolume')\n",
    "    hbpump.command('cvolume')\n",
    "    hbpump.set_tvolume('100 uL')\n",
    "    hbpump.withdraw()\n",
    "    time.sleep(60 * (115 / 50))\n",
    "    g.go_to_dim()\n",
    "    g_dim.connect()\n",
    "    hbpump.command('ctvolume')\n",
    "    hbpump.command('cvolume')\n",
    "    hbpump.set_tvolume('100 uL')\n",
    "    hbpump.infuse()\n",
    "    time.sleep(60 * (300 / 1000))\n",
    "    g_dim.bCommand('VI')\n",
    "    g.connect()\n",
    "    g.go_to_home()\n",
    "    time.sleep(30)\n",
    "    g_dim.connect()\n",
    "    g_dim.bCommand('VL')\n",
    "\n",
    "for _ in range(3):\n",
    "    print(f\"on run {_+16}\")\n",
    "    g.connect()\n",
    "    g.go_to_vial(4)\n",
    "    hbpump.command('ctvolume')\n",
    "    hbpump.command('cvolume')\n",
    "    hbpump.set_tvolume('100 uL')\n",
    "    hbpump.withdraw()\n",
    "    time.sleep(60 * (115 / 50))\n",
    "    g.go_to_dim()\n",
    "    g_dim.connect()\n",
    "    hbpump.command('ctvolume')\n",
    "    hbpump.command('cvolume')\n",
    "    hbpump.set_tvolume('100 uL')\n",
    "    hbpump.infuse()\n",
    "    time.sleep(60 * (300 / 1000))\n",
    "    g_dim.bCommand('VI')\n",
    "    g.connect()\n",
    "    g.go_to_home()\n",
    "    time.sleep(30)\n",
    "    g_dim.connect()\n",
    "    g_dim.bCommand('VL')\n",
    "\n",
    "for _ in range(5):\n",
    "    print(f\"on run {_+21}\")\n",
    "    g.connect()\n",
    "    g.go_to_vial(5)\n",
    "    hbpump.command('ctvolume')\n",
    "    hbpump.command('cvolume')\n",
    "    hbpump.set_tvolume('100 uL')\n",
    "    hbpump.withdraw()\n",
    "    time.sleep(60 * (115 / 50))\n",
    "    g.go_to_dim()\n",
    "    g_dim.connect()\n",
    "    hbpump.command('ctvolume')\n",
    "    hbpump.command('cvolume')\n",
    "    hbpump.set_tvolume('100 uL')\n",
    "    hbpump.infuse()\n",
    "    time.sleep(60 * (300 / 1000))\n",
    "    g_dim.bCommand('VI')\n",
    "    g.connect()\n",
    "    g.go_to_home()\n",
    "    time.sleep(30)\n",
    "    g_dim.connect()\n",
    "    g_dim.bCommand('VL')\n",
    "\n",
    "for _ in range(7):\n",
    "    print(f\"on run {_+26}\")\n",
    "    g.connect()\n",
    "    g.go_to_vial(6)\n",
    "    hbpump.command('ctvolume')\n",
    "    hbpump.command('cvolume')\n",
    "    hbpump.set_tvolume('100 uL')\n",
    "    hbpump.withdraw()\n",
    "    time.sleep(60 * (115 / 50))\n",
    "    g.go_to_dim()\n",
    "    g_dim.connect()\n",
    "    hbpump.command('ctvolume')\n",
    "    hbpump.command('cvolume')\n",
    "    hbpump.set_tvolume('100 uL')\n",
    "    hbpump.infuse()\n",
    "    time.sleep(60 * (300 / 1000))\n",
    "    g_dim.bCommand('VI')\n",
    "    g.connect()\n",
    "    g.go_to_home()\n",
    "    time.sleep(30)\n",
    "    g_dim.connect()\n",
    "    g_dim.bCommand('VL')"
   ]
  },
  {
   "cell_type": "code",
   "execution_count": 19,
   "id": "04144c4a-a4fd-4a1c-9e01-4e20fb3e53aa",
   "metadata": {},
   "outputs": [
    {
     "name": "stdout",
     "output_type": "stream",
     "text": [
      "Connected to autosampler\n"
     ]
    },
    {
     "data": {
      "text/plain": [
       "bytearray(b'\\nVL\\r')"
      ]
     },
     "execution_count": 19,
     "metadata": {},
     "output_type": "execute_result"
    }
   ],
   "source": [
    "g_dim.connect()\n",
    "g_dim.bCommand('VL')"
   ]
  },
  {
   "cell_type": "code",
   "execution_count": null,
   "id": "b2ee552b-f9df-41cd-8706-0acb13f8d5f6",
   "metadata": {},
   "outputs": [],
   "source": [
    "# for _ in range(1):\n",
    "    print(f\"on run {_+1}\")\n",
    "    g.connect()\n",
    "    g.go_to_solvent()\n",
    "    hbpump.command('wrate 50 uL/min')\n",
    "    hbpump.command('irate 1000 uL/min')\n",
    "    hbpump.command('ctvolume')\n",
    "    hbpump.command('cvolume')\n",
    "    hbpump.set_tvolume('80 uL')\n",
    "    hbpump.withdraw()\n",
    "    time.sleep(60 * (90 / 50))\n",
    "    g.go_to_vial(1)\n",
    "    hbpump.command('ctvolume')\n",
    "    hbpump.command('cvolume')\n",
    "    hbpump.set_tvolume('20 uL')\n",
    "    hbpump.withdraw()\n",
    "    time.sleep(60 * (25 / 50))\n",
    "    g.go_to_dim()\n",
    "    g_dim.connect()\n",
    "    hbpump.command('ctvolume')\n",
    "    hbpump.command('cvolume')\n",
    "    hbpump.set_tvolume('100 uL')\n",
    "    hbpump.infuse()\n",
    "    time.sleep(60 * (400 / 1000))\n",
    "    g_dim.bCommand('VI')\n",
    "    g.connect()\n",
    "    g.go_to_home()\n",
    "    time.sleep(90)\n",
    "    g_dim.connect()\n",
    "    g_dim.bCommand('VL')"
   ]
  },
  {
   "cell_type": "code",
   "execution_count": null,
   "id": "aecda7f2-4241-4995-a59a-d915ba4f4067",
   "metadata": {},
   "outputs": [],
   "source": [
    "hbpump.command('ctvolume')\n",
    "hbpump.command('cvolume')\n",
    "hbpump.command('stop')"
   ]
  },
  {
   "cell_type": "code",
   "execution_count": null,
   "id": "021fae92-7c78-4a75-8a84-5a67e3300ed9",
   "metadata": {},
   "outputs": [],
   "source": [
    "g.connect()\n",
    "g.go_to_home()"
   ]
  },
  {
   "cell_type": "code",
   "execution_count": null,
   "id": "b299052f-82c2-4623-b814-2df43e846014",
   "metadata": {},
   "outputs": [],
   "source": [
    "hbpump.command('wrate 2000 uL/min')"
   ]
  },
  {
   "cell_type": "code",
   "execution_count": null,
   "id": "0125902d-942b-4854-a558-07240ca1906d",
   "metadata": {},
   "outputs": [],
   "source": [
    "hbpump.command('stop')"
   ]
  },
  {
   "cell_type": "code",
   "execution_count": null,
   "id": "1a1e6a1e-0ad1-41aa-ad37-e5c0ff0287d7",
   "metadata": {},
   "outputs": [],
   "source": [
    "g_dim.connect()\n",
    "g_dim.bCommand('VI')"
   ]
  },
  {
   "cell_type": "code",
   "execution_count": null,
   "id": "1f329403-98f5-45f5-a3e7-8bc1447671b7",
   "metadata": {},
   "outputs": [],
   "source": [
    "g.connect()\n",
    "g.go_to_home()"
   ]
  },
  {
   "cell_type": "code",
   "execution_count": null,
   "id": "4cac6891-17d7-49b1-89df-7e421923268f",
   "metadata": {},
   "outputs": [],
   "source": [
    "g.bCommand('Z70')"
   ]
  },
  {
   "cell_type": "markdown",
   "id": "4fc98a09-2d8c-45ef-a73f-22efa90d99f2",
   "metadata": {
    "jp-MarkdownHeadingCollapsed": true
   },
   "source": [
    "# Preparing Reaction Plugs"
   ]
  },
  {
   "cell_type": "code",
   "execution_count": null,
   "id": "a3f0644e-9932-4a31-947f-4cb603135ddb",
   "metadata": {},
   "outputs": [],
   "source": [
    "# Define kinetic screen\n",
    "no_sub_A = 2      # First Column\n",
    "no_sub_B = 2      # Second Column\n",
    "no_cat = 2        # Third Column\n",
    "no_add = 2        # Fourth Column\n",
    "\n",
    "# Create lists for each\n",
    "sub_A_list = [1 + 4 * i for i in range(no_sub_A)]\n",
    "sub_B_list = [2 + 4 * i for i in range(no_sub_B)] if no_sub_B > 0 else []\n",
    "cat_list = [3 + 4 * i for i in range(no_cat)] if no_cat > 0 else []\n",
    "add_list = [4 + 4 * i for i in range(no_add)] if no_add > 0 else []\n",
    "\n",
    "#print(sub_A_array, sub_B_array, cat_array)"
   ]
  },
  {
   "cell_type": "code",
   "execution_count": null,
   "id": "481ec238-41cd-48d4-afce-26f30b23cd6a",
   "metadata": {},
   "outputs": [],
   "source": [
    "# Generate all possible combinations\n",
    "all_combinations = list(itertools.product(sub_A_list, sub_B_list, cat_list, add_list))\n",
    "\n",
    "# Reorder combinations so that all combinations with the same elements\n",
    "# in sub_B_array and cat_array are grouped together\n",
    "spka_combinations = []\n",
    "\n",
    "# Iterate through all unique combinations of sub_B_array and cat_array\n",
    "# This will go through all sub_A first, then sub_B, then cat\n",
    "for a in sub_A_list:\n",
    "    if sub_B_list:\n",
    "        for b in sub_B_list:\n",
    "            if cat_list:  # Check if cat_list is not empty\n",
    "                for c in cat_list:\n",
    "                    if add_list:  # Only include d if add_list is not empty\n",
    "                        for d in add_list:\n",
    "                            spka_combinations.append((a, b, c, d))\n",
    "                    else:\n",
    "                        spka_combinations.append((a, b, c))  # Append without d\n",
    "            else:  # If cat_list is empty\n",
    "                if add_list:\n",
    "                    for d in add_list:\n",
    "                        spka_combinations.append((a, b, d))  # Append without c\n",
    "                else:\n",
    "                    spka_combinations.append((a, b))  # Append only a and b\n",
    "    else:  # If sub_B_list is empty\n",
    "        if cat_list:\n",
    "            for c in cat_list:\n",
    "                if add_list:\n",
    "                    for d in add_list:\n",
    "                        spka_combinations.append((a, c, d))  # Append without b\n",
    "                else:\n",
    "                    spka_combinations.append((a, c))  # Append only a and c\n",
    "        else:  # If both sub_B_list and cat_list are empty\n",
    "            if add_list:\n",
    "                for d in add_list:\n",
    "                    spka_combinations.append((a, d))  # Append only a and d\n",
    "            else:\n",
    "                spka_combinations.append((a,))  # Append only a\n",
    "\n",
    "# Display the combinations\n",
    "spka_combinations"
   ]
  },
  {
   "cell_type": "code",
   "execution_count": null,
   "id": "2b4c872e-9362-4ed0-9492-0abb68ac4a55",
   "metadata": {},
   "outputs": [],
   "source": [
    "# Iterate over each tuple in the list (each separate kinetic profile)\n",
    "for profile in spka_combinations:\n",
    "    \n",
    "    # Iterate over each number in the tuple (each reagent in an experiment)\n",
    "    for vial in profile:\n",
    "        \n",
    "        # Display vial number - must be a two digit integer\n",
    "        g.bCommand(f\"W{vial:02}\")\n",
    "        \n",
    "        # Go to Vial\n",
    "        g.go_to_vial(vial)\n",
    "        log_action('device_log.txt', f\"Autosampler sent to position {vial:02}\")\n",
    "        \n",
    "        # Needle Down - define this distance somewhere above!\n",
    "        g.bCommand('Z85')\n",
    "\n",
    "        #HBElite to withdraw\n",
    "\n",
    "\n",
    "        \n",
    "        # Run the pump\n",
    "        # This will be a while away...\n",
    "        # How to make the autosampler idle while this is happening?\n",
    "\n",
    "        # Needle Up\n",
    "        g.bCommand('Z120')\n",
    "\n",
    "        # Log the vial and the amount taken\n",
    "        log_action('device_log.txt', f\"{vol} taken from position {vial:02}\")\n",
    "\n",
    "        # Create air gap\n",
    "\n",
    "        # Create a tiny airgap with the pump, will this be necessary?\n",
    "\n",
    "    \n",
    "    # Go to the DIM and inject\n",
    "    g_inject()\n",
    "    log_action('device_log.txt', \"Autosampler sent to DIM to inject\")\n",
    "    \n",
    "    # Blank the display\n",
    "    g.bCommand('WBB')\n",
    "\n",
    "log_action('device_log.txt', \"Reaction plug preparation complete\")\n",
    "\n",
    "g.bCommand('H')\n",
    "log_action('device_log.txt', \"Autosampler sent to home position\")"
   ]
  },
  {
   "cell_type": "markdown",
   "id": "9b4690f2-5adf-4474-9c45-e740f90cce21",
   "metadata": {},
   "source": [
    "# Syringe Pump Validation"
   ]
  },
  {
   "cell_type": "code",
   "execution_count": null,
   "id": "69d77155-ccb2-419a-8597-9c18a0ef861b",
   "metadata": {},
   "outputs": [],
   "source": [
    "#need to make up solution of x concentration of BnOH in MeCN"
   ]
  },
  {
   "cell_type": "markdown",
   "id": "5531c4c5-28a7-4815-bd10-ca1b883ba4a8",
   "metadata": {
    "jp-MarkdownHeadingCollapsed": true
   },
   "source": [
    "### mixing tests"
   ]
  },
  {
   "cell_type": "code",
   "execution_count": null,
   "id": "001edba9-6481-4358-a157-07d67ca3058d",
   "metadata": {},
   "outputs": [],
   "source": [
    "sol_volumes = [10, 15, 20, 25, 30, 35, 40, 45, 50, 55, 60, 65, 70]\n",
    "\n",
    "for volume in sol_volumes:\n",
    "    #go to blank solvent bottle\n",
    "    g.connect()\n",
    "    g.go_to_solvent()\n",
    "    hbpump.command('wrate 50 uL/min')\n",
    "    hbpump.command('ctvolume')\n",
    "    hbpump.command('cvolume')\n",
    "    hbpump.set_tvolume('10 uL')\n",
    "    hbpump.withdraw()\n",
    "    time.sleep(60 * (10 / 50))\n",
    "    g.go_to_vial(1)\n",
    "    g.bCommand('Z85')\n",
    "    hbpump.command('ctvolume')\n",
    "    hbpump.command('cvolume')\n",
    "    hbpump.set_tvolume('20 uL')\n",
    "    hbpump.withdraw()\n",
    "    time.sleep(60 * (20 / 50))\n",
    "    g.go_to_solvent()\n",
    "    hbpump.command('ctvolume')\n",
    "    hbpump.command('cvolume')\n",
    "    hbpump.set_tvolume(f'volume uL')\n",
    "    hbpump.withdraw()\n",
    "    time.sleep(60 * (volume / 50))\n",
    "    g.go_to_dim()\n",
    "    g.bCommand('Z90:10')\n",
    "    g_dim.connect()\n",
    "    hbpump.command('ctvolume')\n",
    "    hbpump.command('cvolume')\n",
    "    infuse_vol = 10 + 20 + volume\n",
    "    hbpump.set_tvolume(f'infuse_vol uL')\n",
    "    hbpump.infuse()\n",
    "    time.sleep(60 * (infuse_vol / 500))\n",
    "    g_dim.bCommand('VI')\n",
    "    g.connect()\n",
    "    g.go_to_home()\n",
    "    time.sleep(3)\n",
    "    g_dim.connect()\n",
    "    g_dim.bCommand('VL')"
   ]
  },
  {
   "cell_type": "code",
   "execution_count": null,
   "id": "08c09d62-a0e8-4915-8587-7b7dea53174d",
   "metadata": {},
   "outputs": [],
   "source": [
    "g.connect()"
   ]
  },
  {
   "cell_type": "code",
   "execution_count": null,
   "id": "f0e13ee8-6abd-4c89-806b-8dd7d9f4dc6c",
   "metadata": {},
   "outputs": [],
   "source": [
    "g.go_to_home()"
   ]
  },
  {
   "cell_type": "code",
   "execution_count": null,
   "id": "59410786-706b-4ac7-947c-397c078aef83",
   "metadata": {},
   "outputs": [],
   "source": []
  },
  {
   "cell_type": "markdown",
   "id": "5a221dbd-a4b1-49d8-a7ed-b387e08f3252",
   "metadata": {
    "jp-MarkdownHeadingCollapsed": true
   },
   "source": [
    "### taking set amounts"
   ]
  },
  {
   "cell_type": "code",
   "execution_count": null,
   "id": "30b50405-b884-4eb1-8eb5-ddcc02a202ce",
   "metadata": {},
   "outputs": [],
   "source": [
    "#for loop probably the ebst way to go\n",
    "\n",
    "volumes_1 = {20:1, 40:2, 60:3, 80:4, 100:5, 120:6}\n",
    "#max flow rate is 132.6 ul/min for 50 uL syringe\n",
    "#max flow rate is  381.9 ul/min for 100 ul syringe\n",
    "#for 1000ul syringe max flow is 2.654 ml/min\n",
    "\n",
    "hbpump.command('irate 1000 ul/min')#\n",
    "hbpump.command('wrate 200 ul/min')\n",
    "\n",
    "for volume, vial in volumes_1.items():\n",
    "    #go to the stock sol vial\n",
    "    g.go_to_vial(8)\n",
    "    print('At stock solution vial.')\n",
    "    g.bCommand('Z85')\n",
    "    \n",
    "    #syr pump withdraw\n",
    "    hbpump.set_tvolume(f'{volume} ul') # need to work out somewhere a set volume\n",
    "    hbpump.withdraw()\n",
    "    time.sleep(60 * (volume / 200))\n",
    "    #need to put a sleep to make code wait for withdrawal before next step\n",
    "    hbpump.clear_volume()\n",
    "\n",
    "    #for needle to go up\n",
    "    g.bCommand('Z125')\n",
    "    \n",
    "    #go to vial\n",
    "    g.go_to_vial(vial)\n",
    "    g.bCommand('Z85')\n",
    "    print(f'At vial {vial}.')\n",
    "\n",
    "    #syr pump infuse\n",
    "    hbpump.set_tvolume(f'{volume} ul') # need to work out somewhere a set volume\n",
    "    hbpump.infuse()\n",
    "    print(f'Infusing {volume} uL')\n",
    "    time.sleep(60 * (volume / 1000))\n",
    "    #need to put a sleep to make code wait for withdrawal before next step\n",
    "    hbpump.clear_volume()\n",
    "\n",
    "    #for needle to go up down up\n",
    "    g.bCommand('Z125')\n",
    "    g.bCommand('Z85')\n",
    "    g.bCommand('Z125')\n",
    "\n",
    "    #a blank vial for to clean the needle\n",
    "    g.go_to_vial(7)\n",
    "    g.bCommand('Z85')\n",
    "    g.bCommand('Z125')\n",
    "    g.bCommand('Z85')\n",
    "    g.bCommand('Z125')\n",
    "    \n",
    "g.go_to_home()\n"
   ]
  },
  {
   "cell_type": "code",
   "execution_count": null,
   "id": "4e5ba4c7-1c2a-4c65-b176-98a3893e56b8",
   "metadata": {},
   "outputs": [],
   "source": [
    "#for loop probably the ebst way to go\n",
    "\n",
    "volumes_1 = {10:1, 25:2, 50:3, 100:4}\n",
    "#max flow rate is 132.6 ul/min for 50 uL syringe\n",
    "#max flow rate is  381.9 ul/min for 100 ul syringe\n",
    "#for 1000ul syringe max flow is 2.654 ml/min\n",
    "\n",
    "hbpump.command('irate 100 ul/min')\n",
    "hbpump.command('wrate 100 ul/min')\n",
    "\n",
    "irate = 100\n",
    "wrate = 100\n",
    "\n",
    "for volume, vial in volumes_1.items():\n",
    "    #go to the stock sol vial\n",
    "    g.go_to_vial(8)\n",
    "    g.bCommand('Z85')\n",
    "    \n",
    "    #syr pump withdraw\n",
    "    hbpump.set_tvolume(f'{volume} ul') # need to work out somewhere a set volume\n",
    "    hbpump.withdraw()\n",
    "    time.sleep(60 * (volume / wrate))\n",
    "    #need to put a sleep to make code wait for withdrawal before next step\n",
    "    hbpump.clear_volume()\n",
    "\n",
    "    #for needle to go up\n",
    "    g.bCommand('Z125')\n",
    "    \n",
    "    #go to vial\n",
    "    g.go_to_vial(vial)\n",
    "    g.bCommand('Z85')\n",
    "    print(f'At vial {vial}.')\n",
    "\n",
    "    #syr pump infuse\n",
    "    hbpump.set_tvolume(f'{volume} ul') # need to work out somewhere a set volume\n",
    "    hbpump.infuse()\n",
    "    time.sleep(60 * (volume / irate))\n",
    "    #need to put a sleep to make code wait for withdrawal before next step\n",
    "    hbpump.clear_volume()\n",
    "\n",
    "    #for needle to go up down up\n",
    "    g.bCommand('Z125')\n",
    "    g.bCommand('Z85')\n",
    "    g.bCommand('Z125')\n",
    "\n",
    "    \n",
    "g.go_to_home()\n",
    "\n",
    "\n",
    "volumes_2 = {10:9, 25:10, 50:11, 100:12}\n",
    "\n",
    "for volume, vial in volumes_2.items():\n",
    "    #go to the stock sol vial\n",
    "    g.go_to_vial(16)\n",
    "    g.bCommand('Z85')\n",
    "    \n",
    "    #syr pump withdraw\n",
    "    hbpump.set_tvolume(f'{volume} ul') # need to work out somewhere a set volume\n",
    "    hbpump.withdraw()\n",
    "    time.sleep(60 * (volume / wrate))\n",
    "    #need to put a sleep to make code wait for withdrawal before next step\n",
    "    hbpump.clear_volume()\n",
    "\n",
    "    #for needle to go up\n",
    "    g.bCommand('Z125')\n",
    "    \n",
    "    #go to vial\n",
    "    g.go_to_vial(vial)\n",
    "    g.bCommand('Z85')\n",
    "    print(f'At vial {vial}.')\n",
    "\n",
    "    #syr pump infuse\n",
    "    hbpump.set_tvolume(f'{volume} ul') # need to work out somewhere a set volume\n",
    "    hbpump.infuse()\n",
    "    time.sleep(60 * (volume / irate))\n",
    "    #need to put a sleep to make code wait for withdrawal before next step\n",
    "    hbpump.clear_volume()\n",
    "\n",
    "    #for needle to go up down up\n",
    "    g.bCommand('Z125')\n",
    "    g.bCommand('Z85')\n",
    "    g.bCommand('Z125')\n",
    "\n",
    "\n",
    "g.go_to_home()\n",
    "\n",
    "volumes_3 = {10:17, 25:18, 50:19, 100:20}\n",
    "\n",
    "for volume, vial in volumes_3.items():\n",
    "    #go to the stock sol vial\n",
    "    g.go_to_vial(24)\n",
    "    g.bCommand('Z85')\n",
    "    \n",
    "    #syr pump withdraw\n",
    "    hbpump.set_tvolume(f'{volume} ul') # need to work out somewhere a set volume\n",
    "    hbpump.withdraw()\n",
    "    time.sleep(60 * (volume / wrate))\n",
    "    #need to put a sleep to make code wait for withdrawal before next step\n",
    "    hbpump.clear_volume()\n",
    "\n",
    "    #for needle to go up\n",
    "    g.bCommand('Z125')\n",
    "    \n",
    "    #go to vial\n",
    "    g.go_to_vial(vial)\n",
    "    g.bCommand('Z85')\n",
    "    print(f'At vial {vial}.')\n",
    "\n",
    "    #syr pump infuse\n",
    "    hbpump.set_tvolume(f'{volume} ul') # need to work out somewhere a set volume\n",
    "    hbpump.infuse()\n",
    "    time.sleep(60 * (volume / irate))\n",
    "    #need to put a sleep to make code wait for withdrawal before next step\n",
    "    hbpump.clear_volume()\n",
    "\n",
    "    #for needle to go up down up\n",
    "    g.bCommand('Z125')\n",
    "    g.bCommand('Z85')\n",
    "    g.bCommand('Z125')\n",
    "\n",
    "g.go_to_home()"
   ]
  },
  {
   "cell_type": "code",
   "execution_count": null,
   "id": "95cc46d8-da1f-494b-be50-8684c83defaf",
   "metadata": {},
   "outputs": [],
   "source": [
    "hbpump.command('syrmanu')"
   ]
  },
  {
   "cell_type": "code",
   "execution_count": null,
   "id": "e8bafb3a-79a9-42f5-bf6f-41d7207bf7f2",
   "metadata": {},
   "outputs": [],
   "source": [
    "#for loop probably the ebst way to go\n",
    "\n",
    "volumes_1 = {10:1, 15:2, 20:3, 25:4, 30:5, 40:6, 50:7}\n",
    "#volumes_1 = {2:1, 5:2, 8:3, 10:4, 15:5, 20:6, 25:7, 30:8}\n",
    "#volumes_1 = {55:1, 60:2, 65:3, 70:4, 75:5, 80:6, 85:7, 90:8, 95:9, 100:10}\n",
    "#max flow rate is 132.6 ul/min for 50 uL syringe\n",
    "irate = 500\n",
    "wrate = 50\n",
    "irate_clean = 1000\n",
    "wrate_clean = 500\n",
    "\n",
    "hbpump.command('wrate 50 ul/min')\n",
    "hbpump.command('irate 500 ul/min')\n",
    "\n",
    "for volume, vial in volumes_1.items():\n",
    "    #go to the stock sol vial\n",
    "    g.go_to_vial(8)\n",
    "    g.bCommand('Z85')\n",
    "    \n",
    "    #syr pump withdraw\n",
    "    hbpump.set_tvolume(f'{volume} ul') # need to work out somewhere a set volume\n",
    "    hbpump.withdraw()\n",
    "    time.sleep(60 * (volume / wrate))\n",
    "    #need to put a sleep to make code wait for withdrawal before next step\n",
    "    hbpump.clear_volume()\n",
    "    \n",
    "    #for needle to go up\n",
    "    g.bCommand('Z125')\n",
    "    \n",
    "    #go to vial\n",
    "    g.go_to_vial(vial)\n",
    "    g.bCommand('Z85')\n",
    "    print(f'At vial {vial}.')\n",
    "\n",
    "    #syr pump infuse\n",
    "    hbpump.set_tvolume(f'{volume} ul') # need to work out somewhere a set volume\n",
    "    hbpump.infuse()\n",
    "    time.sleep(60 * (volume / irate))\n",
    "    #need to put a sleep to make code wait for withdrawal before next step\n",
    "    hbpump.clear_volume()\n",
    "\n",
    "#for loop probably the ebst way to go\n",
    "\n",
    "# volumes_2 = {10:9, 15:10, 20:11, 25:12, 30:13, 40:14, 50:15}\n",
    "\n",
    "# for volume, vial in volumes_2.items():\n",
    "#     #go to the stock sol vial\n",
    "#     g.go_to_vial(16)\n",
    "#     g.bCommand('Z85')\n",
    "    \n",
    "#     #syr pump withdraw\n",
    "#     hbpump.set_tvolume(f'{volume} ul') # need to work out somewhere a set volume\n",
    "#     hbpump.withdraw()\n",
    "#     time.sleep(60 * (volume / wrate))\n",
    "#     #need to put a sleep to make code wait for withdrawal before next step\n",
    "#     hbpump.clear_volume()\n",
    "    \n",
    "#     #for needle to go up\n",
    "#     g.bCommand('Z125')\n",
    "    \n",
    "#     #go to vial\n",
    "#     g.go_to_vial(vial)\n",
    "#     g.bCommand('Z85')\n",
    "#     print(f'At vial {vial}.')\n",
    "\n",
    "#     #syr pump infuse\n",
    "#     hbpump.set_tvolume(f'{volume} ul') # need to work out somewhere a set volume\n",
    "#     hbpump.infuse()\n",
    "#     time.sleep(60 * (volume / irate))\n",
    "#     #need to put a sleep to make code wait for withdrawal before next step\n",
    "#     hbpump.clear_volume()\n",
    "\n",
    "# volumes_3 = {10:17, 15:18, 20:19, 25:20, 30:21, 40:22, 50:23}\n",
    "\n",
    "# for volume, vial in volumes_3.items():\n",
    "#     #go to the stock sol vial\n",
    "#     g.go_to_vial(24)\n",
    "#     g.bCommand('Z85')\n",
    "    \n",
    "#     #syr pump withdraw\n",
    "#     hbpump.set_tvolume(f'{volume} ul') # need to work out somewhere a set volume\n",
    "#     hbpump.withdraw()\n",
    "#     time.sleep(60 * (volume / wrate))\n",
    "#     #need to put a sleep to make code wait for withdrawal before next step\n",
    "#     hbpump.clear_volume()\n",
    "    \n",
    "#     #for needle to go up\n",
    "#     g.bCommand('Z125')\n",
    "    \n",
    "#     #go to vial\n",
    "#     g.go_to_vial(vial)\n",
    "#     g.bCommand('Z85')\n",
    "#     print(f'At vial {vial}.')\n",
    "\n",
    "#     #syr pump infuse\n",
    "#     hbpump.set_tvolume(f'{volume} ul') # need to work out somewhere a set volume\n",
    "#     hbpump.infuse()\n",
    "#     time.sleep(60 * (volume / irate))\n",
    "#     #need to put a sleep to make code wait for withdrawal before next step\n",
    "#     hbpump.clear_volume()\n",
    "\n",
    "\n",
    "# g.go_to_home()"
   ]
  },
  {
   "cell_type": "code",
   "execution_count": null,
   "id": "2903a9cd-0f9f-404c-a304-000858b99480",
   "metadata": {},
   "outputs": [],
   "source": [
    "#for loop probably the ebst way to go\n",
    "\n",
    "#volumes_1 = {50:7, 40:6, 30:5, 25:4, 20:3, 15:2, 10:1}\n",
    "volumes_1 = {10:10, 9:9,8:8, 7:7, 6:6, 5:5, 4:4, 3:3, 2:2, 1:1}\n",
    "#volumes_1 = {55:1, 60:2, 65:3, 70:4, 75:5, 80:6, 85:7, 90:8, 95:9, 100:10}\n",
    "#max flow rate is 132.6 ul/min for 50 uL syringe\n",
    "hbpump.command('ctvolume')\n",
    "irate = 500\n",
    "wrate = 50\n",
    "wrate_wet = 100\n",
    "irate_wet = 1000\n",
    "\n",
    "hbpump.command('wrate 50 ul/min')\n",
    "hbpump.command('irate 500 ul/min')\n",
    "\n",
    "hbpump.command('cvolume')\n",
    "hbpump.command('ctvolume')\n",
    "\n",
    "for volume, vial in volumes_1.items():\n",
    "    \n",
    "    g.go_to_vial(11)\n",
    "    g.bCommand('Z85')\n",
    "    hbpump.set_tvolume(f'10 ul') # need to work out somewhere a set volume\n",
    "    hbpump.withdraw()\n",
    "    time.sleep(60 * (10 / wrate))\n",
    "    #need to put a sleep to make code wait for withdrawal before next step\n",
    "    hbpump.clear_volume()\n",
    "    \n",
    "    #go to the stock sol vial\n",
    "    g.go_to_vial(12)\n",
    "    g.bCommand('Z85')\n",
    "    \n",
    "    #syr pump withdraw\n",
    "    hbpump.set_tvolume(f'{volume} ul') # need to work out somewhere a set volume\n",
    "    hbpump.withdraw()\n",
    "    time.sleep(60 * (volume / wrate))\n",
    "    #need to put a sleep to make code wait for withdrawal before next step\n",
    "    hbpump.clear_volume()\n",
    "    \n",
    "    #for needle to go up\n",
    "    g.bCommand('Z125')\n",
    "    \n",
    "    #go to vial\n",
    "    g.go_to_vial(vial)\n",
    "    g.bCommand('Z85')\n",
    "    print(f'At vial {vial}.')\n",
    "\n",
    "    #syr pump infuse\n",
    "    inf_vol = volume + 10\n",
    "    hbpump.set_tvolume(f'{inf_vol} ul') # need to work out somewhere a set volume\n",
    "    hbpump.infuse()\n",
    "    time.sleep(60 * (inf_vol / irate))\n",
    "    #need to put a sleep to make code wait for withdrawal before next step\n",
    "    hbpump.clear_volume()\n",
    "\n",
    "g.go_to_home()"
   ]
  },
  {
   "cell_type": "code",
   "execution_count": null,
   "id": "db2582df-a246-4414-a94c-accbb3cba3f2",
   "metadata": {},
   "outputs": [],
   "source": [
    "g.go_to_home()"
   ]
  },
  {
   "cell_type": "code",
   "execution_count": null,
   "id": "76ebbefe-57a3-44e1-b8ea-7cc7bd379088",
   "metadata": {},
   "outputs": [],
   "source": [
    "hbpump.command('wrate 400 ul/min')"
   ]
  },
  {
   "cell_type": "code",
   "execution_count": null,
   "id": "bf1fb438-6dda-4b6b-b727-44753cd109b2",
   "metadata": {},
   "outputs": [],
   "source": [
    "hbpump.command('cvolume')\n",
    "hbpump.command('ctvolume')\n",
    "hbpump.command('irun')"
   ]
  },
  {
   "cell_type": "code",
   "execution_count": null,
   "id": "a74a4c37-f535-436d-a727-d3b14b12203f",
   "metadata": {},
   "outputs": [],
   "source": [
    "hbpump.command('stop')"
   ]
  },
  {
   "cell_type": "code",
   "execution_count": null,
   "id": "f61cbd90-b50c-4d2e-a18e-852ffb9d9837",
   "metadata": {},
   "outputs": [],
   "source": [
    "g.go_to_home()\n",
    "hbpump.command('cvolume')\n",
    "hbpump.command('tvolume 50 ul')\n",
    "hbpump.command('wrun')"
   ]
  },
  {
   "cell_type": "code",
   "execution_count": null,
   "id": "d8e03831-73c8-4ab4-a7b3-0499dcbef581",
   "metadata": {},
   "outputs": [],
   "source": [
    "#priming needle\n",
    "hbpump.command('cvolume')\n",
    "hbpump.command('ctvolume')\n",
    "g.go_to_vial(13)\n",
    "g.bCommand('Z85')\n",
    "hbpump.infuse()\n",
    "time.sleep(5)\n",
    "hbpump.stop() \n",
    "g.bCommand('Z125')\n",
    "hbpump.command('wrate 500 ul/min')\n",
    "hbpump.command('tvolume 50 ul')\n",
    "hbpump.command('wrun')\n",
    "time.sleep(6)\n",
    "g.go_to_home()"
   ]
  },
  {
   "cell_type": "code",
   "execution_count": null,
   "id": "9b88edda-2f3e-4912-8dd5-c230fef5921b",
   "metadata": {},
   "outputs": [],
   "source": [
    "g.go_to_home()"
   ]
  },
  {
   "cell_type": "markdown",
   "id": "c478af96-d10a-4b35-b7c5-fc3e1fba15cc",
   "metadata": {
    "jp-MarkdownHeadingCollapsed": true
   },
   "source": [
    "### serial dilution"
   ]
  },
  {
   "cell_type": "code",
   "execution_count": null,
   "id": "99430737-3707-4db2-b685-b688cf9feab8",
   "metadata": {},
   "outputs": [],
   "source": [
    "# vial stock 1 mL\n",
    "# vial A - F 0.5 mL MeCN\n",
    "# serial dilution\n",
    "\n",
    "hbpump.clear_volume()\n",
    "\n",
    "vials = [2, 3, 4, 5, 6, 7]\n",
    "volume = 500\n",
    "\n",
    "for vial in vials:\n",
    "    hbpump.set_tvolume(f'{volume} uL')\n",
    "    g.go_to_vial(vial - 1)\n",
    "    g.bCommand('Z85')\n",
    "    hbpump.withdraw()\n",
    "    time.sleep(60 * (100 / 1000))\n",
    "    hbpump.clear_volume()\n",
    "    g.bCommand('Z125')\n",
    "\n",
    "    hbpump.set_tvolume(f'{volume} uL')\n",
    "    g.go_to_vial(vial)\n",
    "    g.bCommand('Z85')\n",
    "    hbpump.infuse()\n",
    "    time.sleep(60 * (100 / 1000))\n",
    "    hbpump.clear_volume()\n",
    "    g.bCommand('Z125')\n",
    "    g.bCommand('Z85')\n",
    "    g.bCommand('Z125')"
   ]
  },
  {
   "cell_type": "code",
   "execution_count": null,
   "id": "0adb07fd-f005-414a-bf3c-a53b2d57fbc4",
   "metadata": {},
   "outputs": [],
   "source": [
    "hbpump.command('ctvolume')\n",
    "hbpump.command('cvolume')\n",
    "hbpump.command('wrun')"
   ]
  },
  {
   "cell_type": "code",
   "execution_count": null,
   "id": "34d6054f-41f6-40b9-ae3e-6c626a411ba3",
   "metadata": {},
   "outputs": [],
   "source": [
    "hbpump.command('stop')"
   ]
  },
  {
   "cell_type": "code",
   "execution_count": null,
   "id": "c9d78a37-74ed-4a1e-acda-3dcc6b009986",
   "metadata": {},
   "outputs": [],
   "source": [
    "g.go_to_vial(1)"
   ]
  },
  {
   "cell_type": "code",
   "execution_count": null,
   "id": "d523d24b-8fa8-4fc0-b956-63ea361ee5bc",
   "metadata": {},
   "outputs": [],
   "source": [
    "g.bCommand('Z85')"
   ]
  },
  {
   "cell_type": "code",
   "execution_count": null,
   "id": "f48b03c8-d949-4e27-81d4-895c667392ba",
   "metadata": {},
   "outputs": [],
   "source": [
    "g.go_to_home()"
   ]
  },
  {
   "cell_type": "code",
   "execution_count": null,
   "id": "5b8499bc-360e-47ec-a4d1-9cea422302fe",
   "metadata": {},
   "outputs": [],
   "source": [
    "hbpump.command('wrate 500 ul/min')"
   ]
  },
  {
   "cell_type": "code",
   "execution_count": null,
   "id": "7cd9b8a9-33b6-4c06-9f43-a31f502d48fb",
   "metadata": {},
   "outputs": [],
   "source": [
    "g.bCommand('H')"
   ]
  },
  {
   "cell_type": "code",
   "execution_count": null,
   "id": "49f7023b-b8d4-4c11-8a83-449be8f51bca",
   "metadata": {},
   "outputs": [],
   "source": []
  },
  {
   "cell_type": "code",
   "execution_count": null,
   "id": "65cf87dd-f852-4563-a460-8902d3b1ce60",
   "metadata": {},
   "outputs": [],
   "source": []
  }
 ],
 "metadata": {
  "kernelspec": {
   "display_name": "Python 3 (ipykernel)",
   "language": "python",
   "name": "python3"
  },
  "language_info": {
   "codemirror_mode": {
    "name": "ipython",
    "version": 3
   },
   "file_extension": ".py",
   "mimetype": "text/x-python",
   "name": "python",
   "nbconvert_exporter": "python",
   "pygments_lexer": "ipython3",
   "version": "3.11.7"
  }
 },
 "nbformat": 4,
 "nbformat_minor": 5
}
