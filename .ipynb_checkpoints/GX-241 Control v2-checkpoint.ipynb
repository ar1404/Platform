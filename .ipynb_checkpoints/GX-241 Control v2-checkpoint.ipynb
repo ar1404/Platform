{
 "cells": [
  {
   "cell_type": "markdown",
   "id": "94e6f2a6-9a8c-4676-864c-9c1dd30ea6b7",
   "metadata": {},
   "source": [
    "# Control Centre"
   ]
  },
  {
   "cell_type": "code",
   "execution_count": 1,
   "id": "38def2b4-4cd7-4e1f-834f-6db4e1f7c1c8",
   "metadata": {},
   "outputs": [],
   "source": [
    "import time\n",
    "import serial\n",
    "import numpy as np\n",
    "import sys\n",
    "import os\n",
    "import asyncio\n",
    "from multiprocessing import Process\n",
    "import threading\n",
    "from scipy import constants\n",
    "import itertools\n",
    "\n",
    "import binascii\n",
    "from datetime import datetime\n",
    "import logging\n",
    "\n",
    "#from gsioc import gsioc_Protocol, ensure_xy_position_will_be_reached"
   ]
  },
  {
   "cell_type": "markdown",
   "id": "1d0db269-dbab-424a-99a5-188148d0555a",
   "metadata": {},
   "source": [
    "## Get started with GSIOC"
   ]
  },
  {
   "cell_type": "markdown",
   "id": "379f0e49-c3c5-4544-949e-1c1e0e4dd23c",
   "metadata": {},
   "source": [
    "To reset the COM port:\n",
    "1) Open device manager and disable COM1\n",
    "2) Turn machine off and on\n",
    "3) Enable COM1 in device manager\n",
    "\n",
    "Use ser.close() here to close the serial port\n",
    "\n",
    "NOTE: Python seems to have problems when the GX-241 is in COM1 (motherboard), it will connect but cannot send or recieve. This is easily fixed by using a USB to serial adapter instead."
   ]
  },
  {
   "cell_type": "code",
   "execution_count": 2,
   "id": "9c217afa-11be-449a-ab68-e48951d5082b",
   "metadata": {},
   "outputs": [],
   "source": [
    "from equip_class import gsioc_Protocol"
   ]
  },
  {
   "cell_type": "code",
   "execution_count": 3,
   "id": "8b0fc3ba-00c6-4f08-a1c3-537890108fe0",
   "metadata": {},
   "outputs": [],
   "source": [
    "# Set up the serial connection\n",
    "PORT1 = 'COM6'\n",
    "ser = serial.Serial(PORT1, 19200, 8, \"N\", 1, 0.1)"
   ]
  },
  {
   "cell_type": "code",
   "execution_count": 4,
   "id": "0c566769-2d01-442e-8826-ead57c1cd8c4",
   "metadata": {},
   "outputs": [],
   "source": [
    "# Create an instance of the gsioc_Protocol class\n",
    "g = gsioc_Protocol(ser, 'GX-241 II', 30)"
   ]
  },
  {
   "cell_type": "code",
   "execution_count": 5,
   "id": "7e8cdea3-e354-47b2-8e1c-ae7d5305387c",
   "metadata": {
    "scrolled": true
   },
   "outputs": [
    {
     "name": "stderr",
     "output_type": "stream",
     "text": [
      "\u001b[32m2025-02-11 11:03:00.583\u001b[0m | \u001b[34m\u001b[1mDEBUG   \u001b[0m | \u001b[36mequip_class\u001b[0m:\u001b[36mverify_open\u001b[0m:\u001b[36m172\u001b[0m - \u001b[34m\u001b[1mCheck if port is open.\u001b[0m\n",
      "\u001b[32m2025-02-11 11:03:01.095\u001b[0m | \u001b[34m\u001b[1mDEBUG   \u001b[0m | \u001b[36mequip_class\u001b[0m:\u001b[36miCommand\u001b[0m:\u001b[36m240\u001b[0m - \u001b[34m\u001b[1mSending immediate command % to device.\u001b[0m\n",
      "\u001b[32m2025-02-11 11:03:03.080\u001b[0m | \u001b[34m\u001b[1mDEBUG   \u001b[0m | \u001b[36mequip_class\u001b[0m:\u001b[36miCommand\u001b[0m:\u001b[36m269\u001b[0m - \u001b[34m\u001b[1mSending immediate command complete.\u001b[0m\n",
      "\u001b[32m2025-02-11 11:03:03.083\u001b[0m | \u001b[34m\u001b[1mDEBUG   \u001b[0m | \u001b[36mequip_class\u001b[0m:\u001b[36miCommand\u001b[0m:\u001b[36m278\u001b[0m - \u001b[34m\u001b[1mreceived bytearray(b'GX-241 II v2.0.2.5') as response.\u001b[0m\n",
      "\u001b[32m2025-02-11 11:03:03.286\u001b[0m | \u001b[34m\u001b[1mDEBUG   \u001b[0m | \u001b[36mequip_class\u001b[0m:\u001b[36mconnect\u001b[0m:\u001b[36m224\u001b[0m - \u001b[34m\u001b[1mConnected to device 30\u001b[0m\n"
     ]
    },
    {
     "ename": "AttributeError",
     "evalue": "module 'datetime' has no attribute 'now'",
     "output_type": "error",
     "traceback": [
      "\u001b[1;31m---------------------------------------------------------------------------\u001b[0m",
      "\u001b[1;31mAttributeError\u001b[0m                            Traceback (most recent call last)",
      "Cell \u001b[1;32mIn[5], line 1\u001b[0m\n\u001b[1;32m----> 1\u001b[0m g\u001b[38;5;241m.\u001b[39mconnect()\n",
      "File \u001b[1;32m~\\Documents\\Platform\\equip_class.py:225\u001b[0m, in \u001b[0;36mgsioc_Protocol.connect\u001b[1;34m(self)\u001b[0m\n\u001b[0;32m    222\u001b[0m \u001b[38;5;28;01mif\u001b[39;00m \u001b[38;5;28mself\u001b[39m\u001b[38;5;241m.\u001b[39mverify_device():\n\u001b[0;32m    224\u001b[0m     logger\u001b[38;5;241m.\u001b[39mdebug(\u001b[38;5;124mf\u001b[39m\u001b[38;5;124m\"\u001b[39m\u001b[38;5;124mConnected to device \u001b[39m\u001b[38;5;132;01m{\u001b[39;00mbyte_ID\u001b[38;5;241m-\u001b[39m\u001b[38;5;241m128\u001b[39m\u001b[38;5;132;01m}\u001b[39;00m\u001b[38;5;124m\"\u001b[39m)\n\u001b[1;32m--> 225\u001b[0m     log_action(\u001b[38;5;124m'\u001b[39m\u001b[38;5;124mtest_log.txt\u001b[39m\u001b[38;5;124m'\u001b[39m, \u001b[38;5;124m\"\u001b[39m\u001b[38;5;124mConnected to Gilson autosampler.\u001b[39m\u001b[38;5;124m\"\u001b[39m)\n\u001b[0;32m    226\u001b[0m \u001b[38;5;66;03m# Wrong Device ID\u001b[39;00m\n\u001b[0;32m    227\u001b[0m \u001b[38;5;28;01melse\u001b[39;00m:\n\u001b[0;32m    228\u001b[0m     logger\u001b[38;5;241m.\u001b[39merror(\u001b[38;5;124mf\u001b[39m\u001b[38;5;124m'\u001b[39m\u001b[38;5;124mConnected to wrong device: connecting to device \u001b[39m\u001b[38;5;132;01m{\u001b[39;00mbyte_ID\u001b[38;5;241m-\u001b[39m\u001b[38;5;241m128\u001b[39m\u001b[38;5;132;01m}\u001b[39;00m\u001b[38;5;124m failed.\u001b[39m\u001b[38;5;124m'\u001b[39m)\n",
      "File \u001b[1;32m~\\Documents\\Platform\\equip_class.py:16\u001b[0m, in \u001b[0;36mlog_action\u001b[1;34m(filename, data)\u001b[0m\n\u001b[0;32m     15\u001b[0m \u001b[38;5;28;01mdef\u001b[39;00m \u001b[38;5;21mlog_action\u001b[39m(filename, data):\n\u001b[1;32m---> 16\u001b[0m     timestamp \u001b[38;5;241m=\u001b[39m datetime\u001b[38;5;241m.\u001b[39mnow()\u001b[38;5;241m.\u001b[39mstrftime(\u001b[38;5;124m\"\u001b[39m\u001b[38;5;132;01m%d\u001b[39;00m\u001b[38;5;124m/\u001b[39m\u001b[38;5;124m%\u001b[39m\u001b[38;5;124mm/\u001b[39m\u001b[38;5;124m%\u001b[39m\u001b[38;5;124my \u001b[39m\u001b[38;5;124m%\u001b[39m\u001b[38;5;124mH:\u001b[39m\u001b[38;5;124m%\u001b[39m\u001b[38;5;124mM:\u001b[39m\u001b[38;5;124m%\u001b[39m\u001b[38;5;124mS\u001b[39m\u001b[38;5;124m\"\u001b[39m)\n\u001b[0;32m     17\u001b[0m     \u001b[38;5;28;01mwith\u001b[39;00m \u001b[38;5;28mopen\u001b[39m(\u001b[38;5;124m'\u001b[39m\u001b[38;5;124mtest_log.txt\u001b[39m\u001b[38;5;124m'\u001b[39m, \u001b[38;5;124m'\u001b[39m\u001b[38;5;124ma\u001b[39m\u001b[38;5;124m'\u001b[39m) \u001b[38;5;28;01mas\u001b[39;00m file:\n\u001b[0;32m     18\u001b[0m         file\u001b[38;5;241m.\u001b[39mwrite(\u001b[38;5;124mf\u001b[39m\u001b[38;5;124m'\u001b[39m\u001b[38;5;124m[\u001b[39m\u001b[38;5;132;01m{\u001b[39;00mtimestamp\u001b[38;5;132;01m}\u001b[39;00m\u001b[38;5;124m] \u001b[39m\u001b[38;5;132;01m{\u001b[39;00mdata\u001b[38;5;132;01m}\u001b[39;00m\u001b[38;5;130;01m\\n\u001b[39;00m\u001b[38;5;124m'\u001b[39m)\n",
      "\u001b[1;31mAttributeError\u001b[0m: module 'datetime' has no attribute 'now'"
     ]
    }
   ],
   "source": [
    "g.connect()"
   ]
  },
  {
   "cell_type": "code",
   "execution_count": null,
   "id": "a0f08880-c573-4ee4-af7b-17d16ed937c2",
   "metadata": {},
   "outputs": [],
   "source": [
    "g.iCommand('%')"
   ]
  },
  {
   "cell_type": "code",
   "execution_count": null,
   "id": "4e69b366-728b-4031-b85d-e6a485ca733e",
   "metadata": {},
   "outputs": [],
   "source": [
    "g.iCommand('e')"
   ]
  },
  {
   "cell_type": "code",
   "execution_count": null,
   "id": "b5ddf2b9-df76-494d-aa23-780addfe985e",
   "metadata": {},
   "outputs": [],
   "source": [
    "g.bCommand('e[n]')"
   ]
  },
  {
   "cell_type": "code",
   "execution_count": 6,
   "id": "991b4a46-ea6b-459a-8376-0fe9943bc847",
   "metadata": {},
   "outputs": [
    {
     "name": "stderr",
     "output_type": "stream",
     "text": [
      "\u001b[32m2025-02-11 10:55:24.884\u001b[0m | \u001b[34m\u001b[1mDEBUG   \u001b[0m | \u001b[36mgsioc\u001b[0m:\u001b[36mbCommand\u001b[0m:\u001b[36m171\u001b[0m - \u001b[34m\u001b[1mSending buffered command \"H\" to device.\u001b[0m\n",
      "\u001b[32m2025-02-11 10:55:24.885\u001b[0m | \u001b[1mINFO    \u001b[0m | \u001b[36mgsioc\u001b[0m:\u001b[36mbCommand\u001b[0m:\u001b[36m176\u001b[0m - \u001b[1mGSIOC <<< H\u001b[0m\n",
      "\u001b[32m2025-02-11 10:55:24.990\u001b[0m | \u001b[34m\u001b[1mDEBUG   \u001b[0m | \u001b[36mgsioc\u001b[0m:\u001b[36mbCommand\u001b[0m:\u001b[36m195\u001b[0m - \u001b[34m\u001b[1mready signal: b'\\n'\u001b[0m\n",
      "\u001b[32m2025-02-11 10:55:24.990\u001b[0m | \u001b[34m\u001b[1mDEBUG   \u001b[0m | \u001b[36mgsioc\u001b[0m:\u001b[36mbCommand\u001b[0m:\u001b[36m204\u001b[0m - \u001b[34m\u001b[1mStarting to send buffered command.\u001b[0m\n",
      "\u001b[32m2025-02-11 10:55:24.991\u001b[0m | \u001b[34m\u001b[1mDEBUG   \u001b[0m | \u001b[36mgsioc\u001b[0m:\u001b[36mbCommand\u001b[0m:\u001b[36m215\u001b[0m - \u001b[34m\u001b[1m10\u001b[0m\n",
      "\u001b[32m2025-02-11 10:55:24.992\u001b[0m | \u001b[34m\u001b[1mDEBUG   \u001b[0m | \u001b[36mgsioc\u001b[0m:\u001b[36mbCommand\u001b[0m:\u001b[36m220\u001b[0m - \u001b[34m\u001b[1mWrites buffered Command character b'H' to the device GX-241 II.\u001b[0m\n",
      "\u001b[32m2025-02-11 10:55:24.993\u001b[0m | \u001b[34m\u001b[1mDEBUG   \u001b[0m | \u001b[36mgsioc\u001b[0m:\u001b[36mbCommand\u001b[0m:\u001b[36m222\u001b[0m - \u001b[34m\u001b[1mStarts reading character from the device GX-241 II.\u001b[0m\n",
      "\u001b[32m2025-02-11 10:55:25.100\u001b[0m | \u001b[34m\u001b[1mDEBUG   \u001b[0m | \u001b[36mgsioc\u001b[0m:\u001b[36mbCommand\u001b[0m:\u001b[36m224\u001b[0m - \u001b[34m\u001b[1mgot back b'H' from the device GX-241 II.\u001b[0m\n",
      "\u001b[32m2025-02-11 10:55:25.100\u001b[0m | \u001b[34m\u001b[1mDEBUG   \u001b[0m | \u001b[36mgsioc\u001b[0m:\u001b[36mbCommand\u001b[0m:\u001b[36m228\u001b[0m - \u001b[34m\u001b[1mresp_raw: b'H'\u001b[0m\n",
      "\u001b[32m2025-02-11 10:55:25.101\u001b[0m | \u001b[34m\u001b[1mDEBUG   \u001b[0m | \u001b[36mgsioc\u001b[0m:\u001b[36mbCommand\u001b[0m:\u001b[36m246\u001b[0m - \u001b[34m\u001b[1mresp_raw 2: 72\u001b[0m\n",
      "\u001b[32m2025-02-11 10:55:25.102\u001b[0m | \u001b[34m\u001b[1mDEBUG   \u001b[0m | \u001b[36mgsioc\u001b[0m:\u001b[36mbCommand\u001b[0m:\u001b[36m220\u001b[0m - \u001b[34m\u001b[1mWrites buffered Command character b'\\r' to the device GX-241 II.\u001b[0m\n",
      "\u001b[32m2025-02-11 10:55:25.103\u001b[0m | \u001b[34m\u001b[1mDEBUG   \u001b[0m | \u001b[36mgsioc\u001b[0m:\u001b[36mbCommand\u001b[0m:\u001b[36m222\u001b[0m - \u001b[34m\u001b[1mStarts reading character from the device GX-241 II.\u001b[0m\n",
      "\u001b[32m2025-02-11 10:55:25.210\u001b[0m | \u001b[34m\u001b[1mDEBUG   \u001b[0m | \u001b[36mgsioc\u001b[0m:\u001b[36mbCommand\u001b[0m:\u001b[36m224\u001b[0m - \u001b[34m\u001b[1mgot back b'\\r' from the device GX-241 II.\u001b[0m\n",
      "\u001b[32m2025-02-11 10:55:25.211\u001b[0m | \u001b[34m\u001b[1mDEBUG   \u001b[0m | \u001b[36mgsioc\u001b[0m:\u001b[36mbCommand\u001b[0m:\u001b[36m228\u001b[0m - \u001b[34m\u001b[1mresp_raw: b'\\r'\u001b[0m\n",
      "\u001b[32m2025-02-11 10:55:25.212\u001b[0m | \u001b[34m\u001b[1mDEBUG   \u001b[0m | \u001b[36mgsioc\u001b[0m:\u001b[36mbCommand\u001b[0m:\u001b[36m246\u001b[0m - \u001b[34m\u001b[1mresp_raw 2: 13\u001b[0m\n",
      "\u001b[32m2025-02-11 10:55:25.213\u001b[0m | \u001b[34m\u001b[1mDEBUG   \u001b[0m | \u001b[36mgsioc\u001b[0m:\u001b[36mbCommand\u001b[0m:\u001b[36m261\u001b[0m - \u001b[34m\u001b[1mBuffered command complete.\u001b[0m\n",
      "\u001b[32m2025-02-11 10:55:25.214\u001b[0m | \u001b[34m\u001b[1mDEBUG   \u001b[0m | \u001b[36mgsioc\u001b[0m:\u001b[36mbCommand\u001b[0m:\u001b[36m262\u001b[0m - \u001b[34m\u001b[1mReceived bytearray(b'\\nH\\r') from device.\u001b[0m\n",
      "\u001b[32m2025-02-11 10:55:25.216\u001b[0m | \u001b[1mINFO    \u001b[0m | \u001b[36mgsioc\u001b[0m:\u001b[36mbCommand\u001b[0m:\u001b[36m263\u001b[0m - \u001b[1mGSIOC >>> bytearray(b'\\nH\\r')\u001b[0m\n"
     ]
    },
    {
     "data": {
      "text/plain": [
       "bytearray(b'\\nH\\r')"
      ]
     },
     "execution_count": 6,
     "metadata": {},
     "output_type": "execute_result"
    }
   ],
   "source": [
    "g.bCommand('H')"
   ]
  },
  {
   "cell_type": "code",
   "execution_count": null,
   "id": "44c7faf3-cbd8-4c7a-a54b-f57327e4f023",
   "metadata": {},
   "outputs": [],
   "source": [
    "g.iCommand('P')"
   ]
  },
  {
   "cell_type": "code",
   "execution_count": null,
   "id": "70e1e346-6410-4131-9c6c-d6199a4cd2c6",
   "metadata": {},
   "outputs": [],
   "source": [
    "g.iCommand('X')"
   ]
  },
  {
   "cell_type": "code",
   "execution_count": 8,
   "id": "123ebf01-7354-4686-b0b8-327ffe4c6008",
   "metadata": {},
   "outputs": [
    {
     "name": "stderr",
     "output_type": "stream",
     "text": [
      "\u001b[32m2025-02-11 10:55:31.747\u001b[0m | \u001b[34m\u001b[1mDEBUG   \u001b[0m | \u001b[36mgsioc\u001b[0m:\u001b[36mbCommand\u001b[0m:\u001b[36m171\u001b[0m - \u001b[34m\u001b[1mSending buffered command \"H\" to device.\u001b[0m\n",
      "\u001b[32m2025-02-11 10:55:31.748\u001b[0m | \u001b[1mINFO    \u001b[0m | \u001b[36mgsioc\u001b[0m:\u001b[36mbCommand\u001b[0m:\u001b[36m176\u001b[0m - \u001b[1mGSIOC <<< H\u001b[0m\n",
      "\u001b[32m2025-02-11 10:55:31.860\u001b[0m | \u001b[34m\u001b[1mDEBUG   \u001b[0m | \u001b[36mgsioc\u001b[0m:\u001b[36mbCommand\u001b[0m:\u001b[36m195\u001b[0m - \u001b[34m\u001b[1mready signal: b'\\n'\u001b[0m\n",
      "\u001b[32m2025-02-11 10:55:31.860\u001b[0m | \u001b[34m\u001b[1mDEBUG   \u001b[0m | \u001b[36mgsioc\u001b[0m:\u001b[36mbCommand\u001b[0m:\u001b[36m204\u001b[0m - \u001b[34m\u001b[1mStarting to send buffered command.\u001b[0m\n",
      "\u001b[32m2025-02-11 10:55:31.861\u001b[0m | \u001b[34m\u001b[1mDEBUG   \u001b[0m | \u001b[36mgsioc\u001b[0m:\u001b[36mbCommand\u001b[0m:\u001b[36m215\u001b[0m - \u001b[34m\u001b[1m10\u001b[0m\n",
      "\u001b[32m2025-02-11 10:55:31.862\u001b[0m | \u001b[34m\u001b[1mDEBUG   \u001b[0m | \u001b[36mgsioc\u001b[0m:\u001b[36mbCommand\u001b[0m:\u001b[36m220\u001b[0m - \u001b[34m\u001b[1mWrites buffered Command character b'H' to the device GX-241 II.\u001b[0m\n",
      "\u001b[32m2025-02-11 10:55:31.864\u001b[0m | \u001b[34m\u001b[1mDEBUG   \u001b[0m | \u001b[36mgsioc\u001b[0m:\u001b[36mbCommand\u001b[0m:\u001b[36m222\u001b[0m - \u001b[34m\u001b[1mStarts reading character from the device GX-241 II.\u001b[0m\n",
      "\u001b[32m2025-02-11 10:55:31.968\u001b[0m | \u001b[34m\u001b[1mDEBUG   \u001b[0m | \u001b[36mgsioc\u001b[0m:\u001b[36mbCommand\u001b[0m:\u001b[36m224\u001b[0m - \u001b[34m\u001b[1mgot back b'H' from the device GX-241 II.\u001b[0m\n",
      "\u001b[32m2025-02-11 10:55:31.970\u001b[0m | \u001b[34m\u001b[1mDEBUG   \u001b[0m | \u001b[36mgsioc\u001b[0m:\u001b[36mbCommand\u001b[0m:\u001b[36m228\u001b[0m - \u001b[34m\u001b[1mresp_raw: b'H'\u001b[0m\n",
      "\u001b[32m2025-02-11 10:55:31.972\u001b[0m | \u001b[34m\u001b[1mDEBUG   \u001b[0m | \u001b[36mgsioc\u001b[0m:\u001b[36mbCommand\u001b[0m:\u001b[36m246\u001b[0m - \u001b[34m\u001b[1mresp_raw 2: 72\u001b[0m\n",
      "\u001b[32m2025-02-11 10:55:31.973\u001b[0m | \u001b[34m\u001b[1mDEBUG   \u001b[0m | \u001b[36mgsioc\u001b[0m:\u001b[36mbCommand\u001b[0m:\u001b[36m220\u001b[0m - \u001b[34m\u001b[1mWrites buffered Command character b'\\r' to the device GX-241 II.\u001b[0m\n",
      "\u001b[32m2025-02-11 10:55:31.974\u001b[0m | \u001b[34m\u001b[1mDEBUG   \u001b[0m | \u001b[36mgsioc\u001b[0m:\u001b[36mbCommand\u001b[0m:\u001b[36m222\u001b[0m - \u001b[34m\u001b[1mStarts reading character from the device GX-241 II.\u001b[0m\n",
      "\u001b[32m2025-02-11 10:55:32.077\u001b[0m | \u001b[34m\u001b[1mDEBUG   \u001b[0m | \u001b[36mgsioc\u001b[0m:\u001b[36mbCommand\u001b[0m:\u001b[36m224\u001b[0m - \u001b[34m\u001b[1mgot back b'\\r' from the device GX-241 II.\u001b[0m\n",
      "\u001b[32m2025-02-11 10:55:32.077\u001b[0m | \u001b[34m\u001b[1mDEBUG   \u001b[0m | \u001b[36mgsioc\u001b[0m:\u001b[36mbCommand\u001b[0m:\u001b[36m228\u001b[0m - \u001b[34m\u001b[1mresp_raw: b'\\r'\u001b[0m\n",
      "\u001b[32m2025-02-11 10:55:32.078\u001b[0m | \u001b[34m\u001b[1mDEBUG   \u001b[0m | \u001b[36mgsioc\u001b[0m:\u001b[36mbCommand\u001b[0m:\u001b[36m246\u001b[0m - \u001b[34m\u001b[1mresp_raw 2: 13\u001b[0m\n",
      "\u001b[32m2025-02-11 10:55:32.079\u001b[0m | \u001b[34m\u001b[1mDEBUG   \u001b[0m | \u001b[36mgsioc\u001b[0m:\u001b[36mbCommand\u001b[0m:\u001b[36m261\u001b[0m - \u001b[34m\u001b[1mBuffered command complete.\u001b[0m\n",
      "\u001b[32m2025-02-11 10:55:32.079\u001b[0m | \u001b[34m\u001b[1mDEBUG   \u001b[0m | \u001b[36mgsioc\u001b[0m:\u001b[36mbCommand\u001b[0m:\u001b[36m262\u001b[0m - \u001b[34m\u001b[1mReceived bytearray(b'\\nH\\r') from device.\u001b[0m\n",
      "\u001b[32m2025-02-11 10:55:32.080\u001b[0m | \u001b[1mINFO    \u001b[0m | \u001b[36mgsioc\u001b[0m:\u001b[36mbCommand\u001b[0m:\u001b[36m263\u001b[0m - \u001b[1mGSIOC >>> bytearray(b'\\nH\\r')\u001b[0m\n"
     ]
    },
    {
     "data": {
      "text/plain": [
       "bytearray(b'\\nH\\r')"
      ]
     },
     "execution_count": 8,
     "metadata": {},
     "output_type": "execute_result"
    }
   ],
   "source": [
    "g.bCommand('H')"
   ]
  },
  {
   "cell_type": "code",
   "execution_count": 7,
   "id": "82d54c41-464e-438c-aba9-79c86aaf0c6e",
   "metadata": {},
   "outputs": [
    {
     "name": "stderr",
     "output_type": "stream",
     "text": [
      "\u001b[32m2025-02-11 10:55:28.492\u001b[0m | \u001b[34m\u001b[1mDEBUG   \u001b[0m | \u001b[36mgsioc\u001b[0m:\u001b[36mbCommand\u001b[0m:\u001b[36m171\u001b[0m - \u001b[34m\u001b[1mSending buffered command \"X62.3/146\" to device.\u001b[0m\n",
      "\u001b[32m2025-02-11 10:55:28.493\u001b[0m | \u001b[1mINFO    \u001b[0m | \u001b[36mgsioc\u001b[0m:\u001b[36mbCommand\u001b[0m:\u001b[36m176\u001b[0m - \u001b[1mGSIOC <<< X62.3/146\u001b[0m\n",
      "\u001b[32m2025-02-11 10:55:28.597\u001b[0m | \u001b[34m\u001b[1mDEBUG   \u001b[0m | \u001b[36mgsioc\u001b[0m:\u001b[36mbCommand\u001b[0m:\u001b[36m195\u001b[0m - \u001b[34m\u001b[1mready signal: b'\\n'\u001b[0m\n",
      "\u001b[32m2025-02-11 10:55:28.598\u001b[0m | \u001b[34m\u001b[1mDEBUG   \u001b[0m | \u001b[36mgsioc\u001b[0m:\u001b[36mbCommand\u001b[0m:\u001b[36m204\u001b[0m - \u001b[34m\u001b[1mStarting to send buffered command.\u001b[0m\n",
      "\u001b[32m2025-02-11 10:55:28.598\u001b[0m | \u001b[34m\u001b[1mDEBUG   \u001b[0m | \u001b[36mgsioc\u001b[0m:\u001b[36mbCommand\u001b[0m:\u001b[36m215\u001b[0m - \u001b[34m\u001b[1m10\u001b[0m\n",
      "\u001b[32m2025-02-11 10:55:28.599\u001b[0m | \u001b[34m\u001b[1mDEBUG   \u001b[0m | \u001b[36mgsioc\u001b[0m:\u001b[36mbCommand\u001b[0m:\u001b[36m220\u001b[0m - \u001b[34m\u001b[1mWrites buffered Command character b'X' to the device GX-241 II.\u001b[0m\n",
      "\u001b[32m2025-02-11 10:55:28.599\u001b[0m | \u001b[34m\u001b[1mDEBUG   \u001b[0m | \u001b[36mgsioc\u001b[0m:\u001b[36mbCommand\u001b[0m:\u001b[36m222\u001b[0m - \u001b[34m\u001b[1mStarts reading character from the device GX-241 II.\u001b[0m\n",
      "\u001b[32m2025-02-11 10:55:28.707\u001b[0m | \u001b[34m\u001b[1mDEBUG   \u001b[0m | \u001b[36mgsioc\u001b[0m:\u001b[36mbCommand\u001b[0m:\u001b[36m224\u001b[0m - \u001b[34m\u001b[1mgot back b'X' from the device GX-241 II.\u001b[0m\n",
      "\u001b[32m2025-02-11 10:55:28.708\u001b[0m | \u001b[34m\u001b[1mDEBUG   \u001b[0m | \u001b[36mgsioc\u001b[0m:\u001b[36mbCommand\u001b[0m:\u001b[36m228\u001b[0m - \u001b[34m\u001b[1mresp_raw: b'X'\u001b[0m\n",
      "\u001b[32m2025-02-11 10:55:28.709\u001b[0m | \u001b[34m\u001b[1mDEBUG   \u001b[0m | \u001b[36mgsioc\u001b[0m:\u001b[36mbCommand\u001b[0m:\u001b[36m246\u001b[0m - \u001b[34m\u001b[1mresp_raw 2: 88\u001b[0m\n",
      "\u001b[32m2025-02-11 10:55:28.710\u001b[0m | \u001b[34m\u001b[1mDEBUG   \u001b[0m | \u001b[36mgsioc\u001b[0m:\u001b[36mbCommand\u001b[0m:\u001b[36m220\u001b[0m - \u001b[34m\u001b[1mWrites buffered Command character b'6' to the device GX-241 II.\u001b[0m\n",
      "\u001b[32m2025-02-11 10:55:28.711\u001b[0m | \u001b[34m\u001b[1mDEBUG   \u001b[0m | \u001b[36mgsioc\u001b[0m:\u001b[36mbCommand\u001b[0m:\u001b[36m222\u001b[0m - \u001b[34m\u001b[1mStarts reading character from the device GX-241 II.\u001b[0m\n",
      "\u001b[32m2025-02-11 10:55:28.817\u001b[0m | \u001b[34m\u001b[1mDEBUG   \u001b[0m | \u001b[36mgsioc\u001b[0m:\u001b[36mbCommand\u001b[0m:\u001b[36m224\u001b[0m - \u001b[34m\u001b[1mgot back b'6' from the device GX-241 II.\u001b[0m\n",
      "\u001b[32m2025-02-11 10:55:28.818\u001b[0m | \u001b[34m\u001b[1mDEBUG   \u001b[0m | \u001b[36mgsioc\u001b[0m:\u001b[36mbCommand\u001b[0m:\u001b[36m228\u001b[0m - \u001b[34m\u001b[1mresp_raw: b'6'\u001b[0m\n",
      "\u001b[32m2025-02-11 10:55:28.819\u001b[0m | \u001b[34m\u001b[1mDEBUG   \u001b[0m | \u001b[36mgsioc\u001b[0m:\u001b[36mbCommand\u001b[0m:\u001b[36m246\u001b[0m - \u001b[34m\u001b[1mresp_raw 2: 54\u001b[0m\n",
      "\u001b[32m2025-02-11 10:55:28.820\u001b[0m | \u001b[34m\u001b[1mDEBUG   \u001b[0m | \u001b[36mgsioc\u001b[0m:\u001b[36mbCommand\u001b[0m:\u001b[36m220\u001b[0m - \u001b[34m\u001b[1mWrites buffered Command character b'2' to the device GX-241 II.\u001b[0m\n",
      "\u001b[32m2025-02-11 10:55:28.821\u001b[0m | \u001b[34m\u001b[1mDEBUG   \u001b[0m | \u001b[36mgsioc\u001b[0m:\u001b[36mbCommand\u001b[0m:\u001b[36m222\u001b[0m - \u001b[34m\u001b[1mStarts reading character from the device GX-241 II.\u001b[0m\n",
      "\u001b[32m2025-02-11 10:55:28.926\u001b[0m | \u001b[34m\u001b[1mDEBUG   \u001b[0m | \u001b[36mgsioc\u001b[0m:\u001b[36mbCommand\u001b[0m:\u001b[36m224\u001b[0m - \u001b[34m\u001b[1mgot back b'2' from the device GX-241 II.\u001b[0m\n",
      "\u001b[32m2025-02-11 10:55:28.927\u001b[0m | \u001b[34m\u001b[1mDEBUG   \u001b[0m | \u001b[36mgsioc\u001b[0m:\u001b[36mbCommand\u001b[0m:\u001b[36m228\u001b[0m - \u001b[34m\u001b[1mresp_raw: b'2'\u001b[0m\n",
      "\u001b[32m2025-02-11 10:55:28.927\u001b[0m | \u001b[34m\u001b[1mDEBUG   \u001b[0m | \u001b[36mgsioc\u001b[0m:\u001b[36mbCommand\u001b[0m:\u001b[36m246\u001b[0m - \u001b[34m\u001b[1mresp_raw 2: 50\u001b[0m\n",
      "\u001b[32m2025-02-11 10:55:28.928\u001b[0m | \u001b[34m\u001b[1mDEBUG   \u001b[0m | \u001b[36mgsioc\u001b[0m:\u001b[36mbCommand\u001b[0m:\u001b[36m220\u001b[0m - \u001b[34m\u001b[1mWrites buffered Command character b'.' to the device GX-241 II.\u001b[0m\n",
      "\u001b[32m2025-02-11 10:55:28.929\u001b[0m | \u001b[34m\u001b[1mDEBUG   \u001b[0m | \u001b[36mgsioc\u001b[0m:\u001b[36mbCommand\u001b[0m:\u001b[36m222\u001b[0m - \u001b[34m\u001b[1mStarts reading character from the device GX-241 II.\u001b[0m\n",
      "\u001b[32m2025-02-11 10:55:29.036\u001b[0m | \u001b[34m\u001b[1mDEBUG   \u001b[0m | \u001b[36mgsioc\u001b[0m:\u001b[36mbCommand\u001b[0m:\u001b[36m224\u001b[0m - \u001b[34m\u001b[1mgot back b'.' from the device GX-241 II.\u001b[0m\n",
      "\u001b[32m2025-02-11 10:55:29.036\u001b[0m | \u001b[34m\u001b[1mDEBUG   \u001b[0m | \u001b[36mgsioc\u001b[0m:\u001b[36mbCommand\u001b[0m:\u001b[36m228\u001b[0m - \u001b[34m\u001b[1mresp_raw: b'.'\u001b[0m\n",
      "\u001b[32m2025-02-11 10:55:29.037\u001b[0m | \u001b[34m\u001b[1mDEBUG   \u001b[0m | \u001b[36mgsioc\u001b[0m:\u001b[36mbCommand\u001b[0m:\u001b[36m246\u001b[0m - \u001b[34m\u001b[1mresp_raw 2: 46\u001b[0m\n",
      "\u001b[32m2025-02-11 10:55:29.037\u001b[0m | \u001b[34m\u001b[1mDEBUG   \u001b[0m | \u001b[36mgsioc\u001b[0m:\u001b[36mbCommand\u001b[0m:\u001b[36m220\u001b[0m - \u001b[34m\u001b[1mWrites buffered Command character b'3' to the device GX-241 II.\u001b[0m\n",
      "\u001b[32m2025-02-11 10:55:29.038\u001b[0m | \u001b[34m\u001b[1mDEBUG   \u001b[0m | \u001b[36mgsioc\u001b[0m:\u001b[36mbCommand\u001b[0m:\u001b[36m222\u001b[0m - \u001b[34m\u001b[1mStarts reading character from the device GX-241 II.\u001b[0m\n",
      "\u001b[32m2025-02-11 10:55:29.145\u001b[0m | \u001b[34m\u001b[1mDEBUG   \u001b[0m | \u001b[36mgsioc\u001b[0m:\u001b[36mbCommand\u001b[0m:\u001b[36m224\u001b[0m - \u001b[34m\u001b[1mgot back b'3' from the device GX-241 II.\u001b[0m\n",
      "\u001b[32m2025-02-11 10:55:29.148\u001b[0m | \u001b[34m\u001b[1mDEBUG   \u001b[0m | \u001b[36mgsioc\u001b[0m:\u001b[36mbCommand\u001b[0m:\u001b[36m228\u001b[0m - \u001b[34m\u001b[1mresp_raw: b'3'\u001b[0m\n",
      "\u001b[32m2025-02-11 10:55:29.150\u001b[0m | \u001b[34m\u001b[1mDEBUG   \u001b[0m | \u001b[36mgsioc\u001b[0m:\u001b[36mbCommand\u001b[0m:\u001b[36m246\u001b[0m - \u001b[34m\u001b[1mresp_raw 2: 51\u001b[0m\n",
      "\u001b[32m2025-02-11 10:55:29.152\u001b[0m | \u001b[34m\u001b[1mDEBUG   \u001b[0m | \u001b[36mgsioc\u001b[0m:\u001b[36mbCommand\u001b[0m:\u001b[36m220\u001b[0m - \u001b[34m\u001b[1mWrites buffered Command character b'/' to the device GX-241 II.\u001b[0m\n",
      "\u001b[32m2025-02-11 10:55:29.155\u001b[0m | \u001b[34m\u001b[1mDEBUG   \u001b[0m | \u001b[36mgsioc\u001b[0m:\u001b[36mbCommand\u001b[0m:\u001b[36m222\u001b[0m - \u001b[34m\u001b[1mStarts reading character from the device GX-241 II.\u001b[0m\n",
      "\u001b[32m2025-02-11 10:55:29.269\u001b[0m | \u001b[34m\u001b[1mDEBUG   \u001b[0m | \u001b[36mgsioc\u001b[0m:\u001b[36mbCommand\u001b[0m:\u001b[36m224\u001b[0m - \u001b[34m\u001b[1mgot back b'/' from the device GX-241 II.\u001b[0m\n",
      "\u001b[32m2025-02-11 10:55:29.270\u001b[0m | \u001b[34m\u001b[1mDEBUG   \u001b[0m | \u001b[36mgsioc\u001b[0m:\u001b[36mbCommand\u001b[0m:\u001b[36m228\u001b[0m - \u001b[34m\u001b[1mresp_raw: b'/'\u001b[0m\n",
      "\u001b[32m2025-02-11 10:55:29.270\u001b[0m | \u001b[34m\u001b[1mDEBUG   \u001b[0m | \u001b[36mgsioc\u001b[0m:\u001b[36mbCommand\u001b[0m:\u001b[36m246\u001b[0m - \u001b[34m\u001b[1mresp_raw 2: 47\u001b[0m\n",
      "\u001b[32m2025-02-11 10:55:29.271\u001b[0m | \u001b[34m\u001b[1mDEBUG   \u001b[0m | \u001b[36mgsioc\u001b[0m:\u001b[36mbCommand\u001b[0m:\u001b[36m220\u001b[0m - \u001b[34m\u001b[1mWrites buffered Command character b'1' to the device GX-241 II.\u001b[0m\n",
      "\u001b[32m2025-02-11 10:55:29.272\u001b[0m | \u001b[34m\u001b[1mDEBUG   \u001b[0m | \u001b[36mgsioc\u001b[0m:\u001b[36mbCommand\u001b[0m:\u001b[36m222\u001b[0m - \u001b[34m\u001b[1mStarts reading character from the device GX-241 II.\u001b[0m\n",
      "\u001b[32m2025-02-11 10:55:29.378\u001b[0m | \u001b[34m\u001b[1mDEBUG   \u001b[0m | \u001b[36mgsioc\u001b[0m:\u001b[36mbCommand\u001b[0m:\u001b[36m224\u001b[0m - \u001b[34m\u001b[1mgot back b'1' from the device GX-241 II.\u001b[0m\n",
      "\u001b[32m2025-02-11 10:55:29.379\u001b[0m | \u001b[34m\u001b[1mDEBUG   \u001b[0m | \u001b[36mgsioc\u001b[0m:\u001b[36mbCommand\u001b[0m:\u001b[36m228\u001b[0m - \u001b[34m\u001b[1mresp_raw: b'1'\u001b[0m\n",
      "\u001b[32m2025-02-11 10:55:29.380\u001b[0m | \u001b[34m\u001b[1mDEBUG   \u001b[0m | \u001b[36mgsioc\u001b[0m:\u001b[36mbCommand\u001b[0m:\u001b[36m246\u001b[0m - \u001b[34m\u001b[1mresp_raw 2: 49\u001b[0m\n",
      "\u001b[32m2025-02-11 10:55:29.380\u001b[0m | \u001b[34m\u001b[1mDEBUG   \u001b[0m | \u001b[36mgsioc\u001b[0m:\u001b[36mbCommand\u001b[0m:\u001b[36m220\u001b[0m - \u001b[34m\u001b[1mWrites buffered Command character b'4' to the device GX-241 II.\u001b[0m\n",
      "\u001b[32m2025-02-11 10:55:29.381\u001b[0m | \u001b[34m\u001b[1mDEBUG   \u001b[0m | \u001b[36mgsioc\u001b[0m:\u001b[36mbCommand\u001b[0m:\u001b[36m222\u001b[0m - \u001b[34m\u001b[1mStarts reading character from the device GX-241 II.\u001b[0m\n",
      "\u001b[32m2025-02-11 10:55:29.486\u001b[0m | \u001b[34m\u001b[1mDEBUG   \u001b[0m | \u001b[36mgsioc\u001b[0m:\u001b[36mbCommand\u001b[0m:\u001b[36m224\u001b[0m - \u001b[34m\u001b[1mgot back b'4' from the device GX-241 II.\u001b[0m\n",
      "\u001b[32m2025-02-11 10:55:29.486\u001b[0m | \u001b[34m\u001b[1mDEBUG   \u001b[0m | \u001b[36mgsioc\u001b[0m:\u001b[36mbCommand\u001b[0m:\u001b[36m228\u001b[0m - \u001b[34m\u001b[1mresp_raw: b'4'\u001b[0m\n",
      "\u001b[32m2025-02-11 10:55:29.487\u001b[0m | \u001b[34m\u001b[1mDEBUG   \u001b[0m | \u001b[36mgsioc\u001b[0m:\u001b[36mbCommand\u001b[0m:\u001b[36m246\u001b[0m - \u001b[34m\u001b[1mresp_raw 2: 52\u001b[0m\n",
      "\u001b[32m2025-02-11 10:55:29.488\u001b[0m | \u001b[34m\u001b[1mDEBUG   \u001b[0m | \u001b[36mgsioc\u001b[0m:\u001b[36mbCommand\u001b[0m:\u001b[36m220\u001b[0m - \u001b[34m\u001b[1mWrites buffered Command character b'6' to the device GX-241 II.\u001b[0m\n",
      "\u001b[32m2025-02-11 10:55:29.489\u001b[0m | \u001b[34m\u001b[1mDEBUG   \u001b[0m | \u001b[36mgsioc\u001b[0m:\u001b[36mbCommand\u001b[0m:\u001b[36m222\u001b[0m - \u001b[34m\u001b[1mStarts reading character from the device GX-241 II.\u001b[0m\n",
      "\u001b[32m2025-02-11 10:55:29.597\u001b[0m | \u001b[34m\u001b[1mDEBUG   \u001b[0m | \u001b[36mgsioc\u001b[0m:\u001b[36mbCommand\u001b[0m:\u001b[36m224\u001b[0m - \u001b[34m\u001b[1mgot back b'6' from the device GX-241 II.\u001b[0m\n",
      "\u001b[32m2025-02-11 10:55:29.598\u001b[0m | \u001b[34m\u001b[1mDEBUG   \u001b[0m | \u001b[36mgsioc\u001b[0m:\u001b[36mbCommand\u001b[0m:\u001b[36m228\u001b[0m - \u001b[34m\u001b[1mresp_raw: b'6'\u001b[0m\n",
      "\u001b[32m2025-02-11 10:55:29.599\u001b[0m | \u001b[34m\u001b[1mDEBUG   \u001b[0m | \u001b[36mgsioc\u001b[0m:\u001b[36mbCommand\u001b[0m:\u001b[36m246\u001b[0m - \u001b[34m\u001b[1mresp_raw 2: 54\u001b[0m\n",
      "\u001b[32m2025-02-11 10:55:29.601\u001b[0m | \u001b[34m\u001b[1mDEBUG   \u001b[0m | \u001b[36mgsioc\u001b[0m:\u001b[36mbCommand\u001b[0m:\u001b[36m220\u001b[0m - \u001b[34m\u001b[1mWrites buffered Command character b'\\r' to the device GX-241 II.\u001b[0m\n",
      "\u001b[32m2025-02-11 10:55:29.602\u001b[0m | \u001b[34m\u001b[1mDEBUG   \u001b[0m | \u001b[36mgsioc\u001b[0m:\u001b[36mbCommand\u001b[0m:\u001b[36m222\u001b[0m - \u001b[34m\u001b[1mStarts reading character from the device GX-241 II.\u001b[0m\n",
      "\u001b[32m2025-02-11 10:55:29.708\u001b[0m | \u001b[34m\u001b[1mDEBUG   \u001b[0m | \u001b[36mgsioc\u001b[0m:\u001b[36mbCommand\u001b[0m:\u001b[36m224\u001b[0m - \u001b[34m\u001b[1mgot back b'\\r' from the device GX-241 II.\u001b[0m\n",
      "\u001b[32m2025-02-11 10:55:29.709\u001b[0m | \u001b[34m\u001b[1mDEBUG   \u001b[0m | \u001b[36mgsioc\u001b[0m:\u001b[36mbCommand\u001b[0m:\u001b[36m228\u001b[0m - \u001b[34m\u001b[1mresp_raw: b'\\r'\u001b[0m\n",
      "\u001b[32m2025-02-11 10:55:29.709\u001b[0m | \u001b[34m\u001b[1mDEBUG   \u001b[0m | \u001b[36mgsioc\u001b[0m:\u001b[36mbCommand\u001b[0m:\u001b[36m246\u001b[0m - \u001b[34m\u001b[1mresp_raw 2: 13\u001b[0m\n",
      "\u001b[32m2025-02-11 10:55:29.709\u001b[0m | \u001b[34m\u001b[1mDEBUG   \u001b[0m | \u001b[36mgsioc\u001b[0m:\u001b[36mbCommand\u001b[0m:\u001b[36m261\u001b[0m - \u001b[34m\u001b[1mBuffered command complete.\u001b[0m\n",
      "\u001b[32m2025-02-11 10:55:29.709\u001b[0m | \u001b[34m\u001b[1mDEBUG   \u001b[0m | \u001b[36mgsioc\u001b[0m:\u001b[36mbCommand\u001b[0m:\u001b[36m262\u001b[0m - \u001b[34m\u001b[1mReceived bytearray(b'\\nX62.3/146\\r') from device.\u001b[0m\n",
      "\u001b[32m2025-02-11 10:55:29.710\u001b[0m | \u001b[1mINFO    \u001b[0m | \u001b[36mgsioc\u001b[0m:\u001b[36mbCommand\u001b[0m:\u001b[36m263\u001b[0m - \u001b[1mGSIOC >>> bytearray(b'\\nX62.3/146\\r')\u001b[0m\n"
     ]
    },
    {
     "data": {
      "text/plain": [
       "bytearray(b'\\nX62.3/146\\r')"
      ]
     },
     "execution_count": 7,
     "metadata": {},
     "output_type": "execute_result"
    }
   ],
   "source": [
    "g.bCommand('X62.3/146')"
   ]
  },
  {
   "cell_type": "markdown",
   "id": "e0c61251-2784-4993-b3ac-b6864f124c31",
   "metadata": {},
   "source": [
    "To find the correct Z depth max!"
   ]
  },
  {
   "cell_type": "code",
   "execution_count": null,
   "id": "b12f592c-bc05-4774-b3f3-9b80c5516955",
   "metadata": {},
   "outputs": [],
   "source": [
    "g.bCommand('X61/245.5')"
   ]
  },
  {
   "cell_type": "code",
   "execution_count": null,
   "id": "16a7d5e2-ccf6-49a9-9d49-3634cc0cd068",
   "metadata": {},
   "outputs": [],
   "source": [
    "def g_inject():\n",
    "    g.bCommand('X146.5/0')\n",
    "    g.bCommand('Z105')"
   ]
  },
  {
   "cell_type": "code",
   "execution_count": null,
   "id": "05a0a730-4213-400c-8055-6b380304462e",
   "metadata": {
    "scrolled": true
   },
   "outputs": [],
   "source": [
    "g_inject()"
   ]
  },
  {
   "cell_type": "code",
   "execution_count": null,
   "id": "cde68bc7-d9d3-43b2-b444-fd574113eb0b",
   "metadata": {},
   "outputs": [],
   "source": [
    "g.bCommand('X70/0')"
   ]
  },
  {
   "cell_type": "code",
   "execution_count": null,
   "id": "f6fb9196-c9a9-4982-a5e4-a77badae27a2",
   "metadata": {},
   "outputs": [],
   "source": [
    "g.bCommand('Z20')"
   ]
  },
  {
   "cell_type": "code",
   "execution_count": null,
   "id": "8c95ad8c-9b59-4a0a-86d0-3b4a3205b41d",
   "metadata": {},
   "outputs": [],
   "source": [
    "g.bCommand('H')"
   ]
  },
  {
   "cell_type": "code",
   "execution_count": null,
   "id": "5bd0a70c-8ea3-4d18-ae4c-fcd1c91d5e64",
   "metadata": {},
   "outputs": [],
   "source": [
    "# Create an instance of the gsioc_Protocol class\n",
    "g_dim = gsioc_Protocol(ser, 'GX D Inject', 3)"
   ]
  },
  {
   "cell_type": "code",
   "execution_count": null,
   "id": "83f2f71c-2a06-4037-b9df-211bbf742c57",
   "metadata": {},
   "outputs": [],
   "source": [
    "g_dim.connect()"
   ]
  },
  {
   "cell_type": "code",
   "execution_count": null,
   "id": "87ee6c1e-6a20-4f68-a18d-6262373d12af",
   "metadata": {},
   "outputs": [],
   "source": [
    "g_dim.iCommand('%')"
   ]
  },
  {
   "cell_type": "code",
   "execution_count": null,
   "id": "d40c8cba-cb07-4042-b4d6-a3c4b55fc1e2",
   "metadata": {},
   "outputs": [],
   "source": [
    " g_dim.bCommand('VI')"
   ]
  },
  {
   "cell_type": "code",
   "execution_count": null,
   "id": "2842d9c6-0575-43f4-9d4d-83afc62e2ff7",
   "metadata": {
    "scrolled": true
   },
   "outputs": [],
   "source": [
    "g_dim.bCommand('VL')"
   ]
  },
  {
   "cell_type": "code",
   "execution_count": null,
   "id": "2571c23c-7355-4f0d-a285-117dacae1acf",
   "metadata": {},
   "outputs": [],
   "source": [
    "g_dim.iCommand('X')"
   ]
  },
  {
   "cell_type": "code",
   "execution_count": null,
   "id": "b5dad77a-0e3b-469c-8855-3d894d07ffef",
   "metadata": {},
   "outputs": [],
   "source": [
    "def pos_change():\n",
    "    if g_dim.iCommand('X') == 'L' :\n",
    "        g_dim.bCommand('VI')\n",
    "    else :\n",
    "        g_dim.bCommand('VL')"
   ]
  },
  {
   "cell_type": "code",
   "execution_count": null,
   "id": "9bffc8f2-5166-4f4c-94ef-5ffd364c26cb",
   "metadata": {},
   "outputs": [],
   "source": [
    "pos_change()"
   ]
  },
  {
   "cell_type": "markdown",
   "id": "56b5082c-d767-40c9-9779-4f978138e383",
   "metadata": {},
   "source": [
    "## Basic method byte by byte"
   ]
  },
  {
   "cell_type": "code",
   "execution_count": null,
   "id": "a4719981-94c6-41da-bbd2-eb93d95b78eb",
   "metadata": {
    "scrolled": true
   },
   "outputs": [],
   "source": [
    "ser.isOpen()"
   ]
  },
  {
   "cell_type": "code",
   "execution_count": null,
   "id": "5a9ad3b5-dd32-4a00-b22a-97ce079f38ee",
   "metadata": {},
   "outputs": [],
   "source": [
    "# 1. Imports and Initial Setup\n",
    "# Done above\n",
    "\n",
    "# Set up logging\n",
    "logging.basicConfig(level=logging.DEBUG)\n",
    "logger = logging.getLogger()"
   ]
  },
  {
   "cell_type": "code",
   "execution_count": null,
   "id": "1e28275f-6d9f-4b14-b270-d840fd35a3e4",
   "metadata": {},
   "outputs": [],
   "source": [
    "class DeviceController:\n",
    "    def __init__(self, serial_connection, max_repeats=100):\n",
    "        self.serial = serial_connection\n",
    "        self.max_repeats = max_repeats\n",
    "        self.connection_repeats = max_repeats\n",
    "\n",
    "    # 3. Method Definition\n",
    "    def iCommand(self, commandstring):\n",
    "        logger.debug(f'Sending immediate command {commandstring} to device.')\n",
    "        \n",
    "        # Convert to binary\n",
    "        command = binascii.a2b_qp(commandstring)\n",
    "        logger.debug(f'Converted command to binary: {command}')\n",
    "\n",
    "        # Write command\n",
    "        self.serial.flushInput()\n",
    "        self.serial.write(command)\n",
    "        logger.debug('Command written to serial port.')\n",
    "\n",
    "        # Retrieve Response\n",
    "        resp = bytearray()\n",
    "        while True:\n",
    "            resp_raw = self.serial.read(10)    # Will return empty array after timeout\n",
    "            logger.debug(f'Received raw response: {resp_raw}')\n",
    "\n",
    "            if len(resp_raw) == 0:\n",
    "                logger.debug(f'No response received. Connection repeats left: {self.connection_repeats}')\n",
    "                if self.connection_repeats > 0:\n",
    "                    self.connection_repeats -= 1\n",
    "                    logger.error(f'Attempt {self.max_repeats - self.connection_repeats}/{self.max_repeats}: sent Immediate Command {commandstring}, in binascii: {command}')\n",
    "                    return self.iCommand(commandstring)  # Safe recursion\n",
    "                else:\n",
    "                    logger.critical('No response from device after maximum retries.')\n",
    "                    raise Exception(str(datetime.datetime.now()) + \" No response from device\")\n",
    "\n",
    "            resp.extend(resp_raw)\n",
    "            logger.debug(f'Current response buffer: {resp}')\n",
    "\n",
    "            # Extended ASCII represents end of message\n",
    "            if resp[-1] > 127:\n",
    "                resp[-1] -= 128\n",
    "                logger.debug(f'End of message detected, adjusted last byte: {resp[-1]}')\n",
    "                logger.debug('Sending immediate command complete.')\n",
    "                break\n",
    "\n",
    "            # Write Acknowledge to Device to signal next byte can be retrieved\n",
    "            else:\n",
    "                self.serial.flushInput()\n",
    "                self.serial.write(bytes.fromhex(\"06\"))\n",
    "                logger.debug('Acknowledgement sent to device.')\n",
    "\n",
    "        logger.debug(f'Received full response: {resp}')\n",
    "        return resp.decode(\"ascii\")"
   ]
  },
  {
   "cell_type": "code",
   "execution_count": null,
   "id": "905a9047-7771-4623-bb14-32199c0cc342",
   "metadata": {},
   "outputs": [],
   "source": [
    "# 4. Testing and Debugging\n",
    "# Create an instance of DeviceController\n",
    "device = DeviceController(ser)\n",
    "\n",
    "# Example command to send (replace with actual command for your device)\n",
    "command_string = '%'\n",
    "\n",
    "# Call the iCommand method\n",
    "try:\n",
    "    response = device.iCommand(command_string)\n",
    "    print(f'Response from device: {response}')\n",
    "except Exception as e:\n",
    "    print(f'Error: {e}')"
   ]
  },
  {
   "cell_type": "code",
   "execution_count": null,
   "id": "0afcb479-24c8-4859-afe0-c63965a93cda",
   "metadata": {},
   "outputs": [],
   "source": [
    "ser.close()"
   ]
  },
  {
   "cell_type": "markdown",
   "id": "3313c5dc-8b44-429e-8ebe-892a6557cef9",
   "metadata": {},
   "source": [
    "## Try Run and Platform Setup"
   ]
  },
  {
   "cell_type": "markdown",
   "id": "b0772902-86a1-474c-9995-74aafb5c48b0",
   "metadata": {},
   "source": [
    "This seems a little complex as is, too many unneeded things bundled in run.py. Try to extract the relevant functions and start again."
   ]
  },
  {
   "cell_type": "code",
   "execution_count": null,
   "id": "8a71b9b3-0dcd-40d1-af36-13f8b82f5e11",
   "metadata": {},
   "outputs": [],
   "source": [
    "from platform_setup_new import *"
   ]
  },
  {
   "cell_type": "code",
   "execution_count": null,
   "id": "df454243-fea1-4610-a02a-1d4ca0c6ea8f",
   "metadata": {},
   "outputs": [],
   "source": [
    "rack_position_offset_x=92       #distance in mm between rack_position=1 and =2 on x-axis\n",
    "rack_position_offset_y=0        #distance in mm between rack_position=1 and =2 on y-axis\n",
    "\n",
    "############################# RACK 1 DEFINITION #################################\n",
    "\n",
    "# From platform_setup.py \n",
    "rack1 = Rack([4,16], 7.5, 39.5, 18.5, 13.75, 65) # groundlevel_height assumed the minimum Z\n",
    "\n",
    "#  array_dimensions, offset_x, offset_y=offset_y, vial2vial_x, vial2vial_y, groundlevel_height\n",
    "\n",
    "# Previous vial2vialx = (2.11+15.6)\n",
    "# Previous vial2vial7 = (2.72+15.6+0.35)\n",
    "\n",
    "array_order1 = np.array([      #user is obliged to define a integer number i>=1 for each vial in the rack in ascending order \n",
    "    [1, 2, 3, 4],\n",
    "    [5, 6, 7, 8],\n",
    "    [9, 10,11,12],\n",
    "    [13,14,15,16],\n",
    "    [17,18,19,20],\n",
    "    [21,22,23,24],     \n",
    "    [25,26,27,28],     \n",
    "    [29,30,31,32],\n",
    "    [33,34,35,36],\n",
    "    [37,38,39,40],\n",
    "    [41,42,43,44],\n",
    "    [45,46,47,48],\n",
    "    [49,50,51,52],\n",
    "    [53,54,55,56],\n",
    "    [57,58,59,60],\n",
    "    [61,62,63,64]        \n",
    "    ])\n",
    "    \n",
    "rack_pos1=1\n",
    "\n",
    "global rack1_commands\n",
    "\n",
    "# Not sure what rack_position_offset_x/y are for x=92 and y=0\n",
    "\n",
    "rack1_commands = Rackcommands(rack1, array_order1, rack_pos1, rack_position_offset_x, rack_position_offset_y)\n",
    "\n",
    "global vial_selfmade\n",
    "\n",
    "vial_selfmade = Vial(1.5, 1, 33, 31.08)"
   ]
  },
  {
   "cell_type": "code",
   "execution_count": null,
   "id": "91729a43-a1fc-42c6-a7bc-d599b4e682c4",
   "metadata": {},
   "outputs": [],
   "source": [
    "# It works!\n",
    "thing = rack1_commands.get_xy_command(2)\n",
    "thing\n",
    "g.bCommand(thing[0])"
   ]
  },
  {
   "cell_type": "code",
   "execution_count": null,
   "id": "49df7c33-7676-4266-b83d-ff3fdf1093c0",
   "metadata": {},
   "outputs": [],
   "source": [
    "g.bCommand('H')"
   ]
  },
  {
   "cell_type": "markdown",
   "id": "4fc98a09-2d8c-45ef-a73f-22efa90d99f2",
   "metadata": {},
   "source": [
    "## SPKA code - to put in a function"
   ]
  },
  {
   "cell_type": "code",
   "execution_count": null,
   "id": "a3f0644e-9932-4a31-947f-4cb603135ddb",
   "metadata": {},
   "outputs": [],
   "source": [
    "# Define kinetic screen\n",
    "no_sub_A = 2      # First Column\n",
    "no_sub_B = 1      # Second Column\n",
    "no_cat = 0        # Third Column\n",
    "no_add = 0        # Fourth Column\n",
    "\n",
    "# Create lists for each\n",
    "sub_A_list = [1 + 4 * i for i in range(no_sub_A)]\n",
    "sub_B_list = [2 + 4 * i for i in range(no_sub_B)] if no_sub_B > 0 else []\n",
    "cat_list = [3 + 4 * i for i in range(no_cat)] if no_cat > 0 else []\n",
    "add_list = [4 + 4 * i for i in range(no_add)] if no_add > 0 else []\n",
    "\n",
    "#print(sub_A_array, sub_B_array, cat_array)"
   ]
  },
  {
   "cell_type": "code",
   "execution_count": null,
   "id": "481ec238-41cd-48d4-afce-26f30b23cd6a",
   "metadata": {},
   "outputs": [],
   "source": [
    "# Generate all possible combinations\n",
    "all_combinations = list(itertools.product(sub_A_list, sub_B_list, cat_list, add_list))\n",
    "\n",
    "# Reorder combinations so that all combinations with the same elements\n",
    "# in sub_B_array and cat_array are grouped together\n",
    "spka_combinations = []\n",
    "\n",
    "# Iterate through all unique combinations of sub_B_array and cat_array\n",
    "# This will go through all sub_A first, then sub_B, then cat\n",
    "for a in sub_A_list:\n",
    "    if sub_B_list:\n",
    "        for b in sub_B_list:\n",
    "            if cat_list:  # Check if cat_list is not empty\n",
    "                for c in cat_list:\n",
    "                    if add_list:  # Only include d if add_list is not empty\n",
    "                        for d in add_list:\n",
    "                            spka_combinations.append((a, b, c, d))\n",
    "                    else:\n",
    "                        spka_combinations.append((a, b, c))  # Append without d\n",
    "            else:  # If cat_list is empty\n",
    "                if add_list:\n",
    "                    for d in add_list:\n",
    "                        spka_combinations.append((a, b, d))  # Append without c\n",
    "                else:\n",
    "                    spka_combinations.append((a, b))  # Append only a and b\n",
    "    else:  # If sub_B_list is empty\n",
    "        if cat_list:\n",
    "            for c in cat_list:\n",
    "                if add_list:\n",
    "                    for d in add_list:\n",
    "                        spka_combinations.append((a, c, d))  # Append without b\n",
    "                else:\n",
    "                    spka_combinations.append((a, c))  # Append only a and c\n",
    "        else:  # If both sub_B_list and cat_list are empty\n",
    "            if add_list:\n",
    "                for d in add_list:\n",
    "                    spka_combinations.append((a, d))  # Append only a and d\n",
    "            else:\n",
    "                spka_combinations.append((a,))  # Append only a\n",
    "\n",
    "# Display the combinations\n",
    "spka_combinations"
   ]
  },
  {
   "cell_type": "code",
   "execution_count": null,
   "id": "2b4c872e-9362-4ed0-9492-0abb68ac4a55",
   "metadata": {},
   "outputs": [],
   "source": [
    "# Iterate over each tuple in the list (each separate kinetic profile)\n",
    "for tuple in spka_combinations:\n",
    "    \n",
    "    # Iterate over each number in the tuple (each reagent in an experiment)\n",
    "    for element in tuple:\n",
    "        \n",
    "        # Find the xy position of the vial        \n",
    "        vial_xy_pos = rack1_commands.get_xy_command(element)\n",
    "        \n",
    "        ##### TO DO #####\n",
    "        \n",
    "        # Display vial number - must be a two digit integer\n",
    "        g.bCommand(f\"W{element:02}\")\n",
    "        \n",
    "        # Go to Vial\n",
    "        g.bCommand(vial_xy_pos[0])\n",
    "\n",
    "        # Needle Down - define this distance somewhere above!\n",
    "        g.bCommand('Z85')\n",
    "\n",
    "        # Run the pump\n",
    "        # This will be a while away...\n",
    "        # How to make the autosampler idle while this is happening?\n",
    "\n",
    "        # Needle Up\n",
    "        g.bCommand('Z120')\n",
    "\n",
    "        # Log the vial and the amount taken\n",
    "        # Add a logger...\n",
    "        print(vial_xy_pos)\n",
    "\n",
    "        # Create air gap\n",
    "        # Create a tiny airgap with the pump, will this be necessary?\n",
    "        \n",
    "    # Go to the DIM and inject\n",
    "    g_inject()\n",
    "    \n",
    "    # Blank the display\n",
    "    g.bCommand('WBB')\n",
    "    \n",
    "    # For now, let's just go to Home instead of the DIM\n",
    "    g_inject()\n",
    "\n",
    "g.bCommand('H')"
   ]
  }
 ],
 "metadata": {
  "kernelspec": {
   "display_name": "Python 3 (ipykernel)",
   "language": "python",
   "name": "python3"
  },
  "language_info": {
   "codemirror_mode": {
    "name": "ipython",
    "version": 3
   },
   "file_extension": ".py",
   "mimetype": "text/x-python",
   "name": "python",
   "nbconvert_exporter": "python",
   "pygments_lexer": "ipython3",
   "version": "3.11.7"
  }
 },
 "nbformat": 4,
 "nbformat_minor": 5
}
