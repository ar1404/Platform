{
 "cells": [
  {
   "cell_type": "markdown",
   "id": "94e6f2a6-9a8c-4676-864c-9c1dd30ea6b7",
   "metadata": {},
   "source": [
    "# Control Centre"
   ]
  },
  {
   "cell_type": "code",
   "execution_count": 1,
   "id": "38def2b4-4cd7-4e1f-834f-6db4e1f7c1c8",
   "metadata": {},
   "outputs": [],
   "source": [
    "import time\n",
    "import serial\n",
    "import numpy as np\n",
    "import sys\n",
    "import os\n",
    "import asyncio\n",
    "from multiprocessing import Process\n",
    "import threading\n",
    "from scipy import constants\n",
    "import itertools\n",
    "\n",
    "import binascii\n",
    "from datetime import datetime\n",
    "import logging\n",
    "\n",
    "#from gsioc import gsioc_Protocol, ensure_xy_position_will_be_reached"
   ]
  },
  {
   "cell_type": "markdown",
   "id": "1d0db269-dbab-424a-99a5-188148d0555a",
   "metadata": {},
   "source": [
    "## Get started with GSIOC"
   ]
  },
  {
   "cell_type": "markdown",
   "id": "379f0e49-c3c5-4544-949e-1c1e0e4dd23c",
   "metadata": {},
   "source": [
    "To reset the COM port:\n",
    "1) Open device manager and disable COM1\n",
    "2) Turn machine off and on\n",
    "3) Enable COM1 in device manager\n",
    "\n",
    "Use ser.close() here to close the serial port\n",
    "\n",
    "NOTE: Python seems to have problems when the GX-241 is in COM1 (motherboard), it will connect but cannot send or recieve. This is easily fixed by using a USB to serial adapter instead."
   ]
  },
  {
   "cell_type": "code",
   "execution_count": 2,
   "id": "9c217afa-11be-449a-ab68-e48951d5082b",
   "metadata": {},
   "outputs": [],
   "source": [
    "from gilson import *"
   ]
  },
  {
   "cell_type": "code",
   "execution_count": 3,
   "id": "8b0fc3ba-00c6-4f08-a1c3-537890108fe0",
   "metadata": {},
   "outputs": [],
   "source": [
    "# Set up the serial connection\n",
    "PORT1 = 'COM6'\n",
    "ser = serial.Serial(PORT1, 19200, 8, \"N\", 1, 0.1)"
   ]
  },
  {
   "cell_type": "code",
   "execution_count": 4,
   "id": "0c566769-2d01-442e-8826-ead57c1cd8c4",
   "metadata": {},
   "outputs": [],
   "source": [
    "# Create an instance of the gsioc_Protocol class\n",
    "g = gsioc_Protocol(ser, 'GX-241 II', 30)"
   ]
  },
  {
   "cell_type": "code",
   "execution_count": 6,
   "id": "22a10c6f-98e8-4471-ae8b-98e52279d143",
   "metadata": {},
   "outputs": [
    {
     "name": "stdout",
     "output_type": "stream",
     "text": [
      "logging enabled\n"
     ]
    }
   ],
   "source": [
    "g.enable_logging()"
   ]
  },
  {
   "cell_type": "code",
   "execution_count": 7,
   "id": "7e8cdea3-e354-47b2-8e1c-ae7d5305387c",
   "metadata": {
    "scrolled": true
   },
   "outputs": [],
   "source": [
    "g.connect()"
   ]
  },
  {
   "cell_type": "code",
   "execution_count": 8,
   "id": "7e378056-dbef-415a-903a-6454b23748b4",
   "metadata": {},
   "outputs": [],
   "source": [
    "g.log_info(\"this shouldnt show\")"
   ]
  },
  {
   "cell_type": "code",
   "execution_count": 9,
   "id": "d52bfd4e-e2b9-406c-8dc5-4c429a27bfd4",
   "metadata": {},
   "outputs": [
    {
     "name": "stdout",
     "output_type": "stream",
     "text": [
      "logging enabled\n"
     ]
    }
   ],
   "source": [
    "g.enable_logging()"
   ]
  },
  {
   "cell_type": "code",
   "execution_count": 10,
   "id": "0695d642-a3a3-4067-a92b-1f829bef3a74",
   "metadata": {},
   "outputs": [
    {
     "data": {
      "text/plain": [
       "'GX-241 II v2.0.2.5'"
      ]
     },
     "execution_count": 10,
     "metadata": {},
     "output_type": "execute_result"
    }
   ],
   "source": [
    "g.get_device_name()"
   ]
  },
  {
   "cell_type": "code",
   "execution_count": 11,
   "id": "994113a2-96d4-40b7-8fe7-7807fc760961",
   "metadata": {},
   "outputs": [],
   "source": [
    "g.log_info('this should log')"
   ]
  },
  {
   "cell_type": "code",
   "execution_count": 3,
   "id": "09e110fc-5d3e-477b-b25a-c319951da4ab",
   "metadata": {},
   "outputs": [],
   "source": [
    "from hb_elite_pump.hb_elite import *"
   ]
  },
  {
   "cell_type": "code",
   "execution_count": 8,
   "id": "20c4cf87-6263-4605-84ef-71bd5b651505",
   "metadata": {},
   "outputs": [],
   "source": [
    "#Defining ser_1\n",
    "PORT2 = 'COM4'\n",
    "ser_1 = serial.Serial(PORT2, 9600, 8, \"N\", 1, 0.1)"
   ]
  },
  {
   "cell_type": "code",
   "execution_count": 9,
   "id": "7f65084f-312f-4a5d-982a-6fa4a992839a",
   "metadata": {},
   "outputs": [],
   "source": [
    "# Create an instance of the gsioc_Protocol class\n",
    "pump = HBElite(ser_1)"
   ]
  },
  {
   "cell_type": "code",
   "execution_count": 10,
   "id": "cc50680f-a1a2-4011-99c6-81902a30d191",
   "metadata": {},
   "outputs": [
    {
     "name": "stdout",
     "output_type": "stream",
     "text": [
      "Device is connected\n"
     ]
    }
   ],
   "source": [
    "#Connecting to pump\n",
    "pump.connect()"
   ]
  },
  {
   "cell_type": "code",
   "execution_count": 4,
   "id": "afc3cec3-aa8a-450f-bb3a-2083027a3444",
   "metadata": {},
   "outputs": [],
   "source": [
    "from platform_setup_new import *"
   ]
  },
  {
   "cell_type": "code",
   "execution_count": 14,
   "id": "a0f08880-c573-4ee4-af7b-17d16ed937c2",
   "metadata": {},
   "outputs": [
    {
     "data": {
      "text/plain": [
       "'GX-241 II v2.0.2.5'"
      ]
     },
     "execution_count": 14,
     "metadata": {},
     "output_type": "execute_result"
    }
   ],
   "source": [
    "g.iCommand('%')"
   ]
  },
  {
   "cell_type": "code",
   "execution_count": 13,
   "id": "991b4a46-ea6b-459a-8376-0fe9943bc847",
   "metadata": {},
   "outputs": [
    {
     "data": {
      "text/plain": [
       "bytearray(b'\\nH\\r')"
      ]
     },
     "execution_count": 13,
     "metadata": {},
     "output_type": "execute_result"
    }
   ],
   "source": [
    "g.bCommand('H')"
   ]
  },
  {
   "cell_type": "code",
   "execution_count": null,
   "id": "16a7d5e2-ccf6-49a9-9d49-3634cc0cd068",
   "metadata": {},
   "outputs": [],
   "source": [
    "def g_inject():\n",
    "    g.bCommand('X146.5/0')\n",
    "    g.bCommand('Z105')"
   ]
  },
  {
   "cell_type": "code",
   "execution_count": null,
   "id": "5bd0a70c-8ea3-4d18-ae4c-fcd1c91d5e64",
   "metadata": {},
   "outputs": [],
   "source": [
    "# Create an instance of the gsioc_Protocol class\n",
    "g_dim = gsioc_Protocol(ser, 'GX D Inject', 3)"
   ]
  },
  {
   "cell_type": "code",
   "execution_count": null,
   "id": "83f2f71c-2a06-4037-b9df-211bbf742c57",
   "metadata": {},
   "outputs": [],
   "source": [
    "g_dim.connect()"
   ]
  },
  {
   "cell_type": "code",
   "execution_count": null,
   "id": "87ee6c1e-6a20-4f68-a18d-6262373d12af",
   "metadata": {},
   "outputs": [],
   "source": [
    "g_dim.iCommand('%')"
   ]
  },
  {
   "cell_type": "code",
   "execution_count": null,
   "id": "d40c8cba-cb07-4042-b4d6-a3c4b55fc1e2",
   "metadata": {},
   "outputs": [],
   "source": [
    " g_dim.bCommand('VI')"
   ]
  },
  {
   "cell_type": "code",
   "execution_count": null,
   "id": "2842d9c6-0575-43f4-9d4d-83afc62e2ff7",
   "metadata": {
    "scrolled": true
   },
   "outputs": [],
   "source": [
    "g_dim.bCommand('VL')"
   ]
  },
  {
   "cell_type": "code",
   "execution_count": null,
   "id": "b5dad77a-0e3b-469c-8855-3d894d07ffef",
   "metadata": {},
   "outputs": [],
   "source": [
    "def pos_change():\n",
    "    if g_dim.iCommand('X') == 'L' :\n",
    "        g_dim.bCommand('VI')\n",
    "    else :\n",
    "        g_dim.bCommand('VL')"
   ]
  },
  {
   "cell_type": "code",
   "execution_count": null,
   "id": "9bffc8f2-5166-4f4c-94ef-5ffd364c26cb",
   "metadata": {},
   "outputs": [],
   "source": [
    "pos_change()"
   ]
  },
  {
   "cell_type": "markdown",
   "id": "56b5082c-d767-40c9-9779-4f978138e383",
   "metadata": {
    "jp-MarkdownHeadingCollapsed": true
   },
   "source": [
    "## Basic method byte by byte"
   ]
  },
  {
   "cell_type": "code",
   "execution_count": null,
   "id": "a4719981-94c6-41da-bbd2-eb93d95b78eb",
   "metadata": {
    "scrolled": true
   },
   "outputs": [],
   "source": [
    "ser.isOpen()"
   ]
  },
  {
   "cell_type": "code",
   "execution_count": null,
   "id": "905a9047-7771-4623-bb14-32199c0cc342",
   "metadata": {},
   "outputs": [],
   "source": [
    "# 4. Testing and Debugging\n",
    "# Create an instance of DeviceController\n",
    "device = DeviceController(ser)\n",
    "\n",
    "# Example command to send (replace with actual command for your device)\n",
    "command_string = '%'\n",
    "\n",
    "# Call the iCommand method\n",
    "try:\n",
    "    response = device.iCommand(command_string)\n",
    "    print(f'Response from device: {response}')\n",
    "except Exception as e:\n",
    "    print(f'Error: {e}')"
   ]
  },
  {
   "cell_type": "code",
   "execution_count": null,
   "id": "0afcb479-24c8-4859-afe0-c63965a93cda",
   "metadata": {},
   "outputs": [],
   "source": [
    "ser.close()"
   ]
  },
  {
   "cell_type": "markdown",
   "id": "3313c5dc-8b44-429e-8ebe-892a6557cef9",
   "metadata": {},
   "source": [
    "## Try Run and Platform Setup"
   ]
  },
  {
   "cell_type": "markdown",
   "id": "b0772902-86a1-474c-9995-74aafb5c48b0",
   "metadata": {},
   "source": [
    "This seems a little complex as is, too many unneeded things bundled in run.py. Try to extract the relevant functions and start again."
   ]
  },
  {
   "cell_type": "code",
   "execution_count": 16,
   "id": "df454243-fea1-4610-a02a-1d4ca0c6ea8f",
   "metadata": {},
   "outputs": [],
   "source": [
    "rack_position_offset_x=92       #distance in mm between rack_position=1 and =2 on x-axis\n",
    "rack_position_offset_y=0        #distance in mm between rack_position=1 and =2 on y-axis\n",
    "\n",
    "############################# RACK 1 DEFINITION #################################\n",
    "\n",
    "# From platform_setup.py \n",
    "rack1 = Rack([4,16], 7.5, 39.5, 18.5, 13.75, 65) # groundlevel_height assumed the minimum Z\n",
    "\n",
    "#  array_dimensions, offset_x, offset_y=offset_y, vial2vial_x, vial2vial_y, groundlevel_height\n",
    "\n",
    "# Previous vial2vialx = (2.11+15.6)\n",
    "# Previous vial2vial7 = (2.72+15.6+0.35)\n",
    "\n",
    "array_order1 = np.array([      #user is obliged to define a integer number i>=1 for each vial in the rack in ascending order \n",
    "    [1, 2, 3, 4],\n",
    "    [5, 6, 7, 8],\n",
    "    [9, 10,11,12],\n",
    "    [13,14,15,16],\n",
    "    [17,18,19,20],\n",
    "    [21,22,23,24],     \n",
    "    [25,26,27,28],     \n",
    "    [29,30,31,32],\n",
    "    [33,34,35,36],\n",
    "    [37,38,39,40],\n",
    "    [41,42,43,44],\n",
    "    [45,46,47,48],\n",
    "    [49,50,51,52],\n",
    "    [53,54,55,56],\n",
    "    [57,58,59,60],\n",
    "    [61,62,63,64]        \n",
    "    ])\n",
    "    \n",
    "rack_pos1=1\n",
    "\n",
    "global rack1_commands\n",
    "\n",
    "# Not sure what rack_position_offset_x/y are for x=92 and y=0\n",
    "\n",
    "rack1_commands = Rackcommands(rack1, array_order1, rack_pos1, rack_position_offset_x, rack_position_offset_y)\n",
    "\n",
    "global vial_selfmade\n",
    "\n",
    "vial_selfmade = Vial(1.5, 1, 33, 31.08)"
   ]
  },
  {
   "cell_type": "code",
   "execution_count": 17,
   "id": "91729a43-a1fc-42c6-a7bc-d599b4e682c4",
   "metadata": {},
   "outputs": [
    {
     "data": {
      "text/plain": [
       "bytearray(b'\\nX44.5/39.5\\r')"
      ]
     },
     "execution_count": 17,
     "metadata": {},
     "output_type": "execute_result"
    }
   ],
   "source": [
    "# It works!\n",
    "thing = rack1_commands.get_xy_command(3)\n",
    "thing\n",
    "g.bCommand(thing[0])"
   ]
  },
  {
   "cell_type": "code",
   "execution_count": 8,
   "id": "49df7c33-7676-4266-b83d-ff3fdf1093c0",
   "metadata": {},
   "outputs": [
    {
     "data": {
      "text/plain": [
       "bytearray(b'\\nH\\r')"
      ]
     },
     "execution_count": 8,
     "metadata": {},
     "output_type": "execute_result"
    }
   ],
   "source": [
    "g.bCommand('H')"
   ]
  },
  {
   "cell_type": "markdown",
   "id": "f0a41a3e-5dd5-4dca-a40a-79a05b4f383c",
   "metadata": {},
   "source": [
    "## With syr pump"
   ]
  },
  {
   "cell_type": "code",
   "execution_count": null,
   "id": "fbf533a2-fff5-496b-9637-7b93e15b6610",
   "metadata": {},
   "outputs": [],
   "source": [
    "#clearing recorded volumes\n",
    "pump.command('cvolume')\n",
    "pump.command('ctvolume')"
   ]
  },
  {
   "cell_type": "code",
   "execution_count": null,
   "id": "ee70d454-ac82-44e9-a39a-2f918907b84c",
   "metadata": {},
   "outputs": [],
   "source": [
    "pump.command('time')"
   ]
  },
  {
   "cell_type": "code",
   "execution_count": null,
   "id": "6b26b5a6-9160-4f22-ac6e-cdd5f0886e00",
   "metadata": {},
   "outputs": [],
   "source": [
    "#setting target vol\n",
    "pump.command('tvolume 1 ml')"
   ]
  },
  {
   "cell_type": "code",
   "execution_count": null,
   "id": "24578eb6-8a63-4e04-bd51-476a9bc754b3",
   "metadata": {},
   "outputs": [],
   "source": [
    "# It works!\n",
    "thing = rack1_commands.get_xy_command(1)\n",
    "thing\n",
    "g.bCommand(thing[0])"
   ]
  },
  {
   "cell_type": "code",
   "execution_count": null,
   "id": "dd6e77c3-3b74-494d-9d87-2c3a65a583db",
   "metadata": {},
   "outputs": [],
   "source": [
    "g.bCommand('Z85')"
   ]
  },
  {
   "cell_type": "code",
   "execution_count": null,
   "id": "db0ace26-3bd3-448c-bc1a-5bda2fd824a8",
   "metadata": {},
   "outputs": [],
   "source": [
    "pump.command('wrate 1 ml/min')\n",
    "pump.command('wran')"
   ]
  },
  {
   "cell_type": "code",
   "execution_count": null,
   "id": "2637dc69-0416-4c64-85df-031f7d66b61f",
   "metadata": {},
   "outputs": [],
   "source": [
    "# It works!\n",
    "thing = rack1_commands.get_xy_command(4)\n",
    "thing\n",
    "g.bCommand(thing[0])"
   ]
  },
  {
   "cell_type": "code",
   "execution_count": null,
   "id": "6c387673-63e0-4a92-9bb5-c3915ddaadd3",
   "metadata": {},
   "outputs": [],
   "source": [
    "g.bCommand('Z85')\n",
    "sleep(5)"
   ]
  },
  {
   "cell_type": "code",
   "execution_count": null,
   "id": "4341fb3d-1d92-4d21-bed4-2418fdc30b24",
   "metadata": {},
   "outputs": [],
   "source": [
    "pump.command('irate 1 ml/min')\n",
    "pump.command('irun')"
   ]
  },
  {
   "cell_type": "code",
   "execution_count": null,
   "id": "d73f5d55-922c-4662-aaa0-482b7ec054cf",
   "metadata": {},
   "outputs": [],
   "source": [
    "g.bCommand('H')"
   ]
  },
  {
   "cell_type": "code",
   "execution_count": null,
   "id": "5e050a27-fc04-4172-ab57-8f6c2d1598e3",
   "metadata": {},
   "outputs": [],
   "source": []
  },
  {
   "cell_type": "markdown",
   "id": "4fc98a09-2d8c-45ef-a73f-22efa90d99f2",
   "metadata": {},
   "source": [
    "## SPKA code - to put in a function"
   ]
  },
  {
   "cell_type": "code",
   "execution_count": null,
   "id": "a3f0644e-9932-4a31-947f-4cb603135ddb",
   "metadata": {},
   "outputs": [],
   "source": [
    "# Define kinetic screen\n",
    "no_sub_A = 1      # First Column\n",
    "no_sub_B = 1      # Second Column\n",
    "no_cat = 1        # Third Column\n",
    "no_add = 1        # Fourth Column\n",
    "\n",
    "# Create lists for each\n",
    "sub_A_list = [1 + 4 * i for i in range(no_sub_A)]\n",
    "sub_B_list = [2 + 4 * i for i in range(no_sub_B)] if no_sub_B > 0 else []\n",
    "cat_list = [3 + 4 * i for i in range(no_cat)] if no_cat > 0 else []\n",
    "add_list = [4 + 4 * i for i in range(no_add)] if no_add > 0 else []\n",
    "\n",
    "#print(sub_A_array, sub_B_array, cat_array)"
   ]
  },
  {
   "cell_type": "code",
   "execution_count": null,
   "id": "481ec238-41cd-48d4-afce-26f30b23cd6a",
   "metadata": {},
   "outputs": [],
   "source": [
    "# Generate all possible combinations\n",
    "all_combinations = list(itertools.product(sub_A_list, sub_B_list, cat_list, add_list))\n",
    "\n",
    "# Reorder combinations so that all combinations with the same elements\n",
    "# in sub_B_array and cat_array are grouped together\n",
    "spka_combinations = []\n",
    "\n",
    "# Iterate through all unique combinations of sub_B_array and cat_array\n",
    "# This will go through all sub_A first, then sub_B, then cat\n",
    "for a in sub_A_list:\n",
    "    if sub_B_list:\n",
    "        for b in sub_B_list:\n",
    "            if cat_list:  # Check if cat_list is not empty\n",
    "                for c in cat_list:\n",
    "                    if add_list:  # Only include d if add_list is not empty\n",
    "                        for d in add_list:\n",
    "                            spka_combinations.append((a, b, c, d))\n",
    "                    else:\n",
    "                        spka_combinations.append((a, b, c))  # Append without d\n",
    "            else:  # If cat_list is empty\n",
    "                if add_list:\n",
    "                    for d in add_list:\n",
    "                        spka_combinations.append((a, b, d))  # Append without c\n",
    "                else:\n",
    "                    spka_combinations.append((a, b))  # Append only a and b\n",
    "    else:  # If sub_B_list is empty\n",
    "        if cat_list:\n",
    "            for c in cat_list:\n",
    "                if add_list:\n",
    "                    for d in add_list:\n",
    "                        spka_combinations.append((a, c, d))  # Append without b\n",
    "                else:\n",
    "                    spka_combinations.append((a, c))  # Append only a and c\n",
    "        else:  # If both sub_B_list and cat_list are empty\n",
    "            if add_list:\n",
    "                for d in add_list:\n",
    "                    spka_combinations.append((a, d))  # Append only a and d\n",
    "            else:\n",
    "                spka_combinations.append((a,))  # Append only a\n",
    "\n",
    "# Display the combinations\n",
    "spka_combinations"
   ]
  },
  {
   "cell_type": "code",
   "execution_count": null,
   "id": "2b4c872e-9362-4ed0-9492-0abb68ac4a55",
   "metadata": {},
   "outputs": [],
   "source": [
    "# Iterate over each tuple in the list (each separate kinetic profile)\n",
    "for tuple in spka_combinations:\n",
    "    \n",
    "    # Iterate over each number in the tuple (each reagent in an experiment)\n",
    "    for element in tuple:\n",
    "        \n",
    "        # Find the xy position of the vial        \n",
    "        vial_xy_pos = rack1_commands.get_xy_command(element)\n",
    "        \n",
    "        ##### TO DO #####\n",
    "        \n",
    "        # Display vial number - must be a two digit integer\n",
    "        g.bCommand(f\"W{element:02}\")\n",
    "        \n",
    "        # Go to Vial\n",
    "        g.bCommand(vial_xy_pos[0])\n",
    "        log_action('test_log.txt', f\"Autosampler sent to position {element:02}\")\n",
    "        \n",
    "        # Needle Down - define this distance somewhere above!\n",
    "        g.bCommand('Z85')\n",
    "\n",
    "        #HBElite to withdraw\n",
    "        pump.command('cvolume')\n",
    "        pump.command('ctvolume')\n",
    "        pump.command('tvolume 0.02 ml')\n",
    "        pump.command('wrate 2 ml/min')\n",
    "        pump.command('wrun')\n",
    "        \n",
    "        \n",
    "        # Run the pump\n",
    "        # This will be a while away...\n",
    "        # How to make the autosampler idle while this is happening?\n",
    "\n",
    "        # Needle Up\n",
    "        g.bCommand('Z120')\n",
    "\n",
    "        # Log the vial and the amount taken\n",
    "        # Add a logger...\n",
    "        print(vial_xy_pos)\n",
    "\n",
    "        # Create air gap\n",
    "        # Create a tiny airgap with the pump, will this be necessary?\n",
    "        \n",
    "    # Go to the DIM and inject\n",
    "    g_inject()\n",
    "    log_action('test_log.txt', \"Autosampler sent to DIM to inject\")\n",
    "    \n",
    "    # Blank the display\n",
    "    g.bCommand('WBB')\n",
    "\n",
    "g.bCommand('H')"
   ]
  },
  {
   "cell_type": "code",
   "execution_count": null,
   "id": "624fd75b-89f6-4a88-80cc-8cca6e59d7d4",
   "metadata": {},
   "outputs": [],
   "source": []
  }
 ],
 "metadata": {
  "kernelspec": {
   "display_name": "Python 3 (ipykernel)",
   "language": "python",
   "name": "python3"
  },
  "language_info": {
   "codemirror_mode": {
    "name": "ipython",
    "version": 3
   },
   "file_extension": ".py",
   "mimetype": "text/x-python",
   "name": "python",
   "nbconvert_exporter": "python",
   "pygments_lexer": "ipython3",
   "version": "3.11.7"
  }
 },
 "nbformat": 4,
 "nbformat_minor": 5
}
