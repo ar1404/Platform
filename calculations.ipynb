{
 "cells": [
  {
   "cell_type": "code",
   "execution_count": 2,
   "id": "5c5adb2b-64c3-4f68-93f5-b92bc1bc6365",
   "metadata": {},
   "outputs": [],
   "source": [
    "import pandas as pd"
   ]
  },
  {
   "cell_type": "code",
   "execution_count": 5,
   "id": "bdc1eee8-49a5-4138-b2d0-d01c8b4853d7",
   "metadata": {},
   "outputs": [],
   "source": [
    "df = pd.read_csv(\"chemical_list.csv\")"
   ]
  },
  {
   "cell_type": "code",
   "execution_count": 6,
   "id": "72c736c9-bd75-4d94-8779-435d5bb86eb1",
   "metadata": {},
   "outputs": [],
   "source": [
    "def get_moles(CAS, conc, tot_vol):\n",
    "    moles = conc * tot_vol #total volume should be defined elsewhere in the code\n",
    "    print(f\"moles = {moles} mol\")"
   ]
  },
  {
   "cell_type": "code",
   "execution_count": 7,
   "id": "3ca20103-0ba6-446f-b7d1-35c914cfb8e9",
   "metadata": {},
   "outputs": [],
   "source": [
    "def get_mass(CAS, conc, tot_vol):\n",
    "    moles = conc * tot_vol #total volume should be defined elsewhere in the code\n",
    "    mw = df.loc[df[\"CAS\"] == CAS, \"MW\"].values[0]\n",
    "    mass = moles * mw\n",
    "    print(f\"mass = {mass} g\")"
   ]
  },
  {
   "cell_type": "code",
   "execution_count": 8,
   "id": "1bc65645-8a6b-4221-93fb-e79caf8fe6e0",
   "metadata": {},
   "outputs": [],
   "source": [
    "def get_vol(CAS, conc, tot_vol):\n",
    "    moles = conc * tot_vol #total volume should be assigned a value elsewhere in the code\n",
    "    mw = df.loc[df[\"CAS\"] == CAS, \"MW\"].values[0]\n",
    "    mass = moles * mw\n",
    "    dens = df.loc[df[\"CAS\"] == CAS, \"Density\"].values[0]\n",
    "    if pd.isna(dens):\n",
    "        print(\"This chemical is not a liquid.\")\n",
    "        print(f\"mass = {mass} g\")\n",
    "    else:\n",
    "        vol = mass / dens\n",
    "        print(f\"vol = {vol} mL\")"
   ]
  },
  {
   "cell_type": "code",
   "execution_count": 9,
   "id": "ab1b2dd2-658d-40d7-bcaf-d471d80c83a4",
   "metadata": {},
   "outputs": [
    {
     "data": {
      "text/html": [
       "<div>\n",
       "<style scoped>\n",
       "    .dataframe tbody tr th:only-of-type {\n",
       "        vertical-align: middle;\n",
       "    }\n",
       "\n",
       "    .dataframe tbody tr th {\n",
       "        vertical-align: top;\n",
       "    }\n",
       "\n",
       "    .dataframe thead th {\n",
       "        text-align: right;\n",
       "    }\n",
       "</style>\n",
       "<table border=\"1\" class=\"dataframe\">\n",
       "  <thead>\n",
       "    <tr style=\"text-align: right;\">\n",
       "      <th></th>\n",
       "      <th>Name</th>\n",
       "      <th>CAS</th>\n",
       "      <th>MW</th>\n",
       "      <th>Density</th>\n",
       "    </tr>\n",
       "  </thead>\n",
       "  <tbody>\n",
       "    <tr>\n",
       "      <th>0</th>\n",
       "      <td>Phenyliodine diacetate</td>\n",
       "      <td>3240-34-4</td>\n",
       "      <td>322.790</td>\n",
       "      <td>NaN</td>\n",
       "    </tr>\n",
       "    <tr>\n",
       "      <th>1</th>\n",
       "      <td>1-Phenylethanol</td>\n",
       "      <td>98-85-1</td>\n",
       "      <td>122.167</td>\n",
       "      <td>1.012</td>\n",
       "    </tr>\n",
       "    <tr>\n",
       "      <th>2</th>\n",
       "      <td>2,2,6,6-tetramethyl-1-piperidinyloxy</td>\n",
       "      <td>2564-83-2</td>\n",
       "      <td>156.250</td>\n",
       "      <td>NaN</td>\n",
       "    </tr>\n",
       "    <tr>\n",
       "      <th>3</th>\n",
       "      <td>1,2-Dichloroethane</td>\n",
       "      <td>107-06-2</td>\n",
       "      <td>96.950</td>\n",
       "      <td>1.253</td>\n",
       "    </tr>\n",
       "    <tr>\n",
       "      <th>4</th>\n",
       "      <td>Water</td>\n",
       "      <td>7732-18-5</td>\n",
       "      <td>18.020</td>\n",
       "      <td>1.000</td>\n",
       "    </tr>\n",
       "  </tbody>\n",
       "</table>\n",
       "</div>"
      ],
      "text/plain": [
       "                                   Name        CAS       MW  Density\n",
       "0                Phenyliodine diacetate  3240-34-4  322.790      NaN\n",
       "1                       1-Phenylethanol    98-85-1  122.167    1.012\n",
       "2  2,2,6,6-tetramethyl-1-piperidinyloxy  2564-83-2  156.250      NaN\n",
       "3                    1,2-Dichloroethane   107-06-2   96.950    1.253\n",
       "4                                 Water  7732-18-5   18.020    1.000"
      ]
     },
     "execution_count": 9,
     "metadata": {},
     "output_type": "execute_result"
    }
   ],
   "source": [
    "df"
   ]
  },
  {
   "cell_type": "markdown",
   "id": "14a98051-c8c4-4a4d-a485-c1236e76134e",
   "metadata": {},
   "source": [
    "# Making Stocks"
   ]
  },
  {
   "cell_type": "code",
   "execution_count": 10,
   "id": "36cffd00-5139-4bcd-919a-4f228818c7c2",
   "metadata": {},
   "outputs": [],
   "source": [
    "#Defining the total volume of the stock solution\n",
    "tot_vol = 0.01"
   ]
  },
  {
   "cell_type": "code",
   "execution_count": 11,
   "id": "c7ce0412-4daf-48e3-97d6-cb5fba60aee3",
   "metadata": {},
   "outputs": [
    {
     "name": "stdout",
     "output_type": "stream",
     "text": [
      "moles = 0.0035199999999999997 mol\n"
     ]
    }
   ],
   "source": [
    "get_moles('7732-18-5', 0.352, tot_vol)"
   ]
  },
  {
   "cell_type": "code",
   "execution_count": 12,
   "id": "e3e000a8-3855-4531-8b13-b05df7a14bb4",
   "metadata": {},
   "outputs": [
    {
     "name": "stdout",
     "output_type": "stream",
     "text": [
      "mass = 0.0634304 g\n"
     ]
    }
   ],
   "source": [
    "get_mass('7732-18-5', 0.352, tot_vol)"
   ]
  },
  {
   "cell_type": "code",
   "execution_count": 13,
   "id": "522ce679-6180-4156-a73b-6179848fdbdd",
   "metadata": {},
   "outputs": [
    {
     "name": "stdout",
     "output_type": "stream",
     "text": [
      "vol = 0.0634304 mL\n"
     ]
    }
   ],
   "source": [
    "get_vol('7732-18-5', 0.352, tot_vol)"
   ]
  },
  {
   "cell_type": "markdown",
   "id": "be203afd-8c23-4ad1-814e-bd2c053bab03",
   "metadata": {},
   "source": [
    "# How Much Autosampler Takes"
   ]
  },
  {
   "cell_type": "code",
   "execution_count": 14,
   "id": "efe00882-f5da-4ec8-845d-4259252799e5",
   "metadata": {},
   "outputs": [],
   "source": [
    "#Should I wait til actually doing reactions ?"
   ]
  },
  {
   "cell_type": "code",
   "execution_count": 15,
   "id": "eb244373-66b0-4ce3-8cd6-e83a9e83dc4a",
   "metadata": {},
   "outputs": [],
   "source": [
    "#Defining the reaction volume and concs of each component\n",
    "react_vol = 0.001\n",
    "sub_A_conc = 0.02\n",
    "sub_B_conc = 0.03\n",
    "cat_conc = 0\n",
    "add_conc = 0"
   ]
  },
  {
   "cell_type": "code",
   "execution_count": 16,
   "id": "ec475b30-cafb-4a30-8074-a12842d6d5a1",
   "metadata": {},
   "outputs": [],
   "source": [
    "#Defining the concs of stock solutions\n",
    "stock_A = 1\n",
    "stock_B = 2\n",
    "stock_cat = 0  \n",
    "stock_add = 0"
   ]
  },
  {
   "cell_type": "code",
   "execution_count": 17,
   "id": "3e7d117f-708e-4d0b-87aa-ab7c2043e59a",
   "metadata": {},
   "outputs": [],
   "source": [
    "def get_vol_A():\n",
    "    mol_amount = sub_A_conc * react_vol\n",
    "    amount_A = mol_amount / stock_A\n",
    "    print(f\"vol = {amount_A * 1000} mL\")"
   ]
  },
  {
   "cell_type": "code",
   "execution_count": 18,
   "id": "d2a8642a-3648-40f3-89f8-4b7f9886c506",
   "metadata": {},
   "outputs": [
    {
     "name": "stdout",
     "output_type": "stream",
     "text": [
      "vol = 0.02 mL\n"
     ]
    }
   ],
   "source": [
    "get_vol_A()"
   ]
  },
  {
   "cell_type": "code",
   "execution_count": 19,
   "id": "34b22e73-dfce-4fa5-8422-958f453ced85",
   "metadata": {},
   "outputs": [],
   "source": [
    "def get_vol_B():\n",
    "    mol_amount = sub_B_conc * react_vol\n",
    "    amount_B = mol_amount / stock_B\n",
    "    print(f\"vol = {amount_B * 1000} mL\")"
   ]
  },
  {
   "cell_type": "code",
   "execution_count": 20,
   "id": "ef443236-ac1a-4d35-bdd7-5b9b20df39ba",
   "metadata": {},
   "outputs": [
    {
     "name": "stdout",
     "output_type": "stream",
     "text": [
      "vol = 0.015000000000000001 mL\n"
     ]
    }
   ],
   "source": [
    "get_vol_B()"
   ]
  },
  {
   "cell_type": "code",
   "execution_count": 21,
   "id": "2e59c79d-83b0-40c7-a7b1-b8e67b6c71d6",
   "metadata": {},
   "outputs": [],
   "source": [
    "def get_vol_cat():\n",
    "    if cat_conc == 0:\n",
    "        print(f\"vol = 0 mL\")\n",
    "    else:\n",
    "        mol_amount = cat_conc * react_vol\n",
    "        amount_cat = mol_amount / stock_cat\n",
    "        print(f\"vol = {amount_cat * 1000} mL\")"
   ]
  },
  {
   "cell_type": "code",
   "execution_count": 22,
   "id": "fad8ae13-9467-4ca7-8a14-efa73c7bd37f",
   "metadata": {},
   "outputs": [
    {
     "name": "stdout",
     "output_type": "stream",
     "text": [
      "vol = 0 mL\n"
     ]
    }
   ],
   "source": [
    "get_vol_cat()"
   ]
  },
  {
   "cell_type": "code",
   "execution_count": 23,
   "id": "cf130769-f49f-40ba-8e0c-21b1051dccca",
   "metadata": {},
   "outputs": [],
   "source": [
    "def get_vol_add():\n",
    "    if add_conc == 0:\n",
    "        print(f\"vol = 0 mL\")\n",
    "    else:\n",
    "        mol_amount = add_conc * react_vol\n",
    "        amount_add = add_amount / stock_add\n",
    "        print(f\"vol = {amount_cat * 1000} mL\")"
   ]
  },
  {
   "cell_type": "code",
   "execution_count": 24,
   "id": "ca92ea3c-06ec-4b9a-afe1-1b66cf5b2d0e",
   "metadata": {},
   "outputs": [
    {
     "name": "stdout",
     "output_type": "stream",
     "text": [
      "vol = 0 mL\n"
     ]
    }
   ],
   "source": [
    "get_vol_add()"
   ]
  }
 ],
 "metadata": {
  "kernelspec": {
   "display_name": "Python 3 (ipykernel)",
   "language": "python",
   "name": "python3"
  },
  "language_info": {
   "codemirror_mode": {
    "name": "ipython",
    "version": 3
   },
   "file_extension": ".py",
   "mimetype": "text/x-python",
   "name": "python",
   "nbconvert_exporter": "python",
   "pygments_lexer": "ipython3",
   "version": "3.11.7"
  }
 },
 "nbformat": 4,
 "nbformat_minor": 5
}
