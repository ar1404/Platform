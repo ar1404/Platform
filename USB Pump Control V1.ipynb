{
 "cells": [
  {
   "cell_type": "markdown",
   "id": "d119d698-ac20-4e12-97e1-45541cc2a92a",
   "metadata": {},
   "source": [
    "Not yet attempted"
   ]
  },
  {
   "cell_type": "code",
   "execution_count": 1,
   "id": "a2c0bff2-5cc2-4978-85e9-590ee14b9217",
   "metadata": {},
   "outputs": [],
   "source": [
    "# first install pyusb"
   ]
  },
  {
   "cell_type": "code",
   "execution_count": null,
   "id": "b1723c11-cef3-4e00-bd26-1deff351ebf9",
   "metadata": {},
   "outputs": [],
   "source": [
    "import usb.core\n",
    "import usb.util\n",
    "import time\n",
    "\n",
    "def find_device(vendor_id, product_id):\n",
    "    device = usb.core.find(idVendor=vendor_id, idProduct=product_id)\n",
    "    if device is None:\n",
    "        raise ValueError(\"Device not found\")\n",
    "    return device\n",
    "\n",
    "def send_command(device, endpoint_out, endpoint_in, command):\n",
    "    device.write(endpoint_out, command)\n",
    "    time.sleep(0.5)  # wait for the command to be processed\n",
    "    response = device.read(endpoint_in, 64)\n",
    "    return response\n",
    "\n",
    "def main():\n",
    "    vendor_id = 0x1234  # replace with your USB pump vendor ID\n",
    "    product_id = 0x5678  # replace with your USB pump product ID\n",
    "    endpoint_out = 0x01  # replace with your USB pump OUT endpoint\n",
    "    endpoint_in = 0x81   # replace with your USB pump IN endpoint\n",
    "\n",
    "    commands = [\n",
    "        b'CMD1',  # replace with actual commands\n",
    "        b'CMD2',\n",
    "        b'CMD3'\n",
    "    ]\n",
    "\n",
    "    try:\n",
    "        device = find_device(vendor_id, product_id)\n",
    "        device.set_configuration()\n",
    "\n",
    "        for command in commands:\n",
    "            print(f\"Sending command: {command}\")\n",
    "            response = send_command(device, endpoint_out, endpoint_in, command)\n",
    "            print(f\"Received response: {response}\")\n",
    "\n",
    "        usb.util.dispose_resources(device)\n",
    "        print(\"USB connection closed\")\n",
    "\n",
    "    except ValueError as e:\n",
    "        print(e)\n",
    "    except usb.core.USBError as e:\n",
    "        print(f\"USB error: {e}\")\n",
    "\n",
    "if __name__ == \"__main__\":\n",
    "    main()"
   ]
  }
 ],
 "metadata": {
  "kernelspec": {
   "display_name": "Python 3 (ipykernel)",
   "language": "python",
   "name": "python3"
  },
  "language_info": {
   "codemirror_mode": {
    "name": "ipython",
    "version": 3
   },
   "file_extension": ".py",
   "mimetype": "text/x-python",
   "name": "python",
   "nbconvert_exporter": "python",
   "pygments_lexer": "ipython3",
   "version": "3.11.7"
  }
 },
 "nbformat": 4,
 "nbformat_minor": 5
}
