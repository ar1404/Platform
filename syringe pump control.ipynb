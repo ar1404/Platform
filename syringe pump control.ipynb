{
 "cells": [
  {
   "cell_type": "code",
   "execution_count": 1,
   "id": "5798da4b-dc07-4b53-b00d-9676119acb6e",
   "metadata": {},
   "outputs": [],
   "source": [
    "import serial"
   ]
  },
  {
   "cell_type": "code",
   "execution_count": 2,
   "id": "5f879f5f-4c09-4e73-8d34-40a542cfeefb",
   "metadata": {},
   "outputs": [],
   "source": [
    "class Elite11 :\n",
    "    def __init__(self, serial, device_name, ID):\n",
    "        \n",
    "        self.serial = serial\n",
    "        self.device_name = device_name\n",
    "        self.ID = ID\n",
    "        self.connection_repeats = 5 # was 100...\n",
    "\n",
    "    def connect(self): \n",
    "        \"\"\"\"\" Connection of the valve to the computer via serial port \"\"\"\n",
    "        COMPORT = 'COM4'\n",
    "        global ser\n",
    "        ser = serial.Serial()\n",
    "        ser.baudrate = 9600\n",
    "        ser.port = COMPORT #counter for port name starts at 0\n",
    "        parity=serial.PARITY_NONE\n",
    "        stopbits=serial.STOPBITS_ONE\n",
    "        bytesize=serial.EIGHTBITS\n",
    "  \n",
    "        if (ser.isOpen() == False):\n",
    "            ser.timeout = 1\n",
    "            ser.open()\n",
    "            print(\"Device is connected\")\n",
    "\n",
    "        else:\n",
    "            print ('The Port is closed: ' + ser1.portstr)\n",
    "        \n",
    "    def command(self, code):\n",
    "        ser.write(f'{code}\\r'.encode())\n",
    "        byteData = ser.readline().decode().strip()\n",
    "        return byteData\n",
    "\n",
    "    def set_flow(self, flow_rate):\n",
    "        byteData = pump.command(f\"F{flow_rate}\")\n",
    "        return byteData\n",
    "\n",
    "    def get_flow(self):\n",
    "        byteData = pump.command(f\"F?\")\n",
    "        return byteData\n",
    "\n",
    "    def start_flow(self):\n",
    "        byteData = pump.command(f\"M1\")\n",
    "        return byteData\n",
    "\n",
    "    def stop_flow(self):\n",
    "        byteData = pump.command(f\"M0\")\n",
    "        return byteData"
   ]
  },
  {
   "cell_type": "code",
   "execution_count": 3,
   "id": "f21f4642-316f-414b-8f45-7b2bac1f8236",
   "metadata": {},
   "outputs": [],
   "source": [
    "#Defining ser\n",
    "ser = serial.Serial()"
   ]
  },
  {
   "cell_type": "code",
   "execution_count": 4,
   "id": "920b4828-baa2-420a-a305-4d7d3535aaea",
   "metadata": {},
   "outputs": [],
   "source": [
    "# Create an instance of the gsioc_Protocol class\n",
    "syr = Elite11(ser, '11Elite v3.0.8', 1)"
   ]
  },
  {
   "cell_type": "code",
   "execution_count": 5,
   "id": "61287c17-6432-4fd8-90cc-34babcc14737",
   "metadata": {},
   "outputs": [
    {
     "name": "stdout",
     "output_type": "stream",
     "text": [
      "Device is connected\n"
     ]
    }
   ],
   "source": [
    "#Connecting to pump\n",
    "syr.connect()"
   ]
  },
  {
   "cell_type": "code",
   "execution_count": 7,
   "id": "7b7740fa-60ce-4a79-9369-6fc0bb357dfc",
   "metadata": {},
   "outputs": [
    {
     "data": {
      "text/plain": [
       "'Firmware:      v3.0.8'"
      ]
     },
     "execution_count": 7,
     "metadata": {},
     "output_type": "execute_result"
    }
   ],
   "source": [
    "syr.command('version')"
   ]
  },
  {
   "cell_type": "code",
   "execution_count": 75,
   "id": "a6fe8e20-dc57-4fb2-8bd9-5b54462a0d2a",
   "metadata": {},
   "outputs": [
    {
     "data": {
      "text/plain": [
       "'No rate set'"
      ]
     },
     "execution_count": 75,
     "metadata": {},
     "output_type": "execute_result"
    }
   ],
   "source": [
    "syr.command('irun')"
   ]
  },
  {
   "cell_type": "code",
   "execution_count": 76,
   "id": "55e2aae6-a0c1-458c-a761-f0b9876ac382",
   "metadata": {},
   "outputs": [
    {
     "data": {
      "text/plain": [
       "':'"
      ]
     },
     "execution_count": 76,
     "metadata": {},
     "output_type": "execute_result"
    }
   ],
   "source": [
    "syr.command('rrun')"
   ]
  },
  {
   "cell_type": "code",
   "execution_count": 10,
   "id": "378b2c68-300a-4b2d-a897-1194afd34f97",
   "metadata": {},
   "outputs": [
    {
     "data": {
      "text/plain": [
       "':'"
      ]
     },
     "execution_count": 10,
     "metadata": {},
     "output_type": "execute_result"
    }
   ],
   "source": [
    "syr.command('stop')"
   ]
  },
  {
   "cell_type": "code",
   "execution_count": null,
   "id": "bc572903-b3e2-419e-8281-67c634c81c97",
   "metadata": {},
   "outputs": [],
   "source": []
  }
 ],
 "metadata": {
  "kernelspec": {
   "display_name": "Python 3 (ipykernel)",
   "language": "python",
   "name": "python3"
  },
  "language_info": {
   "codemirror_mode": {
    "name": "ipython",
    "version": 3
   },
   "file_extension": ".py",
   "mimetype": "text/x-python",
   "name": "python",
   "nbconvert_exporter": "python",
   "pygments_lexer": "ipython3",
   "version": "3.11.7"
  }
 },
 "nbformat": 4,
 "nbformat_minor": 5
}
