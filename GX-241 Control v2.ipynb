{
 "cells": [
  {
   "cell_type": "markdown",
   "id": "94e6f2a6-9a8c-4676-864c-9c1dd30ea6b7",
   "metadata": {},
   "source": [
    "# Control Centre"
   ]
  },
  {
   "cell_type": "code",
   "execution_count": 1,
   "id": "38def2b4-4cd7-4e1f-834f-6db4e1f7c1c8",
   "metadata": {},
   "outputs": [],
   "source": [
    "import time\n",
    "import serial\n",
    "import numpy as np\n",
    "import sys\n",
    "import os\n",
    "import asyncio\n",
    "from multiprocessing import Process\n",
    "import threading\n",
    "from scipy import constants\n",
    "import itertools\n",
    "\n",
    "import binascii\n",
    "from datetime import datetime\n",
    "import logging\n",
    "\n",
    "#from gsioc import gsioc_Protocol, ensure_xy_position_will_be_reached"
   ]
  },
  {
   "cell_type": "markdown",
   "id": "1d0db269-dbab-424a-99a5-188148d0555a",
   "metadata": {},
   "source": [
    "## Get started with GSIOC"
   ]
  },
  {
   "cell_type": "markdown",
   "id": "379f0e49-c3c5-4544-949e-1c1e0e4dd23c",
   "metadata": {},
   "source": [
    "To reset the COM port:\n",
    "1) Open device manager and disable COM1\n",
    "2) Turn machine off and on\n",
    "3) Enable COM1 in device manager\n",
    "\n",
    "Use ser.close() here to close the serial port\n",
    "\n",
    "NOTE: Python seems to have problems when the GX-241 is in COM1 (motherboard), it will connect but cannot send or recieve. This is easily fixed by using a USB to serial adapter instead."
   ]
  },
  {
   "cell_type": "code",
   "execution_count": 2,
   "id": "9c217afa-11be-449a-ab68-e48951d5082b",
   "metadata": {},
   "outputs": [],
   "source": [
    "from gilson import *"
   ]
  },
  {
   "cell_type": "code",
   "execution_count": 3,
   "id": "09e110fc-5d3e-477b-b25a-c319951da4ab",
   "metadata": {},
   "outputs": [],
   "source": [
    "from hb_elite_pump.hb_elite import *"
   ]
  },
  {
   "cell_type": "code",
   "execution_count": 4,
   "id": "afc3cec3-aa8a-450f-bb3a-2083027a3444",
   "metadata": {},
   "outputs": [],
   "source": [
    "from platform_setup_new import *"
   ]
  },
  {
   "cell_type": "code",
   "execution_count": 5,
   "id": "8b0fc3ba-00c6-4f08-a1c3-537890108fe0",
   "metadata": {},
   "outputs": [],
   "source": [
    "# Set up the serial connection\n",
    "PORT1 = 'COM6'\n",
    "ser = serial.Serial(PORT1, 19200, 8, \"N\", 1, 0.1)"
   ]
  },
  {
   "cell_type": "code",
   "execution_count": 6,
   "id": "0c566769-2d01-442e-8826-ead57c1cd8c4",
   "metadata": {},
   "outputs": [],
   "source": [
    "# Create an instance of the gsioc_Protocol class\n",
    "g = gsioc_Protocol(ser, 'GX-241 II', 30)"
   ]
  },
  {
   "cell_type": "code",
   "execution_count": 7,
   "id": "7e8cdea3-e354-47b2-8e1c-ae7d5305387c",
   "metadata": {
    "scrolled": true
   },
   "outputs": [
    {
     "name": "stderr",
     "output_type": "stream",
     "text": [
      "\u001b[32m2025-02-17 16:55:47.949\u001b[0m | \u001b[34m\u001b[1mDEBUG   \u001b[0m | \u001b[36mgilson\u001b[0m:\u001b[36mverify_open\u001b[0m:\u001b[36m67\u001b[0m - \u001b[34m\u001b[1mCheck if port is open.\u001b[0m\n",
      "\u001b[32m2025-02-17 16:55:50.434\u001b[0m | \u001b[34m\u001b[1mDEBUG   \u001b[0m | \u001b[36mgilson\u001b[0m:\u001b[36miCommand\u001b[0m:\u001b[36m163\u001b[0m - \u001b[34m\u001b[1mSending immediate command complete.\u001b[0m\n",
      "\u001b[32m2025-02-17 16:55:50.436\u001b[0m | \u001b[34m\u001b[1mDEBUG   \u001b[0m | \u001b[36mgilson\u001b[0m:\u001b[36miCommand\u001b[0m:\u001b[36m173\u001b[0m - \u001b[34m\u001b[1mreceived bytearray(b'GX-241 II v2.0.2.5') as response.\u001b[0m\n",
      "\u001b[32m2025-02-17 16:55:50.639\u001b[0m | \u001b[34m\u001b[1mDEBUG   \u001b[0m | \u001b[36mgilson\u001b[0m:\u001b[36mconnect\u001b[0m:\u001b[36m119\u001b[0m - \u001b[34m\u001b[1mConnected to device 30\u001b[0m\n"
     ]
    }
   ],
   "source": [
    "g.connect()"
   ]
  },
  {
   "cell_type": "code",
   "execution_count": 8,
   "id": "20c4cf87-6263-4605-84ef-71bd5b651505",
   "metadata": {},
   "outputs": [],
   "source": [
    "#Defining ser_1\n",
    "PORT2 = 'COM4'\n",
    "ser_1 = serial.Serial(PORT2, 9600, 8, \"N\", 1, 0.1)"
   ]
  },
  {
   "cell_type": "code",
   "execution_count": 9,
   "id": "7f65084f-312f-4a5d-982a-6fa4a992839a",
   "metadata": {},
   "outputs": [],
   "source": [
    "# Create an instance of the gsioc_Protocol class\n",
    "pump = HBElite(ser_1)"
   ]
  },
  {
   "cell_type": "code",
   "execution_count": 10,
   "id": "cc50680f-a1a2-4011-99c6-81902a30d191",
   "metadata": {},
   "outputs": [
    {
     "name": "stdout",
     "output_type": "stream",
     "text": [
      "Device is connected\n"
     ]
    }
   ],
   "source": [
    "#Connecting to pump\n",
    "pump.connect()"
   ]
  },
  {
   "cell_type": "code",
   "execution_count": 35,
   "id": "a0f08880-c573-4ee4-af7b-17d16ed937c2",
   "metadata": {},
   "outputs": [
    {
     "name": "stderr",
     "output_type": "stream",
     "text": [
      "\u001b[32m2025-02-17 14:01:13.951\u001b[0m | \u001b[34m\u001b[1mDEBUG   \u001b[0m | \u001b[36mgilson\u001b[0m:\u001b[36miCommand\u001b[0m:\u001b[36m136\u001b[0m - \u001b[34m\u001b[1mSending immediate command % to device.\u001b[0m\n",
      "\u001b[32m2025-02-17 14:01:15.912\u001b[0m | \u001b[34m\u001b[1mDEBUG   \u001b[0m | \u001b[36mgilson\u001b[0m:\u001b[36miCommand\u001b[0m:\u001b[36m165\u001b[0m - \u001b[34m\u001b[1mSending immediate command complete.\u001b[0m\n",
      "\u001b[32m2025-02-17 14:01:15.913\u001b[0m | \u001b[34m\u001b[1mDEBUG   \u001b[0m | \u001b[36mgilson\u001b[0m:\u001b[36miCommand\u001b[0m:\u001b[36m175\u001b[0m - \u001b[34m\u001b[1mreceived bytearray(b'GX-241 II v2.0.2.5') as response.\u001b[0m\n"
     ]
    },
    {
     "data": {
      "text/plain": [
       "'GX-241 II v2.0.2.5'"
      ]
     },
     "execution_count": 35,
     "metadata": {},
     "output_type": "execute_result"
    }
   ],
   "source": [
    "g.iCommand('%')"
   ]
  },
  {
   "cell_type": "code",
   "execution_count": 39,
   "id": "b9fc88f8-6fc6-463d-989c-f50a909d4ede",
   "metadata": {},
   "outputs": [
    {
     "name": "stderr",
     "output_type": "stream",
     "text": [
      "\u001b[32m2025-02-17 14:06:38.277\u001b[0m | \u001b[34m\u001b[1mDEBUG   \u001b[0m | \u001b[36mgilson\u001b[0m:\u001b[36miCommand\u001b[0m:\u001b[36m136\u001b[0m - \u001b[34m\u001b[1mSending immediate command J to device.\u001b[0m\n",
      "\u001b[32m2025-02-17 14:06:38.719\u001b[0m | \u001b[34m\u001b[1mDEBUG   \u001b[0m | \u001b[36mgilson\u001b[0m:\u001b[36miCommand\u001b[0m:\u001b[36m165\u001b[0m - \u001b[34m\u001b[1mSending immediate command complete.\u001b[0m\n",
      "\u001b[32m2025-02-17 14:06:38.720\u001b[0m | \u001b[34m\u001b[1mDEBUG   \u001b[0m | \u001b[36mgilson\u001b[0m:\u001b[36miCommand\u001b[0m:\u001b[36m175\u001b[0m - \u001b[34m\u001b[1mreceived bytearray(b'1111') as response.\u001b[0m\n"
     ]
    },
    {
     "data": {
      "text/plain": [
       "'1111'"
      ]
     },
     "execution_count": 39,
     "metadata": {},
     "output_type": "execute_result"
    }
   ],
   "source": [
    "g.iCommand('J')"
   ]
  },
  {
   "cell_type": "code",
   "execution_count": 37,
   "id": "991b4a46-ea6b-459a-8376-0fe9943bc847",
   "metadata": {},
   "outputs": [
    {
     "name": "stderr",
     "output_type": "stream",
     "text": [
      "\u001b[32m2025-02-17 14:06:13.087\u001b[0m | \u001b[34m\u001b[1mDEBUG   \u001b[0m | \u001b[36mgilson\u001b[0m:\u001b[36mbCommand\u001b[0m:\u001b[36m182\u001b[0m - \u001b[34m\u001b[1mSending buffered command \"J1111\" to device.\u001b[0m\n",
      "\u001b[32m2025-02-17 14:06:13.088\u001b[0m | \u001b[1mINFO    \u001b[0m | \u001b[36mgilson\u001b[0m:\u001b[36mbCommand\u001b[0m:\u001b[36m186\u001b[0m - \u001b[1mGSIOC <<< J1111\u001b[0m\n",
      "\u001b[32m2025-02-17 14:06:13.204\u001b[0m | \u001b[34m\u001b[1mDEBUG   \u001b[0m | \u001b[36mgilson\u001b[0m:\u001b[36mbCommand\u001b[0m:\u001b[36m205\u001b[0m - \u001b[34m\u001b[1mready signal: b'\\n'\u001b[0m\n",
      "\u001b[32m2025-02-17 14:06:13.205\u001b[0m | \u001b[34m\u001b[1mDEBUG   \u001b[0m | \u001b[36mgilson\u001b[0m:\u001b[36mbCommand\u001b[0m:\u001b[36m214\u001b[0m - \u001b[34m\u001b[1mStarting to send buffered command.\u001b[0m\n",
      "\u001b[32m2025-02-17 14:06:13.205\u001b[0m | \u001b[34m\u001b[1mDEBUG   \u001b[0m | \u001b[36mgilson\u001b[0m:\u001b[36mbCommand\u001b[0m:\u001b[36m225\u001b[0m - \u001b[34m\u001b[1m10\u001b[0m\n",
      "\u001b[32m2025-02-17 14:06:13.206\u001b[0m | \u001b[34m\u001b[1mDEBUG   \u001b[0m | \u001b[36mgilson\u001b[0m:\u001b[36mbCommand\u001b[0m:\u001b[36m230\u001b[0m - \u001b[34m\u001b[1mWrites buffered Command character b'J' to the device GX-241 II.\u001b[0m\n",
      "\u001b[32m2025-02-17 14:06:13.207\u001b[0m | \u001b[34m\u001b[1mDEBUG   \u001b[0m | \u001b[36mgilson\u001b[0m:\u001b[36mbCommand\u001b[0m:\u001b[36m232\u001b[0m - \u001b[34m\u001b[1mStarts reading character from the device GX-241 II.\u001b[0m\n",
      "\u001b[32m2025-02-17 14:06:13.314\u001b[0m | \u001b[34m\u001b[1mDEBUG   \u001b[0m | \u001b[36mgilson\u001b[0m:\u001b[36mbCommand\u001b[0m:\u001b[36m234\u001b[0m - \u001b[34m\u001b[1mgot back b'J' from the device GX-241 II.\u001b[0m\n",
      "\u001b[32m2025-02-17 14:06:13.314\u001b[0m | \u001b[34m\u001b[1mDEBUG   \u001b[0m | \u001b[36mgilson\u001b[0m:\u001b[36mbCommand\u001b[0m:\u001b[36m238\u001b[0m - \u001b[34m\u001b[1mresp_raw: b'J'\u001b[0m\n",
      "\u001b[32m2025-02-17 14:06:13.315\u001b[0m | \u001b[34m\u001b[1mDEBUG   \u001b[0m | \u001b[36mgilson\u001b[0m:\u001b[36mbCommand\u001b[0m:\u001b[36m256\u001b[0m - \u001b[34m\u001b[1mresp_raw 2: 74\u001b[0m\n",
      "\u001b[32m2025-02-17 14:06:13.316\u001b[0m | \u001b[34m\u001b[1mDEBUG   \u001b[0m | \u001b[36mgilson\u001b[0m:\u001b[36mbCommand\u001b[0m:\u001b[36m230\u001b[0m - \u001b[34m\u001b[1mWrites buffered Command character b'1' to the device GX-241 II.\u001b[0m\n",
      "\u001b[32m2025-02-17 14:06:13.316\u001b[0m | \u001b[34m\u001b[1mDEBUG   \u001b[0m | \u001b[36mgilson\u001b[0m:\u001b[36mbCommand\u001b[0m:\u001b[36m232\u001b[0m - \u001b[34m\u001b[1mStarts reading character from the device GX-241 II.\u001b[0m\n",
      "\u001b[32m2025-02-17 14:06:13.424\u001b[0m | \u001b[34m\u001b[1mDEBUG   \u001b[0m | \u001b[36mgilson\u001b[0m:\u001b[36mbCommand\u001b[0m:\u001b[36m234\u001b[0m - \u001b[34m\u001b[1mgot back b'1' from the device GX-241 II.\u001b[0m\n",
      "\u001b[32m2025-02-17 14:06:13.425\u001b[0m | \u001b[34m\u001b[1mDEBUG   \u001b[0m | \u001b[36mgilson\u001b[0m:\u001b[36mbCommand\u001b[0m:\u001b[36m238\u001b[0m - \u001b[34m\u001b[1mresp_raw: b'1'\u001b[0m\n",
      "\u001b[32m2025-02-17 14:06:13.425\u001b[0m | \u001b[34m\u001b[1mDEBUG   \u001b[0m | \u001b[36mgilson\u001b[0m:\u001b[36mbCommand\u001b[0m:\u001b[36m256\u001b[0m - \u001b[34m\u001b[1mresp_raw 2: 49\u001b[0m\n",
      "\u001b[32m2025-02-17 14:06:13.426\u001b[0m | \u001b[34m\u001b[1mDEBUG   \u001b[0m | \u001b[36mgilson\u001b[0m:\u001b[36mbCommand\u001b[0m:\u001b[36m230\u001b[0m - \u001b[34m\u001b[1mWrites buffered Command character b'1' to the device GX-241 II.\u001b[0m\n",
      "\u001b[32m2025-02-17 14:06:13.426\u001b[0m | \u001b[34m\u001b[1mDEBUG   \u001b[0m | \u001b[36mgilson\u001b[0m:\u001b[36mbCommand\u001b[0m:\u001b[36m232\u001b[0m - \u001b[34m\u001b[1mStarts reading character from the device GX-241 II.\u001b[0m\n",
      "\u001b[32m2025-02-17 14:06:13.532\u001b[0m | \u001b[34m\u001b[1mDEBUG   \u001b[0m | \u001b[36mgilson\u001b[0m:\u001b[36mbCommand\u001b[0m:\u001b[36m234\u001b[0m - \u001b[34m\u001b[1mgot back b'1' from the device GX-241 II.\u001b[0m\n",
      "\u001b[32m2025-02-17 14:06:13.532\u001b[0m | \u001b[34m\u001b[1mDEBUG   \u001b[0m | \u001b[36mgilson\u001b[0m:\u001b[36mbCommand\u001b[0m:\u001b[36m238\u001b[0m - \u001b[34m\u001b[1mresp_raw: b'1'\u001b[0m\n",
      "\u001b[32m2025-02-17 14:06:13.533\u001b[0m | \u001b[34m\u001b[1mDEBUG   \u001b[0m | \u001b[36mgilson\u001b[0m:\u001b[36mbCommand\u001b[0m:\u001b[36m256\u001b[0m - \u001b[34m\u001b[1mresp_raw 2: 49\u001b[0m\n",
      "\u001b[32m2025-02-17 14:06:13.534\u001b[0m | \u001b[34m\u001b[1mDEBUG   \u001b[0m | \u001b[36mgilson\u001b[0m:\u001b[36mbCommand\u001b[0m:\u001b[36m230\u001b[0m - \u001b[34m\u001b[1mWrites buffered Command character b'1' to the device GX-241 II.\u001b[0m\n",
      "\u001b[32m2025-02-17 14:06:13.534\u001b[0m | \u001b[34m\u001b[1mDEBUG   \u001b[0m | \u001b[36mgilson\u001b[0m:\u001b[36mbCommand\u001b[0m:\u001b[36m232\u001b[0m - \u001b[34m\u001b[1mStarts reading character from the device GX-241 II.\u001b[0m\n",
      "\u001b[32m2025-02-17 14:06:13.641\u001b[0m | \u001b[34m\u001b[1mDEBUG   \u001b[0m | \u001b[36mgilson\u001b[0m:\u001b[36mbCommand\u001b[0m:\u001b[36m234\u001b[0m - \u001b[34m\u001b[1mgot back b'1' from the device GX-241 II.\u001b[0m\n",
      "\u001b[32m2025-02-17 14:06:13.642\u001b[0m | \u001b[34m\u001b[1mDEBUG   \u001b[0m | \u001b[36mgilson\u001b[0m:\u001b[36mbCommand\u001b[0m:\u001b[36m238\u001b[0m - \u001b[34m\u001b[1mresp_raw: b'1'\u001b[0m\n",
      "\u001b[32m2025-02-17 14:06:13.642\u001b[0m | \u001b[34m\u001b[1mDEBUG   \u001b[0m | \u001b[36mgilson\u001b[0m:\u001b[36mbCommand\u001b[0m:\u001b[36m256\u001b[0m - \u001b[34m\u001b[1mresp_raw 2: 49\u001b[0m\n",
      "\u001b[32m2025-02-17 14:06:13.643\u001b[0m | \u001b[34m\u001b[1mDEBUG   \u001b[0m | \u001b[36mgilson\u001b[0m:\u001b[36mbCommand\u001b[0m:\u001b[36m230\u001b[0m - \u001b[34m\u001b[1mWrites buffered Command character b'1' to the device GX-241 II.\u001b[0m\n",
      "\u001b[32m2025-02-17 14:06:13.643\u001b[0m | \u001b[34m\u001b[1mDEBUG   \u001b[0m | \u001b[36mgilson\u001b[0m:\u001b[36mbCommand\u001b[0m:\u001b[36m232\u001b[0m - \u001b[34m\u001b[1mStarts reading character from the device GX-241 II.\u001b[0m\n",
      "\u001b[32m2025-02-17 14:06:13.751\u001b[0m | \u001b[34m\u001b[1mDEBUG   \u001b[0m | \u001b[36mgilson\u001b[0m:\u001b[36mbCommand\u001b[0m:\u001b[36m234\u001b[0m - \u001b[34m\u001b[1mgot back b'1' from the device GX-241 II.\u001b[0m\n",
      "\u001b[32m2025-02-17 14:06:13.751\u001b[0m | \u001b[34m\u001b[1mDEBUG   \u001b[0m | \u001b[36mgilson\u001b[0m:\u001b[36mbCommand\u001b[0m:\u001b[36m238\u001b[0m - \u001b[34m\u001b[1mresp_raw: b'1'\u001b[0m\n",
      "\u001b[32m2025-02-17 14:06:13.752\u001b[0m | \u001b[34m\u001b[1mDEBUG   \u001b[0m | \u001b[36mgilson\u001b[0m:\u001b[36mbCommand\u001b[0m:\u001b[36m256\u001b[0m - \u001b[34m\u001b[1mresp_raw 2: 49\u001b[0m\n",
      "\u001b[32m2025-02-17 14:06:13.753\u001b[0m | \u001b[34m\u001b[1mDEBUG   \u001b[0m | \u001b[36mgilson\u001b[0m:\u001b[36mbCommand\u001b[0m:\u001b[36m230\u001b[0m - \u001b[34m\u001b[1mWrites buffered Command character b'\\r' to the device GX-241 II.\u001b[0m\n",
      "\u001b[32m2025-02-17 14:06:13.754\u001b[0m | \u001b[34m\u001b[1mDEBUG   \u001b[0m | \u001b[36mgilson\u001b[0m:\u001b[36mbCommand\u001b[0m:\u001b[36m232\u001b[0m - \u001b[34m\u001b[1mStarts reading character from the device GX-241 II.\u001b[0m\n",
      "\u001b[32m2025-02-17 14:06:13.859\u001b[0m | \u001b[34m\u001b[1mDEBUG   \u001b[0m | \u001b[36mgilson\u001b[0m:\u001b[36mbCommand\u001b[0m:\u001b[36m234\u001b[0m - \u001b[34m\u001b[1mgot back b'\\r' from the device GX-241 II.\u001b[0m\n",
      "\u001b[32m2025-02-17 14:06:13.860\u001b[0m | \u001b[34m\u001b[1mDEBUG   \u001b[0m | \u001b[36mgilson\u001b[0m:\u001b[36mbCommand\u001b[0m:\u001b[36m238\u001b[0m - \u001b[34m\u001b[1mresp_raw: b'\\r'\u001b[0m\n",
      "\u001b[32m2025-02-17 14:06:13.860\u001b[0m | \u001b[34m\u001b[1mDEBUG   \u001b[0m | \u001b[36mgilson\u001b[0m:\u001b[36mbCommand\u001b[0m:\u001b[36m256\u001b[0m - \u001b[34m\u001b[1mresp_raw 2: 13\u001b[0m\n",
      "\u001b[32m2025-02-17 14:06:13.861\u001b[0m | \u001b[34m\u001b[1mDEBUG   \u001b[0m | \u001b[36mgilson\u001b[0m:\u001b[36mbCommand\u001b[0m:\u001b[36m271\u001b[0m - \u001b[34m\u001b[1mBuffered command complete.\u001b[0m\n",
      "\u001b[32m2025-02-17 14:06:13.861\u001b[0m | \u001b[34m\u001b[1mDEBUG   \u001b[0m | \u001b[36mgilson\u001b[0m:\u001b[36mbCommand\u001b[0m:\u001b[36m272\u001b[0m - \u001b[34m\u001b[1mReceived bytearray(b'\\nJ1111\\r') from device.\u001b[0m\n",
      "\u001b[32m2025-02-17 14:06:13.862\u001b[0m | \u001b[1mINFO    \u001b[0m | \u001b[36mgilson\u001b[0m:\u001b[36mbCommand\u001b[0m:\u001b[36m273\u001b[0m - \u001b[1mGSIOC >>> bytearray(b'\\nJ1111\\r')\u001b[0m\n"
     ]
    },
    {
     "data": {
      "text/plain": [
       "bytearray(b'\\nJ1111\\r')"
      ]
     },
     "execution_count": 37,
     "metadata": {},
     "output_type": "execute_result"
    }
   ],
   "source": [
    "g.bCommand('J1111')"
   ]
  },
  {
   "cell_type": "code",
   "execution_count": 40,
   "id": "6024cb69-3286-4ae6-8c74-c334146219f5",
   "metadata": {},
   "outputs": [
    {
     "name": "stderr",
     "output_type": "stream",
     "text": [
      "\u001b[32m2025-02-17 14:06:59.375\u001b[0m | \u001b[34m\u001b[1mDEBUG   \u001b[0m | \u001b[36mgilson\u001b[0m:\u001b[36mbCommand\u001b[0m:\u001b[36m182\u001b[0m - \u001b[34m\u001b[1mSending buffered command \"J1[:1]\" to device.\u001b[0m\n",
      "\u001b[32m2025-02-17 14:06:59.375\u001b[0m | \u001b[1mINFO    \u001b[0m | \u001b[36mgilson\u001b[0m:\u001b[36mbCommand\u001b[0m:\u001b[36m186\u001b[0m - \u001b[1mGSIOC <<< J1[:1]\u001b[0m\n",
      "\u001b[32m2025-02-17 14:06:59.484\u001b[0m | \u001b[34m\u001b[1mDEBUG   \u001b[0m | \u001b[36mgilson\u001b[0m:\u001b[36mbCommand\u001b[0m:\u001b[36m205\u001b[0m - \u001b[34m\u001b[1mready signal: b'\\n'\u001b[0m\n",
      "\u001b[32m2025-02-17 14:06:59.485\u001b[0m | \u001b[34m\u001b[1mDEBUG   \u001b[0m | \u001b[36mgilson\u001b[0m:\u001b[36mbCommand\u001b[0m:\u001b[36m214\u001b[0m - \u001b[34m\u001b[1mStarting to send buffered command.\u001b[0m\n",
      "\u001b[32m2025-02-17 14:06:59.486\u001b[0m | \u001b[34m\u001b[1mDEBUG   \u001b[0m | \u001b[36mgilson\u001b[0m:\u001b[36mbCommand\u001b[0m:\u001b[36m225\u001b[0m - \u001b[34m\u001b[1m10\u001b[0m\n",
      "\u001b[32m2025-02-17 14:06:59.486\u001b[0m | \u001b[34m\u001b[1mDEBUG   \u001b[0m | \u001b[36mgilson\u001b[0m:\u001b[36mbCommand\u001b[0m:\u001b[36m230\u001b[0m - \u001b[34m\u001b[1mWrites buffered Command character b'J' to the device GX-241 II.\u001b[0m\n",
      "\u001b[32m2025-02-17 14:06:59.487\u001b[0m | \u001b[34m\u001b[1mDEBUG   \u001b[0m | \u001b[36mgilson\u001b[0m:\u001b[36mbCommand\u001b[0m:\u001b[36m232\u001b[0m - \u001b[34m\u001b[1mStarts reading character from the device GX-241 II.\u001b[0m\n",
      "\u001b[32m2025-02-17 14:06:59.592\u001b[0m | \u001b[34m\u001b[1mDEBUG   \u001b[0m | \u001b[36mgilson\u001b[0m:\u001b[36mbCommand\u001b[0m:\u001b[36m234\u001b[0m - \u001b[34m\u001b[1mgot back b'J' from the device GX-241 II.\u001b[0m\n",
      "\u001b[32m2025-02-17 14:06:59.593\u001b[0m | \u001b[34m\u001b[1mDEBUG   \u001b[0m | \u001b[36mgilson\u001b[0m:\u001b[36mbCommand\u001b[0m:\u001b[36m238\u001b[0m - \u001b[34m\u001b[1mresp_raw: b'J'\u001b[0m\n",
      "\u001b[32m2025-02-17 14:06:59.593\u001b[0m | \u001b[34m\u001b[1mDEBUG   \u001b[0m | \u001b[36mgilson\u001b[0m:\u001b[36mbCommand\u001b[0m:\u001b[36m256\u001b[0m - \u001b[34m\u001b[1mresp_raw 2: 74\u001b[0m\n",
      "\u001b[32m2025-02-17 14:06:59.594\u001b[0m | \u001b[34m\u001b[1mDEBUG   \u001b[0m | \u001b[36mgilson\u001b[0m:\u001b[36mbCommand\u001b[0m:\u001b[36m230\u001b[0m - \u001b[34m\u001b[1mWrites buffered Command character b'1' to the device GX-241 II.\u001b[0m\n",
      "\u001b[32m2025-02-17 14:06:59.595\u001b[0m | \u001b[34m\u001b[1mDEBUG   \u001b[0m | \u001b[36mgilson\u001b[0m:\u001b[36mbCommand\u001b[0m:\u001b[36m232\u001b[0m - \u001b[34m\u001b[1mStarts reading character from the device GX-241 II.\u001b[0m\n",
      "\u001b[32m2025-02-17 14:06:59.702\u001b[0m | \u001b[34m\u001b[1mDEBUG   \u001b[0m | \u001b[36mgilson\u001b[0m:\u001b[36mbCommand\u001b[0m:\u001b[36m234\u001b[0m - \u001b[34m\u001b[1mgot back b'1' from the device GX-241 II.\u001b[0m\n",
      "\u001b[32m2025-02-17 14:06:59.702\u001b[0m | \u001b[34m\u001b[1mDEBUG   \u001b[0m | \u001b[36mgilson\u001b[0m:\u001b[36mbCommand\u001b[0m:\u001b[36m238\u001b[0m - \u001b[34m\u001b[1mresp_raw: b'1'\u001b[0m\n",
      "\u001b[32m2025-02-17 14:06:59.703\u001b[0m | \u001b[34m\u001b[1mDEBUG   \u001b[0m | \u001b[36mgilson\u001b[0m:\u001b[36mbCommand\u001b[0m:\u001b[36m256\u001b[0m - \u001b[34m\u001b[1mresp_raw 2: 49\u001b[0m\n",
      "\u001b[32m2025-02-17 14:06:59.704\u001b[0m | \u001b[34m\u001b[1mDEBUG   \u001b[0m | \u001b[36mgilson\u001b[0m:\u001b[36mbCommand\u001b[0m:\u001b[36m230\u001b[0m - \u001b[34m\u001b[1mWrites buffered Command character b'[' to the device GX-241 II.\u001b[0m\n",
      "\u001b[32m2025-02-17 14:06:59.704\u001b[0m | \u001b[34m\u001b[1mDEBUG   \u001b[0m | \u001b[36mgilson\u001b[0m:\u001b[36mbCommand\u001b[0m:\u001b[36m232\u001b[0m - \u001b[34m\u001b[1mStarts reading character from the device GX-241 II.\u001b[0m\n",
      "\u001b[32m2025-02-17 14:06:59.813\u001b[0m | \u001b[34m\u001b[1mDEBUG   \u001b[0m | \u001b[36mgilson\u001b[0m:\u001b[36mbCommand\u001b[0m:\u001b[36m234\u001b[0m - \u001b[34m\u001b[1mgot back b'[' from the device GX-241 II.\u001b[0m\n",
      "\u001b[32m2025-02-17 14:06:59.813\u001b[0m | \u001b[34m\u001b[1mDEBUG   \u001b[0m | \u001b[36mgilson\u001b[0m:\u001b[36mbCommand\u001b[0m:\u001b[36m238\u001b[0m - \u001b[34m\u001b[1mresp_raw: b'['\u001b[0m\n",
      "\u001b[32m2025-02-17 14:06:59.814\u001b[0m | \u001b[34m\u001b[1mDEBUG   \u001b[0m | \u001b[36mgilson\u001b[0m:\u001b[36mbCommand\u001b[0m:\u001b[36m256\u001b[0m - \u001b[34m\u001b[1mresp_raw 2: 91\u001b[0m\n",
      "\u001b[32m2025-02-17 14:06:59.815\u001b[0m | \u001b[34m\u001b[1mDEBUG   \u001b[0m | \u001b[36mgilson\u001b[0m:\u001b[36mbCommand\u001b[0m:\u001b[36m230\u001b[0m - \u001b[34m\u001b[1mWrites buffered Command character b':' to the device GX-241 II.\u001b[0m\n",
      "\u001b[32m2025-02-17 14:06:59.816\u001b[0m | \u001b[34m\u001b[1mDEBUG   \u001b[0m | \u001b[36mgilson\u001b[0m:\u001b[36mbCommand\u001b[0m:\u001b[36m232\u001b[0m - \u001b[34m\u001b[1mStarts reading character from the device GX-241 II.\u001b[0m\n",
      "\u001b[32m2025-02-17 14:06:59.923\u001b[0m | \u001b[34m\u001b[1mDEBUG   \u001b[0m | \u001b[36mgilson\u001b[0m:\u001b[36mbCommand\u001b[0m:\u001b[36m234\u001b[0m - \u001b[34m\u001b[1mgot back b':' from the device GX-241 II.\u001b[0m\n",
      "\u001b[32m2025-02-17 14:06:59.924\u001b[0m | \u001b[34m\u001b[1mDEBUG   \u001b[0m | \u001b[36mgilson\u001b[0m:\u001b[36mbCommand\u001b[0m:\u001b[36m238\u001b[0m - \u001b[34m\u001b[1mresp_raw: b':'\u001b[0m\n",
      "\u001b[32m2025-02-17 14:06:59.924\u001b[0m | \u001b[34m\u001b[1mDEBUG   \u001b[0m | \u001b[36mgilson\u001b[0m:\u001b[36mbCommand\u001b[0m:\u001b[36m256\u001b[0m - \u001b[34m\u001b[1mresp_raw 2: 58\u001b[0m\n",
      "\u001b[32m2025-02-17 14:06:59.925\u001b[0m | \u001b[34m\u001b[1mDEBUG   \u001b[0m | \u001b[36mgilson\u001b[0m:\u001b[36mbCommand\u001b[0m:\u001b[36m230\u001b[0m - \u001b[34m\u001b[1mWrites buffered Command character b'1' to the device GX-241 II.\u001b[0m\n",
      "\u001b[32m2025-02-17 14:06:59.926\u001b[0m | \u001b[34m\u001b[1mDEBUG   \u001b[0m | \u001b[36mgilson\u001b[0m:\u001b[36mbCommand\u001b[0m:\u001b[36m232\u001b[0m - \u001b[34m\u001b[1mStarts reading character from the device GX-241 II.\u001b[0m\n",
      "\u001b[32m2025-02-17 14:07:00.033\u001b[0m | \u001b[34m\u001b[1mDEBUG   \u001b[0m | \u001b[36mgilson\u001b[0m:\u001b[36mbCommand\u001b[0m:\u001b[36m234\u001b[0m - \u001b[34m\u001b[1mgot back b'1' from the device GX-241 II.\u001b[0m\n",
      "\u001b[32m2025-02-17 14:07:00.033\u001b[0m | \u001b[34m\u001b[1mDEBUG   \u001b[0m | \u001b[36mgilson\u001b[0m:\u001b[36mbCommand\u001b[0m:\u001b[36m238\u001b[0m - \u001b[34m\u001b[1mresp_raw: b'1'\u001b[0m\n",
      "\u001b[32m2025-02-17 14:07:00.034\u001b[0m | \u001b[34m\u001b[1mDEBUG   \u001b[0m | \u001b[36mgilson\u001b[0m:\u001b[36mbCommand\u001b[0m:\u001b[36m256\u001b[0m - \u001b[34m\u001b[1mresp_raw 2: 49\u001b[0m\n",
      "\u001b[32m2025-02-17 14:07:00.035\u001b[0m | \u001b[34m\u001b[1mDEBUG   \u001b[0m | \u001b[36mgilson\u001b[0m:\u001b[36mbCommand\u001b[0m:\u001b[36m230\u001b[0m - \u001b[34m\u001b[1mWrites buffered Command character b']' to the device GX-241 II.\u001b[0m\n",
      "\u001b[32m2025-02-17 14:07:00.035\u001b[0m | \u001b[34m\u001b[1mDEBUG   \u001b[0m | \u001b[36mgilson\u001b[0m:\u001b[36mbCommand\u001b[0m:\u001b[36m232\u001b[0m - \u001b[34m\u001b[1mStarts reading character from the device GX-241 II.\u001b[0m\n",
      "\u001b[32m2025-02-17 14:07:00.144\u001b[0m | \u001b[34m\u001b[1mDEBUG   \u001b[0m | \u001b[36mgilson\u001b[0m:\u001b[36mbCommand\u001b[0m:\u001b[36m234\u001b[0m - \u001b[34m\u001b[1mgot back b']' from the device GX-241 II.\u001b[0m\n",
      "\u001b[32m2025-02-17 14:07:00.145\u001b[0m | \u001b[34m\u001b[1mDEBUG   \u001b[0m | \u001b[36mgilson\u001b[0m:\u001b[36mbCommand\u001b[0m:\u001b[36m238\u001b[0m - \u001b[34m\u001b[1mresp_raw: b']'\u001b[0m\n",
      "\u001b[32m2025-02-17 14:07:00.145\u001b[0m | \u001b[34m\u001b[1mDEBUG   \u001b[0m | \u001b[36mgilson\u001b[0m:\u001b[36mbCommand\u001b[0m:\u001b[36m256\u001b[0m - \u001b[34m\u001b[1mresp_raw 2: 93\u001b[0m\n",
      "\u001b[32m2025-02-17 14:07:00.145\u001b[0m | \u001b[34m\u001b[1mDEBUG   \u001b[0m | \u001b[36mgilson\u001b[0m:\u001b[36mbCommand\u001b[0m:\u001b[36m230\u001b[0m - \u001b[34m\u001b[1mWrites buffered Command character b'\\r' to the device GX-241 II.\u001b[0m\n",
      "\u001b[32m2025-02-17 14:07:00.146\u001b[0m | \u001b[34m\u001b[1mDEBUG   \u001b[0m | \u001b[36mgilson\u001b[0m:\u001b[36mbCommand\u001b[0m:\u001b[36m232\u001b[0m - \u001b[34m\u001b[1mStarts reading character from the device GX-241 II.\u001b[0m\n",
      "\u001b[32m2025-02-17 14:07:00.254\u001b[0m | \u001b[34m\u001b[1mDEBUG   \u001b[0m | \u001b[36mgilson\u001b[0m:\u001b[36mbCommand\u001b[0m:\u001b[36m234\u001b[0m - \u001b[34m\u001b[1mgot back b'\\r' from the device GX-241 II.\u001b[0m\n",
      "\u001b[32m2025-02-17 14:07:00.255\u001b[0m | \u001b[34m\u001b[1mDEBUG   \u001b[0m | \u001b[36mgilson\u001b[0m:\u001b[36mbCommand\u001b[0m:\u001b[36m238\u001b[0m - \u001b[34m\u001b[1mresp_raw: b'\\r'\u001b[0m\n",
      "\u001b[32m2025-02-17 14:07:00.255\u001b[0m | \u001b[34m\u001b[1mDEBUG   \u001b[0m | \u001b[36mgilson\u001b[0m:\u001b[36mbCommand\u001b[0m:\u001b[36m256\u001b[0m - \u001b[34m\u001b[1mresp_raw 2: 13\u001b[0m\n",
      "\u001b[32m2025-02-17 14:07:00.256\u001b[0m | \u001b[34m\u001b[1mDEBUG   \u001b[0m | \u001b[36mgilson\u001b[0m:\u001b[36mbCommand\u001b[0m:\u001b[36m271\u001b[0m - \u001b[34m\u001b[1mBuffered command complete.\u001b[0m\n",
      "\u001b[32m2025-02-17 14:07:00.256\u001b[0m | \u001b[34m\u001b[1mDEBUG   \u001b[0m | \u001b[36mgilson\u001b[0m:\u001b[36mbCommand\u001b[0m:\u001b[36m272\u001b[0m - \u001b[34m\u001b[1mReceived bytearray(b'\\nJ1[:1]\\r') from device.\u001b[0m\n",
      "\u001b[32m2025-02-17 14:07:00.257\u001b[0m | \u001b[1mINFO    \u001b[0m | \u001b[36mgilson\u001b[0m:\u001b[36mbCommand\u001b[0m:\u001b[36m273\u001b[0m - \u001b[1mGSIOC >>> bytearray(b'\\nJ1[:1]\\r')\u001b[0m\n"
     ]
    },
    {
     "data": {
      "text/plain": [
       "bytearray(b'\\nJ1[:1]\\r')"
      ]
     },
     "execution_count": 40,
     "metadata": {},
     "output_type": "execute_result"
    }
   ],
   "source": [
    "g.bCommand('J1[:1]')"
   ]
  },
  {
   "cell_type": "code",
   "execution_count": 12,
   "id": "16a7d5e2-ccf6-49a9-9d49-3634cc0cd068",
   "metadata": {},
   "outputs": [],
   "source": [
    "def g_inject():\n",
    "    g.bCommand('X146.5/0')\n",
    "    g.bCommand('Z105')"
   ]
  },
  {
   "cell_type": "code",
   "execution_count": 13,
   "id": "5bd0a70c-8ea3-4d18-ae4c-fcd1c91d5e64",
   "metadata": {},
   "outputs": [],
   "source": [
    "# Create an instance of the gsioc_Protocol class\n",
    "g_dim = gsioc_Protocol(ser, 'GX D Inject', 3)"
   ]
  },
  {
   "cell_type": "code",
   "execution_count": 14,
   "id": "83f2f71c-2a06-4037-b9df-211bbf742c57",
   "metadata": {},
   "outputs": [
    {
     "name": "stderr",
     "output_type": "stream",
     "text": [
      "\u001b[32m2025-02-14 13:15:05.473\u001b[0m | \u001b[34m\u001b[1mDEBUG   \u001b[0m | \u001b[36mgilson\u001b[0m:\u001b[36mverify_open\u001b[0m:\u001b[36m67\u001b[0m - \u001b[34m\u001b[1mCheck if port is open.\u001b[0m\n",
      "\u001b[32m2025-02-14 13:15:05.990\u001b[0m | \u001b[34m\u001b[1mDEBUG   \u001b[0m | \u001b[36mgilson\u001b[0m:\u001b[36miCommand\u001b[0m:\u001b[36m136\u001b[0m - \u001b[34m\u001b[1mSending immediate command % to device.\u001b[0m\n",
      "\u001b[32m2025-02-14 13:15:07.894\u001b[0m | \u001b[34m\u001b[1mDEBUG   \u001b[0m | \u001b[36mgilson\u001b[0m:\u001b[36miCommand\u001b[0m:\u001b[36m165\u001b[0m - \u001b[34m\u001b[1mSending immediate command complete.\u001b[0m\n",
      "\u001b[32m2025-02-14 13:15:07.894\u001b[0m | \u001b[34m\u001b[1mDEBUG   \u001b[0m | \u001b[36mgilson\u001b[0m:\u001b[36miCommand\u001b[0m:\u001b[36m175\u001b[0m - \u001b[34m\u001b[1mreceived bytearray(b'GX D Inject v1.2.0') as response.\u001b[0m\n",
      "\u001b[32m2025-02-14 13:15:08.100\u001b[0m | \u001b[34m\u001b[1mDEBUG   \u001b[0m | \u001b[36mgilson\u001b[0m:\u001b[36mconnect\u001b[0m:\u001b[36m119\u001b[0m - \u001b[34m\u001b[1mConnected to device 3\u001b[0m\n"
     ]
    }
   ],
   "source": [
    "g_dim.connect()"
   ]
  },
  {
   "cell_type": "code",
   "execution_count": null,
   "id": "87ee6c1e-6a20-4f68-a18d-6262373d12af",
   "metadata": {},
   "outputs": [],
   "source": [
    "g_dim.iCommand('%')"
   ]
  },
  {
   "cell_type": "code",
   "execution_count": null,
   "id": "d40c8cba-cb07-4042-b4d6-a3c4b55fc1e2",
   "metadata": {},
   "outputs": [],
   "source": [
    " g_dim.bCommand('VI')"
   ]
  },
  {
   "cell_type": "code",
   "execution_count": null,
   "id": "2842d9c6-0575-43f4-9d4d-83afc62e2ff7",
   "metadata": {
    "scrolled": true
   },
   "outputs": [],
   "source": [
    "g_dim.bCommand('VL')"
   ]
  },
  {
   "cell_type": "code",
   "execution_count": null,
   "id": "b5dad77a-0e3b-469c-8855-3d894d07ffef",
   "metadata": {},
   "outputs": [],
   "source": [
    "def pos_change():\n",
    "    if g_dim.iCommand('X') == 'L' :\n",
    "        g_dim.bCommand('VI')\n",
    "    else :\n",
    "        g_dim.bCommand('VL')"
   ]
  },
  {
   "cell_type": "code",
   "execution_count": null,
   "id": "9bffc8f2-5166-4f4c-94ef-5ffd364c26cb",
   "metadata": {},
   "outputs": [],
   "source": [
    "pos_change()"
   ]
  },
  {
   "cell_type": "markdown",
   "id": "56b5082c-d767-40c9-9779-4f978138e383",
   "metadata": {
    "jp-MarkdownHeadingCollapsed": true
   },
   "source": [
    "## Basic method byte by byte"
   ]
  },
  {
   "cell_type": "code",
   "execution_count": null,
   "id": "a4719981-94c6-41da-bbd2-eb93d95b78eb",
   "metadata": {
    "scrolled": true
   },
   "outputs": [],
   "source": [
    "ser.isOpen()"
   ]
  },
  {
   "cell_type": "code",
   "execution_count": null,
   "id": "905a9047-7771-4623-bb14-32199c0cc342",
   "metadata": {},
   "outputs": [],
   "source": [
    "# 4. Testing and Debugging\n",
    "# Create an instance of DeviceController\n",
    "device = DeviceController(ser)\n",
    "\n",
    "# Example command to send (replace with actual command for your device)\n",
    "command_string = '%'\n",
    "\n",
    "# Call the iCommand method\n",
    "try:\n",
    "    response = device.iCommand(command_string)\n",
    "    print(f'Response from device: {response}')\n",
    "except Exception as e:\n",
    "    print(f'Error: {e}')"
   ]
  },
  {
   "cell_type": "code",
   "execution_count": null,
   "id": "0afcb479-24c8-4859-afe0-c63965a93cda",
   "metadata": {},
   "outputs": [],
   "source": [
    "ser.close()"
   ]
  },
  {
   "cell_type": "markdown",
   "id": "3313c5dc-8b44-429e-8ebe-892a6557cef9",
   "metadata": {
    "jp-MarkdownHeadingCollapsed": true
   },
   "source": [
    "## Try Run and Platform Setup"
   ]
  },
  {
   "cell_type": "markdown",
   "id": "b0772902-86a1-474c-9995-74aafb5c48b0",
   "metadata": {},
   "source": [
    "This seems a little complex as is, too many unneeded things bundled in run.py. Try to extract the relevant functions and start again."
   ]
  },
  {
   "cell_type": "code",
   "execution_count": 16,
   "id": "df454243-fea1-4610-a02a-1d4ca0c6ea8f",
   "metadata": {},
   "outputs": [],
   "source": [
    "rack_position_offset_x=92       #distance in mm between rack_position=1 and =2 on x-axis\n",
    "rack_position_offset_y=0        #distance in mm between rack_position=1 and =2 on y-axis\n",
    "\n",
    "############################# RACK 1 DEFINITION #################################\n",
    "\n",
    "# From platform_setup.py \n",
    "rack1 = Rack([4,16], 7.5, 39.5, 18.5, 13.75, 65) # groundlevel_height assumed the minimum Z\n",
    "\n",
    "#  array_dimensions, offset_x, offset_y=offset_y, vial2vial_x, vial2vial_y, groundlevel_height\n",
    "\n",
    "# Previous vial2vialx = (2.11+15.6)\n",
    "# Previous vial2vial7 = (2.72+15.6+0.35)\n",
    "\n",
    "array_order1 = np.array([      #user is obliged to define a integer number i>=1 for each vial in the rack in ascending order \n",
    "    [1, 2, 3, 4],\n",
    "    [5, 6, 7, 8],\n",
    "    [9, 10,11,12],\n",
    "    [13,14,15,16],\n",
    "    [17,18,19,20],\n",
    "    [21,22,23,24],     \n",
    "    [25,26,27,28],     \n",
    "    [29,30,31,32],\n",
    "    [33,34,35,36],\n",
    "    [37,38,39,40],\n",
    "    [41,42,43,44],\n",
    "    [45,46,47,48],\n",
    "    [49,50,51,52],\n",
    "    [53,54,55,56],\n",
    "    [57,58,59,60],\n",
    "    [61,62,63,64]        \n",
    "    ])\n",
    "    \n",
    "rack_pos1=1\n",
    "\n",
    "global rack1_commands\n",
    "\n",
    "# Not sure what rack_position_offset_x/y are for x=92 and y=0\n",
    "\n",
    "rack1_commands = Rackcommands(rack1, array_order1, rack_pos1, rack_position_offset_x, rack_position_offset_y)\n",
    "\n",
    "global vial_selfmade\n",
    "\n",
    "vial_selfmade = Vial(1.5, 1, 33, 31.08)"
   ]
  },
  {
   "cell_type": "code",
   "execution_count": null,
   "id": "91729a43-a1fc-42c6-a7bc-d599b4e682c4",
   "metadata": {},
   "outputs": [],
   "source": [
    "# It works!\n",
    "thing = rack1_commands.get_xy_command(2)\n",
    "thing\n",
    "g.bCommand(thing[0])"
   ]
  },
  {
   "cell_type": "code",
   "execution_count": null,
   "id": "6525ccc9-0677-478a-9103-e9486215a075",
   "metadata": {},
   "outputs": [],
   "source": [
    "def go_to_vial(self, vial):\n",
    "    rack1_commands.get_xy_command(2)\n",
    "    self.bCommand(thing[0])\n",
    "    log_action('test_log.txt', f\"Autosampler sent to {vial} position.\")"
   ]
  },
  {
   "cell_type": "code",
   "execution_count": null,
   "id": "b2f80fec-1b4e-4caa-8d46-d11682d0c565",
   "metadata": {},
   "outputs": [],
   "source": [
    "g.go_to_vial(3)"
   ]
  },
  {
   "cell_type": "code",
   "execution_count": 16,
   "id": "49df7c33-7676-4266-b83d-ff3fdf1093c0",
   "metadata": {},
   "outputs": [
    {
     "name": "stderr",
     "output_type": "stream",
     "text": [
      "\u001b[32m2025-02-14 13:13:23.450\u001b[0m | \u001b[34m\u001b[1mDEBUG   \u001b[0m | \u001b[36mgilson\u001b[0m:\u001b[36mbCommand\u001b[0m:\u001b[36m182\u001b[0m - \u001b[34m\u001b[1mSending buffered command \"H\" to device.\u001b[0m\n",
      "\u001b[32m2025-02-14 13:13:23.450\u001b[0m | \u001b[1mINFO    \u001b[0m | \u001b[36mgilson\u001b[0m:\u001b[36mbCommand\u001b[0m:\u001b[36m186\u001b[0m - \u001b[1mGSIOC <<< H\u001b[0m\n",
      "\u001b[32m2025-02-14 13:13:23.559\u001b[0m | \u001b[34m\u001b[1mDEBUG   \u001b[0m | \u001b[36mgilson\u001b[0m:\u001b[36mbCommand\u001b[0m:\u001b[36m205\u001b[0m - \u001b[34m\u001b[1mready signal: b'\\n'\u001b[0m\n",
      "\u001b[32m2025-02-14 13:13:23.560\u001b[0m | \u001b[34m\u001b[1mDEBUG   \u001b[0m | \u001b[36mgilson\u001b[0m:\u001b[36mbCommand\u001b[0m:\u001b[36m214\u001b[0m - \u001b[34m\u001b[1mStarting to send buffered command.\u001b[0m\n",
      "\u001b[32m2025-02-14 13:13:23.561\u001b[0m | \u001b[34m\u001b[1mDEBUG   \u001b[0m | \u001b[36mgilson\u001b[0m:\u001b[36mbCommand\u001b[0m:\u001b[36m225\u001b[0m - \u001b[34m\u001b[1m10\u001b[0m\n",
      "\u001b[32m2025-02-14 13:13:23.562\u001b[0m | \u001b[34m\u001b[1mDEBUG   \u001b[0m | \u001b[36mgilson\u001b[0m:\u001b[36mbCommand\u001b[0m:\u001b[36m230\u001b[0m - \u001b[34m\u001b[1mWrites buffered Command character b'H' to the device GX-241 II.\u001b[0m\n",
      "\u001b[32m2025-02-14 13:13:23.564\u001b[0m | \u001b[34m\u001b[1mDEBUG   \u001b[0m | \u001b[36mgilson\u001b[0m:\u001b[36mbCommand\u001b[0m:\u001b[36m232\u001b[0m - \u001b[34m\u001b[1mStarts reading character from the device GX-241 II.\u001b[0m\n",
      "\u001b[32m2025-02-14 13:13:23.669\u001b[0m | \u001b[34m\u001b[1mDEBUG   \u001b[0m | \u001b[36mgilson\u001b[0m:\u001b[36mbCommand\u001b[0m:\u001b[36m234\u001b[0m - \u001b[34m\u001b[1mgot back b'H' from the device GX-241 II.\u001b[0m\n",
      "\u001b[32m2025-02-14 13:13:23.669\u001b[0m | \u001b[34m\u001b[1mDEBUG   \u001b[0m | \u001b[36mgilson\u001b[0m:\u001b[36mbCommand\u001b[0m:\u001b[36m238\u001b[0m - \u001b[34m\u001b[1mresp_raw: b'H'\u001b[0m\n",
      "\u001b[32m2025-02-14 13:13:23.670\u001b[0m | \u001b[34m\u001b[1mDEBUG   \u001b[0m | \u001b[36mgilson\u001b[0m:\u001b[36mbCommand\u001b[0m:\u001b[36m256\u001b[0m - \u001b[34m\u001b[1mresp_raw 2: 72\u001b[0m\n",
      "\u001b[32m2025-02-14 13:13:23.673\u001b[0m | \u001b[34m\u001b[1mDEBUG   \u001b[0m | \u001b[36mgilson\u001b[0m:\u001b[36mbCommand\u001b[0m:\u001b[36m230\u001b[0m - \u001b[34m\u001b[1mWrites buffered Command character b'\\r' to the device GX-241 II.\u001b[0m\n",
      "\u001b[32m2025-02-14 13:13:23.674\u001b[0m | \u001b[34m\u001b[1mDEBUG   \u001b[0m | \u001b[36mgilson\u001b[0m:\u001b[36mbCommand\u001b[0m:\u001b[36m232\u001b[0m - \u001b[34m\u001b[1mStarts reading character from the device GX-241 II.\u001b[0m\n",
      "\u001b[32m2025-02-14 13:13:23.781\u001b[0m | \u001b[34m\u001b[1mDEBUG   \u001b[0m | \u001b[36mgilson\u001b[0m:\u001b[36mbCommand\u001b[0m:\u001b[36m234\u001b[0m - \u001b[34m\u001b[1mgot back b'\\r' from the device GX-241 II.\u001b[0m\n",
      "\u001b[32m2025-02-14 13:13:23.781\u001b[0m | \u001b[34m\u001b[1mDEBUG   \u001b[0m | \u001b[36mgilson\u001b[0m:\u001b[36mbCommand\u001b[0m:\u001b[36m238\u001b[0m - \u001b[34m\u001b[1mresp_raw: b'\\r'\u001b[0m\n",
      "\u001b[32m2025-02-14 13:13:23.781\u001b[0m | \u001b[34m\u001b[1mDEBUG   \u001b[0m | \u001b[36mgilson\u001b[0m:\u001b[36mbCommand\u001b[0m:\u001b[36m256\u001b[0m - \u001b[34m\u001b[1mresp_raw 2: 13\u001b[0m\n",
      "\u001b[32m2025-02-14 13:13:23.781\u001b[0m | \u001b[34m\u001b[1mDEBUG   \u001b[0m | \u001b[36mgilson\u001b[0m:\u001b[36mbCommand\u001b[0m:\u001b[36m271\u001b[0m - \u001b[34m\u001b[1mBuffered command complete.\u001b[0m\n",
      "\u001b[32m2025-02-14 13:13:23.785\u001b[0m | \u001b[34m\u001b[1mDEBUG   \u001b[0m | \u001b[36mgilson\u001b[0m:\u001b[36mbCommand\u001b[0m:\u001b[36m272\u001b[0m - \u001b[34m\u001b[1mReceived bytearray(b'\\nH\\r') from device.\u001b[0m\n",
      "\u001b[32m2025-02-14 13:13:23.785\u001b[0m | \u001b[1mINFO    \u001b[0m | \u001b[36mgilson\u001b[0m:\u001b[36mbCommand\u001b[0m:\u001b[36m273\u001b[0m - \u001b[1mGSIOC >>> bytearray(b'\\nH\\r')\u001b[0m\n"
     ]
    },
    {
     "data": {
      "text/plain": [
       "bytearray(b'\\nH\\r')"
      ]
     },
     "execution_count": 16,
     "metadata": {},
     "output_type": "execute_result"
    }
   ],
   "source": [
    "g.bCommand('H')"
   ]
  },
  {
   "cell_type": "markdown",
   "id": "f0a41a3e-5dd5-4dca-a40a-79a05b4f383c",
   "metadata": {},
   "source": [
    "## With syr pump"
   ]
  },
  {
   "cell_type": "code",
   "execution_count": null,
   "id": "fbf533a2-fff5-496b-9637-7b93e15b6610",
   "metadata": {},
   "outputs": [],
   "source": [
    "#clearing recorded volumes\n",
    "pump.command('cvolume')\n",
    "pump.command('ctvolume')"
   ]
  },
  {
   "cell_type": "code",
   "execution_count": 11,
   "id": "ee70d454-ac82-44e9-a39a-2f918907b84c",
   "metadata": {},
   "outputs": [
    {
     "name": "stdout",
     "output_type": "stream",
     "text": [
      "\n",
      "02/14/25 2:00:03 PM\n",
      "T*\n"
     ]
    }
   ],
   "source": [
    "pump.command('time')"
   ]
  },
  {
   "cell_type": "code",
   "execution_count": null,
   "id": "6b26b5a6-9160-4f22-ac6e-cdd5f0886e00",
   "metadata": {},
   "outputs": [],
   "source": [
    "#setting target vol\n",
    "pump.command('tvolume 1 ml')"
   ]
  },
  {
   "cell_type": "code",
   "execution_count": null,
   "id": "24578eb6-8a63-4e04-bd51-476a9bc754b3",
   "metadata": {},
   "outputs": [],
   "source": [
    "# It works!\n",
    "thing = rack1_commands.get_xy_command(1)\n",
    "thing\n",
    "g.bCommand(thing[0])"
   ]
  },
  {
   "cell_type": "code",
   "execution_count": null,
   "id": "dd6e77c3-3b74-494d-9d87-2c3a65a583db",
   "metadata": {},
   "outputs": [],
   "source": [
    "g.bCommand('Z85')"
   ]
  },
  {
   "cell_type": "code",
   "execution_count": null,
   "id": "db0ace26-3bd3-448c-bc1a-5bda2fd824a8",
   "metadata": {},
   "outputs": [],
   "source": [
    "pump.command('wrate 1 ml/min')\n",
    "pump.command('wran')"
   ]
  },
  {
   "cell_type": "code",
   "execution_count": null,
   "id": "2637dc69-0416-4c64-85df-031f7d66b61f",
   "metadata": {},
   "outputs": [],
   "source": [
    "# It works!\n",
    "thing = rack1_commands.get_xy_command(2)\n",
    "thing\n",
    "g.bCommand(thing[0])"
   ]
  },
  {
   "cell_type": "code",
   "execution_count": null,
   "id": "6c387673-63e0-4a92-9bb5-c3915ddaadd3",
   "metadata": {},
   "outputs": [],
   "source": [
    "g.bCommand('Z85')\n",
    "sleep(5)"
   ]
  },
  {
   "cell_type": "code",
   "execution_count": null,
   "id": "4341fb3d-1d92-4d21-bed4-2418fdc30b24",
   "metadata": {},
   "outputs": [],
   "source": [
    "pump.command('irate 1 ml/min')\n",
    "pump.command('irun')"
   ]
  },
  {
   "cell_type": "code",
   "execution_count": null,
   "id": "d73f5d55-922c-4662-aaa0-482b7ec054cf",
   "metadata": {},
   "outputs": [],
   "source": [
    "g.bCommand('H')"
   ]
  },
  {
   "cell_type": "code",
   "execution_count": null,
   "id": "5e050a27-fc04-4172-ab57-8f6c2d1598e3",
   "metadata": {},
   "outputs": [],
   "source": []
  },
  {
   "cell_type": "markdown",
   "id": "4fc98a09-2d8c-45ef-a73f-22efa90d99f2",
   "metadata": {},
   "source": [
    "## SPKA code - to put in a function"
   ]
  },
  {
   "cell_type": "code",
   "execution_count": 17,
   "id": "a3f0644e-9932-4a31-947f-4cb603135ddb",
   "metadata": {},
   "outputs": [],
   "source": [
    "# Define kinetic screen\n",
    "no_sub_A = 1      # First Column\n",
    "no_sub_B = 1      # Second Column\n",
    "no_cat = 1        # Third Column\n",
    "no_add = 1        # Fourth Column\n",
    "\n",
    "# Create lists for each\n",
    "sub_A_list = [1 + 4 * i for i in range(no_sub_A)]\n",
    "sub_B_list = [2 + 4 * i for i in range(no_sub_B)] if no_sub_B > 0 else []\n",
    "cat_list = [3 + 4 * i for i in range(no_cat)] if no_cat > 0 else []\n",
    "add_list = [4 + 4 * i for i in range(no_add)] if no_add > 0 else []\n",
    "\n",
    "#print(sub_A_array, sub_B_array, cat_array)"
   ]
  },
  {
   "cell_type": "code",
   "execution_count": 18,
   "id": "481ec238-41cd-48d4-afce-26f30b23cd6a",
   "metadata": {},
   "outputs": [
    {
     "data": {
      "text/plain": [
       "[(1, 2, 3, 4)]"
      ]
     },
     "execution_count": 18,
     "metadata": {},
     "output_type": "execute_result"
    }
   ],
   "source": [
    "# Generate all possible combinations\n",
    "all_combinations = list(itertools.product(sub_A_list, sub_B_list, cat_list, add_list))\n",
    "\n",
    "# Reorder combinations so that all combinations with the same elements\n",
    "# in sub_B_array and cat_array are grouped together\n",
    "spka_combinations = []\n",
    "\n",
    "# Iterate through all unique combinations of sub_B_array and cat_array\n",
    "# This will go through all sub_A first, then sub_B, then cat\n",
    "for a in sub_A_list:\n",
    "    if sub_B_list:\n",
    "        for b in sub_B_list:\n",
    "            if cat_list:  # Check if cat_list is not empty\n",
    "                for c in cat_list:\n",
    "                    if add_list:  # Only include d if add_list is not empty\n",
    "                        for d in add_list:\n",
    "                            spka_combinations.append((a, b, c, d))\n",
    "                    else:\n",
    "                        spka_combinations.append((a, b, c))  # Append without d\n",
    "            else:  # If cat_list is empty\n",
    "                if add_list:\n",
    "                    for d in add_list:\n",
    "                        spka_combinations.append((a, b, d))  # Append without c\n",
    "                else:\n",
    "                    spka_combinations.append((a, b))  # Append only a and b\n",
    "    else:  # If sub_B_list is empty\n",
    "        if cat_list:\n",
    "            for c in cat_list:\n",
    "                if add_list:\n",
    "                    for d in add_list:\n",
    "                        spka_combinations.append((a, c, d))  # Append without b\n",
    "                else:\n",
    "                    spka_combinations.append((a, c))  # Append only a and c\n",
    "        else:  # If both sub_B_list and cat_list are empty\n",
    "            if add_list:\n",
    "                for d in add_list:\n",
    "                    spka_combinations.append((a, d))  # Append only a and d\n",
    "            else:\n",
    "                spka_combinations.append((a,))  # Append only a\n",
    "\n",
    "# Display the combinations\n",
    "spka_combinations"
   ]
  },
  {
   "cell_type": "code",
   "execution_count": 19,
   "id": "2b4c872e-9362-4ed0-9492-0abb68ac4a55",
   "metadata": {},
   "outputs": [
    {
     "name": "stderr",
     "output_type": "stream",
     "text": [
      "\u001b[32m2025-02-14 13:15:33.310\u001b[0m | \u001b[34m\u001b[1mDEBUG   \u001b[0m | \u001b[36mgilson\u001b[0m:\u001b[36mbCommand\u001b[0m:\u001b[36m182\u001b[0m - \u001b[34m\u001b[1mSending buffered command \"W01\" to device.\u001b[0m\n",
      "\u001b[32m2025-02-14 13:15:33.312\u001b[0m | \u001b[1mINFO    \u001b[0m | \u001b[36mgilson\u001b[0m:\u001b[36mbCommand\u001b[0m:\u001b[36m186\u001b[0m - \u001b[1mGSIOC <<< W01\u001b[0m\n",
      "\u001b[32m2025-02-14 13:15:33.427\u001b[0m | \u001b[34m\u001b[1mDEBUG   \u001b[0m | \u001b[36mgilson\u001b[0m:\u001b[36mbCommand\u001b[0m:\u001b[36m205\u001b[0m - \u001b[34m\u001b[1mready signal: b'\\n'\u001b[0m\n",
      "\u001b[32m2025-02-14 13:15:33.427\u001b[0m | \u001b[34m\u001b[1mDEBUG   \u001b[0m | \u001b[36mgilson\u001b[0m:\u001b[36mbCommand\u001b[0m:\u001b[36m214\u001b[0m - \u001b[34m\u001b[1mStarting to send buffered command.\u001b[0m\n",
      "\u001b[32m2025-02-14 13:15:33.427\u001b[0m | \u001b[34m\u001b[1mDEBUG   \u001b[0m | \u001b[36mgilson\u001b[0m:\u001b[36mbCommand\u001b[0m:\u001b[36m225\u001b[0m - \u001b[34m\u001b[1m10\u001b[0m\n",
      "\u001b[32m2025-02-14 13:15:33.431\u001b[0m | \u001b[34m\u001b[1mDEBUG   \u001b[0m | \u001b[36mgilson\u001b[0m:\u001b[36mbCommand\u001b[0m:\u001b[36m230\u001b[0m - \u001b[34m\u001b[1mWrites buffered Command character b'W' to the device GX-241 II.\u001b[0m\n",
      "\u001b[32m2025-02-14 13:15:33.433\u001b[0m | \u001b[34m\u001b[1mDEBUG   \u001b[0m | \u001b[36mgilson\u001b[0m:\u001b[36mbCommand\u001b[0m:\u001b[36m232\u001b[0m - \u001b[34m\u001b[1mStarts reading character from the device GX-241 II.\u001b[0m\n",
      "\u001b[32m2025-02-14 13:15:33.545\u001b[0m | \u001b[34m\u001b[1mDEBUG   \u001b[0m | \u001b[36mgilson\u001b[0m:\u001b[36mbCommand\u001b[0m:\u001b[36m234\u001b[0m - \u001b[34m\u001b[1mgot back b'W' from the device GX-241 II.\u001b[0m\n",
      "\u001b[32m2025-02-14 13:15:33.546\u001b[0m | \u001b[34m\u001b[1mDEBUG   \u001b[0m | \u001b[36mgilson\u001b[0m:\u001b[36mbCommand\u001b[0m:\u001b[36m238\u001b[0m - \u001b[34m\u001b[1mresp_raw: b'W'\u001b[0m\n",
      "\u001b[32m2025-02-14 13:15:33.546\u001b[0m | \u001b[34m\u001b[1mDEBUG   \u001b[0m | \u001b[36mgilson\u001b[0m:\u001b[36mbCommand\u001b[0m:\u001b[36m256\u001b[0m - \u001b[34m\u001b[1mresp_raw 2: 87\u001b[0m\n",
      "\u001b[32m2025-02-14 13:15:33.547\u001b[0m | \u001b[34m\u001b[1mDEBUG   \u001b[0m | \u001b[36mgilson\u001b[0m:\u001b[36mbCommand\u001b[0m:\u001b[36m230\u001b[0m - \u001b[34m\u001b[1mWrites buffered Command character b'0' to the device GX-241 II.\u001b[0m\n",
      "\u001b[32m2025-02-14 13:15:33.548\u001b[0m | \u001b[34m\u001b[1mDEBUG   \u001b[0m | \u001b[36mgilson\u001b[0m:\u001b[36mbCommand\u001b[0m:\u001b[36m232\u001b[0m - \u001b[34m\u001b[1mStarts reading character from the device GX-241 II.\u001b[0m\n",
      "\u001b[32m2025-02-14 13:15:33.662\u001b[0m | \u001b[34m\u001b[1mDEBUG   \u001b[0m | \u001b[36mgilson\u001b[0m:\u001b[36mbCommand\u001b[0m:\u001b[36m234\u001b[0m - \u001b[34m\u001b[1mgot back b'0' from the device GX-241 II.\u001b[0m\n",
      "\u001b[32m2025-02-14 13:15:33.662\u001b[0m | \u001b[34m\u001b[1mDEBUG   \u001b[0m | \u001b[36mgilson\u001b[0m:\u001b[36mbCommand\u001b[0m:\u001b[36m238\u001b[0m - \u001b[34m\u001b[1mresp_raw: b'0'\u001b[0m\n",
      "\u001b[32m2025-02-14 13:15:33.662\u001b[0m | \u001b[34m\u001b[1mDEBUG   \u001b[0m | \u001b[36mgilson\u001b[0m:\u001b[36mbCommand\u001b[0m:\u001b[36m256\u001b[0m - \u001b[34m\u001b[1mresp_raw 2: 48\u001b[0m\n",
      "\u001b[32m2025-02-14 13:15:33.662\u001b[0m | \u001b[34m\u001b[1mDEBUG   \u001b[0m | \u001b[36mgilson\u001b[0m:\u001b[36mbCommand\u001b[0m:\u001b[36m230\u001b[0m - \u001b[34m\u001b[1mWrites buffered Command character b'1' to the device GX-241 II.\u001b[0m\n",
      "\u001b[32m2025-02-14 13:15:33.665\u001b[0m | \u001b[34m\u001b[1mDEBUG   \u001b[0m | \u001b[36mgilson\u001b[0m:\u001b[36mbCommand\u001b[0m:\u001b[36m232\u001b[0m - \u001b[34m\u001b[1mStarts reading character from the device GX-241 II.\u001b[0m\n",
      "\u001b[32m2025-02-14 13:15:33.777\u001b[0m | \u001b[34m\u001b[1mDEBUG   \u001b[0m | \u001b[36mgilson\u001b[0m:\u001b[36mbCommand\u001b[0m:\u001b[36m234\u001b[0m - \u001b[34m\u001b[1mgot back b'1' from the device GX-241 II.\u001b[0m\n",
      "\u001b[32m2025-02-14 13:15:33.777\u001b[0m | \u001b[34m\u001b[1mDEBUG   \u001b[0m | \u001b[36mgilson\u001b[0m:\u001b[36mbCommand\u001b[0m:\u001b[36m238\u001b[0m - \u001b[34m\u001b[1mresp_raw: b'1'\u001b[0m\n",
      "\u001b[32m2025-02-14 13:15:33.777\u001b[0m | \u001b[34m\u001b[1mDEBUG   \u001b[0m | \u001b[36mgilson\u001b[0m:\u001b[36mbCommand\u001b[0m:\u001b[36m256\u001b[0m - \u001b[34m\u001b[1mresp_raw 2: 49\u001b[0m\n",
      "\u001b[32m2025-02-14 13:15:33.777\u001b[0m | \u001b[34m\u001b[1mDEBUG   \u001b[0m | \u001b[36mgilson\u001b[0m:\u001b[36mbCommand\u001b[0m:\u001b[36m230\u001b[0m - \u001b[34m\u001b[1mWrites buffered Command character b'\\r' to the device GX-241 II.\u001b[0m\n",
      "\u001b[32m2025-02-14 13:15:33.781\u001b[0m | \u001b[34m\u001b[1mDEBUG   \u001b[0m | \u001b[36mgilson\u001b[0m:\u001b[36mbCommand\u001b[0m:\u001b[36m232\u001b[0m - \u001b[34m\u001b[1mStarts reading character from the device GX-241 II.\u001b[0m\n",
      "\u001b[32m2025-02-14 13:15:33.895\u001b[0m | \u001b[34m\u001b[1mDEBUG   \u001b[0m | \u001b[36mgilson\u001b[0m:\u001b[36mbCommand\u001b[0m:\u001b[36m234\u001b[0m - \u001b[34m\u001b[1mgot back b'\\r' from the device GX-241 II.\u001b[0m\n",
      "\u001b[32m2025-02-14 13:15:33.895\u001b[0m | \u001b[34m\u001b[1mDEBUG   \u001b[0m | \u001b[36mgilson\u001b[0m:\u001b[36mbCommand\u001b[0m:\u001b[36m238\u001b[0m - \u001b[34m\u001b[1mresp_raw: b'\\r'\u001b[0m\n",
      "\u001b[32m2025-02-14 13:15:33.895\u001b[0m | \u001b[34m\u001b[1mDEBUG   \u001b[0m | \u001b[36mgilson\u001b[0m:\u001b[36mbCommand\u001b[0m:\u001b[36m256\u001b[0m - \u001b[34m\u001b[1mresp_raw 2: 13\u001b[0m\n",
      "\u001b[32m2025-02-14 13:15:33.895\u001b[0m | \u001b[34m\u001b[1mDEBUG   \u001b[0m | \u001b[36mgilson\u001b[0m:\u001b[36mbCommand\u001b[0m:\u001b[36m271\u001b[0m - \u001b[34m\u001b[1mBuffered command complete.\u001b[0m\n",
      "\u001b[32m2025-02-14 13:15:33.899\u001b[0m | \u001b[34m\u001b[1mDEBUG   \u001b[0m | \u001b[36mgilson\u001b[0m:\u001b[36mbCommand\u001b[0m:\u001b[36m272\u001b[0m - \u001b[34m\u001b[1mReceived bytearray(b'\\nW01\\r') from device.\u001b[0m\n",
      "\u001b[32m2025-02-14 13:15:33.899\u001b[0m | \u001b[1mINFO    \u001b[0m | \u001b[36mgilson\u001b[0m:\u001b[36mbCommand\u001b[0m:\u001b[36m273\u001b[0m - \u001b[1mGSIOC >>> bytearray(b'\\nW01\\r')\u001b[0m\n",
      "\u001b[32m2025-02-14 13:15:33.900\u001b[0m | \u001b[34m\u001b[1mDEBUG   \u001b[0m | \u001b[36mgilson\u001b[0m:\u001b[36mbCommand\u001b[0m:\u001b[36m182\u001b[0m - \u001b[34m\u001b[1mSending buffered command \"X7.5/39.5\" to device.\u001b[0m\n",
      "\u001b[32m2025-02-14 13:15:33.900\u001b[0m | \u001b[1mINFO    \u001b[0m | \u001b[36mgilson\u001b[0m:\u001b[36mbCommand\u001b[0m:\u001b[36m186\u001b[0m - \u001b[1mGSIOC <<< X7.5/39.5\u001b[0m\n",
      "\u001b[32m2025-02-14 13:15:34.013\u001b[0m | \u001b[34m\u001b[1mDEBUG   \u001b[0m | \u001b[36mgilson\u001b[0m:\u001b[36mbCommand\u001b[0m:\u001b[36m205\u001b[0m - \u001b[34m\u001b[1mready signal: b'\\n'\u001b[0m\n",
      "\u001b[32m2025-02-14 13:15:34.013\u001b[0m | \u001b[34m\u001b[1mDEBUG   \u001b[0m | \u001b[36mgilson\u001b[0m:\u001b[36mbCommand\u001b[0m:\u001b[36m214\u001b[0m - \u001b[34m\u001b[1mStarting to send buffered command.\u001b[0m\n",
      "\u001b[32m2025-02-14 13:15:34.013\u001b[0m | \u001b[34m\u001b[1mDEBUG   \u001b[0m | \u001b[36mgilson\u001b[0m:\u001b[36mbCommand\u001b[0m:\u001b[36m225\u001b[0m - \u001b[34m\u001b[1m10\u001b[0m\n",
      "\u001b[32m2025-02-14 13:15:34.016\u001b[0m | \u001b[34m\u001b[1mDEBUG   \u001b[0m | \u001b[36mgilson\u001b[0m:\u001b[36mbCommand\u001b[0m:\u001b[36m230\u001b[0m - \u001b[34m\u001b[1mWrites buffered Command character b'X' to the device GX-241 II.\u001b[0m\n",
      "\u001b[32m2025-02-14 13:15:34.017\u001b[0m | \u001b[34m\u001b[1mDEBUG   \u001b[0m | \u001b[36mgilson\u001b[0m:\u001b[36mbCommand\u001b[0m:\u001b[36m232\u001b[0m - \u001b[34m\u001b[1mStarts reading character from the device GX-241 II.\u001b[0m\n",
      "\u001b[32m2025-02-14 13:15:34.126\u001b[0m | \u001b[34m\u001b[1mDEBUG   \u001b[0m | \u001b[36mgilson\u001b[0m:\u001b[36mbCommand\u001b[0m:\u001b[36m234\u001b[0m - \u001b[34m\u001b[1mgot back b'X' from the device GX-241 II.\u001b[0m\n",
      "\u001b[32m2025-02-14 13:15:34.126\u001b[0m | \u001b[34m\u001b[1mDEBUG   \u001b[0m | \u001b[36mgilson\u001b[0m:\u001b[36mbCommand\u001b[0m:\u001b[36m238\u001b[0m - \u001b[34m\u001b[1mresp_raw: b'X'\u001b[0m\n",
      "\u001b[32m2025-02-14 13:15:34.126\u001b[0m | \u001b[34m\u001b[1mDEBUG   \u001b[0m | \u001b[36mgilson\u001b[0m:\u001b[36mbCommand\u001b[0m:\u001b[36m256\u001b[0m - \u001b[34m\u001b[1mresp_raw 2: 88\u001b[0m\n",
      "\u001b[32m2025-02-14 13:15:34.126\u001b[0m | \u001b[34m\u001b[1mDEBUG   \u001b[0m | \u001b[36mgilson\u001b[0m:\u001b[36mbCommand\u001b[0m:\u001b[36m230\u001b[0m - \u001b[34m\u001b[1mWrites buffered Command character b'7' to the device GX-241 II.\u001b[0m\n",
      "\u001b[32m2025-02-14 13:15:34.131\u001b[0m | \u001b[34m\u001b[1mDEBUG   \u001b[0m | \u001b[36mgilson\u001b[0m:\u001b[36mbCommand\u001b[0m:\u001b[36m232\u001b[0m - \u001b[34m\u001b[1mStarts reading character from the device GX-241 II.\u001b[0m\n",
      "\u001b[32m2025-02-14 13:15:34.246\u001b[0m | \u001b[34m\u001b[1mDEBUG   \u001b[0m | \u001b[36mgilson\u001b[0m:\u001b[36mbCommand\u001b[0m:\u001b[36m234\u001b[0m - \u001b[34m\u001b[1mgot back b'7' from the device GX-241 II.\u001b[0m\n",
      "\u001b[32m2025-02-14 13:15:34.246\u001b[0m | \u001b[34m\u001b[1mDEBUG   \u001b[0m | \u001b[36mgilson\u001b[0m:\u001b[36mbCommand\u001b[0m:\u001b[36m238\u001b[0m - \u001b[34m\u001b[1mresp_raw: b'7'\u001b[0m\n",
      "\u001b[32m2025-02-14 13:15:34.246\u001b[0m | \u001b[34m\u001b[1mDEBUG   \u001b[0m | \u001b[36mgilson\u001b[0m:\u001b[36mbCommand\u001b[0m:\u001b[36m256\u001b[0m - \u001b[34m\u001b[1mresp_raw 2: 55\u001b[0m\n",
      "\u001b[32m2025-02-14 13:15:34.246\u001b[0m | \u001b[34m\u001b[1mDEBUG   \u001b[0m | \u001b[36mgilson\u001b[0m:\u001b[36mbCommand\u001b[0m:\u001b[36m230\u001b[0m - \u001b[34m\u001b[1mWrites buffered Command character b'.' to the device GX-241 II.\u001b[0m\n",
      "\u001b[32m2025-02-14 13:15:34.250\u001b[0m | \u001b[34m\u001b[1mDEBUG   \u001b[0m | \u001b[36mgilson\u001b[0m:\u001b[36mbCommand\u001b[0m:\u001b[36m232\u001b[0m - \u001b[34m\u001b[1mStarts reading character from the device GX-241 II.\u001b[0m\n",
      "\u001b[32m2025-02-14 13:15:34.364\u001b[0m | \u001b[34m\u001b[1mDEBUG   \u001b[0m | \u001b[36mgilson\u001b[0m:\u001b[36mbCommand\u001b[0m:\u001b[36m234\u001b[0m - \u001b[34m\u001b[1mgot back b'.' from the device GX-241 II.\u001b[0m\n",
      "\u001b[32m2025-02-14 13:15:34.365\u001b[0m | \u001b[34m\u001b[1mDEBUG   \u001b[0m | \u001b[36mgilson\u001b[0m:\u001b[36mbCommand\u001b[0m:\u001b[36m238\u001b[0m - \u001b[34m\u001b[1mresp_raw: b'.'\u001b[0m\n",
      "\u001b[32m2025-02-14 13:15:34.366\u001b[0m | \u001b[34m\u001b[1mDEBUG   \u001b[0m | \u001b[36mgilson\u001b[0m:\u001b[36mbCommand\u001b[0m:\u001b[36m256\u001b[0m - \u001b[34m\u001b[1mresp_raw 2: 46\u001b[0m\n",
      "\u001b[32m2025-02-14 13:15:34.367\u001b[0m | \u001b[34m\u001b[1mDEBUG   \u001b[0m | \u001b[36mgilson\u001b[0m:\u001b[36mbCommand\u001b[0m:\u001b[36m230\u001b[0m - \u001b[34m\u001b[1mWrites buffered Command character b'5' to the device GX-241 II.\u001b[0m\n",
      "\u001b[32m2025-02-14 13:15:34.368\u001b[0m | \u001b[34m\u001b[1mDEBUG   \u001b[0m | \u001b[36mgilson\u001b[0m:\u001b[36mbCommand\u001b[0m:\u001b[36m232\u001b[0m - \u001b[34m\u001b[1mStarts reading character from the device GX-241 II.\u001b[0m\n",
      "\u001b[32m2025-02-14 13:15:34.480\u001b[0m | \u001b[34m\u001b[1mDEBUG   \u001b[0m | \u001b[36mgilson\u001b[0m:\u001b[36mbCommand\u001b[0m:\u001b[36m234\u001b[0m - \u001b[34m\u001b[1mgot back b'5' from the device GX-241 II.\u001b[0m\n",
      "\u001b[32m2025-02-14 13:15:34.480\u001b[0m | \u001b[34m\u001b[1mDEBUG   \u001b[0m | \u001b[36mgilson\u001b[0m:\u001b[36mbCommand\u001b[0m:\u001b[36m238\u001b[0m - \u001b[34m\u001b[1mresp_raw: b'5'\u001b[0m\n",
      "\u001b[32m2025-02-14 13:15:34.480\u001b[0m | \u001b[34m\u001b[1mDEBUG   \u001b[0m | \u001b[36mgilson\u001b[0m:\u001b[36mbCommand\u001b[0m:\u001b[36m256\u001b[0m - \u001b[34m\u001b[1mresp_raw 2: 53\u001b[0m\n",
      "\u001b[32m2025-02-14 13:15:34.480\u001b[0m | \u001b[34m\u001b[1mDEBUG   \u001b[0m | \u001b[36mgilson\u001b[0m:\u001b[36mbCommand\u001b[0m:\u001b[36m230\u001b[0m - \u001b[34m\u001b[1mWrites buffered Command character b'/' to the device GX-241 II.\u001b[0m\n",
      "\u001b[32m2025-02-14 13:15:34.482\u001b[0m | \u001b[34m\u001b[1mDEBUG   \u001b[0m | \u001b[36mgilson\u001b[0m:\u001b[36mbCommand\u001b[0m:\u001b[36m232\u001b[0m - \u001b[34m\u001b[1mStarts reading character from the device GX-241 II.\u001b[0m\n",
      "\u001b[32m2025-02-14 13:15:34.597\u001b[0m | \u001b[34m\u001b[1mDEBUG   \u001b[0m | \u001b[36mgilson\u001b[0m:\u001b[36mbCommand\u001b[0m:\u001b[36m234\u001b[0m - \u001b[34m\u001b[1mgot back b'/' from the device GX-241 II.\u001b[0m\n",
      "\u001b[32m2025-02-14 13:15:34.597\u001b[0m | \u001b[34m\u001b[1mDEBUG   \u001b[0m | \u001b[36mgilson\u001b[0m:\u001b[36mbCommand\u001b[0m:\u001b[36m238\u001b[0m - \u001b[34m\u001b[1mresp_raw: b'/'\u001b[0m\n",
      "\u001b[32m2025-02-14 13:15:34.597\u001b[0m | \u001b[34m\u001b[1mDEBUG   \u001b[0m | \u001b[36mgilson\u001b[0m:\u001b[36mbCommand\u001b[0m:\u001b[36m256\u001b[0m - \u001b[34m\u001b[1mresp_raw 2: 47\u001b[0m\n",
      "\u001b[32m2025-02-14 13:15:34.597\u001b[0m | \u001b[34m\u001b[1mDEBUG   \u001b[0m | \u001b[36mgilson\u001b[0m:\u001b[36mbCommand\u001b[0m:\u001b[36m230\u001b[0m - \u001b[34m\u001b[1mWrites buffered Command character b'3' to the device GX-241 II.\u001b[0m\n",
      "\u001b[32m2025-02-14 13:15:34.608\u001b[0m | \u001b[34m\u001b[1mDEBUG   \u001b[0m | \u001b[36mgilson\u001b[0m:\u001b[36mbCommand\u001b[0m:\u001b[36m232\u001b[0m - \u001b[34m\u001b[1mStarts reading character from the device GX-241 II.\u001b[0m\n",
      "\u001b[32m2025-02-14 13:15:34.713\u001b[0m | \u001b[34m\u001b[1mDEBUG   \u001b[0m | \u001b[36mgilson\u001b[0m:\u001b[36mbCommand\u001b[0m:\u001b[36m234\u001b[0m - \u001b[34m\u001b[1mgot back b'3' from the device GX-241 II.\u001b[0m\n",
      "\u001b[32m2025-02-14 13:15:34.713\u001b[0m | \u001b[34m\u001b[1mDEBUG   \u001b[0m | \u001b[36mgilson\u001b[0m:\u001b[36mbCommand\u001b[0m:\u001b[36m238\u001b[0m - \u001b[34m\u001b[1mresp_raw: b'3'\u001b[0m\n",
      "\u001b[32m2025-02-14 13:15:34.714\u001b[0m | \u001b[34m\u001b[1mDEBUG   \u001b[0m | \u001b[36mgilson\u001b[0m:\u001b[36mbCommand\u001b[0m:\u001b[36m256\u001b[0m - \u001b[34m\u001b[1mresp_raw 2: 51\u001b[0m\n",
      "\u001b[32m2025-02-14 13:15:34.715\u001b[0m | \u001b[34m\u001b[1mDEBUG   \u001b[0m | \u001b[36mgilson\u001b[0m:\u001b[36mbCommand\u001b[0m:\u001b[36m230\u001b[0m - \u001b[34m\u001b[1mWrites buffered Command character b'9' to the device GX-241 II.\u001b[0m\n",
      "\u001b[32m2025-02-14 13:15:34.715\u001b[0m | \u001b[34m\u001b[1mDEBUG   \u001b[0m | \u001b[36mgilson\u001b[0m:\u001b[36mbCommand\u001b[0m:\u001b[36m232\u001b[0m - \u001b[34m\u001b[1mStarts reading character from the device GX-241 II.\u001b[0m\n",
      "\u001b[32m2025-02-14 13:15:34.831\u001b[0m | \u001b[34m\u001b[1mDEBUG   \u001b[0m | \u001b[36mgilson\u001b[0m:\u001b[36mbCommand\u001b[0m:\u001b[36m234\u001b[0m - \u001b[34m\u001b[1mgot back b'9' from the device GX-241 II.\u001b[0m\n",
      "\u001b[32m2025-02-14 13:15:34.831\u001b[0m | \u001b[34m\u001b[1mDEBUG   \u001b[0m | \u001b[36mgilson\u001b[0m:\u001b[36mbCommand\u001b[0m:\u001b[36m238\u001b[0m - \u001b[34m\u001b[1mresp_raw: b'9'\u001b[0m\n",
      "\u001b[32m2025-02-14 13:15:34.831\u001b[0m | \u001b[34m\u001b[1mDEBUG   \u001b[0m | \u001b[36mgilson\u001b[0m:\u001b[36mbCommand\u001b[0m:\u001b[36m256\u001b[0m - \u001b[34m\u001b[1mresp_raw 2: 57\u001b[0m\n",
      "\u001b[32m2025-02-14 13:15:34.831\u001b[0m | \u001b[34m\u001b[1mDEBUG   \u001b[0m | \u001b[36mgilson\u001b[0m:\u001b[36mbCommand\u001b[0m:\u001b[36m230\u001b[0m - \u001b[34m\u001b[1mWrites buffered Command character b'.' to the device GX-241 II.\u001b[0m\n",
      "\u001b[32m2025-02-14 13:15:34.833\u001b[0m | \u001b[34m\u001b[1mDEBUG   \u001b[0m | \u001b[36mgilson\u001b[0m:\u001b[36mbCommand\u001b[0m:\u001b[36m232\u001b[0m - \u001b[34m\u001b[1mStarts reading character from the device GX-241 II.\u001b[0m\n",
      "\u001b[32m2025-02-14 13:15:34.947\u001b[0m | \u001b[34m\u001b[1mDEBUG   \u001b[0m | \u001b[36mgilson\u001b[0m:\u001b[36mbCommand\u001b[0m:\u001b[36m234\u001b[0m - \u001b[34m\u001b[1mgot back b'.' from the device GX-241 II.\u001b[0m\n",
      "\u001b[32m2025-02-14 13:15:34.947\u001b[0m | \u001b[34m\u001b[1mDEBUG   \u001b[0m | \u001b[36mgilson\u001b[0m:\u001b[36mbCommand\u001b[0m:\u001b[36m238\u001b[0m - \u001b[34m\u001b[1mresp_raw: b'.'\u001b[0m\n",
      "\u001b[32m2025-02-14 13:15:34.947\u001b[0m | \u001b[34m\u001b[1mDEBUG   \u001b[0m | \u001b[36mgilson\u001b[0m:\u001b[36mbCommand\u001b[0m:\u001b[36m256\u001b[0m - \u001b[34m\u001b[1mresp_raw 2: 46\u001b[0m\n",
      "\u001b[32m2025-02-14 13:15:34.950\u001b[0m | \u001b[34m\u001b[1mDEBUG   \u001b[0m | \u001b[36mgilson\u001b[0m:\u001b[36mbCommand\u001b[0m:\u001b[36m230\u001b[0m - \u001b[34m\u001b[1mWrites buffered Command character b'5' to the device GX-241 II.\u001b[0m\n",
      "\u001b[32m2025-02-14 13:15:34.951\u001b[0m | \u001b[34m\u001b[1mDEBUG   \u001b[0m | \u001b[36mgilson\u001b[0m:\u001b[36mbCommand\u001b[0m:\u001b[36m232\u001b[0m - \u001b[34m\u001b[1mStarts reading character from the device GX-241 II.\u001b[0m\n",
      "\u001b[32m2025-02-14 13:15:35.064\u001b[0m | \u001b[34m\u001b[1mDEBUG   \u001b[0m | \u001b[36mgilson\u001b[0m:\u001b[36mbCommand\u001b[0m:\u001b[36m234\u001b[0m - \u001b[34m\u001b[1mgot back b'5' from the device GX-241 II.\u001b[0m\n",
      "\u001b[32m2025-02-14 13:15:35.064\u001b[0m | \u001b[34m\u001b[1mDEBUG   \u001b[0m | \u001b[36mgilson\u001b[0m:\u001b[36mbCommand\u001b[0m:\u001b[36m238\u001b[0m - \u001b[34m\u001b[1mresp_raw: b'5'\u001b[0m\n",
      "\u001b[32m2025-02-14 13:15:35.064\u001b[0m | \u001b[34m\u001b[1mDEBUG   \u001b[0m | \u001b[36mgilson\u001b[0m:\u001b[36mbCommand\u001b[0m:\u001b[36m256\u001b[0m - \u001b[34m\u001b[1mresp_raw 2: 53\u001b[0m\n",
      "\u001b[32m2025-02-14 13:15:35.064\u001b[0m | \u001b[34m\u001b[1mDEBUG   \u001b[0m | \u001b[36mgilson\u001b[0m:\u001b[36mbCommand\u001b[0m:\u001b[36m230\u001b[0m - \u001b[34m\u001b[1mWrites buffered Command character b'\\r' to the device GX-241 II.\u001b[0m\n",
      "\u001b[32m2025-02-14 13:15:35.067\u001b[0m | \u001b[34m\u001b[1mDEBUG   \u001b[0m | \u001b[36mgilson\u001b[0m:\u001b[36mbCommand\u001b[0m:\u001b[36m232\u001b[0m - \u001b[34m\u001b[1mStarts reading character from the device GX-241 II.\u001b[0m\n",
      "\u001b[32m2025-02-14 13:15:35.182\u001b[0m | \u001b[34m\u001b[1mDEBUG   \u001b[0m | \u001b[36mgilson\u001b[0m:\u001b[36mbCommand\u001b[0m:\u001b[36m234\u001b[0m - \u001b[34m\u001b[1mgot back b'\\r' from the device GX-241 II.\u001b[0m\n",
      "\u001b[32m2025-02-14 13:15:35.182\u001b[0m | \u001b[34m\u001b[1mDEBUG   \u001b[0m | \u001b[36mgilson\u001b[0m:\u001b[36mbCommand\u001b[0m:\u001b[36m238\u001b[0m - \u001b[34m\u001b[1mresp_raw: b'\\r'\u001b[0m\n",
      "\u001b[32m2025-02-14 13:15:35.182\u001b[0m | \u001b[34m\u001b[1mDEBUG   \u001b[0m | \u001b[36mgilson\u001b[0m:\u001b[36mbCommand\u001b[0m:\u001b[36m256\u001b[0m - \u001b[34m\u001b[1mresp_raw 2: 13\u001b[0m\n",
      "\u001b[32m2025-02-14 13:15:35.182\u001b[0m | \u001b[34m\u001b[1mDEBUG   \u001b[0m | \u001b[36mgilson\u001b[0m:\u001b[36mbCommand\u001b[0m:\u001b[36m271\u001b[0m - \u001b[34m\u001b[1mBuffered command complete.\u001b[0m\n",
      "\u001b[32m2025-02-14 13:15:35.182\u001b[0m | \u001b[34m\u001b[1mDEBUG   \u001b[0m | \u001b[36mgilson\u001b[0m:\u001b[36mbCommand\u001b[0m:\u001b[36m272\u001b[0m - \u001b[34m\u001b[1mReceived bytearray(b'\\nX7.5/39.5\\r') from device.\u001b[0m\n",
      "\u001b[32m2025-02-14 13:15:35.184\u001b[0m | \u001b[1mINFO    \u001b[0m | \u001b[36mgilson\u001b[0m:\u001b[36mbCommand\u001b[0m:\u001b[36m273\u001b[0m - \u001b[1mGSIOC >>> bytearray(b'\\nX7.5/39.5\\r')\u001b[0m\n",
      "\u001b[32m2025-02-14 13:15:35.185\u001b[0m | \u001b[34m\u001b[1mDEBUG   \u001b[0m | \u001b[36mgilson\u001b[0m:\u001b[36mbCommand\u001b[0m:\u001b[36m182\u001b[0m - \u001b[34m\u001b[1mSending buffered command \"Z85\" to device.\u001b[0m\n",
      "\u001b[32m2025-02-14 13:15:35.186\u001b[0m | \u001b[1mINFO    \u001b[0m | \u001b[36mgilson\u001b[0m:\u001b[36mbCommand\u001b[0m:\u001b[36m186\u001b[0m - \u001b[1mGSIOC <<< Z85\u001b[0m\n",
      "\u001b[32m2025-02-14 13:15:35.298\u001b[0m | \u001b[34m\u001b[1mDEBUG   \u001b[0m | \u001b[36mgilson\u001b[0m:\u001b[36mbCommand\u001b[0m:\u001b[36m205\u001b[0m - \u001b[34m\u001b[1mready signal: b'\\n'\u001b[0m\n",
      "\u001b[32m2025-02-14 13:15:35.301\u001b[0m | \u001b[34m\u001b[1mDEBUG   \u001b[0m | \u001b[36mgilson\u001b[0m:\u001b[36mbCommand\u001b[0m:\u001b[36m214\u001b[0m - \u001b[34m\u001b[1mStarting to send buffered command.\u001b[0m\n",
      "\u001b[32m2025-02-14 13:15:35.303\u001b[0m | \u001b[34m\u001b[1mDEBUG   \u001b[0m | \u001b[36mgilson\u001b[0m:\u001b[36mbCommand\u001b[0m:\u001b[36m225\u001b[0m - \u001b[34m\u001b[1m10\u001b[0m\n",
      "\u001b[32m2025-02-14 13:15:35.307\u001b[0m | \u001b[34m\u001b[1mDEBUG   \u001b[0m | \u001b[36mgilson\u001b[0m:\u001b[36mbCommand\u001b[0m:\u001b[36m230\u001b[0m - \u001b[34m\u001b[1mWrites buffered Command character b'Z' to the device GX-241 II.\u001b[0m\n",
      "\u001b[32m2025-02-14 13:15:35.310\u001b[0m | \u001b[34m\u001b[1mDEBUG   \u001b[0m | \u001b[36mgilson\u001b[0m:\u001b[36mbCommand\u001b[0m:\u001b[36m232\u001b[0m - \u001b[34m\u001b[1mStarts reading character from the device GX-241 II.\u001b[0m\n",
      "\u001b[32m2025-02-14 13:15:35.418\u001b[0m | \u001b[34m\u001b[1mDEBUG   \u001b[0m | \u001b[36mgilson\u001b[0m:\u001b[36mbCommand\u001b[0m:\u001b[36m234\u001b[0m - \u001b[34m\u001b[1mgot back b'Z' from the device GX-241 II.\u001b[0m\n",
      "\u001b[32m2025-02-14 13:15:35.418\u001b[0m | \u001b[34m\u001b[1mDEBUG   \u001b[0m | \u001b[36mgilson\u001b[0m:\u001b[36mbCommand\u001b[0m:\u001b[36m238\u001b[0m - \u001b[34m\u001b[1mresp_raw: b'Z'\u001b[0m\n",
      "\u001b[32m2025-02-14 13:15:35.419\u001b[0m | \u001b[34m\u001b[1mDEBUG   \u001b[0m | \u001b[36mgilson\u001b[0m:\u001b[36mbCommand\u001b[0m:\u001b[36m256\u001b[0m - \u001b[34m\u001b[1mresp_raw 2: 90\u001b[0m\n",
      "\u001b[32m2025-02-14 13:15:35.420\u001b[0m | \u001b[34m\u001b[1mDEBUG   \u001b[0m | \u001b[36mgilson\u001b[0m:\u001b[36mbCommand\u001b[0m:\u001b[36m230\u001b[0m - \u001b[34m\u001b[1mWrites buffered Command character b'8' to the device GX-241 II.\u001b[0m\n",
      "\u001b[32m2025-02-14 13:15:35.420\u001b[0m | \u001b[34m\u001b[1mDEBUG   \u001b[0m | \u001b[36mgilson\u001b[0m:\u001b[36mbCommand\u001b[0m:\u001b[36m232\u001b[0m - \u001b[34m\u001b[1mStarts reading character from the device GX-241 II.\u001b[0m\n",
      "\u001b[32m2025-02-14 13:15:35.529\u001b[0m | \u001b[34m\u001b[1mDEBUG   \u001b[0m | \u001b[36mgilson\u001b[0m:\u001b[36mbCommand\u001b[0m:\u001b[36m234\u001b[0m - \u001b[34m\u001b[1mgot back b'8' from the device GX-241 II.\u001b[0m\n",
      "\u001b[32m2025-02-14 13:15:35.530\u001b[0m | \u001b[34m\u001b[1mDEBUG   \u001b[0m | \u001b[36mgilson\u001b[0m:\u001b[36mbCommand\u001b[0m:\u001b[36m238\u001b[0m - \u001b[34m\u001b[1mresp_raw: b'8'\u001b[0m\n",
      "\u001b[32m2025-02-14 13:15:35.530\u001b[0m | \u001b[34m\u001b[1mDEBUG   \u001b[0m | \u001b[36mgilson\u001b[0m:\u001b[36mbCommand\u001b[0m:\u001b[36m256\u001b[0m - \u001b[34m\u001b[1mresp_raw 2: 56\u001b[0m\n",
      "\u001b[32m2025-02-14 13:15:35.531\u001b[0m | \u001b[34m\u001b[1mDEBUG   \u001b[0m | \u001b[36mgilson\u001b[0m:\u001b[36mbCommand\u001b[0m:\u001b[36m230\u001b[0m - \u001b[34m\u001b[1mWrites buffered Command character b'5' to the device GX-241 II.\u001b[0m\n",
      "\u001b[32m2025-02-14 13:15:35.531\u001b[0m | \u001b[34m\u001b[1mDEBUG   \u001b[0m | \u001b[36mgilson\u001b[0m:\u001b[36mbCommand\u001b[0m:\u001b[36m232\u001b[0m - \u001b[34m\u001b[1mStarts reading character from the device GX-241 II.\u001b[0m\n",
      "\u001b[32m2025-02-14 13:15:35.647\u001b[0m | \u001b[34m\u001b[1mDEBUG   \u001b[0m | \u001b[36mgilson\u001b[0m:\u001b[36mbCommand\u001b[0m:\u001b[36m234\u001b[0m - \u001b[34m\u001b[1mgot back b'5' from the device GX-241 II.\u001b[0m\n",
      "\u001b[32m2025-02-14 13:15:35.648\u001b[0m | \u001b[34m\u001b[1mDEBUG   \u001b[0m | \u001b[36mgilson\u001b[0m:\u001b[36mbCommand\u001b[0m:\u001b[36m238\u001b[0m - \u001b[34m\u001b[1mresp_raw: b'5'\u001b[0m\n",
      "\u001b[32m2025-02-14 13:15:35.648\u001b[0m | \u001b[34m\u001b[1mDEBUG   \u001b[0m | \u001b[36mgilson\u001b[0m:\u001b[36mbCommand\u001b[0m:\u001b[36m256\u001b[0m - \u001b[34m\u001b[1mresp_raw 2: 53\u001b[0m\n",
      "\u001b[32m2025-02-14 13:15:35.649\u001b[0m | \u001b[34m\u001b[1mDEBUG   \u001b[0m | \u001b[36mgilson\u001b[0m:\u001b[36mbCommand\u001b[0m:\u001b[36m230\u001b[0m - \u001b[34m\u001b[1mWrites buffered Command character b'\\r' to the device GX-241 II.\u001b[0m\n",
      "\u001b[32m2025-02-14 13:15:35.651\u001b[0m | \u001b[34m\u001b[1mDEBUG   \u001b[0m | \u001b[36mgilson\u001b[0m:\u001b[36mbCommand\u001b[0m:\u001b[36m232\u001b[0m - \u001b[34m\u001b[1mStarts reading character from the device GX-241 II.\u001b[0m\n",
      "\u001b[32m2025-02-14 13:15:35.764\u001b[0m | \u001b[34m\u001b[1mDEBUG   \u001b[0m | \u001b[36mgilson\u001b[0m:\u001b[36mbCommand\u001b[0m:\u001b[36m234\u001b[0m - \u001b[34m\u001b[1mgot back b'\\r' from the device GX-241 II.\u001b[0m\n",
      "\u001b[32m2025-02-14 13:15:35.765\u001b[0m | \u001b[34m\u001b[1mDEBUG   \u001b[0m | \u001b[36mgilson\u001b[0m:\u001b[36mbCommand\u001b[0m:\u001b[36m238\u001b[0m - \u001b[34m\u001b[1mresp_raw: b'\\r'\u001b[0m\n",
      "\u001b[32m2025-02-14 13:15:35.765\u001b[0m | \u001b[34m\u001b[1mDEBUG   \u001b[0m | \u001b[36mgilson\u001b[0m:\u001b[36mbCommand\u001b[0m:\u001b[36m256\u001b[0m - \u001b[34m\u001b[1mresp_raw 2: 13\u001b[0m\n",
      "\u001b[32m2025-02-14 13:15:35.765\u001b[0m | \u001b[34m\u001b[1mDEBUG   \u001b[0m | \u001b[36mgilson\u001b[0m:\u001b[36mbCommand\u001b[0m:\u001b[36m271\u001b[0m - \u001b[34m\u001b[1mBuffered command complete.\u001b[0m\n",
      "\u001b[32m2025-02-14 13:15:35.774\u001b[0m | \u001b[34m\u001b[1mDEBUG   \u001b[0m | \u001b[36mgilson\u001b[0m:\u001b[36mbCommand\u001b[0m:\u001b[36m272\u001b[0m - \u001b[34m\u001b[1mReceived bytearray(b'\\nZ85\\r') from device.\u001b[0m\n",
      "\u001b[32m2025-02-14 13:15:35.776\u001b[0m | \u001b[1mINFO    \u001b[0m | \u001b[36mgilson\u001b[0m:\u001b[36mbCommand\u001b[0m:\u001b[36m273\u001b[0m - \u001b[1mGSIOC >>> bytearray(b'\\nZ85\\r')\u001b[0m\n"
     ]
    },
    {
     "name": "stdout",
     "output_type": "stream",
     "text": [
      "\n",
      ":\n",
      "\n",
      ":\n",
      "\n",
      ":\n",
      "\n",
      ":\n"
     ]
    },
    {
     "name": "stderr",
     "output_type": "stream",
     "text": [
      "\u001b[32m2025-02-14 13:15:40.893\u001b[0m | \u001b[34m\u001b[1mDEBUG   \u001b[0m | \u001b[36mgilson\u001b[0m:\u001b[36mbCommand\u001b[0m:\u001b[36m182\u001b[0m - \u001b[34m\u001b[1mSending buffered command \"Z120\" to device.\u001b[0m\n",
      "\u001b[32m2025-02-14 13:15:40.902\u001b[0m | \u001b[1mINFO    \u001b[0m | \u001b[36mgilson\u001b[0m:\u001b[36mbCommand\u001b[0m:\u001b[36m186\u001b[0m - \u001b[1mGSIOC <<< Z120\u001b[0m\n",
      "\u001b[32m2025-02-14 13:15:41.017\u001b[0m | \u001b[34m\u001b[1mDEBUG   \u001b[0m | \u001b[36mgilson\u001b[0m:\u001b[36mbCommand\u001b[0m:\u001b[36m205\u001b[0m - \u001b[34m\u001b[1mready signal: b'\\n'\u001b[0m\n",
      "\u001b[32m2025-02-14 13:15:41.017\u001b[0m | \u001b[34m\u001b[1mDEBUG   \u001b[0m | \u001b[36mgilson\u001b[0m:\u001b[36mbCommand\u001b[0m:\u001b[36m214\u001b[0m - \u001b[34m\u001b[1mStarting to send buffered command.\u001b[0m\n",
      "\u001b[32m2025-02-14 13:15:41.017\u001b[0m | \u001b[34m\u001b[1mDEBUG   \u001b[0m | \u001b[36mgilson\u001b[0m:\u001b[36mbCommand\u001b[0m:\u001b[36m225\u001b[0m - \u001b[34m\u001b[1m10\u001b[0m\n",
      "\u001b[32m2025-02-14 13:15:41.021\u001b[0m | \u001b[34m\u001b[1mDEBUG   \u001b[0m | \u001b[36mgilson\u001b[0m:\u001b[36mbCommand\u001b[0m:\u001b[36m230\u001b[0m - \u001b[34m\u001b[1mWrites buffered Command character b'Z' to the device GX-241 II.\u001b[0m\n",
      "\u001b[32m2025-02-14 13:15:41.022\u001b[0m | \u001b[34m\u001b[1mDEBUG   \u001b[0m | \u001b[36mgilson\u001b[0m:\u001b[36mbCommand\u001b[0m:\u001b[36m232\u001b[0m - \u001b[34m\u001b[1mStarts reading character from the device GX-241 II.\u001b[0m\n"
     ]
    },
    {
     "name": "stdout",
     "output_type": "stream",
     "text": [
      "\n",
      "<\n"
     ]
    },
    {
     "name": "stderr",
     "output_type": "stream",
     "text": [
      "\u001b[32m2025-02-14 13:15:41.124\u001b[0m | \u001b[34m\u001b[1mDEBUG   \u001b[0m | \u001b[36mgilson\u001b[0m:\u001b[36mbCommand\u001b[0m:\u001b[36m234\u001b[0m - \u001b[34m\u001b[1mgot back b'Z' from the device GX-241 II.\u001b[0m\n",
      "\u001b[32m2025-02-14 13:15:41.125\u001b[0m | \u001b[34m\u001b[1mDEBUG   \u001b[0m | \u001b[36mgilson\u001b[0m:\u001b[36mbCommand\u001b[0m:\u001b[36m238\u001b[0m - \u001b[34m\u001b[1mresp_raw: b'Z'\u001b[0m\n",
      "\u001b[32m2025-02-14 13:15:41.125\u001b[0m | \u001b[34m\u001b[1mDEBUG   \u001b[0m | \u001b[36mgilson\u001b[0m:\u001b[36mbCommand\u001b[0m:\u001b[36m256\u001b[0m - \u001b[34m\u001b[1mresp_raw 2: 90\u001b[0m\n",
      "\u001b[32m2025-02-14 13:15:41.125\u001b[0m | \u001b[34m\u001b[1mDEBUG   \u001b[0m | \u001b[36mgilson\u001b[0m:\u001b[36mbCommand\u001b[0m:\u001b[36m230\u001b[0m - \u001b[34m\u001b[1mWrites buffered Command character b'1' to the device GX-241 II.\u001b[0m\n",
      "\u001b[32m2025-02-14 13:15:41.125\u001b[0m | \u001b[34m\u001b[1mDEBUG   \u001b[0m | \u001b[36mgilson\u001b[0m:\u001b[36mbCommand\u001b[0m:\u001b[36m232\u001b[0m - \u001b[34m\u001b[1mStarts reading character from the device GX-241 II.\u001b[0m\n",
      "\u001b[32m2025-02-14 13:15:41.231\u001b[0m | \u001b[34m\u001b[1mDEBUG   \u001b[0m | \u001b[36mgilson\u001b[0m:\u001b[36mbCommand\u001b[0m:\u001b[36m234\u001b[0m - \u001b[34m\u001b[1mgot back b'1' from the device GX-241 II.\u001b[0m\n",
      "\u001b[32m2025-02-14 13:15:41.233\u001b[0m | \u001b[34m\u001b[1mDEBUG   \u001b[0m | \u001b[36mgilson\u001b[0m:\u001b[36mbCommand\u001b[0m:\u001b[36m238\u001b[0m - \u001b[34m\u001b[1mresp_raw: b'1'\u001b[0m\n",
      "\u001b[32m2025-02-14 13:15:41.236\u001b[0m | \u001b[34m\u001b[1mDEBUG   \u001b[0m | \u001b[36mgilson\u001b[0m:\u001b[36mbCommand\u001b[0m:\u001b[36m256\u001b[0m - \u001b[34m\u001b[1mresp_raw 2: 49\u001b[0m\n",
      "\u001b[32m2025-02-14 13:15:41.240\u001b[0m | \u001b[34m\u001b[1mDEBUG   \u001b[0m | \u001b[36mgilson\u001b[0m:\u001b[36mbCommand\u001b[0m:\u001b[36m230\u001b[0m - \u001b[34m\u001b[1mWrites buffered Command character b'2' to the device GX-241 II.\u001b[0m\n",
      "\u001b[32m2025-02-14 13:15:41.241\u001b[0m | \u001b[34m\u001b[1mDEBUG   \u001b[0m | \u001b[36mgilson\u001b[0m:\u001b[36mbCommand\u001b[0m:\u001b[36m232\u001b[0m - \u001b[34m\u001b[1mStarts reading character from the device GX-241 II.\u001b[0m\n",
      "\u001b[32m2025-02-14 13:15:41.353\u001b[0m | \u001b[34m\u001b[1mDEBUG   \u001b[0m | \u001b[36mgilson\u001b[0m:\u001b[36mbCommand\u001b[0m:\u001b[36m234\u001b[0m - \u001b[34m\u001b[1mgot back b'2' from the device GX-241 II.\u001b[0m\n",
      "\u001b[32m2025-02-14 13:15:41.355\u001b[0m | \u001b[34m\u001b[1mDEBUG   \u001b[0m | \u001b[36mgilson\u001b[0m:\u001b[36mbCommand\u001b[0m:\u001b[36m238\u001b[0m - \u001b[34m\u001b[1mresp_raw: b'2'\u001b[0m\n",
      "\u001b[32m2025-02-14 13:15:41.358\u001b[0m | \u001b[34m\u001b[1mDEBUG   \u001b[0m | \u001b[36mgilson\u001b[0m:\u001b[36mbCommand\u001b[0m:\u001b[36m256\u001b[0m - \u001b[34m\u001b[1mresp_raw 2: 50\u001b[0m\n",
      "\u001b[32m2025-02-14 13:15:41.359\u001b[0m | \u001b[34m\u001b[1mDEBUG   \u001b[0m | \u001b[36mgilson\u001b[0m:\u001b[36mbCommand\u001b[0m:\u001b[36m230\u001b[0m - \u001b[34m\u001b[1mWrites buffered Command character b'0' to the device GX-241 II.\u001b[0m\n",
      "\u001b[32m2025-02-14 13:15:41.362\u001b[0m | \u001b[34m\u001b[1mDEBUG   \u001b[0m | \u001b[36mgilson\u001b[0m:\u001b[36mbCommand\u001b[0m:\u001b[36m232\u001b[0m - \u001b[34m\u001b[1mStarts reading character from the device GX-241 II.\u001b[0m\n",
      "\u001b[32m2025-02-14 13:15:41.469\u001b[0m | \u001b[34m\u001b[1mDEBUG   \u001b[0m | \u001b[36mgilson\u001b[0m:\u001b[36mbCommand\u001b[0m:\u001b[36m234\u001b[0m - \u001b[34m\u001b[1mgot back b'0' from the device GX-241 II.\u001b[0m\n",
      "\u001b[32m2025-02-14 13:15:41.470\u001b[0m | \u001b[34m\u001b[1mDEBUG   \u001b[0m | \u001b[36mgilson\u001b[0m:\u001b[36mbCommand\u001b[0m:\u001b[36m238\u001b[0m - \u001b[34m\u001b[1mresp_raw: b'0'\u001b[0m\n",
      "\u001b[32m2025-02-14 13:15:41.470\u001b[0m | \u001b[34m\u001b[1mDEBUG   \u001b[0m | \u001b[36mgilson\u001b[0m:\u001b[36mbCommand\u001b[0m:\u001b[36m256\u001b[0m - \u001b[34m\u001b[1mresp_raw 2: 48\u001b[0m\n",
      "\u001b[32m2025-02-14 13:15:41.471\u001b[0m | \u001b[34m\u001b[1mDEBUG   \u001b[0m | \u001b[36mgilson\u001b[0m:\u001b[36mbCommand\u001b[0m:\u001b[36m230\u001b[0m - \u001b[34m\u001b[1mWrites buffered Command character b'\\r' to the device GX-241 II.\u001b[0m\n",
      "\u001b[32m2025-02-14 13:15:41.472\u001b[0m | \u001b[34m\u001b[1mDEBUG   \u001b[0m | \u001b[36mgilson\u001b[0m:\u001b[36mbCommand\u001b[0m:\u001b[36m232\u001b[0m - \u001b[34m\u001b[1mStarts reading character from the device GX-241 II.\u001b[0m\n",
      "\u001b[32m2025-02-14 13:15:41.574\u001b[0m | \u001b[34m\u001b[1mDEBUG   \u001b[0m | \u001b[36mgilson\u001b[0m:\u001b[36mbCommand\u001b[0m:\u001b[36m234\u001b[0m - \u001b[34m\u001b[1mgot back b'\\r' from the device GX-241 II.\u001b[0m\n",
      "\u001b[32m2025-02-14 13:15:41.575\u001b[0m | \u001b[34m\u001b[1mDEBUG   \u001b[0m | \u001b[36mgilson\u001b[0m:\u001b[36mbCommand\u001b[0m:\u001b[36m238\u001b[0m - \u001b[34m\u001b[1mresp_raw: b'\\r'\u001b[0m\n",
      "\u001b[32m2025-02-14 13:15:41.577\u001b[0m | \u001b[34m\u001b[1mDEBUG   \u001b[0m | \u001b[36mgilson\u001b[0m:\u001b[36mbCommand\u001b[0m:\u001b[36m256\u001b[0m - \u001b[34m\u001b[1mresp_raw 2: 13\u001b[0m\n",
      "\u001b[32m2025-02-14 13:15:41.578\u001b[0m | \u001b[34m\u001b[1mDEBUG   \u001b[0m | \u001b[36mgilson\u001b[0m:\u001b[36mbCommand\u001b[0m:\u001b[36m271\u001b[0m - \u001b[34m\u001b[1mBuffered command complete.\u001b[0m\n",
      "\u001b[32m2025-02-14 13:15:41.579\u001b[0m | \u001b[34m\u001b[1mDEBUG   \u001b[0m | \u001b[36mgilson\u001b[0m:\u001b[36mbCommand\u001b[0m:\u001b[36m272\u001b[0m - \u001b[34m\u001b[1mReceived bytearray(b'\\nZ120\\r') from device.\u001b[0m\n",
      "\u001b[32m2025-02-14 13:15:41.581\u001b[0m | \u001b[1mINFO    \u001b[0m | \u001b[36mgilson\u001b[0m:\u001b[36mbCommand\u001b[0m:\u001b[36m273\u001b[0m - \u001b[1mGSIOC >>> bytearray(b'\\nZ120\\r')\u001b[0m\n",
      "\u001b[32m2025-02-14 13:15:41.581\u001b[0m | \u001b[34m\u001b[1mDEBUG   \u001b[0m | \u001b[36mgilson\u001b[0m:\u001b[36mbCommand\u001b[0m:\u001b[36m182\u001b[0m - \u001b[34m\u001b[1mSending buffered command \"W02\" to device.\u001b[0m\n",
      "\u001b[32m2025-02-14 13:15:41.582\u001b[0m | \u001b[1mINFO    \u001b[0m | \u001b[36mgilson\u001b[0m:\u001b[36mbCommand\u001b[0m:\u001b[36m186\u001b[0m - \u001b[1mGSIOC <<< W02\u001b[0m\n",
      "\u001b[32m2025-02-14 13:15:41.685\u001b[0m | \u001b[34m\u001b[1mDEBUG   \u001b[0m | \u001b[36mgilson\u001b[0m:\u001b[36mbCommand\u001b[0m:\u001b[36m205\u001b[0m - \u001b[34m\u001b[1mready signal: b'\\n'\u001b[0m\n",
      "\u001b[32m2025-02-14 13:15:41.686\u001b[0m | \u001b[34m\u001b[1mDEBUG   \u001b[0m | \u001b[36mgilson\u001b[0m:\u001b[36mbCommand\u001b[0m:\u001b[36m214\u001b[0m - \u001b[34m\u001b[1mStarting to send buffered command.\u001b[0m\n",
      "\u001b[32m2025-02-14 13:15:41.686\u001b[0m | \u001b[34m\u001b[1mDEBUG   \u001b[0m | \u001b[36mgilson\u001b[0m:\u001b[36mbCommand\u001b[0m:\u001b[36m225\u001b[0m - \u001b[34m\u001b[1m10\u001b[0m\n",
      "\u001b[32m2025-02-14 13:15:41.687\u001b[0m | \u001b[34m\u001b[1mDEBUG   \u001b[0m | \u001b[36mgilson\u001b[0m:\u001b[36mbCommand\u001b[0m:\u001b[36m230\u001b[0m - \u001b[34m\u001b[1mWrites buffered Command character b'W' to the device GX-241 II.\u001b[0m\n",
      "\u001b[32m2025-02-14 13:15:41.687\u001b[0m | \u001b[34m\u001b[1mDEBUG   \u001b[0m | \u001b[36mgilson\u001b[0m:\u001b[36mbCommand\u001b[0m:\u001b[36m232\u001b[0m - \u001b[34m\u001b[1mStarts reading character from the device GX-241 II.\u001b[0m\n"
     ]
    },
    {
     "name": "stdout",
     "output_type": "stream",
     "text": [
      "['X7.5/39.5']\n"
     ]
    },
    {
     "name": "stderr",
     "output_type": "stream",
     "text": [
      "\u001b[32m2025-02-14 13:15:41.803\u001b[0m | \u001b[34m\u001b[1mDEBUG   \u001b[0m | \u001b[36mgilson\u001b[0m:\u001b[36mbCommand\u001b[0m:\u001b[36m234\u001b[0m - \u001b[34m\u001b[1mgot back b'W' from the device GX-241 II.\u001b[0m\n",
      "\u001b[32m2025-02-14 13:15:41.804\u001b[0m | \u001b[34m\u001b[1mDEBUG   \u001b[0m | \u001b[36mgilson\u001b[0m:\u001b[36mbCommand\u001b[0m:\u001b[36m238\u001b[0m - \u001b[34m\u001b[1mresp_raw: b'W'\u001b[0m\n",
      "\u001b[32m2025-02-14 13:15:41.805\u001b[0m | \u001b[34m\u001b[1mDEBUG   \u001b[0m | \u001b[36mgilson\u001b[0m:\u001b[36mbCommand\u001b[0m:\u001b[36m256\u001b[0m - \u001b[34m\u001b[1mresp_raw 2: 87\u001b[0m\n",
      "\u001b[32m2025-02-14 13:15:41.806\u001b[0m | \u001b[34m\u001b[1mDEBUG   \u001b[0m | \u001b[36mgilson\u001b[0m:\u001b[36mbCommand\u001b[0m:\u001b[36m230\u001b[0m - \u001b[34m\u001b[1mWrites buffered Command character b'0' to the device GX-241 II.\u001b[0m\n",
      "\u001b[32m2025-02-14 13:15:41.808\u001b[0m | \u001b[34m\u001b[1mDEBUG   \u001b[0m | \u001b[36mgilson\u001b[0m:\u001b[36mbCommand\u001b[0m:\u001b[36m232\u001b[0m - \u001b[34m\u001b[1mStarts reading character from the device GX-241 II.\u001b[0m\n",
      "\u001b[32m2025-02-14 13:15:41.921\u001b[0m | \u001b[34m\u001b[1mDEBUG   \u001b[0m | \u001b[36mgilson\u001b[0m:\u001b[36mbCommand\u001b[0m:\u001b[36m234\u001b[0m - \u001b[34m\u001b[1mgot back b'0' from the device GX-241 II.\u001b[0m\n",
      "\u001b[32m2025-02-14 13:15:41.922\u001b[0m | \u001b[34m\u001b[1mDEBUG   \u001b[0m | \u001b[36mgilson\u001b[0m:\u001b[36mbCommand\u001b[0m:\u001b[36m238\u001b[0m - \u001b[34m\u001b[1mresp_raw: b'0'\u001b[0m\n",
      "\u001b[32m2025-02-14 13:15:41.922\u001b[0m | \u001b[34m\u001b[1mDEBUG   \u001b[0m | \u001b[36mgilson\u001b[0m:\u001b[36mbCommand\u001b[0m:\u001b[36m256\u001b[0m - \u001b[34m\u001b[1mresp_raw 2: 48\u001b[0m\n",
      "\u001b[32m2025-02-14 13:15:41.922\u001b[0m | \u001b[34m\u001b[1mDEBUG   \u001b[0m | \u001b[36mgilson\u001b[0m:\u001b[36mbCommand\u001b[0m:\u001b[36m230\u001b[0m - \u001b[34m\u001b[1mWrites buffered Command character b'2' to the device GX-241 II.\u001b[0m\n",
      "\u001b[32m2025-02-14 13:15:41.926\u001b[0m | \u001b[34m\u001b[1mDEBUG   \u001b[0m | \u001b[36mgilson\u001b[0m:\u001b[36mbCommand\u001b[0m:\u001b[36m232\u001b[0m - \u001b[34m\u001b[1mStarts reading character from the device GX-241 II.\u001b[0m\n",
      "\u001b[32m2025-02-14 13:15:42.036\u001b[0m | \u001b[34m\u001b[1mDEBUG   \u001b[0m | \u001b[36mgilson\u001b[0m:\u001b[36mbCommand\u001b[0m:\u001b[36m234\u001b[0m - \u001b[34m\u001b[1mgot back b'2' from the device GX-241 II.\u001b[0m\n",
      "\u001b[32m2025-02-14 13:15:42.037\u001b[0m | \u001b[34m\u001b[1mDEBUG   \u001b[0m | \u001b[36mgilson\u001b[0m:\u001b[36mbCommand\u001b[0m:\u001b[36m238\u001b[0m - \u001b[34m\u001b[1mresp_raw: b'2'\u001b[0m\n",
      "\u001b[32m2025-02-14 13:15:42.038\u001b[0m | \u001b[34m\u001b[1mDEBUG   \u001b[0m | \u001b[36mgilson\u001b[0m:\u001b[36mbCommand\u001b[0m:\u001b[36m256\u001b[0m - \u001b[34m\u001b[1mresp_raw 2: 50\u001b[0m\n",
      "\u001b[32m2025-02-14 13:15:42.039\u001b[0m | \u001b[34m\u001b[1mDEBUG   \u001b[0m | \u001b[36mgilson\u001b[0m:\u001b[36mbCommand\u001b[0m:\u001b[36m230\u001b[0m - \u001b[34m\u001b[1mWrites buffered Command character b'\\r' to the device GX-241 II.\u001b[0m\n",
      "\u001b[32m2025-02-14 13:15:42.042\u001b[0m | \u001b[34m\u001b[1mDEBUG   \u001b[0m | \u001b[36mgilson\u001b[0m:\u001b[36mbCommand\u001b[0m:\u001b[36m232\u001b[0m - \u001b[34m\u001b[1mStarts reading character from the device GX-241 II.\u001b[0m\n",
      "\u001b[32m2025-02-14 13:15:42.143\u001b[0m | \u001b[34m\u001b[1mDEBUG   \u001b[0m | \u001b[36mgilson\u001b[0m:\u001b[36mbCommand\u001b[0m:\u001b[36m234\u001b[0m - \u001b[34m\u001b[1mgot back b'\\r' from the device GX-241 II.\u001b[0m\n",
      "\u001b[32m2025-02-14 13:15:42.143\u001b[0m | \u001b[34m\u001b[1mDEBUG   \u001b[0m | \u001b[36mgilson\u001b[0m:\u001b[36mbCommand\u001b[0m:\u001b[36m238\u001b[0m - \u001b[34m\u001b[1mresp_raw: b'\\r'\u001b[0m\n",
      "\u001b[32m2025-02-14 13:15:42.143\u001b[0m | \u001b[34m\u001b[1mDEBUG   \u001b[0m | \u001b[36mgilson\u001b[0m:\u001b[36mbCommand\u001b[0m:\u001b[36m256\u001b[0m - \u001b[34m\u001b[1mresp_raw 2: 13\u001b[0m\n",
      "\u001b[32m2025-02-14 13:15:42.147\u001b[0m | \u001b[34m\u001b[1mDEBUG   \u001b[0m | \u001b[36mgilson\u001b[0m:\u001b[36mbCommand\u001b[0m:\u001b[36m271\u001b[0m - \u001b[34m\u001b[1mBuffered command complete.\u001b[0m\n",
      "\u001b[32m2025-02-14 13:15:42.148\u001b[0m | \u001b[34m\u001b[1mDEBUG   \u001b[0m | \u001b[36mgilson\u001b[0m:\u001b[36mbCommand\u001b[0m:\u001b[36m272\u001b[0m - \u001b[34m\u001b[1mReceived bytearray(b'\\nW02\\r') from device.\u001b[0m\n",
      "\u001b[32m2025-02-14 13:15:42.150\u001b[0m | \u001b[1mINFO    \u001b[0m | \u001b[36mgilson\u001b[0m:\u001b[36mbCommand\u001b[0m:\u001b[36m273\u001b[0m - \u001b[1mGSIOC >>> bytearray(b'\\nW02\\r')\u001b[0m\n",
      "\u001b[32m2025-02-14 13:15:42.152\u001b[0m | \u001b[34m\u001b[1mDEBUG   \u001b[0m | \u001b[36mgilson\u001b[0m:\u001b[36mbCommand\u001b[0m:\u001b[36m182\u001b[0m - \u001b[34m\u001b[1mSending buffered command \"X26.0/39.5\" to device.\u001b[0m\n",
      "\u001b[32m2025-02-14 13:15:42.153\u001b[0m | \u001b[1mINFO    \u001b[0m | \u001b[36mgilson\u001b[0m:\u001b[36mbCommand\u001b[0m:\u001b[36m186\u001b[0m - \u001b[1mGSIOC <<< X26.0/39.5\u001b[0m\n",
      "\u001b[32m2025-02-14 13:15:42.270\u001b[0m | \u001b[34m\u001b[1mDEBUG   \u001b[0m | \u001b[36mgilson\u001b[0m:\u001b[36mbCommand\u001b[0m:\u001b[36m205\u001b[0m - \u001b[34m\u001b[1mready signal: b'\\n'\u001b[0m\n",
      "\u001b[32m2025-02-14 13:15:42.272\u001b[0m | \u001b[34m\u001b[1mDEBUG   \u001b[0m | \u001b[36mgilson\u001b[0m:\u001b[36mbCommand\u001b[0m:\u001b[36m214\u001b[0m - \u001b[34m\u001b[1mStarting to send buffered command.\u001b[0m\n",
      "\u001b[32m2025-02-14 13:15:42.274\u001b[0m | \u001b[34m\u001b[1mDEBUG   \u001b[0m | \u001b[36mgilson\u001b[0m:\u001b[36mbCommand\u001b[0m:\u001b[36m225\u001b[0m - \u001b[34m\u001b[1m10\u001b[0m\n",
      "\u001b[32m2025-02-14 13:15:42.276\u001b[0m | \u001b[34m\u001b[1mDEBUG   \u001b[0m | \u001b[36mgilson\u001b[0m:\u001b[36mbCommand\u001b[0m:\u001b[36m230\u001b[0m - \u001b[34m\u001b[1mWrites buffered Command character b'X' to the device GX-241 II.\u001b[0m\n",
      "\u001b[32m2025-02-14 13:15:42.278\u001b[0m | \u001b[34m\u001b[1mDEBUG   \u001b[0m | \u001b[36mgilson\u001b[0m:\u001b[36mbCommand\u001b[0m:\u001b[36m232\u001b[0m - \u001b[34m\u001b[1mStarts reading character from the device GX-241 II.\u001b[0m\n",
      "\u001b[32m2025-02-14 13:15:42.389\u001b[0m | \u001b[34m\u001b[1mDEBUG   \u001b[0m | \u001b[36mgilson\u001b[0m:\u001b[36mbCommand\u001b[0m:\u001b[36m234\u001b[0m - \u001b[34m\u001b[1mgot back b'X' from the device GX-241 II.\u001b[0m\n",
      "\u001b[32m2025-02-14 13:15:42.389\u001b[0m | \u001b[34m\u001b[1mDEBUG   \u001b[0m | \u001b[36mgilson\u001b[0m:\u001b[36mbCommand\u001b[0m:\u001b[36m238\u001b[0m - \u001b[34m\u001b[1mresp_raw: b'X'\u001b[0m\n",
      "\u001b[32m2025-02-14 13:15:42.391\u001b[0m | \u001b[34m\u001b[1mDEBUG   \u001b[0m | \u001b[36mgilson\u001b[0m:\u001b[36mbCommand\u001b[0m:\u001b[36m256\u001b[0m - \u001b[34m\u001b[1mresp_raw 2: 88\u001b[0m\n",
      "\u001b[32m2025-02-14 13:15:42.392\u001b[0m | \u001b[34m\u001b[1mDEBUG   \u001b[0m | \u001b[36mgilson\u001b[0m:\u001b[36mbCommand\u001b[0m:\u001b[36m230\u001b[0m - \u001b[34m\u001b[1mWrites buffered Command character b'2' to the device GX-241 II.\u001b[0m\n",
      "\u001b[32m2025-02-14 13:15:42.393\u001b[0m | \u001b[34m\u001b[1mDEBUG   \u001b[0m | \u001b[36mgilson\u001b[0m:\u001b[36mbCommand\u001b[0m:\u001b[36m232\u001b[0m - \u001b[34m\u001b[1mStarts reading character from the device GX-241 II.\u001b[0m\n",
      "\u001b[32m2025-02-14 13:15:42.501\u001b[0m | \u001b[34m\u001b[1mDEBUG   \u001b[0m | \u001b[36mgilson\u001b[0m:\u001b[36mbCommand\u001b[0m:\u001b[36m234\u001b[0m - \u001b[34m\u001b[1mgot back b'2' from the device GX-241 II.\u001b[0m\n",
      "\u001b[32m2025-02-14 13:15:42.502\u001b[0m | \u001b[34m\u001b[1mDEBUG   \u001b[0m | \u001b[36mgilson\u001b[0m:\u001b[36mbCommand\u001b[0m:\u001b[36m238\u001b[0m - \u001b[34m\u001b[1mresp_raw: b'2'\u001b[0m\n",
      "\u001b[32m2025-02-14 13:15:42.503\u001b[0m | \u001b[34m\u001b[1mDEBUG   \u001b[0m | \u001b[36mgilson\u001b[0m:\u001b[36mbCommand\u001b[0m:\u001b[36m256\u001b[0m - \u001b[34m\u001b[1mresp_raw 2: 50\u001b[0m\n",
      "\u001b[32m2025-02-14 13:15:42.503\u001b[0m | \u001b[34m\u001b[1mDEBUG   \u001b[0m | \u001b[36mgilson\u001b[0m:\u001b[36mbCommand\u001b[0m:\u001b[36m230\u001b[0m - \u001b[34m\u001b[1mWrites buffered Command character b'6' to the device GX-241 II.\u001b[0m\n",
      "\u001b[32m2025-02-14 13:15:42.504\u001b[0m | \u001b[34m\u001b[1mDEBUG   \u001b[0m | \u001b[36mgilson\u001b[0m:\u001b[36mbCommand\u001b[0m:\u001b[36m232\u001b[0m - \u001b[34m\u001b[1mStarts reading character from the device GX-241 II.\u001b[0m\n",
      "\u001b[32m2025-02-14 13:15:42.614\u001b[0m | \u001b[34m\u001b[1mDEBUG   \u001b[0m | \u001b[36mgilson\u001b[0m:\u001b[36mbCommand\u001b[0m:\u001b[36m234\u001b[0m - \u001b[34m\u001b[1mgot back b'6' from the device GX-241 II.\u001b[0m\n",
      "\u001b[32m2025-02-14 13:15:42.614\u001b[0m | \u001b[34m\u001b[1mDEBUG   \u001b[0m | \u001b[36mgilson\u001b[0m:\u001b[36mbCommand\u001b[0m:\u001b[36m238\u001b[0m - \u001b[34m\u001b[1mresp_raw: b'6'\u001b[0m\n",
      "\u001b[32m2025-02-14 13:15:42.615\u001b[0m | \u001b[34m\u001b[1mDEBUG   \u001b[0m | \u001b[36mgilson\u001b[0m:\u001b[36mbCommand\u001b[0m:\u001b[36m256\u001b[0m - \u001b[34m\u001b[1mresp_raw 2: 54\u001b[0m\n",
      "\u001b[32m2025-02-14 13:15:42.616\u001b[0m | \u001b[34m\u001b[1mDEBUG   \u001b[0m | \u001b[36mgilson\u001b[0m:\u001b[36mbCommand\u001b[0m:\u001b[36m230\u001b[0m - \u001b[34m\u001b[1mWrites buffered Command character b'.' to the device GX-241 II.\u001b[0m\n",
      "\u001b[32m2025-02-14 13:15:42.618\u001b[0m | \u001b[34m\u001b[1mDEBUG   \u001b[0m | \u001b[36mgilson\u001b[0m:\u001b[36mbCommand\u001b[0m:\u001b[36m232\u001b[0m - \u001b[34m\u001b[1mStarts reading character from the device GX-241 II.\u001b[0m\n",
      "\u001b[32m2025-02-14 13:15:42.720\u001b[0m | \u001b[34m\u001b[1mDEBUG   \u001b[0m | \u001b[36mgilson\u001b[0m:\u001b[36mbCommand\u001b[0m:\u001b[36m234\u001b[0m - \u001b[34m\u001b[1mgot back b'.' from the device GX-241 II.\u001b[0m\n",
      "\u001b[32m2025-02-14 13:15:42.721\u001b[0m | \u001b[34m\u001b[1mDEBUG   \u001b[0m | \u001b[36mgilson\u001b[0m:\u001b[36mbCommand\u001b[0m:\u001b[36m238\u001b[0m - \u001b[34m\u001b[1mresp_raw: b'.'\u001b[0m\n",
      "\u001b[32m2025-02-14 13:15:42.722\u001b[0m | \u001b[34m\u001b[1mDEBUG   \u001b[0m | \u001b[36mgilson\u001b[0m:\u001b[36mbCommand\u001b[0m:\u001b[36m256\u001b[0m - \u001b[34m\u001b[1mresp_raw 2: 46\u001b[0m\n",
      "\u001b[32m2025-02-14 13:15:42.723\u001b[0m | \u001b[34m\u001b[1mDEBUG   \u001b[0m | \u001b[36mgilson\u001b[0m:\u001b[36mbCommand\u001b[0m:\u001b[36m230\u001b[0m - \u001b[34m\u001b[1mWrites buffered Command character b'0' to the device GX-241 II.\u001b[0m\n",
      "\u001b[32m2025-02-14 13:15:42.725\u001b[0m | \u001b[34m\u001b[1mDEBUG   \u001b[0m | \u001b[36mgilson\u001b[0m:\u001b[36mbCommand\u001b[0m:\u001b[36m232\u001b[0m - \u001b[34m\u001b[1mStarts reading character from the device GX-241 II.\u001b[0m\n",
      "\u001b[32m2025-02-14 13:15:42.836\u001b[0m | \u001b[34m\u001b[1mDEBUG   \u001b[0m | \u001b[36mgilson\u001b[0m:\u001b[36mbCommand\u001b[0m:\u001b[36m234\u001b[0m - \u001b[34m\u001b[1mgot back b'0' from the device GX-241 II.\u001b[0m\n",
      "\u001b[32m2025-02-14 13:15:42.836\u001b[0m | \u001b[34m\u001b[1mDEBUG   \u001b[0m | \u001b[36mgilson\u001b[0m:\u001b[36mbCommand\u001b[0m:\u001b[36m238\u001b[0m - \u001b[34m\u001b[1mresp_raw: b'0'\u001b[0m\n",
      "\u001b[32m2025-02-14 13:15:42.836\u001b[0m | \u001b[34m\u001b[1mDEBUG   \u001b[0m | \u001b[36mgilson\u001b[0m:\u001b[36mbCommand\u001b[0m:\u001b[36m256\u001b[0m - \u001b[34m\u001b[1mresp_raw 2: 48\u001b[0m\n",
      "\u001b[32m2025-02-14 13:15:42.836\u001b[0m | \u001b[34m\u001b[1mDEBUG   \u001b[0m | \u001b[36mgilson\u001b[0m:\u001b[36mbCommand\u001b[0m:\u001b[36m230\u001b[0m - \u001b[34m\u001b[1mWrites buffered Command character b'/' to the device GX-241 II.\u001b[0m\n",
      "\u001b[32m2025-02-14 13:15:42.840\u001b[0m | \u001b[34m\u001b[1mDEBUG   \u001b[0m | \u001b[36mgilson\u001b[0m:\u001b[36mbCommand\u001b[0m:\u001b[36m232\u001b[0m - \u001b[34m\u001b[1mStarts reading character from the device GX-241 II.\u001b[0m\n",
      "\u001b[32m2025-02-14 13:15:42.953\u001b[0m | \u001b[34m\u001b[1mDEBUG   \u001b[0m | \u001b[36mgilson\u001b[0m:\u001b[36mbCommand\u001b[0m:\u001b[36m234\u001b[0m - \u001b[34m\u001b[1mgot back b'/' from the device GX-241 II.\u001b[0m\n",
      "\u001b[32m2025-02-14 13:15:42.953\u001b[0m | \u001b[34m\u001b[1mDEBUG   \u001b[0m | \u001b[36mgilson\u001b[0m:\u001b[36mbCommand\u001b[0m:\u001b[36m238\u001b[0m - \u001b[34m\u001b[1mresp_raw: b'/'\u001b[0m\n",
      "\u001b[32m2025-02-14 13:15:42.953\u001b[0m | \u001b[34m\u001b[1mDEBUG   \u001b[0m | \u001b[36mgilson\u001b[0m:\u001b[36mbCommand\u001b[0m:\u001b[36m256\u001b[0m - \u001b[34m\u001b[1mresp_raw 2: 47\u001b[0m\n",
      "\u001b[32m2025-02-14 13:15:42.953\u001b[0m | \u001b[34m\u001b[1mDEBUG   \u001b[0m | \u001b[36mgilson\u001b[0m:\u001b[36mbCommand\u001b[0m:\u001b[36m230\u001b[0m - \u001b[34m\u001b[1mWrites buffered Command character b'3' to the device GX-241 II.\u001b[0m\n",
      "\u001b[32m2025-02-14 13:15:42.955\u001b[0m | \u001b[34m\u001b[1mDEBUG   \u001b[0m | \u001b[36mgilson\u001b[0m:\u001b[36mbCommand\u001b[0m:\u001b[36m232\u001b[0m - \u001b[34m\u001b[1mStarts reading character from the device GX-241 II.\u001b[0m\n",
      "\u001b[32m2025-02-14 13:15:43.070\u001b[0m | \u001b[34m\u001b[1mDEBUG   \u001b[0m | \u001b[36mgilson\u001b[0m:\u001b[36mbCommand\u001b[0m:\u001b[36m234\u001b[0m - \u001b[34m\u001b[1mgot back b'3' from the device GX-241 II.\u001b[0m\n",
      "\u001b[32m2025-02-14 13:15:43.070\u001b[0m | \u001b[34m\u001b[1mDEBUG   \u001b[0m | \u001b[36mgilson\u001b[0m:\u001b[36mbCommand\u001b[0m:\u001b[36m238\u001b[0m - \u001b[34m\u001b[1mresp_raw: b'3'\u001b[0m\n",
      "\u001b[32m2025-02-14 13:15:43.070\u001b[0m | \u001b[34m\u001b[1mDEBUG   \u001b[0m | \u001b[36mgilson\u001b[0m:\u001b[36mbCommand\u001b[0m:\u001b[36m256\u001b[0m - \u001b[34m\u001b[1mresp_raw 2: 51\u001b[0m\n",
      "\u001b[32m2025-02-14 13:15:43.070\u001b[0m | \u001b[34m\u001b[1mDEBUG   \u001b[0m | \u001b[36mgilson\u001b[0m:\u001b[36mbCommand\u001b[0m:\u001b[36m230\u001b[0m - \u001b[34m\u001b[1mWrites buffered Command character b'9' to the device GX-241 II.\u001b[0m\n",
      "\u001b[32m2025-02-14 13:15:43.070\u001b[0m | \u001b[34m\u001b[1mDEBUG   \u001b[0m | \u001b[36mgilson\u001b[0m:\u001b[36mbCommand\u001b[0m:\u001b[36m232\u001b[0m - \u001b[34m\u001b[1mStarts reading character from the device GX-241 II.\u001b[0m\n",
      "\u001b[32m2025-02-14 13:15:43.186\u001b[0m | \u001b[34m\u001b[1mDEBUG   \u001b[0m | \u001b[36mgilson\u001b[0m:\u001b[36mbCommand\u001b[0m:\u001b[36m234\u001b[0m - \u001b[34m\u001b[1mgot back b'9' from the device GX-241 II.\u001b[0m\n",
      "\u001b[32m2025-02-14 13:15:43.186\u001b[0m | \u001b[34m\u001b[1mDEBUG   \u001b[0m | \u001b[36mgilson\u001b[0m:\u001b[36mbCommand\u001b[0m:\u001b[36m238\u001b[0m - \u001b[34m\u001b[1mresp_raw: b'9'\u001b[0m\n",
      "\u001b[32m2025-02-14 13:15:43.186\u001b[0m | \u001b[34m\u001b[1mDEBUG   \u001b[0m | \u001b[36mgilson\u001b[0m:\u001b[36mbCommand\u001b[0m:\u001b[36m256\u001b[0m - \u001b[34m\u001b[1mresp_raw 2: 57\u001b[0m\n",
      "\u001b[32m2025-02-14 13:15:43.188\u001b[0m | \u001b[34m\u001b[1mDEBUG   \u001b[0m | \u001b[36mgilson\u001b[0m:\u001b[36mbCommand\u001b[0m:\u001b[36m230\u001b[0m - \u001b[34m\u001b[1mWrites buffered Command character b'.' to the device GX-241 II.\u001b[0m\n",
      "\u001b[32m2025-02-14 13:15:43.189\u001b[0m | \u001b[34m\u001b[1mDEBUG   \u001b[0m | \u001b[36mgilson\u001b[0m:\u001b[36mbCommand\u001b[0m:\u001b[36m232\u001b[0m - \u001b[34m\u001b[1mStarts reading character from the device GX-241 II.\u001b[0m\n",
      "\u001b[32m2025-02-14 13:15:43.303\u001b[0m | \u001b[34m\u001b[1mDEBUG   \u001b[0m | \u001b[36mgilson\u001b[0m:\u001b[36mbCommand\u001b[0m:\u001b[36m234\u001b[0m - \u001b[34m\u001b[1mgot back b'.' from the device GX-241 II.\u001b[0m\n",
      "\u001b[32m2025-02-14 13:15:43.303\u001b[0m | \u001b[34m\u001b[1mDEBUG   \u001b[0m | \u001b[36mgilson\u001b[0m:\u001b[36mbCommand\u001b[0m:\u001b[36m238\u001b[0m - \u001b[34m\u001b[1mresp_raw: b'.'\u001b[0m\n",
      "\u001b[32m2025-02-14 13:15:43.303\u001b[0m | \u001b[34m\u001b[1mDEBUG   \u001b[0m | \u001b[36mgilson\u001b[0m:\u001b[36mbCommand\u001b[0m:\u001b[36m256\u001b[0m - \u001b[34m\u001b[1mresp_raw 2: 46\u001b[0m\n",
      "\u001b[32m2025-02-14 13:15:43.303\u001b[0m | \u001b[34m\u001b[1mDEBUG   \u001b[0m | \u001b[36mgilson\u001b[0m:\u001b[36mbCommand\u001b[0m:\u001b[36m230\u001b[0m - \u001b[34m\u001b[1mWrites buffered Command character b'5' to the device GX-241 II.\u001b[0m\n",
      "\u001b[32m2025-02-14 13:15:43.305\u001b[0m | \u001b[34m\u001b[1mDEBUG   \u001b[0m | \u001b[36mgilson\u001b[0m:\u001b[36mbCommand\u001b[0m:\u001b[36m232\u001b[0m - \u001b[34m\u001b[1mStarts reading character from the device GX-241 II.\u001b[0m\n",
      "\u001b[32m2025-02-14 13:15:43.420\u001b[0m | \u001b[34m\u001b[1mDEBUG   \u001b[0m | \u001b[36mgilson\u001b[0m:\u001b[36mbCommand\u001b[0m:\u001b[36m234\u001b[0m - \u001b[34m\u001b[1mgot back b'5' from the device GX-241 II.\u001b[0m\n",
      "\u001b[32m2025-02-14 13:15:43.421\u001b[0m | \u001b[34m\u001b[1mDEBUG   \u001b[0m | \u001b[36mgilson\u001b[0m:\u001b[36mbCommand\u001b[0m:\u001b[36m238\u001b[0m - \u001b[34m\u001b[1mresp_raw: b'5'\u001b[0m\n",
      "\u001b[32m2025-02-14 13:15:43.421\u001b[0m | \u001b[34m\u001b[1mDEBUG   \u001b[0m | \u001b[36mgilson\u001b[0m:\u001b[36mbCommand\u001b[0m:\u001b[36m256\u001b[0m - \u001b[34m\u001b[1mresp_raw 2: 53\u001b[0m\n",
      "\u001b[32m2025-02-14 13:15:43.421\u001b[0m | \u001b[34m\u001b[1mDEBUG   \u001b[0m | \u001b[36mgilson\u001b[0m:\u001b[36mbCommand\u001b[0m:\u001b[36m230\u001b[0m - \u001b[34m\u001b[1mWrites buffered Command character b'\\r' to the device GX-241 II.\u001b[0m\n",
      "\u001b[32m2025-02-14 13:15:43.421\u001b[0m | \u001b[34m\u001b[1mDEBUG   \u001b[0m | \u001b[36mgilson\u001b[0m:\u001b[36mbCommand\u001b[0m:\u001b[36m232\u001b[0m - \u001b[34m\u001b[1mStarts reading character from the device GX-241 II.\u001b[0m\n",
      "\u001b[32m2025-02-14 13:15:43.537\u001b[0m | \u001b[34m\u001b[1mDEBUG   \u001b[0m | \u001b[36mgilson\u001b[0m:\u001b[36mbCommand\u001b[0m:\u001b[36m234\u001b[0m - \u001b[34m\u001b[1mgot back b'\\r' from the device GX-241 II.\u001b[0m\n",
      "\u001b[32m2025-02-14 13:15:43.537\u001b[0m | \u001b[34m\u001b[1mDEBUG   \u001b[0m | \u001b[36mgilson\u001b[0m:\u001b[36mbCommand\u001b[0m:\u001b[36m238\u001b[0m - \u001b[34m\u001b[1mresp_raw: b'\\r'\u001b[0m\n",
      "\u001b[32m2025-02-14 13:15:43.537\u001b[0m | \u001b[34m\u001b[1mDEBUG   \u001b[0m | \u001b[36mgilson\u001b[0m:\u001b[36mbCommand\u001b[0m:\u001b[36m256\u001b[0m - \u001b[34m\u001b[1mresp_raw 2: 13\u001b[0m\n",
      "\u001b[32m2025-02-14 13:15:43.537\u001b[0m | \u001b[34m\u001b[1mDEBUG   \u001b[0m | \u001b[36mgilson\u001b[0m:\u001b[36mbCommand\u001b[0m:\u001b[36m271\u001b[0m - \u001b[34m\u001b[1mBuffered command complete.\u001b[0m\n",
      "\u001b[32m2025-02-14 13:15:43.537\u001b[0m | \u001b[34m\u001b[1mDEBUG   \u001b[0m | \u001b[36mgilson\u001b[0m:\u001b[36mbCommand\u001b[0m:\u001b[36m272\u001b[0m - \u001b[34m\u001b[1mReceived bytearray(b'\\nX26.0/39.5\\r') from device.\u001b[0m\n",
      "\u001b[32m2025-02-14 13:15:43.537\u001b[0m | \u001b[1mINFO    \u001b[0m | \u001b[36mgilson\u001b[0m:\u001b[36mbCommand\u001b[0m:\u001b[36m273\u001b[0m - \u001b[1mGSIOC >>> bytearray(b'\\nX26.0/39.5\\r')\u001b[0m\n",
      "\u001b[32m2025-02-14 13:15:43.542\u001b[0m | \u001b[34m\u001b[1mDEBUG   \u001b[0m | \u001b[36mgilson\u001b[0m:\u001b[36mbCommand\u001b[0m:\u001b[36m182\u001b[0m - \u001b[34m\u001b[1mSending buffered command \"Z85\" to device.\u001b[0m\n",
      "\u001b[32m2025-02-14 13:15:43.543\u001b[0m | \u001b[1mINFO    \u001b[0m | \u001b[36mgilson\u001b[0m:\u001b[36mbCommand\u001b[0m:\u001b[36m186\u001b[0m - \u001b[1mGSIOC <<< Z85\u001b[0m\n",
      "\u001b[32m2025-02-14 13:15:43.653\u001b[0m | \u001b[34m\u001b[1mDEBUG   \u001b[0m | \u001b[36mgilson\u001b[0m:\u001b[36mbCommand\u001b[0m:\u001b[36m205\u001b[0m - \u001b[34m\u001b[1mready signal: b'\\n'\u001b[0m\n",
      "\u001b[32m2025-02-14 13:15:43.654\u001b[0m | \u001b[34m\u001b[1mDEBUG   \u001b[0m | \u001b[36mgilson\u001b[0m:\u001b[36mbCommand\u001b[0m:\u001b[36m214\u001b[0m - \u001b[34m\u001b[1mStarting to send buffered command.\u001b[0m\n",
      "\u001b[32m2025-02-14 13:15:43.654\u001b[0m | \u001b[34m\u001b[1mDEBUG   \u001b[0m | \u001b[36mgilson\u001b[0m:\u001b[36mbCommand\u001b[0m:\u001b[36m225\u001b[0m - \u001b[34m\u001b[1m10\u001b[0m\n",
      "\u001b[32m2025-02-14 13:15:43.655\u001b[0m | \u001b[34m\u001b[1mDEBUG   \u001b[0m | \u001b[36mgilson\u001b[0m:\u001b[36mbCommand\u001b[0m:\u001b[36m230\u001b[0m - \u001b[34m\u001b[1mWrites buffered Command character b'Z' to the device GX-241 II.\u001b[0m\n",
      "\u001b[32m2025-02-14 13:15:43.656\u001b[0m | \u001b[34m\u001b[1mDEBUG   \u001b[0m | \u001b[36mgilson\u001b[0m:\u001b[36mbCommand\u001b[0m:\u001b[36m232\u001b[0m - \u001b[34m\u001b[1mStarts reading character from the device GX-241 II.\u001b[0m\n",
      "\u001b[32m2025-02-14 13:15:43.770\u001b[0m | \u001b[34m\u001b[1mDEBUG   \u001b[0m | \u001b[36mgilson\u001b[0m:\u001b[36mbCommand\u001b[0m:\u001b[36m234\u001b[0m - \u001b[34m\u001b[1mgot back b'Z' from the device GX-241 II.\u001b[0m\n",
      "\u001b[32m2025-02-14 13:15:43.772\u001b[0m | \u001b[34m\u001b[1mDEBUG   \u001b[0m | \u001b[36mgilson\u001b[0m:\u001b[36mbCommand\u001b[0m:\u001b[36m238\u001b[0m - \u001b[34m\u001b[1mresp_raw: b'Z'\u001b[0m\n",
      "\u001b[32m2025-02-14 13:15:43.772\u001b[0m | \u001b[34m\u001b[1mDEBUG   \u001b[0m | \u001b[36mgilson\u001b[0m:\u001b[36mbCommand\u001b[0m:\u001b[36m256\u001b[0m - \u001b[34m\u001b[1mresp_raw 2: 90\u001b[0m\n",
      "\u001b[32m2025-02-14 13:15:43.772\u001b[0m | \u001b[34m\u001b[1mDEBUG   \u001b[0m | \u001b[36mgilson\u001b[0m:\u001b[36mbCommand\u001b[0m:\u001b[36m230\u001b[0m - \u001b[34m\u001b[1mWrites buffered Command character b'8' to the device GX-241 II.\u001b[0m\n",
      "\u001b[32m2025-02-14 13:15:43.779\u001b[0m | \u001b[34m\u001b[1mDEBUG   \u001b[0m | \u001b[36mgilson\u001b[0m:\u001b[36mbCommand\u001b[0m:\u001b[36m232\u001b[0m - \u001b[34m\u001b[1mStarts reading character from the device GX-241 II.\u001b[0m\n",
      "\u001b[32m2025-02-14 13:15:43.887\u001b[0m | \u001b[34m\u001b[1mDEBUG   \u001b[0m | \u001b[36mgilson\u001b[0m:\u001b[36mbCommand\u001b[0m:\u001b[36m234\u001b[0m - \u001b[34m\u001b[1mgot back b'8' from the device GX-241 II.\u001b[0m\n",
      "\u001b[32m2025-02-14 13:15:43.888\u001b[0m | \u001b[34m\u001b[1mDEBUG   \u001b[0m | \u001b[36mgilson\u001b[0m:\u001b[36mbCommand\u001b[0m:\u001b[36m238\u001b[0m - \u001b[34m\u001b[1mresp_raw: b'8'\u001b[0m\n",
      "\u001b[32m2025-02-14 13:15:43.888\u001b[0m | \u001b[34m\u001b[1mDEBUG   \u001b[0m | \u001b[36mgilson\u001b[0m:\u001b[36mbCommand\u001b[0m:\u001b[36m256\u001b[0m - \u001b[34m\u001b[1mresp_raw 2: 56\u001b[0m\n",
      "\u001b[32m2025-02-14 13:15:43.889\u001b[0m | \u001b[34m\u001b[1mDEBUG   \u001b[0m | \u001b[36mgilson\u001b[0m:\u001b[36mbCommand\u001b[0m:\u001b[36m230\u001b[0m - \u001b[34m\u001b[1mWrites buffered Command character b'5' to the device GX-241 II.\u001b[0m\n",
      "\u001b[32m2025-02-14 13:15:43.890\u001b[0m | \u001b[34m\u001b[1mDEBUG   \u001b[0m | \u001b[36mgilson\u001b[0m:\u001b[36mbCommand\u001b[0m:\u001b[36m232\u001b[0m - \u001b[34m\u001b[1mStarts reading character from the device GX-241 II.\u001b[0m\n",
      "\u001b[32m2025-02-14 13:15:44.004\u001b[0m | \u001b[34m\u001b[1mDEBUG   \u001b[0m | \u001b[36mgilson\u001b[0m:\u001b[36mbCommand\u001b[0m:\u001b[36m234\u001b[0m - \u001b[34m\u001b[1mgot back b'5' from the device GX-241 II.\u001b[0m\n",
      "\u001b[32m2025-02-14 13:15:44.004\u001b[0m | \u001b[34m\u001b[1mDEBUG   \u001b[0m | \u001b[36mgilson\u001b[0m:\u001b[36mbCommand\u001b[0m:\u001b[36m238\u001b[0m - \u001b[34m\u001b[1mresp_raw: b'5'\u001b[0m\n",
      "\u001b[32m2025-02-14 13:15:44.004\u001b[0m | \u001b[34m\u001b[1mDEBUG   \u001b[0m | \u001b[36mgilson\u001b[0m:\u001b[36mbCommand\u001b[0m:\u001b[36m256\u001b[0m - \u001b[34m\u001b[1mresp_raw 2: 53\u001b[0m\n",
      "\u001b[32m2025-02-14 13:15:44.011\u001b[0m | \u001b[34m\u001b[1mDEBUG   \u001b[0m | \u001b[36mgilson\u001b[0m:\u001b[36mbCommand\u001b[0m:\u001b[36m230\u001b[0m - \u001b[34m\u001b[1mWrites buffered Command character b'\\r' to the device GX-241 II.\u001b[0m\n",
      "\u001b[32m2025-02-14 13:15:44.013\u001b[0m | \u001b[34m\u001b[1mDEBUG   \u001b[0m | \u001b[36mgilson\u001b[0m:\u001b[36mbCommand\u001b[0m:\u001b[36m232\u001b[0m - \u001b[34m\u001b[1mStarts reading character from the device GX-241 II.\u001b[0m\n",
      "\u001b[32m2025-02-14 13:15:44.115\u001b[0m | \u001b[34m\u001b[1mDEBUG   \u001b[0m | \u001b[36mgilson\u001b[0m:\u001b[36mbCommand\u001b[0m:\u001b[36m234\u001b[0m - \u001b[34m\u001b[1mgot back b'\\r' from the device GX-241 II.\u001b[0m\n",
      "\u001b[32m2025-02-14 13:15:44.116\u001b[0m | \u001b[34m\u001b[1mDEBUG   \u001b[0m | \u001b[36mgilson\u001b[0m:\u001b[36mbCommand\u001b[0m:\u001b[36m238\u001b[0m - \u001b[34m\u001b[1mresp_raw: b'\\r'\u001b[0m\n",
      "\u001b[32m2025-02-14 13:15:44.116\u001b[0m | \u001b[34m\u001b[1mDEBUG   \u001b[0m | \u001b[36mgilson\u001b[0m:\u001b[36mbCommand\u001b[0m:\u001b[36m256\u001b[0m - \u001b[34m\u001b[1mresp_raw 2: 13\u001b[0m\n",
      "\u001b[32m2025-02-14 13:15:44.117\u001b[0m | \u001b[34m\u001b[1mDEBUG   \u001b[0m | \u001b[36mgilson\u001b[0m:\u001b[36mbCommand\u001b[0m:\u001b[36m271\u001b[0m - \u001b[34m\u001b[1mBuffered command complete.\u001b[0m\n",
      "\u001b[32m2025-02-14 13:15:44.117\u001b[0m | \u001b[34m\u001b[1mDEBUG   \u001b[0m | \u001b[36mgilson\u001b[0m:\u001b[36mbCommand\u001b[0m:\u001b[36m272\u001b[0m - \u001b[34m\u001b[1mReceived bytearray(b'\\nZ85\\r') from device.\u001b[0m\n",
      "\u001b[32m2025-02-14 13:15:44.119\u001b[0m | \u001b[1mINFO    \u001b[0m | \u001b[36mgilson\u001b[0m:\u001b[36mbCommand\u001b[0m:\u001b[36m273\u001b[0m - \u001b[1mGSIOC >>> bytearray(b'\\nZ85\\r')\u001b[0m\n"
     ]
    },
    {
     "name": "stdout",
     "output_type": "stream",
     "text": [
      "T*\n",
      ":\n",
      "\n",
      ":\n",
      "\n",
      ":\n",
      "\n",
      ":\n"
     ]
    },
    {
     "name": "stderr",
     "output_type": "stream",
     "text": [
      "\u001b[32m2025-02-14 13:15:49.157\u001b[0m | \u001b[34m\u001b[1mDEBUG   \u001b[0m | \u001b[36mgilson\u001b[0m:\u001b[36mbCommand\u001b[0m:\u001b[36m182\u001b[0m - \u001b[34m\u001b[1mSending buffered command \"Z120\" to device.\u001b[0m\n",
      "\u001b[32m2025-02-14 13:15:49.157\u001b[0m | \u001b[1mINFO    \u001b[0m | \u001b[36mgilson\u001b[0m:\u001b[36mbCommand\u001b[0m:\u001b[36m186\u001b[0m - \u001b[1mGSIOC <<< Z120\u001b[0m\n",
      "\u001b[32m2025-02-14 13:15:49.275\u001b[0m | \u001b[34m\u001b[1mDEBUG   \u001b[0m | \u001b[36mgilson\u001b[0m:\u001b[36mbCommand\u001b[0m:\u001b[36m205\u001b[0m - \u001b[34m\u001b[1mready signal: b'\\n'\u001b[0m\n",
      "\u001b[32m2025-02-14 13:15:49.275\u001b[0m | \u001b[34m\u001b[1mDEBUG   \u001b[0m | \u001b[36mgilson\u001b[0m:\u001b[36mbCommand\u001b[0m:\u001b[36m214\u001b[0m - \u001b[34m\u001b[1mStarting to send buffered command.\u001b[0m\n",
      "\u001b[32m2025-02-14 13:15:49.275\u001b[0m | \u001b[34m\u001b[1mDEBUG   \u001b[0m | \u001b[36mgilson\u001b[0m:\u001b[36mbCommand\u001b[0m:\u001b[36m225\u001b[0m - \u001b[34m\u001b[1m10\u001b[0m\n",
      "\u001b[32m2025-02-14 13:15:49.275\u001b[0m | \u001b[34m\u001b[1mDEBUG   \u001b[0m | \u001b[36mgilson\u001b[0m:\u001b[36mbCommand\u001b[0m:\u001b[36m230\u001b[0m - \u001b[34m\u001b[1mWrites buffered Command character b'Z' to the device GX-241 II.\u001b[0m\n",
      "\u001b[32m2025-02-14 13:15:49.282\u001b[0m | \u001b[34m\u001b[1mDEBUG   \u001b[0m | \u001b[36mgilson\u001b[0m:\u001b[36mbCommand\u001b[0m:\u001b[36m232\u001b[0m - \u001b[34m\u001b[1mStarts reading character from the device GX-241 II.\u001b[0m\n"
     ]
    },
    {
     "name": "stdout",
     "output_type": "stream",
     "text": [
      "\n",
      "<\n"
     ]
    },
    {
     "name": "stderr",
     "output_type": "stream",
     "text": [
      "\u001b[32m2025-02-14 13:15:49.394\u001b[0m | \u001b[34m\u001b[1mDEBUG   \u001b[0m | \u001b[36mgilson\u001b[0m:\u001b[36mbCommand\u001b[0m:\u001b[36m234\u001b[0m - \u001b[34m\u001b[1mgot back b'Z' from the device GX-241 II.\u001b[0m\n",
      "\u001b[32m2025-02-14 13:15:49.395\u001b[0m | \u001b[34m\u001b[1mDEBUG   \u001b[0m | \u001b[36mgilson\u001b[0m:\u001b[36mbCommand\u001b[0m:\u001b[36m238\u001b[0m - \u001b[34m\u001b[1mresp_raw: b'Z'\u001b[0m\n",
      "\u001b[32m2025-02-14 13:15:49.396\u001b[0m | \u001b[34m\u001b[1mDEBUG   \u001b[0m | \u001b[36mgilson\u001b[0m:\u001b[36mbCommand\u001b[0m:\u001b[36m256\u001b[0m - \u001b[34m\u001b[1mresp_raw 2: 90\u001b[0m\n",
      "\u001b[32m2025-02-14 13:15:49.397\u001b[0m | \u001b[34m\u001b[1mDEBUG   \u001b[0m | \u001b[36mgilson\u001b[0m:\u001b[36mbCommand\u001b[0m:\u001b[36m230\u001b[0m - \u001b[34m\u001b[1mWrites buffered Command character b'1' to the device GX-241 II.\u001b[0m\n",
      "\u001b[32m2025-02-14 13:15:49.399\u001b[0m | \u001b[34m\u001b[1mDEBUG   \u001b[0m | \u001b[36mgilson\u001b[0m:\u001b[36mbCommand\u001b[0m:\u001b[36m232\u001b[0m - \u001b[34m\u001b[1mStarts reading character from the device GX-241 II.\u001b[0m\n",
      "\u001b[32m2025-02-14 13:15:49.507\u001b[0m | \u001b[34m\u001b[1mDEBUG   \u001b[0m | \u001b[36mgilson\u001b[0m:\u001b[36mbCommand\u001b[0m:\u001b[36m234\u001b[0m - \u001b[34m\u001b[1mgot back b'1' from the device GX-241 II.\u001b[0m\n",
      "\u001b[32m2025-02-14 13:15:49.507\u001b[0m | \u001b[34m\u001b[1mDEBUG   \u001b[0m | \u001b[36mgilson\u001b[0m:\u001b[36mbCommand\u001b[0m:\u001b[36m238\u001b[0m - \u001b[34m\u001b[1mresp_raw: b'1'\u001b[0m\n",
      "\u001b[32m2025-02-14 13:15:49.507\u001b[0m | \u001b[34m\u001b[1mDEBUG   \u001b[0m | \u001b[36mgilson\u001b[0m:\u001b[36mbCommand\u001b[0m:\u001b[36m256\u001b[0m - \u001b[34m\u001b[1mresp_raw 2: 49\u001b[0m\n",
      "\u001b[32m2025-02-14 13:15:49.511\u001b[0m | \u001b[34m\u001b[1mDEBUG   \u001b[0m | \u001b[36mgilson\u001b[0m:\u001b[36mbCommand\u001b[0m:\u001b[36m230\u001b[0m - \u001b[34m\u001b[1mWrites buffered Command character b'2' to the device GX-241 II.\u001b[0m\n",
      "\u001b[32m2025-02-14 13:15:49.513\u001b[0m | \u001b[34m\u001b[1mDEBUG   \u001b[0m | \u001b[36mgilson\u001b[0m:\u001b[36mbCommand\u001b[0m:\u001b[36m232\u001b[0m - \u001b[34m\u001b[1mStarts reading character from the device GX-241 II.\u001b[0m\n",
      "\u001b[32m2025-02-14 13:15:49.624\u001b[0m | \u001b[34m\u001b[1mDEBUG   \u001b[0m | \u001b[36mgilson\u001b[0m:\u001b[36mbCommand\u001b[0m:\u001b[36m234\u001b[0m - \u001b[34m\u001b[1mgot back b'2' from the device GX-241 II.\u001b[0m\n",
      "\u001b[32m2025-02-14 13:15:49.624\u001b[0m | \u001b[34m\u001b[1mDEBUG   \u001b[0m | \u001b[36mgilson\u001b[0m:\u001b[36mbCommand\u001b[0m:\u001b[36m238\u001b[0m - \u001b[34m\u001b[1mresp_raw: b'2'\u001b[0m\n",
      "\u001b[32m2025-02-14 13:15:49.624\u001b[0m | \u001b[34m\u001b[1mDEBUG   \u001b[0m | \u001b[36mgilson\u001b[0m:\u001b[36mbCommand\u001b[0m:\u001b[36m256\u001b[0m - \u001b[34m\u001b[1mresp_raw 2: 50\u001b[0m\n",
      "\u001b[32m2025-02-14 13:15:49.624\u001b[0m | \u001b[34m\u001b[1mDEBUG   \u001b[0m | \u001b[36mgilson\u001b[0m:\u001b[36mbCommand\u001b[0m:\u001b[36m230\u001b[0m - \u001b[34m\u001b[1mWrites buffered Command character b'0' to the device GX-241 II.\u001b[0m\n",
      "\u001b[32m2025-02-14 13:15:49.628\u001b[0m | \u001b[34m\u001b[1mDEBUG   \u001b[0m | \u001b[36mgilson\u001b[0m:\u001b[36mbCommand\u001b[0m:\u001b[36m232\u001b[0m - \u001b[34m\u001b[1mStarts reading character from the device GX-241 II.\u001b[0m\n",
      "\u001b[32m2025-02-14 13:15:49.740\u001b[0m | \u001b[34m\u001b[1mDEBUG   \u001b[0m | \u001b[36mgilson\u001b[0m:\u001b[36mbCommand\u001b[0m:\u001b[36m234\u001b[0m - \u001b[34m\u001b[1mgot back b'0' from the device GX-241 II.\u001b[0m\n",
      "\u001b[32m2025-02-14 13:15:49.740\u001b[0m | \u001b[34m\u001b[1mDEBUG   \u001b[0m | \u001b[36mgilson\u001b[0m:\u001b[36mbCommand\u001b[0m:\u001b[36m238\u001b[0m - \u001b[34m\u001b[1mresp_raw: b'0'\u001b[0m\n",
      "\u001b[32m2025-02-14 13:15:49.740\u001b[0m | \u001b[34m\u001b[1mDEBUG   \u001b[0m | \u001b[36mgilson\u001b[0m:\u001b[36mbCommand\u001b[0m:\u001b[36m256\u001b[0m - \u001b[34m\u001b[1mresp_raw 2: 48\u001b[0m\n",
      "\u001b[32m2025-02-14 13:15:49.740\u001b[0m | \u001b[34m\u001b[1mDEBUG   \u001b[0m | \u001b[36mgilson\u001b[0m:\u001b[36mbCommand\u001b[0m:\u001b[36m230\u001b[0m - \u001b[34m\u001b[1mWrites buffered Command character b'\\r' to the device GX-241 II.\u001b[0m\n",
      "\u001b[32m2025-02-14 13:15:49.745\u001b[0m | \u001b[34m\u001b[1mDEBUG   \u001b[0m | \u001b[36mgilson\u001b[0m:\u001b[36mbCommand\u001b[0m:\u001b[36m232\u001b[0m - \u001b[34m\u001b[1mStarts reading character from the device GX-241 II.\u001b[0m\n",
      "\u001b[32m2025-02-14 13:15:49.857\u001b[0m | \u001b[34m\u001b[1mDEBUG   \u001b[0m | \u001b[36mgilson\u001b[0m:\u001b[36mbCommand\u001b[0m:\u001b[36m234\u001b[0m - \u001b[34m\u001b[1mgot back b'\\r' from the device GX-241 II.\u001b[0m\n",
      "\u001b[32m2025-02-14 13:15:49.857\u001b[0m | \u001b[34m\u001b[1mDEBUG   \u001b[0m | \u001b[36mgilson\u001b[0m:\u001b[36mbCommand\u001b[0m:\u001b[36m238\u001b[0m - \u001b[34m\u001b[1mresp_raw: b'\\r'\u001b[0m\n",
      "\u001b[32m2025-02-14 13:15:49.857\u001b[0m | \u001b[34m\u001b[1mDEBUG   \u001b[0m | \u001b[36mgilson\u001b[0m:\u001b[36mbCommand\u001b[0m:\u001b[36m256\u001b[0m - \u001b[34m\u001b[1mresp_raw 2: 13\u001b[0m\n",
      "\u001b[32m2025-02-14 13:15:49.860\u001b[0m | \u001b[34m\u001b[1mDEBUG   \u001b[0m | \u001b[36mgilson\u001b[0m:\u001b[36mbCommand\u001b[0m:\u001b[36m271\u001b[0m - \u001b[34m\u001b[1mBuffered command complete.\u001b[0m\n",
      "\u001b[32m2025-02-14 13:15:49.861\u001b[0m | \u001b[34m\u001b[1mDEBUG   \u001b[0m | \u001b[36mgilson\u001b[0m:\u001b[36mbCommand\u001b[0m:\u001b[36m272\u001b[0m - \u001b[34m\u001b[1mReceived bytearray(b'\\nZ120\\r') from device.\u001b[0m\n",
      "\u001b[32m2025-02-14 13:15:49.861\u001b[0m | \u001b[1mINFO    \u001b[0m | \u001b[36mgilson\u001b[0m:\u001b[36mbCommand\u001b[0m:\u001b[36m273\u001b[0m - \u001b[1mGSIOC >>> bytearray(b'\\nZ120\\r')\u001b[0m\n",
      "\u001b[32m2025-02-14 13:15:49.863\u001b[0m | \u001b[34m\u001b[1mDEBUG   \u001b[0m | \u001b[36mgilson\u001b[0m:\u001b[36mbCommand\u001b[0m:\u001b[36m182\u001b[0m - \u001b[34m\u001b[1mSending buffered command \"W03\" to device.\u001b[0m\n",
      "\u001b[32m2025-02-14 13:15:49.864\u001b[0m | \u001b[1mINFO    \u001b[0m | \u001b[36mgilson\u001b[0m:\u001b[36mbCommand\u001b[0m:\u001b[36m186\u001b[0m - \u001b[1mGSIOC <<< W03\u001b[0m\n",
      "\u001b[32m2025-02-14 13:15:49.975\u001b[0m | \u001b[34m\u001b[1mDEBUG   \u001b[0m | \u001b[36mgilson\u001b[0m:\u001b[36mbCommand\u001b[0m:\u001b[36m205\u001b[0m - \u001b[34m\u001b[1mready signal: b'\\n'\u001b[0m\n",
      "\u001b[32m2025-02-14 13:15:49.975\u001b[0m | \u001b[34m\u001b[1mDEBUG   \u001b[0m | \u001b[36mgilson\u001b[0m:\u001b[36mbCommand\u001b[0m:\u001b[36m214\u001b[0m - \u001b[34m\u001b[1mStarting to send buffered command.\u001b[0m\n",
      "\u001b[32m2025-02-14 13:15:49.975\u001b[0m | \u001b[34m\u001b[1mDEBUG   \u001b[0m | \u001b[36mgilson\u001b[0m:\u001b[36mbCommand\u001b[0m:\u001b[36m225\u001b[0m - \u001b[34m\u001b[1m10\u001b[0m\n",
      "\u001b[32m2025-02-14 13:15:49.975\u001b[0m | \u001b[34m\u001b[1mDEBUG   \u001b[0m | \u001b[36mgilson\u001b[0m:\u001b[36mbCommand\u001b[0m:\u001b[36m230\u001b[0m - \u001b[34m\u001b[1mWrites buffered Command character b'W' to the device GX-241 II.\u001b[0m\n",
      "\u001b[32m2025-02-14 13:15:49.975\u001b[0m | \u001b[34m\u001b[1mDEBUG   \u001b[0m | \u001b[36mgilson\u001b[0m:\u001b[36mbCommand\u001b[0m:\u001b[36m232\u001b[0m - \u001b[34m\u001b[1mStarts reading character from the device GX-241 II.\u001b[0m\n"
     ]
    },
    {
     "name": "stdout",
     "output_type": "stream",
     "text": [
      "['X26.0/39.5']\n"
     ]
    },
    {
     "name": "stderr",
     "output_type": "stream",
     "text": [
      "\u001b[32m2025-02-14 13:15:50.079\u001b[0m | \u001b[34m\u001b[1mDEBUG   \u001b[0m | \u001b[36mgilson\u001b[0m:\u001b[36mbCommand\u001b[0m:\u001b[36m234\u001b[0m - \u001b[34m\u001b[1mgot back b'W' from the device GX-241 II.\u001b[0m\n",
      "\u001b[32m2025-02-14 13:15:50.080\u001b[0m | \u001b[34m\u001b[1mDEBUG   \u001b[0m | \u001b[36mgilson\u001b[0m:\u001b[36mbCommand\u001b[0m:\u001b[36m238\u001b[0m - \u001b[34m\u001b[1mresp_raw: b'W'\u001b[0m\n",
      "\u001b[32m2025-02-14 13:15:50.081\u001b[0m | \u001b[34m\u001b[1mDEBUG   \u001b[0m | \u001b[36mgilson\u001b[0m:\u001b[36mbCommand\u001b[0m:\u001b[36m256\u001b[0m - \u001b[34m\u001b[1mresp_raw 2: 87\u001b[0m\n",
      "\u001b[32m2025-02-14 13:15:50.081\u001b[0m | \u001b[34m\u001b[1mDEBUG   \u001b[0m | \u001b[36mgilson\u001b[0m:\u001b[36mbCommand\u001b[0m:\u001b[36m230\u001b[0m - \u001b[34m\u001b[1mWrites buffered Command character b'0' to the device GX-241 II.\u001b[0m\n",
      "\u001b[32m2025-02-14 13:15:50.083\u001b[0m | \u001b[34m\u001b[1mDEBUG   \u001b[0m | \u001b[36mgilson\u001b[0m:\u001b[36mbCommand\u001b[0m:\u001b[36m232\u001b[0m - \u001b[34m\u001b[1mStarts reading character from the device GX-241 II.\u001b[0m\n",
      "\u001b[32m2025-02-14 13:15:50.191\u001b[0m | \u001b[34m\u001b[1mDEBUG   \u001b[0m | \u001b[36mgilson\u001b[0m:\u001b[36mbCommand\u001b[0m:\u001b[36m234\u001b[0m - \u001b[34m\u001b[1mgot back b'0' from the device GX-241 II.\u001b[0m\n",
      "\u001b[32m2025-02-14 13:15:50.191\u001b[0m | \u001b[34m\u001b[1mDEBUG   \u001b[0m | \u001b[36mgilson\u001b[0m:\u001b[36mbCommand\u001b[0m:\u001b[36m238\u001b[0m - \u001b[34m\u001b[1mresp_raw: b'0'\u001b[0m\n",
      "\u001b[32m2025-02-14 13:15:50.191\u001b[0m | \u001b[34m\u001b[1mDEBUG   \u001b[0m | \u001b[36mgilson\u001b[0m:\u001b[36mbCommand\u001b[0m:\u001b[36m256\u001b[0m - \u001b[34m\u001b[1mresp_raw 2: 48\u001b[0m\n",
      "\u001b[32m2025-02-14 13:15:50.191\u001b[0m | \u001b[34m\u001b[1mDEBUG   \u001b[0m | \u001b[36mgilson\u001b[0m:\u001b[36mbCommand\u001b[0m:\u001b[36m230\u001b[0m - \u001b[34m\u001b[1mWrites buffered Command character b'3' to the device GX-241 II.\u001b[0m\n",
      "\u001b[32m2025-02-14 13:15:50.197\u001b[0m | \u001b[34m\u001b[1mDEBUG   \u001b[0m | \u001b[36mgilson\u001b[0m:\u001b[36mbCommand\u001b[0m:\u001b[36m232\u001b[0m - \u001b[34m\u001b[1mStarts reading character from the device GX-241 II.\u001b[0m\n",
      "\u001b[32m2025-02-14 13:15:50.307\u001b[0m | \u001b[34m\u001b[1mDEBUG   \u001b[0m | \u001b[36mgilson\u001b[0m:\u001b[36mbCommand\u001b[0m:\u001b[36m234\u001b[0m - \u001b[34m\u001b[1mgot back b'3' from the device GX-241 II.\u001b[0m\n",
      "\u001b[32m2025-02-14 13:15:50.307\u001b[0m | \u001b[34m\u001b[1mDEBUG   \u001b[0m | \u001b[36mgilson\u001b[0m:\u001b[36mbCommand\u001b[0m:\u001b[36m238\u001b[0m - \u001b[34m\u001b[1mresp_raw: b'3'\u001b[0m\n",
      "\u001b[32m2025-02-14 13:15:50.307\u001b[0m | \u001b[34m\u001b[1mDEBUG   \u001b[0m | \u001b[36mgilson\u001b[0m:\u001b[36mbCommand\u001b[0m:\u001b[36m256\u001b[0m - \u001b[34m\u001b[1mresp_raw 2: 51\u001b[0m\n",
      "\u001b[32m2025-02-14 13:15:50.311\u001b[0m | \u001b[34m\u001b[1mDEBUG   \u001b[0m | \u001b[36mgilson\u001b[0m:\u001b[36mbCommand\u001b[0m:\u001b[36m230\u001b[0m - \u001b[34m\u001b[1mWrites buffered Command character b'\\r' to the device GX-241 II.\u001b[0m\n",
      "\u001b[32m2025-02-14 13:15:50.313\u001b[0m | \u001b[34m\u001b[1mDEBUG   \u001b[0m | \u001b[36mgilson\u001b[0m:\u001b[36mbCommand\u001b[0m:\u001b[36m232\u001b[0m - \u001b[34m\u001b[1mStarts reading character from the device GX-241 II.\u001b[0m\n",
      "\u001b[32m2025-02-14 13:15:50.425\u001b[0m | \u001b[34m\u001b[1mDEBUG   \u001b[0m | \u001b[36mgilson\u001b[0m:\u001b[36mbCommand\u001b[0m:\u001b[36m234\u001b[0m - \u001b[34m\u001b[1mgot back b'\\r' from the device GX-241 II.\u001b[0m\n",
      "\u001b[32m2025-02-14 13:15:50.425\u001b[0m | \u001b[34m\u001b[1mDEBUG   \u001b[0m | \u001b[36mgilson\u001b[0m:\u001b[36mbCommand\u001b[0m:\u001b[36m238\u001b[0m - \u001b[34m\u001b[1mresp_raw: b'\\r'\u001b[0m\n",
      "\u001b[32m2025-02-14 13:15:50.425\u001b[0m | \u001b[34m\u001b[1mDEBUG   \u001b[0m | \u001b[36mgilson\u001b[0m:\u001b[36mbCommand\u001b[0m:\u001b[36m256\u001b[0m - \u001b[34m\u001b[1mresp_raw 2: 13\u001b[0m\n",
      "\u001b[32m2025-02-14 13:15:50.425\u001b[0m | \u001b[34m\u001b[1mDEBUG   \u001b[0m | \u001b[36mgilson\u001b[0m:\u001b[36mbCommand\u001b[0m:\u001b[36m271\u001b[0m - \u001b[34m\u001b[1mBuffered command complete.\u001b[0m\n",
      "\u001b[32m2025-02-14 13:15:50.429\u001b[0m | \u001b[34m\u001b[1mDEBUG   \u001b[0m | \u001b[36mgilson\u001b[0m:\u001b[36mbCommand\u001b[0m:\u001b[36m272\u001b[0m - \u001b[34m\u001b[1mReceived bytearray(b'\\nW03\\r') from device.\u001b[0m\n",
      "\u001b[32m2025-02-14 13:15:50.429\u001b[0m | \u001b[1mINFO    \u001b[0m | \u001b[36mgilson\u001b[0m:\u001b[36mbCommand\u001b[0m:\u001b[36m273\u001b[0m - \u001b[1mGSIOC >>> bytearray(b'\\nW03\\r')\u001b[0m\n",
      "\u001b[32m2025-02-14 13:15:50.430\u001b[0m | \u001b[34m\u001b[1mDEBUG   \u001b[0m | \u001b[36mgilson\u001b[0m:\u001b[36mbCommand\u001b[0m:\u001b[36m182\u001b[0m - \u001b[34m\u001b[1mSending buffered command \"X44.5/39.5\" to device.\u001b[0m\n",
      "\u001b[32m2025-02-14 13:15:50.431\u001b[0m | \u001b[1mINFO    \u001b[0m | \u001b[36mgilson\u001b[0m:\u001b[36mbCommand\u001b[0m:\u001b[36m186\u001b[0m - \u001b[1mGSIOC <<< X44.5/39.5\u001b[0m\n",
      "\u001b[32m2025-02-14 13:15:50.541\u001b[0m | \u001b[34m\u001b[1mDEBUG   \u001b[0m | \u001b[36mgilson\u001b[0m:\u001b[36mbCommand\u001b[0m:\u001b[36m205\u001b[0m - \u001b[34m\u001b[1mready signal: b'\\n'\u001b[0m\n",
      "\u001b[32m2025-02-14 13:15:50.541\u001b[0m | \u001b[34m\u001b[1mDEBUG   \u001b[0m | \u001b[36mgilson\u001b[0m:\u001b[36mbCommand\u001b[0m:\u001b[36m214\u001b[0m - \u001b[34m\u001b[1mStarting to send buffered command.\u001b[0m\n",
      "\u001b[32m2025-02-14 13:15:50.541\u001b[0m | \u001b[34m\u001b[1mDEBUG   \u001b[0m | \u001b[36mgilson\u001b[0m:\u001b[36mbCommand\u001b[0m:\u001b[36m225\u001b[0m - \u001b[34m\u001b[1m10\u001b[0m\n",
      "\u001b[32m2025-02-14 13:15:50.544\u001b[0m | \u001b[34m\u001b[1mDEBUG   \u001b[0m | \u001b[36mgilson\u001b[0m:\u001b[36mbCommand\u001b[0m:\u001b[36m230\u001b[0m - \u001b[34m\u001b[1mWrites buffered Command character b'X' to the device GX-241 II.\u001b[0m\n",
      "\u001b[32m2025-02-14 13:15:50.544\u001b[0m | \u001b[34m\u001b[1mDEBUG   \u001b[0m | \u001b[36mgilson\u001b[0m:\u001b[36mbCommand\u001b[0m:\u001b[36m232\u001b[0m - \u001b[34m\u001b[1mStarts reading character from the device GX-241 II.\u001b[0m\n",
      "\u001b[32m2025-02-14 13:15:50.658\u001b[0m | \u001b[34m\u001b[1mDEBUG   \u001b[0m | \u001b[36mgilson\u001b[0m:\u001b[36mbCommand\u001b[0m:\u001b[36m234\u001b[0m - \u001b[34m\u001b[1mgot back b'X' from the device GX-241 II.\u001b[0m\n",
      "\u001b[32m2025-02-14 13:15:50.660\u001b[0m | \u001b[34m\u001b[1mDEBUG   \u001b[0m | \u001b[36mgilson\u001b[0m:\u001b[36mbCommand\u001b[0m:\u001b[36m238\u001b[0m - \u001b[34m\u001b[1mresp_raw: b'X'\u001b[0m\n",
      "\u001b[32m2025-02-14 13:15:50.661\u001b[0m | \u001b[34m\u001b[1mDEBUG   \u001b[0m | \u001b[36mgilson\u001b[0m:\u001b[36mbCommand\u001b[0m:\u001b[36m256\u001b[0m - \u001b[34m\u001b[1mresp_raw 2: 88\u001b[0m\n",
      "\u001b[32m2025-02-14 13:15:50.662\u001b[0m | \u001b[34m\u001b[1mDEBUG   \u001b[0m | \u001b[36mgilson\u001b[0m:\u001b[36mbCommand\u001b[0m:\u001b[36m230\u001b[0m - \u001b[34m\u001b[1mWrites buffered Command character b'4' to the device GX-241 II.\u001b[0m\n",
      "\u001b[32m2025-02-14 13:15:50.663\u001b[0m | \u001b[34m\u001b[1mDEBUG   \u001b[0m | \u001b[36mgilson\u001b[0m:\u001b[36mbCommand\u001b[0m:\u001b[36m232\u001b[0m - \u001b[34m\u001b[1mStarts reading character from the device GX-241 II.\u001b[0m\n",
      "\u001b[32m2025-02-14 13:15:50.775\u001b[0m | \u001b[34m\u001b[1mDEBUG   \u001b[0m | \u001b[36mgilson\u001b[0m:\u001b[36mbCommand\u001b[0m:\u001b[36m234\u001b[0m - \u001b[34m\u001b[1mgot back b'4' from the device GX-241 II.\u001b[0m\n",
      "\u001b[32m2025-02-14 13:15:50.775\u001b[0m | \u001b[34m\u001b[1mDEBUG   \u001b[0m | \u001b[36mgilson\u001b[0m:\u001b[36mbCommand\u001b[0m:\u001b[36m238\u001b[0m - \u001b[34m\u001b[1mresp_raw: b'4'\u001b[0m\n",
      "\u001b[32m2025-02-14 13:15:50.775\u001b[0m | \u001b[34m\u001b[1mDEBUG   \u001b[0m | \u001b[36mgilson\u001b[0m:\u001b[36mbCommand\u001b[0m:\u001b[36m256\u001b[0m - \u001b[34m\u001b[1mresp_raw 2: 52\u001b[0m\n",
      "\u001b[32m2025-02-14 13:15:50.775\u001b[0m | \u001b[34m\u001b[1mDEBUG   \u001b[0m | \u001b[36mgilson\u001b[0m:\u001b[36mbCommand\u001b[0m:\u001b[36m230\u001b[0m - \u001b[34m\u001b[1mWrites buffered Command character b'4' to the device GX-241 II.\u001b[0m\n",
      "\u001b[32m2025-02-14 13:15:50.779\u001b[0m | \u001b[34m\u001b[1mDEBUG   \u001b[0m | \u001b[36mgilson\u001b[0m:\u001b[36mbCommand\u001b[0m:\u001b[36m232\u001b[0m - \u001b[34m\u001b[1mStarts reading character from the device GX-241 II.\u001b[0m\n",
      "\u001b[32m2025-02-14 13:15:50.891\u001b[0m | \u001b[34m\u001b[1mDEBUG   \u001b[0m | \u001b[36mgilson\u001b[0m:\u001b[36mbCommand\u001b[0m:\u001b[36m234\u001b[0m - \u001b[34m\u001b[1mgot back b'4' from the device GX-241 II.\u001b[0m\n",
      "\u001b[32m2025-02-14 13:15:50.891\u001b[0m | \u001b[34m\u001b[1mDEBUG   \u001b[0m | \u001b[36mgilson\u001b[0m:\u001b[36mbCommand\u001b[0m:\u001b[36m238\u001b[0m - \u001b[34m\u001b[1mresp_raw: b'4'\u001b[0m\n",
      "\u001b[32m2025-02-14 13:15:50.891\u001b[0m | \u001b[34m\u001b[1mDEBUG   \u001b[0m | \u001b[36mgilson\u001b[0m:\u001b[36mbCommand\u001b[0m:\u001b[36m256\u001b[0m - \u001b[34m\u001b[1mresp_raw 2: 52\u001b[0m\n",
      "\u001b[32m2025-02-14 13:15:50.891\u001b[0m | \u001b[34m\u001b[1mDEBUG   \u001b[0m | \u001b[36mgilson\u001b[0m:\u001b[36mbCommand\u001b[0m:\u001b[36m230\u001b[0m - \u001b[34m\u001b[1mWrites buffered Command character b'.' to the device GX-241 II.\u001b[0m\n",
      "\u001b[32m2025-02-14 13:15:50.896\u001b[0m | \u001b[34m\u001b[1mDEBUG   \u001b[0m | \u001b[36mgilson\u001b[0m:\u001b[36mbCommand\u001b[0m:\u001b[36m232\u001b[0m - \u001b[34m\u001b[1mStarts reading character from the device GX-241 II.\u001b[0m\n",
      "\u001b[32m2025-02-14 13:15:51.008\u001b[0m | \u001b[34m\u001b[1mDEBUG   \u001b[0m | \u001b[36mgilson\u001b[0m:\u001b[36mbCommand\u001b[0m:\u001b[36m234\u001b[0m - \u001b[34m\u001b[1mgot back b'.' from the device GX-241 II.\u001b[0m\n",
      "\u001b[32m2025-02-14 13:15:51.008\u001b[0m | \u001b[34m\u001b[1mDEBUG   \u001b[0m | \u001b[36mgilson\u001b[0m:\u001b[36mbCommand\u001b[0m:\u001b[36m238\u001b[0m - \u001b[34m\u001b[1mresp_raw: b'.'\u001b[0m\n",
      "\u001b[32m2025-02-14 13:15:51.008\u001b[0m | \u001b[34m\u001b[1mDEBUG   \u001b[0m | \u001b[36mgilson\u001b[0m:\u001b[36mbCommand\u001b[0m:\u001b[36m256\u001b[0m - \u001b[34m\u001b[1mresp_raw 2: 46\u001b[0m\n",
      "\u001b[32m2025-02-14 13:15:51.008\u001b[0m | \u001b[34m\u001b[1mDEBUG   \u001b[0m | \u001b[36mgilson\u001b[0m:\u001b[36mbCommand\u001b[0m:\u001b[36m230\u001b[0m - \u001b[34m\u001b[1mWrites buffered Command character b'5' to the device GX-241 II.\u001b[0m\n",
      "\u001b[32m2025-02-14 13:15:51.012\u001b[0m | \u001b[34m\u001b[1mDEBUG   \u001b[0m | \u001b[36mgilson\u001b[0m:\u001b[36mbCommand\u001b[0m:\u001b[36m232\u001b[0m - \u001b[34m\u001b[1mStarts reading character from the device GX-241 II.\u001b[0m\n",
      "\u001b[32m2025-02-14 13:15:51.126\u001b[0m | \u001b[34m\u001b[1mDEBUG   \u001b[0m | \u001b[36mgilson\u001b[0m:\u001b[36mbCommand\u001b[0m:\u001b[36m234\u001b[0m - \u001b[34m\u001b[1mgot back b'5' from the device GX-241 II.\u001b[0m\n",
      "\u001b[32m2025-02-14 13:15:51.126\u001b[0m | \u001b[34m\u001b[1mDEBUG   \u001b[0m | \u001b[36mgilson\u001b[0m:\u001b[36mbCommand\u001b[0m:\u001b[36m238\u001b[0m - \u001b[34m\u001b[1mresp_raw: b'5'\u001b[0m\n",
      "\u001b[32m2025-02-14 13:15:51.126\u001b[0m | \u001b[34m\u001b[1mDEBUG   \u001b[0m | \u001b[36mgilson\u001b[0m:\u001b[36mbCommand\u001b[0m:\u001b[36m256\u001b[0m - \u001b[34m\u001b[1mresp_raw 2: 53\u001b[0m\n",
      "\u001b[32m2025-02-14 13:15:51.126\u001b[0m | \u001b[34m\u001b[1mDEBUG   \u001b[0m | \u001b[36mgilson\u001b[0m:\u001b[36mbCommand\u001b[0m:\u001b[36m230\u001b[0m - \u001b[34m\u001b[1mWrites buffered Command character b'/' to the device GX-241 II.\u001b[0m\n",
      "\u001b[32m2025-02-14 13:15:51.129\u001b[0m | \u001b[34m\u001b[1mDEBUG   \u001b[0m | \u001b[36mgilson\u001b[0m:\u001b[36mbCommand\u001b[0m:\u001b[36m232\u001b[0m - \u001b[34m\u001b[1mStarts reading character from the device GX-241 II.\u001b[0m\n",
      "\u001b[32m2025-02-14 13:15:51.242\u001b[0m | \u001b[34m\u001b[1mDEBUG   \u001b[0m | \u001b[36mgilson\u001b[0m:\u001b[36mbCommand\u001b[0m:\u001b[36m234\u001b[0m - \u001b[34m\u001b[1mgot back b'/' from the device GX-241 II.\u001b[0m\n",
      "\u001b[32m2025-02-14 13:15:51.242\u001b[0m | \u001b[34m\u001b[1mDEBUG   \u001b[0m | \u001b[36mgilson\u001b[0m:\u001b[36mbCommand\u001b[0m:\u001b[36m238\u001b[0m - \u001b[34m\u001b[1mresp_raw: b'/'\u001b[0m\n",
      "\u001b[32m2025-02-14 13:15:51.242\u001b[0m | \u001b[34m\u001b[1mDEBUG   \u001b[0m | \u001b[36mgilson\u001b[0m:\u001b[36mbCommand\u001b[0m:\u001b[36m256\u001b[0m - \u001b[34m\u001b[1mresp_raw 2: 47\u001b[0m\n",
      "\u001b[32m2025-02-14 13:15:51.242\u001b[0m | \u001b[34m\u001b[1mDEBUG   \u001b[0m | \u001b[36mgilson\u001b[0m:\u001b[36mbCommand\u001b[0m:\u001b[36m230\u001b[0m - \u001b[34m\u001b[1mWrites buffered Command character b'3' to the device GX-241 II.\u001b[0m\n",
      "\u001b[32m2025-02-14 13:15:51.246\u001b[0m | \u001b[34m\u001b[1mDEBUG   \u001b[0m | \u001b[36mgilson\u001b[0m:\u001b[36mbCommand\u001b[0m:\u001b[36m232\u001b[0m - \u001b[34m\u001b[1mStarts reading character from the device GX-241 II.\u001b[0m\n",
      "\u001b[32m2025-02-14 13:15:51.359\u001b[0m | \u001b[34m\u001b[1mDEBUG   \u001b[0m | \u001b[36mgilson\u001b[0m:\u001b[36mbCommand\u001b[0m:\u001b[36m234\u001b[0m - \u001b[34m\u001b[1mgot back b'3' from the device GX-241 II.\u001b[0m\n",
      "\u001b[32m2025-02-14 13:15:51.360\u001b[0m | \u001b[34m\u001b[1mDEBUG   \u001b[0m | \u001b[36mgilson\u001b[0m:\u001b[36mbCommand\u001b[0m:\u001b[36m238\u001b[0m - \u001b[34m\u001b[1mresp_raw: b'3'\u001b[0m\n",
      "\u001b[32m2025-02-14 13:15:51.360\u001b[0m | \u001b[34m\u001b[1mDEBUG   \u001b[0m | \u001b[36mgilson\u001b[0m:\u001b[36mbCommand\u001b[0m:\u001b[36m256\u001b[0m - \u001b[34m\u001b[1mresp_raw 2: 51\u001b[0m\n",
      "\u001b[32m2025-02-14 13:15:51.360\u001b[0m | \u001b[34m\u001b[1mDEBUG   \u001b[0m | \u001b[36mgilson\u001b[0m:\u001b[36mbCommand\u001b[0m:\u001b[36m230\u001b[0m - \u001b[34m\u001b[1mWrites buffered Command character b'9' to the device GX-241 II.\u001b[0m\n",
      "\u001b[32m2025-02-14 13:15:51.360\u001b[0m | \u001b[34m\u001b[1mDEBUG   \u001b[0m | \u001b[36mgilson\u001b[0m:\u001b[36mbCommand\u001b[0m:\u001b[36m232\u001b[0m - \u001b[34m\u001b[1mStarts reading character from the device GX-241 II.\u001b[0m\n",
      "\u001b[32m2025-02-14 13:15:51.475\u001b[0m | \u001b[34m\u001b[1mDEBUG   \u001b[0m | \u001b[36mgilson\u001b[0m:\u001b[36mbCommand\u001b[0m:\u001b[36m234\u001b[0m - \u001b[34m\u001b[1mgot back b'9' from the device GX-241 II.\u001b[0m\n",
      "\u001b[32m2025-02-14 13:15:51.475\u001b[0m | \u001b[34m\u001b[1mDEBUG   \u001b[0m | \u001b[36mgilson\u001b[0m:\u001b[36mbCommand\u001b[0m:\u001b[36m238\u001b[0m - \u001b[34m\u001b[1mresp_raw: b'9'\u001b[0m\n",
      "\u001b[32m2025-02-14 13:15:51.475\u001b[0m | \u001b[34m\u001b[1mDEBUG   \u001b[0m | \u001b[36mgilson\u001b[0m:\u001b[36mbCommand\u001b[0m:\u001b[36m256\u001b[0m - \u001b[34m\u001b[1mresp_raw 2: 57\u001b[0m\n",
      "\u001b[32m2025-02-14 13:15:51.475\u001b[0m | \u001b[34m\u001b[1mDEBUG   \u001b[0m | \u001b[36mgilson\u001b[0m:\u001b[36mbCommand\u001b[0m:\u001b[36m230\u001b[0m - \u001b[34m\u001b[1mWrites buffered Command character b'.' to the device GX-241 II.\u001b[0m\n",
      "\u001b[32m2025-02-14 13:15:51.478\u001b[0m | \u001b[34m\u001b[1mDEBUG   \u001b[0m | \u001b[36mgilson\u001b[0m:\u001b[36mbCommand\u001b[0m:\u001b[36m232\u001b[0m - \u001b[34m\u001b[1mStarts reading character from the device GX-241 II.\u001b[0m\n",
      "\u001b[32m2025-02-14 13:15:51.593\u001b[0m | \u001b[34m\u001b[1mDEBUG   \u001b[0m | \u001b[36mgilson\u001b[0m:\u001b[36mbCommand\u001b[0m:\u001b[36m234\u001b[0m - \u001b[34m\u001b[1mgot back b'.' from the device GX-241 II.\u001b[0m\n",
      "\u001b[32m2025-02-14 13:15:51.593\u001b[0m | \u001b[34m\u001b[1mDEBUG   \u001b[0m | \u001b[36mgilson\u001b[0m:\u001b[36mbCommand\u001b[0m:\u001b[36m238\u001b[0m - \u001b[34m\u001b[1mresp_raw: b'.'\u001b[0m\n",
      "\u001b[32m2025-02-14 13:15:51.593\u001b[0m | \u001b[34m\u001b[1mDEBUG   \u001b[0m | \u001b[36mgilson\u001b[0m:\u001b[36mbCommand\u001b[0m:\u001b[36m256\u001b[0m - \u001b[34m\u001b[1mresp_raw 2: 46\u001b[0m\n",
      "\u001b[32m2025-02-14 13:15:51.593\u001b[0m | \u001b[34m\u001b[1mDEBUG   \u001b[0m | \u001b[36mgilson\u001b[0m:\u001b[36mbCommand\u001b[0m:\u001b[36m230\u001b[0m - \u001b[34m\u001b[1mWrites buffered Command character b'5' to the device GX-241 II.\u001b[0m\n",
      "\u001b[32m2025-02-14 13:15:51.596\u001b[0m | \u001b[34m\u001b[1mDEBUG   \u001b[0m | \u001b[36mgilson\u001b[0m:\u001b[36mbCommand\u001b[0m:\u001b[36m232\u001b[0m - \u001b[34m\u001b[1mStarts reading character from the device GX-241 II.\u001b[0m\n",
      "\u001b[32m2025-02-14 13:15:51.710\u001b[0m | \u001b[34m\u001b[1mDEBUG   \u001b[0m | \u001b[36mgilson\u001b[0m:\u001b[36mbCommand\u001b[0m:\u001b[36m234\u001b[0m - \u001b[34m\u001b[1mgot back b'5' from the device GX-241 II.\u001b[0m\n",
      "\u001b[32m2025-02-14 13:15:51.710\u001b[0m | \u001b[34m\u001b[1mDEBUG   \u001b[0m | \u001b[36mgilson\u001b[0m:\u001b[36mbCommand\u001b[0m:\u001b[36m238\u001b[0m - \u001b[34m\u001b[1mresp_raw: b'5'\u001b[0m\n",
      "\u001b[32m2025-02-14 13:15:51.710\u001b[0m | \u001b[34m\u001b[1mDEBUG   \u001b[0m | \u001b[36mgilson\u001b[0m:\u001b[36mbCommand\u001b[0m:\u001b[36m256\u001b[0m - \u001b[34m\u001b[1mresp_raw 2: 53\u001b[0m\n",
      "\u001b[32m2025-02-14 13:15:51.710\u001b[0m | \u001b[34m\u001b[1mDEBUG   \u001b[0m | \u001b[36mgilson\u001b[0m:\u001b[36mbCommand\u001b[0m:\u001b[36m230\u001b[0m - \u001b[34m\u001b[1mWrites buffered Command character b'\\r' to the device GX-241 II.\u001b[0m\n",
      "\u001b[32m2025-02-14 13:15:51.720\u001b[0m | \u001b[34m\u001b[1mDEBUG   \u001b[0m | \u001b[36mgilson\u001b[0m:\u001b[36mbCommand\u001b[0m:\u001b[36m232\u001b[0m - \u001b[34m\u001b[1mStarts reading character from the device GX-241 II.\u001b[0m\n",
      "\u001b[32m2025-02-14 13:15:51.825\u001b[0m | \u001b[34m\u001b[1mDEBUG   \u001b[0m | \u001b[36mgilson\u001b[0m:\u001b[36mbCommand\u001b[0m:\u001b[36m234\u001b[0m - \u001b[34m\u001b[1mgot back b'\\r' from the device GX-241 II.\u001b[0m\n",
      "\u001b[32m2025-02-14 13:15:51.827\u001b[0m | \u001b[34m\u001b[1mDEBUG   \u001b[0m | \u001b[36mgilson\u001b[0m:\u001b[36mbCommand\u001b[0m:\u001b[36m238\u001b[0m - \u001b[34m\u001b[1mresp_raw: b'\\r'\u001b[0m\n",
      "\u001b[32m2025-02-14 13:15:51.829\u001b[0m | \u001b[34m\u001b[1mDEBUG   \u001b[0m | \u001b[36mgilson\u001b[0m:\u001b[36mbCommand\u001b[0m:\u001b[36m256\u001b[0m - \u001b[34m\u001b[1mresp_raw 2: 13\u001b[0m\n",
      "\u001b[32m2025-02-14 13:15:51.831\u001b[0m | \u001b[34m\u001b[1mDEBUG   \u001b[0m | \u001b[36mgilson\u001b[0m:\u001b[36mbCommand\u001b[0m:\u001b[36m271\u001b[0m - \u001b[34m\u001b[1mBuffered command complete.\u001b[0m\n",
      "\u001b[32m2025-02-14 13:15:51.834\u001b[0m | \u001b[34m\u001b[1mDEBUG   \u001b[0m | \u001b[36mgilson\u001b[0m:\u001b[36mbCommand\u001b[0m:\u001b[36m272\u001b[0m - \u001b[34m\u001b[1mReceived bytearray(b'\\nX44.5/39.5\\r') from device.\u001b[0m\n",
      "\u001b[32m2025-02-14 13:15:51.836\u001b[0m | \u001b[1mINFO    \u001b[0m | \u001b[36mgilson\u001b[0m:\u001b[36mbCommand\u001b[0m:\u001b[36m273\u001b[0m - \u001b[1mGSIOC >>> bytearray(b'\\nX44.5/39.5\\r')\u001b[0m\n",
      "\u001b[32m2025-02-14 13:15:51.839\u001b[0m | \u001b[34m\u001b[1mDEBUG   \u001b[0m | \u001b[36mgilson\u001b[0m:\u001b[36mbCommand\u001b[0m:\u001b[36m182\u001b[0m - \u001b[34m\u001b[1mSending buffered command \"Z85\" to device.\u001b[0m\n",
      "\u001b[32m2025-02-14 13:15:51.839\u001b[0m | \u001b[1mINFO    \u001b[0m | \u001b[36mgilson\u001b[0m:\u001b[36mbCommand\u001b[0m:\u001b[36m186\u001b[0m - \u001b[1mGSIOC <<< Z85\u001b[0m\n",
      "\u001b[32m2025-02-14 13:15:51.944\u001b[0m | \u001b[34m\u001b[1mDEBUG   \u001b[0m | \u001b[36mgilson\u001b[0m:\u001b[36mbCommand\u001b[0m:\u001b[36m205\u001b[0m - \u001b[34m\u001b[1mready signal: b'\\n'\u001b[0m\n",
      "\u001b[32m2025-02-14 13:15:51.944\u001b[0m | \u001b[34m\u001b[1mDEBUG   \u001b[0m | \u001b[36mgilson\u001b[0m:\u001b[36mbCommand\u001b[0m:\u001b[36m214\u001b[0m - \u001b[34m\u001b[1mStarting to send buffered command.\u001b[0m\n",
      "\u001b[32m2025-02-14 13:15:51.945\u001b[0m | \u001b[34m\u001b[1mDEBUG   \u001b[0m | \u001b[36mgilson\u001b[0m:\u001b[36mbCommand\u001b[0m:\u001b[36m225\u001b[0m - \u001b[34m\u001b[1m10\u001b[0m\n",
      "\u001b[32m2025-02-14 13:15:51.945\u001b[0m | \u001b[34m\u001b[1mDEBUG   \u001b[0m | \u001b[36mgilson\u001b[0m:\u001b[36mbCommand\u001b[0m:\u001b[36m230\u001b[0m - \u001b[34m\u001b[1mWrites buffered Command character b'Z' to the device GX-241 II.\u001b[0m\n",
      "\u001b[32m2025-02-14 13:15:51.946\u001b[0m | \u001b[34m\u001b[1mDEBUG   \u001b[0m | \u001b[36mgilson\u001b[0m:\u001b[36mbCommand\u001b[0m:\u001b[36m232\u001b[0m - \u001b[34m\u001b[1mStarts reading character from the device GX-241 II.\u001b[0m\n",
      "\u001b[32m2025-02-14 13:15:52.060\u001b[0m | \u001b[34m\u001b[1mDEBUG   \u001b[0m | \u001b[36mgilson\u001b[0m:\u001b[36mbCommand\u001b[0m:\u001b[36m234\u001b[0m - \u001b[34m\u001b[1mgot back b'Z' from the device GX-241 II.\u001b[0m\n",
      "\u001b[32m2025-02-14 13:15:52.060\u001b[0m | \u001b[34m\u001b[1mDEBUG   \u001b[0m | \u001b[36mgilson\u001b[0m:\u001b[36mbCommand\u001b[0m:\u001b[36m238\u001b[0m - \u001b[34m\u001b[1mresp_raw: b'Z'\u001b[0m\n",
      "\u001b[32m2025-02-14 13:15:52.060\u001b[0m | \u001b[34m\u001b[1mDEBUG   \u001b[0m | \u001b[36mgilson\u001b[0m:\u001b[36mbCommand\u001b[0m:\u001b[36m256\u001b[0m - \u001b[34m\u001b[1mresp_raw 2: 90\u001b[0m\n",
      "\u001b[32m2025-02-14 13:15:52.060\u001b[0m | \u001b[34m\u001b[1mDEBUG   \u001b[0m | \u001b[36mgilson\u001b[0m:\u001b[36mbCommand\u001b[0m:\u001b[36m230\u001b[0m - \u001b[34m\u001b[1mWrites buffered Command character b'8' to the device GX-241 II.\u001b[0m\n",
      "\u001b[32m2025-02-14 13:15:52.060\u001b[0m | \u001b[34m\u001b[1mDEBUG   \u001b[0m | \u001b[36mgilson\u001b[0m:\u001b[36mbCommand\u001b[0m:\u001b[36m232\u001b[0m - \u001b[34m\u001b[1mStarts reading character from the device GX-241 II.\u001b[0m\n",
      "\u001b[32m2025-02-14 13:15:52.178\u001b[0m | \u001b[34m\u001b[1mDEBUG   \u001b[0m | \u001b[36mgilson\u001b[0m:\u001b[36mbCommand\u001b[0m:\u001b[36m234\u001b[0m - \u001b[34m\u001b[1mgot back b'8' from the device GX-241 II.\u001b[0m\n",
      "\u001b[32m2025-02-14 13:15:52.178\u001b[0m | \u001b[34m\u001b[1mDEBUG   \u001b[0m | \u001b[36mgilson\u001b[0m:\u001b[36mbCommand\u001b[0m:\u001b[36m238\u001b[0m - \u001b[34m\u001b[1mresp_raw: b'8'\u001b[0m\n",
      "\u001b[32m2025-02-14 13:15:52.178\u001b[0m | \u001b[34m\u001b[1mDEBUG   \u001b[0m | \u001b[36mgilson\u001b[0m:\u001b[36mbCommand\u001b[0m:\u001b[36m256\u001b[0m - \u001b[34m\u001b[1mresp_raw 2: 56\u001b[0m\n",
      "\u001b[32m2025-02-14 13:15:52.178\u001b[0m | \u001b[34m\u001b[1mDEBUG   \u001b[0m | \u001b[36mgilson\u001b[0m:\u001b[36mbCommand\u001b[0m:\u001b[36m230\u001b[0m - \u001b[34m\u001b[1mWrites buffered Command character b'5' to the device GX-241 II.\u001b[0m\n",
      "\u001b[32m2025-02-14 13:15:52.180\u001b[0m | \u001b[34m\u001b[1mDEBUG   \u001b[0m | \u001b[36mgilson\u001b[0m:\u001b[36mbCommand\u001b[0m:\u001b[36m232\u001b[0m - \u001b[34m\u001b[1mStarts reading character from the device GX-241 II.\u001b[0m\n",
      "\u001b[32m2025-02-14 13:15:52.292\u001b[0m | \u001b[34m\u001b[1mDEBUG   \u001b[0m | \u001b[36mgilson\u001b[0m:\u001b[36mbCommand\u001b[0m:\u001b[36m234\u001b[0m - \u001b[34m\u001b[1mgot back b'5' from the device GX-241 II.\u001b[0m\n",
      "\u001b[32m2025-02-14 13:15:52.294\u001b[0m | \u001b[34m\u001b[1mDEBUG   \u001b[0m | \u001b[36mgilson\u001b[0m:\u001b[36mbCommand\u001b[0m:\u001b[36m238\u001b[0m - \u001b[34m\u001b[1mresp_raw: b'5'\u001b[0m\n",
      "\u001b[32m2025-02-14 13:15:52.296\u001b[0m | \u001b[34m\u001b[1mDEBUG   \u001b[0m | \u001b[36mgilson\u001b[0m:\u001b[36mbCommand\u001b[0m:\u001b[36m256\u001b[0m - \u001b[34m\u001b[1mresp_raw 2: 53\u001b[0m\n",
      "\u001b[32m2025-02-14 13:15:52.296\u001b[0m | \u001b[34m\u001b[1mDEBUG   \u001b[0m | \u001b[36mgilson\u001b[0m:\u001b[36mbCommand\u001b[0m:\u001b[36m230\u001b[0m - \u001b[34m\u001b[1mWrites buffered Command character b'\\r' to the device GX-241 II.\u001b[0m\n",
      "\u001b[32m2025-02-14 13:15:52.300\u001b[0m | \u001b[34m\u001b[1mDEBUG   \u001b[0m | \u001b[36mgilson\u001b[0m:\u001b[36mbCommand\u001b[0m:\u001b[36m232\u001b[0m - \u001b[34m\u001b[1mStarts reading character from the device GX-241 II.\u001b[0m\n",
      "\u001b[32m2025-02-14 13:15:52.409\u001b[0m | \u001b[34m\u001b[1mDEBUG   \u001b[0m | \u001b[36mgilson\u001b[0m:\u001b[36mbCommand\u001b[0m:\u001b[36m234\u001b[0m - \u001b[34m\u001b[1mgot back b'\\r' from the device GX-241 II.\u001b[0m\n",
      "\u001b[32m2025-02-14 13:15:52.411\u001b[0m | \u001b[34m\u001b[1mDEBUG   \u001b[0m | \u001b[36mgilson\u001b[0m:\u001b[36mbCommand\u001b[0m:\u001b[36m238\u001b[0m - \u001b[34m\u001b[1mresp_raw: b'\\r'\u001b[0m\n",
      "\u001b[32m2025-02-14 13:15:52.413\u001b[0m | \u001b[34m\u001b[1mDEBUG   \u001b[0m | \u001b[36mgilson\u001b[0m:\u001b[36mbCommand\u001b[0m:\u001b[36m256\u001b[0m - \u001b[34m\u001b[1mresp_raw 2: 13\u001b[0m\n",
      "\u001b[32m2025-02-14 13:15:52.416\u001b[0m | \u001b[34m\u001b[1mDEBUG   \u001b[0m | \u001b[36mgilson\u001b[0m:\u001b[36mbCommand\u001b[0m:\u001b[36m271\u001b[0m - \u001b[34m\u001b[1mBuffered command complete.\u001b[0m\n",
      "\u001b[32m2025-02-14 13:15:52.417\u001b[0m | \u001b[34m\u001b[1mDEBUG   \u001b[0m | \u001b[36mgilson\u001b[0m:\u001b[36mbCommand\u001b[0m:\u001b[36m272\u001b[0m - \u001b[34m\u001b[1mReceived bytearray(b'\\nZ85\\r') from device.\u001b[0m\n",
      "\u001b[32m2025-02-14 13:15:52.418\u001b[0m | \u001b[1mINFO    \u001b[0m | \u001b[36mgilson\u001b[0m:\u001b[36mbCommand\u001b[0m:\u001b[36m273\u001b[0m - \u001b[1mGSIOC >>> bytearray(b'\\nZ85\\r')\u001b[0m\n"
     ]
    },
    {
     "name": "stdout",
     "output_type": "stream",
     "text": [
      "T*\n",
      ":\n",
      "\n",
      ":\n",
      "\n",
      ":\n",
      "\n",
      ":\n"
     ]
    },
    {
     "name": "stderr",
     "output_type": "stream",
     "text": [
      "\u001b[32m2025-02-14 13:15:57.489\u001b[0m | \u001b[34m\u001b[1mDEBUG   \u001b[0m | \u001b[36mgilson\u001b[0m:\u001b[36mbCommand\u001b[0m:\u001b[36m182\u001b[0m - \u001b[34m\u001b[1mSending buffered command \"Z120\" to device.\u001b[0m\n",
      "\u001b[32m2025-02-14 13:15:57.489\u001b[0m | \u001b[1mINFO    \u001b[0m | \u001b[36mgilson\u001b[0m:\u001b[36mbCommand\u001b[0m:\u001b[36m186\u001b[0m - \u001b[1mGSIOC <<< Z120\u001b[0m\n",
      "\u001b[32m2025-02-14 13:15:57.596\u001b[0m | \u001b[34m\u001b[1mDEBUG   \u001b[0m | \u001b[36mgilson\u001b[0m:\u001b[36mbCommand\u001b[0m:\u001b[36m205\u001b[0m - \u001b[34m\u001b[1mready signal: b'\\n'\u001b[0m\n",
      "\u001b[32m2025-02-14 13:15:57.596\u001b[0m | \u001b[34m\u001b[1mDEBUG   \u001b[0m | \u001b[36mgilson\u001b[0m:\u001b[36mbCommand\u001b[0m:\u001b[36m214\u001b[0m - \u001b[34m\u001b[1mStarting to send buffered command.\u001b[0m\n",
      "\u001b[32m2025-02-14 13:15:57.596\u001b[0m | \u001b[34m\u001b[1mDEBUG   \u001b[0m | \u001b[36mgilson\u001b[0m:\u001b[36mbCommand\u001b[0m:\u001b[36m225\u001b[0m - \u001b[34m\u001b[1m10\u001b[0m\n",
      "\u001b[32m2025-02-14 13:15:57.596\u001b[0m | \u001b[34m\u001b[1mDEBUG   \u001b[0m | \u001b[36mgilson\u001b[0m:\u001b[36mbCommand\u001b[0m:\u001b[36m230\u001b[0m - \u001b[34m\u001b[1mWrites buffered Command character b'Z' to the device GX-241 II.\u001b[0m\n",
      "\u001b[32m2025-02-14 13:15:57.607\u001b[0m | \u001b[34m\u001b[1mDEBUG   \u001b[0m | \u001b[36mgilson\u001b[0m:\u001b[36mbCommand\u001b[0m:\u001b[36m232\u001b[0m - \u001b[34m\u001b[1mStarts reading character from the device GX-241 II.\u001b[0m\n"
     ]
    },
    {
     "name": "stdout",
     "output_type": "stream",
     "text": [
      "\n",
      "<\n"
     ]
    },
    {
     "name": "stderr",
     "output_type": "stream",
     "text": [
      "\u001b[32m2025-02-14 13:15:57.713\u001b[0m | \u001b[34m\u001b[1mDEBUG   \u001b[0m | \u001b[36mgilson\u001b[0m:\u001b[36mbCommand\u001b[0m:\u001b[36m234\u001b[0m - \u001b[34m\u001b[1mgot back b'Z' from the device GX-241 II.\u001b[0m\n",
      "\u001b[32m2025-02-14 13:15:57.713\u001b[0m | \u001b[34m\u001b[1mDEBUG   \u001b[0m | \u001b[36mgilson\u001b[0m:\u001b[36mbCommand\u001b[0m:\u001b[36m238\u001b[0m - \u001b[34m\u001b[1mresp_raw: b'Z'\u001b[0m\n",
      "\u001b[32m2025-02-14 13:15:57.713\u001b[0m | \u001b[34m\u001b[1mDEBUG   \u001b[0m | \u001b[36mgilson\u001b[0m:\u001b[36mbCommand\u001b[0m:\u001b[36m256\u001b[0m - \u001b[34m\u001b[1mresp_raw 2: 90\u001b[0m\n",
      "\u001b[32m2025-02-14 13:15:57.718\u001b[0m | \u001b[34m\u001b[1mDEBUG   \u001b[0m | \u001b[36mgilson\u001b[0m:\u001b[36mbCommand\u001b[0m:\u001b[36m230\u001b[0m - \u001b[34m\u001b[1mWrites buffered Command character b'1' to the device GX-241 II.\u001b[0m\n",
      "\u001b[32m2025-02-14 13:15:57.720\u001b[0m | \u001b[34m\u001b[1mDEBUG   \u001b[0m | \u001b[36mgilson\u001b[0m:\u001b[36mbCommand\u001b[0m:\u001b[36m232\u001b[0m - \u001b[34m\u001b[1mStarts reading character from the device GX-241 II.\u001b[0m\n",
      "\u001b[32m2025-02-14 13:15:57.830\u001b[0m | \u001b[34m\u001b[1mDEBUG   \u001b[0m | \u001b[36mgilson\u001b[0m:\u001b[36mbCommand\u001b[0m:\u001b[36m234\u001b[0m - \u001b[34m\u001b[1mgot back b'1' from the device GX-241 II.\u001b[0m\n",
      "\u001b[32m2025-02-14 13:15:57.830\u001b[0m | \u001b[34m\u001b[1mDEBUG   \u001b[0m | \u001b[36mgilson\u001b[0m:\u001b[36mbCommand\u001b[0m:\u001b[36m238\u001b[0m - \u001b[34m\u001b[1mresp_raw: b'1'\u001b[0m\n",
      "\u001b[32m2025-02-14 13:15:57.830\u001b[0m | \u001b[34m\u001b[1mDEBUG   \u001b[0m | \u001b[36mgilson\u001b[0m:\u001b[36mbCommand\u001b[0m:\u001b[36m256\u001b[0m - \u001b[34m\u001b[1mresp_raw 2: 49\u001b[0m\n",
      "\u001b[32m2025-02-14 13:15:57.836\u001b[0m | \u001b[34m\u001b[1mDEBUG   \u001b[0m | \u001b[36mgilson\u001b[0m:\u001b[36mbCommand\u001b[0m:\u001b[36m230\u001b[0m - \u001b[34m\u001b[1mWrites buffered Command character b'2' to the device GX-241 II.\u001b[0m\n",
      "\u001b[32m2025-02-14 13:15:57.838\u001b[0m | \u001b[34m\u001b[1mDEBUG   \u001b[0m | \u001b[36mgilson\u001b[0m:\u001b[36mbCommand\u001b[0m:\u001b[36m232\u001b[0m - \u001b[34m\u001b[1mStarts reading character from the device GX-241 II.\u001b[0m\n",
      "\u001b[32m2025-02-14 13:15:57.946\u001b[0m | \u001b[34m\u001b[1mDEBUG   \u001b[0m | \u001b[36mgilson\u001b[0m:\u001b[36mbCommand\u001b[0m:\u001b[36m234\u001b[0m - \u001b[34m\u001b[1mgot back b'2' from the device GX-241 II.\u001b[0m\n",
      "\u001b[32m2025-02-14 13:15:57.946\u001b[0m | \u001b[34m\u001b[1mDEBUG   \u001b[0m | \u001b[36mgilson\u001b[0m:\u001b[36mbCommand\u001b[0m:\u001b[36m238\u001b[0m - \u001b[34m\u001b[1mresp_raw: b'2'\u001b[0m\n",
      "\u001b[32m2025-02-14 13:15:57.946\u001b[0m | \u001b[34m\u001b[1mDEBUG   \u001b[0m | \u001b[36mgilson\u001b[0m:\u001b[36mbCommand\u001b[0m:\u001b[36m256\u001b[0m - \u001b[34m\u001b[1mresp_raw 2: 50\u001b[0m\n",
      "\u001b[32m2025-02-14 13:15:57.946\u001b[0m | \u001b[34m\u001b[1mDEBUG   \u001b[0m | \u001b[36mgilson\u001b[0m:\u001b[36mbCommand\u001b[0m:\u001b[36m230\u001b[0m - \u001b[34m\u001b[1mWrites buffered Command character b'0' to the device GX-241 II.\u001b[0m\n",
      "\u001b[32m2025-02-14 13:15:57.955\u001b[0m | \u001b[34m\u001b[1mDEBUG   \u001b[0m | \u001b[36mgilson\u001b[0m:\u001b[36mbCommand\u001b[0m:\u001b[36m232\u001b[0m - \u001b[34m\u001b[1mStarts reading character from the device GX-241 II.\u001b[0m\n",
      "\u001b[32m2025-02-14 13:15:58.063\u001b[0m | \u001b[34m\u001b[1mDEBUG   \u001b[0m | \u001b[36mgilson\u001b[0m:\u001b[36mbCommand\u001b[0m:\u001b[36m234\u001b[0m - \u001b[34m\u001b[1mgot back b'0' from the device GX-241 II.\u001b[0m\n",
      "\u001b[32m2025-02-14 13:15:58.063\u001b[0m | \u001b[34m\u001b[1mDEBUG   \u001b[0m | \u001b[36mgilson\u001b[0m:\u001b[36mbCommand\u001b[0m:\u001b[36m238\u001b[0m - \u001b[34m\u001b[1mresp_raw: b'0'\u001b[0m\n",
      "\u001b[32m2025-02-14 13:15:58.063\u001b[0m | \u001b[34m\u001b[1mDEBUG   \u001b[0m | \u001b[36mgilson\u001b[0m:\u001b[36mbCommand\u001b[0m:\u001b[36m256\u001b[0m - \u001b[34m\u001b[1mresp_raw 2: 48\u001b[0m\n",
      "\u001b[32m2025-02-14 13:15:58.063\u001b[0m | \u001b[34m\u001b[1mDEBUG   \u001b[0m | \u001b[36mgilson\u001b[0m:\u001b[36mbCommand\u001b[0m:\u001b[36m230\u001b[0m - \u001b[34m\u001b[1mWrites buffered Command character b'\\r' to the device GX-241 II.\u001b[0m\n",
      "\u001b[32m2025-02-14 13:15:58.068\u001b[0m | \u001b[34m\u001b[1mDEBUG   \u001b[0m | \u001b[36mgilson\u001b[0m:\u001b[36mbCommand\u001b[0m:\u001b[36m232\u001b[0m - \u001b[34m\u001b[1mStarts reading character from the device GX-241 II.\u001b[0m\n",
      "\u001b[32m2025-02-14 13:15:58.180\u001b[0m | \u001b[34m\u001b[1mDEBUG   \u001b[0m | \u001b[36mgilson\u001b[0m:\u001b[36mbCommand\u001b[0m:\u001b[36m234\u001b[0m - \u001b[34m\u001b[1mgot back b'\\r' from the device GX-241 II.\u001b[0m\n",
      "\u001b[32m2025-02-14 13:15:58.180\u001b[0m | \u001b[34m\u001b[1mDEBUG   \u001b[0m | \u001b[36mgilson\u001b[0m:\u001b[36mbCommand\u001b[0m:\u001b[36m238\u001b[0m - \u001b[34m\u001b[1mresp_raw: b'\\r'\u001b[0m\n",
      "\u001b[32m2025-02-14 13:15:58.180\u001b[0m | \u001b[34m\u001b[1mDEBUG   \u001b[0m | \u001b[36mgilson\u001b[0m:\u001b[36mbCommand\u001b[0m:\u001b[36m256\u001b[0m - \u001b[34m\u001b[1mresp_raw 2: 13\u001b[0m\n",
      "\u001b[32m2025-02-14 13:15:58.180\u001b[0m | \u001b[34m\u001b[1mDEBUG   \u001b[0m | \u001b[36mgilson\u001b[0m:\u001b[36mbCommand\u001b[0m:\u001b[36m271\u001b[0m - \u001b[34m\u001b[1mBuffered command complete.\u001b[0m\n",
      "\u001b[32m2025-02-14 13:15:58.182\u001b[0m | \u001b[34m\u001b[1mDEBUG   \u001b[0m | \u001b[36mgilson\u001b[0m:\u001b[36mbCommand\u001b[0m:\u001b[36m272\u001b[0m - \u001b[34m\u001b[1mReceived bytearray(b'\\nZ120\\r') from device.\u001b[0m\n",
      "\u001b[32m2025-02-14 13:15:58.182\u001b[0m | \u001b[1mINFO    \u001b[0m | \u001b[36mgilson\u001b[0m:\u001b[36mbCommand\u001b[0m:\u001b[36m273\u001b[0m - \u001b[1mGSIOC >>> bytearray(b'\\nZ120\\r')\u001b[0m\n",
      "\u001b[32m2025-02-14 13:15:58.183\u001b[0m | \u001b[34m\u001b[1mDEBUG   \u001b[0m | \u001b[36mgilson\u001b[0m:\u001b[36mbCommand\u001b[0m:\u001b[36m182\u001b[0m - \u001b[34m\u001b[1mSending buffered command \"W04\" to device.\u001b[0m\n",
      "\u001b[32m2025-02-14 13:15:58.183\u001b[0m | \u001b[1mINFO    \u001b[0m | \u001b[36mgilson\u001b[0m:\u001b[36mbCommand\u001b[0m:\u001b[36m186\u001b[0m - \u001b[1mGSIOC <<< W04\u001b[0m\n",
      "\u001b[32m2025-02-14 13:15:58.298\u001b[0m | \u001b[34m\u001b[1mDEBUG   \u001b[0m | \u001b[36mgilson\u001b[0m:\u001b[36mbCommand\u001b[0m:\u001b[36m205\u001b[0m - \u001b[34m\u001b[1mready signal: b'\\n'\u001b[0m\n",
      "\u001b[32m2025-02-14 13:15:58.298\u001b[0m | \u001b[34m\u001b[1mDEBUG   \u001b[0m | \u001b[36mgilson\u001b[0m:\u001b[36mbCommand\u001b[0m:\u001b[36m214\u001b[0m - \u001b[34m\u001b[1mStarting to send buffered command.\u001b[0m\n",
      "\u001b[32m2025-02-14 13:15:58.298\u001b[0m | \u001b[34m\u001b[1mDEBUG   \u001b[0m | \u001b[36mgilson\u001b[0m:\u001b[36mbCommand\u001b[0m:\u001b[36m225\u001b[0m - \u001b[34m\u001b[1m10\u001b[0m\n",
      "\u001b[32m2025-02-14 13:15:58.298\u001b[0m | \u001b[34m\u001b[1mDEBUG   \u001b[0m | \u001b[36mgilson\u001b[0m:\u001b[36mbCommand\u001b[0m:\u001b[36m230\u001b[0m - \u001b[34m\u001b[1mWrites buffered Command character b'W' to the device GX-241 II.\u001b[0m\n",
      "\u001b[32m2025-02-14 13:15:58.301\u001b[0m | \u001b[34m\u001b[1mDEBUG   \u001b[0m | \u001b[36mgilson\u001b[0m:\u001b[36mbCommand\u001b[0m:\u001b[36m232\u001b[0m - \u001b[34m\u001b[1mStarts reading character from the device GX-241 II.\u001b[0m\n"
     ]
    },
    {
     "name": "stdout",
     "output_type": "stream",
     "text": [
      "['X44.5/39.5']\n"
     ]
    },
    {
     "name": "stderr",
     "output_type": "stream",
     "text": [
      "\u001b[32m2025-02-14 13:15:58.416\u001b[0m | \u001b[34m\u001b[1mDEBUG   \u001b[0m | \u001b[36mgilson\u001b[0m:\u001b[36mbCommand\u001b[0m:\u001b[36m234\u001b[0m - \u001b[34m\u001b[1mgot back b'W' from the device GX-241 II.\u001b[0m\n",
      "\u001b[32m2025-02-14 13:15:58.417\u001b[0m | \u001b[34m\u001b[1mDEBUG   \u001b[0m | \u001b[36mgilson\u001b[0m:\u001b[36mbCommand\u001b[0m:\u001b[36m238\u001b[0m - \u001b[34m\u001b[1mresp_raw: b'W'\u001b[0m\n",
      "\u001b[32m2025-02-14 13:15:58.418\u001b[0m | \u001b[34m\u001b[1mDEBUG   \u001b[0m | \u001b[36mgilson\u001b[0m:\u001b[36mbCommand\u001b[0m:\u001b[36m256\u001b[0m - \u001b[34m\u001b[1mresp_raw 2: 87\u001b[0m\n",
      "\u001b[32m2025-02-14 13:15:58.418\u001b[0m | \u001b[34m\u001b[1mDEBUG   \u001b[0m | \u001b[36mgilson\u001b[0m:\u001b[36mbCommand\u001b[0m:\u001b[36m230\u001b[0m - \u001b[34m\u001b[1mWrites buffered Command character b'0' to the device GX-241 II.\u001b[0m\n",
      "\u001b[32m2025-02-14 13:15:58.420\u001b[0m | \u001b[34m\u001b[1mDEBUG   \u001b[0m | \u001b[36mgilson\u001b[0m:\u001b[36mbCommand\u001b[0m:\u001b[36m232\u001b[0m - \u001b[34m\u001b[1mStarts reading character from the device GX-241 II.\u001b[0m\n",
      "\u001b[32m2025-02-14 13:15:58.530\u001b[0m | \u001b[34m\u001b[1mDEBUG   \u001b[0m | \u001b[36mgilson\u001b[0m:\u001b[36mbCommand\u001b[0m:\u001b[36m234\u001b[0m - \u001b[34m\u001b[1mgot back b'0' from the device GX-241 II.\u001b[0m\n",
      "\u001b[32m2025-02-14 13:15:58.530\u001b[0m | \u001b[34m\u001b[1mDEBUG   \u001b[0m | \u001b[36mgilson\u001b[0m:\u001b[36mbCommand\u001b[0m:\u001b[36m238\u001b[0m - \u001b[34m\u001b[1mresp_raw: b'0'\u001b[0m\n",
      "\u001b[32m2025-02-14 13:15:58.530\u001b[0m | \u001b[34m\u001b[1mDEBUG   \u001b[0m | \u001b[36mgilson\u001b[0m:\u001b[36mbCommand\u001b[0m:\u001b[36m256\u001b[0m - \u001b[34m\u001b[1mresp_raw 2: 48\u001b[0m\n",
      "\u001b[32m2025-02-14 13:15:58.530\u001b[0m | \u001b[34m\u001b[1mDEBUG   \u001b[0m | \u001b[36mgilson\u001b[0m:\u001b[36mbCommand\u001b[0m:\u001b[36m230\u001b[0m - \u001b[34m\u001b[1mWrites buffered Command character b'4' to the device GX-241 II.\u001b[0m\n",
      "\u001b[32m2025-02-14 13:15:58.534\u001b[0m | \u001b[34m\u001b[1mDEBUG   \u001b[0m | \u001b[36mgilson\u001b[0m:\u001b[36mbCommand\u001b[0m:\u001b[36m232\u001b[0m - \u001b[34m\u001b[1mStarts reading character from the device GX-241 II.\u001b[0m\n",
      "\u001b[32m2025-02-14 13:15:58.647\u001b[0m | \u001b[34m\u001b[1mDEBUG   \u001b[0m | \u001b[36mgilson\u001b[0m:\u001b[36mbCommand\u001b[0m:\u001b[36m234\u001b[0m - \u001b[34m\u001b[1mgot back b'4' from the device GX-241 II.\u001b[0m\n",
      "\u001b[32m2025-02-14 13:15:58.647\u001b[0m | \u001b[34m\u001b[1mDEBUG   \u001b[0m | \u001b[36mgilson\u001b[0m:\u001b[36mbCommand\u001b[0m:\u001b[36m238\u001b[0m - \u001b[34m\u001b[1mresp_raw: b'4'\u001b[0m\n",
      "\u001b[32m2025-02-14 13:15:58.647\u001b[0m | \u001b[34m\u001b[1mDEBUG   \u001b[0m | \u001b[36mgilson\u001b[0m:\u001b[36mbCommand\u001b[0m:\u001b[36m256\u001b[0m - \u001b[34m\u001b[1mresp_raw 2: 52\u001b[0m\n",
      "\u001b[32m2025-02-14 13:15:58.647\u001b[0m | \u001b[34m\u001b[1mDEBUG   \u001b[0m | \u001b[36mgilson\u001b[0m:\u001b[36mbCommand\u001b[0m:\u001b[36m230\u001b[0m - \u001b[34m\u001b[1mWrites buffered Command character b'\\r' to the device GX-241 II.\u001b[0m\n",
      "\u001b[32m2025-02-14 13:15:58.652\u001b[0m | \u001b[34m\u001b[1mDEBUG   \u001b[0m | \u001b[36mgilson\u001b[0m:\u001b[36mbCommand\u001b[0m:\u001b[36m232\u001b[0m - \u001b[34m\u001b[1mStarts reading character from the device GX-241 II.\u001b[0m\n",
      "\u001b[32m2025-02-14 13:15:58.765\u001b[0m | \u001b[34m\u001b[1mDEBUG   \u001b[0m | \u001b[36mgilson\u001b[0m:\u001b[36mbCommand\u001b[0m:\u001b[36m234\u001b[0m - \u001b[34m\u001b[1mgot back b'\\r' from the device GX-241 II.\u001b[0m\n",
      "\u001b[32m2025-02-14 13:15:58.765\u001b[0m | \u001b[34m\u001b[1mDEBUG   \u001b[0m | \u001b[36mgilson\u001b[0m:\u001b[36mbCommand\u001b[0m:\u001b[36m238\u001b[0m - \u001b[34m\u001b[1mresp_raw: b'\\r'\u001b[0m\n",
      "\u001b[32m2025-02-14 13:15:58.765\u001b[0m | \u001b[34m\u001b[1mDEBUG   \u001b[0m | \u001b[36mgilson\u001b[0m:\u001b[36mbCommand\u001b[0m:\u001b[36m256\u001b[0m - \u001b[34m\u001b[1mresp_raw 2: 13\u001b[0m\n",
      "\u001b[32m2025-02-14 13:15:58.765\u001b[0m | \u001b[34m\u001b[1mDEBUG   \u001b[0m | \u001b[36mgilson\u001b[0m:\u001b[36mbCommand\u001b[0m:\u001b[36m271\u001b[0m - \u001b[34m\u001b[1mBuffered command complete.\u001b[0m\n",
      "\u001b[32m2025-02-14 13:15:58.770\u001b[0m | \u001b[34m\u001b[1mDEBUG   \u001b[0m | \u001b[36mgilson\u001b[0m:\u001b[36mbCommand\u001b[0m:\u001b[36m272\u001b[0m - \u001b[34m\u001b[1mReceived bytearray(b'\\nW04\\r') from device.\u001b[0m\n",
      "\u001b[32m2025-02-14 13:15:58.771\u001b[0m | \u001b[1mINFO    \u001b[0m | \u001b[36mgilson\u001b[0m:\u001b[36mbCommand\u001b[0m:\u001b[36m273\u001b[0m - \u001b[1mGSIOC >>> bytearray(b'\\nW04\\r')\u001b[0m\n",
      "\u001b[32m2025-02-14 13:15:58.772\u001b[0m | \u001b[34m\u001b[1mDEBUG   \u001b[0m | \u001b[36mgilson\u001b[0m:\u001b[36mbCommand\u001b[0m:\u001b[36m182\u001b[0m - \u001b[34m\u001b[1mSending buffered command \"X63.0/39.5\" to device.\u001b[0m\n",
      "\u001b[32m2025-02-14 13:15:58.773\u001b[0m | \u001b[1mINFO    \u001b[0m | \u001b[36mgilson\u001b[0m:\u001b[36mbCommand\u001b[0m:\u001b[36m186\u001b[0m - \u001b[1mGSIOC <<< X63.0/39.5\u001b[0m\n",
      "\u001b[32m2025-02-14 13:15:58.882\u001b[0m | \u001b[34m\u001b[1mDEBUG   \u001b[0m | \u001b[36mgilson\u001b[0m:\u001b[36mbCommand\u001b[0m:\u001b[36m205\u001b[0m - \u001b[34m\u001b[1mready signal: b'\\n'\u001b[0m\n",
      "\u001b[32m2025-02-14 13:15:58.882\u001b[0m | \u001b[34m\u001b[1mDEBUG   \u001b[0m | \u001b[36mgilson\u001b[0m:\u001b[36mbCommand\u001b[0m:\u001b[36m214\u001b[0m - \u001b[34m\u001b[1mStarting to send buffered command.\u001b[0m\n",
      "\u001b[32m2025-02-14 13:15:58.882\u001b[0m | \u001b[34m\u001b[1mDEBUG   \u001b[0m | \u001b[36mgilson\u001b[0m:\u001b[36mbCommand\u001b[0m:\u001b[36m225\u001b[0m - \u001b[34m\u001b[1m10\u001b[0m\n",
      "\u001b[32m2025-02-14 13:15:58.882\u001b[0m | \u001b[34m\u001b[1mDEBUG   \u001b[0m | \u001b[36mgilson\u001b[0m:\u001b[36mbCommand\u001b[0m:\u001b[36m230\u001b[0m - \u001b[34m\u001b[1mWrites buffered Command character b'X' to the device GX-241 II.\u001b[0m\n",
      "\u001b[32m2025-02-14 13:15:58.884\u001b[0m | \u001b[34m\u001b[1mDEBUG   \u001b[0m | \u001b[36mgilson\u001b[0m:\u001b[36mbCommand\u001b[0m:\u001b[36m232\u001b[0m - \u001b[34m\u001b[1mStarts reading character from the device GX-241 II.\u001b[0m\n",
      "\u001b[32m2025-02-14 13:15:58.997\u001b[0m | \u001b[34m\u001b[1mDEBUG   \u001b[0m | \u001b[36mgilson\u001b[0m:\u001b[36mbCommand\u001b[0m:\u001b[36m234\u001b[0m - \u001b[34m\u001b[1mgot back b'X' from the device GX-241 II.\u001b[0m\n",
      "\u001b[32m2025-02-14 13:15:58.997\u001b[0m | \u001b[34m\u001b[1mDEBUG   \u001b[0m | \u001b[36mgilson\u001b[0m:\u001b[36mbCommand\u001b[0m:\u001b[36m238\u001b[0m - \u001b[34m\u001b[1mresp_raw: b'X'\u001b[0m\n",
      "\u001b[32m2025-02-14 13:15:58.997\u001b[0m | \u001b[34m\u001b[1mDEBUG   \u001b[0m | \u001b[36mgilson\u001b[0m:\u001b[36mbCommand\u001b[0m:\u001b[36m256\u001b[0m - \u001b[34m\u001b[1mresp_raw 2: 88\u001b[0m\n",
      "\u001b[32m2025-02-14 13:15:58.997\u001b[0m | \u001b[34m\u001b[1mDEBUG   \u001b[0m | \u001b[36mgilson\u001b[0m:\u001b[36mbCommand\u001b[0m:\u001b[36m230\u001b[0m - \u001b[34m\u001b[1mWrites buffered Command character b'6' to the device GX-241 II.\u001b[0m\n",
      "\u001b[32m2025-02-14 13:15:59.003\u001b[0m | \u001b[34m\u001b[1mDEBUG   \u001b[0m | \u001b[36mgilson\u001b[0m:\u001b[36mbCommand\u001b[0m:\u001b[36m232\u001b[0m - \u001b[34m\u001b[1mStarts reading character from the device GX-241 II.\u001b[0m\n",
      "\u001b[32m2025-02-14 13:15:59.116\u001b[0m | \u001b[34m\u001b[1mDEBUG   \u001b[0m | \u001b[36mgilson\u001b[0m:\u001b[36mbCommand\u001b[0m:\u001b[36m234\u001b[0m - \u001b[34m\u001b[1mgot back b'6' from the device GX-241 II.\u001b[0m\n",
      "\u001b[32m2025-02-14 13:15:59.116\u001b[0m | \u001b[34m\u001b[1mDEBUG   \u001b[0m | \u001b[36mgilson\u001b[0m:\u001b[36mbCommand\u001b[0m:\u001b[36m238\u001b[0m - \u001b[34m\u001b[1mresp_raw: b'6'\u001b[0m\n",
      "\u001b[32m2025-02-14 13:15:59.116\u001b[0m | \u001b[34m\u001b[1mDEBUG   \u001b[0m | \u001b[36mgilson\u001b[0m:\u001b[36mbCommand\u001b[0m:\u001b[36m256\u001b[0m - \u001b[34m\u001b[1mresp_raw 2: 54\u001b[0m\n",
      "\u001b[32m2025-02-14 13:15:59.116\u001b[0m | \u001b[34m\u001b[1mDEBUG   \u001b[0m | \u001b[36mgilson\u001b[0m:\u001b[36mbCommand\u001b[0m:\u001b[36m230\u001b[0m - \u001b[34m\u001b[1mWrites buffered Command character b'3' to the device GX-241 II.\u001b[0m\n",
      "\u001b[32m2025-02-14 13:15:59.120\u001b[0m | \u001b[34m\u001b[1mDEBUG   \u001b[0m | \u001b[36mgilson\u001b[0m:\u001b[36mbCommand\u001b[0m:\u001b[36m232\u001b[0m - \u001b[34m\u001b[1mStarts reading character from the device GX-241 II.\u001b[0m\n",
      "\u001b[32m2025-02-14 13:15:59.232\u001b[0m | \u001b[34m\u001b[1mDEBUG   \u001b[0m | \u001b[36mgilson\u001b[0m:\u001b[36mbCommand\u001b[0m:\u001b[36m234\u001b[0m - \u001b[34m\u001b[1mgot back b'3' from the device GX-241 II.\u001b[0m\n",
      "\u001b[32m2025-02-14 13:15:59.232\u001b[0m | \u001b[34m\u001b[1mDEBUG   \u001b[0m | \u001b[36mgilson\u001b[0m:\u001b[36mbCommand\u001b[0m:\u001b[36m238\u001b[0m - \u001b[34m\u001b[1mresp_raw: b'3'\u001b[0m\n",
      "\u001b[32m2025-02-14 13:15:59.232\u001b[0m | \u001b[34m\u001b[1mDEBUG   \u001b[0m | \u001b[36mgilson\u001b[0m:\u001b[36mbCommand\u001b[0m:\u001b[36m256\u001b[0m - \u001b[34m\u001b[1mresp_raw 2: 51\u001b[0m\n",
      "\u001b[32m2025-02-14 13:15:59.235\u001b[0m | \u001b[34m\u001b[1mDEBUG   \u001b[0m | \u001b[36mgilson\u001b[0m:\u001b[36mbCommand\u001b[0m:\u001b[36m230\u001b[0m - \u001b[34m\u001b[1mWrites buffered Command character b'.' to the device GX-241 II.\u001b[0m\n",
      "\u001b[32m2025-02-14 13:15:59.236\u001b[0m | \u001b[34m\u001b[1mDEBUG   \u001b[0m | \u001b[36mgilson\u001b[0m:\u001b[36mbCommand\u001b[0m:\u001b[36m232\u001b[0m - \u001b[34m\u001b[1mStarts reading character from the device GX-241 II.\u001b[0m\n",
      "\u001b[32m2025-02-14 13:15:59.350\u001b[0m | \u001b[34m\u001b[1mDEBUG   \u001b[0m | \u001b[36mgilson\u001b[0m:\u001b[36mbCommand\u001b[0m:\u001b[36m234\u001b[0m - \u001b[34m\u001b[1mgot back b'.' from the device GX-241 II.\u001b[0m\n",
      "\u001b[32m2025-02-14 13:15:59.350\u001b[0m | \u001b[34m\u001b[1mDEBUG   \u001b[0m | \u001b[36mgilson\u001b[0m:\u001b[36mbCommand\u001b[0m:\u001b[36m238\u001b[0m - \u001b[34m\u001b[1mresp_raw: b'.'\u001b[0m\n",
      "\u001b[32m2025-02-14 13:15:59.351\u001b[0m | \u001b[34m\u001b[1mDEBUG   \u001b[0m | \u001b[36mgilson\u001b[0m:\u001b[36mbCommand\u001b[0m:\u001b[36m256\u001b[0m - \u001b[34m\u001b[1mresp_raw 2: 46\u001b[0m\n",
      "\u001b[32m2025-02-14 13:15:59.352\u001b[0m | \u001b[34m\u001b[1mDEBUG   \u001b[0m | \u001b[36mgilson\u001b[0m:\u001b[36mbCommand\u001b[0m:\u001b[36m230\u001b[0m - \u001b[34m\u001b[1mWrites buffered Command character b'0' to the device GX-241 II.\u001b[0m\n",
      "\u001b[32m2025-02-14 13:15:59.352\u001b[0m | \u001b[34m\u001b[1mDEBUG   \u001b[0m | \u001b[36mgilson\u001b[0m:\u001b[36mbCommand\u001b[0m:\u001b[36m232\u001b[0m - \u001b[34m\u001b[1mStarts reading character from the device GX-241 II.\u001b[0m\n",
      "\u001b[32m2025-02-14 13:15:59.465\u001b[0m | \u001b[34m\u001b[1mDEBUG   \u001b[0m | \u001b[36mgilson\u001b[0m:\u001b[36mbCommand\u001b[0m:\u001b[36m234\u001b[0m - \u001b[34m\u001b[1mgot back b'0' from the device GX-241 II.\u001b[0m\n",
      "\u001b[32m2025-02-14 13:15:59.465\u001b[0m | \u001b[34m\u001b[1mDEBUG   \u001b[0m | \u001b[36mgilson\u001b[0m:\u001b[36mbCommand\u001b[0m:\u001b[36m238\u001b[0m - \u001b[34m\u001b[1mresp_raw: b'0'\u001b[0m\n",
      "\u001b[32m2025-02-14 13:15:59.465\u001b[0m | \u001b[34m\u001b[1mDEBUG   \u001b[0m | \u001b[36mgilson\u001b[0m:\u001b[36mbCommand\u001b[0m:\u001b[36m256\u001b[0m - \u001b[34m\u001b[1mresp_raw 2: 48\u001b[0m\n",
      "\u001b[32m2025-02-14 13:15:59.465\u001b[0m | \u001b[34m\u001b[1mDEBUG   \u001b[0m | \u001b[36mgilson\u001b[0m:\u001b[36mbCommand\u001b[0m:\u001b[36m230\u001b[0m - \u001b[34m\u001b[1mWrites buffered Command character b'/' to the device GX-241 II.\u001b[0m\n",
      "\u001b[32m2025-02-14 13:15:59.469\u001b[0m | \u001b[34m\u001b[1mDEBUG   \u001b[0m | \u001b[36mgilson\u001b[0m:\u001b[36mbCommand\u001b[0m:\u001b[36m232\u001b[0m - \u001b[34m\u001b[1mStarts reading character from the device GX-241 II.\u001b[0m\n",
      "\u001b[32m2025-02-14 13:15:59.582\u001b[0m | \u001b[34m\u001b[1mDEBUG   \u001b[0m | \u001b[36mgilson\u001b[0m:\u001b[36mbCommand\u001b[0m:\u001b[36m234\u001b[0m - \u001b[34m\u001b[1mgot back b'/' from the device GX-241 II.\u001b[0m\n",
      "\u001b[32m2025-02-14 13:15:59.582\u001b[0m | \u001b[34m\u001b[1mDEBUG   \u001b[0m | \u001b[36mgilson\u001b[0m:\u001b[36mbCommand\u001b[0m:\u001b[36m238\u001b[0m - \u001b[34m\u001b[1mresp_raw: b'/'\u001b[0m\n",
      "\u001b[32m2025-02-14 13:15:59.582\u001b[0m | \u001b[34m\u001b[1mDEBUG   \u001b[0m | \u001b[36mgilson\u001b[0m:\u001b[36mbCommand\u001b[0m:\u001b[36m256\u001b[0m - \u001b[34m\u001b[1mresp_raw 2: 47\u001b[0m\n",
      "\u001b[32m2025-02-14 13:15:59.584\u001b[0m | \u001b[34m\u001b[1mDEBUG   \u001b[0m | \u001b[36mgilson\u001b[0m:\u001b[36mbCommand\u001b[0m:\u001b[36m230\u001b[0m - \u001b[34m\u001b[1mWrites buffered Command character b'3' to the device GX-241 II.\u001b[0m\n",
      "\u001b[32m2025-02-14 13:15:59.585\u001b[0m | \u001b[34m\u001b[1mDEBUG   \u001b[0m | \u001b[36mgilson\u001b[0m:\u001b[36mbCommand\u001b[0m:\u001b[36m232\u001b[0m - \u001b[34m\u001b[1mStarts reading character from the device GX-241 II.\u001b[0m\n",
      "\u001b[32m2025-02-14 13:15:59.699\u001b[0m | \u001b[34m\u001b[1mDEBUG   \u001b[0m | \u001b[36mgilson\u001b[0m:\u001b[36mbCommand\u001b[0m:\u001b[36m234\u001b[0m - \u001b[34m\u001b[1mgot back b'3' from the device GX-241 II.\u001b[0m\n",
      "\u001b[32m2025-02-14 13:15:59.699\u001b[0m | \u001b[34m\u001b[1mDEBUG   \u001b[0m | \u001b[36mgilson\u001b[0m:\u001b[36mbCommand\u001b[0m:\u001b[36m238\u001b[0m - \u001b[34m\u001b[1mresp_raw: b'3'\u001b[0m\n",
      "\u001b[32m2025-02-14 13:15:59.699\u001b[0m | \u001b[34m\u001b[1mDEBUG   \u001b[0m | \u001b[36mgilson\u001b[0m:\u001b[36mbCommand\u001b[0m:\u001b[36m256\u001b[0m - \u001b[34m\u001b[1mresp_raw 2: 51\u001b[0m\n",
      "\u001b[32m2025-02-14 13:15:59.699\u001b[0m | \u001b[34m\u001b[1mDEBUG   \u001b[0m | \u001b[36mgilson\u001b[0m:\u001b[36mbCommand\u001b[0m:\u001b[36m230\u001b[0m - \u001b[34m\u001b[1mWrites buffered Command character b'9' to the device GX-241 II.\u001b[0m\n",
      "\u001b[32m2025-02-14 13:15:59.701\u001b[0m | \u001b[34m\u001b[1mDEBUG   \u001b[0m | \u001b[36mgilson\u001b[0m:\u001b[36mbCommand\u001b[0m:\u001b[36m232\u001b[0m - \u001b[34m\u001b[1mStarts reading character from the device GX-241 II.\u001b[0m\n",
      "\u001b[32m2025-02-14 13:15:59.816\u001b[0m | \u001b[34m\u001b[1mDEBUG   \u001b[0m | \u001b[36mgilson\u001b[0m:\u001b[36mbCommand\u001b[0m:\u001b[36m234\u001b[0m - \u001b[34m\u001b[1mgot back b'9' from the device GX-241 II.\u001b[0m\n",
      "\u001b[32m2025-02-14 13:15:59.816\u001b[0m | \u001b[34m\u001b[1mDEBUG   \u001b[0m | \u001b[36mgilson\u001b[0m:\u001b[36mbCommand\u001b[0m:\u001b[36m238\u001b[0m - \u001b[34m\u001b[1mresp_raw: b'9'\u001b[0m\n",
      "\u001b[32m2025-02-14 13:15:59.816\u001b[0m | \u001b[34m\u001b[1mDEBUG   \u001b[0m | \u001b[36mgilson\u001b[0m:\u001b[36mbCommand\u001b[0m:\u001b[36m256\u001b[0m - \u001b[34m\u001b[1mresp_raw 2: 57\u001b[0m\n",
      "\u001b[32m2025-02-14 13:15:59.816\u001b[0m | \u001b[34m\u001b[1mDEBUG   \u001b[0m | \u001b[36mgilson\u001b[0m:\u001b[36mbCommand\u001b[0m:\u001b[36m230\u001b[0m - \u001b[34m\u001b[1mWrites buffered Command character b'.' to the device GX-241 II.\u001b[0m\n",
      "\u001b[32m2025-02-14 13:15:59.820\u001b[0m | \u001b[34m\u001b[1mDEBUG   \u001b[0m | \u001b[36mgilson\u001b[0m:\u001b[36mbCommand\u001b[0m:\u001b[36m232\u001b[0m - \u001b[34m\u001b[1mStarts reading character from the device GX-241 II.\u001b[0m\n",
      "\u001b[32m2025-02-14 13:15:59.933\u001b[0m | \u001b[34m\u001b[1mDEBUG   \u001b[0m | \u001b[36mgilson\u001b[0m:\u001b[36mbCommand\u001b[0m:\u001b[36m234\u001b[0m - \u001b[34m\u001b[1mgot back b'.' from the device GX-241 II.\u001b[0m\n",
      "\u001b[32m2025-02-14 13:15:59.933\u001b[0m | \u001b[34m\u001b[1mDEBUG   \u001b[0m | \u001b[36mgilson\u001b[0m:\u001b[36mbCommand\u001b[0m:\u001b[36m238\u001b[0m - \u001b[34m\u001b[1mresp_raw: b'.'\u001b[0m\n",
      "\u001b[32m2025-02-14 13:15:59.933\u001b[0m | \u001b[34m\u001b[1mDEBUG   \u001b[0m | \u001b[36mgilson\u001b[0m:\u001b[36mbCommand\u001b[0m:\u001b[36m256\u001b[0m - \u001b[34m\u001b[1mresp_raw 2: 46\u001b[0m\n",
      "\u001b[32m2025-02-14 13:15:59.933\u001b[0m | \u001b[34m\u001b[1mDEBUG   \u001b[0m | \u001b[36mgilson\u001b[0m:\u001b[36mbCommand\u001b[0m:\u001b[36m230\u001b[0m - \u001b[34m\u001b[1mWrites buffered Command character b'5' to the device GX-241 II.\u001b[0m\n",
      "\u001b[32m2025-02-14 13:15:59.936\u001b[0m | \u001b[34m\u001b[1mDEBUG   \u001b[0m | \u001b[36mgilson\u001b[0m:\u001b[36mbCommand\u001b[0m:\u001b[36m232\u001b[0m - \u001b[34m\u001b[1mStarts reading character from the device GX-241 II.\u001b[0m\n",
      "\u001b[32m2025-02-14 13:16:00.051\u001b[0m | \u001b[34m\u001b[1mDEBUG   \u001b[0m | \u001b[36mgilson\u001b[0m:\u001b[36mbCommand\u001b[0m:\u001b[36m234\u001b[0m - \u001b[34m\u001b[1mgot back b'5' from the device GX-241 II.\u001b[0m\n",
      "\u001b[32m2025-02-14 13:16:00.051\u001b[0m | \u001b[34m\u001b[1mDEBUG   \u001b[0m | \u001b[36mgilson\u001b[0m:\u001b[36mbCommand\u001b[0m:\u001b[36m238\u001b[0m - \u001b[34m\u001b[1mresp_raw: b'5'\u001b[0m\n",
      "\u001b[32m2025-02-14 13:16:00.051\u001b[0m | \u001b[34m\u001b[1mDEBUG   \u001b[0m | \u001b[36mgilson\u001b[0m:\u001b[36mbCommand\u001b[0m:\u001b[36m256\u001b[0m - \u001b[34m\u001b[1mresp_raw 2: 53\u001b[0m\n",
      "\u001b[32m2025-02-14 13:16:00.051\u001b[0m | \u001b[34m\u001b[1mDEBUG   \u001b[0m | \u001b[36mgilson\u001b[0m:\u001b[36mbCommand\u001b[0m:\u001b[36m230\u001b[0m - \u001b[34m\u001b[1mWrites buffered Command character b'\\r' to the device GX-241 II.\u001b[0m\n",
      "\u001b[32m2025-02-14 13:16:00.053\u001b[0m | \u001b[34m\u001b[1mDEBUG   \u001b[0m | \u001b[36mgilson\u001b[0m:\u001b[36mbCommand\u001b[0m:\u001b[36m232\u001b[0m - \u001b[34m\u001b[1mStarts reading character from the device GX-241 II.\u001b[0m\n",
      "\u001b[32m2025-02-14 13:16:00.167\u001b[0m | \u001b[34m\u001b[1mDEBUG   \u001b[0m | \u001b[36mgilson\u001b[0m:\u001b[36mbCommand\u001b[0m:\u001b[36m234\u001b[0m - \u001b[34m\u001b[1mgot back b'\\r' from the device GX-241 II.\u001b[0m\n",
      "\u001b[32m2025-02-14 13:16:00.167\u001b[0m | \u001b[34m\u001b[1mDEBUG   \u001b[0m | \u001b[36mgilson\u001b[0m:\u001b[36mbCommand\u001b[0m:\u001b[36m238\u001b[0m - \u001b[34m\u001b[1mresp_raw: b'\\r'\u001b[0m\n",
      "\u001b[32m2025-02-14 13:16:00.167\u001b[0m | \u001b[34m\u001b[1mDEBUG   \u001b[0m | \u001b[36mgilson\u001b[0m:\u001b[36mbCommand\u001b[0m:\u001b[36m256\u001b[0m - \u001b[34m\u001b[1mresp_raw 2: 13\u001b[0m\n",
      "\u001b[32m2025-02-14 13:16:00.167\u001b[0m | \u001b[34m\u001b[1mDEBUG   \u001b[0m | \u001b[36mgilson\u001b[0m:\u001b[36mbCommand\u001b[0m:\u001b[36m271\u001b[0m - \u001b[34m\u001b[1mBuffered command complete.\u001b[0m\n",
      "\u001b[32m2025-02-14 13:16:00.176\u001b[0m | \u001b[34m\u001b[1mDEBUG   \u001b[0m | \u001b[36mgilson\u001b[0m:\u001b[36mbCommand\u001b[0m:\u001b[36m272\u001b[0m - \u001b[34m\u001b[1mReceived bytearray(b'\\nX63.0/39.5\\r') from device.\u001b[0m\n",
      "\u001b[32m2025-02-14 13:16:00.177\u001b[0m | \u001b[1mINFO    \u001b[0m | \u001b[36mgilson\u001b[0m:\u001b[36mbCommand\u001b[0m:\u001b[36m273\u001b[0m - \u001b[1mGSIOC >>> bytearray(b'\\nX63.0/39.5\\r')\u001b[0m\n",
      "\u001b[32m2025-02-14 13:16:00.180\u001b[0m | \u001b[34m\u001b[1mDEBUG   \u001b[0m | \u001b[36mgilson\u001b[0m:\u001b[36mbCommand\u001b[0m:\u001b[36m182\u001b[0m - \u001b[34m\u001b[1mSending buffered command \"Z85\" to device.\u001b[0m\n",
      "\u001b[32m2025-02-14 13:16:00.180\u001b[0m | \u001b[1mINFO    \u001b[0m | \u001b[36mgilson\u001b[0m:\u001b[36mbCommand\u001b[0m:\u001b[36m186\u001b[0m - \u001b[1mGSIOC <<< Z85\u001b[0m\n",
      "\u001b[32m2025-02-14 13:16:00.284\u001b[0m | \u001b[34m\u001b[1mDEBUG   \u001b[0m | \u001b[36mgilson\u001b[0m:\u001b[36mbCommand\u001b[0m:\u001b[36m205\u001b[0m - \u001b[34m\u001b[1mready signal: b'\\n'\u001b[0m\n",
      "\u001b[32m2025-02-14 13:16:00.286\u001b[0m | \u001b[34m\u001b[1mDEBUG   \u001b[0m | \u001b[36mgilson\u001b[0m:\u001b[36mbCommand\u001b[0m:\u001b[36m214\u001b[0m - \u001b[34m\u001b[1mStarting to send buffered command.\u001b[0m\n",
      "\u001b[32m2025-02-14 13:16:00.287\u001b[0m | \u001b[34m\u001b[1mDEBUG   \u001b[0m | \u001b[36mgilson\u001b[0m:\u001b[36mbCommand\u001b[0m:\u001b[36m225\u001b[0m - \u001b[34m\u001b[1m10\u001b[0m\n",
      "\u001b[32m2025-02-14 13:16:00.289\u001b[0m | \u001b[34m\u001b[1mDEBUG   \u001b[0m | \u001b[36mgilson\u001b[0m:\u001b[36mbCommand\u001b[0m:\u001b[36m230\u001b[0m - \u001b[34m\u001b[1mWrites buffered Command character b'Z' to the device GX-241 II.\u001b[0m\n",
      "\u001b[32m2025-02-14 13:16:00.290\u001b[0m | \u001b[34m\u001b[1mDEBUG   \u001b[0m | \u001b[36mgilson\u001b[0m:\u001b[36mbCommand\u001b[0m:\u001b[36m232\u001b[0m - \u001b[34m\u001b[1mStarts reading character from the device GX-241 II.\u001b[0m\n",
      "\u001b[32m2025-02-14 13:16:00.398\u001b[0m | \u001b[34m\u001b[1mDEBUG   \u001b[0m | \u001b[36mgilson\u001b[0m:\u001b[36mbCommand\u001b[0m:\u001b[36m234\u001b[0m - \u001b[34m\u001b[1mgot back b'Z' from the device GX-241 II.\u001b[0m\n",
      "\u001b[32m2025-02-14 13:16:00.398\u001b[0m | \u001b[34m\u001b[1mDEBUG   \u001b[0m | \u001b[36mgilson\u001b[0m:\u001b[36mbCommand\u001b[0m:\u001b[36m238\u001b[0m - \u001b[34m\u001b[1mresp_raw: b'Z'\u001b[0m\n",
      "\u001b[32m2025-02-14 13:16:00.399\u001b[0m | \u001b[34m\u001b[1mDEBUG   \u001b[0m | \u001b[36mgilson\u001b[0m:\u001b[36mbCommand\u001b[0m:\u001b[36m256\u001b[0m - \u001b[34m\u001b[1mresp_raw 2: 90\u001b[0m\n",
      "\u001b[32m2025-02-14 13:16:00.400\u001b[0m | \u001b[34m\u001b[1mDEBUG   \u001b[0m | \u001b[36mgilson\u001b[0m:\u001b[36mbCommand\u001b[0m:\u001b[36m230\u001b[0m - \u001b[34m\u001b[1mWrites buffered Command character b'8' to the device GX-241 II.\u001b[0m\n",
      "\u001b[32m2025-02-14 13:16:00.400\u001b[0m | \u001b[34m\u001b[1mDEBUG   \u001b[0m | \u001b[36mgilson\u001b[0m:\u001b[36mbCommand\u001b[0m:\u001b[36m232\u001b[0m - \u001b[34m\u001b[1mStarts reading character from the device GX-241 II.\u001b[0m\n",
      "\u001b[32m2025-02-14 13:16:00.517\u001b[0m | \u001b[34m\u001b[1mDEBUG   \u001b[0m | \u001b[36mgilson\u001b[0m:\u001b[36mbCommand\u001b[0m:\u001b[36m234\u001b[0m - \u001b[34m\u001b[1mgot back b'8' from the device GX-241 II.\u001b[0m\n",
      "\u001b[32m2025-02-14 13:16:00.517\u001b[0m | \u001b[34m\u001b[1mDEBUG   \u001b[0m | \u001b[36mgilson\u001b[0m:\u001b[36mbCommand\u001b[0m:\u001b[36m238\u001b[0m - \u001b[34m\u001b[1mresp_raw: b'8'\u001b[0m\n",
      "\u001b[32m2025-02-14 13:16:00.517\u001b[0m | \u001b[34m\u001b[1mDEBUG   \u001b[0m | \u001b[36mgilson\u001b[0m:\u001b[36mbCommand\u001b[0m:\u001b[36m256\u001b[0m - \u001b[34m\u001b[1mresp_raw 2: 56\u001b[0m\n",
      "\u001b[32m2025-02-14 13:16:00.517\u001b[0m | \u001b[34m\u001b[1mDEBUG   \u001b[0m | \u001b[36mgilson\u001b[0m:\u001b[36mbCommand\u001b[0m:\u001b[36m230\u001b[0m - \u001b[34m\u001b[1mWrites buffered Command character b'5' to the device GX-241 II.\u001b[0m\n",
      "\u001b[32m2025-02-14 13:16:00.517\u001b[0m | \u001b[34m\u001b[1mDEBUG   \u001b[0m | \u001b[36mgilson\u001b[0m:\u001b[36mbCommand\u001b[0m:\u001b[36m232\u001b[0m - \u001b[34m\u001b[1mStarts reading character from the device GX-241 II.\u001b[0m\n",
      "\u001b[32m2025-02-14 13:16:00.633\u001b[0m | \u001b[34m\u001b[1mDEBUG   \u001b[0m | \u001b[36mgilson\u001b[0m:\u001b[36mbCommand\u001b[0m:\u001b[36m234\u001b[0m - \u001b[34m\u001b[1mgot back b'5' from the device GX-241 II.\u001b[0m\n",
      "\u001b[32m2025-02-14 13:16:00.635\u001b[0m | \u001b[34m\u001b[1mDEBUG   \u001b[0m | \u001b[36mgilson\u001b[0m:\u001b[36mbCommand\u001b[0m:\u001b[36m238\u001b[0m - \u001b[34m\u001b[1mresp_raw: b'5'\u001b[0m\n",
      "\u001b[32m2025-02-14 13:16:00.635\u001b[0m | \u001b[34m\u001b[1mDEBUG   \u001b[0m | \u001b[36mgilson\u001b[0m:\u001b[36mbCommand\u001b[0m:\u001b[36m256\u001b[0m - \u001b[34m\u001b[1mresp_raw 2: 53\u001b[0m\n",
      "\u001b[32m2025-02-14 13:16:00.635\u001b[0m | \u001b[34m\u001b[1mDEBUG   \u001b[0m | \u001b[36mgilson\u001b[0m:\u001b[36mbCommand\u001b[0m:\u001b[36m230\u001b[0m - \u001b[34m\u001b[1mWrites buffered Command character b'\\r' to the device GX-241 II.\u001b[0m\n",
      "\u001b[32m2025-02-14 13:16:00.644\u001b[0m | \u001b[34m\u001b[1mDEBUG   \u001b[0m | \u001b[36mgilson\u001b[0m:\u001b[36mbCommand\u001b[0m:\u001b[36m232\u001b[0m - \u001b[34m\u001b[1mStarts reading character from the device GX-241 II.\u001b[0m\n",
      "\u001b[32m2025-02-14 13:16:00.751\u001b[0m | \u001b[34m\u001b[1mDEBUG   \u001b[0m | \u001b[36mgilson\u001b[0m:\u001b[36mbCommand\u001b[0m:\u001b[36m234\u001b[0m - \u001b[34m\u001b[1mgot back b'\\r' from the device GX-241 II.\u001b[0m\n",
      "\u001b[32m2025-02-14 13:16:00.751\u001b[0m | \u001b[34m\u001b[1mDEBUG   \u001b[0m | \u001b[36mgilson\u001b[0m:\u001b[36mbCommand\u001b[0m:\u001b[36m238\u001b[0m - \u001b[34m\u001b[1mresp_raw: b'\\r'\u001b[0m\n",
      "\u001b[32m2025-02-14 13:16:00.751\u001b[0m | \u001b[34m\u001b[1mDEBUG   \u001b[0m | \u001b[36mgilson\u001b[0m:\u001b[36mbCommand\u001b[0m:\u001b[36m256\u001b[0m - \u001b[34m\u001b[1mresp_raw 2: 13\u001b[0m\n",
      "\u001b[32m2025-02-14 13:16:00.752\u001b[0m | \u001b[34m\u001b[1mDEBUG   \u001b[0m | \u001b[36mgilson\u001b[0m:\u001b[36mbCommand\u001b[0m:\u001b[36m271\u001b[0m - \u001b[34m\u001b[1mBuffered command complete.\u001b[0m\n",
      "\u001b[32m2025-02-14 13:16:00.753\u001b[0m | \u001b[34m\u001b[1mDEBUG   \u001b[0m | \u001b[36mgilson\u001b[0m:\u001b[36mbCommand\u001b[0m:\u001b[36m272\u001b[0m - \u001b[34m\u001b[1mReceived bytearray(b'\\nZ85\\r') from device.\u001b[0m\n",
      "\u001b[32m2025-02-14 13:16:00.754\u001b[0m | \u001b[1mINFO    \u001b[0m | \u001b[36mgilson\u001b[0m:\u001b[36mbCommand\u001b[0m:\u001b[36m273\u001b[0m - \u001b[1mGSIOC >>> bytearray(b'\\nZ85\\r')\u001b[0m\n"
     ]
    },
    {
     "name": "stdout",
     "output_type": "stream",
     "text": [
      "T*\n",
      ":\n",
      "\n",
      ":\n",
      "\n",
      ":\n",
      "\n",
      ":\n"
     ]
    },
    {
     "name": "stderr",
     "output_type": "stream",
     "text": [
      "\u001b[32m2025-02-14 13:16:05.806\u001b[0m | \u001b[34m\u001b[1mDEBUG   \u001b[0m | \u001b[36mgilson\u001b[0m:\u001b[36mbCommand\u001b[0m:\u001b[36m182\u001b[0m - \u001b[34m\u001b[1mSending buffered command \"Z120\" to device.\u001b[0m\n",
      "\u001b[32m2025-02-14 13:16:05.806\u001b[0m | \u001b[1mINFO    \u001b[0m | \u001b[36mgilson\u001b[0m:\u001b[36mbCommand\u001b[0m:\u001b[36m186\u001b[0m - \u001b[1mGSIOC <<< Z120\u001b[0m\n",
      "\u001b[32m2025-02-14 13:16:05.920\u001b[0m | \u001b[34m\u001b[1mDEBUG   \u001b[0m | \u001b[36mgilson\u001b[0m:\u001b[36mbCommand\u001b[0m:\u001b[36m205\u001b[0m - \u001b[34m\u001b[1mready signal: b'\\n'\u001b[0m\n",
      "\u001b[32m2025-02-14 13:16:05.920\u001b[0m | \u001b[34m\u001b[1mDEBUG   \u001b[0m | \u001b[36mgilson\u001b[0m:\u001b[36mbCommand\u001b[0m:\u001b[36m214\u001b[0m - \u001b[34m\u001b[1mStarting to send buffered command.\u001b[0m\n",
      "\u001b[32m2025-02-14 13:16:05.920\u001b[0m | \u001b[34m\u001b[1mDEBUG   \u001b[0m | \u001b[36mgilson\u001b[0m:\u001b[36mbCommand\u001b[0m:\u001b[36m225\u001b[0m - \u001b[34m\u001b[1m10\u001b[0m\n",
      "\u001b[32m2025-02-14 13:16:05.925\u001b[0m | \u001b[34m\u001b[1mDEBUG   \u001b[0m | \u001b[36mgilson\u001b[0m:\u001b[36mbCommand\u001b[0m:\u001b[36m230\u001b[0m - \u001b[34m\u001b[1mWrites buffered Command character b'Z' to the device GX-241 II.\u001b[0m\n",
      "\u001b[32m2025-02-14 13:16:05.928\u001b[0m | \u001b[34m\u001b[1mDEBUG   \u001b[0m | \u001b[36mgilson\u001b[0m:\u001b[36mbCommand\u001b[0m:\u001b[36m232\u001b[0m - \u001b[34m\u001b[1mStarts reading character from the device GX-241 II.\u001b[0m\n"
     ]
    },
    {
     "name": "stdout",
     "output_type": "stream",
     "text": [
      "\n",
      "<\n"
     ]
    },
    {
     "name": "stderr",
     "output_type": "stream",
     "text": [
      "\u001b[32m2025-02-14 13:16:06.031\u001b[0m | \u001b[34m\u001b[1mDEBUG   \u001b[0m | \u001b[36mgilson\u001b[0m:\u001b[36mbCommand\u001b[0m:\u001b[36m234\u001b[0m - \u001b[34m\u001b[1mgot back b'Z' from the device GX-241 II.\u001b[0m\n",
      "\u001b[32m2025-02-14 13:16:06.032\u001b[0m | \u001b[34m\u001b[1mDEBUG   \u001b[0m | \u001b[36mgilson\u001b[0m:\u001b[36mbCommand\u001b[0m:\u001b[36m238\u001b[0m - \u001b[34m\u001b[1mresp_raw: b'Z'\u001b[0m\n",
      "\u001b[32m2025-02-14 13:16:06.032\u001b[0m | \u001b[34m\u001b[1mDEBUG   \u001b[0m | \u001b[36mgilson\u001b[0m:\u001b[36mbCommand\u001b[0m:\u001b[36m256\u001b[0m - \u001b[34m\u001b[1mresp_raw 2: 90\u001b[0m\n",
      "\u001b[32m2025-02-14 13:16:06.032\u001b[0m | \u001b[34m\u001b[1mDEBUG   \u001b[0m | \u001b[36mgilson\u001b[0m:\u001b[36mbCommand\u001b[0m:\u001b[36m230\u001b[0m - \u001b[34m\u001b[1mWrites buffered Command character b'1' to the device GX-241 II.\u001b[0m\n",
      "\u001b[32m2025-02-14 13:16:06.032\u001b[0m | \u001b[34m\u001b[1mDEBUG   \u001b[0m | \u001b[36mgilson\u001b[0m:\u001b[36mbCommand\u001b[0m:\u001b[36m232\u001b[0m - \u001b[34m\u001b[1mStarts reading character from the device GX-241 II.\u001b[0m\n",
      "\u001b[32m2025-02-14 13:16:06.136\u001b[0m | \u001b[34m\u001b[1mDEBUG   \u001b[0m | \u001b[36mgilson\u001b[0m:\u001b[36mbCommand\u001b[0m:\u001b[36m234\u001b[0m - \u001b[34m\u001b[1mgot back b'1' from the device GX-241 II.\u001b[0m\n",
      "\u001b[32m2025-02-14 13:16:06.136\u001b[0m | \u001b[34m\u001b[1mDEBUG   \u001b[0m | \u001b[36mgilson\u001b[0m:\u001b[36mbCommand\u001b[0m:\u001b[36m238\u001b[0m - \u001b[34m\u001b[1mresp_raw: b'1'\u001b[0m\n",
      "\u001b[32m2025-02-14 13:16:06.136\u001b[0m | \u001b[34m\u001b[1mDEBUG   \u001b[0m | \u001b[36mgilson\u001b[0m:\u001b[36mbCommand\u001b[0m:\u001b[36m256\u001b[0m - \u001b[34m\u001b[1mresp_raw 2: 49\u001b[0m\n",
      "\u001b[32m2025-02-14 13:16:06.141\u001b[0m | \u001b[34m\u001b[1mDEBUG   \u001b[0m | \u001b[36mgilson\u001b[0m:\u001b[36mbCommand\u001b[0m:\u001b[36m230\u001b[0m - \u001b[34m\u001b[1mWrites buffered Command character b'2' to the device GX-241 II.\u001b[0m\n",
      "\u001b[32m2025-02-14 13:16:06.145\u001b[0m | \u001b[34m\u001b[1mDEBUG   \u001b[0m | \u001b[36mgilson\u001b[0m:\u001b[36mbCommand\u001b[0m:\u001b[36m232\u001b[0m - \u001b[34m\u001b[1mStarts reading character from the device GX-241 II.\u001b[0m\n",
      "\u001b[32m2025-02-14 13:16:06.253\u001b[0m | \u001b[34m\u001b[1mDEBUG   \u001b[0m | \u001b[36mgilson\u001b[0m:\u001b[36mbCommand\u001b[0m:\u001b[36m234\u001b[0m - \u001b[34m\u001b[1mgot back b'2' from the device GX-241 II.\u001b[0m\n",
      "\u001b[32m2025-02-14 13:16:06.253\u001b[0m | \u001b[34m\u001b[1mDEBUG   \u001b[0m | \u001b[36mgilson\u001b[0m:\u001b[36mbCommand\u001b[0m:\u001b[36m238\u001b[0m - \u001b[34m\u001b[1mresp_raw: b'2'\u001b[0m\n",
      "\u001b[32m2025-02-14 13:16:06.253\u001b[0m | \u001b[34m\u001b[1mDEBUG   \u001b[0m | \u001b[36mgilson\u001b[0m:\u001b[36mbCommand\u001b[0m:\u001b[36m256\u001b[0m - \u001b[34m\u001b[1mresp_raw 2: 50\u001b[0m\n",
      "\u001b[32m2025-02-14 13:16:06.255\u001b[0m | \u001b[34m\u001b[1mDEBUG   \u001b[0m | \u001b[36mgilson\u001b[0m:\u001b[36mbCommand\u001b[0m:\u001b[36m230\u001b[0m - \u001b[34m\u001b[1mWrites buffered Command character b'0' to the device GX-241 II.\u001b[0m\n",
      "\u001b[32m2025-02-14 13:16:06.255\u001b[0m | \u001b[34m\u001b[1mDEBUG   \u001b[0m | \u001b[36mgilson\u001b[0m:\u001b[36mbCommand\u001b[0m:\u001b[36m232\u001b[0m - \u001b[34m\u001b[1mStarts reading character from the device GX-241 II.\u001b[0m\n",
      "\u001b[32m2025-02-14 13:16:06.371\u001b[0m | \u001b[34m\u001b[1mDEBUG   \u001b[0m | \u001b[36mgilson\u001b[0m:\u001b[36mbCommand\u001b[0m:\u001b[36m234\u001b[0m - \u001b[34m\u001b[1mgot back b'0' from the device GX-241 II.\u001b[0m\n",
      "\u001b[32m2025-02-14 13:16:06.371\u001b[0m | \u001b[34m\u001b[1mDEBUG   \u001b[0m | \u001b[36mgilson\u001b[0m:\u001b[36mbCommand\u001b[0m:\u001b[36m238\u001b[0m - \u001b[34m\u001b[1mresp_raw: b'0'\u001b[0m\n",
      "\u001b[32m2025-02-14 13:16:06.371\u001b[0m | \u001b[34m\u001b[1mDEBUG   \u001b[0m | \u001b[36mgilson\u001b[0m:\u001b[36mbCommand\u001b[0m:\u001b[36m256\u001b[0m - \u001b[34m\u001b[1mresp_raw 2: 48\u001b[0m\n",
      "\u001b[32m2025-02-14 13:16:06.371\u001b[0m | \u001b[34m\u001b[1mDEBUG   \u001b[0m | \u001b[36mgilson\u001b[0m:\u001b[36mbCommand\u001b[0m:\u001b[36m230\u001b[0m - \u001b[34m\u001b[1mWrites buffered Command character b'\\r' to the device GX-241 II.\u001b[0m\n",
      "\u001b[32m2025-02-14 13:16:06.376\u001b[0m | \u001b[34m\u001b[1mDEBUG   \u001b[0m | \u001b[36mgilson\u001b[0m:\u001b[36mbCommand\u001b[0m:\u001b[36m232\u001b[0m - \u001b[34m\u001b[1mStarts reading character from the device GX-241 II.\u001b[0m\n",
      "\u001b[32m2025-02-14 13:16:06.487\u001b[0m | \u001b[34m\u001b[1mDEBUG   \u001b[0m | \u001b[36mgilson\u001b[0m:\u001b[36mbCommand\u001b[0m:\u001b[36m234\u001b[0m - \u001b[34m\u001b[1mgot back b'\\r' from the device GX-241 II.\u001b[0m\n",
      "\u001b[32m2025-02-14 13:16:06.487\u001b[0m | \u001b[34m\u001b[1mDEBUG   \u001b[0m | \u001b[36mgilson\u001b[0m:\u001b[36mbCommand\u001b[0m:\u001b[36m238\u001b[0m - \u001b[34m\u001b[1mresp_raw: b'\\r'\u001b[0m\n",
      "\u001b[32m2025-02-14 13:16:06.487\u001b[0m | \u001b[34m\u001b[1mDEBUG   \u001b[0m | \u001b[36mgilson\u001b[0m:\u001b[36mbCommand\u001b[0m:\u001b[36m256\u001b[0m - \u001b[34m\u001b[1mresp_raw 2: 13\u001b[0m\n",
      "\u001b[32m2025-02-14 13:16:06.487\u001b[0m | \u001b[34m\u001b[1mDEBUG   \u001b[0m | \u001b[36mgilson\u001b[0m:\u001b[36mbCommand\u001b[0m:\u001b[36m271\u001b[0m - \u001b[34m\u001b[1mBuffered command complete.\u001b[0m\n",
      "\u001b[32m2025-02-14 13:16:06.487\u001b[0m | \u001b[34m\u001b[1mDEBUG   \u001b[0m | \u001b[36mgilson\u001b[0m:\u001b[36mbCommand\u001b[0m:\u001b[36m272\u001b[0m - \u001b[34m\u001b[1mReceived bytearray(b'\\nZ120\\r') from device.\u001b[0m\n",
      "\u001b[32m2025-02-14 13:16:06.494\u001b[0m | \u001b[1mINFO    \u001b[0m | \u001b[36mgilson\u001b[0m:\u001b[36mbCommand\u001b[0m:\u001b[36m273\u001b[0m - \u001b[1mGSIOC >>> bytearray(b'\\nZ120\\r')\u001b[0m\n",
      "\u001b[32m2025-02-14 13:16:06.496\u001b[0m | \u001b[34m\u001b[1mDEBUG   \u001b[0m | \u001b[36mgilson\u001b[0m:\u001b[36mbCommand\u001b[0m:\u001b[36m182\u001b[0m - \u001b[34m\u001b[1mSending buffered command \"X146.5/0\" to device.\u001b[0m\n",
      "\u001b[32m2025-02-14 13:16:06.496\u001b[0m | \u001b[1mINFO    \u001b[0m | \u001b[36mgilson\u001b[0m:\u001b[36mbCommand\u001b[0m:\u001b[36m186\u001b[0m - \u001b[1mGSIOC <<< X146.5/0\u001b[0m\n",
      "\u001b[32m2025-02-14 13:16:06.604\u001b[0m | \u001b[34m\u001b[1mDEBUG   \u001b[0m | \u001b[36mgilson\u001b[0m:\u001b[36mbCommand\u001b[0m:\u001b[36m205\u001b[0m - \u001b[34m\u001b[1mready signal: b'\\n'\u001b[0m\n",
      "\u001b[32m2025-02-14 13:16:06.604\u001b[0m | \u001b[34m\u001b[1mDEBUG   \u001b[0m | \u001b[36mgilson\u001b[0m:\u001b[36mbCommand\u001b[0m:\u001b[36m214\u001b[0m - \u001b[34m\u001b[1mStarting to send buffered command.\u001b[0m\n",
      "\u001b[32m2025-02-14 13:16:06.604\u001b[0m | \u001b[34m\u001b[1mDEBUG   \u001b[0m | \u001b[36mgilson\u001b[0m:\u001b[36mbCommand\u001b[0m:\u001b[36m225\u001b[0m - \u001b[34m\u001b[1m10\u001b[0m\n",
      "\u001b[32m2025-02-14 13:16:06.604\u001b[0m | \u001b[34m\u001b[1mDEBUG   \u001b[0m | \u001b[36mgilson\u001b[0m:\u001b[36mbCommand\u001b[0m:\u001b[36m230\u001b[0m - \u001b[34m\u001b[1mWrites buffered Command character b'X' to the device GX-241 II.\u001b[0m\n",
      "\u001b[32m2025-02-14 13:16:06.613\u001b[0m | \u001b[34m\u001b[1mDEBUG   \u001b[0m | \u001b[36mgilson\u001b[0m:\u001b[36mbCommand\u001b[0m:\u001b[36m232\u001b[0m - \u001b[34m\u001b[1mStarts reading character from the device GX-241 II.\u001b[0m\n"
     ]
    },
    {
     "name": "stdout",
     "output_type": "stream",
     "text": [
      "['X63.0/39.5']\n"
     ]
    },
    {
     "name": "stderr",
     "output_type": "stream",
     "text": [
      "\u001b[32m2025-02-14 13:16:06.723\u001b[0m | \u001b[34m\u001b[1mDEBUG   \u001b[0m | \u001b[36mgilson\u001b[0m:\u001b[36mbCommand\u001b[0m:\u001b[36m234\u001b[0m - \u001b[34m\u001b[1mgot back b'X' from the device GX-241 II.\u001b[0m\n",
      "\u001b[32m2025-02-14 13:16:06.724\u001b[0m | \u001b[34m\u001b[1mDEBUG   \u001b[0m | \u001b[36mgilson\u001b[0m:\u001b[36mbCommand\u001b[0m:\u001b[36m238\u001b[0m - \u001b[34m\u001b[1mresp_raw: b'X'\u001b[0m\n",
      "\u001b[32m2025-02-14 13:16:06.724\u001b[0m | \u001b[34m\u001b[1mDEBUG   \u001b[0m | \u001b[36mgilson\u001b[0m:\u001b[36mbCommand\u001b[0m:\u001b[36m256\u001b[0m - \u001b[34m\u001b[1mresp_raw 2: 88\u001b[0m\n",
      "\u001b[32m2025-02-14 13:16:06.725\u001b[0m | \u001b[34m\u001b[1mDEBUG   \u001b[0m | \u001b[36mgilson\u001b[0m:\u001b[36mbCommand\u001b[0m:\u001b[36m230\u001b[0m - \u001b[34m\u001b[1mWrites buffered Command character b'1' to the device GX-241 II.\u001b[0m\n",
      "\u001b[32m2025-02-14 13:16:06.726\u001b[0m | \u001b[34m\u001b[1mDEBUG   \u001b[0m | \u001b[36mgilson\u001b[0m:\u001b[36mbCommand\u001b[0m:\u001b[36m232\u001b[0m - \u001b[34m\u001b[1mStarts reading character from the device GX-241 II.\u001b[0m\n",
      "\u001b[32m2025-02-14 13:16:06.838\u001b[0m | \u001b[34m\u001b[1mDEBUG   \u001b[0m | \u001b[36mgilson\u001b[0m:\u001b[36mbCommand\u001b[0m:\u001b[36m234\u001b[0m - \u001b[34m\u001b[1mgot back b'1' from the device GX-241 II.\u001b[0m\n",
      "\u001b[32m2025-02-14 13:16:06.838\u001b[0m | \u001b[34m\u001b[1mDEBUG   \u001b[0m | \u001b[36mgilson\u001b[0m:\u001b[36mbCommand\u001b[0m:\u001b[36m238\u001b[0m - \u001b[34m\u001b[1mresp_raw: b'1'\u001b[0m\n",
      "\u001b[32m2025-02-14 13:16:06.838\u001b[0m | \u001b[34m\u001b[1mDEBUG   \u001b[0m | \u001b[36mgilson\u001b[0m:\u001b[36mbCommand\u001b[0m:\u001b[36m256\u001b[0m - \u001b[34m\u001b[1mresp_raw 2: 49\u001b[0m\n",
      "\u001b[32m2025-02-14 13:16:06.838\u001b[0m | \u001b[34m\u001b[1mDEBUG   \u001b[0m | \u001b[36mgilson\u001b[0m:\u001b[36mbCommand\u001b[0m:\u001b[36m230\u001b[0m - \u001b[34m\u001b[1mWrites buffered Command character b'4' to the device GX-241 II.\u001b[0m\n",
      "\u001b[32m2025-02-14 13:16:06.838\u001b[0m | \u001b[34m\u001b[1mDEBUG   \u001b[0m | \u001b[36mgilson\u001b[0m:\u001b[36mbCommand\u001b[0m:\u001b[36m232\u001b[0m - \u001b[34m\u001b[1mStarts reading character from the device GX-241 II.\u001b[0m\n",
      "\u001b[32m2025-02-14 13:16:06.954\u001b[0m | \u001b[34m\u001b[1mDEBUG   \u001b[0m | \u001b[36mgilson\u001b[0m:\u001b[36mbCommand\u001b[0m:\u001b[36m234\u001b[0m - \u001b[34m\u001b[1mgot back b'4' from the device GX-241 II.\u001b[0m\n",
      "\u001b[32m2025-02-14 13:16:06.954\u001b[0m | \u001b[34m\u001b[1mDEBUG   \u001b[0m | \u001b[36mgilson\u001b[0m:\u001b[36mbCommand\u001b[0m:\u001b[36m238\u001b[0m - \u001b[34m\u001b[1mresp_raw: b'4'\u001b[0m\n",
      "\u001b[32m2025-02-14 13:16:06.954\u001b[0m | \u001b[34m\u001b[1mDEBUG   \u001b[0m | \u001b[36mgilson\u001b[0m:\u001b[36mbCommand\u001b[0m:\u001b[36m256\u001b[0m - \u001b[34m\u001b[1mresp_raw 2: 52\u001b[0m\n",
      "\u001b[32m2025-02-14 13:16:06.954\u001b[0m | \u001b[34m\u001b[1mDEBUG   \u001b[0m | \u001b[36mgilson\u001b[0m:\u001b[36mbCommand\u001b[0m:\u001b[36m230\u001b[0m - \u001b[34m\u001b[1mWrites buffered Command character b'6' to the device GX-241 II.\u001b[0m\n",
      "\u001b[32m2025-02-14 13:16:06.960\u001b[0m | \u001b[34m\u001b[1mDEBUG   \u001b[0m | \u001b[36mgilson\u001b[0m:\u001b[36mbCommand\u001b[0m:\u001b[36m232\u001b[0m - \u001b[34m\u001b[1mStarts reading character from the device GX-241 II.\u001b[0m\n",
      "\u001b[32m2025-02-14 13:16:07.070\u001b[0m | \u001b[34m\u001b[1mDEBUG   \u001b[0m | \u001b[36mgilson\u001b[0m:\u001b[36mbCommand\u001b[0m:\u001b[36m234\u001b[0m - \u001b[34m\u001b[1mgot back b'6' from the device GX-241 II.\u001b[0m\n",
      "\u001b[32m2025-02-14 13:16:07.070\u001b[0m | \u001b[34m\u001b[1mDEBUG   \u001b[0m | \u001b[36mgilson\u001b[0m:\u001b[36mbCommand\u001b[0m:\u001b[36m238\u001b[0m - \u001b[34m\u001b[1mresp_raw: b'6'\u001b[0m\n",
      "\u001b[32m2025-02-14 13:16:07.070\u001b[0m | \u001b[34m\u001b[1mDEBUG   \u001b[0m | \u001b[36mgilson\u001b[0m:\u001b[36mbCommand\u001b[0m:\u001b[36m256\u001b[0m - \u001b[34m\u001b[1mresp_raw 2: 54\u001b[0m\n",
      "\u001b[32m2025-02-14 13:16:07.070\u001b[0m | \u001b[34m\u001b[1mDEBUG   \u001b[0m | \u001b[36mgilson\u001b[0m:\u001b[36mbCommand\u001b[0m:\u001b[36m230\u001b[0m - \u001b[34m\u001b[1mWrites buffered Command character b'.' to the device GX-241 II.\u001b[0m\n",
      "\u001b[32m2025-02-14 13:16:07.074\u001b[0m | \u001b[34m\u001b[1mDEBUG   \u001b[0m | \u001b[36mgilson\u001b[0m:\u001b[36mbCommand\u001b[0m:\u001b[36m232\u001b[0m - \u001b[34m\u001b[1mStarts reading character from the device GX-241 II.\u001b[0m\n",
      "\u001b[32m2025-02-14 13:16:07.187\u001b[0m | \u001b[34m\u001b[1mDEBUG   \u001b[0m | \u001b[36mgilson\u001b[0m:\u001b[36mbCommand\u001b[0m:\u001b[36m234\u001b[0m - \u001b[34m\u001b[1mgot back b'.' from the device GX-241 II.\u001b[0m\n",
      "\u001b[32m2025-02-14 13:16:07.187\u001b[0m | \u001b[34m\u001b[1mDEBUG   \u001b[0m | \u001b[36mgilson\u001b[0m:\u001b[36mbCommand\u001b[0m:\u001b[36m238\u001b[0m - \u001b[34m\u001b[1mresp_raw: b'.'\u001b[0m\n",
      "\u001b[32m2025-02-14 13:16:07.187\u001b[0m | \u001b[34m\u001b[1mDEBUG   \u001b[0m | \u001b[36mgilson\u001b[0m:\u001b[36mbCommand\u001b[0m:\u001b[36m256\u001b[0m - \u001b[34m\u001b[1mresp_raw 2: 46\u001b[0m\n",
      "\u001b[32m2025-02-14 13:16:07.187\u001b[0m | \u001b[34m\u001b[1mDEBUG   \u001b[0m | \u001b[36mgilson\u001b[0m:\u001b[36mbCommand\u001b[0m:\u001b[36m230\u001b[0m - \u001b[34m\u001b[1mWrites buffered Command character b'5' to the device GX-241 II.\u001b[0m\n",
      "\u001b[32m2025-02-14 13:16:07.187\u001b[0m | \u001b[34m\u001b[1mDEBUG   \u001b[0m | \u001b[36mgilson\u001b[0m:\u001b[36mbCommand\u001b[0m:\u001b[36m232\u001b[0m - \u001b[34m\u001b[1mStarts reading character from the device GX-241 II.\u001b[0m\n",
      "\u001b[32m2025-02-14 13:16:07.304\u001b[0m | \u001b[34m\u001b[1mDEBUG   \u001b[0m | \u001b[36mgilson\u001b[0m:\u001b[36mbCommand\u001b[0m:\u001b[36m234\u001b[0m - \u001b[34m\u001b[1mgot back b'5' from the device GX-241 II.\u001b[0m\n",
      "\u001b[32m2025-02-14 13:16:07.304\u001b[0m | \u001b[34m\u001b[1mDEBUG   \u001b[0m | \u001b[36mgilson\u001b[0m:\u001b[36mbCommand\u001b[0m:\u001b[36m238\u001b[0m - \u001b[34m\u001b[1mresp_raw: b'5'\u001b[0m\n",
      "\u001b[32m2025-02-14 13:16:07.304\u001b[0m | \u001b[34m\u001b[1mDEBUG   \u001b[0m | \u001b[36mgilson\u001b[0m:\u001b[36mbCommand\u001b[0m:\u001b[36m256\u001b[0m - \u001b[34m\u001b[1mresp_raw 2: 53\u001b[0m\n",
      "\u001b[32m2025-02-14 13:16:07.304\u001b[0m | \u001b[34m\u001b[1mDEBUG   \u001b[0m | \u001b[36mgilson\u001b[0m:\u001b[36mbCommand\u001b[0m:\u001b[36m230\u001b[0m - \u001b[34m\u001b[1mWrites buffered Command character b'/' to the device GX-241 II.\u001b[0m\n",
      "\u001b[32m2025-02-14 13:16:07.307\u001b[0m | \u001b[34m\u001b[1mDEBUG   \u001b[0m | \u001b[36mgilson\u001b[0m:\u001b[36mbCommand\u001b[0m:\u001b[36m232\u001b[0m - \u001b[34m\u001b[1mStarts reading character from the device GX-241 II.\u001b[0m\n",
      "\u001b[32m2025-02-14 13:16:07.419\u001b[0m | \u001b[34m\u001b[1mDEBUG   \u001b[0m | \u001b[36mgilson\u001b[0m:\u001b[36mbCommand\u001b[0m:\u001b[36m234\u001b[0m - \u001b[34m\u001b[1mgot back b'/' from the device GX-241 II.\u001b[0m\n",
      "\u001b[32m2025-02-14 13:16:07.419\u001b[0m | \u001b[34m\u001b[1mDEBUG   \u001b[0m | \u001b[36mgilson\u001b[0m:\u001b[36mbCommand\u001b[0m:\u001b[36m238\u001b[0m - \u001b[34m\u001b[1mresp_raw: b'/'\u001b[0m\n",
      "\u001b[32m2025-02-14 13:16:07.419\u001b[0m | \u001b[34m\u001b[1mDEBUG   \u001b[0m | \u001b[36mgilson\u001b[0m:\u001b[36mbCommand\u001b[0m:\u001b[36m256\u001b[0m - \u001b[34m\u001b[1mresp_raw 2: 47\u001b[0m\n",
      "\u001b[32m2025-02-14 13:16:07.419\u001b[0m | \u001b[34m\u001b[1mDEBUG   \u001b[0m | \u001b[36mgilson\u001b[0m:\u001b[36mbCommand\u001b[0m:\u001b[36m230\u001b[0m - \u001b[34m\u001b[1mWrites buffered Command character b'0' to the device GX-241 II.\u001b[0m\n",
      "\u001b[32m2025-02-14 13:16:07.421\u001b[0m | \u001b[34m\u001b[1mDEBUG   \u001b[0m | \u001b[36mgilson\u001b[0m:\u001b[36mbCommand\u001b[0m:\u001b[36m232\u001b[0m - \u001b[34m\u001b[1mStarts reading character from the device GX-241 II.\u001b[0m\n",
      "\u001b[32m2025-02-14 13:16:07.538\u001b[0m | \u001b[34m\u001b[1mDEBUG   \u001b[0m | \u001b[36mgilson\u001b[0m:\u001b[36mbCommand\u001b[0m:\u001b[36m234\u001b[0m - \u001b[34m\u001b[1mgot back b'0' from the device GX-241 II.\u001b[0m\n",
      "\u001b[32m2025-02-14 13:16:07.538\u001b[0m | \u001b[34m\u001b[1mDEBUG   \u001b[0m | \u001b[36mgilson\u001b[0m:\u001b[36mbCommand\u001b[0m:\u001b[36m238\u001b[0m - \u001b[34m\u001b[1mresp_raw: b'0'\u001b[0m\n",
      "\u001b[32m2025-02-14 13:16:07.538\u001b[0m | \u001b[34m\u001b[1mDEBUG   \u001b[0m | \u001b[36mgilson\u001b[0m:\u001b[36mbCommand\u001b[0m:\u001b[36m256\u001b[0m - \u001b[34m\u001b[1mresp_raw 2: 48\u001b[0m\n",
      "\u001b[32m2025-02-14 13:16:07.541\u001b[0m | \u001b[34m\u001b[1mDEBUG   \u001b[0m | \u001b[36mgilson\u001b[0m:\u001b[36mbCommand\u001b[0m:\u001b[36m230\u001b[0m - \u001b[34m\u001b[1mWrites buffered Command character b'\\r' to the device GX-241 II.\u001b[0m\n",
      "\u001b[32m2025-02-14 13:16:07.542\u001b[0m | \u001b[34m\u001b[1mDEBUG   \u001b[0m | \u001b[36mgilson\u001b[0m:\u001b[36mbCommand\u001b[0m:\u001b[36m232\u001b[0m - \u001b[34m\u001b[1mStarts reading character from the device GX-241 II.\u001b[0m\n",
      "\u001b[32m2025-02-14 13:16:07.653\u001b[0m | \u001b[34m\u001b[1mDEBUG   \u001b[0m | \u001b[36mgilson\u001b[0m:\u001b[36mbCommand\u001b[0m:\u001b[36m234\u001b[0m - \u001b[34m\u001b[1mgot back b'\\r' from the device GX-241 II.\u001b[0m\n",
      "\u001b[32m2025-02-14 13:16:07.653\u001b[0m | \u001b[34m\u001b[1mDEBUG   \u001b[0m | \u001b[36mgilson\u001b[0m:\u001b[36mbCommand\u001b[0m:\u001b[36m238\u001b[0m - \u001b[34m\u001b[1mresp_raw: b'\\r'\u001b[0m\n",
      "\u001b[32m2025-02-14 13:16:07.653\u001b[0m | \u001b[34m\u001b[1mDEBUG   \u001b[0m | \u001b[36mgilson\u001b[0m:\u001b[36mbCommand\u001b[0m:\u001b[36m256\u001b[0m - \u001b[34m\u001b[1mresp_raw 2: 13\u001b[0m\n",
      "\u001b[32m2025-02-14 13:16:07.653\u001b[0m | \u001b[34m\u001b[1mDEBUG   \u001b[0m | \u001b[36mgilson\u001b[0m:\u001b[36mbCommand\u001b[0m:\u001b[36m271\u001b[0m - \u001b[34m\u001b[1mBuffered command complete.\u001b[0m\n",
      "\u001b[32m2025-02-14 13:16:07.656\u001b[0m | \u001b[34m\u001b[1mDEBUG   \u001b[0m | \u001b[36mgilson\u001b[0m:\u001b[36mbCommand\u001b[0m:\u001b[36m272\u001b[0m - \u001b[34m\u001b[1mReceived bytearray(b'\\nX146.5/0\\r') from device.\u001b[0m\n",
      "\u001b[32m2025-02-14 13:16:07.656\u001b[0m | \u001b[1mINFO    \u001b[0m | \u001b[36mgilson\u001b[0m:\u001b[36mbCommand\u001b[0m:\u001b[36m273\u001b[0m - \u001b[1mGSIOC >>> bytearray(b'\\nX146.5/0\\r')\u001b[0m\n",
      "\u001b[32m2025-02-14 13:16:07.658\u001b[0m | \u001b[34m\u001b[1mDEBUG   \u001b[0m | \u001b[36mgilson\u001b[0m:\u001b[36mbCommand\u001b[0m:\u001b[36m182\u001b[0m - \u001b[34m\u001b[1mSending buffered command \"Z105\" to device.\u001b[0m\n",
      "\u001b[32m2025-02-14 13:16:07.658\u001b[0m | \u001b[1mINFO    \u001b[0m | \u001b[36mgilson\u001b[0m:\u001b[36mbCommand\u001b[0m:\u001b[36m186\u001b[0m - \u001b[1mGSIOC <<< Z105\u001b[0m\n",
      "\u001b[32m2025-02-14 13:16:07.772\u001b[0m | \u001b[34m\u001b[1mDEBUG   \u001b[0m | \u001b[36mgilson\u001b[0m:\u001b[36mbCommand\u001b[0m:\u001b[36m205\u001b[0m - \u001b[34m\u001b[1mready signal: b'\\n'\u001b[0m\n",
      "\u001b[32m2025-02-14 13:16:07.772\u001b[0m | \u001b[34m\u001b[1mDEBUG   \u001b[0m | \u001b[36mgilson\u001b[0m:\u001b[36mbCommand\u001b[0m:\u001b[36m214\u001b[0m - \u001b[34m\u001b[1mStarting to send buffered command.\u001b[0m\n",
      "\u001b[32m2025-02-14 13:16:07.772\u001b[0m | \u001b[34m\u001b[1mDEBUG   \u001b[0m | \u001b[36mgilson\u001b[0m:\u001b[36mbCommand\u001b[0m:\u001b[36m225\u001b[0m - \u001b[34m\u001b[1m10\u001b[0m\n",
      "\u001b[32m2025-02-14 13:16:07.772\u001b[0m | \u001b[34m\u001b[1mDEBUG   \u001b[0m | \u001b[36mgilson\u001b[0m:\u001b[36mbCommand\u001b[0m:\u001b[36m230\u001b[0m - \u001b[34m\u001b[1mWrites buffered Command character b'Z' to the device GX-241 II.\u001b[0m\n",
      "\u001b[32m2025-02-14 13:16:07.776\u001b[0m | \u001b[34m\u001b[1mDEBUG   \u001b[0m | \u001b[36mgilson\u001b[0m:\u001b[36mbCommand\u001b[0m:\u001b[36m232\u001b[0m - \u001b[34m\u001b[1mStarts reading character from the device GX-241 II.\u001b[0m\n",
      "\u001b[32m2025-02-14 13:16:07.889\u001b[0m | \u001b[34m\u001b[1mDEBUG   \u001b[0m | \u001b[36mgilson\u001b[0m:\u001b[36mbCommand\u001b[0m:\u001b[36m234\u001b[0m - \u001b[34m\u001b[1mgot back b'Z' from the device GX-241 II.\u001b[0m\n",
      "\u001b[32m2025-02-14 13:16:07.889\u001b[0m | \u001b[34m\u001b[1mDEBUG   \u001b[0m | \u001b[36mgilson\u001b[0m:\u001b[36mbCommand\u001b[0m:\u001b[36m238\u001b[0m - \u001b[34m\u001b[1mresp_raw: b'Z'\u001b[0m\n",
      "\u001b[32m2025-02-14 13:16:07.889\u001b[0m | \u001b[34m\u001b[1mDEBUG   \u001b[0m | \u001b[36mgilson\u001b[0m:\u001b[36mbCommand\u001b[0m:\u001b[36m256\u001b[0m - \u001b[34m\u001b[1mresp_raw 2: 90\u001b[0m\n",
      "\u001b[32m2025-02-14 13:16:07.889\u001b[0m | \u001b[34m\u001b[1mDEBUG   \u001b[0m | \u001b[36mgilson\u001b[0m:\u001b[36mbCommand\u001b[0m:\u001b[36m230\u001b[0m - \u001b[34m\u001b[1mWrites buffered Command character b'1' to the device GX-241 II.\u001b[0m\n",
      "\u001b[32m2025-02-14 13:16:07.889\u001b[0m | \u001b[34m\u001b[1mDEBUG   \u001b[0m | \u001b[36mgilson\u001b[0m:\u001b[36mbCommand\u001b[0m:\u001b[36m232\u001b[0m - \u001b[34m\u001b[1mStarts reading character from the device GX-241 II.\u001b[0m\n",
      "\u001b[32m2025-02-14 13:16:08.005\u001b[0m | \u001b[34m\u001b[1mDEBUG   \u001b[0m | \u001b[36mgilson\u001b[0m:\u001b[36mbCommand\u001b[0m:\u001b[36m234\u001b[0m - \u001b[34m\u001b[1mgot back b'1' from the device GX-241 II.\u001b[0m\n",
      "\u001b[32m2025-02-14 13:16:08.005\u001b[0m | \u001b[34m\u001b[1mDEBUG   \u001b[0m | \u001b[36mgilson\u001b[0m:\u001b[36mbCommand\u001b[0m:\u001b[36m238\u001b[0m - \u001b[34m\u001b[1mresp_raw: b'1'\u001b[0m\n",
      "\u001b[32m2025-02-14 13:16:08.005\u001b[0m | \u001b[34m\u001b[1mDEBUG   \u001b[0m | \u001b[36mgilson\u001b[0m:\u001b[36mbCommand\u001b[0m:\u001b[36m256\u001b[0m - \u001b[34m\u001b[1mresp_raw 2: 49\u001b[0m\n",
      "\u001b[32m2025-02-14 13:16:08.005\u001b[0m | \u001b[34m\u001b[1mDEBUG   \u001b[0m | \u001b[36mgilson\u001b[0m:\u001b[36mbCommand\u001b[0m:\u001b[36m230\u001b[0m - \u001b[34m\u001b[1mWrites buffered Command character b'0' to the device GX-241 II.\u001b[0m\n",
      "\u001b[32m2025-02-14 13:16:08.009\u001b[0m | \u001b[34m\u001b[1mDEBUG   \u001b[0m | \u001b[36mgilson\u001b[0m:\u001b[36mbCommand\u001b[0m:\u001b[36m232\u001b[0m - \u001b[34m\u001b[1mStarts reading character from the device GX-241 II.\u001b[0m\n",
      "\u001b[32m2025-02-14 13:16:08.122\u001b[0m | \u001b[34m\u001b[1mDEBUG   \u001b[0m | \u001b[36mgilson\u001b[0m:\u001b[36mbCommand\u001b[0m:\u001b[36m234\u001b[0m - \u001b[34m\u001b[1mgot back b'0' from the device GX-241 II.\u001b[0m\n",
      "\u001b[32m2025-02-14 13:16:08.122\u001b[0m | \u001b[34m\u001b[1mDEBUG   \u001b[0m | \u001b[36mgilson\u001b[0m:\u001b[36mbCommand\u001b[0m:\u001b[36m238\u001b[0m - \u001b[34m\u001b[1mresp_raw: b'0'\u001b[0m\n",
      "\u001b[32m2025-02-14 13:16:08.122\u001b[0m | \u001b[34m\u001b[1mDEBUG   \u001b[0m | \u001b[36mgilson\u001b[0m:\u001b[36mbCommand\u001b[0m:\u001b[36m256\u001b[0m - \u001b[34m\u001b[1mresp_raw 2: 48\u001b[0m\n",
      "\u001b[32m2025-02-14 13:16:08.122\u001b[0m | \u001b[34m\u001b[1mDEBUG   \u001b[0m | \u001b[36mgilson\u001b[0m:\u001b[36mbCommand\u001b[0m:\u001b[36m230\u001b[0m - \u001b[34m\u001b[1mWrites buffered Command character b'5' to the device GX-241 II.\u001b[0m\n",
      "\u001b[32m2025-02-14 13:16:08.125\u001b[0m | \u001b[34m\u001b[1mDEBUG   \u001b[0m | \u001b[36mgilson\u001b[0m:\u001b[36mbCommand\u001b[0m:\u001b[36m232\u001b[0m - \u001b[34m\u001b[1mStarts reading character from the device GX-241 II.\u001b[0m\n",
      "\u001b[32m2025-02-14 13:16:08.239\u001b[0m | \u001b[34m\u001b[1mDEBUG   \u001b[0m | \u001b[36mgilson\u001b[0m:\u001b[36mbCommand\u001b[0m:\u001b[36m234\u001b[0m - \u001b[34m\u001b[1mgot back b'5' from the device GX-241 II.\u001b[0m\n",
      "\u001b[32m2025-02-14 13:16:08.239\u001b[0m | \u001b[34m\u001b[1mDEBUG   \u001b[0m | \u001b[36mgilson\u001b[0m:\u001b[36mbCommand\u001b[0m:\u001b[36m238\u001b[0m - \u001b[34m\u001b[1mresp_raw: b'5'\u001b[0m\n",
      "\u001b[32m2025-02-14 13:16:08.239\u001b[0m | \u001b[34m\u001b[1mDEBUG   \u001b[0m | \u001b[36mgilson\u001b[0m:\u001b[36mbCommand\u001b[0m:\u001b[36m256\u001b[0m - \u001b[34m\u001b[1mresp_raw 2: 53\u001b[0m\n",
      "\u001b[32m2025-02-14 13:16:08.241\u001b[0m | \u001b[34m\u001b[1mDEBUG   \u001b[0m | \u001b[36mgilson\u001b[0m:\u001b[36mbCommand\u001b[0m:\u001b[36m230\u001b[0m - \u001b[34m\u001b[1mWrites buffered Command character b'\\r' to the device GX-241 II.\u001b[0m\n",
      "\u001b[32m2025-02-14 13:16:08.241\u001b[0m | \u001b[34m\u001b[1mDEBUG   \u001b[0m | \u001b[36mgilson\u001b[0m:\u001b[36mbCommand\u001b[0m:\u001b[36m232\u001b[0m - \u001b[34m\u001b[1mStarts reading character from the device GX-241 II.\u001b[0m\n",
      "\u001b[32m2025-02-14 13:16:08.355\u001b[0m | \u001b[34m\u001b[1mDEBUG   \u001b[0m | \u001b[36mgilson\u001b[0m:\u001b[36mbCommand\u001b[0m:\u001b[36m234\u001b[0m - \u001b[34m\u001b[1mgot back b'\\r' from the device GX-241 II.\u001b[0m\n",
      "\u001b[32m2025-02-14 13:16:08.355\u001b[0m | \u001b[34m\u001b[1mDEBUG   \u001b[0m | \u001b[36mgilson\u001b[0m:\u001b[36mbCommand\u001b[0m:\u001b[36m238\u001b[0m - \u001b[34m\u001b[1mresp_raw: b'\\r'\u001b[0m\n",
      "\u001b[32m2025-02-14 13:16:08.355\u001b[0m | \u001b[34m\u001b[1mDEBUG   \u001b[0m | \u001b[36mgilson\u001b[0m:\u001b[36mbCommand\u001b[0m:\u001b[36m256\u001b[0m - \u001b[34m\u001b[1mresp_raw 2: 13\u001b[0m\n",
      "\u001b[32m2025-02-14 13:16:08.355\u001b[0m | \u001b[34m\u001b[1mDEBUG   \u001b[0m | \u001b[36mgilson\u001b[0m:\u001b[36mbCommand\u001b[0m:\u001b[36m271\u001b[0m - \u001b[34m\u001b[1mBuffered command complete.\u001b[0m\n",
      "\u001b[32m2025-02-14 13:16:08.358\u001b[0m | \u001b[34m\u001b[1mDEBUG   \u001b[0m | \u001b[36mgilson\u001b[0m:\u001b[36mbCommand\u001b[0m:\u001b[36m272\u001b[0m - \u001b[34m\u001b[1mReceived bytearray(b'\\nZ105\\r') from device.\u001b[0m\n",
      "\u001b[32m2025-02-14 13:16:08.358\u001b[0m | \u001b[1mINFO    \u001b[0m | \u001b[36mgilson\u001b[0m:\u001b[36mbCommand\u001b[0m:\u001b[36m273\u001b[0m - \u001b[1mGSIOC >>> bytearray(b'\\nZ105\\r')\u001b[0m\n",
      "\u001b[32m2025-02-14 13:16:08.359\u001b[0m | \u001b[34m\u001b[1mDEBUG   \u001b[0m | \u001b[36mgilson\u001b[0m:\u001b[36mbCommand\u001b[0m:\u001b[36m182\u001b[0m - \u001b[34m\u001b[1mSending buffered command \"WBB\" to device.\u001b[0m\n",
      "\u001b[32m2025-02-14 13:16:08.360\u001b[0m | \u001b[1mINFO    \u001b[0m | \u001b[36mgilson\u001b[0m:\u001b[36mbCommand\u001b[0m:\u001b[36m186\u001b[0m - \u001b[1mGSIOC <<< WBB\u001b[0m\n",
      "\u001b[32m2025-02-14 13:16:08.472\u001b[0m | \u001b[34m\u001b[1mDEBUG   \u001b[0m | \u001b[36mgilson\u001b[0m:\u001b[36mbCommand\u001b[0m:\u001b[36m205\u001b[0m - \u001b[34m\u001b[1mready signal: b'\\n'\u001b[0m\n",
      "\u001b[32m2025-02-14 13:16:08.473\u001b[0m | \u001b[34m\u001b[1mDEBUG   \u001b[0m | \u001b[36mgilson\u001b[0m:\u001b[36mbCommand\u001b[0m:\u001b[36m214\u001b[0m - \u001b[34m\u001b[1mStarting to send buffered command.\u001b[0m\n",
      "\u001b[32m2025-02-14 13:16:08.473\u001b[0m | \u001b[34m\u001b[1mDEBUG   \u001b[0m | \u001b[36mgilson\u001b[0m:\u001b[36mbCommand\u001b[0m:\u001b[36m225\u001b[0m - \u001b[34m\u001b[1m10\u001b[0m\n",
      "\u001b[32m2025-02-14 13:16:08.473\u001b[0m | \u001b[34m\u001b[1mDEBUG   \u001b[0m | \u001b[36mgilson\u001b[0m:\u001b[36mbCommand\u001b[0m:\u001b[36m230\u001b[0m - \u001b[34m\u001b[1mWrites buffered Command character b'W' to the device GX-241 II.\u001b[0m\n",
      "\u001b[32m2025-02-14 13:16:08.473\u001b[0m | \u001b[34m\u001b[1mDEBUG   \u001b[0m | \u001b[36mgilson\u001b[0m:\u001b[36mbCommand\u001b[0m:\u001b[36m232\u001b[0m - \u001b[34m\u001b[1mStarts reading character from the device GX-241 II.\u001b[0m\n",
      "\u001b[32m2025-02-14 13:16:08.590\u001b[0m | \u001b[34m\u001b[1mDEBUG   \u001b[0m | \u001b[36mgilson\u001b[0m:\u001b[36mbCommand\u001b[0m:\u001b[36m234\u001b[0m - \u001b[34m\u001b[1mgot back b'W' from the device GX-241 II.\u001b[0m\n",
      "\u001b[32m2025-02-14 13:16:08.590\u001b[0m | \u001b[34m\u001b[1mDEBUG   \u001b[0m | \u001b[36mgilson\u001b[0m:\u001b[36mbCommand\u001b[0m:\u001b[36m238\u001b[0m - \u001b[34m\u001b[1mresp_raw: b'W'\u001b[0m\n",
      "\u001b[32m2025-02-14 13:16:08.590\u001b[0m | \u001b[34m\u001b[1mDEBUG   \u001b[0m | \u001b[36mgilson\u001b[0m:\u001b[36mbCommand\u001b[0m:\u001b[36m256\u001b[0m - \u001b[34m\u001b[1mresp_raw 2: 87\u001b[0m\n",
      "\u001b[32m2025-02-14 13:16:08.590\u001b[0m | \u001b[34m\u001b[1mDEBUG   \u001b[0m | \u001b[36mgilson\u001b[0m:\u001b[36mbCommand\u001b[0m:\u001b[36m230\u001b[0m - \u001b[34m\u001b[1mWrites buffered Command character b'B' to the device GX-241 II.\u001b[0m\n",
      "\u001b[32m2025-02-14 13:16:08.592\u001b[0m | \u001b[34m\u001b[1mDEBUG   \u001b[0m | \u001b[36mgilson\u001b[0m:\u001b[36mbCommand\u001b[0m:\u001b[36m232\u001b[0m - \u001b[34m\u001b[1mStarts reading character from the device GX-241 II.\u001b[0m\n",
      "\u001b[32m2025-02-14 13:16:08.706\u001b[0m | \u001b[34m\u001b[1mDEBUG   \u001b[0m | \u001b[36mgilson\u001b[0m:\u001b[36mbCommand\u001b[0m:\u001b[36m234\u001b[0m - \u001b[34m\u001b[1mgot back b'B' from the device GX-241 II.\u001b[0m\n",
      "\u001b[32m2025-02-14 13:16:08.706\u001b[0m | \u001b[34m\u001b[1mDEBUG   \u001b[0m | \u001b[36mgilson\u001b[0m:\u001b[36mbCommand\u001b[0m:\u001b[36m238\u001b[0m - \u001b[34m\u001b[1mresp_raw: b'B'\u001b[0m\n",
      "\u001b[32m2025-02-14 13:16:08.706\u001b[0m | \u001b[34m\u001b[1mDEBUG   \u001b[0m | \u001b[36mgilson\u001b[0m:\u001b[36mbCommand\u001b[0m:\u001b[36m256\u001b[0m - \u001b[34m\u001b[1mresp_raw 2: 66\u001b[0m\n",
      "\u001b[32m2025-02-14 13:16:08.706\u001b[0m | \u001b[34m\u001b[1mDEBUG   \u001b[0m | \u001b[36mgilson\u001b[0m:\u001b[36mbCommand\u001b[0m:\u001b[36m230\u001b[0m - \u001b[34m\u001b[1mWrites buffered Command character b'B' to the device GX-241 II.\u001b[0m\n",
      "\u001b[32m2025-02-14 13:16:08.706\u001b[0m | \u001b[34m\u001b[1mDEBUG   \u001b[0m | \u001b[36mgilson\u001b[0m:\u001b[36mbCommand\u001b[0m:\u001b[36m232\u001b[0m - \u001b[34m\u001b[1mStarts reading character from the device GX-241 II.\u001b[0m\n",
      "\u001b[32m2025-02-14 13:16:08.821\u001b[0m | \u001b[34m\u001b[1mDEBUG   \u001b[0m | \u001b[36mgilson\u001b[0m:\u001b[36mbCommand\u001b[0m:\u001b[36m234\u001b[0m - \u001b[34m\u001b[1mgot back b'B' from the device GX-241 II.\u001b[0m\n",
      "\u001b[32m2025-02-14 13:16:08.821\u001b[0m | \u001b[34m\u001b[1mDEBUG   \u001b[0m | \u001b[36mgilson\u001b[0m:\u001b[36mbCommand\u001b[0m:\u001b[36m238\u001b[0m - \u001b[34m\u001b[1mresp_raw: b'B'\u001b[0m\n",
      "\u001b[32m2025-02-14 13:16:08.822\u001b[0m | \u001b[34m\u001b[1mDEBUG   \u001b[0m | \u001b[36mgilson\u001b[0m:\u001b[36mbCommand\u001b[0m:\u001b[36m256\u001b[0m - \u001b[34m\u001b[1mresp_raw 2: 66\u001b[0m\n",
      "\u001b[32m2025-02-14 13:16:08.823\u001b[0m | \u001b[34m\u001b[1mDEBUG   \u001b[0m | \u001b[36mgilson\u001b[0m:\u001b[36mbCommand\u001b[0m:\u001b[36m230\u001b[0m - \u001b[34m\u001b[1mWrites buffered Command character b'\\r' to the device GX-241 II.\u001b[0m\n",
      "\u001b[32m2025-02-14 13:16:08.823\u001b[0m | \u001b[34m\u001b[1mDEBUG   \u001b[0m | \u001b[36mgilson\u001b[0m:\u001b[36mbCommand\u001b[0m:\u001b[36m232\u001b[0m - \u001b[34m\u001b[1mStarts reading character from the device GX-241 II.\u001b[0m\n",
      "\u001b[32m2025-02-14 13:16:08.940\u001b[0m | \u001b[34m\u001b[1mDEBUG   \u001b[0m | \u001b[36mgilson\u001b[0m:\u001b[36mbCommand\u001b[0m:\u001b[36m234\u001b[0m - \u001b[34m\u001b[1mgot back b'\\r' from the device GX-241 II.\u001b[0m\n",
      "\u001b[32m2025-02-14 13:16:08.940\u001b[0m | \u001b[34m\u001b[1mDEBUG   \u001b[0m | \u001b[36mgilson\u001b[0m:\u001b[36mbCommand\u001b[0m:\u001b[36m238\u001b[0m - \u001b[34m\u001b[1mresp_raw: b'\\r'\u001b[0m\n",
      "\u001b[32m2025-02-14 13:16:08.940\u001b[0m | \u001b[34m\u001b[1mDEBUG   \u001b[0m | \u001b[36mgilson\u001b[0m:\u001b[36mbCommand\u001b[0m:\u001b[36m256\u001b[0m - \u001b[34m\u001b[1mresp_raw 2: 13\u001b[0m\n",
      "\u001b[32m2025-02-14 13:16:08.940\u001b[0m | \u001b[34m\u001b[1mDEBUG   \u001b[0m | \u001b[36mgilson\u001b[0m:\u001b[36mbCommand\u001b[0m:\u001b[36m271\u001b[0m - \u001b[34m\u001b[1mBuffered command complete.\u001b[0m\n",
      "\u001b[32m2025-02-14 13:16:08.940\u001b[0m | \u001b[34m\u001b[1mDEBUG   \u001b[0m | \u001b[36mgilson\u001b[0m:\u001b[36mbCommand\u001b[0m:\u001b[36m272\u001b[0m - \u001b[34m\u001b[1mReceived bytearray(b'\\nWBB\\r') from device.\u001b[0m\n",
      "\u001b[32m2025-02-14 13:16:08.947\u001b[0m | \u001b[1mINFO    \u001b[0m | \u001b[36mgilson\u001b[0m:\u001b[36mbCommand\u001b[0m:\u001b[36m273\u001b[0m - \u001b[1mGSIOC >>> bytearray(b'\\nWBB\\r')\u001b[0m\n",
      "\u001b[32m2025-02-14 13:16:08.949\u001b[0m | \u001b[34m\u001b[1mDEBUG   \u001b[0m | \u001b[36mgilson\u001b[0m:\u001b[36mbCommand\u001b[0m:\u001b[36m182\u001b[0m - \u001b[34m\u001b[1mSending buffered command \"H\" to device.\u001b[0m\n",
      "\u001b[32m2025-02-14 13:16:08.949\u001b[0m | \u001b[1mINFO    \u001b[0m | \u001b[36mgilson\u001b[0m:\u001b[36mbCommand\u001b[0m:\u001b[36m186\u001b[0m - \u001b[1mGSIOC <<< H\u001b[0m\n",
      "\u001b[32m2025-02-14 13:16:09.054\u001b[0m | \u001b[34m\u001b[1mDEBUG   \u001b[0m | \u001b[36mgilson\u001b[0m:\u001b[36mbCommand\u001b[0m:\u001b[36m205\u001b[0m - \u001b[34m\u001b[1mready signal: b'\\n'\u001b[0m\n",
      "\u001b[32m2025-02-14 13:16:09.055\u001b[0m | \u001b[34m\u001b[1mDEBUG   \u001b[0m | \u001b[36mgilson\u001b[0m:\u001b[36mbCommand\u001b[0m:\u001b[36m214\u001b[0m - \u001b[34m\u001b[1mStarting to send buffered command.\u001b[0m\n",
      "\u001b[32m2025-02-14 13:16:09.055\u001b[0m | \u001b[34m\u001b[1mDEBUG   \u001b[0m | \u001b[36mgilson\u001b[0m:\u001b[36mbCommand\u001b[0m:\u001b[36m225\u001b[0m - \u001b[34m\u001b[1m10\u001b[0m\n",
      "\u001b[32m2025-02-14 13:16:09.057\u001b[0m | \u001b[34m\u001b[1mDEBUG   \u001b[0m | \u001b[36mgilson\u001b[0m:\u001b[36mbCommand\u001b[0m:\u001b[36m230\u001b[0m - \u001b[34m\u001b[1mWrites buffered Command character b'H' to the device GX-241 II.\u001b[0m\n",
      "\u001b[32m2025-02-14 13:16:09.057\u001b[0m | \u001b[34m\u001b[1mDEBUG   \u001b[0m | \u001b[36mgilson\u001b[0m:\u001b[36mbCommand\u001b[0m:\u001b[36m232\u001b[0m - \u001b[34m\u001b[1mStarts reading character from the device GX-241 II.\u001b[0m\n",
      "\u001b[32m2025-02-14 13:16:09.173\u001b[0m | \u001b[34m\u001b[1mDEBUG   \u001b[0m | \u001b[36mgilson\u001b[0m:\u001b[36mbCommand\u001b[0m:\u001b[36m234\u001b[0m - \u001b[34m\u001b[1mgot back b'H' from the device GX-241 II.\u001b[0m\n",
      "\u001b[32m2025-02-14 13:16:09.175\u001b[0m | \u001b[34m\u001b[1mDEBUG   \u001b[0m | \u001b[36mgilson\u001b[0m:\u001b[36mbCommand\u001b[0m:\u001b[36m238\u001b[0m - \u001b[34m\u001b[1mresp_raw: b'H'\u001b[0m\n",
      "\u001b[32m2025-02-14 13:16:09.175\u001b[0m | \u001b[34m\u001b[1mDEBUG   \u001b[0m | \u001b[36mgilson\u001b[0m:\u001b[36mbCommand\u001b[0m:\u001b[36m256\u001b[0m - \u001b[34m\u001b[1mresp_raw 2: 72\u001b[0m\n",
      "\u001b[32m2025-02-14 13:16:09.181\u001b[0m | \u001b[34m\u001b[1mDEBUG   \u001b[0m | \u001b[36mgilson\u001b[0m:\u001b[36mbCommand\u001b[0m:\u001b[36m230\u001b[0m - \u001b[34m\u001b[1mWrites buffered Command character b'\\r' to the device GX-241 II.\u001b[0m\n",
      "\u001b[32m2025-02-14 13:16:09.184\u001b[0m | \u001b[34m\u001b[1mDEBUG   \u001b[0m | \u001b[36mgilson\u001b[0m:\u001b[36mbCommand\u001b[0m:\u001b[36m232\u001b[0m - \u001b[34m\u001b[1mStarts reading character from the device GX-241 II.\u001b[0m\n",
      "\u001b[32m2025-02-14 13:16:09.297\u001b[0m | \u001b[34m\u001b[1mDEBUG   \u001b[0m | \u001b[36mgilson\u001b[0m:\u001b[36mbCommand\u001b[0m:\u001b[36m234\u001b[0m - \u001b[34m\u001b[1mgot back b'\\r' from the device GX-241 II.\u001b[0m\n",
      "\u001b[32m2025-02-14 13:16:09.299\u001b[0m | \u001b[34m\u001b[1mDEBUG   \u001b[0m | \u001b[36mgilson\u001b[0m:\u001b[36mbCommand\u001b[0m:\u001b[36m238\u001b[0m - \u001b[34m\u001b[1mresp_raw: b'\\r'\u001b[0m\n",
      "\u001b[32m2025-02-14 13:16:09.301\u001b[0m | \u001b[34m\u001b[1mDEBUG   \u001b[0m | \u001b[36mgilson\u001b[0m:\u001b[36mbCommand\u001b[0m:\u001b[36m256\u001b[0m - \u001b[34m\u001b[1mresp_raw 2: 13\u001b[0m\n",
      "\u001b[32m2025-02-14 13:16:09.303\u001b[0m | \u001b[34m\u001b[1mDEBUG   \u001b[0m | \u001b[36mgilson\u001b[0m:\u001b[36mbCommand\u001b[0m:\u001b[36m271\u001b[0m - \u001b[34m\u001b[1mBuffered command complete.\u001b[0m\n",
      "\u001b[32m2025-02-14 13:16:09.305\u001b[0m | \u001b[34m\u001b[1mDEBUG   \u001b[0m | \u001b[36mgilson\u001b[0m:\u001b[36mbCommand\u001b[0m:\u001b[36m272\u001b[0m - \u001b[34m\u001b[1mReceived bytearray(b'\\nH\\r') from device.\u001b[0m\n",
      "\u001b[32m2025-02-14 13:16:09.306\u001b[0m | \u001b[1mINFO    \u001b[0m | \u001b[36mgilson\u001b[0m:\u001b[36mbCommand\u001b[0m:\u001b[36m273\u001b[0m - \u001b[1mGSIOC >>> bytearray(b'\\nH\\r')\u001b[0m\n"
     ]
    },
    {
     "data": {
      "text/plain": [
       "bytearray(b'\\nH\\r')"
      ]
     },
     "execution_count": 19,
     "metadata": {},
     "output_type": "execute_result"
    }
   ],
   "source": [
    "# Iterate over each tuple in the list (each separate kinetic profile)\n",
    "for tuple in spka_combinations:\n",
    "    \n",
    "    # Iterate over each number in the tuple (each reagent in an experiment)\n",
    "    for element in tuple:\n",
    "        \n",
    "        # Find the xy position of the vial        \n",
    "        vial_xy_pos = rack1_commands.get_xy_command(element)\n",
    "        \n",
    "        ##### TO DO #####\n",
    "        \n",
    "        # Display vial number - must be a two digit integer\n",
    "        g.bCommand(f\"W{element:02}\")\n",
    "        \n",
    "        # Go to Vial\n",
    "        g.bCommand(vial_xy_pos[0])\n",
    "        log_action('test_log.txt', f\"Autosampler sent to position {element:02}\")\n",
    "        \n",
    "        # Needle Down - define this distance somewhere above!\n",
    "        g.bCommand('Z85')\n",
    "\n",
    "        #HBElite to withdraw\n",
    "        pump.command('cvolume')\n",
    "        pump.command('ctvolume')\n",
    "        pump.command('tvolume 0.02 ml')\n",
    "        pump.command('wrate 2 ml/min')\n",
    "        pump.command('wrun')\n",
    "        \n",
    "        \n",
    "        # Run the pump\n",
    "        # This will be a while away...\n",
    "        # How to make the autosampler idle while this is happening?\n",
    "\n",
    "        # Needle Up\n",
    "        g.bCommand('Z120')\n",
    "\n",
    "        # Log the vial and the amount taken\n",
    "        # Add a logger...\n",
    "        print(vial_xy_pos)\n",
    "\n",
    "        # Create air gap\n",
    "        # Create a tiny airgap with the pump, will this be necessary?\n",
    "        \n",
    "    # Go to the DIM and inject\n",
    "    g_inject()\n",
    "    log_action('test_log.txt', \"Autosampler sent to DIM to inject\")\n",
    "    \n",
    "    # Blank the display\n",
    "    g.bCommand('WBB')\n",
    "\n",
    "g.bCommand('H')"
   ]
  },
  {
   "cell_type": "code",
   "execution_count": null,
   "id": "624fd75b-89f6-4a88-80cc-8cca6e59d7d4",
   "metadata": {},
   "outputs": [],
   "source": []
  }
 ],
 "metadata": {
  "kernelspec": {
   "display_name": "Python 3 (ipykernel)",
   "language": "python",
   "name": "python3"
  },
  "language_info": {
   "codemirror_mode": {
    "name": "ipython",
    "version": 3
   },
   "file_extension": ".py",
   "mimetype": "text/x-python",
   "name": "python",
   "nbconvert_exporter": "python",
   "pygments_lexer": "ipython3",
   "version": "3.11.7"
  }
 },
 "nbformat": 4,
 "nbformat_minor": 5
}
