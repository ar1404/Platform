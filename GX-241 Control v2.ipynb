{
 "cells": [
  {
   "cell_type": "markdown",
   "id": "94e6f2a6-9a8c-4676-864c-9c1dd30ea6b7",
   "metadata": {},
   "source": [
    "# Control Centre"
   ]
  },
  {
   "cell_type": "code",
   "execution_count": 1,
   "id": "38def2b4-4cd7-4e1f-834f-6db4e1f7c1c8",
   "metadata": {},
   "outputs": [],
   "source": [
    "import time\n",
    "import serial\n",
    "import numpy as np\n",
    "import sys\n",
    "import os\n",
    "import asyncio\n",
    "from multiprocessing import Process\n",
    "import threading\n",
    "from scipy import constants\n",
    "import itertools\n",
    "\n",
    "import binascii\n",
    "from datetime import datetime\n",
    "import logging\n",
    "\n",
    "#from gsioc import gsioc_Protocol, ensure_xy_position_will_be_reached"
   ]
  },
  {
   "cell_type": "markdown",
   "id": "1d0db269-dbab-424a-99a5-188148d0555a",
   "metadata": {},
   "source": [
    "## Get started with GSIOC"
   ]
  },
  {
   "cell_type": "markdown",
   "id": "379f0e49-c3c5-4544-949e-1c1e0e4dd23c",
   "metadata": {},
   "source": [
    "To reset the COM port:\n",
    "1) Open device manager and disable COM1\n",
    "2) Turn machine off and on\n",
    "3) Enable COM1 in device manager\n",
    "\n",
    "Use ser.close() here to close the serial port\n",
    "\n",
    "NOTE: Python seems to have problems when the GX-241 is in COM1 (motherboard), it will connect but cannot send or recieve. This is easily fixed by using a USB to serial adapter instead."
   ]
  },
  {
   "cell_type": "code",
   "execution_count": 2,
   "id": "9c217afa-11be-449a-ab68-e48951d5082b",
   "metadata": {},
   "outputs": [],
   "source": [
    "from equip_class import *"
   ]
  },
  {
   "cell_type": "code",
   "execution_count": 3,
   "id": "afc3cec3-aa8a-450f-bb3a-2083027a3444",
   "metadata": {},
   "outputs": [],
   "source": [
    "from platform_setup_new import *"
   ]
  },
  {
   "cell_type": "code",
   "execution_count": 4,
   "id": "8b0fc3ba-00c6-4f08-a1c3-537890108fe0",
   "metadata": {},
   "outputs": [],
   "source": [
    "# Set up the serial connection\n",
    "PORT1 = 'COM6'\n",
    "ser = serial.Serial(PORT1, 19200, 8, \"N\", 1, 0.1)"
   ]
  },
  {
   "cell_type": "code",
   "execution_count": 5,
   "id": "0c566769-2d01-442e-8826-ead57c1cd8c4",
   "metadata": {},
   "outputs": [],
   "source": [
    "# Create an instance of the gsioc_Protocol class\n",
    "g = gsioc_Protocol(ser, 'GX-241 II', 30)"
   ]
  },
  {
   "cell_type": "code",
   "execution_count": 6,
   "id": "7e8cdea3-e354-47b2-8e1c-ae7d5305387c",
   "metadata": {
    "scrolled": true
   },
   "outputs": [
    {
     "name": "stderr",
     "output_type": "stream",
     "text": [
      "\u001b[32m2025-02-12 14:25:09.691\u001b[0m | \u001b[34m\u001b[1mDEBUG   \u001b[0m | \u001b[36mequip_class\u001b[0m:\u001b[36mverify_open\u001b[0m:\u001b[36m216\u001b[0m - \u001b[34m\u001b[1mCheck if port is open.\u001b[0m\n",
      "\u001b[32m2025-02-12 14:25:10.204\u001b[0m | \u001b[34m\u001b[1mDEBUG   \u001b[0m | \u001b[36mequip_class\u001b[0m:\u001b[36miCommand\u001b[0m:\u001b[36m285\u001b[0m - \u001b[34m\u001b[1mSending immediate command % to device.\u001b[0m\n",
      "\u001b[32m2025-02-12 14:25:12.209\u001b[0m | \u001b[34m\u001b[1mDEBUG   \u001b[0m | \u001b[36mequip_class\u001b[0m:\u001b[36miCommand\u001b[0m:\u001b[36m314\u001b[0m - \u001b[34m\u001b[1mSending immediate command complete.\u001b[0m\n",
      "\u001b[32m2025-02-12 14:25:12.212\u001b[0m | \u001b[34m\u001b[1mDEBUG   \u001b[0m | \u001b[36mequip_class\u001b[0m:\u001b[36miCommand\u001b[0m:\u001b[36m324\u001b[0m - \u001b[34m\u001b[1mreceived bytearray(b'GX-241 II v2.0.2.5') as response.\u001b[0m\n",
      "\u001b[32m2025-02-12 14:25:12.415\u001b[0m | \u001b[34m\u001b[1mDEBUG   \u001b[0m | \u001b[36mequip_class\u001b[0m:\u001b[36mconnect\u001b[0m:\u001b[36m268\u001b[0m - \u001b[34m\u001b[1mConnected to device 30\u001b[0m\n"
     ]
    }
   ],
   "source": [
    "g.connect()"
   ]
  },
  {
   "cell_type": "code",
   "execution_count": 7,
   "id": "a0f08880-c573-4ee4-af7b-17d16ed937c2",
   "metadata": {},
   "outputs": [
    {
     "name": "stderr",
     "output_type": "stream",
     "text": [
      "\u001b[32m2025-02-12 14:25:14.827\u001b[0m | \u001b[34m\u001b[1mDEBUG   \u001b[0m | \u001b[36mequip_class\u001b[0m:\u001b[36miCommand\u001b[0m:\u001b[36m285\u001b[0m - \u001b[34m\u001b[1mSending immediate command % to device.\u001b[0m\n",
      "\u001b[32m2025-02-12 14:25:16.811\u001b[0m | \u001b[34m\u001b[1mDEBUG   \u001b[0m | \u001b[36mequip_class\u001b[0m:\u001b[36miCommand\u001b[0m:\u001b[36m314\u001b[0m - \u001b[34m\u001b[1mSending immediate command complete.\u001b[0m\n",
      "\u001b[32m2025-02-12 14:25:16.814\u001b[0m | \u001b[34m\u001b[1mDEBUG   \u001b[0m | \u001b[36mequip_class\u001b[0m:\u001b[36miCommand\u001b[0m:\u001b[36m324\u001b[0m - \u001b[34m\u001b[1mreceived bytearray(b'GX-241 II v2.0.2.5') as response.\u001b[0m\n"
     ]
    },
    {
     "data": {
      "text/plain": [
       "'GX-241 II v2.0.2.5'"
      ]
     },
     "execution_count": 7,
     "metadata": {},
     "output_type": "execute_result"
    }
   ],
   "source": [
    "g.iCommand('%')"
   ]
  },
  {
   "cell_type": "code",
   "execution_count": null,
   "id": "991b4a46-ea6b-459a-8376-0fe9943bc847",
   "metadata": {},
   "outputs": [],
   "source": [
    "g.bCommand('e[n]')"
   ]
  },
  {
   "cell_type": "code",
   "execution_count": null,
   "id": "16a7d5e2-ccf6-49a9-9d49-3634cc0cd068",
   "metadata": {},
   "outputs": [],
   "source": [
    "def g_inject():\n",
    "    g.bCommand('X146.5/0')\n",
    "    g.bCommand('Z105')"
   ]
  },
  {
   "cell_type": "code",
   "execution_count": null,
   "id": "5bd0a70c-8ea3-4d18-ae4c-fcd1c91d5e64",
   "metadata": {},
   "outputs": [],
   "source": [
    "# Create an instance of the gsioc_Protocol class\n",
    "g_dim = gsioc_Protocol(ser, 'GX D Inject', 3)"
   ]
  },
  {
   "cell_type": "code",
   "execution_count": null,
   "id": "83f2f71c-2a06-4037-b9df-211bbf742c57",
   "metadata": {},
   "outputs": [],
   "source": [
    "g_dim.connect()"
   ]
  },
  {
   "cell_type": "code",
   "execution_count": null,
   "id": "87ee6c1e-6a20-4f68-a18d-6262373d12af",
   "metadata": {},
   "outputs": [],
   "source": [
    "g_dim.iCommand('%')"
   ]
  },
  {
   "cell_type": "code",
   "execution_count": null,
   "id": "d40c8cba-cb07-4042-b4d6-a3c4b55fc1e2",
   "metadata": {},
   "outputs": [],
   "source": [
    " g_dim.bCommand('VI')"
   ]
  },
  {
   "cell_type": "code",
   "execution_count": null,
   "id": "2842d9c6-0575-43f4-9d4d-83afc62e2ff7",
   "metadata": {
    "scrolled": true
   },
   "outputs": [],
   "source": [
    "g_dim.bCommand('VL')"
   ]
  },
  {
   "cell_type": "code",
   "execution_count": null,
   "id": "b5dad77a-0e3b-469c-8855-3d894d07ffef",
   "metadata": {},
   "outputs": [],
   "source": [
    "def pos_change():\n",
    "    if g_dim.iCommand('X') == 'L' :\n",
    "        g_dim.bCommand('VI')\n",
    "    else :\n",
    "        g_dim.bCommand('VL')"
   ]
  },
  {
   "cell_type": "code",
   "execution_count": null,
   "id": "9bffc8f2-5166-4f4c-94ef-5ffd364c26cb",
   "metadata": {},
   "outputs": [],
   "source": [
    "pos_change()"
   ]
  },
  {
   "cell_type": "markdown",
   "id": "56b5082c-d767-40c9-9779-4f978138e383",
   "metadata": {},
   "source": [
    "## Basic method byte by byte"
   ]
  },
  {
   "cell_type": "code",
   "execution_count": null,
   "id": "a4719981-94c6-41da-bbd2-eb93d95b78eb",
   "metadata": {
    "scrolled": true
   },
   "outputs": [],
   "source": [
    "ser.isOpen()"
   ]
  },
  {
   "cell_type": "code",
   "execution_count": null,
   "id": "905a9047-7771-4623-bb14-32199c0cc342",
   "metadata": {},
   "outputs": [],
   "source": [
    "# 4. Testing and Debugging\n",
    "# Create an instance of DeviceController\n",
    "device = DeviceController(ser)\n",
    "\n",
    "# Example command to send (replace with actual command for your device)\n",
    "command_string = '%'\n",
    "\n",
    "# Call the iCommand method\n",
    "try:\n",
    "    response = device.iCommand(command_string)\n",
    "    print(f'Response from device: {response}')\n",
    "except Exception as e:\n",
    "    print(f'Error: {e}')"
   ]
  },
  {
   "cell_type": "code",
   "execution_count": null,
   "id": "0afcb479-24c8-4859-afe0-c63965a93cda",
   "metadata": {},
   "outputs": [],
   "source": [
    "ser.close()"
   ]
  },
  {
   "cell_type": "markdown",
   "id": "3313c5dc-8b44-429e-8ebe-892a6557cef9",
   "metadata": {},
   "source": [
    "## Try Run and Platform Setup"
   ]
  },
  {
   "cell_type": "markdown",
   "id": "b0772902-86a1-474c-9995-74aafb5c48b0",
   "metadata": {},
   "source": [
    "This seems a little complex as is, too many unneeded things bundled in run.py. Try to extract the relevant functions and start again."
   ]
  },
  {
   "cell_type": "code",
   "execution_count": 8,
   "id": "df454243-fea1-4610-a02a-1d4ca0c6ea8f",
   "metadata": {},
   "outputs": [],
   "source": [
    "rack_position_offset_x=92       #distance in mm between rack_position=1 and =2 on x-axis\n",
    "rack_position_offset_y=0        #distance in mm between rack_position=1 and =2 on y-axis\n",
    "\n",
    "############################# RACK 1 DEFINITION #################################\n",
    "\n",
    "# From platform_setup.py \n",
    "rack1 = Rack([4,16], 7.5, 39.5, 18.5, 13.75, 65) # groundlevel_height assumed the minimum Z\n",
    "\n",
    "#  array_dimensions, offset_x, offset_y=offset_y, vial2vial_x, vial2vial_y, groundlevel_height\n",
    "\n",
    "# Previous vial2vialx = (2.11+15.6)\n",
    "# Previous vial2vial7 = (2.72+15.6+0.35)\n",
    "\n",
    "array_order1 = np.array([      #user is obliged to define a integer number i>=1 for each vial in the rack in ascending order \n",
    "    [1, 2, 3, 4],\n",
    "    [5, 6, 7, 8],\n",
    "    [9, 10,11,12],\n",
    "    [13,14,15,16],\n",
    "    [17,18,19,20],\n",
    "    [21,22,23,24],     \n",
    "    [25,26,27,28],     \n",
    "    [29,30,31,32],\n",
    "    [33,34,35,36],\n",
    "    [37,38,39,40],\n",
    "    [41,42,43,44],\n",
    "    [45,46,47,48],\n",
    "    [49,50,51,52],\n",
    "    [53,54,55,56],\n",
    "    [57,58,59,60],\n",
    "    [61,62,63,64]        \n",
    "    ])\n",
    "    \n",
    "rack_pos1=1\n",
    "\n",
    "global rack1_commands\n",
    "\n",
    "# Not sure what rack_position_offset_x/y are for x=92 and y=0\n",
    "\n",
    "rack1_commands = Rackcommands(rack1, array_order1, rack_pos1, rack_position_offset_x, rack_position_offset_y)\n",
    "\n",
    "global vial_selfmade\n",
    "\n",
    "vial_selfmade = Vial(1.5, 1, 33, 31.08)"
   ]
  },
  {
   "cell_type": "code",
   "execution_count": 9,
   "id": "91729a43-a1fc-42c6-a7bc-d599b4e682c4",
   "metadata": {},
   "outputs": [
    {
     "name": "stderr",
     "output_type": "stream",
     "text": [
      "\u001b[32m2025-02-12 14:25:41.569\u001b[0m | \u001b[34m\u001b[1mDEBUG   \u001b[0m | \u001b[36mequip_class\u001b[0m:\u001b[36mbCommand\u001b[0m:\u001b[36m331\u001b[0m - \u001b[34m\u001b[1mSending buffered command \"X26.0/39.5\" to device.\u001b[0m\n",
      "\u001b[32m2025-02-12 14:25:41.570\u001b[0m | \u001b[1mINFO    \u001b[0m | \u001b[36mequip_class\u001b[0m:\u001b[36mbCommand\u001b[0m:\u001b[36m335\u001b[0m - \u001b[1mGSIOC <<< X26.0/39.5\u001b[0m\n",
      "\u001b[32m2025-02-12 14:25:41.683\u001b[0m | \u001b[34m\u001b[1mDEBUG   \u001b[0m | \u001b[36mequip_class\u001b[0m:\u001b[36mbCommand\u001b[0m:\u001b[36m354\u001b[0m - \u001b[34m\u001b[1mready signal: b'\\n'\u001b[0m\n",
      "\u001b[32m2025-02-12 14:25:41.685\u001b[0m | \u001b[34m\u001b[1mDEBUG   \u001b[0m | \u001b[36mequip_class\u001b[0m:\u001b[36mbCommand\u001b[0m:\u001b[36m363\u001b[0m - \u001b[34m\u001b[1mStarting to send buffered command.\u001b[0m\n",
      "\u001b[32m2025-02-12 14:25:41.687\u001b[0m | \u001b[34m\u001b[1mDEBUG   \u001b[0m | \u001b[36mequip_class\u001b[0m:\u001b[36mbCommand\u001b[0m:\u001b[36m374\u001b[0m - \u001b[34m\u001b[1m10\u001b[0m\n",
      "\u001b[32m2025-02-12 14:25:41.689\u001b[0m | \u001b[34m\u001b[1mDEBUG   \u001b[0m | \u001b[36mequip_class\u001b[0m:\u001b[36mbCommand\u001b[0m:\u001b[36m379\u001b[0m - \u001b[34m\u001b[1mWrites buffered Command character b'X' to the device GX-241 II.\u001b[0m\n",
      "\u001b[32m2025-02-12 14:25:41.691\u001b[0m | \u001b[34m\u001b[1mDEBUG   \u001b[0m | \u001b[36mequip_class\u001b[0m:\u001b[36mbCommand\u001b[0m:\u001b[36m381\u001b[0m - \u001b[34m\u001b[1mStarts reading character from the device GX-241 II.\u001b[0m\n",
      "\u001b[32m2025-02-12 14:25:41.793\u001b[0m | \u001b[34m\u001b[1mDEBUG   \u001b[0m | \u001b[36mequip_class\u001b[0m:\u001b[36mbCommand\u001b[0m:\u001b[36m383\u001b[0m - \u001b[34m\u001b[1mgot back b'X' from the device GX-241 II.\u001b[0m\n",
      "\u001b[32m2025-02-12 14:25:41.793\u001b[0m | \u001b[34m\u001b[1mDEBUG   \u001b[0m | \u001b[36mequip_class\u001b[0m:\u001b[36mbCommand\u001b[0m:\u001b[36m387\u001b[0m - \u001b[34m\u001b[1mresp_raw: b'X'\u001b[0m\n",
      "\u001b[32m2025-02-12 14:25:41.794\u001b[0m | \u001b[34m\u001b[1mDEBUG   \u001b[0m | \u001b[36mequip_class\u001b[0m:\u001b[36mbCommand\u001b[0m:\u001b[36m405\u001b[0m - \u001b[34m\u001b[1mresp_raw 2: 88\u001b[0m\n",
      "\u001b[32m2025-02-12 14:25:41.795\u001b[0m | \u001b[34m\u001b[1mDEBUG   \u001b[0m | \u001b[36mequip_class\u001b[0m:\u001b[36mbCommand\u001b[0m:\u001b[36m379\u001b[0m - \u001b[34m\u001b[1mWrites buffered Command character b'2' to the device GX-241 II.\u001b[0m\n",
      "\u001b[32m2025-02-12 14:25:41.796\u001b[0m | \u001b[34m\u001b[1mDEBUG   \u001b[0m | \u001b[36mequip_class\u001b[0m:\u001b[36mbCommand\u001b[0m:\u001b[36m381\u001b[0m - \u001b[34m\u001b[1mStarts reading character from the device GX-241 II.\u001b[0m\n",
      "\u001b[32m2025-02-12 14:25:41.902\u001b[0m | \u001b[34m\u001b[1mDEBUG   \u001b[0m | \u001b[36mequip_class\u001b[0m:\u001b[36mbCommand\u001b[0m:\u001b[36m383\u001b[0m - \u001b[34m\u001b[1mgot back b'2' from the device GX-241 II.\u001b[0m\n",
      "\u001b[32m2025-02-12 14:25:41.903\u001b[0m | \u001b[34m\u001b[1mDEBUG   \u001b[0m | \u001b[36mequip_class\u001b[0m:\u001b[36mbCommand\u001b[0m:\u001b[36m387\u001b[0m - \u001b[34m\u001b[1mresp_raw: b'2'\u001b[0m\n",
      "\u001b[32m2025-02-12 14:25:41.904\u001b[0m | \u001b[34m\u001b[1mDEBUG   \u001b[0m | \u001b[36mequip_class\u001b[0m:\u001b[36mbCommand\u001b[0m:\u001b[36m405\u001b[0m - \u001b[34m\u001b[1mresp_raw 2: 50\u001b[0m\n",
      "\u001b[32m2025-02-12 14:25:41.905\u001b[0m | \u001b[34m\u001b[1mDEBUG   \u001b[0m | \u001b[36mequip_class\u001b[0m:\u001b[36mbCommand\u001b[0m:\u001b[36m379\u001b[0m - \u001b[34m\u001b[1mWrites buffered Command character b'6' to the device GX-241 II.\u001b[0m\n",
      "\u001b[32m2025-02-12 14:25:41.906\u001b[0m | \u001b[34m\u001b[1mDEBUG   \u001b[0m | \u001b[36mequip_class\u001b[0m:\u001b[36mbCommand\u001b[0m:\u001b[36m381\u001b[0m - \u001b[34m\u001b[1mStarts reading character from the device GX-241 II.\u001b[0m\n",
      "\u001b[32m2025-02-12 14:25:42.012\u001b[0m | \u001b[34m\u001b[1mDEBUG   \u001b[0m | \u001b[36mequip_class\u001b[0m:\u001b[36mbCommand\u001b[0m:\u001b[36m383\u001b[0m - \u001b[34m\u001b[1mgot back b'6' from the device GX-241 II.\u001b[0m\n",
      "\u001b[32m2025-02-12 14:25:42.013\u001b[0m | \u001b[34m\u001b[1mDEBUG   \u001b[0m | \u001b[36mequip_class\u001b[0m:\u001b[36mbCommand\u001b[0m:\u001b[36m387\u001b[0m - \u001b[34m\u001b[1mresp_raw: b'6'\u001b[0m\n",
      "\u001b[32m2025-02-12 14:25:42.014\u001b[0m | \u001b[34m\u001b[1mDEBUG   \u001b[0m | \u001b[36mequip_class\u001b[0m:\u001b[36mbCommand\u001b[0m:\u001b[36m405\u001b[0m - \u001b[34m\u001b[1mresp_raw 2: 54\u001b[0m\n",
      "\u001b[32m2025-02-12 14:25:42.015\u001b[0m | \u001b[34m\u001b[1mDEBUG   \u001b[0m | \u001b[36mequip_class\u001b[0m:\u001b[36mbCommand\u001b[0m:\u001b[36m379\u001b[0m - \u001b[34m\u001b[1mWrites buffered Command character b'.' to the device GX-241 II.\u001b[0m\n",
      "\u001b[32m2025-02-12 14:25:42.017\u001b[0m | \u001b[34m\u001b[1mDEBUG   \u001b[0m | \u001b[36mequip_class\u001b[0m:\u001b[36mbCommand\u001b[0m:\u001b[36m381\u001b[0m - \u001b[34m\u001b[1mStarts reading character from the device GX-241 II.\u001b[0m\n",
      "\u001b[32m2025-02-12 14:25:42.122\u001b[0m | \u001b[34m\u001b[1mDEBUG   \u001b[0m | \u001b[36mequip_class\u001b[0m:\u001b[36mbCommand\u001b[0m:\u001b[36m383\u001b[0m - \u001b[34m\u001b[1mgot back b'.' from the device GX-241 II.\u001b[0m\n",
      "\u001b[32m2025-02-12 14:25:42.123\u001b[0m | \u001b[34m\u001b[1mDEBUG   \u001b[0m | \u001b[36mequip_class\u001b[0m:\u001b[36mbCommand\u001b[0m:\u001b[36m387\u001b[0m - \u001b[34m\u001b[1mresp_raw: b'.'\u001b[0m\n",
      "\u001b[32m2025-02-12 14:25:42.124\u001b[0m | \u001b[34m\u001b[1mDEBUG   \u001b[0m | \u001b[36mequip_class\u001b[0m:\u001b[36mbCommand\u001b[0m:\u001b[36m405\u001b[0m - \u001b[34m\u001b[1mresp_raw 2: 46\u001b[0m\n",
      "\u001b[32m2025-02-12 14:25:42.124\u001b[0m | \u001b[34m\u001b[1mDEBUG   \u001b[0m | \u001b[36mequip_class\u001b[0m:\u001b[36mbCommand\u001b[0m:\u001b[36m379\u001b[0m - \u001b[34m\u001b[1mWrites buffered Command character b'0' to the device GX-241 II.\u001b[0m\n",
      "\u001b[32m2025-02-12 14:25:42.125\u001b[0m | \u001b[34m\u001b[1mDEBUG   \u001b[0m | \u001b[36mequip_class\u001b[0m:\u001b[36mbCommand\u001b[0m:\u001b[36m381\u001b[0m - \u001b[34m\u001b[1mStarts reading character from the device GX-241 II.\u001b[0m\n",
      "\u001b[32m2025-02-12 14:25:42.232\u001b[0m | \u001b[34m\u001b[1mDEBUG   \u001b[0m | \u001b[36mequip_class\u001b[0m:\u001b[36mbCommand\u001b[0m:\u001b[36m383\u001b[0m - \u001b[34m\u001b[1mgot back b'0' from the device GX-241 II.\u001b[0m\n",
      "\u001b[32m2025-02-12 14:25:42.234\u001b[0m | \u001b[34m\u001b[1mDEBUG   \u001b[0m | \u001b[36mequip_class\u001b[0m:\u001b[36mbCommand\u001b[0m:\u001b[36m387\u001b[0m - \u001b[34m\u001b[1mresp_raw: b'0'\u001b[0m\n",
      "\u001b[32m2025-02-12 14:25:42.236\u001b[0m | \u001b[34m\u001b[1mDEBUG   \u001b[0m | \u001b[36mequip_class\u001b[0m:\u001b[36mbCommand\u001b[0m:\u001b[36m405\u001b[0m - \u001b[34m\u001b[1mresp_raw 2: 48\u001b[0m\n",
      "\u001b[32m2025-02-12 14:25:42.238\u001b[0m | \u001b[34m\u001b[1mDEBUG   \u001b[0m | \u001b[36mequip_class\u001b[0m:\u001b[36mbCommand\u001b[0m:\u001b[36m379\u001b[0m - \u001b[34m\u001b[1mWrites buffered Command character b'/' to the device GX-241 II.\u001b[0m\n",
      "\u001b[32m2025-02-12 14:25:42.240\u001b[0m | \u001b[34m\u001b[1mDEBUG   \u001b[0m | \u001b[36mequip_class\u001b[0m:\u001b[36mbCommand\u001b[0m:\u001b[36m381\u001b[0m - \u001b[34m\u001b[1mStarts reading character from the device GX-241 II.\u001b[0m\n",
      "\u001b[32m2025-02-12 14:25:42.343\u001b[0m | \u001b[34m\u001b[1mDEBUG   \u001b[0m | \u001b[36mequip_class\u001b[0m:\u001b[36mbCommand\u001b[0m:\u001b[36m383\u001b[0m - \u001b[34m\u001b[1mgot back b'/' from the device GX-241 II.\u001b[0m\n",
      "\u001b[32m2025-02-12 14:25:42.343\u001b[0m | \u001b[34m\u001b[1mDEBUG   \u001b[0m | \u001b[36mequip_class\u001b[0m:\u001b[36mbCommand\u001b[0m:\u001b[36m387\u001b[0m - \u001b[34m\u001b[1mresp_raw: b'/'\u001b[0m\n",
      "\u001b[32m2025-02-12 14:25:42.344\u001b[0m | \u001b[34m\u001b[1mDEBUG   \u001b[0m | \u001b[36mequip_class\u001b[0m:\u001b[36mbCommand\u001b[0m:\u001b[36m405\u001b[0m - \u001b[34m\u001b[1mresp_raw 2: 47\u001b[0m\n",
      "\u001b[32m2025-02-12 14:25:42.345\u001b[0m | \u001b[34m\u001b[1mDEBUG   \u001b[0m | \u001b[36mequip_class\u001b[0m:\u001b[36mbCommand\u001b[0m:\u001b[36m379\u001b[0m - \u001b[34m\u001b[1mWrites buffered Command character b'3' to the device GX-241 II.\u001b[0m\n",
      "\u001b[32m2025-02-12 14:25:42.345\u001b[0m | \u001b[34m\u001b[1mDEBUG   \u001b[0m | \u001b[36mequip_class\u001b[0m:\u001b[36mbCommand\u001b[0m:\u001b[36m381\u001b[0m - \u001b[34m\u001b[1mStarts reading character from the device GX-241 II.\u001b[0m\n",
      "\u001b[32m2025-02-12 14:25:42.454\u001b[0m | \u001b[34m\u001b[1mDEBUG   \u001b[0m | \u001b[36mequip_class\u001b[0m:\u001b[36mbCommand\u001b[0m:\u001b[36m383\u001b[0m - \u001b[34m\u001b[1mgot back b'3' from the device GX-241 II.\u001b[0m\n",
      "\u001b[32m2025-02-12 14:25:42.456\u001b[0m | \u001b[34m\u001b[1mDEBUG   \u001b[0m | \u001b[36mequip_class\u001b[0m:\u001b[36mbCommand\u001b[0m:\u001b[36m387\u001b[0m - \u001b[34m\u001b[1mresp_raw: b'3'\u001b[0m\n",
      "\u001b[32m2025-02-12 14:25:42.458\u001b[0m | \u001b[34m\u001b[1mDEBUG   \u001b[0m | \u001b[36mequip_class\u001b[0m:\u001b[36mbCommand\u001b[0m:\u001b[36m405\u001b[0m - \u001b[34m\u001b[1mresp_raw 2: 51\u001b[0m\n",
      "\u001b[32m2025-02-12 14:25:42.461\u001b[0m | \u001b[34m\u001b[1mDEBUG   \u001b[0m | \u001b[36mequip_class\u001b[0m:\u001b[36mbCommand\u001b[0m:\u001b[36m379\u001b[0m - \u001b[34m\u001b[1mWrites buffered Command character b'9' to the device GX-241 II.\u001b[0m\n",
      "\u001b[32m2025-02-12 14:25:42.463\u001b[0m | \u001b[34m\u001b[1mDEBUG   \u001b[0m | \u001b[36mequip_class\u001b[0m:\u001b[36mbCommand\u001b[0m:\u001b[36m381\u001b[0m - \u001b[34m\u001b[1mStarts reading character from the device GX-241 II.\u001b[0m\n",
      "\u001b[32m2025-02-12 14:25:42.579\u001b[0m | \u001b[34m\u001b[1mDEBUG   \u001b[0m | \u001b[36mequip_class\u001b[0m:\u001b[36mbCommand\u001b[0m:\u001b[36m383\u001b[0m - \u001b[34m\u001b[1mgot back b'9' from the device GX-241 II.\u001b[0m\n",
      "\u001b[32m2025-02-12 14:25:42.579\u001b[0m | \u001b[34m\u001b[1mDEBUG   \u001b[0m | \u001b[36mequip_class\u001b[0m:\u001b[36mbCommand\u001b[0m:\u001b[36m387\u001b[0m - \u001b[34m\u001b[1mresp_raw: b'9'\u001b[0m\n",
      "\u001b[32m2025-02-12 14:25:42.580\u001b[0m | \u001b[34m\u001b[1mDEBUG   \u001b[0m | \u001b[36mequip_class\u001b[0m:\u001b[36mbCommand\u001b[0m:\u001b[36m405\u001b[0m - \u001b[34m\u001b[1mresp_raw 2: 57\u001b[0m\n",
      "\u001b[32m2025-02-12 14:25:42.581\u001b[0m | \u001b[34m\u001b[1mDEBUG   \u001b[0m | \u001b[36mequip_class\u001b[0m:\u001b[36mbCommand\u001b[0m:\u001b[36m379\u001b[0m - \u001b[34m\u001b[1mWrites buffered Command character b'.' to the device GX-241 II.\u001b[0m\n",
      "\u001b[32m2025-02-12 14:25:42.582\u001b[0m | \u001b[34m\u001b[1mDEBUG   \u001b[0m | \u001b[36mequip_class\u001b[0m:\u001b[36mbCommand\u001b[0m:\u001b[36m381\u001b[0m - \u001b[34m\u001b[1mStarts reading character from the device GX-241 II.\u001b[0m\n",
      "\u001b[32m2025-02-12 14:25:42.689\u001b[0m | \u001b[34m\u001b[1mDEBUG   \u001b[0m | \u001b[36mequip_class\u001b[0m:\u001b[36mbCommand\u001b[0m:\u001b[36m383\u001b[0m - \u001b[34m\u001b[1mgot back b'.' from the device GX-241 II.\u001b[0m\n",
      "\u001b[32m2025-02-12 14:25:42.689\u001b[0m | \u001b[34m\u001b[1mDEBUG   \u001b[0m | \u001b[36mequip_class\u001b[0m:\u001b[36mbCommand\u001b[0m:\u001b[36m387\u001b[0m - \u001b[34m\u001b[1mresp_raw: b'.'\u001b[0m\n",
      "\u001b[32m2025-02-12 14:25:42.690\u001b[0m | \u001b[34m\u001b[1mDEBUG   \u001b[0m | \u001b[36mequip_class\u001b[0m:\u001b[36mbCommand\u001b[0m:\u001b[36m405\u001b[0m - \u001b[34m\u001b[1mresp_raw 2: 46\u001b[0m\n",
      "\u001b[32m2025-02-12 14:25:42.691\u001b[0m | \u001b[34m\u001b[1mDEBUG   \u001b[0m | \u001b[36mequip_class\u001b[0m:\u001b[36mbCommand\u001b[0m:\u001b[36m379\u001b[0m - \u001b[34m\u001b[1mWrites buffered Command character b'5' to the device GX-241 II.\u001b[0m\n",
      "\u001b[32m2025-02-12 14:25:42.692\u001b[0m | \u001b[34m\u001b[1mDEBUG   \u001b[0m | \u001b[36mequip_class\u001b[0m:\u001b[36mbCommand\u001b[0m:\u001b[36m381\u001b[0m - \u001b[34m\u001b[1mStarts reading character from the device GX-241 II.\u001b[0m\n",
      "\u001b[32m2025-02-12 14:25:42.798\u001b[0m | \u001b[34m\u001b[1mDEBUG   \u001b[0m | \u001b[36mequip_class\u001b[0m:\u001b[36mbCommand\u001b[0m:\u001b[36m383\u001b[0m - \u001b[34m\u001b[1mgot back b'5' from the device GX-241 II.\u001b[0m\n",
      "\u001b[32m2025-02-12 14:25:42.799\u001b[0m | \u001b[34m\u001b[1mDEBUG   \u001b[0m | \u001b[36mequip_class\u001b[0m:\u001b[36mbCommand\u001b[0m:\u001b[36m387\u001b[0m - \u001b[34m\u001b[1mresp_raw: b'5'\u001b[0m\n",
      "\u001b[32m2025-02-12 14:25:42.800\u001b[0m | \u001b[34m\u001b[1mDEBUG   \u001b[0m | \u001b[36mequip_class\u001b[0m:\u001b[36mbCommand\u001b[0m:\u001b[36m405\u001b[0m - \u001b[34m\u001b[1mresp_raw 2: 53\u001b[0m\n",
      "\u001b[32m2025-02-12 14:25:42.801\u001b[0m | \u001b[34m\u001b[1mDEBUG   \u001b[0m | \u001b[36mequip_class\u001b[0m:\u001b[36mbCommand\u001b[0m:\u001b[36m379\u001b[0m - \u001b[34m\u001b[1mWrites buffered Command character b'\\r' to the device GX-241 II.\u001b[0m\n",
      "\u001b[32m2025-02-12 14:25:42.802\u001b[0m | \u001b[34m\u001b[1mDEBUG   \u001b[0m | \u001b[36mequip_class\u001b[0m:\u001b[36mbCommand\u001b[0m:\u001b[36m381\u001b[0m - \u001b[34m\u001b[1mStarts reading character from the device GX-241 II.\u001b[0m\n",
      "\u001b[32m2025-02-12 14:25:42.907\u001b[0m | \u001b[34m\u001b[1mDEBUG   \u001b[0m | \u001b[36mequip_class\u001b[0m:\u001b[36mbCommand\u001b[0m:\u001b[36m383\u001b[0m - \u001b[34m\u001b[1mgot back b'\\r' from the device GX-241 II.\u001b[0m\n",
      "\u001b[32m2025-02-12 14:25:42.908\u001b[0m | \u001b[34m\u001b[1mDEBUG   \u001b[0m | \u001b[36mequip_class\u001b[0m:\u001b[36mbCommand\u001b[0m:\u001b[36m387\u001b[0m - \u001b[34m\u001b[1mresp_raw: b'\\r'\u001b[0m\n",
      "\u001b[32m2025-02-12 14:25:42.908\u001b[0m | \u001b[34m\u001b[1mDEBUG   \u001b[0m | \u001b[36mequip_class\u001b[0m:\u001b[36mbCommand\u001b[0m:\u001b[36m405\u001b[0m - \u001b[34m\u001b[1mresp_raw 2: 13\u001b[0m\n",
      "\u001b[32m2025-02-12 14:25:42.909\u001b[0m | \u001b[34m\u001b[1mDEBUG   \u001b[0m | \u001b[36mequip_class\u001b[0m:\u001b[36mbCommand\u001b[0m:\u001b[36m420\u001b[0m - \u001b[34m\u001b[1mBuffered command complete.\u001b[0m\n",
      "\u001b[32m2025-02-12 14:25:42.910\u001b[0m | \u001b[34m\u001b[1mDEBUG   \u001b[0m | \u001b[36mequip_class\u001b[0m:\u001b[36mbCommand\u001b[0m:\u001b[36m421\u001b[0m - \u001b[34m\u001b[1mReceived bytearray(b'\\nX26.0/39.5\\r') from device.\u001b[0m\n",
      "\u001b[32m2025-02-12 14:25:42.910\u001b[0m | \u001b[1mINFO    \u001b[0m | \u001b[36mequip_class\u001b[0m:\u001b[36mbCommand\u001b[0m:\u001b[36m422\u001b[0m - \u001b[1mGSIOC >>> bytearray(b'\\nX26.0/39.5\\r')\u001b[0m\n"
     ]
    },
    {
     "data": {
      "text/plain": [
       "bytearray(b'\\nX26.0/39.5\\r')"
      ]
     },
     "execution_count": 9,
     "metadata": {},
     "output_type": "execute_result"
    }
   ],
   "source": [
    "# It works!\n",
    "thing = rack1_commands.get_xy_command(2)\n",
    "thing\n",
    "g.bCommand(thing[0])"
   ]
  },
  {
   "cell_type": "code",
   "execution_count": 9,
   "id": "6525ccc9-0677-478a-9103-e9486215a075",
   "metadata": {},
   "outputs": [],
   "source": [
    "def go_to_vial(self, vial):\n",
    "    rack1_commands.get_xy_command(2)\n",
    "    self.bCommand(thing[0])\n",
    "    log_action('test_log.txt', f\"Autosampler sent to {vial} position.\")"
   ]
  },
  {
   "cell_type": "code",
   "execution_count": 10,
   "id": "b2f80fec-1b4e-4caa-8d46-d11682d0c565",
   "metadata": {},
   "outputs": [
    {
     "ename": "NameError",
     "evalue": "name 'rack1_commands' is not defined",
     "output_type": "error",
     "traceback": [
      "\u001b[1;31m---------------------------------------------------------------------------\u001b[0m",
      "\u001b[1;31mNameError\u001b[0m                                 Traceback (most recent call last)",
      "Cell \u001b[1;32mIn[10], line 1\u001b[0m\n\u001b[1;32m----> 1\u001b[0m g\u001b[38;5;241m.\u001b[39mgo_to_vial(\u001b[38;5;241m3\u001b[39m)\n",
      "File \u001b[1;32m~\\Documents\\Platform\\equip_class.py:439\u001b[0m, in \u001b[0;36mgsioc_Protocol.go_to_vial\u001b[1;34m(self, vial)\u001b[0m\n\u001b[0;32m    438\u001b[0m \u001b[38;5;28;01mdef\u001b[39;00m \u001b[38;5;21mgo_to_vial\u001b[39m(\u001b[38;5;28mself\u001b[39m, vial):\n\u001b[1;32m--> 439\u001b[0m     rack1_commands\u001b[38;5;241m.\u001b[39mget_xy_command(\u001b[38;5;241m2\u001b[39m)\n\u001b[0;32m    440\u001b[0m     \u001b[38;5;28mself\u001b[39m\u001b[38;5;241m.\u001b[39mbCommand(thing[\u001b[38;5;241m0\u001b[39m])\n\u001b[0;32m    441\u001b[0m     log_action(\u001b[38;5;124m'\u001b[39m\u001b[38;5;124mtest_log.txt\u001b[39m\u001b[38;5;124m'\u001b[39m, \u001b[38;5;124mf\u001b[39m\u001b[38;5;124m\"\u001b[39m\u001b[38;5;124mAutosampler sent to \u001b[39m\u001b[38;5;132;01m{\u001b[39;00mvial\u001b[38;5;132;01m}\u001b[39;00m\u001b[38;5;124m position.\u001b[39m\u001b[38;5;124m\"\u001b[39m)\n",
      "\u001b[1;31mNameError\u001b[0m: name 'rack1_commands' is not defined"
     ]
    }
   ],
   "source": [
    "g.go_to_vial(3)"
   ]
  },
  {
   "cell_type": "code",
   "execution_count": 10,
   "id": "49df7c33-7676-4266-b83d-ff3fdf1093c0",
   "metadata": {},
   "outputs": [
    {
     "name": "stderr",
     "output_type": "stream",
     "text": [
      "\u001b[32m2025-02-12 14:25:52.380\u001b[0m | \u001b[34m\u001b[1mDEBUG   \u001b[0m | \u001b[36mequip_class\u001b[0m:\u001b[36mbCommand\u001b[0m:\u001b[36m331\u001b[0m - \u001b[34m\u001b[1mSending buffered command \"H\" to device.\u001b[0m\n",
      "\u001b[32m2025-02-12 14:25:52.381\u001b[0m | \u001b[1mINFO    \u001b[0m | \u001b[36mequip_class\u001b[0m:\u001b[36mbCommand\u001b[0m:\u001b[36m335\u001b[0m - \u001b[1mGSIOC <<< H\u001b[0m\n",
      "\u001b[32m2025-02-12 14:25:52.488\u001b[0m | \u001b[34m\u001b[1mDEBUG   \u001b[0m | \u001b[36mequip_class\u001b[0m:\u001b[36mbCommand\u001b[0m:\u001b[36m354\u001b[0m - \u001b[34m\u001b[1mready signal: b'\\n'\u001b[0m\n",
      "\u001b[32m2025-02-12 14:25:52.489\u001b[0m | \u001b[34m\u001b[1mDEBUG   \u001b[0m | \u001b[36mequip_class\u001b[0m:\u001b[36mbCommand\u001b[0m:\u001b[36m363\u001b[0m - \u001b[34m\u001b[1mStarting to send buffered command.\u001b[0m\n",
      "\u001b[32m2025-02-12 14:25:52.489\u001b[0m | \u001b[34m\u001b[1mDEBUG   \u001b[0m | \u001b[36mequip_class\u001b[0m:\u001b[36mbCommand\u001b[0m:\u001b[36m374\u001b[0m - \u001b[34m\u001b[1m10\u001b[0m\n",
      "\u001b[32m2025-02-12 14:25:52.490\u001b[0m | \u001b[34m\u001b[1mDEBUG   \u001b[0m | \u001b[36mequip_class\u001b[0m:\u001b[36mbCommand\u001b[0m:\u001b[36m379\u001b[0m - \u001b[34m\u001b[1mWrites buffered Command character b'H' to the device GX-241 II.\u001b[0m\n",
      "\u001b[32m2025-02-12 14:25:52.490\u001b[0m | \u001b[34m\u001b[1mDEBUG   \u001b[0m | \u001b[36mequip_class\u001b[0m:\u001b[36mbCommand\u001b[0m:\u001b[36m381\u001b[0m - \u001b[34m\u001b[1mStarts reading character from the device GX-241 II.\u001b[0m\n",
      "\u001b[32m2025-02-12 14:25:52.596\u001b[0m | \u001b[34m\u001b[1mDEBUG   \u001b[0m | \u001b[36mequip_class\u001b[0m:\u001b[36mbCommand\u001b[0m:\u001b[36m383\u001b[0m - \u001b[34m\u001b[1mgot back b'H' from the device GX-241 II.\u001b[0m\n",
      "\u001b[32m2025-02-12 14:25:52.599\u001b[0m | \u001b[34m\u001b[1mDEBUG   \u001b[0m | \u001b[36mequip_class\u001b[0m:\u001b[36mbCommand\u001b[0m:\u001b[36m387\u001b[0m - \u001b[34m\u001b[1mresp_raw: b'H'\u001b[0m\n",
      "\u001b[32m2025-02-12 14:25:52.611\u001b[0m | \u001b[34m\u001b[1mDEBUG   \u001b[0m | \u001b[36mequip_class\u001b[0m:\u001b[36mbCommand\u001b[0m:\u001b[36m405\u001b[0m - \u001b[34m\u001b[1mresp_raw 2: 72\u001b[0m\n",
      "\u001b[32m2025-02-12 14:25:52.621\u001b[0m | \u001b[34m\u001b[1mDEBUG   \u001b[0m | \u001b[36mequip_class\u001b[0m:\u001b[36mbCommand\u001b[0m:\u001b[36m379\u001b[0m - \u001b[34m\u001b[1mWrites buffered Command character b'\\r' to the device GX-241 II.\u001b[0m\n",
      "\u001b[32m2025-02-12 14:25:52.624\u001b[0m | \u001b[34m\u001b[1mDEBUG   \u001b[0m | \u001b[36mequip_class\u001b[0m:\u001b[36mbCommand\u001b[0m:\u001b[36m381\u001b[0m - \u001b[34m\u001b[1mStarts reading character from the device GX-241 II.\u001b[0m\n",
      "\u001b[32m2025-02-12 14:25:52.737\u001b[0m | \u001b[34m\u001b[1mDEBUG   \u001b[0m | \u001b[36mequip_class\u001b[0m:\u001b[36mbCommand\u001b[0m:\u001b[36m383\u001b[0m - \u001b[34m\u001b[1mgot back b'\\r' from the device GX-241 II.\u001b[0m\n",
      "\u001b[32m2025-02-12 14:25:52.739\u001b[0m | \u001b[34m\u001b[1mDEBUG   \u001b[0m | \u001b[36mequip_class\u001b[0m:\u001b[36mbCommand\u001b[0m:\u001b[36m387\u001b[0m - \u001b[34m\u001b[1mresp_raw: b'\\r'\u001b[0m\n",
      "\u001b[32m2025-02-12 14:25:52.741\u001b[0m | \u001b[34m\u001b[1mDEBUG   \u001b[0m | \u001b[36mequip_class\u001b[0m:\u001b[36mbCommand\u001b[0m:\u001b[36m405\u001b[0m - \u001b[34m\u001b[1mresp_raw 2: 13\u001b[0m\n",
      "\u001b[32m2025-02-12 14:25:52.744\u001b[0m | \u001b[34m\u001b[1mDEBUG   \u001b[0m | \u001b[36mequip_class\u001b[0m:\u001b[36mbCommand\u001b[0m:\u001b[36m420\u001b[0m - \u001b[34m\u001b[1mBuffered command complete.\u001b[0m\n",
      "\u001b[32m2025-02-12 14:25:52.746\u001b[0m | \u001b[34m\u001b[1mDEBUG   \u001b[0m | \u001b[36mequip_class\u001b[0m:\u001b[36mbCommand\u001b[0m:\u001b[36m421\u001b[0m - \u001b[34m\u001b[1mReceived bytearray(b'\\nH\\r') from device.\u001b[0m\n",
      "\u001b[32m2025-02-12 14:25:52.749\u001b[0m | \u001b[1mINFO    \u001b[0m | \u001b[36mequip_class\u001b[0m:\u001b[36mbCommand\u001b[0m:\u001b[36m422\u001b[0m - \u001b[1mGSIOC >>> bytearray(b'\\nH\\r')\u001b[0m\n"
     ]
    },
    {
     "data": {
      "text/plain": [
       "bytearray(b'\\nH\\r')"
      ]
     },
     "execution_count": 10,
     "metadata": {},
     "output_type": "execute_result"
    }
   ],
   "source": [
    "g.bCommand('H')"
   ]
  },
  {
   "cell_type": "markdown",
   "id": "f0a41a3e-5dd5-4dca-a40a-79a05b4f383c",
   "metadata": {},
   "source": [
    "## With syr pump"
   ]
  },
  {
   "cell_type": "code",
   "execution_count": 14,
   "id": "20c4cf87-6263-4605-84ef-71bd5b651505",
   "metadata": {},
   "outputs": [],
   "source": [
    "#Defining ser\n",
    "ser_1 = serial.Serial()"
   ]
  },
  {
   "cell_type": "code",
   "execution_count": 15,
   "id": "7f65084f-312f-4a5d-982a-6fa4a992839a",
   "metadata": {},
   "outputs": [],
   "source": [
    "# Create an instance of the gsioc_Protocol class\n",
    "pump = SyrPump(ser_1, 'K100 V01.30', 1)"
   ]
  },
  {
   "cell_type": "code",
   "execution_count": 16,
   "id": "cc50680f-a1a2-4011-99c6-81902a30d191",
   "metadata": {},
   "outputs": [
    {
     "name": "stdout",
     "output_type": "stream",
     "text": [
      "Device is connected\n"
     ]
    }
   ],
   "source": [
    "#Connecting to pump\n",
    "pump.connect()"
   ]
  },
  {
   "cell_type": "code",
   "execution_count": 17,
   "id": "fbf533a2-fff5-496b-9637-7b93e15b6610",
   "metadata": {},
   "outputs": [
    {
     "data": {
      "text/plain": [
       "''"
      ]
     },
     "execution_count": 17,
     "metadata": {},
     "output_type": "execute_result"
    }
   ],
   "source": [
    "#clearing recorded volumes\n",
    "pump.command('cvolume')\n",
    "pump.command('ctvolume')"
   ]
  },
  {
   "cell_type": "code",
   "execution_count": 18,
   "id": "6b26b5a6-9160-4f22-ac6e-cdd5f0886e00",
   "metadata": {},
   "outputs": [
    {
     "data": {
      "text/plain": [
       "''"
      ]
     },
     "execution_count": 18,
     "metadata": {},
     "output_type": "execute_result"
    }
   ],
   "source": [
    "#setting target vol\n",
    "pump.command('tvolume 1 ml')"
   ]
  },
  {
   "cell_type": "code",
   "execution_count": null,
   "id": "24578eb6-8a63-4e04-bd51-476a9bc754b3",
   "metadata": {},
   "outputs": [],
   "source": [
    "# It works!\n",
    "thing = rack1_commands.get_xy_command(1)\n",
    "thing\n",
    "g.bCommand(thing[0])"
   ]
  },
  {
   "cell_type": "code",
   "execution_count": null,
   "id": "dd6e77c3-3b74-494d-9d87-2c3a65a583db",
   "metadata": {},
   "outputs": [],
   "source": [
    "g.bCommand('Z85')"
   ]
  },
  {
   "cell_type": "code",
   "execution_count": 19,
   "id": "db0ace26-3bd3-448c-bc1a-5bda2fd824a8",
   "metadata": {},
   "outputs": [
    {
     "data": {
      "text/plain": [
       "''"
      ]
     },
     "execution_count": 19,
     "metadata": {},
     "output_type": "execute_result"
    }
   ],
   "source": [
    "pump.command('wrate 1 ml/min')\n",
    "pump.command('wran')"
   ]
  },
  {
   "cell_type": "code",
   "execution_count": null,
   "id": "2637dc69-0416-4c64-85df-031f7d66b61f",
   "metadata": {},
   "outputs": [],
   "source": [
    "# It works!\n",
    "thing = rack1_commands.get_xy_command(2)\n",
    "thing\n",
    "g.bCommand(thing[0])"
   ]
  },
  {
   "cell_type": "code",
   "execution_count": null,
   "id": "6c387673-63e0-4a92-9bb5-c3915ddaadd3",
   "metadata": {},
   "outputs": [],
   "source": [
    "g.bCommand('Z85')\n",
    "sleep(5)"
   ]
  },
  {
   "cell_type": "code",
   "execution_count": 20,
   "id": "4341fb3d-1d92-4d21-bed4-2418fdc30b24",
   "metadata": {},
   "outputs": [
    {
     "data": {
      "text/plain": [
       "''"
      ]
     },
     "execution_count": 20,
     "metadata": {},
     "output_type": "execute_result"
    }
   ],
   "source": [
    "pump.command('irate 1 ml/min')\n",
    "pump.command('irun')"
   ]
  },
  {
   "cell_type": "code",
   "execution_count": null,
   "id": "d73f5d55-922c-4662-aaa0-482b7ec054cf",
   "metadata": {},
   "outputs": [],
   "source": [
    "g.bCommand('H')"
   ]
  },
  {
   "cell_type": "code",
   "execution_count": null,
   "id": "5e050a27-fc04-4172-ab57-8f6c2d1598e3",
   "metadata": {},
   "outputs": [],
   "source": []
  },
  {
   "cell_type": "markdown",
   "id": "4fc98a09-2d8c-45ef-a73f-22efa90d99f2",
   "metadata": {
    "jp-MarkdownHeadingCollapsed": true
   },
   "source": [
    "## SPKA code - to put in a function"
   ]
  },
  {
   "cell_type": "code",
   "execution_count": null,
   "id": "a3f0644e-9932-4a31-947f-4cb603135ddb",
   "metadata": {},
   "outputs": [],
   "source": [
    "# Define kinetic screen\n",
    "no_sub_A = 1      # First Column\n",
    "no_sub_B = 0      # Second Column\n",
    "no_cat = 0        # Third Column\n",
    "no_add = 0        # Fourth Column\n",
    "\n",
    "# Create lists for each\n",
    "sub_A_list = [1 + 4 * i for i in range(no_sub_A)]\n",
    "sub_B_list = [2 + 4 * i for i in range(no_sub_B)] if no_sub_B > 0 else []\n",
    "cat_list = [3 + 4 * i for i in range(no_cat)] if no_cat > 0 else []\n",
    "add_list = [4 + 4 * i for i in range(no_add)] if no_add > 0 else []\n",
    "\n",
    "#print(sub_A_array, sub_B_array, cat_array)"
   ]
  },
  {
   "cell_type": "code",
   "execution_count": null,
   "id": "481ec238-41cd-48d4-afce-26f30b23cd6a",
   "metadata": {},
   "outputs": [],
   "source": [
    "# Generate all possible combinations\n",
    "all_combinations = list(itertools.product(sub_A_list, sub_B_list, cat_list, add_list))\n",
    "\n",
    "# Reorder combinations so that all combinations with the same elements\n",
    "# in sub_B_array and cat_array are grouped together\n",
    "spka_combinations = []\n",
    "\n",
    "# Iterate through all unique combinations of sub_B_array and cat_array\n",
    "# This will go through all sub_A first, then sub_B, then cat\n",
    "for a in sub_A_list:\n",
    "    if sub_B_list:\n",
    "        for b in sub_B_list:\n",
    "            if cat_list:  # Check if cat_list is not empty\n",
    "                for c in cat_list:\n",
    "                    if add_list:  # Only include d if add_list is not empty\n",
    "                        for d in add_list:\n",
    "                            spka_combinations.append((a, b, c, d))\n",
    "                    else:\n",
    "                        spka_combinations.append((a, b, c))  # Append without d\n",
    "            else:  # If cat_list is empty\n",
    "                if add_list:\n",
    "                    for d in add_list:\n",
    "                        spka_combinations.append((a, b, d))  # Append without c\n",
    "                else:\n",
    "                    spka_combinations.append((a, b))  # Append only a and b\n",
    "    else:  # If sub_B_list is empty\n",
    "        if cat_list:\n",
    "            for c in cat_list:\n",
    "                if add_list:\n",
    "                    for d in add_list:\n",
    "                        spka_combinations.append((a, c, d))  # Append without b\n",
    "                else:\n",
    "                    spka_combinations.append((a, c))  # Append only a and c\n",
    "        else:  # If both sub_B_list and cat_list are empty\n",
    "            if add_list:\n",
    "                for d in add_list:\n",
    "                    spka_combinations.append((a, d))  # Append only a and d\n",
    "            else:\n",
    "                spka_combinations.append((a,))  # Append only a\n",
    "\n",
    "# Display the combinations\n",
    "spka_combinations"
   ]
  },
  {
   "cell_type": "code",
   "execution_count": null,
   "id": "2b4c872e-9362-4ed0-9492-0abb68ac4a55",
   "metadata": {},
   "outputs": [],
   "source": [
    "# Iterate over each tuple in the list (each separate kinetic profile)\n",
    "for tuple in spka_combinations:\n",
    "    \n",
    "    # Iterate over each number in the tuple (each reagent in an experiment)\n",
    "    for element in tuple:\n",
    "        \n",
    "        # Find the xy position of the vial        \n",
    "        vial_xy_pos = rack1_commands.get_xy_command(element)\n",
    "        \n",
    "        ##### TO DO #####\n",
    "        \n",
    "        # Display vial number - must be a two digit integer\n",
    "        g.bCommand(f\"W{element:02}\")\n",
    "        \n",
    "        # Go to Vial\n",
    "        g.bCommand(vial_xy_pos[0])\n",
    "        log_action('test_log.txt', f\"Autosampler sent to position {element:02}\")\n",
    "        \n",
    "        # Needle Down - define this distance somewhere above!\n",
    "        g.bCommand('Z85')\n",
    "\n",
    "        # Run the pump\n",
    "        # This will be a while away...\n",
    "        # How to make the autosampler idle while this is happening?\n",
    "\n",
    "        # Needle Up\n",
    "        g.bCommand('Z120')\n",
    "\n",
    "        # Log the vial and the amount taken\n",
    "        # Add a logger...\n",
    "        print(vial_xy_pos)\n",
    "\n",
    "        # Create air gap\n",
    "        # Create a tiny airgap with the pump, will this be necessary?\n",
    "        \n",
    "    # Go to the DIM and inject\n",
    "    g_inject()\n",
    "    log_action('test_log.txt', \"Autosampler sent to DIM to inject\")\n",
    "    \n",
    "    # Blank the display\n",
    "    g.bCommand('WBB')\n",
    "\n",
    "g.bCommand('H')"
   ]
  }
 ],
 "metadata": {
  "kernelspec": {
   "display_name": "Python 3 (ipykernel)",
   "language": "python",
   "name": "python3"
  },
  "language_info": {
   "codemirror_mode": {
    "name": "ipython",
    "version": 3
   },
   "file_extension": ".py",
   "mimetype": "text/x-python",
   "name": "python",
   "nbconvert_exporter": "python",
   "pygments_lexer": "ipython3",
   "version": "3.11.7"
  }
 },
 "nbformat": 4,
 "nbformat_minor": 5
}
